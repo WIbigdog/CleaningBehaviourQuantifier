{
 "cells": [
  {
   "cell_type": "code",
   "execution_count": 14,
   "id": "59430a19",
   "metadata": {},
   "outputs": [],
   "source": [
    "import numpy as np\n",
    "import pandas as pd\n",
    "import matplotlib.pyplot as plt\n",
    "import os\n",
    "\n",
    "from sklearn.model_selection import train_test_split, GridSearchCV\n",
    "from sklearn.svm import SVC\n",
    "from sklearn.metrics import accuracy_score, confusion_matrix\n",
    "from sklearn.ensemble import RandomForestClassifier\n",
    "from sklearn.impute import SimpleImputer, KNNImputer\n",
    "from sklearn.preprocessing import StandardScaler, LabelEncoder\n",
    "from sklearn.pipeline import Pipeline\n",
    "from sklearn.linear_model import Lasso"
   ]
  },
  {
   "cell_type": "code",
   "execution_count": 15,
   "id": "cd793c6d",
   "metadata": {
    "scrolled": true
   },
   "outputs": [
    {
     "name": "stderr",
     "output_type": "stream",
     "text": [
      "C:\\Users\\raulo\\AppData\\Local\\Temp\\ipykernel_14676\\3994089058.py:17: DtypeWarning: Columns (0,1,2,3,4,5,6,7,8,9,10,11,12,13,14,15,16,17,18,19,20,21,22,23,24,25,26,27,28,29,30,31,32,33,34,35,36,37,38,39,40,41,42) have mixed types. Specify dtype option on import or set low_memory=False.\n",
      "  df = pd.read_csv(file_path, header = 2)\n",
      "C:\\Users\\raulo\\AppData\\Local\\Temp\\ipykernel_14676\\3994089058.py:17: DtypeWarning: Columns (0,1,2,3,4,5,6,7,8,9,10,11,12,13,14,15,16,17,18,19,20,21,22,23,24,25,26,27,28,29,30,31,32,33,34,35,36,37,38,39,40,41,42) have mixed types. Specify dtype option on import or set low_memory=False.\n",
      "  df = pd.read_csv(file_path, header = 2)\n",
      "C:\\Users\\raulo\\AppData\\Local\\Temp\\ipykernel_14676\\3994089058.py:17: DtypeWarning: Columns (0,1,2,3,4,5,6,7,8,9,10,11,12,13,14,15,16,17,18,19,20,21,22,23,24,25,26,27,28,29,30,31,32,33,34,35,36,37,38,39,40,41,42) have mixed types. Specify dtype option on import or set low_memory=False.\n",
      "  df = pd.read_csv(file_path, header = 2)\n",
      "C:\\Users\\raulo\\AppData\\Local\\Temp\\ipykernel_14676\\3994089058.py:17: DtypeWarning: Columns (0,1,2,3,4,5,6,7,8,9,10,11,12,13,14,15,16,17,18,19,20,21,22,23,24,25,26,27,28,29,30,31,32,33,34,35,36,37,38,39,40,41,42) have mixed types. Specify dtype option on import or set low_memory=False.\n",
      "  df = pd.read_csv(file_path, header = 2)\n",
      "C:\\Users\\raulo\\AppData\\Local\\Temp\\ipykernel_14676\\3994089058.py:17: DtypeWarning: Columns (0,1,2,3,4,5,6,7,8,9,10,11,12,13,14,15,16,17,18,19,20,21,22,23,24,25,26,27,28,29,30,31,32,33,34,35,36,37,38,39,40,41,42) have mixed types. Specify dtype option on import or set low_memory=False.\n",
      "  df = pd.read_csv(file_path, header = 2)\n",
      "C:\\Users\\raulo\\AppData\\Local\\Temp\\ipykernel_14676\\3994089058.py:17: DtypeWarning: Columns (0,1,2,3,4,5,6,7,8,9,10,11,12,13,14,15,16,17,18,19,20,21,22,23,24,25,26,27,28,29,30,31,32,33,34,35,36,37,38,39,40,41,42) have mixed types. Specify dtype option on import or set low_memory=False.\n",
      "  df = pd.read_csv(file_path, header = 2)\n",
      "C:\\Users\\raulo\\AppData\\Local\\Temp\\ipykernel_14676\\3994089058.py:17: DtypeWarning: Columns (0,1,2,3,4,5,6,7,8,9,10,11,12,13,14,15,16,17,18,19,20,21,22,23,24,25,26,27,28,29,30,31,32,33,34,35,36,37,38,39,40,41,42) have mixed types. Specify dtype option on import or set low_memory=False.\n",
      "  df = pd.read_csv(file_path, header = 2)\n",
      "C:\\Users\\raulo\\AppData\\Local\\Temp\\ipykernel_14676\\3994089058.py:17: DtypeWarning: Columns (0,1,2,3,4,5,6,7,8,9,10,11,12,13,14,15,16,17,18,19,20,21,22,23,24,25,26,27,28,29,30,31,32,33,34,35,36,37,38,39,40,41,42) have mixed types. Specify dtype option on import or set low_memory=False.\n",
      "  df = pd.read_csv(file_path, header = 2)\n",
      "C:\\Users\\raulo\\AppData\\Local\\Temp\\ipykernel_14676\\3994089058.py:17: DtypeWarning: Columns (0,1,2,3,4,5,6,7,8,9,10,11,12,13,14,15,16,17,18,19,20,21,22,23,24,25,26,27,28,29,30,31,32,33,34,35,36,37,38,39,40,41,42) have mixed types. Specify dtype option on import or set low_memory=False.\n",
      "  df = pd.read_csv(file_path, header = 2)\n",
      "C:\\Users\\raulo\\AppData\\Local\\Temp\\ipykernel_14676\\3994089058.py:17: DtypeWarning: Columns (0,1,2,3,4,5,6,7,8,9,10,11,12,13,14,15,16,17,18,19,20,21,22,23,24,25,26,27,28,29,30,31,32,33,34,35,36,37,38,39,40,41,42) have mixed types. Specify dtype option on import or set low_memory=False.\n",
      "  df = pd.read_csv(file_path, header = 2)\n",
      "C:\\Users\\raulo\\AppData\\Local\\Temp\\ipykernel_14676\\3994089058.py:17: DtypeWarning: Columns (0,1,2,3,4,5,6,7,8,9,10,11,12,13,14,15,16,17,18,19,20,21,22,23,24,25,26,27,28,29,30,31,32,33,34,35,36,37,38,39,40,41,42) have mixed types. Specify dtype option on import or set low_memory=False.\n",
      "  df = pd.read_csv(file_path, header = 2)\n",
      "C:\\Users\\raulo\\AppData\\Local\\Temp\\ipykernel_14676\\3994089058.py:17: DtypeWarning: Columns (0,1,2,3,4,5,6,7,8,9,10,11,12,13,14,15,16,17,18,19,20,21,22,23,24,25,26,27,28,29,30,31,32,33,34,35,36,37,38,39,40,41,42) have mixed types. Specify dtype option on import or set low_memory=False.\n",
      "  df = pd.read_csv(file_path, header = 2)\n",
      "C:\\Users\\raulo\\AppData\\Local\\Temp\\ipykernel_14676\\3994089058.py:17: DtypeWarning: Columns (0,1,2,3,4,5,6,7,8,9,10,11,12,13,14,15,16,17,18,19,20,21,22,23,24,25,26,27,28,29,30,31,32,33,34,35,36,37,38,39,40,41,42) have mixed types. Specify dtype option on import or set low_memory=False.\n",
      "  df = pd.read_csv(file_path, header = 2)\n",
      "C:\\Users\\raulo\\AppData\\Local\\Temp\\ipykernel_14676\\3994089058.py:17: DtypeWarning: Columns (0,1,2,3,4,5,6,7,8,9,10,11,12,13,14,15,16,17,18,19,20,21,22,23,24,25,26,27,28,29,30,31,32,33,34,35,36,37,38,39,40,41,42) have mixed types. Specify dtype option on import or set low_memory=False.\n",
      "  df = pd.read_csv(file_path, header = 2)\n",
      "C:\\Users\\raulo\\AppData\\Local\\Temp\\ipykernel_14676\\3994089058.py:17: DtypeWarning: Columns (0,1,2,3,4,5,6,7,8,9,10,11,12,13,14,15,16,17,18,19,20,21,22,23,24,25,26,27,28,29,30,31,32,33,34,35,36,37,38,39,40,41,42) have mixed types. Specify dtype option on import or set low_memory=False.\n",
      "  df = pd.read_csv(file_path, header = 2)\n"
     ]
    }
   ],
   "source": [
    "imputer_knn = KNNImputer(n_neighbors=5, weights='uniform')\n",
    "\n",
    "# Directory path where the CSV files are located\n",
    "directory = r'C:\\Users\\raulo\\Desktop\\CódigoTese\\tracks'\n",
    "\n",
    "# List to store the individual DataFrames\n",
    "dfs = []\n",
    "\n",
    "# Get the list of file names in alphabetical order\n",
    "file_names = sorted(os.listdir(directory))\n",
    "\n",
    "# Iterate over the files in the directory\n",
    "for filename in file_names:\n",
    "    if filename.endswith('.csv'):\n",
    "        file_path = os.path.join(directory, filename)\n",
    "        #print(file_path)\n",
    "        df = pd.read_csv(file_path, header = 2)\n",
    "        df = df.drop(0)\n",
    "        df.index = df.index -1    #Set the index rigth\n",
    "        df = df.drop(columns='bodyparts')\n",
    "        df_imputed_np= imputer_knn.fit_transform(df)\n",
    "        df_imputed_final = pd.DataFrame(df_imputed_np, columns=df.columns)\n",
    "        \n",
    "        dfs.append(df_imputed_final)\n"
   ]
  },
  {
   "cell_type": "code",
   "execution_count": 16,
   "id": "ca9c7f84",
   "metadata": {},
   "outputs": [],
   "source": [
    "# Directory path where the CSV files are located\n",
    "directory = r'C:\\Users\\raulo\\Desktop\\CódigoTese\\Labels'\n",
    "\n",
    "# List to store the individual DataFrames\n",
    "dfs_labels = []\n",
    "\n",
    "# Get the list of file names in alphabetical order\n",
    "file_names = sorted(os.listdir(directory))\n",
    "\n",
    "# Iterate over the files in the directory\n",
    "for filename in file_names:\n",
    "    if filename.endswith('.csv'):\n",
    "        file_path = os.path.join(directory, filename)\n",
    "        df = pd.read_csv(file_path)\n",
    "        df = df.drop(columns='Unnamed: 0')\n",
    "        #print(file_path)\n",
    "        dfs_labels.append(df)"
   ]
  },
  {
   "cell_type": "code",
   "execution_count": 17,
   "id": "74f437d8",
   "metadata": {},
   "outputs": [],
   "source": [
    "#dfs_labels[0]"
   ]
  },
  {
   "cell_type": "code",
   "execution_count": 18,
   "id": "eb3b431c",
   "metadata": {},
   "outputs": [],
   "source": [
    "dfs_labels_single = []\n",
    "for df in dfs_labels:\n",
    "    # Convert DataFrame into a single-column DataFrame\n",
    "    single_column_df = pd.DataFrame(df.idxmax(axis=1), columns=['Interaction'])\n",
    "    dfs_labels_single.append(single_column_df)"
   ]
  },
  {
   "cell_type": "code",
   "execution_count": 19,
   "id": "9d736d57",
   "metadata": {
    "scrolled": true
   },
   "outputs": [],
   "source": [
    "# Create a list to store the labeled DataFrames\n",
    "labeled_dfs = []\n",
    "\n",
    "# Iterate over the DataFrames\n",
    "for i in range(len(dfs)):\n",
    "    # Add the labels DataFrame in front of each DataFrame\n",
    "    labeled_df = pd.concat([dfs_labels_single[i], dfs[i]], axis=1)\n",
    "    labeled_dfs.append(labeled_df)\n",
    "\n",
    "# Concatenate the labeled DataFrames vertically\n",
    "merged_df = pd.concat(labeled_dfs, ignore_index=True)\n",
    "\n",
    "# Print the merged DataFrame\n",
    "#print(merged_df)"
   ]
  },
  {
   "cell_type": "code",
   "execution_count": 20,
   "id": "62db6cc9",
   "metadata": {
    "scrolled": true
   },
   "outputs": [
    {
     "name": "stdout",
     "output_type": "stream",
     "text": [
      "background     594156\n",
      "Int_Client       5524\n",
      "TS               1474\n",
      "Int_Cleaner       955\n",
      "Jolt              490\n",
      "Run               145\n",
      "Name: Interaction, dtype: int64\n"
     ]
    }
   ],
   "source": [
    "interaction_counts = merged_df['Interaction'].value_counts()\n",
    "print(interaction_counts)"
   ]
  }
 ],
 "metadata": {
  "kernelspec": {
   "display_name": "Python 3 (ipykernel)",
   "language": "python",
   "name": "python3"
  },
  "language_info": {
   "codemirror_mode": {
    "name": "ipython",
    "version": 3
   },
   "file_extension": ".py",
   "mimetype": "text/x-python",
   "name": "python",
   "nbconvert_exporter": "python",
   "pygments_lexer": "ipython3",
   "version": "3.9.12"
  }
 },
 "nbformat": 4,
 "nbformat_minor": 5
}
