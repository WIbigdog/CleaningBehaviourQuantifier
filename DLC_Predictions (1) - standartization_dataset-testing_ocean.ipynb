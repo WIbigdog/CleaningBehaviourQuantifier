{
 "cells": [
  {
   "cell_type": "code",
   "execution_count": 1,
   "id": "59430a19",
   "metadata": {},
   "outputs": [],
   "source": [
    "import numpy as np\n",
    "import pandas as pd\n",
    "import matplotlib.pyplot as plt\n",
    "import os\n",
    "\n",
    "from sklearn.model_selection import train_test_split, GridSearchCV, cross_val_score\n",
    "from sklearn.svm import SVC\n",
    "from sklearn.metrics import accuracy_score, confusion_matrix\n",
    "from sklearn.ensemble import RandomForestClassifier\n",
    "from sklearn.impute import SimpleImputer, KNNImputer\n",
    "from sklearn.preprocessing import StandardScaler, LabelEncoder\n",
    "from sklearn.pipeline import Pipeline\n",
    "from sklearn.linear_model import Lasso\n",
    "from sklearn.feature_selection import SelectFromModel"
   ]
  },
  {
   "cell_type": "code",
   "execution_count": 2,
   "id": "cd793c6d",
   "metadata": {
    "scrolled": true
   },
   "outputs": [
    {
     "name": "stderr",
     "output_type": "stream",
     "text": [
      "C:\\Users\\raulo\\AppData\\Local\\Temp\\ipykernel_1752\\821610458.py:15: DtypeWarning: Columns (0,1,2,3,4,5,6,7,8,9,10,11,12,13,14,15,16,17,18,19,20,21,22,23,24,25,26,27,28,29,30,31,32,33,34,35,36,37,38,39,40,41,42) have mixed types. Specify dtype option on import or set low_memory=False.\n",
      "  df = pd.read_csv(file_path, header = 2)\n",
      "C:\\Users\\raulo\\AppData\\Local\\Temp\\ipykernel_1752\\821610458.py:15: DtypeWarning: Columns (0,1,2,3,4,5,6,7,8,9,10,11,12,13,14,15,16,17,18,19,20,21,22,23,24,25,26,27,28,29,30,31,32,33,34,35,36,37,38,39,40,41,42) have mixed types. Specify dtype option on import or set low_memory=False.\n",
      "  df = pd.read_csv(file_path, header = 2)\n",
      "C:\\Users\\raulo\\AppData\\Local\\Temp\\ipykernel_1752\\821610458.py:15: DtypeWarning: Columns (0,1,2,3,4,5,6,7,8,9,10,11,12,13,14,15,16,17,18,19,20,21,22,23,24,25,26,27,28,29,30,31,32,33,34,35,36,37,38,39,40,41,42) have mixed types. Specify dtype option on import or set low_memory=False.\n",
      "  df = pd.read_csv(file_path, header = 2)\n",
      "C:\\Users\\raulo\\AppData\\Local\\Temp\\ipykernel_1752\\821610458.py:15: DtypeWarning: Columns (0,1,2,3,4,5,6,7,8,9,10,11,12,13,14,15,16,17,18,19,20,21,22,23,24,25,26,27,28,29,30,31,32,33,34,35,36,37,38,39,40,41,42) have mixed types. Specify dtype option on import or set low_memory=False.\n",
      "  df = pd.read_csv(file_path, header = 2)\n",
      "C:\\Users\\raulo\\AppData\\Local\\Temp\\ipykernel_1752\\821610458.py:15: DtypeWarning: Columns (0,1,2,3,4,5,6,7,8,9,10,11,12,13,14,15,16,17,18,19,20,21,22,23,24,25,26,27,28,29,30,31,32,33,34,35,36,37,38,39,40,41,42) have mixed types. Specify dtype option on import or set low_memory=False.\n",
      "  df = pd.read_csv(file_path, header = 2)\n",
      "C:\\Users\\raulo\\AppData\\Local\\Temp\\ipykernel_1752\\821610458.py:15: DtypeWarning: Columns (0,1,2,3,4,5,6,7,8,9,10,11,12,13,14,15,16,17,18,19,20,21,22,23,24,25,26,27,28,29,30,31,32,33,34,35,36,37,38,39,40,41,42) have mixed types. Specify dtype option on import or set low_memory=False.\n",
      "  df = pd.read_csv(file_path, header = 2)\n",
      "C:\\Users\\raulo\\AppData\\Local\\Temp\\ipykernel_1752\\821610458.py:15: DtypeWarning: Columns (0,1,2,3,4,5,6,7,8,9,10,11,12,13,14,15,16,17,18,19,20,21,22,23,24,25,26,27,28,29,30,31,32,33,34,35,36,37,38,39,40,41,42) have mixed types. Specify dtype option on import or set low_memory=False.\n",
      "  df = pd.read_csv(file_path, header = 2)\n",
      "C:\\Users\\raulo\\AppData\\Local\\Temp\\ipykernel_1752\\821610458.py:15: DtypeWarning: Columns (0,1,2,3,4,5,6,7,8,9,10,11,12,13,14,15,16,17,18,19,20,21,22,23,24,25,26,27,28,29,30,31,32,33,34,35,36,37,38,39,40,41,42) have mixed types. Specify dtype option on import or set low_memory=False.\n",
      "  df = pd.read_csv(file_path, header = 2)\n",
      "C:\\Users\\raulo\\AppData\\Local\\Temp\\ipykernel_1752\\821610458.py:15: DtypeWarning: Columns (0,1,2,3,4,5,6,7,8,9,10,11,12,13,14,15,16,17,18,19,20,21,22,23,24,25,26,27,28,29,30,31,32,33,34,35,36,37,38,39,40,41,42) have mixed types. Specify dtype option on import or set low_memory=False.\n",
      "  df = pd.read_csv(file_path, header = 2)\n",
      "C:\\Users\\raulo\\AppData\\Local\\Temp\\ipykernel_1752\\821610458.py:15: DtypeWarning: Columns (0,1,2,3,4,5,6,7,8,9,10,11,12,13,14,15,16,17,18,19,20,21,22,23,24,25,26,27,28,29,30,31,32,33,34,35,36,37,38,39,40,41,42) have mixed types. Specify dtype option on import or set low_memory=False.\n",
      "  df = pd.read_csv(file_path, header = 2)\n",
      "C:\\Users\\raulo\\AppData\\Local\\Temp\\ipykernel_1752\\821610458.py:15: DtypeWarning: Columns (0,1,2,3,4,5,6,7,8,9,10,11,12,13,14,15,16,17,18,19,20,21,22,23,24,25,26,27,28,29,30,31,32,33,34,35,36,37,38,39,40,41,42) have mixed types. Specify dtype option on import or set low_memory=False.\n",
      "  df = pd.read_csv(file_path, header = 2)\n",
      "C:\\Users\\raulo\\AppData\\Local\\Temp\\ipykernel_1752\\821610458.py:15: DtypeWarning: Columns (0,1,2,3,4,5,6,7,8,9,10,11,12,13,14,15,16,17,18,19,20,21,22,23,24,25,26,27,28,29,30,31,32,33,34,35,36,37,38,39,40,41,42) have mixed types. Specify dtype option on import or set low_memory=False.\n",
      "  df = pd.read_csv(file_path, header = 2)\n",
      "C:\\Users\\raulo\\AppData\\Local\\Temp\\ipykernel_1752\\821610458.py:15: DtypeWarning: Columns (0,1,2,3,4,5,6,7,8,9,10,11,12,13,14,15,16,17,18,19,20,21,22,23,24,25,26,27,28,29,30,31,32,33,34,35,36,37,38,39,40,41,42) have mixed types. Specify dtype option on import or set low_memory=False.\n",
      "  df = pd.read_csv(file_path, header = 2)\n",
      "C:\\Users\\raulo\\AppData\\Local\\Temp\\ipykernel_1752\\821610458.py:15: DtypeWarning: Columns (0,1,2,3,4,5,6,7,8,9,10,11,12,13,14,15,16,17,18,19,20,21,22,23,24,25,26,27,28,29,30,31,32,33,34,35,36,37,38,39,40,41,42) have mixed types. Specify dtype option on import or set low_memory=False.\n",
      "  df = pd.read_csv(file_path, header = 2)\n",
      "C:\\Users\\raulo\\AppData\\Local\\Temp\\ipykernel_1752\\821610458.py:15: DtypeWarning: Columns (0,1,2,3,4,5,6,7,8,9,10,11,12,13,14,15,16,17,18,19,20,21,22,23,24,25,26,27,28,29,30,31,32,33,34,35,36,37,38,39,40,41,42) have mixed types. Specify dtype option on import or set low_memory=False.\n",
      "  df = pd.read_csv(file_path, header = 2)\n"
     ]
    }
   ],
   "source": [
    "# Directory path where the CSV files are located\n",
    "directory = r'C:\\Users\\raulo\\Desktop\\CódigoTese\\tracks'\n",
    "\n",
    "# List to store the individual DataFrames\n",
    "dfs = []\n",
    "\n",
    "# Get the list of file names in alphabetical order\n",
    "file_names = sorted(os.listdir(directory))\n",
    "\n",
    "# Iterate over the files in the directory\n",
    "for filename in file_names:\n",
    "    if filename.endswith('.csv'):\n",
    "        file_path = os.path.join(directory, filename)\n",
    "        #print(file_path)\n",
    "        df = pd.read_csv(file_path, header = 2)\n",
    "        df = df.drop(0)\n",
    "        df.index = df.index -1    #Set the index rigth\n",
    "        df = df.drop(columns='bodyparts')\n",
    "        dfs.append(df)\n"
   ]
  },
  {
   "cell_type": "code",
   "execution_count": 3,
   "id": "ca9c7f84",
   "metadata": {},
   "outputs": [],
   "source": [
    "# Directory path where the CSV files are located\n",
    "directory = r'C:\\Users\\raulo\\Desktop\\CódigoTese\\Labels'\n",
    "\n",
    "# List to store the individual DataFrames\n",
    "dfs_labels = []\n",
    "\n",
    "# Get the list of file names in alphabetical order\n",
    "file_names = sorted(os.listdir(directory))\n",
    "\n",
    "# Iterate over the files in the directory\n",
    "for filename in file_names:\n",
    "    if filename.endswith('.csv'):\n",
    "        file_path = os.path.join(directory, filename)\n",
    "        df = pd.read_csv(file_path)\n",
    "        df = df.drop(columns='Unnamed: 0')\n",
    "        #print(file_path)\n",
    "        dfs_labels.append(df)"
   ]
  },
  {
   "cell_type": "code",
   "execution_count": 4,
   "id": "eb3b431c",
   "metadata": {},
   "outputs": [],
   "source": [
    "dfs_labels_single = []\n",
    "for df in dfs_labels:\n",
    "    # Convert DataFrame into a single-column DataFrame\n",
    "    single_column_df = pd.DataFrame(df.idxmax(axis=1), columns=['Interaction'])\n",
    "    dfs_labels_single.append(single_column_df)"
   ]
  },
  {
   "cell_type": "code",
   "execution_count": 5,
   "id": "9d736d57",
   "metadata": {
    "scrolled": true
   },
   "outputs": [],
   "source": [
    "# Create a list to store the labeled DataFrames\n",
    "labeled_dfs = []\n",
    "\n",
    "# Iterate over the DataFrames\n",
    "for i in range(len(dfs)):\n",
    "    # Add the labels DataFrame in front of each DataFrame\n",
    "    labeled_df = pd.concat([dfs_labels_single[i], dfs[i]], axis=1)\n",
    "    labeled_dfs.append(labeled_df)\n",
    "\n",
    "# Concatenate the labeled DataFrames vertically\n",
    "merged_df = pd.concat(labeled_dfs, ignore_index=True)\n",
    "\n",
    "# Print the merged DataFrame\n",
    "#print(merged_df)"
   ]
  },
  {
   "cell_type": "code",
   "execution_count": 6,
   "id": "62db6cc9",
   "metadata": {
    "scrolled": true
   },
   "outputs": [
    {
     "name": "stdout",
     "output_type": "stream",
     "text": [
      "background     594156\n",
      "Int_Client       5524\n",
      "TS               1474\n",
      "Int_Cleaner       955\n",
      "Jolt              490\n",
      "Run               145\n",
      "Name: Interaction, dtype: int64\n"
     ]
    }
   ],
   "source": [
    "interaction_counts = merged_df['Interaction'].value_counts()\n",
    "print(interaction_counts)"
   ]
  },
  {
   "cell_type": "markdown",
   "id": "bfd2872f",
   "metadata": {},
   "source": [
    "# RandomForest (all Columns) with all backgrounds 600k"
   ]
  },
  {
   "cell_type": "markdown",
   "id": "7139fa39",
   "metadata": {},
   "source": [
    "## Power Transformer"
   ]
  },
  {
   "cell_type": "code",
   "execution_count": 7,
   "id": "18360a4b",
   "metadata": {},
   "outputs": [],
   "source": [
    "X = merged_df.iloc[:, 1:43]  # Select columns 1 to 42 as features\n",
    "y = merged_df.iloc[:, 0]     # Select column 0 as the target variable"
   ]
  },
  {
   "cell_type": "code",
   "execution_count": 8,
   "id": "4d261b72",
   "metadata": {},
   "outputs": [],
   "source": [
    "from sklearn.preprocessing import PowerTransformer\n",
    "\n",
    "# Create an instance of PowerTransformer\n",
    "power_transformer = PowerTransformer()\n",
    "\n",
    "# Fit and transform the data\n",
    "Xtransformed = power_transformer.fit_transform(X)"
   ]
  },
  {
   "cell_type": "code",
   "execution_count": 9,
   "id": "2519d3a1",
   "metadata": {},
   "outputs": [],
   "source": [
    "X_train, X_test, y_train, y_test = train_test_split(Xtransformed, y, test_size=0.2, random_state=1999)"
   ]
  },
  {
   "cell_type": "code",
   "execution_count": 10,
   "id": "f0d0dc08",
   "metadata": {},
   "outputs": [],
   "source": [
    "imputer = SimpleImputer(strategy='mean')\n",
    "\n",
    "X_train_imputed = imputer.fit_transform(X_train)\n",
    "X_test_imputed = imputer.transform(X_test)"
   ]
  },
  {
   "cell_type": "code",
   "execution_count": 11,
   "id": "710639f2",
   "metadata": {
    "scrolled": true
   },
   "outputs": [
    {
     "data": {
      "text/html": [
       "<style>#sk-container-id-1 {color: black;background-color: white;}#sk-container-id-1 pre{padding: 0;}#sk-container-id-1 div.sk-toggleable {background-color: white;}#sk-container-id-1 label.sk-toggleable__label {cursor: pointer;display: block;width: 100%;margin-bottom: 0;padding: 0.3em;box-sizing: border-box;text-align: center;}#sk-container-id-1 label.sk-toggleable__label-arrow:before {content: \"▸\";float: left;margin-right: 0.25em;color: #696969;}#sk-container-id-1 label.sk-toggleable__label-arrow:hover:before {color: black;}#sk-container-id-1 div.sk-estimator:hover label.sk-toggleable__label-arrow:before {color: black;}#sk-container-id-1 div.sk-toggleable__content {max-height: 0;max-width: 0;overflow: hidden;text-align: left;background-color: #f0f8ff;}#sk-container-id-1 div.sk-toggleable__content pre {margin: 0.2em;color: black;border-radius: 0.25em;background-color: #f0f8ff;}#sk-container-id-1 input.sk-toggleable__control:checked~div.sk-toggleable__content {max-height: 200px;max-width: 100%;overflow: auto;}#sk-container-id-1 input.sk-toggleable__control:checked~label.sk-toggleable__label-arrow:before {content: \"▾\";}#sk-container-id-1 div.sk-estimator input.sk-toggleable__control:checked~label.sk-toggleable__label {background-color: #d4ebff;}#sk-container-id-1 div.sk-label input.sk-toggleable__control:checked~label.sk-toggleable__label {background-color: #d4ebff;}#sk-container-id-1 input.sk-hidden--visually {border: 0;clip: rect(1px 1px 1px 1px);clip: rect(1px, 1px, 1px, 1px);height: 1px;margin: -1px;overflow: hidden;padding: 0;position: absolute;width: 1px;}#sk-container-id-1 div.sk-estimator {font-family: monospace;background-color: #f0f8ff;border: 1px dotted black;border-radius: 0.25em;box-sizing: border-box;margin-bottom: 0.5em;}#sk-container-id-1 div.sk-estimator:hover {background-color: #d4ebff;}#sk-container-id-1 div.sk-parallel-item::after {content: \"\";width: 100%;border-bottom: 1px solid gray;flex-grow: 1;}#sk-container-id-1 div.sk-label:hover label.sk-toggleable__label {background-color: #d4ebff;}#sk-container-id-1 div.sk-serial::before {content: \"\";position: absolute;border-left: 1px solid gray;box-sizing: border-box;top: 0;bottom: 0;left: 50%;z-index: 0;}#sk-container-id-1 div.sk-serial {display: flex;flex-direction: column;align-items: center;background-color: white;padding-right: 0.2em;padding-left: 0.2em;position: relative;}#sk-container-id-1 div.sk-item {position: relative;z-index: 1;}#sk-container-id-1 div.sk-parallel {display: flex;align-items: stretch;justify-content: center;background-color: white;position: relative;}#sk-container-id-1 div.sk-item::before, #sk-container-id-1 div.sk-parallel-item::before {content: \"\";position: absolute;border-left: 1px solid gray;box-sizing: border-box;top: 0;bottom: 0;left: 50%;z-index: -1;}#sk-container-id-1 div.sk-parallel-item {display: flex;flex-direction: column;z-index: 1;position: relative;background-color: white;}#sk-container-id-1 div.sk-parallel-item:first-child::after {align-self: flex-end;width: 50%;}#sk-container-id-1 div.sk-parallel-item:last-child::after {align-self: flex-start;width: 50%;}#sk-container-id-1 div.sk-parallel-item:only-child::after {width: 0;}#sk-container-id-1 div.sk-dashed-wrapped {border: 1px dashed gray;margin: 0 0.4em 0.5em 0.4em;box-sizing: border-box;padding-bottom: 0.4em;background-color: white;}#sk-container-id-1 div.sk-label label {font-family: monospace;font-weight: bold;display: inline-block;line-height: 1.2em;}#sk-container-id-1 div.sk-label-container {text-align: center;}#sk-container-id-1 div.sk-container {/* jupyter's `normalize.less` sets `[hidden] { display: none; }` but bootstrap.min.css set `[hidden] { display: none !important; }` so we also need the `!important` here to be able to override the default hidden behavior on the sphinx rendered scikit-learn.org. See: https://github.com/scikit-learn/scikit-learn/issues/21755 */display: inline-block !important;position: relative;}#sk-container-id-1 div.sk-text-repr-fallback {display: none;}</style><div id=\"sk-container-id-1\" class=\"sk-top-container\"><div class=\"sk-text-repr-fallback\"><pre>RandomForestClassifier()</pre><b>In a Jupyter environment, please rerun this cell to show the HTML representation or trust the notebook. <br />On GitHub, the HTML representation is unable to render, please try loading this page with nbviewer.org.</b></div><div class=\"sk-container\" hidden><div class=\"sk-item\"><div class=\"sk-estimator sk-toggleable\"><input class=\"sk-toggleable__control sk-hidden--visually\" id=\"sk-estimator-id-1\" type=\"checkbox\" checked><label for=\"sk-estimator-id-1\" class=\"sk-toggleable__label sk-toggleable__label-arrow\">RandomForestClassifier</label><div class=\"sk-toggleable__content\"><pre>RandomForestClassifier()</pre></div></div></div></div></div>"
      ],
      "text/plain": [
       "RandomForestClassifier()"
      ]
     },
     "execution_count": 11,
     "metadata": {},
     "output_type": "execute_result"
    }
   ],
   "source": [
    "model = RandomForestClassifier()\n",
    "model.fit(X_train_imputed, y_train)"
   ]
  },
  {
   "cell_type": "code",
   "execution_count": 12,
   "id": "02d33244",
   "metadata": {},
   "outputs": [
    {
     "name": "stdout",
     "output_type": "stream",
     "text": [
      "Accuracy: 0.9988469419074402\n"
     ]
    }
   ],
   "source": [
    "y_pred = model.predict(X_test_imputed)\n",
    "accuracy = accuracy_score(y_test, y_pred)\n",
    "print(\"Accuracy:\", accuracy)"
   ]
  },
  {
   "cell_type": "code",
   "execution_count": 13,
   "id": "aa8d9569",
   "metadata": {},
   "outputs": [],
   "source": [
    "# Assuming you have the predicted labels (y_pred) and actual labels (y_test)\n",
    "cm = confusion_matrix(y_test, y_pred)\n",
    "\n",
    "#print(cm)"
   ]
  },
  {
   "cell_type": "code",
   "execution_count": 14,
   "id": "cb0052c2",
   "metadata": {
    "scrolled": false
   },
   "outputs": [
    {
     "data": {
      "image/png": "[encoded data removed]",
      "text/plain": [
       "<Figure size 640x480 with 2 Axes>"
      ]
     },
     "metadata": {},
     "output_type": "display_data"
    }
   ],
   "source": [
    "# Define the class labels\n",
    "class_labels = np.sort(merged_df['Interaction'].unique())\n",
    "\n",
    "# Create the confusion matrix\n",
    "cm = np.array(cm)\n",
    "\n",
    "# Create a figure and axis\n",
    "fig, ax = plt.subplots()\n",
    "im = ax.imshow(cm, cmap='Blues')\n",
    "\n",
    "# Set axis labels\n",
    "ax.set_xticks(np.arange(len(class_labels)))\n",
    "ax.set_yticks(np.arange(len(class_labels)))\n",
    "ax.set_xticklabels(class_labels, rotation=45)\n",
    "ax.set_yticklabels(class_labels)\n",
    "\n",
    "# Add labels to each cell\n",
    "for i in range(len(class_labels)):\n",
    "    for j in range(len(class_labels)):\n",
    "        text = ax.text(j, i, cm[i, j], ha='center', va='center', color='orange')\n",
    "\n",
    "# Add colorbar\n",
    "cbar = ax.figure.colorbar(im, ax=ax)\n",
    "\n",
    "# Set title and labels\n",
    "ax.set_title('Confusion Matrix')\n",
    "ax.set_xlabel('Predicted Label')\n",
    "ax.set_ylabel('True Label')\n",
    "\n",
    "# Show the plot\n",
    "plt.show()"
   ]
  },
  {
   "cell_type": "markdown",
   "id": "57646c69",
   "metadata": {},
   "source": [
    "## Now I want to test the independent data set"
   ]
  },
  {
   "cell_type": "code",
   "execution_count": 15,
   "id": "7773dc52",
   "metadata": {
    "scrolled": true
   },
   "outputs": [
    {
     "name": "stderr",
     "output_type": "stream",
     "text": [
      "C:\\Users\\raulo\\AppData\\Local\\Temp\\ipykernel_1752\\2791102289.py:1: DtypeWarning: Columns (0,1,2,3,4,5,6,7,8,9,10,11,12,13,14,15,16,17,18,19,20,21,22,23,24,25,26,27,28,29,30,31,32,33,34,35,36,37,38,39,40,41,42) have mixed types. Specify dtype option on import or set low_memory=False.\n",
      "  df_ind = pd.read_csv(r\"C:\\Users\\raulo\\Desktop\\ocean_L3_GH060001_re-encodeDLC_dlcrnetms5_Daniele_Ocean_Int_Encoded_Trial_1Nov14shuffle1_50000_el_filtered.csv\", header = 2)\n"
     ]
    }
   ],
   "source": [
    "df_ind = pd.read_csv(r\"C:\\Users\\raulo\\Desktop\\ocean_L3_GH060001_re-encodeDLC_dlcrnetms5_Daniele_Ocean_Int_Encoded_Trial_1Nov14shuffle1_50000_el_filtered.csv\", header = 2)\n",
    "df_ind = df_ind.drop(0)\n",
    "df_ind.index = df_ind.index -1    #Set the index rigth\n",
    "df_ind = df_ind.drop(columns='bodyparts')\n",
    "\n",
    "df_label_ind = pd.read_csv(r\"C:\\Users\\raulo\\Desktop\\ocean_L3_GH060001_re-encode.csv\")\n",
    "df_label_ind = df_label_ind.drop(columns='Unnamed: 0')\n",
    "#print(file_path)\n",
    "\n",
    "# Convert DataFrame into a single-column DataFrame\n",
    "single_column_df_ind = pd.DataFrame(df_label_ind.idxmax(axis=1), columns=['Interaction'])"
   ]
  },
  {
   "cell_type": "code",
   "execution_count": 16,
   "id": "5f0d9261",
   "metadata": {},
   "outputs": [],
   "source": [
    "labeled_df_ind = pd.concat([single_column_df_ind, df_ind], axis=1)\n",
    "\n",
    "merged_df_ind = labeled_df_ind\n",
    "\n",
    "X_ind = merged_df_ind.iloc[:, 1:43]  # Select columns 1 to 42 as features\n",
    "y_ind = merged_df_ind.iloc[:, 0]     # Select column 0 as the target variable\n",
    "\n",
    "X_ind_imputed = imputer.fit_transform(X_ind)\n",
    "\n",
    "X_ind_scaled = power_transformer.fit_transform(X_ind_imputed)"
   ]
  },
  {
   "cell_type": "code",
   "execution_count": 17,
   "id": "d546238f",
   "metadata": {},
   "outputs": [
    {
     "name": "stdout",
     "output_type": "stream",
     "text": [
      "Accuracy: 0.9734149403640929\n"
     ]
    }
   ],
   "source": [
    "# Prepare the dataset if needed (e.g., perform preprocessing steps)\n",
    "\n",
    "# Make predictions using the random forest model\n",
    "y_pred = model.predict(X_ind_scaled)\n",
    "\n",
    "# If you have the ground truth labels, compare them with the predicted labels\n",
    "y_true = y_ind  # Replace \"target_variable\" with the actual column name\n",
    "\n",
    "# Calculate accuracy\n",
    "accuracy = accuracy_score(y_true, y_pred)\n",
    "\n",
    "# Print the accuracy\n",
    "print(\"Accuracy:\", accuracy)"
   ]
  },
  {
   "cell_type": "code",
   "execution_count": 18,
   "id": "0fea30fc",
   "metadata": {
    "scrolled": false
   },
   "outputs": [
    {
     "data": {
      "text/plain": [
       "array([[    0,     0,     0,   218],\n",
       "       [    0,     0,     0,    84],\n",
       "       [    0,     0,     0,   545],\n",
       "       [    0,     0,     0, 31013]], dtype=int64)"
      ]
     },
     "execution_count": 18,
     "metadata": {},
     "output_type": "execute_result"
    }
   ],
   "source": [
    "cm = confusion_matrix(y_true, y_pred)\n",
    "cm"
   ]
  },
  {
   "cell_type": "markdown",
   "id": "7d049eae",
   "metadata": {},
   "source": [
    "## StandardScaler"
   ]
  },
  {
   "cell_type": "code",
   "execution_count": 19,
   "id": "3a2d572c",
   "metadata": {},
   "outputs": [],
   "source": [
    "X = merged_df.iloc[:, 1:43]  # Select columns 1 to 42 as features\n",
    "y = merged_df.iloc[:, 0]     # Select column 0 as the target variable"
   ]
  },
  {
   "cell_type": "code",
   "execution_count": 20,
   "id": "c6c50026",
   "metadata": {},
   "outputs": [],
   "source": [
    "from sklearn.preprocessing import PowerTransformer\n",
    "\n",
    "# Create an instance of PowerTransformer\n",
    "power_transformer = StandardScaler()\n",
    "\n",
    "# Fit and transform the data\n",
    "Xtransformed = power_transformer.fit_transform(X)"
   ]
  },
  {
   "cell_type": "code",
   "execution_count": 21,
   "id": "781c74ad",
   "metadata": {},
   "outputs": [],
   "source": [
    "X_train, X_test, y_train, y_test = train_test_split(Xtransformed, y, test_size=0.2, random_state=1999)"
   ]
  },
  {
   "cell_type": "code",
   "execution_count": 22,
   "id": "5bfc11c1",
   "metadata": {},
   "outputs": [],
   "source": [
    "imputer = SimpleImputer(strategy='mean')\n",
    "\n",
    "X_train_imputed = imputer.fit_transform(X_train)\n",
    "X_test_imputed = imputer.transform(X_test)"
   ]
  },
  {
   "cell_type": "code",
   "execution_count": 23,
   "id": "77c95411",
   "metadata": {
    "scrolled": true
   },
   "outputs": [
    {
     "data": {
      "text/html": [
       "<style>#sk-container-id-2 {color: black;background-color: white;}#sk-container-id-2 pre{padding: 0;}#sk-container-id-2 div.sk-toggleable {background-color: white;}#sk-container-id-2 label.sk-toggleable__label {cursor: pointer;display: block;width: 100%;margin-bottom: 0;padding: 0.3em;box-sizing: border-box;text-align: center;}#sk-container-id-2 label.sk-toggleable__label-arrow:before {content: \"▸\";float: left;margin-right: 0.25em;color: #696969;}#sk-container-id-2 label.sk-toggleable__label-arrow:hover:before {color: black;}#sk-container-id-2 div.sk-estimator:hover label.sk-toggleable__label-arrow:before {color: black;}#sk-container-id-2 div.sk-toggleable__content {max-height: 0;max-width: 0;overflow: hidden;text-align: left;background-color: #f0f8ff;}#sk-container-id-2 div.sk-toggleable__content pre {margin: 0.2em;color: black;border-radius: 0.25em;background-color: #f0f8ff;}#sk-container-id-2 input.sk-toggleable__control:checked~div.sk-toggleable__content {max-height: 200px;max-width: 100%;overflow: auto;}#sk-container-id-2 input.sk-toggleable__control:checked~label.sk-toggleable__label-arrow:before {content: \"▾\";}#sk-container-id-2 div.sk-estimator input.sk-toggleable__control:checked~label.sk-toggleable__label {background-color: #d4ebff;}#sk-container-id-2 div.sk-label input.sk-toggleable__control:checked~label.sk-toggleable__label {background-color: #d4ebff;}#sk-container-id-2 input.sk-hidden--visually {border: 0;clip: rect(1px 1px 1px 1px);clip: rect(1px, 1px, 1px, 1px);height: 1px;margin: -1px;overflow: hidden;padding: 0;position: absolute;width: 1px;}#sk-container-id-2 div.sk-estimator {font-family: monospace;background-color: #f0f8ff;border: 1px dotted black;border-radius: 0.25em;box-sizing: border-box;margin-bottom: 0.5em;}#sk-container-id-2 div.sk-estimator:hover {background-color: #d4ebff;}#sk-container-id-2 div.sk-parallel-item::after {content: \"\";width: 100%;border-bottom: 1px solid gray;flex-grow: 1;}#sk-container-id-2 div.sk-label:hover label.sk-toggleable__label {background-color: #d4ebff;}#sk-container-id-2 div.sk-serial::before {content: \"\";position: absolute;border-left: 1px solid gray;box-sizing: border-box;top: 0;bottom: 0;left: 50%;z-index: 0;}#sk-container-id-2 div.sk-serial {display: flex;flex-direction: column;align-items: center;background-color: white;padding-right: 0.2em;padding-left: 0.2em;position: relative;}#sk-container-id-2 div.sk-item {position: relative;z-index: 1;}#sk-container-id-2 div.sk-parallel {display: flex;align-items: stretch;justify-content: center;background-color: white;position: relative;}#sk-container-id-2 div.sk-item::before, #sk-container-id-2 div.sk-parallel-item::before {content: \"\";position: absolute;border-left: 1px solid gray;box-sizing: border-box;top: 0;bottom: 0;left: 50%;z-index: -1;}#sk-container-id-2 div.sk-parallel-item {display: flex;flex-direction: column;z-index: 1;position: relative;background-color: white;}#sk-container-id-2 div.sk-parallel-item:first-child::after {align-self: flex-end;width: 50%;}#sk-container-id-2 div.sk-parallel-item:last-child::after {align-self: flex-start;width: 50%;}#sk-container-id-2 div.sk-parallel-item:only-child::after {width: 0;}#sk-container-id-2 div.sk-dashed-wrapped {border: 1px dashed gray;margin: 0 0.4em 0.5em 0.4em;box-sizing: border-box;padding-bottom: 0.4em;background-color: white;}#sk-container-id-2 div.sk-label label {font-family: monospace;font-weight: bold;display: inline-block;line-height: 1.2em;}#sk-container-id-2 div.sk-label-container {text-align: center;}#sk-container-id-2 div.sk-container {/* jupyter's `normalize.less` sets `[hidden] { display: none; }` but bootstrap.min.css set `[hidden] { display: none !important; }` so we also need the `!important` here to be able to override the default hidden behavior on the sphinx rendered scikit-learn.org. See: https://github.com/scikit-learn/scikit-learn/issues/21755 */display: inline-block !important;position: relative;}#sk-container-id-2 div.sk-text-repr-fallback {display: none;}</style><div id=\"sk-container-id-2\" class=\"sk-top-container\"><div class=\"sk-text-repr-fallback\"><pre>RandomForestClassifier()</pre><b>In a Jupyter environment, please rerun this cell to show the HTML representation or trust the notebook. <br />On GitHub, the HTML representation is unable to render, please try loading this page with nbviewer.org.</b></div><div class=\"sk-container\" hidden><div class=\"sk-item\"><div class=\"sk-estimator sk-toggleable\"><input class=\"sk-toggleable__control sk-hidden--visually\" id=\"sk-estimator-id-2\" type=\"checkbox\" checked><label for=\"sk-estimator-id-2\" class=\"sk-toggleable__label sk-toggleable__label-arrow\">RandomForestClassifier</label><div class=\"sk-toggleable__content\"><pre>RandomForestClassifier()</pre></div></div></div></div></div>"
      ],
      "text/plain": [
       "RandomForestClassifier()"
      ]
     },
     "execution_count": 23,
     "metadata": {},
     "output_type": "execute_result"
    }
   ],
   "source": [
    "model = RandomForestClassifier()\n",
    "model.fit(X_train_imputed, y_train)"
   ]
  },
  {
   "cell_type": "code",
   "execution_count": 24,
   "id": "4d039f38",
   "metadata": {},
   "outputs": [
    {
     "name": "stdout",
     "output_type": "stream",
     "text": [
      "Accuracy: 0.998855237289401\n"
     ]
    }
   ],
   "source": [
    "y_pred = model.predict(X_test_imputed)\n",
    "accuracy = accuracy_score(y_test, y_pred)\n",
    "print(\"Accuracy:\", accuracy)"
   ]
  },
  {
   "cell_type": "code",
   "execution_count": 25,
   "id": "11bb37df",
   "metadata": {},
   "outputs": [],
   "source": [
    "# Assuming you have the predicted labels (y_pred) and actual labels (y_test)\n",
    "cm = confusion_matrix(y_test, y_pred)\n",
    "\n",
    "#print(cm)"
   ]
  },
  {
   "cell_type": "code",
   "execution_count": 26,
   "id": "d2bad6af",
   "metadata": {
    "scrolled": true
   },
   "outputs": [
    {
     "data": {
      "image/png": "[encoded data removed]",
      "text/plain": [
       "<Figure size 640x480 with 2 Axes>"
      ]
     },
     "metadata": {},
     "output_type": "display_data"
    }
   ],
   "source": [
    "# Define the class labels\n",
    "class_labels = np.sort(merged_df['Interaction'].unique())\n",
    "\n",
    "# Create the confusion matrix\n",
    "cm = np.array(cm)\n",
    "\n",
    "# Create a figure and axis\n",
    "fig, ax = plt.subplots()\n",
    "im = ax.imshow(cm, cmap='Blues')\n",
    "\n",
    "# Set axis labels\n",
    "ax.set_xticks(np.arange(len(class_labels)))\n",
    "ax.set_yticks(np.arange(len(class_labels)))\n",
    "ax.set_xticklabels(class_labels, rotation=45)\n",
    "ax.set_yticklabels(class_labels)\n",
    "\n",
    "# Add labels to each cell\n",
    "for i in range(len(class_labels)):\n",
    "    for j in range(len(class_labels)):\n",
    "        text = ax.text(j, i, cm[i, j], ha='center', va='center', color='orange')\n",
    "\n",
    "# Add colorbar\n",
    "cbar = ax.figure.colorbar(im, ax=ax)\n",
    "\n",
    "# Set title and labels\n",
    "ax.set_title('Confusion Matrix')\n",
    "ax.set_xlabel('Predicted Label')\n",
    "ax.set_ylabel('True Label')\n",
    "\n",
    "# Show the plot\n",
    "plt.show()"
   ]
  },
  {
   "cell_type": "markdown",
   "id": "ab67a8c8",
   "metadata": {},
   "source": [
    "## Now I want to test the independent data set"
   ]
  },
  {
   "cell_type": "code",
   "execution_count": 27,
   "id": "d1a156f9",
   "metadata": {
    "scrolled": true
   },
   "outputs": [
    {
     "name": "stderr",
     "output_type": "stream",
     "text": [
      "C:\\Users\\raulo\\AppData\\Local\\Temp\\ipykernel_1752\\2791102289.py:1: DtypeWarning: Columns (0,1,2,3,4,5,6,7,8,9,10,11,12,13,14,15,16,17,18,19,20,21,22,23,24,25,26,27,28,29,30,31,32,33,34,35,36,37,38,39,40,41,42) have mixed types. Specify dtype option on import or set low_memory=False.\n",
      "  df_ind = pd.read_csv(r\"C:\\Users\\raulo\\Desktop\\ocean_L3_GH060001_re-encodeDLC_dlcrnetms5_Daniele_Ocean_Int_Encoded_Trial_1Nov14shuffle1_50000_el_filtered.csv\", header = 2)\n"
     ]
    }
   ],
   "source": [
    "df_ind = pd.read_csv(r\"C:\\Users\\raulo\\Desktop\\ocean_L3_GH060001_re-encodeDLC_dlcrnetms5_Daniele_Ocean_Int_Encoded_Trial_1Nov14shuffle1_50000_el_filtered.csv\", header = 2)\n",
    "df_ind = df_ind.drop(0)\n",
    "df_ind.index = df_ind.index -1    #Set the index rigth\n",
    "df_ind = df_ind.drop(columns='bodyparts')\n",
    "\n",
    "df_label_ind = pd.read_csv(r\"C:\\Users\\raulo\\Desktop\\ocean_L3_GH060001_re-encode.csv\")\n",
    "df_label_ind = df_label_ind.drop(columns='Unnamed: 0')\n",
    "#print(file_path)\n",
    "\n",
    "# Convert DataFrame into a single-column DataFrame\n",
    "single_column_df_ind = pd.DataFrame(df_label_ind.idxmax(axis=1), columns=['Interaction'])"
   ]
  },
  {
   "cell_type": "code",
   "execution_count": 28,
   "id": "4c59a91f",
   "metadata": {},
   "outputs": [],
   "source": [
    "labeled_df_ind = pd.concat([single_column_df_ind, df_ind], axis=1)\n",
    "\n",
    "merged_df_ind = labeled_df_ind\n",
    "\n",
    "X_ind = merged_df_ind.iloc[:, 1:43]  # Select columns 1 to 42 as features\n",
    "y_ind = merged_df_ind.iloc[:, 0]     # Select column 0 as the target variable\n",
    "\n",
    "X_ind_imputed = imputer.fit_transform(X_ind)\n",
    "\n",
    "X_ind_scaled = power_transformer.fit_transform(X_ind_imputed)"
   ]
  },
  {
   "cell_type": "code",
   "execution_count": 29,
   "id": "ab29caa5",
   "metadata": {},
   "outputs": [
    {
     "name": "stdout",
     "output_type": "stream",
     "text": [
      "Accuracy: 0.9734149403640929\n"
     ]
    }
   ],
   "source": [
    "# Prepare the dataset if needed (e.g., perform preprocessing steps)\n",
    "\n",
    "# Make predictions using the random forest model\n",
    "y_pred = model.predict(X_ind_scaled)\n",
    "\n",
    "# If you have the ground truth labels, compare them with the predicted labels\n",
    "y_true = y_ind  # Replace \"target_variable\" with the actual column name\n",
    "\n",
    "# Calculate accuracy\n",
    "accuracy = accuracy_score(y_true, y_pred)\n",
    "\n",
    "# Print the accuracy\n",
    "print(\"Accuracy:\", accuracy)"
   ]
  },
  {
   "cell_type": "code",
   "execution_count": 30,
   "id": "64c1ecb5",
   "metadata": {
    "scrolled": true
   },
   "outputs": [
    {
     "data": {
      "text/plain": [
       "array([[    0,     0,     0,   218],\n",
       "       [    0,     0,     0,    84],\n",
       "       [    0,     0,     0,   545],\n",
       "       [    0,     0,     0, 31013]], dtype=int64)"
      ]
     },
     "execution_count": 30,
     "metadata": {},
     "output_type": "execute_result"
    }
   ],
   "source": [
    "cm = confusion_matrix(y_true, y_pred)\n",
    "cm"
   ]
  },
  {
   "cell_type": "markdown",
   "id": "4bca4f59",
   "metadata": {},
   "source": [
    "## MinMaxScaler"
   ]
  },
  {
   "cell_type": "code",
   "execution_count": 31,
   "id": "cbcb8f53",
   "metadata": {},
   "outputs": [],
   "source": [
    "X = merged_df.iloc[:, 1:43]  # Select columns 1 to 42 as features\n",
    "y = merged_df.iloc[:, 0]     # Select column 0 as the target variable"
   ]
  },
  {
   "cell_type": "code",
   "execution_count": 32,
   "id": "c65b3e71",
   "metadata": {},
   "outputs": [],
   "source": [
    "from sklearn.preprocessing import MinMaxScaler\n",
    "\n",
    "# Create an instance of PowerTransformer\n",
    "power_transformer = MinMaxScaler()\n",
    "\n",
    "# Fit and transform the data\n",
    "Xtransformed = power_transformer.fit_transform(X)"
   ]
  },
  {
   "cell_type": "code",
   "execution_count": 33,
   "id": "560791f2",
   "metadata": {},
   "outputs": [],
   "source": [
    "X_train, X_test, y_train, y_test = train_test_split(Xtransformed, y, test_size=0.2, random_state=1999)"
   ]
  },
  {
   "cell_type": "code",
   "execution_count": 34,
   "id": "fc080f18",
   "metadata": {},
   "outputs": [],
   "source": [
    "imputer = SimpleImputer(strategy='mean')\n",
    "\n",
    "X_train_imputed = imputer.fit_transform(X_train)\n",
    "X_test_imputed = imputer.transform(X_test)"
   ]
  },
  {
   "cell_type": "code",
   "execution_count": 35,
   "id": "b2b9964f",
   "metadata": {
    "scrolled": true
   },
   "outputs": [
    {
     "data": {
      "text/html": [
       "<style>#sk-container-id-3 {color: black;background-color: white;}#sk-container-id-3 pre{padding: 0;}#sk-container-id-3 div.sk-toggleable {background-color: white;}#sk-container-id-3 label.sk-toggleable__label {cursor: pointer;display: block;width: 100%;margin-bottom: 0;padding: 0.3em;box-sizing: border-box;text-align: center;}#sk-container-id-3 label.sk-toggleable__label-arrow:before {content: \"▸\";float: left;margin-right: 0.25em;color: #696969;}#sk-container-id-3 label.sk-toggleable__label-arrow:hover:before {color: black;}#sk-container-id-3 div.sk-estimator:hover label.sk-toggleable__label-arrow:before {color: black;}#sk-container-id-3 div.sk-toggleable__content {max-height: 0;max-width: 0;overflow: hidden;text-align: left;background-color: #f0f8ff;}#sk-container-id-3 div.sk-toggleable__content pre {margin: 0.2em;color: black;border-radius: 0.25em;background-color: #f0f8ff;}#sk-container-id-3 input.sk-toggleable__control:checked~div.sk-toggleable__content {max-height: 200px;max-width: 100%;overflow: auto;}#sk-container-id-3 input.sk-toggleable__control:checked~label.sk-toggleable__label-arrow:before {content: \"▾\";}#sk-container-id-3 div.sk-estimator input.sk-toggleable__control:checked~label.sk-toggleable__label {background-color: #d4ebff;}#sk-container-id-3 div.sk-label input.sk-toggleable__control:checked~label.sk-toggleable__label {background-color: #d4ebff;}#sk-container-id-3 input.sk-hidden--visually {border: 0;clip: rect(1px 1px 1px 1px);clip: rect(1px, 1px, 1px, 1px);height: 1px;margin: -1px;overflow: hidden;padding: 0;position: absolute;width: 1px;}#sk-container-id-3 div.sk-estimator {font-family: monospace;background-color: #f0f8ff;border: 1px dotted black;border-radius: 0.25em;box-sizing: border-box;margin-bottom: 0.5em;}#sk-container-id-3 div.sk-estimator:hover {background-color: #d4ebff;}#sk-container-id-3 div.sk-parallel-item::after {content: \"\";width: 100%;border-bottom: 1px solid gray;flex-grow: 1;}#sk-container-id-3 div.sk-label:hover label.sk-toggleable__label {background-color: #d4ebff;}#sk-container-id-3 div.sk-serial::before {content: \"\";position: absolute;border-left: 1px solid gray;box-sizing: border-box;top: 0;bottom: 0;left: 50%;z-index: 0;}#sk-container-id-3 div.sk-serial {display: flex;flex-direction: column;align-items: center;background-color: white;padding-right: 0.2em;padding-left: 0.2em;position: relative;}#sk-container-id-3 div.sk-item {position: relative;z-index: 1;}#sk-container-id-3 div.sk-parallel {display: flex;align-items: stretch;justify-content: center;background-color: white;position: relative;}#sk-container-id-3 div.sk-item::before, #sk-container-id-3 div.sk-parallel-item::before {content: \"\";position: absolute;border-left: 1px solid gray;box-sizing: border-box;top: 0;bottom: 0;left: 50%;z-index: -1;}#sk-container-id-3 div.sk-parallel-item {display: flex;flex-direction: column;z-index: 1;position: relative;background-color: white;}#sk-container-id-3 div.sk-parallel-item:first-child::after {align-self: flex-end;width: 50%;}#sk-container-id-3 div.sk-parallel-item:last-child::after {align-self: flex-start;width: 50%;}#sk-container-id-3 div.sk-parallel-item:only-child::after {width: 0;}#sk-container-id-3 div.sk-dashed-wrapped {border: 1px dashed gray;margin: 0 0.4em 0.5em 0.4em;box-sizing: border-box;padding-bottom: 0.4em;background-color: white;}#sk-container-id-3 div.sk-label label {font-family: monospace;font-weight: bold;display: inline-block;line-height: 1.2em;}#sk-container-id-3 div.sk-label-container {text-align: center;}#sk-container-id-3 div.sk-container {/* jupyter's `normalize.less` sets `[hidden] { display: none; }` but bootstrap.min.css set `[hidden] { display: none !important; }` so we also need the `!important` here to be able to override the default hidden behavior on the sphinx rendered scikit-learn.org. See: https://github.com/scikit-learn/scikit-learn/issues/21755 */display: inline-block !important;position: relative;}#sk-container-id-3 div.sk-text-repr-fallback {display: none;}</style><div id=\"sk-container-id-3\" class=\"sk-top-container\"><div class=\"sk-text-repr-fallback\"><pre>RandomForestClassifier()</pre><b>In a Jupyter environment, please rerun this cell to show the HTML representation or trust the notebook. <br />On GitHub, the HTML representation is unable to render, please try loading this page with nbviewer.org.</b></div><div class=\"sk-container\" hidden><div class=\"sk-item\"><div class=\"sk-estimator sk-toggleable\"><input class=\"sk-toggleable__control sk-hidden--visually\" id=\"sk-estimator-id-3\" type=\"checkbox\" checked><label for=\"sk-estimator-id-3\" class=\"sk-toggleable__label sk-toggleable__label-arrow\">RandomForestClassifier</label><div class=\"sk-toggleable__content\"><pre>RandomForestClassifier()</pre></div></div></div></div></div>"
      ],
      "text/plain": [
       "RandomForestClassifier()"
      ]
     },
     "execution_count": 35,
     "metadata": {},
     "output_type": "execute_result"
    }
   ],
   "source": [
    "model = RandomForestClassifier()\n",
    "model.fit(X_train_imputed, y_train)"
   ]
  },
  {
   "cell_type": "code",
   "execution_count": 36,
   "id": "75a9bcd0",
   "metadata": {},
   "outputs": [
    {
     "name": "stdout",
     "output_type": "stream",
     "text": [
      "Accuracy: 0.9988303511435184\n"
     ]
    }
   ],
   "source": [
    "y_pred = model.predict(X_test_imputed)\n",
    "accuracy = accuracy_score(y_test, y_pred)\n",
    "print(\"Accuracy:\", accuracy)"
   ]
  },
  {
   "cell_type": "code",
   "execution_count": 37,
   "id": "5a06d342",
   "metadata": {},
   "outputs": [],
   "source": [
    "# Assuming you have the predicted labels (y_pred) and actual labels (y_test)\n",
    "cm = confusion_matrix(y_test, y_pred)\n",
    "\n",
    "#print(cm)"
   ]
  },
  {
   "cell_type": "code",
   "execution_count": 38,
   "id": "90bfbcbf",
   "metadata": {
    "scrolled": false
   },
   "outputs": [
    {
     "data": {
      "image/png": "[encoded data removed]",
      "text/plain": [
       "<Figure size 640x480 with 2 Axes>"
      ]
     },
     "metadata": {},
     "output_type": "display_data"
    }
   ],
   "source": [
    "# Define the class labels\n",
    "class_labels = np.sort(merged_df['Interaction'].unique())\n",
    "\n",
    "# Create the confusion matrix\n",
    "cm = np.array(cm)\n",
    "\n",
    "# Create a figure and axis\n",
    "fig, ax = plt.subplots()\n",
    "im = ax.imshow(cm, cmap='Blues')\n",
    "\n",
    "# Set axis labels\n",
    "ax.set_xticks(np.arange(len(class_labels)))\n",
    "ax.set_yticks(np.arange(len(class_labels)))\n",
    "ax.set_xticklabels(class_labels, rotation=45)\n",
    "ax.set_yticklabels(class_labels)\n",
    "\n",
    "# Add labels to each cell\n",
    "for i in range(len(class_labels)):\n",
    "    for j in range(len(class_labels)):\n",
    "        text = ax.text(j, i, cm[i, j], ha='center', va='center', color='orange')\n",
    "\n",
    "# Add colorbar\n",
    "cbar = ax.figure.colorbar(im, ax=ax)\n",
    "\n",
    "# Set title and labels\n",
    "ax.set_title('Confusion Matrix')\n",
    "ax.set_xlabel('Predicted Label')\n",
    "ax.set_ylabel('True Label')\n",
    "\n",
    "# Show the plot\n",
    "plt.show()"
   ]
  },
  {
   "cell_type": "markdown",
   "id": "36062917",
   "metadata": {},
   "source": [
    "## Now I want to test the independent data set"
   ]
  },
  {
   "cell_type": "code",
   "execution_count": 39,
   "id": "b78ef557",
   "metadata": {
    "scrolled": true
   },
   "outputs": [
    {
     "name": "stderr",
     "output_type": "stream",
     "text": [
      "C:\\Users\\raulo\\AppData\\Local\\Temp\\ipykernel_1752\\2791102289.py:1: DtypeWarning: Columns (0,1,2,3,4,5,6,7,8,9,10,11,12,13,14,15,16,17,18,19,20,21,22,23,24,25,26,27,28,29,30,31,32,33,34,35,36,37,38,39,40,41,42) have mixed types. Specify dtype option on import or set low_memory=False.\n",
      "  df_ind = pd.read_csv(r\"C:\\Users\\raulo\\Desktop\\ocean_L3_GH060001_re-encodeDLC_dlcrnetms5_Daniele_Ocean_Int_Encoded_Trial_1Nov14shuffle1_50000_el_filtered.csv\", header = 2)\n"
     ]
    }
   ],
   "source": [
    "df_ind = pd.read_csv(r\"C:\\Users\\raulo\\Desktop\\ocean_L3_GH060001_re-encodeDLC_dlcrnetms5_Daniele_Ocean_Int_Encoded_Trial_1Nov14shuffle1_50000_el_filtered.csv\", header = 2)\n",
    "df_ind = df_ind.drop(0)\n",
    "df_ind.index = df_ind.index -1    #Set the index rigth\n",
    "df_ind = df_ind.drop(columns='bodyparts')\n",
    "\n",
    "df_label_ind = pd.read_csv(r\"C:\\Users\\raulo\\Desktop\\ocean_L3_GH060001_re-encode.csv\")\n",
    "df_label_ind = df_label_ind.drop(columns='Unnamed: 0')\n",
    "#print(file_path)\n",
    "\n",
    "# Convert DataFrame into a single-column DataFrame\n",
    "single_column_df_ind = pd.DataFrame(df_label_ind.idxmax(axis=1), columns=['Interaction'])"
   ]
  },
  {
   "cell_type": "code",
   "execution_count": 40,
   "id": "67b456d8",
   "metadata": {},
   "outputs": [],
   "source": [
    "labeled_df_ind = pd.concat([single_column_df_ind, df_ind], axis=1)\n",
    "\n",
    "merged_df_ind = labeled_df_ind\n",
    "\n",
    "X_ind = merged_df_ind.iloc[:, 1:43]  # Select columns 1 to 42 as features\n",
    "y_ind = merged_df_ind.iloc[:, 0]     # Select column 0 as the target variable\n",
    "\n",
    "X_ind_imputed = imputer.fit_transform(X_ind)\n",
    "\n",
    "X_ind_scaled = power_transformer.fit_transform(X_ind_imputed)"
   ]
  },
  {
   "cell_type": "code",
   "execution_count": 41,
   "id": "6ff94e61",
   "metadata": {},
   "outputs": [],
   "source": [
    "labeled_df_ind = pd.concat([single_column_df_ind, df_ind], axis=1)\n",
    "\n",
    "merged_df_ind = labeled_df_ind\n",
    "\n",
    "X_ind = merged_df_ind.iloc[:, 1:43]  # Select columns 1 to 42 as features\n",
    "y_ind = merged_df_ind.iloc[:, 0]     # Select column 0 as the target variable\n",
    "\n",
    "X_ind_imputed = imputer.fit_transform(X_ind)\n",
    "\n",
    "X_ind_scaled = power_transformer.fit_transform(X_ind_imputed)"
   ]
  },
  {
   "cell_type": "code",
   "execution_count": 42,
   "id": "b3fda9cb",
   "metadata": {},
   "outputs": [
    {
     "name": "stdout",
     "output_type": "stream",
     "text": [
      "Accuracy: 0.9734149403640929\n"
     ]
    }
   ],
   "source": [
    "# Prepare the dataset if needed (e.g., perform preprocessing steps)\n",
    "\n",
    "# Make predictions using the random forest model\n",
    "y_pred = model.predict(X_ind_scaled)\n",
    "\n",
    "# If you have the ground truth labels, compare them with the predicted labels\n",
    "y_true = y_ind  # Replace \"target_variable\" with the actual column name\n",
    "\n",
    "# Calculate accuracy\n",
    "accuracy = accuracy_score(y_true, y_pred)\n",
    "\n",
    "# Print the accuracy\n",
    "print(\"Accuracy:\", accuracy)"
   ]
  },
  {
   "cell_type": "code",
   "execution_count": 43,
   "id": "5362a5db",
   "metadata": {
    "scrolled": true
   },
   "outputs": [
    {
     "data": {
      "text/plain": [
       "array([[    0,     0,     0,   218],\n",
       "       [    0,     0,     0,    84],\n",
       "       [    0,     0,     0,   545],\n",
       "       [    0,     0,     0, 31013]], dtype=int64)"
      ]
     },
     "execution_count": 43,
     "metadata": {},
     "output_type": "execute_result"
    }
   ],
   "source": [
    "cm = confusion_matrix(y_true, y_pred)\n",
    "cm"
   ]
  },
  {
   "cell_type": "markdown",
   "id": "1da096ee",
   "metadata": {},
   "source": [
    "---\n",
    "---\n",
    "---\n",
    "---"
   ]
  },
  {
   "cell_type": "markdown",
   "id": "b6c8de9a",
   "metadata": {},
   "source": [
    "# RandomForest (all Columns) with 5k backgrounds"
   ]
  },
  {
   "cell_type": "markdown",
   "id": "98e81d91",
   "metadata": {},
   "source": [
    "## PowerTransformer"
   ]
  },
  {
   "cell_type": "code",
   "execution_count": 44,
   "id": "292f713f",
   "metadata": {},
   "outputs": [],
   "source": [
    "background_df = merged_df[merged_df['Interaction'] == 'background']\n",
    "other_df = merged_df[merged_df['Interaction'] != 'background']"
   ]
  },
  {
   "cell_type": "code",
   "execution_count": 45,
   "id": "51f17013",
   "metadata": {},
   "outputs": [],
   "source": [
    "desired_background_samples = 5000"
   ]
  },
  {
   "cell_type": "code",
   "execution_count": 46,
   "id": "a27b2cc9",
   "metadata": {},
   "outputs": [],
   "source": [
    "background_sample = background_df.sample(n=desired_background_samples, random_state=1999)"
   ]
  },
  {
   "cell_type": "code",
   "execution_count": 47,
   "id": "28e3e112",
   "metadata": {},
   "outputs": [],
   "source": [
    "undersampled_df = pd.concat([background_sample, other_df], ignore_index=True)"
   ]
  },
  {
   "cell_type": "code",
   "execution_count": 48,
   "id": "06ad7077",
   "metadata": {
    "scrolled": true
   },
   "outputs": [
    {
     "name": "stdout",
     "output_type": "stream",
     "text": [
      "Int_Client     5524\n",
      "background     5000\n",
      "TS             1474\n",
      "Int_Cleaner     955\n",
      "Jolt            490\n",
      "Run             145\n",
      "Name: Interaction, dtype: int64\n"
     ]
    }
   ],
   "source": [
    "interaction_counts_new = undersampled_df['Interaction'].value_counts()\n",
    "print(interaction_counts_new)"
   ]
  },
  {
   "cell_type": "code",
   "execution_count": 49,
   "id": "bafaa6e8",
   "metadata": {},
   "outputs": [],
   "source": [
    "X_new5000 = undersampled_df.iloc[:, 1:43]  # Select columns 1 to 42 as features\n",
    "y_new5000 = undersampled_df.iloc[:, 0]     # Select column 0 as the target variable"
   ]
  },
  {
   "cell_type": "code",
   "execution_count": 50,
   "id": "0603b8eb",
   "metadata": {},
   "outputs": [],
   "source": [
    "imputer = SimpleImputer(strategy='mean')\n",
    "\n",
    "X_imputed_new5000 = imputer.fit_transform(X_new5000)"
   ]
  },
  {
   "cell_type": "code",
   "execution_count": 51,
   "id": "976ba26f",
   "metadata": {},
   "outputs": [],
   "source": [
    "from sklearn.preprocessing import PowerTransformer"
   ]
  },
  {
   "cell_type": "code",
   "execution_count": 52,
   "id": "dc8f0f0c",
   "metadata": {},
   "outputs": [],
   "source": [
    "# Create an instance of PowerTransformer\n",
    "power_transformer = PowerTransformer()\n",
    "\n",
    "# Fit and transform the data\n",
    "X_new5000_transformed = power_transformer.fit_transform(X_imputed_new5000)"
   ]
  },
  {
   "cell_type": "code",
   "execution_count": 53,
   "id": "44eb94d2",
   "metadata": {},
   "outputs": [],
   "source": [
    "X_train_new5000, X_test_new5000, y_train_new5000, y_test_new5000 = train_test_split(X_new5000_transformed, y_new5000, test_size=0.2, random_state=1999)"
   ]
  },
  {
   "cell_type": "code",
   "execution_count": 54,
   "id": "99273221",
   "metadata": {
    "scrolled": true
   },
   "outputs": [
    {
     "data": {
      "text/html": [
       "<style>#sk-container-id-4 {color: black;background-color: white;}#sk-container-id-4 pre{padding: 0;}#sk-container-id-4 div.sk-toggleable {background-color: white;}#sk-container-id-4 label.sk-toggleable__label {cursor: pointer;display: block;width: 100%;margin-bottom: 0;padding: 0.3em;box-sizing: border-box;text-align: center;}#sk-container-id-4 label.sk-toggleable__label-arrow:before {content: \"▸\";float: left;margin-right: 0.25em;color: #696969;}#sk-container-id-4 label.sk-toggleable__label-arrow:hover:before {color: black;}#sk-container-id-4 div.sk-estimator:hover label.sk-toggleable__label-arrow:before {color: black;}#sk-container-id-4 div.sk-toggleable__content {max-height: 0;max-width: 0;overflow: hidden;text-align: left;background-color: #f0f8ff;}#sk-container-id-4 div.sk-toggleable__content pre {margin: 0.2em;color: black;border-radius: 0.25em;background-color: #f0f8ff;}#sk-container-id-4 input.sk-toggleable__control:checked~div.sk-toggleable__content {max-height: 200px;max-width: 100%;overflow: auto;}#sk-container-id-4 input.sk-toggleable__control:checked~label.sk-toggleable__label-arrow:before {content: \"▾\";}#sk-container-id-4 div.sk-estimator input.sk-toggleable__control:checked~label.sk-toggleable__label {background-color: #d4ebff;}#sk-container-id-4 div.sk-label input.sk-toggleable__control:checked~label.sk-toggleable__label {background-color: #d4ebff;}#sk-container-id-4 input.sk-hidden--visually {border: 0;clip: rect(1px 1px 1px 1px);clip: rect(1px, 1px, 1px, 1px);height: 1px;margin: -1px;overflow: hidden;padding: 0;position: absolute;width: 1px;}#sk-container-id-4 div.sk-estimator {font-family: monospace;background-color: #f0f8ff;border: 1px dotted black;border-radius: 0.25em;box-sizing: border-box;margin-bottom: 0.5em;}#sk-container-id-4 div.sk-estimator:hover {background-color: #d4ebff;}#sk-container-id-4 div.sk-parallel-item::after {content: \"\";width: 100%;border-bottom: 1px solid gray;flex-grow: 1;}#sk-container-id-4 div.sk-label:hover label.sk-toggleable__label {background-color: #d4ebff;}#sk-container-id-4 div.sk-serial::before {content: \"\";position: absolute;border-left: 1px solid gray;box-sizing: border-box;top: 0;bottom: 0;left: 50%;z-index: 0;}#sk-container-id-4 div.sk-serial {display: flex;flex-direction: column;align-items: center;background-color: white;padding-right: 0.2em;padding-left: 0.2em;position: relative;}#sk-container-id-4 div.sk-item {position: relative;z-index: 1;}#sk-container-id-4 div.sk-parallel {display: flex;align-items: stretch;justify-content: center;background-color: white;position: relative;}#sk-container-id-4 div.sk-item::before, #sk-container-id-4 div.sk-parallel-item::before {content: \"\";position: absolute;border-left: 1px solid gray;box-sizing: border-box;top: 0;bottom: 0;left: 50%;z-index: -1;}#sk-container-id-4 div.sk-parallel-item {display: flex;flex-direction: column;z-index: 1;position: relative;background-color: white;}#sk-container-id-4 div.sk-parallel-item:first-child::after {align-self: flex-end;width: 50%;}#sk-container-id-4 div.sk-parallel-item:last-child::after {align-self: flex-start;width: 50%;}#sk-container-id-4 div.sk-parallel-item:only-child::after {width: 0;}#sk-container-id-4 div.sk-dashed-wrapped {border: 1px dashed gray;margin: 0 0.4em 0.5em 0.4em;box-sizing: border-box;padding-bottom: 0.4em;background-color: white;}#sk-container-id-4 div.sk-label label {font-family: monospace;font-weight: bold;display: inline-block;line-height: 1.2em;}#sk-container-id-4 div.sk-label-container {text-align: center;}#sk-container-id-4 div.sk-container {/* jupyter's `normalize.less` sets `[hidden] { display: none; }` but bootstrap.min.css set `[hidden] { display: none !important; }` so we also need the `!important` here to be able to override the default hidden behavior on the sphinx rendered scikit-learn.org. See: https://github.com/scikit-learn/scikit-learn/issues/21755 */display: inline-block !important;position: relative;}#sk-container-id-4 div.sk-text-repr-fallback {display: none;}</style><div id=\"sk-container-id-4\" class=\"sk-top-container\"><div class=\"sk-text-repr-fallback\"><pre>RandomForestClassifier()</pre><b>In a Jupyter environment, please rerun this cell to show the HTML representation or trust the notebook. <br />On GitHub, the HTML representation is unable to render, please try loading this page with nbviewer.org.</b></div><div class=\"sk-container\" hidden><div class=\"sk-item\"><div class=\"sk-estimator sk-toggleable\"><input class=\"sk-toggleable__control sk-hidden--visually\" id=\"sk-estimator-id-4\" type=\"checkbox\" checked><label for=\"sk-estimator-id-4\" class=\"sk-toggleable__label sk-toggleable__label-arrow\">RandomForestClassifier</label><div class=\"sk-toggleable__content\"><pre>RandomForestClassifier()</pre></div></div></div></div></div>"
      ],
      "text/plain": [
       "RandomForestClassifier()"
      ]
     },
     "execution_count": 54,
     "metadata": {},
     "output_type": "execute_result"
    }
   ],
   "source": [
    "model_new5000 = RandomForestClassifier()\n",
    "model_new5000.fit(X_train_new5000, y_train_new5000)"
   ]
  },
  {
   "cell_type": "code",
   "execution_count": 55,
   "id": "426f3eba",
   "metadata": {},
   "outputs": [
    {
     "name": "stdout",
     "output_type": "stream",
     "text": [
      "Accuracy: 0.9871228844738779\n"
     ]
    }
   ],
   "source": [
    "y_pred_new5000 = model_new5000.predict(X_test_new5000)\n",
    "accuracy_new5000 = accuracy_score(y_test_new5000, y_pred_new5000)\n",
    "print(\"Accuracy:\", accuracy_new5000)"
   ]
  },
  {
   "cell_type": "code",
   "execution_count": 56,
   "id": "048c1940",
   "metadata": {
    "scrolled": true
   },
   "outputs": [],
   "source": [
    "# Assuming you have the predicted labels (y_pred) and actual labels (y_test)\n",
    "cm_new5000 = confusion_matrix(y_test_new5000, y_pred_new5000)\n",
    "\n",
    "#print(cm_new5000)"
   ]
  },
  {
   "cell_type": "code",
   "execution_count": 57,
   "id": "14449716",
   "metadata": {},
   "outputs": [
    {
     "name": "stdout",
     "output_type": "stream",
     "text": [
      "Int_Cleaner: 168\n",
      "Int_Client: 1106\n",
      "Jolt: 105\n",
      "Run: 23\n",
      "TS: 304\n",
      "background: 1012\n"
     ]
    }
   ],
   "source": [
    "# Count the occurrences of each unique value\n",
    "unique_values, value_counts = np.unique(y_pred_new5000, return_counts=True)\n",
    "\n",
    "# Print the unique values and their counts\n",
    "for value, count in zip(unique_values, value_counts):\n",
    "    print(f\"{value}: {count}\")"
   ]
  },
  {
   "cell_type": "code",
   "execution_count": 58,
   "id": "a314a008",
   "metadata": {
    "scrolled": true
   },
   "outputs": [
    {
     "data": {
      "image/png": "[encoded data removed]",
      "text/plain": [
       "<Figure size 640x480 with 2 Axes>"
      ]
     },
     "metadata": {},
     "output_type": "display_data"
    }
   ],
   "source": [
    "# Define the class labels\n",
    "class_labels_new5000 = np.sort(merged_df['Interaction'].unique())\n",
    "\n",
    "# Create the confusion matrix\n",
    "cm_new5000 = np.array(cm_new5000)\n",
    "\n",
    "# Create a figure and axis\n",
    "fig, ax = plt.subplots()\n",
    "im = ax.imshow(cm_new5000, cmap='Blues')\n",
    "\n",
    "# Set axis labels\n",
    "ax.set_xticks(np.arange(len(class_labels_new5000)))\n",
    "ax.set_yticks(np.arange(len(class_labels_new5000)))\n",
    "ax.set_xticklabels(class_labels_new5000, rotation=45)\n",
    "ax.set_yticklabels(class_labels_new5000)\n",
    "\n",
    "\n",
    "# Add labels to each cell\n",
    "for i in range(len(class_labels_new5000)):\n",
    "    for j in range(len(class_labels_new5000)):\n",
    "        text = ax.text(j, i, cm_new5000[i, j], ha='center', va='center', color='orange')\n",
    "\n",
    "# Add colorbar\n",
    "cbar = ax.figure.colorbar(im, ax=ax)\n",
    "\n",
    "# Set title and labels\n",
    "ax.set_title('Confusion Matrix')\n",
    "ax.set_xlabel('Predicted Label')\n",
    "ax.set_ylabel('True Label')\n",
    "\n",
    "# Show the plot\n",
    "plt.show()"
   ]
  },
  {
   "cell_type": "markdown",
   "id": "e26131b8",
   "metadata": {},
   "source": [
    "## Now I want to test the independent data set"
   ]
  },
  {
   "cell_type": "code",
   "execution_count": 59,
   "id": "f797e9ae",
   "metadata": {
    "scrolled": true
   },
   "outputs": [
    {
     "name": "stderr",
     "output_type": "stream",
     "text": [
      "C:\\Users\\raulo\\AppData\\Local\\Temp\\ipykernel_1752\\2791102289.py:1: DtypeWarning: Columns (0,1,2,3,4,5,6,7,8,9,10,11,12,13,14,15,16,17,18,19,20,21,22,23,24,25,26,27,28,29,30,31,32,33,34,35,36,37,38,39,40,41,42) have mixed types. Specify dtype option on import or set low_memory=False.\n",
      "  df_ind = pd.read_csv(r\"C:\\Users\\raulo\\Desktop\\ocean_L3_GH060001_re-encodeDLC_dlcrnetms5_Daniele_Ocean_Int_Encoded_Trial_1Nov14shuffle1_50000_el_filtered.csv\", header = 2)\n"
     ]
    }
   ],
   "source": [
    "df_ind = pd.read_csv(r\"C:\\Users\\raulo\\Desktop\\ocean_L3_GH060001_re-encodeDLC_dlcrnetms5_Daniele_Ocean_Int_Encoded_Trial_1Nov14shuffle1_50000_el_filtered.csv\", header = 2)\n",
    "df_ind = df_ind.drop(0)\n",
    "df_ind.index = df_ind.index -1    #Set the index rigth\n",
    "df_ind = df_ind.drop(columns='bodyparts')\n",
    "\n",
    "df_label_ind = pd.read_csv(r\"C:\\Users\\raulo\\Desktop\\ocean_L3_GH060001_re-encode.csv\")\n",
    "df_label_ind = df_label_ind.drop(columns='Unnamed: 0')\n",
    "#print(file_path)\n",
    "\n",
    "# Convert DataFrame into a single-column DataFrame\n",
    "single_column_df_ind = pd.DataFrame(df_label_ind.idxmax(axis=1), columns=['Interaction'])"
   ]
  },
  {
   "cell_type": "code",
   "execution_count": 60,
   "id": "33906674",
   "metadata": {},
   "outputs": [],
   "source": [
    "labeled_df_ind = pd.concat([single_column_df_ind, df_ind], axis=1)\n",
    "\n",
    "merged_df_ind = labeled_df_ind\n",
    "\n",
    "X_ind = merged_df_ind.iloc[:, 1:43]  # Select columns 1 to 42 as features\n",
    "y_ind = merged_df_ind.iloc[:, 0]     # Select column 0 as the target variable\n",
    "\n",
    "X_ind_imputed = imputer.fit_transform(X_ind)\n",
    "\n",
    "X_ind_scaled = power_transformer.fit_transform(X_ind_imputed)"
   ]
  },
  {
   "cell_type": "code",
   "execution_count": 61,
   "id": "f81300dd",
   "metadata": {},
   "outputs": [],
   "source": [
    "labeled_df_ind = pd.concat([single_column_df_ind, df_ind], axis=1)\n",
    "\n",
    "merged_df_ind = labeled_df_ind\n",
    "\n",
    "X_ind = merged_df_ind.iloc[:, 1:43]  # Select columns 1 to 42 as features\n",
    "y_ind = merged_df_ind.iloc[:, 0]     # Select column 0 as the target variable\n",
    "\n",
    "X_ind_imputed = imputer.fit_transform(X_ind)\n",
    "\n",
    "X_ind_scaled = power_transformer.fit_transform(X_ind_imputed)"
   ]
  },
  {
   "cell_type": "code",
   "execution_count": 62,
   "id": "b4ae6242",
   "metadata": {},
   "outputs": [
    {
     "name": "stdout",
     "output_type": "stream",
     "text": [
      "Accuracy: 0.972693032015066\n"
     ]
    }
   ],
   "source": [
    "# Prepare the dataset if needed (e.g., perform preprocessing steps)\n",
    "\n",
    "# Make predictions using the random forest model\n",
    "y_pred = model_new5000.predict(X_ind_scaled)\n",
    "\n",
    "# If you have the ground truth labels, compare them with the predicted labels\n",
    "y_true = y_ind  # Replace \"target_variable\" with the actual column name\n",
    "\n",
    "# Calculate accuracy\n",
    "accuracy = accuracy_score(y_true, y_pred)\n",
    "\n",
    "# Print the accuracy\n",
    "print(\"Accuracy:\", accuracy)"
   ]
  },
  {
   "cell_type": "code",
   "execution_count": 63,
   "id": "d5c60b13",
   "metadata": {
    "scrolled": true
   },
   "outputs": [
    {
     "data": {
      "text/plain": [
       "array([[    0,     0,     0,   218],\n",
       "       [    0,     0,     0,    84],\n",
       "       [    0,     0,     0,   545],\n",
       "       [   23,     0,     0, 30990]], dtype=int64)"
      ]
     },
     "execution_count": 63,
     "metadata": {},
     "output_type": "execute_result"
    }
   ],
   "source": [
    "cm = confusion_matrix(y_true, y_pred)\n",
    "cm"
   ]
  },
  {
   "cell_type": "code",
   "execution_count": 64,
   "id": "b43538e7",
   "metadata": {},
   "outputs": [],
   "source": [
    "#import pickle"
   ]
  },
  {
   "cell_type": "code",
   "execution_count": 65,
   "id": "47d325ce",
   "metadata": {},
   "outputs": [],
   "source": [
    "# with open('saved_random_forest_model_new5000.pkl', 'wb') as file:\n",
    "#     pickle.dump(model_new5000, file)"
   ]
  },
  {
   "cell_type": "markdown",
   "id": "494fffcc",
   "metadata": {},
   "source": [
    "## StandardScaler"
   ]
  },
  {
   "cell_type": "code",
   "execution_count": 66,
   "id": "e287b4b6",
   "metadata": {},
   "outputs": [],
   "source": [
    "background_df = merged_df[merged_df['Interaction'] == 'background']\n",
    "other_df = merged_df[merged_df['Interaction'] != 'background']"
   ]
  },
  {
   "cell_type": "code",
   "execution_count": 67,
   "id": "21a42488",
   "metadata": {},
   "outputs": [],
   "source": [
    "desired_background_samples = 5000"
   ]
  },
  {
   "cell_type": "code",
   "execution_count": 68,
   "id": "7fa94be6",
   "metadata": {},
   "outputs": [],
   "source": [
    "background_sample = background_df.sample(n=desired_background_samples, random_state=1999)"
   ]
  },
  {
   "cell_type": "code",
   "execution_count": 69,
   "id": "0d75fb6f",
   "metadata": {},
   "outputs": [],
   "source": [
    "undersampled_df = pd.concat([background_sample, other_df], ignore_index=True)"
   ]
  },
  {
   "cell_type": "code",
   "execution_count": 70,
   "id": "ba4b67d4",
   "metadata": {
    "scrolled": true
   },
   "outputs": [
    {
     "name": "stdout",
     "output_type": "stream",
     "text": [
      "Int_Client     5524\n",
      "background     5000\n",
      "TS             1474\n",
      "Int_Cleaner     955\n",
      "Jolt            490\n",
      "Run             145\n",
      "Name: Interaction, dtype: int64\n"
     ]
    }
   ],
   "source": [
    "interaction_counts_new = undersampled_df['Interaction'].value_counts()\n",
    "print(interaction_counts_new)"
   ]
  },
  {
   "cell_type": "code",
   "execution_count": 71,
   "id": "fca3c8e3",
   "metadata": {},
   "outputs": [],
   "source": [
    "X_new5000 = undersampled_df.iloc[:, 1:43]  # Select columns 1 to 42 as features\n",
    "y_new5000 = undersampled_df.iloc[:, 0]     # Select column 0 as the target variable"
   ]
  },
  {
   "cell_type": "code",
   "execution_count": 72,
   "id": "91a13875",
   "metadata": {},
   "outputs": [],
   "source": [
    "imputer = SimpleImputer(strategy='mean')\n",
    "\n",
    "X_imputed_new5000 = imputer.fit_transform(X_new5000)"
   ]
  },
  {
   "cell_type": "code",
   "execution_count": 73,
   "id": "2c01cb4b",
   "metadata": {},
   "outputs": [],
   "source": [
    "# Create an instance of PowerTransformer\n",
    "power_transformer = StandardScaler()\n",
    "\n",
    "# Fit and transform the data\n",
    "X_new5000_transformed = power_transformer.fit_transform(X_imputed_new5000)"
   ]
  },
  {
   "cell_type": "code",
   "execution_count": 74,
   "id": "7e452001",
   "metadata": {},
   "outputs": [],
   "source": [
    "X_train_new5000, X_test_new5000, y_train_new5000, y_test_new5000 = train_test_split(X_new5000_transformed, y_new5000, test_size=0.2, random_state=1999)"
   ]
  },
  {
   "cell_type": "code",
   "execution_count": 75,
   "id": "eb7c98c7",
   "metadata": {
    "scrolled": true
   },
   "outputs": [
    {
     "data": {
      "text/html": [
       "<style>#sk-container-id-5 {color: black;background-color: white;}#sk-container-id-5 pre{padding: 0;}#sk-container-id-5 div.sk-toggleable {background-color: white;}#sk-container-id-5 label.sk-toggleable__label {cursor: pointer;display: block;width: 100%;margin-bottom: 0;padding: 0.3em;box-sizing: border-box;text-align: center;}#sk-container-id-5 label.sk-toggleable__label-arrow:before {content: \"▸\";float: left;margin-right: 0.25em;color: #696969;}#sk-container-id-5 label.sk-toggleable__label-arrow:hover:before {color: black;}#sk-container-id-5 div.sk-estimator:hover label.sk-toggleable__label-arrow:before {color: black;}#sk-container-id-5 div.sk-toggleable__content {max-height: 0;max-width: 0;overflow: hidden;text-align: left;background-color: #f0f8ff;}#sk-container-id-5 div.sk-toggleable__content pre {margin: 0.2em;color: black;border-radius: 0.25em;background-color: #f0f8ff;}#sk-container-id-5 input.sk-toggleable__control:checked~div.sk-toggleable__content {max-height: 200px;max-width: 100%;overflow: auto;}#sk-container-id-5 input.sk-toggleable__control:checked~label.sk-toggleable__label-arrow:before {content: \"▾\";}#sk-container-id-5 div.sk-estimator input.sk-toggleable__control:checked~label.sk-toggleable__label {background-color: #d4ebff;}#sk-container-id-5 div.sk-label input.sk-toggleable__control:checked~label.sk-toggleable__label {background-color: #d4ebff;}#sk-container-id-5 input.sk-hidden--visually {border: 0;clip: rect(1px 1px 1px 1px);clip: rect(1px, 1px, 1px, 1px);height: 1px;margin: -1px;overflow: hidden;padding: 0;position: absolute;width: 1px;}#sk-container-id-5 div.sk-estimator {font-family: monospace;background-color: #f0f8ff;border: 1px dotted black;border-radius: 0.25em;box-sizing: border-box;margin-bottom: 0.5em;}#sk-container-id-5 div.sk-estimator:hover {background-color: #d4ebff;}#sk-container-id-5 div.sk-parallel-item::after {content: \"\";width: 100%;border-bottom: 1px solid gray;flex-grow: 1;}#sk-container-id-5 div.sk-label:hover label.sk-toggleable__label {background-color: #d4ebff;}#sk-container-id-5 div.sk-serial::before {content: \"\";position: absolute;border-left: 1px solid gray;box-sizing: border-box;top: 0;bottom: 0;left: 50%;z-index: 0;}#sk-container-id-5 div.sk-serial {display: flex;flex-direction: column;align-items: center;background-color: white;padding-right: 0.2em;padding-left: 0.2em;position: relative;}#sk-container-id-5 div.sk-item {position: relative;z-index: 1;}#sk-container-id-5 div.sk-parallel {display: flex;align-items: stretch;justify-content: center;background-color: white;position: relative;}#sk-container-id-5 div.sk-item::before, #sk-container-id-5 div.sk-parallel-item::before {content: \"\";position: absolute;border-left: 1px solid gray;box-sizing: border-box;top: 0;bottom: 0;left: 50%;z-index: -1;}#sk-container-id-5 div.sk-parallel-item {display: flex;flex-direction: column;z-index: 1;position: relative;background-color: white;}#sk-container-id-5 div.sk-parallel-item:first-child::after {align-self: flex-end;width: 50%;}#sk-container-id-5 div.sk-parallel-item:last-child::after {align-self: flex-start;width: 50%;}#sk-container-id-5 div.sk-parallel-item:only-child::after {width: 0;}#sk-container-id-5 div.sk-dashed-wrapped {border: 1px dashed gray;margin: 0 0.4em 0.5em 0.4em;box-sizing: border-box;padding-bottom: 0.4em;background-color: white;}#sk-container-id-5 div.sk-label label {font-family: monospace;font-weight: bold;display: inline-block;line-height: 1.2em;}#sk-container-id-5 div.sk-label-container {text-align: center;}#sk-container-id-5 div.sk-container {/* jupyter's `normalize.less` sets `[hidden] { display: none; }` but bootstrap.min.css set `[hidden] { display: none !important; }` so we also need the `!important` here to be able to override the default hidden behavior on the sphinx rendered scikit-learn.org. See: https://github.com/scikit-learn/scikit-learn/issues/21755 */display: inline-block !important;position: relative;}#sk-container-id-5 div.sk-text-repr-fallback {display: none;}</style><div id=\"sk-container-id-5\" class=\"sk-top-container\"><div class=\"sk-text-repr-fallback\"><pre>RandomForestClassifier()</pre><b>In a Jupyter environment, please rerun this cell to show the HTML representation or trust the notebook. <br />On GitHub, the HTML representation is unable to render, please try loading this page with nbviewer.org.</b></div><div class=\"sk-container\" hidden><div class=\"sk-item\"><div class=\"sk-estimator sk-toggleable\"><input class=\"sk-toggleable__control sk-hidden--visually\" id=\"sk-estimator-id-5\" type=\"checkbox\" checked><label for=\"sk-estimator-id-5\" class=\"sk-toggleable__label sk-toggleable__label-arrow\">RandomForestClassifier</label><div class=\"sk-toggleable__content\"><pre>RandomForestClassifier()</pre></div></div></div></div></div>"
      ],
      "text/plain": [
       "RandomForestClassifier()"
      ]
     },
     "execution_count": 75,
     "metadata": {},
     "output_type": "execute_result"
    }
   ],
   "source": [
    "model_new5000 = RandomForestClassifier()\n",
    "model_new5000.fit(X_train_new5000, y_train_new5000)"
   ]
  },
  {
   "cell_type": "code",
   "execution_count": 76,
   "id": "b6f13137",
   "metadata": {},
   "outputs": [
    {
     "name": "stdout",
     "output_type": "stream",
     "text": [
      "Accuracy: 0.9885945548197204\n"
     ]
    }
   ],
   "source": [
    "y_pred_new5000 = model_new5000.predict(X_test_new5000)\n",
    "accuracy_new5000 = accuracy_score(y_test_new5000, y_pred_new5000)\n",
    "print(\"Accuracy:\", accuracy_new5000)"
   ]
  },
  {
   "cell_type": "code",
   "execution_count": 77,
   "id": "04a4f076",
   "metadata": {
    "scrolled": true
   },
   "outputs": [],
   "source": [
    "# Assuming you have the predicted labels (y_pred) and actual labels (y_test)\n",
    "cm_new5000 = confusion_matrix(y_test_new5000, y_pred_new5000)\n",
    "\n",
    "#print(cm_new5000)"
   ]
  },
  {
   "cell_type": "code",
   "execution_count": 78,
   "id": "b14de672",
   "metadata": {},
   "outputs": [
    {
     "name": "stdout",
     "output_type": "stream",
     "text": [
      "Int_Cleaner: 168\n",
      "Int_Client: 1106\n",
      "Jolt: 104\n",
      "Run: 24\n",
      "TS: 305\n",
      "background: 1011\n"
     ]
    }
   ],
   "source": [
    "# Count the occurrences of each unique value\n",
    "unique_values, value_counts = np.unique(y_pred_new5000, return_counts=True)\n",
    "\n",
    "# Print the unique values and their counts\n",
    "for value, count in zip(unique_values, value_counts):\n",
    "    print(f\"{value}: {count}\")"
   ]
  },
  {
   "cell_type": "code",
   "execution_count": 79,
   "id": "c0080afd",
   "metadata": {
    "scrolled": true
   },
   "outputs": [
    {
     "data": {
      "image/png": "[encoded data removed]",
      "text/plain": [
       "<Figure size 640x480 with 2 Axes>"
      ]
     },
     "metadata": {},
     "output_type": "display_data"
    }
   ],
   "source": [
    "# Define the class labels\n",
    "class_labels_new5000 = np.sort(merged_df['Interaction'].unique())\n",
    "\n",
    "# Create the confusion matrix\n",
    "cm_new5000 = np.array(cm_new5000)\n",
    "\n",
    "# Create a figure and axis\n",
    "fig, ax = plt.subplots()\n",
    "im = ax.imshow(cm_new5000, cmap='Blues')\n",
    "\n",
    "# Set axis labels\n",
    "ax.set_xticks(np.arange(len(class_labels_new5000)))\n",
    "ax.set_yticks(np.arange(len(class_labels_new5000)))\n",
    "ax.set_xticklabels(class_labels_new5000, rotation=45)\n",
    "ax.set_yticklabels(class_labels_new5000)\n",
    "\n",
    "\n",
    "# Add labels to each cell\n",
    "for i in range(len(class_labels_new5000)):\n",
    "    for j in range(len(class_labels_new5000)):\n",
    "        text = ax.text(j, i, cm_new5000[i, j], ha='center', va='center', color='orange')\n",
    "\n",
    "# Add colorbar\n",
    "cbar = ax.figure.colorbar(im, ax=ax)\n",
    "\n",
    "# Set title and labels\n",
    "ax.set_title('Confusion Matrix')\n",
    "ax.set_xlabel('Predicted Label')\n",
    "ax.set_ylabel('True Label')\n",
    "\n",
    "# Show the plot\n",
    "plt.show()"
   ]
  },
  {
   "cell_type": "markdown",
   "id": "bc299c22",
   "metadata": {},
   "source": [
    "## Now I want to test the independent data set"
   ]
  },
  {
   "cell_type": "code",
   "execution_count": 80,
   "id": "48b86f7b",
   "metadata": {
    "scrolled": true
   },
   "outputs": [
    {
     "name": "stderr",
     "output_type": "stream",
     "text": [
      "C:\\Users\\raulo\\AppData\\Local\\Temp\\ipykernel_1752\\2791102289.py:1: DtypeWarning: Columns (0,1,2,3,4,5,6,7,8,9,10,11,12,13,14,15,16,17,18,19,20,21,22,23,24,25,26,27,28,29,30,31,32,33,34,35,36,37,38,39,40,41,42) have mixed types. Specify dtype option on import or set low_memory=False.\n",
      "  df_ind = pd.read_csv(r\"C:\\Users\\raulo\\Desktop\\ocean_L3_GH060001_re-encodeDLC_dlcrnetms5_Daniele_Ocean_Int_Encoded_Trial_1Nov14shuffle1_50000_el_filtered.csv\", header = 2)\n"
     ]
    }
   ],
   "source": [
    "df_ind = pd.read_csv(r\"C:\\Users\\raulo\\Desktop\\ocean_L3_GH060001_re-encodeDLC_dlcrnetms5_Daniele_Ocean_Int_Encoded_Trial_1Nov14shuffle1_50000_el_filtered.csv\", header = 2)\n",
    "df_ind = df_ind.drop(0)\n",
    "df_ind.index = df_ind.index -1    #Set the index rigth\n",
    "df_ind = df_ind.drop(columns='bodyparts')\n",
    "\n",
    "df_label_ind = pd.read_csv(r\"C:\\Users\\raulo\\Desktop\\ocean_L3_GH060001_re-encode.csv\")\n",
    "df_label_ind = df_label_ind.drop(columns='Unnamed: 0')\n",
    "#print(file_path)\n",
    "\n",
    "# Convert DataFrame into a single-column DataFrame\n",
    "single_column_df_ind = pd.DataFrame(df_label_ind.idxmax(axis=1), columns=['Interaction'])"
   ]
  },
  {
   "cell_type": "code",
   "execution_count": 81,
   "id": "f8b1c95e",
   "metadata": {},
   "outputs": [],
   "source": [
    "labeled_df_ind = pd.concat([single_column_df_ind, df_ind], axis=1)\n",
    "\n",
    "merged_df_ind = labeled_df_ind\n",
    "\n",
    "X_ind = merged_df_ind.iloc[:, 1:43]  # Select columns 1 to 42 as features\n",
    "y_ind = merged_df_ind.iloc[:, 0]     # Select column 0 as the target variable\n",
    "\n",
    "X_ind_imputed = imputer.fit_transform(X_ind)\n",
    "\n",
    "X_ind_scaled = power_transformer.fit_transform(X_ind_imputed)"
   ]
  },
  {
   "cell_type": "code",
   "execution_count": 82,
   "id": "8cc22f0a",
   "metadata": {},
   "outputs": [],
   "source": [
    "labeled_df_ind = pd.concat([single_column_df_ind, df_ind], axis=1)\n",
    "\n",
    "merged_df_ind = labeled_df_ind\n",
    "\n",
    "X_ind = merged_df_ind.iloc[:, 1:43]  # Select columns 1 to 42 as features\n",
    "y_ind = merged_df_ind.iloc[:, 0]     # Select column 0 as the target variable\n",
    "\n",
    "X_ind_imputed = imputer.fit_transform(X_ind)\n",
    "\n",
    "X_ind_scaled = power_transformer.fit_transform(X_ind_imputed)"
   ]
  },
  {
   "cell_type": "code",
   "execution_count": 83,
   "id": "dcec25d9",
   "metadata": {},
   "outputs": [
    {
     "name": "stdout",
     "output_type": "stream",
     "text": [
      "Accuracy: 0.956120527306968\n"
     ]
    }
   ],
   "source": [
    "# Prepare the dataset if needed (e.g., perform preprocessing steps)\n",
    "\n",
    "# Make predictions using the random forest model\n",
    "y_pred = model_new5000.predict(X_ind_scaled)\n",
    "\n",
    "# If you have the ground truth labels, compare them with the predicted labels\n",
    "y_true = y_ind  # Replace \"target_variable\" with the actual column name\n",
    "\n",
    "# Calculate accuracy\n",
    "accuracy = accuracy_score(y_true, y_pred)\n",
    "\n",
    "# Print the accuracy\n",
    "print(\"Accuracy:\", accuracy)"
   ]
  },
  {
   "cell_type": "code",
   "execution_count": 84,
   "id": "51d84ea6",
   "metadata": {
    "scrolled": true
   },
   "outputs": [
    {
     "data": {
      "text/plain": [
       "array([[    0,     0,     0,     0,     0,   218],\n",
       "       [    0,     0,     0,     0,     0,    84],\n",
       "       [    0,     0,     0,     0,     0,     0],\n",
       "       [    0,     0,     0,     0,     0,   545],\n",
       "       [    0,     0,     0,     0,     0,     0],\n",
       "       [   17,   494,    32,     0,     8, 30462]], dtype=int64)"
      ]
     },
     "execution_count": 84,
     "metadata": {},
     "output_type": "execute_result"
    }
   ],
   "source": [
    "cm = confusion_matrix(y_true, y_pred)\n",
    "cm"
   ]
  },
  {
   "cell_type": "markdown",
   "id": "1ed5bfd7",
   "metadata": {},
   "source": [
    "## MinMaxScaler"
   ]
  },
  {
   "cell_type": "code",
   "execution_count": 85,
   "id": "ca91483f",
   "metadata": {},
   "outputs": [],
   "source": [
    "background_df = merged_df[merged_df['Interaction'] == 'background']\n",
    "other_df = merged_df[merged_df['Interaction'] != 'background']"
   ]
  },
  {
   "cell_type": "code",
   "execution_count": 86,
   "id": "41e73750",
   "metadata": {},
   "outputs": [],
   "source": [
    "desired_background_samples = 5000"
   ]
  },
  {
   "cell_type": "code",
   "execution_count": 87,
   "id": "43277415",
   "metadata": {},
   "outputs": [],
   "source": [
    "background_sample = background_df.sample(n=desired_background_samples, random_state=1999)"
   ]
  },
  {
   "cell_type": "code",
   "execution_count": 88,
   "id": "eaea709c",
   "metadata": {},
   "outputs": [],
   "source": [
    "undersampled_df = pd.concat([background_sample, other_df], ignore_index=True)"
   ]
  },
  {
   "cell_type": "code",
   "execution_count": 89,
   "id": "a685fc2f",
   "metadata": {
    "scrolled": true
   },
   "outputs": [
    {
     "name": "stdout",
     "output_type": "stream",
     "text": [
      "Int_Client     5524\n",
      "background     5000\n",
      "TS             1474\n",
      "Int_Cleaner     955\n",
      "Jolt            490\n",
      "Run             145\n",
      "Name: Interaction, dtype: int64\n"
     ]
    }
   ],
   "source": [
    "interaction_counts_new = undersampled_df['Interaction'].value_counts()\n",
    "print(interaction_counts_new)"
   ]
  },
  {
   "cell_type": "code",
   "execution_count": 90,
   "id": "a46ec6d6",
   "metadata": {},
   "outputs": [],
   "source": [
    "X_new5000 = undersampled_df.iloc[:, 1:43]  # Select columns 1 to 42 as features\n",
    "y_new5000 = undersampled_df.iloc[:, 0]     # Select column 0 as the target variable"
   ]
  },
  {
   "cell_type": "code",
   "execution_count": 91,
   "id": "e7fe3762",
   "metadata": {},
   "outputs": [],
   "source": [
    "imputer = SimpleImputer(strategy='mean')\n",
    "\n",
    "X_imputed_new5000 = imputer.fit_transform(X_new5000)"
   ]
  },
  {
   "cell_type": "code",
   "execution_count": 92,
   "id": "2cec5fed",
   "metadata": {},
   "outputs": [],
   "source": [
    "# Create an instance of PowerTransformer\n",
    "power_transformer = MinMaxScaler()\n",
    "\n",
    "# Fit and transform the data\n",
    "X_new5000_transformed = power_transformer.fit_transform(X_imputed_new5000)"
   ]
  },
  {
   "cell_type": "code",
   "execution_count": 93,
   "id": "bfca6b4e",
   "metadata": {},
   "outputs": [],
   "source": [
    "X_train_new5000, X_test_new5000, y_train_new5000, y_test_new5000 = train_test_split(X_new5000_transformed, y_new5000, test_size=0.2, random_state=1999)"
   ]
  },
  {
   "cell_type": "code",
   "execution_count": 94,
   "id": "32abba23",
   "metadata": {
    "scrolled": true
   },
   "outputs": [
    {
     "data": {
      "text/html": [
       "<style>#sk-container-id-6 {color: black;background-color: white;}#sk-container-id-6 pre{padding: 0;}#sk-container-id-6 div.sk-toggleable {background-color: white;}#sk-container-id-6 label.sk-toggleable__label {cursor: pointer;display: block;width: 100%;margin-bottom: 0;padding: 0.3em;box-sizing: border-box;text-align: center;}#sk-container-id-6 label.sk-toggleable__label-arrow:before {content: \"▸\";float: left;margin-right: 0.25em;color: #696969;}#sk-container-id-6 label.sk-toggleable__label-arrow:hover:before {color: black;}#sk-container-id-6 div.sk-estimator:hover label.sk-toggleable__label-arrow:before {color: black;}#sk-container-id-6 div.sk-toggleable__content {max-height: 0;max-width: 0;overflow: hidden;text-align: left;background-color: #f0f8ff;}#sk-container-id-6 div.sk-toggleable__content pre {margin: 0.2em;color: black;border-radius: 0.25em;background-color: #f0f8ff;}#sk-container-id-6 input.sk-toggleable__control:checked~div.sk-toggleable__content {max-height: 200px;max-width: 100%;overflow: auto;}#sk-container-id-6 input.sk-toggleable__control:checked~label.sk-toggleable__label-arrow:before {content: \"▾\";}#sk-container-id-6 div.sk-estimator input.sk-toggleable__control:checked~label.sk-toggleable__label {background-color: #d4ebff;}#sk-container-id-6 div.sk-label input.sk-toggleable__control:checked~label.sk-toggleable__label {background-color: #d4ebff;}#sk-container-id-6 input.sk-hidden--visually {border: 0;clip: rect(1px 1px 1px 1px);clip: rect(1px, 1px, 1px, 1px);height: 1px;margin: -1px;overflow: hidden;padding: 0;position: absolute;width: 1px;}#sk-container-id-6 div.sk-estimator {font-family: monospace;background-color: #f0f8ff;border: 1px dotted black;border-radius: 0.25em;box-sizing: border-box;margin-bottom: 0.5em;}#sk-container-id-6 div.sk-estimator:hover {background-color: #d4ebff;}#sk-container-id-6 div.sk-parallel-item::after {content: \"\";width: 100%;border-bottom: 1px solid gray;flex-grow: 1;}#sk-container-id-6 div.sk-label:hover label.sk-toggleable__label {background-color: #d4ebff;}#sk-container-id-6 div.sk-serial::before {content: \"\";position: absolute;border-left: 1px solid gray;box-sizing: border-box;top: 0;bottom: 0;left: 50%;z-index: 0;}#sk-container-id-6 div.sk-serial {display: flex;flex-direction: column;align-items: center;background-color: white;padding-right: 0.2em;padding-left: 0.2em;position: relative;}#sk-container-id-6 div.sk-item {position: relative;z-index: 1;}#sk-container-id-6 div.sk-parallel {display: flex;align-items: stretch;justify-content: center;background-color: white;position: relative;}#sk-container-id-6 div.sk-item::before, #sk-container-id-6 div.sk-parallel-item::before {content: \"\";position: absolute;border-left: 1px solid gray;box-sizing: border-box;top: 0;bottom: 0;left: 50%;z-index: -1;}#sk-container-id-6 div.sk-parallel-item {display: flex;flex-direction: column;z-index: 1;position: relative;background-color: white;}#sk-container-id-6 div.sk-parallel-item:first-child::after {align-self: flex-end;width: 50%;}#sk-container-id-6 div.sk-parallel-item:last-child::after {align-self: flex-start;width: 50%;}#sk-container-id-6 div.sk-parallel-item:only-child::after {width: 0;}#sk-container-id-6 div.sk-dashed-wrapped {border: 1px dashed gray;margin: 0 0.4em 0.5em 0.4em;box-sizing: border-box;padding-bottom: 0.4em;background-color: white;}#sk-container-id-6 div.sk-label label {font-family: monospace;font-weight: bold;display: inline-block;line-height: 1.2em;}#sk-container-id-6 div.sk-label-container {text-align: center;}#sk-container-id-6 div.sk-container {/* jupyter's `normalize.less` sets `[hidden] { display: none; }` but bootstrap.min.css set `[hidden] { display: none !important; }` so we also need the `!important` here to be able to override the default hidden behavior on the sphinx rendered scikit-learn.org. See: https://github.com/scikit-learn/scikit-learn/issues/21755 */display: inline-block !important;position: relative;}#sk-container-id-6 div.sk-text-repr-fallback {display: none;}</style><div id=\"sk-container-id-6\" class=\"sk-top-container\"><div class=\"sk-text-repr-fallback\"><pre>RandomForestClassifier()</pre><b>In a Jupyter environment, please rerun this cell to show the HTML representation or trust the notebook. <br />On GitHub, the HTML representation is unable to render, please try loading this page with nbviewer.org.</b></div><div class=\"sk-container\" hidden><div class=\"sk-item\"><div class=\"sk-estimator sk-toggleable\"><input class=\"sk-toggleable__control sk-hidden--visually\" id=\"sk-estimator-id-6\" type=\"checkbox\" checked><label for=\"sk-estimator-id-6\" class=\"sk-toggleable__label sk-toggleable__label-arrow\">RandomForestClassifier</label><div class=\"sk-toggleable__content\"><pre>RandomForestClassifier()</pre></div></div></div></div></div>"
      ],
      "text/plain": [
       "RandomForestClassifier()"
      ]
     },
     "execution_count": 94,
     "metadata": {},
     "output_type": "execute_result"
    }
   ],
   "source": [
    "model_new5000 = RandomForestClassifier()\n",
    "model_new5000.fit(X_train_new5000, y_train_new5000)"
   ]
  },
  {
   "cell_type": "code",
   "execution_count": 95,
   "id": "2eb2e321",
   "metadata": {},
   "outputs": [
    {
     "name": "stdout",
     "output_type": "stream",
     "text": [
      "Accuracy: 0.9878587196467992\n"
     ]
    }
   ],
   "source": [
    "y_pred_new5000 = model_new5000.predict(X_test_new5000)\n",
    "accuracy_new5000 = accuracy_score(y_test_new5000, y_pred_new5000)\n",
    "print(\"Accuracy:\", accuracy_new5000)"
   ]
  },
  {
   "cell_type": "code",
   "execution_count": 96,
   "id": "eb36eecb",
   "metadata": {
    "scrolled": true
   },
   "outputs": [],
   "source": [
    "# Assuming you have the predicted labels (y_pred) and actual labels (y_test)\n",
    "cm_new5000 = confusion_matrix(y_test_new5000, y_pred_new5000)\n",
    "\n",
    "#print(cm_new5000)"
   ]
  },
  {
   "cell_type": "code",
   "execution_count": 97,
   "id": "b9fbf3f5",
   "metadata": {},
   "outputs": [
    {
     "name": "stdout",
     "output_type": "stream",
     "text": [
      "Int_Cleaner: 168\n",
      "Int_Client: 1109\n",
      "Jolt: 104\n",
      "Run: 23\n",
      "TS: 303\n",
      "background: 1011\n"
     ]
    }
   ],
   "source": [
    "# Count the occurrences of each unique value\n",
    "unique_values, value_counts = np.unique(y_pred_new5000, return_counts=True)\n",
    "\n",
    "# Print the unique values and their counts\n",
    "for value, count in zip(unique_values, value_counts):\n",
    "    print(f\"{value}: {count}\")"
   ]
  },
  {
   "cell_type": "code",
   "execution_count": 98,
   "id": "dfc0d867",
   "metadata": {
    "scrolled": true
   },
   "outputs": [
    {
     "data": {
      "image/png": "[encoded data removed]",
      "text/plain": [
       "<Figure size 640x480 with 2 Axes>"
      ]
     },
     "metadata": {},
     "output_type": "display_data"
    }
   ],
   "source": [
    "# Define the class labels\n",
    "class_labels_new5000 = np.sort(merged_df['Interaction'].unique())\n",
    "\n",
    "# Create the confusion matrix\n",
    "cm_new5000 = np.array(cm_new5000)\n",
    "\n",
    "# Create a figure and axis\n",
    "fig, ax = plt.subplots()\n",
    "im = ax.imshow(cm_new5000, cmap='Blues')\n",
    "\n",
    "# Set axis labels\n",
    "ax.set_xticks(np.arange(len(class_labels_new5000)))\n",
    "ax.set_yticks(np.arange(len(class_labels_new5000)))\n",
    "ax.set_xticklabels(class_labels_new5000, rotation=45)\n",
    "ax.set_yticklabels(class_labels_new5000)\n",
    "\n",
    "\n",
    "# Add labels to each cell\n",
    "for i in range(len(class_labels_new5000)):\n",
    "    for j in range(len(class_labels_new5000)):\n",
    "        text = ax.text(j, i, cm_new5000[i, j], ha='center', va='center', color='orange')\n",
    "\n",
    "# Add colorbar\n",
    "cbar = ax.figure.colorbar(im, ax=ax)\n",
    "\n",
    "# Set title and labels\n",
    "ax.set_title('Confusion Matrix')\n",
    "ax.set_xlabel('Predicted Label')\n",
    "ax.set_ylabel('True Label')\n",
    "\n",
    "# Show the plot\n",
    "plt.show()"
   ]
  },
  {
   "cell_type": "markdown",
   "id": "e1693498",
   "metadata": {},
   "source": [
    "## Now I want to test the independent data set"
   ]
  },
  {
   "cell_type": "code",
   "execution_count": 99,
   "id": "78ebda69",
   "metadata": {
    "scrolled": true
   },
   "outputs": [
    {
     "name": "stderr",
     "output_type": "stream",
     "text": [
      "C:\\Users\\raulo\\AppData\\Local\\Temp\\ipykernel_1752\\2791102289.py:1: DtypeWarning: Columns (0,1,2,3,4,5,6,7,8,9,10,11,12,13,14,15,16,17,18,19,20,21,22,23,24,25,26,27,28,29,30,31,32,33,34,35,36,37,38,39,40,41,42) have mixed types. Specify dtype option on import or set low_memory=False.\n",
      "  df_ind = pd.read_csv(r\"C:\\Users\\raulo\\Desktop\\ocean_L3_GH060001_re-encodeDLC_dlcrnetms5_Daniele_Ocean_Int_Encoded_Trial_1Nov14shuffle1_50000_el_filtered.csv\", header = 2)\n"
     ]
    }
   ],
   "source": [
    "df_ind = pd.read_csv(r\"C:\\Users\\raulo\\Desktop\\ocean_L3_GH060001_re-encodeDLC_dlcrnetms5_Daniele_Ocean_Int_Encoded_Trial_1Nov14shuffle1_50000_el_filtered.csv\", header = 2)\n",
    "df_ind = df_ind.drop(0)\n",
    "df_ind.index = df_ind.index -1    #Set the index rigth\n",
    "df_ind = df_ind.drop(columns='bodyparts')\n",
    "\n",
    "df_label_ind = pd.read_csv(r\"C:\\Users\\raulo\\Desktop\\ocean_L3_GH060001_re-encode.csv\")\n",
    "df_label_ind = df_label_ind.drop(columns='Unnamed: 0')\n",
    "#print(file_path)\n",
    "\n",
    "# Convert DataFrame into a single-column DataFrame\n",
    "single_column_df_ind = pd.DataFrame(df_label_ind.idxmax(axis=1), columns=['Interaction'])"
   ]
  },
  {
   "cell_type": "code",
   "execution_count": 100,
   "id": "5cae50f5",
   "metadata": {},
   "outputs": [],
   "source": [
    "labeled_df_ind = pd.concat([single_column_df_ind, df_ind], axis=1)\n",
    "\n",
    "merged_df_ind = labeled_df_ind\n",
    "\n",
    "X_ind = merged_df_ind.iloc[:, 1:43]  # Select columns 1 to 42 as features\n",
    "y_ind = merged_df_ind.iloc[:, 0]     # Select column 0 as the target variable\n",
    "\n",
    "X_ind_imputed = imputer.fit_transform(X_ind)\n",
    "\n",
    "X_ind_scaled = power_transformer.fit_transform(X_ind_imputed)"
   ]
  },
  {
   "cell_type": "code",
   "execution_count": 101,
   "id": "6071d205",
   "metadata": {},
   "outputs": [],
   "source": [
    "labeled_df_ind = pd.concat([single_column_df_ind, df_ind], axis=1)\n",
    "\n",
    "merged_df_ind = labeled_df_ind\n",
    "\n",
    "X_ind = merged_df_ind.iloc[:, 1:43]  # Select columns 1 to 42 as features\n",
    "y_ind = merged_df_ind.iloc[:, 0]     # Select column 0 as the target variable\n",
    "\n",
    "X_ind_imputed = imputer.fit_transform(X_ind)\n",
    "\n",
    "X_ind_scaled = power_transformer.fit_transform(X_ind_imputed)"
   ]
  },
  {
   "cell_type": "code",
   "execution_count": 102,
   "id": "5fc56f68",
   "metadata": {},
   "outputs": [
    {
     "name": "stdout",
     "output_type": "stream",
     "text": [
      "Accuracy: 0.9727244193345889\n"
     ]
    }
   ],
   "source": [
    "# Prepare the dataset if needed (e.g., perform preprocessing steps)\n",
    "\n",
    "# Make predictions using the random forest model\n",
    "y_pred = model_new5000.predict(X_ind_scaled)\n",
    "\n",
    "# If you have the ground truth labels, compare them with the predicted labels\n",
    "y_true = y_ind  # Replace \"target_variable\" with the actual column name\n",
    "\n",
    "# Calculate accuracy\n",
    "accuracy = accuracy_score(y_true, y_pred)\n",
    "\n",
    "# Print the accuracy\n",
    "print(\"Accuracy:\", accuracy)"
   ]
  },
  {
   "cell_type": "code",
   "execution_count": 103,
   "id": "926c2d2e",
   "metadata": {
    "scrolled": false
   },
   "outputs": [
    {
     "data": {
      "text/plain": [
       "array([[    0,     0,    10,     0,   208],\n",
       "       [    0,     0,     0,     0,    84],\n",
       "       [    0,     0,     0,     0,     0],\n",
       "       [    0,     0,     0,     0,   545],\n",
       "       [    0,    13,     9,     0, 30991]], dtype=int64)"
      ]
     },
     "execution_count": 103,
     "metadata": {},
     "output_type": "execute_result"
    }
   ],
   "source": [
    "cm = confusion_matrix(y_true, y_pred)\n",
    "cm"
   ]
  },
  {
   "cell_type": "markdown",
   "id": "b2ce025e",
   "metadata": {},
   "source": [
    "---\n",
    "---\n",
    "---\n",
    "---"
   ]
  },
  {
   "cell_type": "markdown",
   "id": "64de9421",
   "metadata": {},
   "source": [
    "# RandomForest (Columns likelihood out) with 5k backgrounds\n",
    "+ Imputer = mean"
   ]
  },
  {
   "cell_type": "markdown",
   "id": "e7cc2db8",
   "metadata": {},
   "source": [
    "## PowerTransformer"
   ]
  },
  {
   "cell_type": "code",
   "execution_count": 104,
   "id": "8b21afb0",
   "metadata": {},
   "outputs": [],
   "source": [
    "columns = [1,2,4,5,7,8,10,11,13,14,16,17,19,20,22,23,25,26,28,29,31,32,34,35,37,38,40,41]"
   ]
  },
  {
   "cell_type": "code",
   "execution_count": 105,
   "id": "0fe77116",
   "metadata": {},
   "outputs": [],
   "source": [
    "X_new5000_fs = undersampled_df.iloc[:, columns]  # Select columns 1 to 42 as features\n",
    "y_new5000_fs = undersampled_df.iloc[:, 0]     # Select column 0 as the target variable"
   ]
  },
  {
   "cell_type": "code",
   "execution_count": 106,
   "id": "e6a0e6b8",
   "metadata": {},
   "outputs": [],
   "source": [
    "imputer = SimpleImputer(strategy='mean')\n",
    "\n",
    "X_imputed_new5000_fs = imputer.fit_transform(X_new5000_fs)"
   ]
  },
  {
   "cell_type": "code",
   "execution_count": 107,
   "id": "d5d9af6c",
   "metadata": {},
   "outputs": [],
   "source": [
    "# Create an instance of PowerTransformer\n",
    "power_transformer = PowerTransformer()\n",
    "\n",
    "# Fit and transform the data\n",
    "X_scaled_new5000_fs = power_transformer.fit_transform(X_imputed_new5000_fs)"
   ]
  },
  {
   "cell_type": "code",
   "execution_count": 108,
   "id": "6ca7dea2",
   "metadata": {},
   "outputs": [],
   "source": [
    "X_train_new5000_fs, X_test_new5000_fs, y_train_new5000_fs, y_test_new5000_fs = train_test_split(X_scaled_new5000_fs, y_new5000_fs, test_size=0.2, random_state=1999)"
   ]
  },
  {
   "cell_type": "code",
   "execution_count": 109,
   "id": "4db08dd5",
   "metadata": {
    "scrolled": false
   },
   "outputs": [
    {
     "data": {
      "text/html": [
       "<style>#sk-container-id-7 {color: black;background-color: white;}#sk-container-id-7 pre{padding: 0;}#sk-container-id-7 div.sk-toggleable {background-color: white;}#sk-container-id-7 label.sk-toggleable__label {cursor: pointer;display: block;width: 100%;margin-bottom: 0;padding: 0.3em;box-sizing: border-box;text-align: center;}#sk-container-id-7 label.sk-toggleable__label-arrow:before {content: \"▸\";float: left;margin-right: 0.25em;color: #696969;}#sk-container-id-7 label.sk-toggleable__label-arrow:hover:before {color: black;}#sk-container-id-7 div.sk-estimator:hover label.sk-toggleable__label-arrow:before {color: black;}#sk-container-id-7 div.sk-toggleable__content {max-height: 0;max-width: 0;overflow: hidden;text-align: left;background-color: #f0f8ff;}#sk-container-id-7 div.sk-toggleable__content pre {margin: 0.2em;color: black;border-radius: 0.25em;background-color: #f0f8ff;}#sk-container-id-7 input.sk-toggleable__control:checked~div.sk-toggleable__content {max-height: 200px;max-width: 100%;overflow: auto;}#sk-container-id-7 input.sk-toggleable__control:checked~label.sk-toggleable__label-arrow:before {content: \"▾\";}#sk-container-id-7 div.sk-estimator input.sk-toggleable__control:checked~label.sk-toggleable__label {background-color: #d4ebff;}#sk-container-id-7 div.sk-label input.sk-toggleable__control:checked~label.sk-toggleable__label {background-color: #d4ebff;}#sk-container-id-7 input.sk-hidden--visually {border: 0;clip: rect(1px 1px 1px 1px);clip: rect(1px, 1px, 1px, 1px);height: 1px;margin: -1px;overflow: hidden;padding: 0;position: absolute;width: 1px;}#sk-container-id-7 div.sk-estimator {font-family: monospace;background-color: #f0f8ff;border: 1px dotted black;border-radius: 0.25em;box-sizing: border-box;margin-bottom: 0.5em;}#sk-container-id-7 div.sk-estimator:hover {background-color: #d4ebff;}#sk-container-id-7 div.sk-parallel-item::after {content: \"\";width: 100%;border-bottom: 1px solid gray;flex-grow: 1;}#sk-container-id-7 div.sk-label:hover label.sk-toggleable__label {background-color: #d4ebff;}#sk-container-id-7 div.sk-serial::before {content: \"\";position: absolute;border-left: 1px solid gray;box-sizing: border-box;top: 0;bottom: 0;left: 50%;z-index: 0;}#sk-container-id-7 div.sk-serial {display: flex;flex-direction: column;align-items: center;background-color: white;padding-right: 0.2em;padding-left: 0.2em;position: relative;}#sk-container-id-7 div.sk-item {position: relative;z-index: 1;}#sk-container-id-7 div.sk-parallel {display: flex;align-items: stretch;justify-content: center;background-color: white;position: relative;}#sk-container-id-7 div.sk-item::before, #sk-container-id-7 div.sk-parallel-item::before {content: \"\";position: absolute;border-left: 1px solid gray;box-sizing: border-box;top: 0;bottom: 0;left: 50%;z-index: -1;}#sk-container-id-7 div.sk-parallel-item {display: flex;flex-direction: column;z-index: 1;position: relative;background-color: white;}#sk-container-id-7 div.sk-parallel-item:first-child::after {align-self: flex-end;width: 50%;}#sk-container-id-7 div.sk-parallel-item:last-child::after {align-self: flex-start;width: 50%;}#sk-container-id-7 div.sk-parallel-item:only-child::after {width: 0;}#sk-container-id-7 div.sk-dashed-wrapped {border: 1px dashed gray;margin: 0 0.4em 0.5em 0.4em;box-sizing: border-box;padding-bottom: 0.4em;background-color: white;}#sk-container-id-7 div.sk-label label {font-family: monospace;font-weight: bold;display: inline-block;line-height: 1.2em;}#sk-container-id-7 div.sk-label-container {text-align: center;}#sk-container-id-7 div.sk-container {/* jupyter's `normalize.less` sets `[hidden] { display: none; }` but bootstrap.min.css set `[hidden] { display: none !important; }` so we also need the `!important` here to be able to override the default hidden behavior on the sphinx rendered scikit-learn.org. See: https://github.com/scikit-learn/scikit-learn/issues/21755 */display: inline-block !important;position: relative;}#sk-container-id-7 div.sk-text-repr-fallback {display: none;}</style><div id=\"sk-container-id-7\" class=\"sk-top-container\"><div class=\"sk-text-repr-fallback\"><pre>RandomForestClassifier()</pre><b>In a Jupyter environment, please rerun this cell to show the HTML representation or trust the notebook. <br />On GitHub, the HTML representation is unable to render, please try loading this page with nbviewer.org.</b></div><div class=\"sk-container\" hidden><div class=\"sk-item\"><div class=\"sk-estimator sk-toggleable\"><input class=\"sk-toggleable__control sk-hidden--visually\" id=\"sk-estimator-id-7\" type=\"checkbox\" checked><label for=\"sk-estimator-id-7\" class=\"sk-toggleable__label sk-toggleable__label-arrow\">RandomForestClassifier</label><div class=\"sk-toggleable__content\"><pre>RandomForestClassifier()</pre></div></div></div></div></div>"
      ],
      "text/plain": [
       "RandomForestClassifier()"
      ]
     },
     "execution_count": 109,
     "metadata": {},
     "output_type": "execute_result"
    }
   ],
   "source": [
    "model_new5000_fs = RandomForestClassifier()\n",
    "model_new5000_fs.fit(X_train_new5000_fs, y_train_new5000_fs)"
   ]
  },
  {
   "cell_type": "code",
   "execution_count": 110,
   "id": "1b47eb89",
   "metadata": {},
   "outputs": [
    {
     "name": "stdout",
     "output_type": "stream",
     "text": [
      "Accuracy: 0.9900662251655629\n"
     ]
    }
   ],
   "source": [
    "y_pred_new5000_fs = model_new5000_fs.predict(X_test_new5000_fs)\n",
    "accuracy_new5000_fs = accuracy_score(y_test_new5000_fs, y_pred_new5000_fs)\n",
    "print(\"Accuracy:\", accuracy_new5000_fs)"
   ]
  },
  {
   "cell_type": "code",
   "execution_count": 111,
   "id": "cf2fb745",
   "metadata": {},
   "outputs": [],
   "source": [
    "# Assuming you have the predicted labels (y_pred) and actual labels (y_test)\n",
    "cm_new5000_fs = confusion_matrix(y_test_new5000_fs, y_pred_new5000_fs)\n",
    "\n",
    "#print(cm_new5000_featuresselection)"
   ]
  },
  {
   "cell_type": "code",
   "execution_count": 112,
   "id": "f814fd25",
   "metadata": {
    "scrolled": true
   },
   "outputs": [
    {
     "data": {
      "image/png": "[encoded data removed]",
      "text/plain": [
       "<Figure size 640x480 with 2 Axes>"
      ]
     },
     "metadata": {},
     "output_type": "display_data"
    }
   ],
   "source": [
    "# Define the class labels\n",
    "class_labels_new5000_fs = np.sort(merged_df['Interaction'].unique())\n",
    "\n",
    "# Create the confusion matrix\n",
    "cm_new5000_fs = np.array(cm_new5000_fs)\n",
    "\n",
    "# Create a figure and axis\n",
    "fig, ax = plt.subplots()\n",
    "im = ax.imshow(cm_new5000_fs, cmap='Blues')\n",
    "\n",
    "# Set axis labels\n",
    "ax.set_xticks(np.arange(len(class_labels_new5000_fs)))\n",
    "ax.set_yticks(np.arange(len(class_labels_new5000_fs)))\n",
    "ax.set_xticklabels(class_labels_new5000_fs, rotation=45)\n",
    "ax.set_yticklabels(class_labels_new5000_fs)\n",
    "\n",
    "\n",
    "# Add labels to each cell\n",
    "for i in range(len(class_labels_new5000_fs)):\n",
    "    for j in range(len(class_labels_new5000_fs)):\n",
    "        text = ax.text(j, i, cm_new5000_fs[i, j], ha='center', va='center', color='orange')\n",
    "\n",
    "# Add colorbar\n",
    "cbar = ax.figure.colorbar(im, ax=ax)\n",
    "\n",
    "# Set title and labels\n",
    "ax.set_title('Confusion Matrix')\n",
    "ax.set_xlabel('Predicted Label')\n",
    "ax.set_ylabel('True Label')\n",
    "\n",
    "# Show the plot\n",
    "plt.show()"
   ]
  },
  {
   "cell_type": "markdown",
   "id": "69af3a14",
   "metadata": {},
   "source": [
    "## Now I want to test the independent data set"
   ]
  },
  {
   "cell_type": "code",
   "execution_count": 113,
   "id": "313e79d2",
   "metadata": {
    "scrolled": true
   },
   "outputs": [
    {
     "name": "stderr",
     "output_type": "stream",
     "text": [
      "C:\\Users\\raulo\\AppData\\Local\\Temp\\ipykernel_1752\\2643661892.py:1: DtypeWarning: Columns (0,1,2,3,4,5,6,7,8,9,10,11,12,13,14,15,16,17,18,19,20,21,22,23,24,25,26,27,28,29,30,31,32,33,34,35,36,37,38,39,40,41,42) have mixed types. Specify dtype option on import or set low_memory=False.\n",
      "  df_ind = pd.read_csv(r\"C:\\Users\\raulo\\Desktop\\ocean_L3_GH060001_re-encodeDLC_dlcrnetms5_Daniele_Ocean_Int_Encoded_Trial_1Nov14shuffle1_50000_el_filtered.csv\", header = 2)\n"
     ]
    }
   ],
   "source": [
    "df_ind = pd.read_csv(r\"C:\\Users\\raulo\\Desktop\\ocean_L3_GH060001_re-encodeDLC_dlcrnetms5_Daniele_Ocean_Int_Encoded_Trial_1Nov14shuffle1_50000_el_filtered.csv\", header = 2)\n",
    "df_ind = df_ind.drop(0)\n",
    "df_ind.index = df_ind.index -1    #Set the index rigth\n",
    "df_ind = df_ind.drop(columns='bodyparts')\n",
    "df_ind = df_ind.iloc[:, columns]\n",
    "\n",
    "df_label_ind = pd.read_csv(r\"C:\\Users\\raulo\\Desktop\\ocean_L3_GH060001_re-encode.csv\")\n",
    "df_label_ind = df_label_ind.drop(columns='Unnamed: 0')\n",
    "#print(file_path)\n",
    "\n",
    "# Convert DataFrame into a single-column DataFrame\n",
    "single_column_df_ind = pd.DataFrame(df_label_ind.idxmax(axis=1), columns=['Interaction'])"
   ]
  },
  {
   "cell_type": "code",
   "execution_count": 114,
   "id": "7e8c4037",
   "metadata": {},
   "outputs": [],
   "source": [
    "labeled_df_ind = pd.concat([single_column_df_ind, df_ind], axis=1)\n",
    "\n",
    "merged_df_ind = labeled_df_ind\n",
    "\n",
    "X_ind = merged_df_ind.iloc[:, 1:43]  # Select columns 1 to 42 as features\n",
    "y_ind = merged_df_ind.iloc[:, 0]     # Select column 0 as the target variable\n",
    "\n",
    "X_ind_imputed = imputer.fit_transform(X_ind)\n",
    "\n",
    "X_ind_scaled = power_transformer.fit_transform(X_ind_imputed)"
   ]
  },
  {
   "cell_type": "code",
   "execution_count": 115,
   "id": "44f80a9e",
   "metadata": {},
   "outputs": [],
   "source": [
    "labeled_df_ind = pd.concat([single_column_df_ind, df_ind], axis=1)\n",
    "\n",
    "merged_df_ind = labeled_df_ind\n",
    "\n",
    "X_ind = merged_df_ind.iloc[:, 1:43]  # Select columns 1 to 42 as features\n",
    "y_ind = merged_df_ind.iloc[:, 0]     # Select column 0 as the target variable\n",
    "\n",
    "X_ind_imputed = imputer.fit_transform(X_ind)\n",
    "\n",
    "X_ind_scaled = power_transformer.fit_transform(X_ind_imputed)"
   ]
  },
  {
   "cell_type": "code",
   "execution_count": 116,
   "id": "e049d00e",
   "metadata": {},
   "outputs": [
    {
     "name": "stdout",
     "output_type": "stream",
     "text": [
      "Accuracy: 0.9734149403640929\n"
     ]
    }
   ],
   "source": [
    "# Prepare the dataset if needed (e.g., perform preprocessing steps)\n",
    "\n",
    "# Make predictions using the random forest model\n",
    "y_pred = model_new5000_fs.predict(X_ind_scaled)\n",
    "\n",
    "# If you have the ground truth labels, compare them with the predicted labels\n",
    "y_true = y_ind  # Replace \"target_variable\" with the actual column name\n",
    "\n",
    "# Calculate accuracy\n",
    "accuracy = accuracy_score(y_true, y_pred)\n",
    "\n",
    "# Print the accuracy\n",
    "print(\"Accuracy:\", accuracy)"
   ]
  },
  {
   "cell_type": "code",
   "execution_count": 117,
   "id": "e4258005",
   "metadata": {
    "scrolled": false
   },
   "outputs": [
    {
     "data": {
      "text/plain": [
       "array([[    0,     0,     0,   218],\n",
       "       [    0,     0,     0,    84],\n",
       "       [    0,     0,     0,   545],\n",
       "       [    0,     0,     0, 31013]], dtype=int64)"
      ]
     },
     "execution_count": 117,
     "metadata": {},
     "output_type": "execute_result"
    }
   ],
   "source": [
    "cm = confusion_matrix(y_true, y_pred)\n",
    "cm"
   ]
  },
  {
   "cell_type": "markdown",
   "id": "9e68f3de",
   "metadata": {},
   "source": [
    "## StandardScaler"
   ]
  },
  {
   "cell_type": "code",
   "execution_count": 118,
   "id": "c5d72c95",
   "metadata": {},
   "outputs": [],
   "source": [
    "columns = [1,2,4,5,7,8,10,11,13,14,16,17,19,20,22,23,25,26,28,29,31,32,34,35,37,38,40,41]"
   ]
  },
  {
   "cell_type": "code",
   "execution_count": 119,
   "id": "d1f2dd50",
   "metadata": {},
   "outputs": [],
   "source": [
    "X_new5000_fs = undersampled_df.iloc[:, columns]  # Select columns 1 to 42 as features\n",
    "y_new5000_fs = undersampled_df.iloc[:, 0]     # Select column 0 as the target variable"
   ]
  },
  {
   "cell_type": "code",
   "execution_count": 120,
   "id": "f9213a01",
   "metadata": {},
   "outputs": [],
   "source": [
    "imputer = SimpleImputer(strategy='mean')\n",
    "\n",
    "X_imputed_new5000_fs = imputer.fit_transform(X_new5000_fs)"
   ]
  },
  {
   "cell_type": "code",
   "execution_count": 121,
   "id": "f2edabe5",
   "metadata": {},
   "outputs": [],
   "source": [
    "# Create an instance of PowerTransformer\n",
    "power_transformer = StandardScaler()\n",
    "\n",
    "# Fit and transform the data\n",
    "X_scaled_new5000_fs = power_transformer.fit_transform(X_imputed_new5000_fs)"
   ]
  },
  {
   "cell_type": "code",
   "execution_count": 122,
   "id": "e5b95256",
   "metadata": {},
   "outputs": [],
   "source": [
    "X_train_new5000_fs, X_test_new5000_fs, y_train_new5000_fs, y_test_new5000_fs = train_test_split(X_scaled_new5000_fs, y_new5000_fs, test_size=0.2, random_state=1999)"
   ]
  },
  {
   "cell_type": "code",
   "execution_count": 123,
   "id": "c10c9dc4",
   "metadata": {
    "scrolled": false
   },
   "outputs": [
    {
     "data": {
      "text/html": [
       "<style>#sk-container-id-8 {color: black;background-color: white;}#sk-container-id-8 pre{padding: 0;}#sk-container-id-8 div.sk-toggleable {background-color: white;}#sk-container-id-8 label.sk-toggleable__label {cursor: pointer;display: block;width: 100%;margin-bottom: 0;padding: 0.3em;box-sizing: border-box;text-align: center;}#sk-container-id-8 label.sk-toggleable__label-arrow:before {content: \"▸\";float: left;margin-right: 0.25em;color: #696969;}#sk-container-id-8 label.sk-toggleable__label-arrow:hover:before {color: black;}#sk-container-id-8 div.sk-estimator:hover label.sk-toggleable__label-arrow:before {color: black;}#sk-container-id-8 div.sk-toggleable__content {max-height: 0;max-width: 0;overflow: hidden;text-align: left;background-color: #f0f8ff;}#sk-container-id-8 div.sk-toggleable__content pre {margin: 0.2em;color: black;border-radius: 0.25em;background-color: #f0f8ff;}#sk-container-id-8 input.sk-toggleable__control:checked~div.sk-toggleable__content {max-height: 200px;max-width: 100%;overflow: auto;}#sk-container-id-8 input.sk-toggleable__control:checked~label.sk-toggleable__label-arrow:before {content: \"▾\";}#sk-container-id-8 div.sk-estimator input.sk-toggleable__control:checked~label.sk-toggleable__label {background-color: #d4ebff;}#sk-container-id-8 div.sk-label input.sk-toggleable__control:checked~label.sk-toggleable__label {background-color: #d4ebff;}#sk-container-id-8 input.sk-hidden--visually {border: 0;clip: rect(1px 1px 1px 1px);clip: rect(1px, 1px, 1px, 1px);height: 1px;margin: -1px;overflow: hidden;padding: 0;position: absolute;width: 1px;}#sk-container-id-8 div.sk-estimator {font-family: monospace;background-color: #f0f8ff;border: 1px dotted black;border-radius: 0.25em;box-sizing: border-box;margin-bottom: 0.5em;}#sk-container-id-8 div.sk-estimator:hover {background-color: #d4ebff;}#sk-container-id-8 div.sk-parallel-item::after {content: \"\";width: 100%;border-bottom: 1px solid gray;flex-grow: 1;}#sk-container-id-8 div.sk-label:hover label.sk-toggleable__label {background-color: #d4ebff;}#sk-container-id-8 div.sk-serial::before {content: \"\";position: absolute;border-left: 1px solid gray;box-sizing: border-box;top: 0;bottom: 0;left: 50%;z-index: 0;}#sk-container-id-8 div.sk-serial {display: flex;flex-direction: column;align-items: center;background-color: white;padding-right: 0.2em;padding-left: 0.2em;position: relative;}#sk-container-id-8 div.sk-item {position: relative;z-index: 1;}#sk-container-id-8 div.sk-parallel {display: flex;align-items: stretch;justify-content: center;background-color: white;position: relative;}#sk-container-id-8 div.sk-item::before, #sk-container-id-8 div.sk-parallel-item::before {content: \"\";position: absolute;border-left: 1px solid gray;box-sizing: border-box;top: 0;bottom: 0;left: 50%;z-index: -1;}#sk-container-id-8 div.sk-parallel-item {display: flex;flex-direction: column;z-index: 1;position: relative;background-color: white;}#sk-container-id-8 div.sk-parallel-item:first-child::after {align-self: flex-end;width: 50%;}#sk-container-id-8 div.sk-parallel-item:last-child::after {align-self: flex-start;width: 50%;}#sk-container-id-8 div.sk-parallel-item:only-child::after {width: 0;}#sk-container-id-8 div.sk-dashed-wrapped {border: 1px dashed gray;margin: 0 0.4em 0.5em 0.4em;box-sizing: border-box;padding-bottom: 0.4em;background-color: white;}#sk-container-id-8 div.sk-label label {font-family: monospace;font-weight: bold;display: inline-block;line-height: 1.2em;}#sk-container-id-8 div.sk-label-container {text-align: center;}#sk-container-id-8 div.sk-container {/* jupyter's `normalize.less` sets `[hidden] { display: none; }` but bootstrap.min.css set `[hidden] { display: none !important; }` so we also need the `!important` here to be able to override the default hidden behavior on the sphinx rendered scikit-learn.org. See: https://github.com/scikit-learn/scikit-learn/issues/21755 */display: inline-block !important;position: relative;}#sk-container-id-8 div.sk-text-repr-fallback {display: none;}</style><div id=\"sk-container-id-8\" class=\"sk-top-container\"><div class=\"sk-text-repr-fallback\"><pre>RandomForestClassifier()</pre><b>In a Jupyter environment, please rerun this cell to show the HTML representation or trust the notebook. <br />On GitHub, the HTML representation is unable to render, please try loading this page with nbviewer.org.</b></div><div class=\"sk-container\" hidden><div class=\"sk-item\"><div class=\"sk-estimator sk-toggleable\"><input class=\"sk-toggleable__control sk-hidden--visually\" id=\"sk-estimator-id-8\" type=\"checkbox\" checked><label for=\"sk-estimator-id-8\" class=\"sk-toggleable__label sk-toggleable__label-arrow\">RandomForestClassifier</label><div class=\"sk-toggleable__content\"><pre>RandomForestClassifier()</pre></div></div></div></div></div>"
      ],
      "text/plain": [
       "RandomForestClassifier()"
      ]
     },
     "execution_count": 123,
     "metadata": {},
     "output_type": "execute_result"
    }
   ],
   "source": [
    "model_new5000_fs = RandomForestClassifier()\n",
    "model_new5000_fs.fit(X_train_new5000_fs, y_train_new5000_fs)"
   ]
  },
  {
   "cell_type": "code",
   "execution_count": 124,
   "id": "0b9279c3",
   "metadata": {},
   "outputs": [
    {
     "name": "stdout",
     "output_type": "stream",
     "text": [
      "Accuracy: 0.9882266372332598\n"
     ]
    }
   ],
   "source": [
    "y_pred_new5000_fs = model_new5000_fs.predict(X_test_new5000_fs)\n",
    "accuracy_new5000_fs = accuracy_score(y_test_new5000_fs, y_pred_new5000_fs)\n",
    "print(\"Accuracy:\", accuracy_new5000_fs)"
   ]
  },
  {
   "cell_type": "code",
   "execution_count": 125,
   "id": "12976b02",
   "metadata": {},
   "outputs": [],
   "source": [
    "# Assuming you have the predicted labels (y_pred) and actual labels (y_test)\n",
    "cm_new5000_fs = confusion_matrix(y_test_new5000_fs, y_pred_new5000_fs)\n",
    "\n",
    "#print(cm_new5000_featuresselection)"
   ]
  },
  {
   "cell_type": "code",
   "execution_count": 126,
   "id": "a2eb16bd",
   "metadata": {
    "scrolled": true
   },
   "outputs": [
    {
     "data": {
      "image/png": "[encoded data removed]",
      "text/plain": [
       "<Figure size 640x480 with 2 Axes>"
      ]
     },
     "metadata": {},
     "output_type": "display_data"
    }
   ],
   "source": [
    "# Define the class labels\n",
    "class_labels_new5000_fs = np.sort(merged_df['Interaction'].unique())\n",
    "\n",
    "# Create the confusion matrix\n",
    "cm_new5000_fs = np.array(cm_new5000_fs)\n",
    "\n",
    "# Create a figure and axis\n",
    "fig, ax = plt.subplots()\n",
    "im = ax.imshow(cm_new5000_fs, cmap='Blues')\n",
    "\n",
    "# Set axis labels\n",
    "ax.set_xticks(np.arange(len(class_labels_new5000_fs)))\n",
    "ax.set_yticks(np.arange(len(class_labels_new5000_fs)))\n",
    "ax.set_xticklabels(class_labels_new5000_fs, rotation=45)\n",
    "ax.set_yticklabels(class_labels_new5000_fs)\n",
    "\n",
    "\n",
    "# Add labels to each cell\n",
    "for i in range(len(class_labels_new5000_fs)):\n",
    "    for j in range(len(class_labels_new5000_fs)):\n",
    "        text = ax.text(j, i, cm_new5000_fs[i, j], ha='center', va='center', color='orange')\n",
    "\n",
    "# Add colorbar\n",
    "cbar = ax.figure.colorbar(im, ax=ax)\n",
    "\n",
    "# Set title and labels\n",
    "ax.set_title('Confusion Matrix')\n",
    "ax.set_xlabel('Predicted Label')\n",
    "ax.set_ylabel('True Label')\n",
    "\n",
    "# Show the plot\n",
    "plt.show()"
   ]
  },
  {
   "cell_type": "markdown",
   "id": "1d60c6d2",
   "metadata": {},
   "source": [
    "## Now I want to test the independent data set"
   ]
  },
  {
   "cell_type": "code",
   "execution_count": 127,
   "id": "814e7ed0",
   "metadata": {
    "scrolled": true
   },
   "outputs": [
    {
     "name": "stderr",
     "output_type": "stream",
     "text": [
      "C:\\Users\\raulo\\AppData\\Local\\Temp\\ipykernel_1752\\2643661892.py:1: DtypeWarning: Columns (0,1,2,3,4,5,6,7,8,9,10,11,12,13,14,15,16,17,18,19,20,21,22,23,24,25,26,27,28,29,30,31,32,33,34,35,36,37,38,39,40,41,42) have mixed types. Specify dtype option on import or set low_memory=False.\n",
      "  df_ind = pd.read_csv(r\"C:\\Users\\raulo\\Desktop\\ocean_L3_GH060001_re-encodeDLC_dlcrnetms5_Daniele_Ocean_Int_Encoded_Trial_1Nov14shuffle1_50000_el_filtered.csv\", header = 2)\n"
     ]
    }
   ],
   "source": [
    "df_ind = pd.read_csv(r\"C:\\Users\\raulo\\Desktop\\ocean_L3_GH060001_re-encodeDLC_dlcrnetms5_Daniele_Ocean_Int_Encoded_Trial_1Nov14shuffle1_50000_el_filtered.csv\", header = 2)\n",
    "df_ind = df_ind.drop(0)\n",
    "df_ind.index = df_ind.index -1    #Set the index rigth\n",
    "df_ind = df_ind.drop(columns='bodyparts')\n",
    "df_ind = df_ind.iloc[:, columns]\n",
    "\n",
    "df_label_ind = pd.read_csv(r\"C:\\Users\\raulo\\Desktop\\ocean_L3_GH060001_re-encode.csv\")\n",
    "df_label_ind = df_label_ind.drop(columns='Unnamed: 0')\n",
    "#print(file_path)\n",
    "\n",
    "# Convert DataFrame into a single-column DataFrame\n",
    "single_column_df_ind = pd.DataFrame(df_label_ind.idxmax(axis=1), columns=['Interaction'])"
   ]
  },
  {
   "cell_type": "code",
   "execution_count": 128,
   "id": "aa9b8a48",
   "metadata": {},
   "outputs": [],
   "source": [
    "labeled_df_ind = pd.concat([single_column_df_ind, df_ind], axis=1)\n",
    "\n",
    "merged_df_ind = labeled_df_ind\n",
    "\n",
    "X_ind = merged_df_ind.iloc[:, 1:43]  # Select columns 1 to 42 as features\n",
    "y_ind = merged_df_ind.iloc[:, 0]     # Select column 0 as the target variable\n",
    "\n",
    "X_ind_imputed = imputer.fit_transform(X_ind)\n",
    "\n",
    "X_ind_scaled = power_transformer.fit_transform(X_ind_imputed)"
   ]
  },
  {
   "cell_type": "code",
   "execution_count": 129,
   "id": "c19a88b0",
   "metadata": {},
   "outputs": [],
   "source": [
    "labeled_df_ind = pd.concat([single_column_df_ind, df_ind], axis=1)\n",
    "\n",
    "merged_df_ind = labeled_df_ind\n",
    "\n",
    "X_ind = merged_df_ind.iloc[:, 1:43]  # Select columns 1 to 42 as features\n",
    "y_ind = merged_df_ind.iloc[:, 0]     # Select column 0 as the target variable\n",
    "\n",
    "X_ind_imputed = imputer.fit_transform(X_ind)\n",
    "\n",
    "X_ind_scaled = power_transformer.fit_transform(X_ind_imputed)"
   ]
  },
  {
   "cell_type": "code",
   "execution_count": 130,
   "id": "b0774e27",
   "metadata": {},
   "outputs": [
    {
     "name": "stdout",
     "output_type": "stream",
     "text": [
      "Accuracy: 0.9734149403640929\n"
     ]
    }
   ],
   "source": [
    "# Prepare the dataset if needed (e.g., perform preprocessing steps)\n",
    "\n",
    "# Make predictions using the random forest model\n",
    "y_pred = model_new5000_fs.predict(X_ind_scaled)\n",
    "\n",
    "# If you have the ground truth labels, compare them with the predicted labels\n",
    "y_true = y_ind  # Replace \"target_variable\" with the actual column name\n",
    "\n",
    "# Calculate accuracy\n",
    "accuracy = accuracy_score(y_true, y_pred)\n",
    "\n",
    "# Print the accuracy\n",
    "print(\"Accuracy:\", accuracy)"
   ]
  },
  {
   "cell_type": "code",
   "execution_count": 131,
   "id": "c2bbf4bb",
   "metadata": {
    "scrolled": true
   },
   "outputs": [
    {
     "data": {
      "text/plain": [
       "array([[    0,     0,     0,   218],\n",
       "       [    0,     0,     0,    84],\n",
       "       [    0,     0,     0,   545],\n",
       "       [    0,     0,     0, 31013]], dtype=int64)"
      ]
     },
     "execution_count": 131,
     "metadata": {},
     "output_type": "execute_result"
    }
   ],
   "source": [
    "cm = confusion_matrix(y_true, y_pred)\n",
    "cm"
   ]
  },
  {
   "cell_type": "markdown",
   "id": "25b09ff9",
   "metadata": {},
   "source": [
    "## MinMaxScaler"
   ]
  },
  {
   "cell_type": "code",
   "execution_count": 132,
   "id": "cbed9936",
   "metadata": {},
   "outputs": [],
   "source": [
    "columns = [1,2,4,5,7,8,10,11,13,14,16,17,19,20,22,23,25,26,28,29,31,32,34,35,37,38,40,41]"
   ]
  },
  {
   "cell_type": "code",
   "execution_count": 133,
   "id": "e5ebdb4b",
   "metadata": {},
   "outputs": [],
   "source": [
    "X_new5000_fs = undersampled_df.iloc[:, columns]  # Select columns 1 to 42 as features\n",
    "y_new5000_fs = undersampled_df.iloc[:, 0]     # Select column 0 as the target variable"
   ]
  },
  {
   "cell_type": "code",
   "execution_count": 134,
   "id": "fdbf0341",
   "metadata": {},
   "outputs": [],
   "source": [
    "imputer = SimpleImputer(strategy='mean')\n",
    "\n",
    "X_imputed_new5000_fs = imputer.fit_transform(X_new5000_fs)"
   ]
  },
  {
   "cell_type": "code",
   "execution_count": 135,
   "id": "2ad026fd",
   "metadata": {},
   "outputs": [],
   "source": [
    "# Create an instance of PowerTransformer\n",
    "power_transformer = MinMaxScaler()\n",
    "\n",
    "# Fit and transform the data\n",
    "X_scaled_new5000_fs = power_transformer.fit_transform(X_imputed_new5000_fs)"
   ]
  },
  {
   "cell_type": "code",
   "execution_count": 136,
   "id": "eab4623c",
   "metadata": {},
   "outputs": [],
   "source": [
    "X_train_new5000_fs, X_test_new5000_fs, y_train_new5000_fs, y_test_new5000_fs = train_test_split(X_scaled_new5000_fs, y_new5000_fs, test_size=0.2, random_state=1999)"
   ]
  },
  {
   "cell_type": "code",
   "execution_count": 137,
   "id": "0c3a874e",
   "metadata": {
    "scrolled": false
   },
   "outputs": [
    {
     "data": {
      "text/html": [
       "<style>#sk-container-id-9 {color: black;background-color: white;}#sk-container-id-9 pre{padding: 0;}#sk-container-id-9 div.sk-toggleable {background-color: white;}#sk-container-id-9 label.sk-toggleable__label {cursor: pointer;display: block;width: 100%;margin-bottom: 0;padding: 0.3em;box-sizing: border-box;text-align: center;}#sk-container-id-9 label.sk-toggleable__label-arrow:before {content: \"▸\";float: left;margin-right: 0.25em;color: #696969;}#sk-container-id-9 label.sk-toggleable__label-arrow:hover:before {color: black;}#sk-container-id-9 div.sk-estimator:hover label.sk-toggleable__label-arrow:before {color: black;}#sk-container-id-9 div.sk-toggleable__content {max-height: 0;max-width: 0;overflow: hidden;text-align: left;background-color: #f0f8ff;}#sk-container-id-9 div.sk-toggleable__content pre {margin: 0.2em;color: black;border-radius: 0.25em;background-color: #f0f8ff;}#sk-container-id-9 input.sk-toggleable__control:checked~div.sk-toggleable__content {max-height: 200px;max-width: 100%;overflow: auto;}#sk-container-id-9 input.sk-toggleable__control:checked~label.sk-toggleable__label-arrow:before {content: \"▾\";}#sk-container-id-9 div.sk-estimator input.sk-toggleable__control:checked~label.sk-toggleable__label {background-color: #d4ebff;}#sk-container-id-9 div.sk-label input.sk-toggleable__control:checked~label.sk-toggleable__label {background-color: #d4ebff;}#sk-container-id-9 input.sk-hidden--visually {border: 0;clip: rect(1px 1px 1px 1px);clip: rect(1px, 1px, 1px, 1px);height: 1px;margin: -1px;overflow: hidden;padding: 0;position: absolute;width: 1px;}#sk-container-id-9 div.sk-estimator {font-family: monospace;background-color: #f0f8ff;border: 1px dotted black;border-radius: 0.25em;box-sizing: border-box;margin-bottom: 0.5em;}#sk-container-id-9 div.sk-estimator:hover {background-color: #d4ebff;}#sk-container-id-9 div.sk-parallel-item::after {content: \"\";width: 100%;border-bottom: 1px solid gray;flex-grow: 1;}#sk-container-id-9 div.sk-label:hover label.sk-toggleable__label {background-color: #d4ebff;}#sk-container-id-9 div.sk-serial::before {content: \"\";position: absolute;border-left: 1px solid gray;box-sizing: border-box;top: 0;bottom: 0;left: 50%;z-index: 0;}#sk-container-id-9 div.sk-serial {display: flex;flex-direction: column;align-items: center;background-color: white;padding-right: 0.2em;padding-left: 0.2em;position: relative;}#sk-container-id-9 div.sk-item {position: relative;z-index: 1;}#sk-container-id-9 div.sk-parallel {display: flex;align-items: stretch;justify-content: center;background-color: white;position: relative;}#sk-container-id-9 div.sk-item::before, #sk-container-id-9 div.sk-parallel-item::before {content: \"\";position: absolute;border-left: 1px solid gray;box-sizing: border-box;top: 0;bottom: 0;left: 50%;z-index: -1;}#sk-container-id-9 div.sk-parallel-item {display: flex;flex-direction: column;z-index: 1;position: relative;background-color: white;}#sk-container-id-9 div.sk-parallel-item:first-child::after {align-self: flex-end;width: 50%;}#sk-container-id-9 div.sk-parallel-item:last-child::after {align-self: flex-start;width: 50%;}#sk-container-id-9 div.sk-parallel-item:only-child::after {width: 0;}#sk-container-id-9 div.sk-dashed-wrapped {border: 1px dashed gray;margin: 0 0.4em 0.5em 0.4em;box-sizing: border-box;padding-bottom: 0.4em;background-color: white;}#sk-container-id-9 div.sk-label label {font-family: monospace;font-weight: bold;display: inline-block;line-height: 1.2em;}#sk-container-id-9 div.sk-label-container {text-align: center;}#sk-container-id-9 div.sk-container {/* jupyter's `normalize.less` sets `[hidden] { display: none; }` but bootstrap.min.css set `[hidden] { display: none !important; }` so we also need the `!important` here to be able to override the default hidden behavior on the sphinx rendered scikit-learn.org. See: https://github.com/scikit-learn/scikit-learn/issues/21755 */display: inline-block !important;position: relative;}#sk-container-id-9 div.sk-text-repr-fallback {display: none;}</style><div id=\"sk-container-id-9\" class=\"sk-top-container\"><div class=\"sk-text-repr-fallback\"><pre>RandomForestClassifier()</pre><b>In a Jupyter environment, please rerun this cell to show the HTML representation or trust the notebook. <br />On GitHub, the HTML representation is unable to render, please try loading this page with nbviewer.org.</b></div><div class=\"sk-container\" hidden><div class=\"sk-item\"><div class=\"sk-estimator sk-toggleable\"><input class=\"sk-toggleable__control sk-hidden--visually\" id=\"sk-estimator-id-9\" type=\"checkbox\" checked><label for=\"sk-estimator-id-9\" class=\"sk-toggleable__label sk-toggleable__label-arrow\">RandomForestClassifier</label><div class=\"sk-toggleable__content\"><pre>RandomForestClassifier()</pre></div></div></div></div></div>"
      ],
      "text/plain": [
       "RandomForestClassifier()"
      ]
     },
     "execution_count": 137,
     "metadata": {},
     "output_type": "execute_result"
    }
   ],
   "source": [
    "model_new5000_fs = RandomForestClassifier()\n",
    "model_new5000_fs.fit(X_train_new5000_fs, y_train_new5000_fs)"
   ]
  },
  {
   "cell_type": "code",
   "execution_count": 138,
   "id": "e7c06929",
   "metadata": {},
   "outputs": [
    {
     "name": "stdout",
     "output_type": "stream",
     "text": [
      "Accuracy: 0.9889624724061811\n"
     ]
    }
   ],
   "source": [
    "y_pred_new5000_fs = model_new5000_fs.predict(X_test_new5000_fs)\n",
    "accuracy_new5000_fs = accuracy_score(y_test_new5000_fs, y_pred_new5000_fs)\n",
    "print(\"Accuracy:\", accuracy_new5000_fs)"
   ]
  },
  {
   "cell_type": "code",
   "execution_count": 139,
   "id": "615e7416",
   "metadata": {},
   "outputs": [],
   "source": [
    "# Assuming you have the predicted labels (y_pred) and actual labels (y_test)\n",
    "cm_new5000_fs = confusion_matrix(y_test_new5000_fs, y_pred_new5000_fs)\n",
    "\n",
    "#print(cm_new5000_featuresselection)"
   ]
  },
  {
   "cell_type": "code",
   "execution_count": 140,
   "id": "f3f59bb9",
   "metadata": {
    "scrolled": true
   },
   "outputs": [
    {
     "data": {
      "image/png": "[encoded data removed]",
      "text/plain": [
       "<Figure size 640x480 with 2 Axes>"
      ]
     },
     "metadata": {},
     "output_type": "display_data"
    }
   ],
   "source": [
    "# Define the class labels\n",
    "class_labels_new5000_fs = np.sort(merged_df['Interaction'].unique())\n",
    "\n",
    "# Create the confusion matrix\n",
    "cm_new5000_fs = np.array(cm_new5000_fs)\n",
    "\n",
    "# Create a figure and axis\n",
    "fig, ax = plt.subplots()\n",
    "im = ax.imshow(cm_new5000_fs, cmap='Blues')\n",
    "\n",
    "# Set axis labels\n",
    "ax.set_xticks(np.arange(len(class_labels_new5000_fs)))\n",
    "ax.set_yticks(np.arange(len(class_labels_new5000_fs)))\n",
    "ax.set_xticklabels(class_labels_new5000_fs, rotation=45)\n",
    "ax.set_yticklabels(class_labels_new5000_fs)\n",
    "\n",
    "\n",
    "# Add labels to each cell\n",
    "for i in range(len(class_labels_new5000_fs)):\n",
    "    for j in range(len(class_labels_new5000_fs)):\n",
    "        text = ax.text(j, i, cm_new5000_fs[i, j], ha='center', va='center', color='orange')\n",
    "\n",
    "# Add colorbar\n",
    "cbar = ax.figure.colorbar(im, ax=ax)\n",
    "\n",
    "# Set title and labels\n",
    "ax.set_title('Confusion Matrix')\n",
    "ax.set_xlabel('Predicted Label')\n",
    "ax.set_ylabel('True Label')\n",
    "\n",
    "# Show the plot\n",
    "plt.show()"
   ]
  },
  {
   "cell_type": "markdown",
   "id": "81903472",
   "metadata": {},
   "source": [
    "## Now I want to test the independent data set"
   ]
  },
  {
   "cell_type": "code",
   "execution_count": 141,
   "id": "37030b15",
   "metadata": {
    "scrolled": true
   },
   "outputs": [
    {
     "name": "stderr",
     "output_type": "stream",
     "text": [
      "C:\\Users\\raulo\\AppData\\Local\\Temp\\ipykernel_1752\\2643661892.py:1: DtypeWarning: Columns (0,1,2,3,4,5,6,7,8,9,10,11,12,13,14,15,16,17,18,19,20,21,22,23,24,25,26,27,28,29,30,31,32,33,34,35,36,37,38,39,40,41,42) have mixed types. Specify dtype option on import or set low_memory=False.\n",
      "  df_ind = pd.read_csv(r\"C:\\Users\\raulo\\Desktop\\ocean_L3_GH060001_re-encodeDLC_dlcrnetms5_Daniele_Ocean_Int_Encoded_Trial_1Nov14shuffle1_50000_el_filtered.csv\", header = 2)\n"
     ]
    }
   ],
   "source": [
    "df_ind = pd.read_csv(r\"C:\\Users\\raulo\\Desktop\\ocean_L3_GH060001_re-encodeDLC_dlcrnetms5_Daniele_Ocean_Int_Encoded_Trial_1Nov14shuffle1_50000_el_filtered.csv\", header = 2)\n",
    "df_ind = df_ind.drop(0)\n",
    "df_ind.index = df_ind.index -1    #Set the index rigth\n",
    "df_ind = df_ind.drop(columns='bodyparts')\n",
    "df_ind = df_ind.iloc[:, columns]\n",
    "\n",
    "df_label_ind = pd.read_csv(r\"C:\\Users\\raulo\\Desktop\\ocean_L3_GH060001_re-encode.csv\")\n",
    "df_label_ind = df_label_ind.drop(columns='Unnamed: 0')\n",
    "#print(file_path)\n",
    "\n",
    "# Convert DataFrame into a single-column DataFrame\n",
    "single_column_df_ind = pd.DataFrame(df_label_ind.idxmax(axis=1), columns=['Interaction'])"
   ]
  },
  {
   "cell_type": "code",
   "execution_count": 142,
   "id": "596b8d14",
   "metadata": {},
   "outputs": [],
   "source": [
    "labeled_df_ind = pd.concat([single_column_df_ind, df_ind], axis=1)\n",
    "\n",
    "merged_df_ind = labeled_df_ind\n",
    "\n",
    "X_ind = merged_df_ind.iloc[:, 1:43]  # Select columns 1 to 42 as features\n",
    "y_ind = merged_df_ind.iloc[:, 0]     # Select column 0 as the target variable\n",
    "\n",
    "X_ind_imputed = imputer.fit_transform(X_ind)\n",
    "\n",
    "X_ind_scaled = power_transformer.fit_transform(X_ind_imputed)"
   ]
  },
  {
   "cell_type": "code",
   "execution_count": 143,
   "id": "20fbfa63",
   "metadata": {},
   "outputs": [],
   "source": [
    "labeled_df_ind = pd.concat([single_column_df_ind, df_ind], axis=1)\n",
    "\n",
    "merged_df_ind = labeled_df_ind\n",
    "\n",
    "X_ind = merged_df_ind.iloc[:, 1:43]  # Select columns 1 to 42 as features\n",
    "y_ind = merged_df_ind.iloc[:, 0]     # Select column 0 as the target variable\n",
    "\n",
    "X_ind_imputed = imputer.fit_transform(X_ind)\n",
    "\n",
    "X_ind_scaled = power_transformer.fit_transform(X_ind_imputed)"
   ]
  },
  {
   "cell_type": "code",
   "execution_count": 144,
   "id": "0ab09c0b",
   "metadata": {},
   "outputs": [
    {
     "name": "stdout",
     "output_type": "stream",
     "text": [
      "Accuracy: 0.9734149403640929\n"
     ]
    }
   ],
   "source": [
    "# Prepare the dataset if needed (e.g., perform preprocessing steps)\n",
    "\n",
    "# Make predictions using the random forest model\n",
    "y_pred = model_new5000_fs.predict(X_ind_scaled)\n",
    "\n",
    "# If you have the ground truth labels, compare them with the predicted labels\n",
    "y_true = y_ind  # Replace \"target_variable\" with the actual column name\n",
    "\n",
    "# Calculate accuracy\n",
    "accuracy = accuracy_score(y_true, y_pred)\n",
    "\n",
    "# Print the accuracy\n",
    "print(\"Accuracy:\", accuracy)"
   ]
  },
  {
   "cell_type": "code",
   "execution_count": 145,
   "id": "4fa28640",
   "metadata": {
    "scrolled": true
   },
   "outputs": [
    {
     "data": {
      "text/plain": [
       "array([[    0,     0,     0,   218],\n",
       "       [    0,     0,     0,    84],\n",
       "       [    0,     0,     0,   545],\n",
       "       [    0,     0,     0, 31013]], dtype=int64)"
      ]
     },
     "execution_count": 145,
     "metadata": {},
     "output_type": "execute_result"
    }
   ],
   "source": [
    "cm = confusion_matrix(y_true, y_pred)\n",
    "cm"
   ]
  },
  {
   "cell_type": "markdown",
   "id": "3fac11b9",
   "metadata": {},
   "source": [
    "---\n",
    "---\n",
    "---\n",
    "---"
   ]
  },
  {
   "cell_type": "markdown",
   "id": "d4a77985",
   "metadata": {},
   "source": [
    "# RandomForest (Columns likelihood out) with 5k backgrounds\n",
    "+ Imputer = KNNImputer"
   ]
  },
  {
   "cell_type": "markdown",
   "id": "af0c44cf",
   "metadata": {},
   "source": [
    "## PowerTransformer"
   ]
  },
  {
   "cell_type": "code",
   "execution_count": 188,
   "id": "87e0ec84",
   "metadata": {},
   "outputs": [],
   "source": [
    "columns = [1,2,4,5,7,8,10,11,13,14,16,17,19,20,22,23,25,26,28,29,31,32,34,35,37,38,40,41]"
   ]
  },
  {
   "cell_type": "code",
   "execution_count": 189,
   "id": "cfb80a38",
   "metadata": {},
   "outputs": [],
   "source": [
    "X_new5000_fs = undersampled_df.iloc[:, columns]  # Select columns 1 to 42 as features\n",
    "y_new5000_fs = undersampled_df.iloc[:, 0]     # Select column 0 as the target variable"
   ]
  },
  {
   "cell_type": "code",
   "execution_count": 190,
   "id": "61bb95ee",
   "metadata": {},
   "outputs": [],
   "source": [
    "imputer = KNNImputer(n_neighbors=5, weights='uniform')\n",
    "\n",
    "X_imputed_new5000_fs = imputer.fit_transform(X_new5000_fs)"
   ]
  },
  {
   "cell_type": "code",
   "execution_count": 191,
   "id": "31635ad1",
   "metadata": {},
   "outputs": [],
   "source": [
    "# Create an instance of PowerTransformer\n",
    "power_transformer = PowerTransformer()\n",
    "\n",
    "# Fit and transform the data\n",
    "X_scaled_new5000_fs = power_transformer.fit_transform(X_imputed_new5000_fs)"
   ]
  },
  {
   "cell_type": "code",
   "execution_count": 192,
   "id": "47883edf",
   "metadata": {},
   "outputs": [],
   "source": [
    "X_train_new5000_fs, X_test_new5000_fs, y_train_new5000_fs, y_test_new5000_fs = train_test_split(X_scaled_new5000_fs, y_new5000_fs, test_size=0.2, random_state=1999)"
   ]
  },
  {
   "cell_type": "code",
   "execution_count": 193,
   "id": "f3462c22",
   "metadata": {
    "scrolled": false
   },
   "outputs": [
    {
     "data": {
      "text/html": [
       "<style>#sk-container-id-13 {color: black;background-color: white;}#sk-container-id-13 pre{padding: 0;}#sk-container-id-13 div.sk-toggleable {background-color: white;}#sk-container-id-13 label.sk-toggleable__label {cursor: pointer;display: block;width: 100%;margin-bottom: 0;padding: 0.3em;box-sizing: border-box;text-align: center;}#sk-container-id-13 label.sk-toggleable__label-arrow:before {content: \"▸\";float: left;margin-right: 0.25em;color: #696969;}#sk-container-id-13 label.sk-toggleable__label-arrow:hover:before {color: black;}#sk-container-id-13 div.sk-estimator:hover label.sk-toggleable__label-arrow:before {color: black;}#sk-container-id-13 div.sk-toggleable__content {max-height: 0;max-width: 0;overflow: hidden;text-align: left;background-color: #f0f8ff;}#sk-container-id-13 div.sk-toggleable__content pre {margin: 0.2em;color: black;border-radius: 0.25em;background-color: #f0f8ff;}#sk-container-id-13 input.sk-toggleable__control:checked~div.sk-toggleable__content {max-height: 200px;max-width: 100%;overflow: auto;}#sk-container-id-13 input.sk-toggleable__control:checked~label.sk-toggleable__label-arrow:before {content: \"▾\";}#sk-container-id-13 div.sk-estimator input.sk-toggleable__control:checked~label.sk-toggleable__label {background-color: #d4ebff;}#sk-container-id-13 div.sk-label input.sk-toggleable__control:checked~label.sk-toggleable__label {background-color: #d4ebff;}#sk-container-id-13 input.sk-hidden--visually {border: 0;clip: rect(1px 1px 1px 1px);clip: rect(1px, 1px, 1px, 1px);height: 1px;margin: -1px;overflow: hidden;padding: 0;position: absolute;width: 1px;}#sk-container-id-13 div.sk-estimator {font-family: monospace;background-color: #f0f8ff;border: 1px dotted black;border-radius: 0.25em;box-sizing: border-box;margin-bottom: 0.5em;}#sk-container-id-13 div.sk-estimator:hover {background-color: #d4ebff;}#sk-container-id-13 div.sk-parallel-item::after {content: \"\";width: 100%;border-bottom: 1px solid gray;flex-grow: 1;}#sk-container-id-13 div.sk-label:hover label.sk-toggleable__label {background-color: #d4ebff;}#sk-container-id-13 div.sk-serial::before {content: \"\";position: absolute;border-left: 1px solid gray;box-sizing: border-box;top: 0;bottom: 0;left: 50%;z-index: 0;}#sk-container-id-13 div.sk-serial {display: flex;flex-direction: column;align-items: center;background-color: white;padding-right: 0.2em;padding-left: 0.2em;position: relative;}#sk-container-id-13 div.sk-item {position: relative;z-index: 1;}#sk-container-id-13 div.sk-parallel {display: flex;align-items: stretch;justify-content: center;background-color: white;position: relative;}#sk-container-id-13 div.sk-item::before, #sk-container-id-13 div.sk-parallel-item::before {content: \"\";position: absolute;border-left: 1px solid gray;box-sizing: border-box;top: 0;bottom: 0;left: 50%;z-index: -1;}#sk-container-id-13 div.sk-parallel-item {display: flex;flex-direction: column;z-index: 1;position: relative;background-color: white;}#sk-container-id-13 div.sk-parallel-item:first-child::after {align-self: flex-end;width: 50%;}#sk-container-id-13 div.sk-parallel-item:last-child::after {align-self: flex-start;width: 50%;}#sk-container-id-13 div.sk-parallel-item:only-child::after {width: 0;}#sk-container-id-13 div.sk-dashed-wrapped {border: 1px dashed gray;margin: 0 0.4em 0.5em 0.4em;box-sizing: border-box;padding-bottom: 0.4em;background-color: white;}#sk-container-id-13 div.sk-label label {font-family: monospace;font-weight: bold;display: inline-block;line-height: 1.2em;}#sk-container-id-13 div.sk-label-container {text-align: center;}#sk-container-id-13 div.sk-container {/* jupyter's `normalize.less` sets `[hidden] { display: none; }` but bootstrap.min.css set `[hidden] { display: none !important; }` so we also need the `!important` here to be able to override the default hidden behavior on the sphinx rendered scikit-learn.org. See: https://github.com/scikit-learn/scikit-learn/issues/21755 */display: inline-block !important;position: relative;}#sk-container-id-13 div.sk-text-repr-fallback {display: none;}</style><div id=\"sk-container-id-13\" class=\"sk-top-container\"><div class=\"sk-text-repr-fallback\"><pre>RandomForestClassifier()</pre><b>In a Jupyter environment, please rerun this cell to show the HTML representation or trust the notebook. <br />On GitHub, the HTML representation is unable to render, please try loading this page with nbviewer.org.</b></div><div class=\"sk-container\" hidden><div class=\"sk-item\"><div class=\"sk-estimator sk-toggleable\"><input class=\"sk-toggleable__control sk-hidden--visually\" id=\"sk-estimator-id-13\" type=\"checkbox\" checked><label for=\"sk-estimator-id-13\" class=\"sk-toggleable__label sk-toggleable__label-arrow\">RandomForestClassifier</label><div class=\"sk-toggleable__content\"><pre>RandomForestClassifier()</pre></div></div></div></div></div>"
      ],
      "text/plain": [
       "RandomForestClassifier()"
      ]
     },
     "execution_count": 193,
     "metadata": {},
     "output_type": "execute_result"
    }
   ],
   "source": [
    "model_new5000_fs = RandomForestClassifier()\n",
    "model_new5000_fs.fit(X_train_new5000_fs, y_train_new5000_fs)"
   ]
  },
  {
   "cell_type": "code",
   "execution_count": 194,
   "id": "0aa9946e",
   "metadata": {},
   "outputs": [
    {
     "name": "stdout",
     "output_type": "stream",
     "text": [
      "Accuracy: 0.9904341427520236\n"
     ]
    }
   ],
   "source": [
    "y_pred_new5000_fs = model_new5000_fs.predict(X_test_new5000_fs)\n",
    "accuracy_new5000_fs = accuracy_score(y_test_new5000_fs, y_pred_new5000_fs)\n",
    "print(\"Accuracy:\", accuracy_new5000_fs)"
   ]
  },
  {
   "cell_type": "code",
   "execution_count": 195,
   "id": "0ddf980d",
   "metadata": {},
   "outputs": [],
   "source": [
    "# Assuming you have the predicted labels (y_pred) and actual labels (y_test)\n",
    "cm_new5000_fs = confusion_matrix(y_test_new5000_fs, y_pred_new5000_fs)\n",
    "\n",
    "#print(cm_new5000_featuresselection)"
   ]
  },
  {
   "cell_type": "code",
   "execution_count": 196,
   "id": "2967154c",
   "metadata": {
    "scrolled": true
   },
   "outputs": [
    {
     "data": {
      "image/png": "[encoded data removed]",
      "text/plain": [
       "<Figure size 640x480 with 2 Axes>"
      ]
     },
     "metadata": {},
     "output_type": "display_data"
    }
   ],
   "source": [
    "# Define the class labels\n",
    "class_labels_new5000_fs = np.sort(merged_df['Interaction'].unique())\n",
    "\n",
    "# Create the confusion matrix\n",
    "cm_new5000_fs = np.array(cm_new5000_fs)\n",
    "\n",
    "# Create a figure and axis\n",
    "fig, ax = plt.subplots()\n",
    "im = ax.imshow(cm_new5000_fs, cmap='Blues')\n",
    "\n",
    "# Set axis labels\n",
    "ax.set_xticks(np.arange(len(class_labels_new5000_fs)))\n",
    "ax.set_yticks(np.arange(len(class_labels_new5000_fs)))\n",
    "ax.set_xticklabels(class_labels_new5000_fs, rotation=45)\n",
    "ax.set_yticklabels(class_labels_new5000_fs)\n",
    "\n",
    "\n",
    "# Add labels to each cell\n",
    "for i in range(len(class_labels_new5000_fs)):\n",
    "    for j in range(len(class_labels_new5000_fs)):\n",
    "        text = ax.text(j, i, cm_new5000_fs[i, j], ha='center', va='center', color='orange')\n",
    "\n",
    "# Add colorbar\n",
    "cbar = ax.figure.colorbar(im, ax=ax)\n",
    "\n",
    "# Set title and labels\n",
    "ax.set_title('Confusion Matrix')\n",
    "ax.set_xlabel('Predicted Label')\n",
    "ax.set_ylabel('True Label')\n",
    "\n",
    "# Show the plot\n",
    "plt.show()"
   ]
  },
  {
   "cell_type": "markdown",
   "id": "dd2b582f",
   "metadata": {},
   "source": [
    "## Now I want to test the independent data set"
   ]
  },
  {
   "cell_type": "code",
   "execution_count": 221,
   "id": "27adc47b",
   "metadata": {
    "scrolled": true
   },
   "outputs": [
    {
     "name": "stderr",
     "output_type": "stream",
     "text": [
      "C:\\Users\\raulo\\AppData\\Local\\Temp\\ipykernel_1752\\2791102289.py:1: DtypeWarning: Columns (0,1,2,3,4,5,6,7,8,9,10,11,12,13,14,15,16,17,18,19,20,21,22,23,24,25,26,27,28,29,30,31,32,33,34,35,36,37,38,39,40,41,42) have mixed types. Specify dtype option on import or set low_memory=False.\n",
      "  df_ind = pd.read_csv(r\"C:\\Users\\raulo\\Desktop\\ocean_L3_GH060001_re-encodeDLC_dlcrnetms5_Daniele_Ocean_Int_Encoded_Trial_1Nov14shuffle1_50000_el_filtered.csv\", header = 2)\n"
     ]
    }
   ],
   "source": [
    "df_ind = pd.read_csv(r\"C:\\Users\\raulo\\Desktop\\ocean_L3_GH060001_re-encodeDLC_dlcrnetms5_Daniele_Ocean_Int_Encoded_Trial_1Nov14shuffle1_50000_el_filtered.csv\", header = 2)\n",
    "df_ind = df_ind.drop(0)\n",
    "df_ind.index = df_ind.index -1    #Set the index rigth\n",
    "df_ind = df_ind.drop(columns='bodyparts')\n",
    "\n",
    "df_label_ind = pd.read_csv(r\"C:\\Users\\raulo\\Desktop\\ocean_L3_GH060001_re-encode.csv\")\n",
    "df_label_ind = df_label_ind.drop(columns='Unnamed: 0')\n",
    "#print(file_path)\n",
    "\n",
    "# Convert DataFrame into a single-column DataFrame\n",
    "single_column_df_ind = pd.DataFrame(df_label_ind.idxmax(axis=1), columns=['Interaction'])"
   ]
  },
  {
   "cell_type": "code",
   "execution_count": 224,
   "id": "6cc933c8",
   "metadata": {},
   "outputs": [],
   "source": [
    "labeled_df_ind = pd.concat([single_column_df_ind, df_ind], axis=1)\n",
    "\n",
    "merged_df_ind = labeled_df_ind\n",
    "\n",
    "X_ind = merged_df_ind.iloc[:, columns]  # Select columns 1 to 42 as features\n",
    "y_ind = merged_df_ind.iloc[:, 0]     # Select column 0 as the target variable\n",
    "\n",
    "X_ind_imputed = imputer.fit_transform(X_ind)\n",
    "\n",
    "X_ind_scaled = power_transformer.fit_transform(X_ind_imputed)"
   ]
  },
  {
   "cell_type": "code",
   "execution_count": 225,
   "id": "28736884",
   "metadata": {},
   "outputs": [
    {
     "name": "stdout",
     "output_type": "stream",
     "text": [
      "Accuracy: 0.9728185812931576\n"
     ]
    }
   ],
   "source": [
    "# Prepare the dataset if needed (e.g., perform preprocessing steps)\n",
    "\n",
    "# Make predictions using the random forest model\n",
    "y_pred = model_new5000_fs.predict(X_ind_scaled)\n",
    "\n",
    "# If you have the ground truth labels, compare them with the predicted labels\n",
    "y_true = y_ind  # Replace \"target_variable\" with the actual column name\n",
    "\n",
    "# Calculate accuracy\n",
    "accuracy = accuracy_score(y_true, y_pred)\n",
    "\n",
    "# Print the accuracy\n",
    "print(\"Accuracy:\", accuracy)"
   ]
  },
  {
   "cell_type": "code",
   "execution_count": 226,
   "id": "e1c37d10",
   "metadata": {
    "scrolled": false
   },
   "outputs": [
    {
     "data": {
      "text/plain": [
       "array([[    0,    46,     1,     0,   171],\n",
       "       [    0,     0,     0,     0,    84],\n",
       "       [    0,     0,     0,     0,     0],\n",
       "       [    0,     0,     0,     0,   545],\n",
       "       [   19,     0,     0,     0, 30994]], dtype=int64)"
      ]
     },
     "execution_count": 226,
     "metadata": {},
     "output_type": "execute_result"
    }
   ],
   "source": [
    "cm = confusion_matrix(y_true, y_pred)\n",
    "cm"
   ]
  },
  {
   "cell_type": "markdown",
   "id": "1ca59571",
   "metadata": {},
   "source": [
    "## StandardScaler"
   ]
  },
  {
   "cell_type": "code",
   "execution_count": 227,
   "id": "16d1c3dd",
   "metadata": {},
   "outputs": [],
   "source": [
    "columns = [1,2,4,5,7,8,10,11,13,14,16,17,19,20,22,23,25,26,28,29,31,32,34,35,37,38,40,41]"
   ]
  },
  {
   "cell_type": "code",
   "execution_count": 228,
   "id": "6a9f7157",
   "metadata": {},
   "outputs": [],
   "source": [
    "X_new5000_fs = undersampled_df.iloc[:, columns]  # Select columns 1 to 42 as features\n",
    "y_new5000_fs = undersampled_df.iloc[:, 0]     # Select column 0 as the target variable"
   ]
  },
  {
   "cell_type": "code",
   "execution_count": 229,
   "id": "77f99715",
   "metadata": {},
   "outputs": [],
   "source": [
    "imputer = SimpleImputer(strategy='mean')\n",
    "\n",
    "X_imputed_new5000_fs = imputer.fit_transform(X_new5000_fs)"
   ]
  },
  {
   "cell_type": "code",
   "execution_count": 230,
   "id": "993240ef",
   "metadata": {},
   "outputs": [],
   "source": [
    "# Create an instance of PowerTransformer\n",
    "power_transformer = StandardScaler()\n",
    "\n",
    "# Fit and transform the data\n",
    "X_scaled_new5000_fs = power_transformer.fit_transform(X_imputed_new5000_fs)"
   ]
  },
  {
   "cell_type": "code",
   "execution_count": 231,
   "id": "8b0d03d4",
   "metadata": {},
   "outputs": [],
   "source": [
    "X_train_new5000_fs, X_test_new5000_fs, y_train_new5000_fs, y_test_new5000_fs = train_test_split(X_scaled_new5000_fs, y_new5000_fs, test_size=0.2, random_state=1999)"
   ]
  },
  {
   "cell_type": "code",
   "execution_count": 232,
   "id": "be40c909",
   "metadata": {
    "scrolled": false
   },
   "outputs": [
    {
     "data": {
      "text/html": [
       "<style>#sk-container-id-14 {color: black;background-color: white;}#sk-container-id-14 pre{padding: 0;}#sk-container-id-14 div.sk-toggleable {background-color: white;}#sk-container-id-14 label.sk-toggleable__label {cursor: pointer;display: block;width: 100%;margin-bottom: 0;padding: 0.3em;box-sizing: border-box;text-align: center;}#sk-container-id-14 label.sk-toggleable__label-arrow:before {content: \"▸\";float: left;margin-right: 0.25em;color: #696969;}#sk-container-id-14 label.sk-toggleable__label-arrow:hover:before {color: black;}#sk-container-id-14 div.sk-estimator:hover label.sk-toggleable__label-arrow:before {color: black;}#sk-container-id-14 div.sk-toggleable__content {max-height: 0;max-width: 0;overflow: hidden;text-align: left;background-color: #f0f8ff;}#sk-container-id-14 div.sk-toggleable__content pre {margin: 0.2em;color: black;border-radius: 0.25em;background-color: #f0f8ff;}#sk-container-id-14 input.sk-toggleable__control:checked~div.sk-toggleable__content {max-height: 200px;max-width: 100%;overflow: auto;}#sk-container-id-14 input.sk-toggleable__control:checked~label.sk-toggleable__label-arrow:before {content: \"▾\";}#sk-container-id-14 div.sk-estimator input.sk-toggleable__control:checked~label.sk-toggleable__label {background-color: #d4ebff;}#sk-container-id-14 div.sk-label input.sk-toggleable__control:checked~label.sk-toggleable__label {background-color: #d4ebff;}#sk-container-id-14 input.sk-hidden--visually {border: 0;clip: rect(1px 1px 1px 1px);clip: rect(1px, 1px, 1px, 1px);height: 1px;margin: -1px;overflow: hidden;padding: 0;position: absolute;width: 1px;}#sk-container-id-14 div.sk-estimator {font-family: monospace;background-color: #f0f8ff;border: 1px dotted black;border-radius: 0.25em;box-sizing: border-box;margin-bottom: 0.5em;}#sk-container-id-14 div.sk-estimator:hover {background-color: #d4ebff;}#sk-container-id-14 div.sk-parallel-item::after {content: \"\";width: 100%;border-bottom: 1px solid gray;flex-grow: 1;}#sk-container-id-14 div.sk-label:hover label.sk-toggleable__label {background-color: #d4ebff;}#sk-container-id-14 div.sk-serial::before {content: \"\";position: absolute;border-left: 1px solid gray;box-sizing: border-box;top: 0;bottom: 0;left: 50%;z-index: 0;}#sk-container-id-14 div.sk-serial {display: flex;flex-direction: column;align-items: center;background-color: white;padding-right: 0.2em;padding-left: 0.2em;position: relative;}#sk-container-id-14 div.sk-item {position: relative;z-index: 1;}#sk-container-id-14 div.sk-parallel {display: flex;align-items: stretch;justify-content: center;background-color: white;position: relative;}#sk-container-id-14 div.sk-item::before, #sk-container-id-14 div.sk-parallel-item::before {content: \"\";position: absolute;border-left: 1px solid gray;box-sizing: border-box;top: 0;bottom: 0;left: 50%;z-index: -1;}#sk-container-id-14 div.sk-parallel-item {display: flex;flex-direction: column;z-index: 1;position: relative;background-color: white;}#sk-container-id-14 div.sk-parallel-item:first-child::after {align-self: flex-end;width: 50%;}#sk-container-id-14 div.sk-parallel-item:last-child::after {align-self: flex-start;width: 50%;}#sk-container-id-14 div.sk-parallel-item:only-child::after {width: 0;}#sk-container-id-14 div.sk-dashed-wrapped {border: 1px dashed gray;margin: 0 0.4em 0.5em 0.4em;box-sizing: border-box;padding-bottom: 0.4em;background-color: white;}#sk-container-id-14 div.sk-label label {font-family: monospace;font-weight: bold;display: inline-block;line-height: 1.2em;}#sk-container-id-14 div.sk-label-container {text-align: center;}#sk-container-id-14 div.sk-container {/* jupyter's `normalize.less` sets `[hidden] { display: none; }` but bootstrap.min.css set `[hidden] { display: none !important; }` so we also need the `!important` here to be able to override the default hidden behavior on the sphinx rendered scikit-learn.org. See: https://github.com/scikit-learn/scikit-learn/issues/21755 */display: inline-block !important;position: relative;}#sk-container-id-14 div.sk-text-repr-fallback {display: none;}</style><div id=\"sk-container-id-14\" class=\"sk-top-container\"><div class=\"sk-text-repr-fallback\"><pre>RandomForestClassifier()</pre><b>In a Jupyter environment, please rerun this cell to show the HTML representation or trust the notebook. <br />On GitHub, the HTML representation is unable to render, please try loading this page with nbviewer.org.</b></div><div class=\"sk-container\" hidden><div class=\"sk-item\"><div class=\"sk-estimator sk-toggleable\"><input class=\"sk-toggleable__control sk-hidden--visually\" id=\"sk-estimator-id-14\" type=\"checkbox\" checked><label for=\"sk-estimator-id-14\" class=\"sk-toggleable__label sk-toggleable__label-arrow\">RandomForestClassifier</label><div class=\"sk-toggleable__content\"><pre>RandomForestClassifier()</pre></div></div></div></div></div>"
      ],
      "text/plain": [
       "RandomForestClassifier()"
      ]
     },
     "execution_count": 232,
     "metadata": {},
     "output_type": "execute_result"
    }
   ],
   "source": [
    "model_new5000_fs = RandomForestClassifier()\n",
    "model_new5000_fs.fit(X_train_new5000_fs, y_train_new5000_fs)"
   ]
  },
  {
   "cell_type": "code",
   "execution_count": 233,
   "id": "7f0cc171",
   "metadata": {},
   "outputs": [
    {
     "name": "stdout",
     "output_type": "stream",
     "text": [
      "Accuracy: 0.9889624724061811\n"
     ]
    }
   ],
   "source": [
    "y_pred_new5000_fs = model_new5000_fs.predict(X_test_new5000_fs)\n",
    "accuracy_new5000_fs = accuracy_score(y_test_new5000_fs, y_pred_new5000_fs)\n",
    "print(\"Accuracy:\", accuracy_new5000_fs)"
   ]
  },
  {
   "cell_type": "code",
   "execution_count": 234,
   "id": "ccdac2b4",
   "metadata": {},
   "outputs": [],
   "source": [
    "# Assuming you have the predicted labels (y_pred) and actual labels (y_test)\n",
    "cm_new5000_fs = confusion_matrix(y_test_new5000_fs, y_pred_new5000_fs)\n",
    "\n",
    "#print(cm_new5000_featuresselection)"
   ]
  },
  {
   "cell_type": "code",
   "execution_count": 235,
   "id": "74622bdb",
   "metadata": {
    "scrolled": true
   },
   "outputs": [
    {
     "data": {
      "image/png": "[encoded data removed]",
      "text/plain": [
       "<Figure size 640x480 with 2 Axes>"
      ]
     },
     "metadata": {},
     "output_type": "display_data"
    }
   ],
   "source": [
    "# Define the class labels\n",
    "class_labels_new5000_fs = np.sort(merged_df['Interaction'].unique())\n",
    "\n",
    "# Create the confusion matrix\n",
    "cm_new5000_fs = np.array(cm_new5000_fs)\n",
    "\n",
    "# Create a figure and axis\n",
    "fig, ax = plt.subplots()\n",
    "im = ax.imshow(cm_new5000_fs, cmap='Blues')\n",
    "\n",
    "# Set axis labels\n",
    "ax.set_xticks(np.arange(len(class_labels_new5000_fs)))\n",
    "ax.set_yticks(np.arange(len(class_labels_new5000_fs)))\n",
    "ax.set_xticklabels(class_labels_new5000_fs, rotation=45)\n",
    "ax.set_yticklabels(class_labels_new5000_fs)\n",
    "\n",
    "\n",
    "# Add labels to each cell\n",
    "for i in range(len(class_labels_new5000_fs)):\n",
    "    for j in range(len(class_labels_new5000_fs)):\n",
    "        text = ax.text(j, i, cm_new5000_fs[i, j], ha='center', va='center', color='orange')\n",
    "\n",
    "# Add colorbar\n",
    "cbar = ax.figure.colorbar(im, ax=ax)\n",
    "\n",
    "# Set title and labels\n",
    "ax.set_title('Confusion Matrix')\n",
    "ax.set_xlabel('Predicted Label')\n",
    "ax.set_ylabel('True Label')\n",
    "\n",
    "# Show the plot\n",
    "plt.show()"
   ]
  },
  {
   "cell_type": "markdown",
   "id": "fc82b413",
   "metadata": {},
   "source": [
    "## Now I want to test the independent data set"
   ]
  },
  {
   "cell_type": "code",
   "execution_count": 236,
   "id": "c4f37a36",
   "metadata": {
    "scrolled": true
   },
   "outputs": [
    {
     "name": "stderr",
     "output_type": "stream",
     "text": [
      "C:\\Users\\raulo\\AppData\\Local\\Temp\\ipykernel_1752\\2791102289.py:1: DtypeWarning: Columns (0,1,2,3,4,5,6,7,8,9,10,11,12,13,14,15,16,17,18,19,20,21,22,23,24,25,26,27,28,29,30,31,32,33,34,35,36,37,38,39,40,41,42) have mixed types. Specify dtype option on import or set low_memory=False.\n",
      "  df_ind = pd.read_csv(r\"C:\\Users\\raulo\\Desktop\\ocean_L3_GH060001_re-encodeDLC_dlcrnetms5_Daniele_Ocean_Int_Encoded_Trial_1Nov14shuffle1_50000_el_filtered.csv\", header = 2)\n"
     ]
    }
   ],
   "source": [
    "df_ind = pd.read_csv(r\"C:\\Users\\raulo\\Desktop\\ocean_L3_GH060001_re-encodeDLC_dlcrnetms5_Daniele_Ocean_Int_Encoded_Trial_1Nov14shuffle1_50000_el_filtered.csv\", header = 2)\n",
    "df_ind = df_ind.drop(0)\n",
    "df_ind.index = df_ind.index -1    #Set the index rigth\n",
    "df_ind = df_ind.drop(columns='bodyparts')\n",
    "\n",
    "df_label_ind = pd.read_csv(r\"C:\\Users\\raulo\\Desktop\\ocean_L3_GH060001_re-encode.csv\")\n",
    "df_label_ind = df_label_ind.drop(columns='Unnamed: 0')\n",
    "#print(file_path)\n",
    "\n",
    "# Convert DataFrame into a single-column DataFrame\n",
    "single_column_df_ind = pd.DataFrame(df_label_ind.idxmax(axis=1), columns=['Interaction'])"
   ]
  },
  {
   "cell_type": "code",
   "execution_count": 237,
   "id": "730b1cf4",
   "metadata": {},
   "outputs": [],
   "source": [
    "labeled_df_ind = pd.concat([single_column_df_ind, df_ind], axis=1)\n",
    "\n",
    "merged_df_ind = labeled_df_ind\n",
    "\n",
    "X_ind = merged_df_ind.iloc[:, columns]  # Select columns 1 to 42 as features\n",
    "y_ind = merged_df_ind.iloc[:, 0]     # Select column 0 as the target variable\n",
    "\n",
    "X_ind_imputed = imputer.fit_transform(X_ind)\n",
    "\n",
    "X_ind_scaled = power_transformer.fit_transform(X_ind_imputed)"
   ]
  },
  {
   "cell_type": "code",
   "execution_count": 238,
   "id": "a18684d7",
   "metadata": {},
   "outputs": [
    {
     "name": "stdout",
     "output_type": "stream",
     "text": [
      "Accuracy: 0.9538292529817953\n"
     ]
    }
   ],
   "source": [
    "# Prepare the dataset if needed (e.g., perform preprocessing steps)\n",
    "\n",
    "# Make predictions using the random forest model\n",
    "y_pred = model_new5000_fs.predict(X_ind_scaled)\n",
    "\n",
    "# If you have the ground truth labels, compare them with the predicted labels\n",
    "y_true = y_ind  # Replace \"target_variable\" with the actual column name\n",
    "\n",
    "# Calculate accuracy\n",
    "accuracy = accuracy_score(y_true, y_pred)\n",
    "\n",
    "# Print the accuracy\n",
    "print(\"Accuracy:\", accuracy)"
   ]
  },
  {
   "cell_type": "code",
   "execution_count": 239,
   "id": "dd08ad61",
   "metadata": {
    "scrolled": true
   },
   "outputs": [
    {
     "data": {
      "text/plain": [
       "array([[    0,     0,     0,     0,     0,   218],\n",
       "       [    0,     0,     0,     0,     0,    84],\n",
       "       [    0,     0,     0,     0,     0,     0],\n",
       "       [    0,     0,     0,     0,     0,   545],\n",
       "       [    0,     0,     0,     0,     0,     0],\n",
       "       [   17,   485,    31,     0,    91, 30389]], dtype=int64)"
      ]
     },
     "execution_count": 239,
     "metadata": {},
     "output_type": "execute_result"
    }
   ],
   "source": [
    "cm = confusion_matrix(y_true, y_pred)\n",
    "cm"
   ]
  },
  {
   "cell_type": "markdown",
   "id": "a4b54e5d",
   "metadata": {},
   "source": [
    "## MinMaxScaler"
   ]
  },
  {
   "cell_type": "code",
   "execution_count": 240,
   "id": "8c22f1f7",
   "metadata": {},
   "outputs": [],
   "source": [
    "columns = [1,2,4,5,7,8,10,11,13,14,16,17,19,20,22,23,25,26,28,29,31,32,34,35,37,38,40,41]"
   ]
  },
  {
   "cell_type": "code",
   "execution_count": 241,
   "id": "f8489f7f",
   "metadata": {},
   "outputs": [],
   "source": [
    "X_new5000_fs = undersampled_df.iloc[:, columns]  # Select columns 1 to 42 as features\n",
    "y_new5000_fs = undersampled_df.iloc[:, 0]     # Select column 0 as the target variable"
   ]
  },
  {
   "cell_type": "code",
   "execution_count": 242,
   "id": "3071e3dc",
   "metadata": {},
   "outputs": [],
   "source": [
    "imputer = SimpleImputer(strategy='mean')\n",
    "\n",
    "X_imputed_new5000_fs = imputer.fit_transform(X_new5000_fs)"
   ]
  },
  {
   "cell_type": "code",
   "execution_count": 243,
   "id": "e19eef66",
   "metadata": {},
   "outputs": [],
   "source": [
    "# Create an instance of PowerTransformer\n",
    "power_transformer = MinMaxScaler()\n",
    "\n",
    "# Fit and transform the data\n",
    "X_scaled_new5000_fs = power_transformer.fit_transform(X_imputed_new5000_fs)"
   ]
  },
  {
   "cell_type": "code",
   "execution_count": 244,
   "id": "bbd24504",
   "metadata": {},
   "outputs": [],
   "source": [
    "X_train_new5000_fs, X_test_new5000_fs, y_train_new5000_fs, y_test_new5000_fs = train_test_split(X_scaled_new5000_fs, y_new5000_fs, test_size=0.2, random_state=1999)"
   ]
  },
  {
   "cell_type": "code",
   "execution_count": 245,
   "id": "eca22009",
   "metadata": {
    "scrolled": false
   },
   "outputs": [
    {
     "data": {
      "text/html": [
       "<style>#sk-container-id-15 {color: black;background-color: white;}#sk-container-id-15 pre{padding: 0;}#sk-container-id-15 div.sk-toggleable {background-color: white;}#sk-container-id-15 label.sk-toggleable__label {cursor: pointer;display: block;width: 100%;margin-bottom: 0;padding: 0.3em;box-sizing: border-box;text-align: center;}#sk-container-id-15 label.sk-toggleable__label-arrow:before {content: \"▸\";float: left;margin-right: 0.25em;color: #696969;}#sk-container-id-15 label.sk-toggleable__label-arrow:hover:before {color: black;}#sk-container-id-15 div.sk-estimator:hover label.sk-toggleable__label-arrow:before {color: black;}#sk-container-id-15 div.sk-toggleable__content {max-height: 0;max-width: 0;overflow: hidden;text-align: left;background-color: #f0f8ff;}#sk-container-id-15 div.sk-toggleable__content pre {margin: 0.2em;color: black;border-radius: 0.25em;background-color: #f0f8ff;}#sk-container-id-15 input.sk-toggleable__control:checked~div.sk-toggleable__content {max-height: 200px;max-width: 100%;overflow: auto;}#sk-container-id-15 input.sk-toggleable__control:checked~label.sk-toggleable__label-arrow:before {content: \"▾\";}#sk-container-id-15 div.sk-estimator input.sk-toggleable__control:checked~label.sk-toggleable__label {background-color: #d4ebff;}#sk-container-id-15 div.sk-label input.sk-toggleable__control:checked~label.sk-toggleable__label {background-color: #d4ebff;}#sk-container-id-15 input.sk-hidden--visually {border: 0;clip: rect(1px 1px 1px 1px);clip: rect(1px, 1px, 1px, 1px);height: 1px;margin: -1px;overflow: hidden;padding: 0;position: absolute;width: 1px;}#sk-container-id-15 div.sk-estimator {font-family: monospace;background-color: #f0f8ff;border: 1px dotted black;border-radius: 0.25em;box-sizing: border-box;margin-bottom: 0.5em;}#sk-container-id-15 div.sk-estimator:hover {background-color: #d4ebff;}#sk-container-id-15 div.sk-parallel-item::after {content: \"\";width: 100%;border-bottom: 1px solid gray;flex-grow: 1;}#sk-container-id-15 div.sk-label:hover label.sk-toggleable__label {background-color: #d4ebff;}#sk-container-id-15 div.sk-serial::before {content: \"\";position: absolute;border-left: 1px solid gray;box-sizing: border-box;top: 0;bottom: 0;left: 50%;z-index: 0;}#sk-container-id-15 div.sk-serial {display: flex;flex-direction: column;align-items: center;background-color: white;padding-right: 0.2em;padding-left: 0.2em;position: relative;}#sk-container-id-15 div.sk-item {position: relative;z-index: 1;}#sk-container-id-15 div.sk-parallel {display: flex;align-items: stretch;justify-content: center;background-color: white;position: relative;}#sk-container-id-15 div.sk-item::before, #sk-container-id-15 div.sk-parallel-item::before {content: \"\";position: absolute;border-left: 1px solid gray;box-sizing: border-box;top: 0;bottom: 0;left: 50%;z-index: -1;}#sk-container-id-15 div.sk-parallel-item {display: flex;flex-direction: column;z-index: 1;position: relative;background-color: white;}#sk-container-id-15 div.sk-parallel-item:first-child::after {align-self: flex-end;width: 50%;}#sk-container-id-15 div.sk-parallel-item:last-child::after {align-self: flex-start;width: 50%;}#sk-container-id-15 div.sk-parallel-item:only-child::after {width: 0;}#sk-container-id-15 div.sk-dashed-wrapped {border: 1px dashed gray;margin: 0 0.4em 0.5em 0.4em;box-sizing: border-box;padding-bottom: 0.4em;background-color: white;}#sk-container-id-15 div.sk-label label {font-family: monospace;font-weight: bold;display: inline-block;line-height: 1.2em;}#sk-container-id-15 div.sk-label-container {text-align: center;}#sk-container-id-15 div.sk-container {/* jupyter's `normalize.less` sets `[hidden] { display: none; }` but bootstrap.min.css set `[hidden] { display: none !important; }` so we also need the `!important` here to be able to override the default hidden behavior on the sphinx rendered scikit-learn.org. See: https://github.com/scikit-learn/scikit-learn/issues/21755 */display: inline-block !important;position: relative;}#sk-container-id-15 div.sk-text-repr-fallback {display: none;}</style><div id=\"sk-container-id-15\" class=\"sk-top-container\"><div class=\"sk-text-repr-fallback\"><pre>RandomForestClassifier()</pre><b>In a Jupyter environment, please rerun this cell to show the HTML representation or trust the notebook. <br />On GitHub, the HTML representation is unable to render, please try loading this page with nbviewer.org.</b></div><div class=\"sk-container\" hidden><div class=\"sk-item\"><div class=\"sk-estimator sk-toggleable\"><input class=\"sk-toggleable__control sk-hidden--visually\" id=\"sk-estimator-id-15\" type=\"checkbox\" checked><label for=\"sk-estimator-id-15\" class=\"sk-toggleable__label sk-toggleable__label-arrow\">RandomForestClassifier</label><div class=\"sk-toggleable__content\"><pre>RandomForestClassifier()</pre></div></div></div></div></div>"
      ],
      "text/plain": [
       "RandomForestClassifier()"
      ]
     },
     "execution_count": 245,
     "metadata": {},
     "output_type": "execute_result"
    }
   ],
   "source": [
    "model_new5000_fs = RandomForestClassifier()\n",
    "model_new5000_fs.fit(X_train_new5000_fs, y_train_new5000_fs)"
   ]
  },
  {
   "cell_type": "code",
   "execution_count": 246,
   "id": "7120d341",
   "metadata": {},
   "outputs": [
    {
     "name": "stdout",
     "output_type": "stream",
     "text": [
      "Accuracy: 0.9889624724061811\n"
     ]
    }
   ],
   "source": [
    "y_pred_new5000_fs = model_new5000_fs.predict(X_test_new5000_fs)\n",
    "accuracy_new5000_fs = accuracy_score(y_test_new5000_fs, y_pred_new5000_fs)\n",
    "print(\"Accuracy:\", accuracy_new5000_fs)"
   ]
  },
  {
   "cell_type": "code",
   "execution_count": 247,
   "id": "06bccdc9",
   "metadata": {},
   "outputs": [],
   "source": [
    "# Assuming you have the predicted labels (y_pred) and actual labels (y_test)\n",
    "cm_new5000_fs = confusion_matrix(y_test_new5000_fs, y_pred_new5000_fs)\n",
    "\n",
    "#print(cm_new5000_featuresselection)"
   ]
  },
  {
   "cell_type": "code",
   "execution_count": 248,
   "id": "6090ae01",
   "metadata": {
    "scrolled": true
   },
   "outputs": [
    {
     "data": {
      "image/png": "[encoded data removed]",
      "text/plain": [
       "<Figure size 640x480 with 2 Axes>"
      ]
     },
     "metadata": {},
     "output_type": "display_data"
    }
   ],
   "source": [
    "# Define the class labels\n",
    "class_labels_new5000_fs = np.sort(merged_df['Interaction'].unique())\n",
    "\n",
    "# Create the confusion matrix\n",
    "cm_new5000_fs = np.array(cm_new5000_fs)\n",
    "\n",
    "# Create a figure and axis\n",
    "fig, ax = plt.subplots()\n",
    "im = ax.imshow(cm_new5000_fs, cmap='Blues')\n",
    "\n",
    "# Set axis labels\n",
    "ax.set_xticks(np.arange(len(class_labels_new5000_fs)))\n",
    "ax.set_yticks(np.arange(len(class_labels_new5000_fs)))\n",
    "ax.set_xticklabels(class_labels_new5000_fs, rotation=45)\n",
    "ax.set_yticklabels(class_labels_new5000_fs)\n",
    "\n",
    "\n",
    "# Add labels to each cell\n",
    "for i in range(len(class_labels_new5000_fs)):\n",
    "    for j in range(len(class_labels_new5000_fs)):\n",
    "        text = ax.text(j, i, cm_new5000_fs[i, j], ha='center', va='center', color='orange')\n",
    "\n",
    "# Add colorbar\n",
    "cbar = ax.figure.colorbar(im, ax=ax)\n",
    "\n",
    "# Set title and labels\n",
    "ax.set_title('Confusion Matrix')\n",
    "ax.set_xlabel('Predicted Label')\n",
    "ax.set_ylabel('True Label')\n",
    "\n",
    "# Show the plot\n",
    "plt.show()"
   ]
  },
  {
   "cell_type": "markdown",
   "id": "c7e9cc6b",
   "metadata": {},
   "source": [
    "## Now I want to test the independent data set"
   ]
  },
  {
   "cell_type": "code",
   "execution_count": 252,
   "id": "63949d6f",
   "metadata": {
    "scrolled": true
   },
   "outputs": [
    {
     "name": "stderr",
     "output_type": "stream",
     "text": [
      "C:\\Users\\raulo\\AppData\\Local\\Temp\\ipykernel_1752\\2791102289.py:1: DtypeWarning: Columns (0,1,2,3,4,5,6,7,8,9,10,11,12,13,14,15,16,17,18,19,20,21,22,23,24,25,26,27,28,29,30,31,32,33,34,35,36,37,38,39,40,41,42) have mixed types. Specify dtype option on import or set low_memory=False.\n",
      "  df_ind = pd.read_csv(r\"C:\\Users\\raulo\\Desktop\\ocean_L3_GH060001_re-encodeDLC_dlcrnetms5_Daniele_Ocean_Int_Encoded_Trial_1Nov14shuffle1_50000_el_filtered.csv\", header = 2)\n"
     ]
    }
   ],
   "source": [
    "df_ind = pd.read_csv(r\"C:\\Users\\raulo\\Desktop\\ocean_L3_GH060001_re-encodeDLC_dlcrnetms5_Daniele_Ocean_Int_Encoded_Trial_1Nov14shuffle1_50000_el_filtered.csv\", header = 2)\n",
    "df_ind = df_ind.drop(0)\n",
    "df_ind.index = df_ind.index -1    #Set the index rigth\n",
    "df_ind = df_ind.drop(columns='bodyparts')\n",
    "\n",
    "df_label_ind = pd.read_csv(r\"C:\\Users\\raulo\\Desktop\\ocean_L3_GH060001_re-encode.csv\")\n",
    "df_label_ind = df_label_ind.drop(columns='Unnamed: 0')\n",
    "#print(file_path)\n",
    "\n",
    "# Convert DataFrame into a single-column DataFrame\n",
    "single_column_df_ind = pd.DataFrame(df_label_ind.idxmax(axis=1), columns=['Interaction'])"
   ]
  },
  {
   "cell_type": "code",
   "execution_count": 253,
   "id": "712d419f",
   "metadata": {},
   "outputs": [],
   "source": [
    "labeled_df_ind = pd.concat([single_column_df_ind, df_ind], axis=1)\n",
    "\n",
    "merged_df_ind = labeled_df_ind\n",
    "\n",
    "X_ind = merged_df_ind.iloc[:, columns]  # Select columns 1 to 42 as features\n",
    "y_ind = merged_df_ind.iloc[:, 0]     # Select column 0 as the target variable\n",
    "\n",
    "X_ind_imputed = imputer.fit_transform(X_ind)\n",
    "\n",
    "X_ind_scaled = power_transformer.fit_transform(X_ind_imputed)"
   ]
  },
  {
   "cell_type": "code",
   "execution_count": 254,
   "id": "fcddea23",
   "metadata": {},
   "outputs": [
    {
     "name": "stdout",
     "output_type": "stream",
     "text": [
      "Accuracy: 0.9697112366603892\n"
     ]
    }
   ],
   "source": [
    "# Prepare the dataset if needed (e.g., perform preprocessing steps)\n",
    "\n",
    "# Make predictions using the random forest model\n",
    "y_pred = model_new5000_fs.predict(X_ind_scaled)\n",
    "\n",
    "# If you have the ground truth labels, compare them with the predicted labels\n",
    "y_true = y_ind  # Replace \"target_variable\" with the actual column name\n",
    "\n",
    "# Calculate accuracy\n",
    "accuracy = accuracy_score(y_true, y_pred)\n",
    "\n",
    "# Print the accuracy\n",
    "print(\"Accuracy:\", accuracy)"
   ]
  },
  {
   "cell_type": "code",
   "execution_count": 255,
   "id": "951a4b1f",
   "metadata": {},
   "outputs": [
    {
     "name": "stdout",
     "output_type": "stream",
     "text": [
      "Accuracy: 0.9697112366603892\n"
     ]
    }
   ],
   "source": [
    "# Prepare the dataset if needed (e.g., perform preprocessing steps)\n",
    "\n",
    "# Make predictions using the random forest model\n",
    "y_pred = model_new5000_fs.predict(X_ind_scaled)\n",
    "\n",
    "# If you have the ground truth labels, compare them with the predicted labels\n",
    "y_true = y_ind  # Replace \"target_variable\" with the actual column name\n",
    "\n",
    "# Calculate accuracy\n",
    "accuracy = accuracy_score(y_true, y_pred)\n",
    "\n",
    "# Print the accuracy\n",
    "print(\"Accuracy:\", accuracy)"
   ]
  },
  {
   "cell_type": "code",
   "execution_count": 256,
   "id": "b221fed6",
   "metadata": {
    "scrolled": true
   },
   "outputs": [
    {
     "data": {
      "text/plain": [
       "array([[    0,     0,     0,     0,     0,   218],\n",
       "       [    0,     0,     0,     0,     0,    84],\n",
       "       [    0,     0,     0,     0,     0,     0],\n",
       "       [    0,     0,     0,     0,     0,   545],\n",
       "       [    0,     0,     0,     0,     0,     0],\n",
       "       [    0,     8,    10,     0,   100, 30895]], dtype=int64)"
      ]
     },
     "execution_count": 256,
     "metadata": {},
     "output_type": "execute_result"
    }
   ],
   "source": [
    "cm = confusion_matrix(y_true, y_pred)\n",
    "cm"
   ]
  },
  {
   "cell_type": "code",
   "execution_count": null,
   "id": "6768c0d1",
   "metadata": {},
   "outputs": [],
   "source": []
  }
 ],
 "metadata": {
  "kernelspec": {
   "display_name": "Python 3 (ipykernel)",
   "language": "python",
   "name": "python3"
  },
  "language_info": {
   "codemirror_mode": {
    "name": "ipython",
    "version": 3
   },
   "file_extension": ".py",
   "mimetype": "text/x-python",
   "name": "python",
   "nbconvert_exporter": "python",
   "pygments_lexer": "ipython3",
   "version": "3.10.9"
  }
 },
 "nbformat": 4,
 "nbformat_minor": 5
}
