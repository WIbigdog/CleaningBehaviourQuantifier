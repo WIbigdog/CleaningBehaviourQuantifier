{
 "cells": [
  {
   "cell_type": "code",
   "execution_count": 108,
   "id": "086b9e60",
   "metadata": {},
   "outputs": [],
   "source": [
    "import tqdm\n",
    "import random\n",
    "import pathlib\n",
    "import itertools\n",
    "import collections\n",
    "\n",
    "import pandas as pd\n",
    "import os\n",
    "import cv2\n",
    "import numpy as np\n",
    "import remotezip as rz\n",
    "\n",
    "import tensorflow as tf\n",
    "\n",
    "# Some modules to display an animation using imageio.\n",
    "import imageio\n",
    "from IPython import display\n",
    "from urllib import request\n",
    "from tensorflow_docs.vis import embed"
   ]
  },
  {
   "cell_type": "code",
   "execution_count": 109,
   "id": "4fc326c0",
   "metadata": {},
   "outputs": [],
   "source": [
    "df = pd.read_csv(os.path.join(csv_dir, csv_file))"
   ]
  },
  {
   "cell_type": "code",
   "execution_count": 110,
   "id": "166b5aa7",
   "metadata": {},
   "outputs": [],
   "source": [
    "# Create a directory to store all the clips\n",
    "clips_dir = r\"C:\\Users\\BEE Team\\Desktop\\code\\Summarys_labels\\All_Clips\"\n",
    "os.makedirs(clips_dir, exist_ok=True)\n",
    "\n",
    "# Loop through all the CSV files\n",
    "csv_dir = r'C:\\Users\\BEE Team\\Desktop\\code\\Summarys_labels'\n",
    "csv_files = [f for f in os.listdir(csv_dir) if f.endswith('.csv')]\n",
    "csv_files = csv_files[1:]\n",
    "\n",
    "for csv_file in csv_files:\n",
    "    if csv_file.endswith('.csv'):\n",
    "        # Read the CSV file\n",
    "        df = pd.read_csv(os.path.join(csv_dir, csv_file))\n",
    "\n",
    "        # Directory of videos\n",
    "        video_dir = r'C:\\Users\\BEE Team\\Desktop\\Videos\\Daniele_Vids_Lab\\LD\\Yellow'\n",
    "        df['Video_path'] = df['file'].apply(lambda x: os.path.join(video_dir, x.split('_labels')[0] + '.mp4'))\n",
    "\n",
    "        # Create a directory to store the clips for this csv file\n",
    "        csv_clips_dir = clips_dir + \"\\clips_\" + os.path.splitext(csv_file.split('_')[2])[0]\n",
    "        os.makedirs(csv_clips_dir, exist_ok=True)\n",
    "\n",
    "        # Extract video clips from each row of the dataframe and save them to a file\n",
    "        for index, row in df.iterrows():\n",
    "            video_path = row['Video_path']\n",
    "            start_frame = row['start_frame']\n",
    "            end_frame = row['end_frame']\n",
    "            classification = row['classification']\n",
    "            \n",
    "            video = cv2.VideoCapture(video_path)\n",
    "            video.set(cv2.CAP_PROP_POS_FRAMES, start_frame)\n",
    "            clip_frames = []\n",
    "            for i in range(start_frame, end_frame):\n",
    "                ret, frame = video.read()\n",
    "                if ret:\n",
    "                    clip_frames.append(frame)\n",
    "                else:\n",
    "                    break\n",
    "            \n",
    "            video.release()\n",
    "            \n",
    "            clip_path = os.path.join(csv_clips_dir, f'{classification}_{index}.mp4')\n",
    "            clip = cv2.VideoWriter(clip_path, cv2.VideoWriter_fourcc(*'XVID'), 30, (frame.shape[1], frame.shape[0]))\n",
    "            for frame in clip_frames:\n",
    "                clip.write(frame)\n",
    "            clip.release()\n"
   ]
  },
  {
   "cell_type": "code",
   "execution_count": null,
   "id": "a81d3e79",
   "metadata": {},
   "outputs": [],
   "source": []
  }
 ],
 "metadata": {
  "kernelspec": {
   "display_name": "Python 3 (ipykernel)",
   "language": "python",
   "name": "python3"
  },
  "language_info": {
   "codemirror_mode": {
    "name": "ipython",
    "version": 3
   },
   "file_extension": ".py",
   "mimetype": "text/x-python",
   "name": "python",
   "nbconvert_exporter": "python",
   "pygments_lexer": "ipython3",
   "version": "3.9.16"
  }
 },
 "nbformat": 4,
 "nbformat_minor": 5
}
