{
 "cells": [
  {
   "cell_type": "code",
   "execution_count": 43,
   "id": "d34cce48",
   "metadata": {
    "scrolled": true
   },
   "outputs": [
    {
     "name": "stdout",
     "output_type": "stream",
     "text": [
      "Collecting tensorflow==2.11\n",
      "  Using cached tensorflow-2.11.0-cp39-cp39-win_amd64.whl (1.9 kB)\n",
      "Requirement already satisfied: tensorflow-intel==2.11.0 in c:\\users\\bee team\\appdata\\roaming\\python\\python39\\site-packages (from tensorflow==2.11) (2.11.0)\n",
      "Requirement already satisfied: tensorflow-io-gcs-filesystem>=0.23.1 in c:\\users\\public\\new\\envs\\tensorflowraul\\lib\\site-packages (from tensorflow-intel==2.11.0->tensorflow==2.11) (0.31.0)\n",
      "Requirement already satisfied: opt-einsum>=2.3.2 in c:\\users\\public\\new\\envs\\tensorflowraul\\lib\\site-packages (from tensorflow-intel==2.11.0->tensorflow==2.11) (3.3.0)\n",
      "Requirement already satisfied: protobuf<3.20,>=3.9.2 in c:\\users\\public\\new\\envs\\tensorflowraul\\lib\\site-packages (from tensorflow-intel==2.11.0->tensorflow==2.11) (3.19.6)\n",
      "Requirement already satisfied: h5py>=2.9.0 in c:\\users\\bee team\\appdata\\roaming\\python\\python39\\site-packages (from tensorflow-intel==2.11.0->tensorflow==2.11) (3.8.0)\n",
      "Requirement already satisfied: setuptools in c:\\users\\public\\new\\envs\\tensorflowraul\\lib\\site-packages (from tensorflow-intel==2.11.0->tensorflow==2.11) (65.6.3)\n",
      "Requirement already satisfied: flatbuffers>=2.0 in c:\\users\\public\\new\\envs\\tensorflowraul\\lib\\site-packages (from tensorflow-intel==2.11.0->tensorflow==2.11) (23.3.3)\n",
      "Requirement already satisfied: termcolor>=1.1.0 in c:\\users\\public\\new\\envs\\tensorflowraul\\lib\\site-packages (from tensorflow-intel==2.11.0->tensorflow==2.11) (2.2.0)\n",
      "Requirement already satisfied: google-pasta>=0.1.1 in c:\\users\\public\\new\\envs\\tensorflowraul\\lib\\site-packages (from tensorflow-intel==2.11.0->tensorflow==2.11) (0.2.0)\n",
      "Requirement already satisfied: astunparse>=1.6.0 in c:\\users\\public\\new\\envs\\tensorflowraul\\lib\\site-packages (from tensorflow-intel==2.11.0->tensorflow==2.11) (1.6.3)\n",
      "Requirement already satisfied: typing-extensions>=3.6.6 in c:\\users\\public\\new\\envs\\tensorflowraul\\lib\\site-packages (from tensorflow-intel==2.11.0->tensorflow==2.11) (4.4.0)\n",
      "Requirement already satisfied: tensorboard<2.12,>=2.11 in c:\\users\\bee team\\appdata\\roaming\\python\\python39\\site-packages (from tensorflow-intel==2.11.0->tensorflow==2.11) (2.11.2)\n",
      "Requirement already satisfied: grpcio<2.0,>=1.24.3 in c:\\users\\public\\new\\envs\\tensorflowraul\\lib\\site-packages (from tensorflow-intel==2.11.0->tensorflow==2.11) (1.53.0)\n",
      "Requirement already satisfied: packaging in c:\\users\\public\\new\\envs\\tensorflowraul\\lib\\site-packages (from tensorflow-intel==2.11.0->tensorflow==2.11) (23.0)\n",
      "Requirement already satisfied: keras<2.12,>=2.11.0 in c:\\users\\bee team\\appdata\\roaming\\python\\python39\\site-packages (from tensorflow-intel==2.11.0->tensorflow==2.11) (2.11.0)\n",
      "Requirement already satisfied: numpy>=1.20 in c:\\users\\bee team\\appdata\\roaming\\python\\python39\\site-packages (from tensorflow-intel==2.11.0->tensorflow==2.11) (1.22.4)\n",
      "Requirement already satisfied: gast<=0.4.0,>=0.2.1 in c:\\users\\public\\new\\envs\\tensorflowraul\\lib\\site-packages (from tensorflow-intel==2.11.0->tensorflow==2.11) (0.4.0)\n",
      "Requirement already satisfied: libclang>=13.0.0 in c:\\users\\public\\new\\envs\\tensorflowraul\\lib\\site-packages (from tensorflow-intel==2.11.0->tensorflow==2.11) (16.0.0)\n",
      "Requirement already satisfied: tensorflow-estimator<2.12,>=2.11.0 in c:\\users\\public\\new\\envs\\tensorflowraul\\lib\\site-packages (from tensorflow-intel==2.11.0->tensorflow==2.11) (2.11.0)\n",
      "Requirement already satisfied: six>=1.12.0 in c:\\users\\public\\new\\envs\\tensorflowraul\\lib\\site-packages (from tensorflow-intel==2.11.0->tensorflow==2.11) (1.16.0)\n",
      "Requirement already satisfied: wrapt>=1.11.0 in c:\\users\\public\\new\\envs\\tensorflowraul\\lib\\site-packages (from tensorflow-intel==2.11.0->tensorflow==2.11) (1.14.1)\n",
      "Requirement already satisfied: absl-py>=1.0.0 in c:\\users\\public\\new\\envs\\tensorflowraul\\lib\\site-packages (from tensorflow-intel==2.11.0->tensorflow==2.11) (1.4.0)\n",
      "Requirement already satisfied: wheel<1.0,>=0.23.0 in c:\\users\\public\\new\\envs\\tensorflowraul\\lib\\site-packages (from astunparse>=1.6.0->tensorflow-intel==2.11.0->tensorflow==2.11) (0.38.4)\n",
      "Requirement already satisfied: markdown>=2.6.8 in c:\\users\\public\\new\\envs\\tensorflowraul\\lib\\site-packages (from tensorboard<2.12,>=2.11->tensorflow-intel==2.11.0->tensorflow==2.11) (3.4.3)\n",
      "Requirement already satisfied: google-auth<3,>=1.6.3 in c:\\users\\public\\new\\envs\\tensorflowraul\\lib\\site-packages (from tensorboard<2.12,>=2.11->tensorflow-intel==2.11.0->tensorflow==2.11) (2.17.2)\n",
      "Requirement already satisfied: google-auth-oauthlib<0.5,>=0.4.1 in c:\\users\\bee team\\appdata\\roaming\\python\\python39\\site-packages (from tensorboard<2.12,>=2.11->tensorflow-intel==2.11.0->tensorflow==2.11) (0.4.6)\n",
      "Requirement already satisfied: tensorboard-data-server<0.7.0,>=0.6.0 in c:\\users\\public\\new\\envs\\tensorflowraul\\lib\\site-packages (from tensorboard<2.12,>=2.11->tensorflow-intel==2.11.0->tensorflow==2.11) (0.6.1)\n",
      "Requirement already satisfied: werkzeug>=1.0.1 in c:\\users\\public\\new\\envs\\tensorflowraul\\lib\\site-packages (from tensorboard<2.12,>=2.11->tensorflow-intel==2.11.0->tensorflow==2.11) (2.2.3)\n",
      "Requirement already satisfied: requests<3,>=2.21.0 in c:\\users\\public\\new\\envs\\tensorflowraul\\lib\\site-packages (from tensorboard<2.12,>=2.11->tensorflow-intel==2.11.0->tensorflow==2.11) (2.28.2)\n",
      "Requirement already satisfied: tensorboard-plugin-wit>=1.6.0 in c:\\users\\public\\new\\envs\\tensorflowraul\\lib\\site-packages (from tensorboard<2.12,>=2.11->tensorflow-intel==2.11.0->tensorflow==2.11) (1.8.1)\n",
      "Requirement already satisfied: rsa<5,>=3.1.4 in c:\\users\\public\\new\\envs\\tensorflowraul\\lib\\site-packages (from google-auth<3,>=1.6.3->tensorboard<2.12,>=2.11->tensorflow-intel==2.11.0->tensorflow==2.11) (4.9)\n",
      "Requirement already satisfied: cachetools<6.0,>=2.0.0 in c:\\users\\public\\new\\envs\\tensorflowraul\\lib\\site-packages (from google-auth<3,>=1.6.3->tensorboard<2.12,>=2.11->tensorflow-intel==2.11.0->tensorflow==2.11) (5.3.0)\n",
      "Requirement already satisfied: pyasn1-modules>=0.2.1 in c:\\users\\public\\new\\envs\\tensorflowraul\\lib\\site-packages (from google-auth<3,>=1.6.3->tensorboard<2.12,>=2.11->tensorflow-intel==2.11.0->tensorflow==2.11) (0.2.8)\n",
      "Requirement already satisfied: requests-oauthlib>=0.7.0 in c:\\users\\public\\new\\envs\\tensorflowraul\\lib\\site-packages (from google-auth-oauthlib<0.5,>=0.4.1->tensorboard<2.12,>=2.11->tensorflow-intel==2.11.0->tensorflow==2.11) (1.3.1)\n",
      "Requirement already satisfied: importlib-metadata>=4.4 in c:\\users\\public\\new\\envs\\tensorflowraul\\lib\\site-packages (from markdown>=2.6.8->tensorboard<2.12,>=2.11->tensorflow-intel==2.11.0->tensorflow==2.11) (6.0.0)\n",
      "Requirement already satisfied: certifi>=2017.4.17 in c:\\users\\public\\new\\envs\\tensorflowraul\\lib\\site-packages (from requests<3,>=2.21.0->tensorboard<2.12,>=2.11->tensorflow-intel==2.11.0->tensorflow==2.11) (2022.12.7)\n",
      "Requirement already satisfied: idna<4,>=2.5 in c:\\users\\public\\new\\envs\\tensorflowraul\\lib\\site-packages (from requests<3,>=2.21.0->tensorboard<2.12,>=2.11->tensorflow-intel==2.11.0->tensorflow==2.11) (3.4)\n",
      "Requirement already satisfied: charset-normalizer<4,>=2 in c:\\users\\public\\new\\envs\\tensorflowraul\\lib\\site-packages (from requests<3,>=2.21.0->tensorboard<2.12,>=2.11->tensorflow-intel==2.11.0->tensorflow==2.11) (3.1.0)\n",
      "Requirement already satisfied: urllib3<1.27,>=1.21.1 in c:\\users\\public\\new\\envs\\tensorflowraul\\lib\\site-packages (from requests<3,>=2.21.0->tensorboard<2.12,>=2.11->tensorflow-intel==2.11.0->tensorflow==2.11) (1.26.15)\n",
      "Requirement already satisfied: MarkupSafe>=2.1.1 in c:\\users\\public\\new\\envs\\tensorflowraul\\lib\\site-packages (from werkzeug>=1.0.1->tensorboard<2.12,>=2.11->tensorflow-intel==2.11.0->tensorflow==2.11) (2.1.1)\n",
      "Requirement already satisfied: zipp>=0.5 in c:\\users\\public\\new\\envs\\tensorflowraul\\lib\\site-packages (from importlib-metadata>=4.4->markdown>=2.6.8->tensorboard<2.12,>=2.11->tensorflow-intel==2.11.0->tensorflow==2.11) (3.11.0)\n",
      "Requirement already satisfied: pyasn1<0.5.0,>=0.4.6 in c:\\users\\public\\new\\envs\\tensorflowraul\\lib\\site-packages (from pyasn1-modules>=0.2.1->google-auth<3,>=1.6.3->tensorboard<2.12,>=2.11->tensorflow-intel==2.11.0->tensorflow==2.11) (0.4.8)\n",
      "Requirement already satisfied: oauthlib>=3.0.0 in c:\\users\\public\\new\\envs\\tensorflowraul\\lib\\site-packages (from requests-oauthlib>=0.7.0->google-auth-oauthlib<0.5,>=0.4.1->tensorboard<2.12,>=2.11->tensorflow-intel==2.11.0->tensorflow==2.11) (3.2.2)\n",
      "Installing collected packages: tensorflow\n",
      "  Attempting uninstall: tensorflow\n",
      "    Found existing installation: tensorflow 2.12.0\n",
      "    Uninstalling tensorflow-2.12.0:\n",
      "      Successfully uninstalled tensorflow-2.12.0\n",
      "Successfully installed tensorflow-2.11.0\n"
     ]
    },
    {
     "name": "stderr",
     "output_type": "stream",
     "text": [
      "WARNING: Ignoring invalid distribution -ensorflow-intel (c:\\users\\bee team\\appdata\\roaming\\python\\python39\\site-packages)\n",
      "WARNING: Ignoring invalid distribution -rotobuf (c:\\users\\public\\new\\envs\\tensorflowraul\\lib\\site-packages)\n",
      "WARNING: Ignoring invalid distribution -ensorflow-intel (c:\\users\\bee team\\appdata\\roaming\\python\\python39\\site-packages)\n",
      "WARNING: Ignoring invalid distribution -rotobuf (c:\\users\\public\\new\\envs\\tensorflowraul\\lib\\site-packages)\n",
      "WARNING: Ignoring invalid distribution -ensorflow-intel (c:\\users\\bee team\\appdata\\roaming\\python\\python39\\site-packages)\n",
      "WARNING: Ignoring invalid distribution -rotobuf (c:\\users\\public\\new\\envs\\tensorflowraul\\lib\\site-packages)\n",
      "    WARNING: Ignoring invalid distribution -ensorflow-intel (c:\\users\\bee team\\appdata\\roaming\\python\\python39\\site-packages)\n",
      "    WARNING: Ignoring invalid distribution -rotobuf (c:\\users\\public\\new\\envs\\tensorflowraul\\lib\\site-packages)\n",
      "WARNING: Ignoring invalid distribution -rotobuf (c:\\users\\public\\new\\envs\\tensorflowraul\\lib\\site-packages)\n",
      "WARNING: Ignoring invalid distribution -ensorflow-intel (c:\\users\\bee team\\appdata\\roaming\\python\\python39\\site-packages)\n",
      "WARNING: Ignoring invalid distribution -rotobuf (c:\\users\\public\\new\\envs\\tensorflowraul\\lib\\site-packages)\n",
      "WARNING: Ignoring invalid distribution -ensorflow-intel (c:\\users\\bee team\\appdata\\roaming\\python\\python39\\site-packages)\n",
      "WARNING: Ignoring invalid distribution -rotobuf (c:\\users\\public\\new\\envs\\tensorflowraul\\lib\\site-packages)\n",
      "WARNING: Ignoring invalid distribution -ensorflow-intel (c:\\users\\bee team\\appdata\\roaming\\python\\python39\\site-packages)\n",
      "WARNING: Ignoring invalid distribution -rotobuf (c:\\users\\public\\new\\envs\\tensorflowraul\\lib\\site-packages)\n"
     ]
    }
   ],
   "source": [
    "!pip install -U tensorflow==2.11 "
   ]
  },
  {
   "cell_type": "code",
   "execution_count": 44,
   "id": "6939e61b",
   "metadata": {},
   "outputs": [
    {
     "name": "stdout",
     "output_type": "stream",
     "text": [
      "Name: tensorflow\n",
      "Version: 2.11.0\n",
      "Summary: TensorFlow is an open source machine learning framework for everyone.\n",
      "Home-page: https://www.tensorflow.org/\n",
      "Author: Google Inc.\n",
      "Author-email: packages@tensorflow.org\n",
      "License: Apache 2.0\n",
      "Location: c:\\users\\public\\new\\envs\\tensorflowraul\\lib\\site-packages\n",
      "Requires: tensorflow-intel\n",
      "Required-by: \n"
     ]
    },
    {
     "name": "stderr",
     "output_type": "stream",
     "text": [
      "WARNING: Ignoring invalid distribution -ensorflow-intel (c:\\users\\bee team\\appdata\\roaming\\python\\python39\\site-packages)\n",
      "WARNING: Ignoring invalid distribution -rotobuf (c:\\users\\public\\new\\envs\\tensorflowraul\\lib\\site-packages)\n"
     ]
    }
   ],
   "source": [
    "!pip show tensorflow"
   ]
  },
  {
   "cell_type": "code",
   "execution_count": 52,
   "id": "05b8b07b",
   "metadata": {},
   "outputs": [],
   "source": [
    "# TensorFlow and TF-Hub modules.\n",
    "from absl import logging\n",
    "\n",
    "import tensorflow as tf\n",
    "import tensorflow_hub as hub\n",
    "from tensorflow_docs.vis import embed\n",
    "\n",
    "logging.set_verbosity(logging.ERROR)\n",
    "\n",
    "# Some modules to help with reading the UCF101 dataset.\n",
    "import random\n",
    "import re\n",
    "import os\n",
    "import tempfile\n",
    "import ssl\n",
    "import cv2\n",
    "import numpy as np\n",
    "\n",
    "# Some modules to display an animation using imageio.\n",
    "import imageio\n",
    "from IPython import display\n",
    "\n",
    "from urllib import request  # requires python3"
   ]
  },
  {
   "cell_type": "code",
   "execution_count": 53,
   "id": "ed1326ed",
   "metadata": {},
   "outputs": [],
   "source": [
    "###\n",
    "###\n",
    "###"
   ]
  },
  {
   "cell_type": "code",
   "execution_count": 54,
   "id": "8f3f772d",
   "metadata": {},
   "outputs": [],
   "source": [
    "def frames_from_video_file(video_path, n_frames, output_size = (224,224), frame_step = 15):\n",
    "  \"\"\"\n",
    "    Creates frames from each video file present for each category.\n",
    "\n",
    "    Args:\n",
    "      video_path: File path to the video.\n",
    "      n_frames: Number of frames to be created per video file.\n",
    "      output_size: Pixel size of the output frame image.\n",
    "\n",
    "    Return:\n",
    "      An NumPy array of frames in the shape of (n_frames, height, width, channels).\n",
    "  \"\"\"\n",
    "  # Read each video frame by frame\n",
    "  result = []\n",
    "  src = cv2.VideoCapture(str(video_path))  \n",
    "\n",
    "  video_length = src.get(cv2.CAP_PROP_FRAME_COUNT)\n",
    "\n",
    "  need_length = 1 + (n_frames - 1) * frame_step\n",
    "\n",
    "  if need_length > video_length:\n",
    "    start = 0\n",
    "  else:\n",
    "    max_start = video_length - need_length\n",
    "    start = random.randint(0, max_start + 1)\n",
    "\n",
    "  src.set(cv2.CAP_PROP_POS_FRAMES, start)\n",
    "  # ret is a boolean indicating whether read was successful, frame is the image itself\n",
    "  ret, frame = src.read()\n",
    "  result.append(format_frames(frame, output_size))\n",
    "\n",
    "  for _ in range(n_frames - 1):\n",
    "    for _ in range(frame_step):\n",
    "      ret, frame = src.read()\n",
    "    if ret:\n",
    "      frame = format_frames(frame, output_size)\n",
    "      result.append(frame)\n",
    "    else:\n",
    "      result.append(np.zeros_like(result[0]))\n",
    "  src.release()\n",
    "  result = np.array(result)[..., [2, 1, 0]]\n",
    "\n",
    "  return result"
   ]
  },
  {
   "cell_type": "code",
   "execution_count": 55,
   "id": "7815f2f7",
   "metadata": {},
   "outputs": [],
   "source": [
    "def format_frames(frame, output_size):\n",
    "  \"\"\"\n",
    "    Pad and resize an image from a video.\n",
    "\n",
    "    Args:\n",
    "      frame: Image that needs to resized and padded. \n",
    "      output_size: Pixel size of the output frame image.\n",
    "\n",
    "    Return:\n",
    "      Formatted frame with padding of specified output size.\n",
    "  \"\"\"\n",
    "  frame = tf.image.convert_image_dtype(frame, tf.float32)\n",
    "  frame = tf.image.resize_with_pad(frame, *output_size)\n",
    "  return frame"
   ]
  },
  {
   "cell_type": "code",
   "execution_count": 56,
   "id": "71c15a65",
   "metadata": {},
   "outputs": [],
   "source": [
    "###\n",
    "###\n",
    "###"
   ]
  },
  {
   "cell_type": "code",
   "execution_count": 57,
   "id": "19ccfab4",
   "metadata": {},
   "outputs": [
    {
     "name": "stdout",
     "output_type": "stream",
     "text": [
      "Found 200 videos in 6 categories.\n",
      "background             71 videos (C:\\Users\\BEE Team\\Desktop\\code\\Summarys_labels\\Sep_Clips\\test\\background\\background_13.mp4, C:\\Users\\BEE Team\\Desktop\\code\\Summarys_labels\\Sep_Clips\\test\\background\\background_31.mp4, ...)\n",
      "IntCleaner             15 videos (C:\\Users\\BEE Team\\Desktop\\code\\Summarys_labels\\Sep_Clips\\test\\IntCleaner\\IntCleaner_4.mp4, C:\\Users\\BEE Team\\Desktop\\code\\Summarys_labels\\Sep_Clips\\test\\IntCleaner\\IntCleaner_6.mp4, ...)\n",
      "IntClient              75 videos (C:\\Users\\BEE Team\\Desktop\\code\\Summarys_labels\\Sep_Clips\\test\\IntClient\\IntClient_15.mp4, C:\\Users\\BEE Team\\Desktop\\code\\Summarys_labels\\Sep_Clips\\test\\IntClient\\IntClient_17_1.mp4, ...)\n",
      "Jolt                   19 videos (C:\\Users\\BEE Team\\Desktop\\code\\Summarys_labels\\Sep_Clips\\test\\Jolt\\Jolt_12.mp4, C:\\Users\\BEE Team\\Desktop\\code\\Summarys_labels\\Sep_Clips\\test\\Jolt\\Jolt_4.mp4, ...)\n",
      "TS                     18 videos (C:\\Users\\BEE Team\\Desktop\\code\\Summarys_labels\\Sep_Clips\\test\\TS\\TS_6_1.mp4, C:\\Users\\BEE Team\\Desktop\\code\\Summarys_labels\\Sep_Clips\\test\\TS\\TS_8_0.mp4, ...)\n",
      "Run                     2 videos (C:\\Users\\BEE Team\\Desktop\\code\\Summarys_labels\\Sep_Clips\\train\\Run\\Run_0_1.mp4, C:\\Users\\BEE Team\\Desktop\\code\\Summarys_labels\\Sep_Clips\\val\\Run\\Run_0_0.mp4, ...)\n"
     ]
    }
   ],
   "source": [
    "def list_videos(root_path):\n",
    "    \"\"\"\n",
    "    Returns a list of videos and their categories.\n",
    "    \"\"\"\n",
    "    videos = []\n",
    "    for set_type in os.listdir(root_path):\n",
    "        set_path = os.path.join(root_path, set_type)\n",
    "        if not os.path.isdir(set_path):\n",
    "            continue\n",
    "        for category in os.listdir(set_path):\n",
    "            category_path = os.path.join(set_path, category)\n",
    "            if not os.path.isdir(category_path):\n",
    "                continue\n",
    "            for video in os.listdir(category_path):\n",
    "                video_path = os.path.join(category_path, video)\n",
    "                if not video_path.endswith(\".mp4\"):\n",
    "                    continue\n",
    "                videos.append((video_path, set_type, category))\n",
    "    return videos\n",
    "\n",
    "videos = list_videos(r\"C:\\Users\\BEE Team\\Desktop\\code\\Summarys_labels\\Sep_Clips\")\n",
    "\n",
    "categories = {}\n",
    "for video in videos:\n",
    "    category = video[2]\n",
    "    if category not in categories:\n",
    "        categories[category] = []\n",
    "    categories[category].append(video[0])\n",
    "print(\"Found %d videos in %d categories.\" % (len(videos), len(categories)))\n",
    "\n",
    "for category, sequences in categories.items():\n",
    "    summary = \", \".join(sequences[:2])\n",
    "    print(\"%-20s %4d videos (%s, ...)\" % (category, len(sequences), summary))"
   ]
  },
  {
   "cell_type": "code",
   "execution_count": 58,
   "id": "3ac69958",
   "metadata": {},
   "outputs": [
    {
     "data": {
      "text/plain": [
       "(10, 224, 224, 3)"
      ]
     },
     "execution_count": 58,
     "metadata": {},
     "output_type": "execute_result"
    }
   ],
   "source": [
    "video_path = r\"C:\\Users\\BEE Team\\Desktop\\code\\Summarys_labels\\Sep_Clips\\train\\Run\\Run_0_1.mp4\"\n",
    "sample_video = frames_from_video_file(video_path, n_frames = 10)\n",
    "sample_video.shape"
   ]
  },
  {
   "cell_type": "code",
   "execution_count": 59,
   "id": "50ae87a8",
   "metadata": {},
   "outputs": [],
   "source": [
    "i3d = hub.load(\"https://tfhub.dev/deepmind/i3d-kinetics-400/1\").signatures['default']"
   ]
  },
  {
   "cell_type": "code",
   "execution_count": 60,
   "id": "b52d1e05",
   "metadata": {},
   "outputs": [],
   "source": [
    "labels = list(categories.keys())"
   ]
  },
  {
   "cell_type": "code",
   "execution_count": 61,
   "id": "b13c4214",
   "metadata": {},
   "outputs": [],
   "source": [
    "def predict(sample_video):\n",
    "  # Add a batch axis to the sample video.\n",
    "  model_input = tf.constant(sample_video, dtype=tf.float32)[tf.newaxis, ...]\n",
    "\n",
    "  logits = i3d(model_input)['default'][0]\n",
    "  probabilities = tf.nn.softmax(logits)\n",
    "\n",
    "  print(\"Top 5 actions:\")\n",
    "  for i in np.argsort(probabilities)[::-1][:5]:\n",
    "    print(f\"  {labels[i]:22}: {probabilities[i] * 100:5.2f}%\")"
   ]
  },
  {
   "cell_type": "code",
   "execution_count": 62,
   "id": "7d714aa4",
   "metadata": {
    "scrolled": true
   },
   "outputs": [
    {
     "name": "stdout",
     "output_type": "stream",
     "text": [
      "Top 5 actions:\n"
     ]
    },
    {
     "ename": "IndexError",
     "evalue": "list index out of range",
     "output_type": "error",
     "traceback": [
      "\u001b[1;31m---------------------------------------------------------------------------\u001b[0m",
      "\u001b[1;31mIndexError\u001b[0m                                Traceback (most recent call last)",
      "Cell \u001b[1;32mIn[62], line 1\u001b[0m\n\u001b[1;32m----> 1\u001b[0m \u001b[43mpredict\u001b[49m\u001b[43m(\u001b[49m\u001b[43msample_video\u001b[49m\u001b[43m)\u001b[49m\n",
      "Cell \u001b[1;32mIn[61], line 10\u001b[0m, in \u001b[0;36mpredict\u001b[1;34m(sample_video)\u001b[0m\n\u001b[0;32m      8\u001b[0m \u001b[38;5;28mprint\u001b[39m(\u001b[38;5;124m\"\u001b[39m\u001b[38;5;124mTop 5 actions:\u001b[39m\u001b[38;5;124m\"\u001b[39m)\n\u001b[0;32m      9\u001b[0m \u001b[38;5;28;01mfor\u001b[39;00m i \u001b[38;5;129;01min\u001b[39;00m np\u001b[38;5;241m.\u001b[39margsort(probabilities)[::\u001b[38;5;241m-\u001b[39m\u001b[38;5;241m1\u001b[39m][:\u001b[38;5;241m5\u001b[39m]:\n\u001b[1;32m---> 10\u001b[0m   \u001b[38;5;28mprint\u001b[39m(\u001b[38;5;124mf\u001b[39m\u001b[38;5;124m\"\u001b[39m\u001b[38;5;124m  \u001b[39m\u001b[38;5;132;01m{\u001b[39;00mlabels[i]\u001b[38;5;132;01m:\u001b[39;00m\u001b[38;5;124m22\u001b[39m\u001b[38;5;132;01m}\u001b[39;00m\u001b[38;5;124m: \u001b[39m\u001b[38;5;132;01m{\u001b[39;00mprobabilities[i] \u001b[38;5;241m*\u001b[39m \u001b[38;5;241m100\u001b[39m\u001b[38;5;132;01m:\u001b[39;00m\u001b[38;5;124m5.2f\u001b[39m\u001b[38;5;132;01m}\u001b[39;00m\u001b[38;5;124m%\u001b[39m\u001b[38;5;124m\"\u001b[39m)\n",
      "\u001b[1;31mIndexError\u001b[0m: list index out of range"
     ]
    }
   ],
   "source": [
    "predict(sample_video)"
   ]
  },
  {
   "cell_type": "code",
   "execution_count": 63,
   "id": "44916412",
   "metadata": {},
   "outputs": [],
   "source": [
    "### está a utilizar os labels do modelo original"
   ]
  },
  {
   "cell_type": "code",
   "execution_count": null,
   "id": "f9b782fa",
   "metadata": {},
   "outputs": [],
   "source": []
  }
 ],
 "metadata": {
  "kernelspec": {
   "display_name": "Python 3 (ipykernel)",
   "language": "python",
   "name": "python3"
  },
  "language_info": {
   "codemirror_mode": {
    "name": "ipython",
    "version": 3
   },
   "file_extension": ".py",
   "mimetype": "text/x-python",
   "name": "python",
   "nbconvert_exporter": "python",
   "pygments_lexer": "ipython3",
   "version": "3.9.16"
  }
 },
 "nbformat": 4,
 "nbformat_minor": 5
}
