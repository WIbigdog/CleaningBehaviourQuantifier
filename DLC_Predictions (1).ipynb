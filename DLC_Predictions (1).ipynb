{
 "cells": [
  {
   "cell_type": "code",
   "execution_count": 27,
   "id": "59430a19",
   "metadata": {},
   "outputs": [],
   "source": [
    "import numpy as np\n",
    "import pandas as pd\n",
    "import matplotlib.pyplot as plt\n",
    "import os\n",
    "\n",
    "from sklearn.model_selection import train_test_split, GridSearchCV, cross_val_score\n",
    "from sklearn.svm import SVC\n",
    "from sklearn.metrics import accuracy_score, confusion_matrix\n",
    "from sklearn.ensemble import RandomForestClassifier\n",
    "from sklearn.impute import SimpleImputer, KNNImputer\n",
    "from sklearn.preprocessing import StandardScaler, LabelEncoder\n",
    "from sklearn.pipeline import Pipeline\n",
    "from sklearn.linear_model import Lasso\n",
    "from sklearn.feature_selection import SelectFromModel"
   ]
  },
  {
   "cell_type": "code",
   "execution_count": 28,
   "id": "cd793c6d",
   "metadata": {
    "scrolled": true
   },
   "outputs": [
    {
     "name": "stderr",
     "output_type": "stream",
     "text": [
      "C:\\Users\\raulo\\AppData\\Local\\Temp\\ipykernel_7676\\821610458.py:15: DtypeWarning: Columns (0,1,2,3,4,5,6,7,8,9,10,11,12,13,14,15,16,17,18,19,20,21,22,23,24,25,26,27,28,29,30,31,32,33,34,35,36,37,38,39,40,41,42) have mixed types. Specify dtype option on import or set low_memory=False.\n",
      "  df = pd.read_csv(file_path, header = 2)\n",
      "C:\\Users\\raulo\\AppData\\Local\\Temp\\ipykernel_7676\\821610458.py:15: DtypeWarning: Columns (0,1,2,3,4,5,6,7,8,9,10,11,12,13,14,15,16,17,18,19,20,21,22,23,24,25,26,27,28,29,30,31,32,33,34,35,36,37,38,39,40,41,42) have mixed types. Specify dtype option on import or set low_memory=False.\n",
      "  df = pd.read_csv(file_path, header = 2)\n",
      "C:\\Users\\raulo\\AppData\\Local\\Temp\\ipykernel_7676\\821610458.py:15: DtypeWarning: Columns (0,1,2,3,4,5,6,7,8,9,10,11,12,13,14,15,16,17,18,19,20,21,22,23,24,25,26,27,28,29,30,31,32,33,34,35,36,37,38,39,40,41,42) have mixed types. Specify dtype option on import or set low_memory=False.\n",
      "  df = pd.read_csv(file_path, header = 2)\n",
      "C:\\Users\\raulo\\AppData\\Local\\Temp\\ipykernel_7676\\821610458.py:15: DtypeWarning: Columns (0,1,2,3,4,5,6,7,8,9,10,11,12,13,14,15,16,17,18,19,20,21,22,23,24,25,26,27,28,29,30,31,32,33,34,35,36,37,38,39,40,41,42) have mixed types. Specify dtype option on import or set low_memory=False.\n",
      "  df = pd.read_csv(file_path, header = 2)\n",
      "C:\\Users\\raulo\\AppData\\Local\\Temp\\ipykernel_7676\\821610458.py:15: DtypeWarning: Columns (0,1,2,3,4,5,6,7,8,9,10,11,12,13,14,15,16,17,18,19,20,21,22,23,24,25,26,27,28,29,30,31,32,33,34,35,36,37,38,39,40,41,42) have mixed types. Specify dtype option on import or set low_memory=False.\n",
      "  df = pd.read_csv(file_path, header = 2)\n",
      "C:\\Users\\raulo\\AppData\\Local\\Temp\\ipykernel_7676\\821610458.py:15: DtypeWarning: Columns (0,1,2,3,4,5,6,7,8,9,10,11,12,13,14,15,16,17,18,19,20,21,22,23,24,25,26,27,28,29,30,31,32,33,34,35,36,37,38,39,40,41,42) have mixed types. Specify dtype option on import or set low_memory=False.\n",
      "  df = pd.read_csv(file_path, header = 2)\n",
      "C:\\Users\\raulo\\AppData\\Local\\Temp\\ipykernel_7676\\821610458.py:15: DtypeWarning: Columns (0,1,2,3,4,5,6,7,8,9,10,11,12,13,14,15,16,17,18,19,20,21,22,23,24,25,26,27,28,29,30,31,32,33,34,35,36,37,38,39,40,41,42) have mixed types. Specify dtype option on import or set low_memory=False.\n",
      "  df = pd.read_csv(file_path, header = 2)\n",
      "C:\\Users\\raulo\\AppData\\Local\\Temp\\ipykernel_7676\\821610458.py:15: DtypeWarning: Columns (0,1,2,3,4,5,6,7,8,9,10,11,12,13,14,15,16,17,18,19,20,21,22,23,24,25,26,27,28,29,30,31,32,33,34,35,36,37,38,39,40,41,42) have mixed types. Specify dtype option on import or set low_memory=False.\n",
      "  df = pd.read_csv(file_path, header = 2)\n",
      "C:\\Users\\raulo\\AppData\\Local\\Temp\\ipykernel_7676\\821610458.py:15: DtypeWarning: Columns (0,1,2,3,4,5,6,7,8,9,10,11,12,13,14,15,16,17,18,19,20,21,22,23,24,25,26,27,28,29,30,31,32,33,34,35,36,37,38,39,40,41,42) have mixed types. Specify dtype option on import or set low_memory=False.\n",
      "  df = pd.read_csv(file_path, header = 2)\n",
      "C:\\Users\\raulo\\AppData\\Local\\Temp\\ipykernel_7676\\821610458.py:15: DtypeWarning: Columns (0,1,2,3,4,5,6,7,8,9,10,11,12,13,14,15,16,17,18,19,20,21,22,23,24,25,26,27,28,29,30,31,32,33,34,35,36,37,38,39,40,41,42) have mixed types. Specify dtype option on import or set low_memory=False.\n",
      "  df = pd.read_csv(file_path, header = 2)\n",
      "C:\\Users\\raulo\\AppData\\Local\\Temp\\ipykernel_7676\\821610458.py:15: DtypeWarning: Columns (0,1,2,3,4,5,6,7,8,9,10,11,12,13,14,15,16,17,18,19,20,21,22,23,24,25,26,27,28,29,30,31,32,33,34,35,36,37,38,39,40,41,42) have mixed types. Specify dtype option on import or set low_memory=False.\n",
      "  df = pd.read_csv(file_path, header = 2)\n",
      "C:\\Users\\raulo\\AppData\\Local\\Temp\\ipykernel_7676\\821610458.py:15: DtypeWarning: Columns (0,1,2,3,4,5,6,7,8,9,10,11,12,13,14,15,16,17,18,19,20,21,22,23,24,25,26,27,28,29,30,31,32,33,34,35,36,37,38,39,40,41,42) have mixed types. Specify dtype option on import or set low_memory=False.\n",
      "  df = pd.read_csv(file_path, header = 2)\n",
      "C:\\Users\\raulo\\AppData\\Local\\Temp\\ipykernel_7676\\821610458.py:15: DtypeWarning: Columns (0,1,2,3,4,5,6,7,8,9,10,11,12,13,14,15,16,17,18,19,20,21,22,23,24,25,26,27,28,29,30,31,32,33,34,35,36,37,38,39,40,41,42) have mixed types. Specify dtype option on import or set low_memory=False.\n",
      "  df = pd.read_csv(file_path, header = 2)\n",
      "C:\\Users\\raulo\\AppData\\Local\\Temp\\ipykernel_7676\\821610458.py:15: DtypeWarning: Columns (0,1,2,3,4,5,6,7,8,9,10,11,12,13,14,15,16,17,18,19,20,21,22,23,24,25,26,27,28,29,30,31,32,33,34,35,36,37,38,39,40,41,42) have mixed types. Specify dtype option on import or set low_memory=False.\n",
      "  df = pd.read_csv(file_path, header = 2)\n",
      "C:\\Users\\raulo\\AppData\\Local\\Temp\\ipykernel_7676\\821610458.py:15: DtypeWarning: Columns (0,1,2,3,4,5,6,7,8,9,10,11,12,13,14,15,16,17,18,19,20,21,22,23,24,25,26,27,28,29,30,31,32,33,34,35,36,37,38,39,40,41,42) have mixed types. Specify dtype option on import or set low_memory=False.\n",
      "  df = pd.read_csv(file_path, header = 2)\n"
     ]
    }
   ],
   "source": [
    "# Directory path where the CSV files are located\n",
    "directory = r'C:\\Users\\raulo\\Desktop\\CódigoTese\\tracks'\n",
    "\n",
    "# List to store the individual DataFrames\n",
    "dfs = []\n",
    "\n",
    "# Get the list of file names in alphabetical order\n",
    "file_names = sorted(os.listdir(directory))\n",
    "\n",
    "# Iterate over the files in the directory\n",
    "for filename in file_names:\n",
    "    if filename.endswith('.csv'):\n",
    "        file_path = os.path.join(directory, filename)\n",
    "        #print(file_path)\n",
    "        df = pd.read_csv(file_path, header = 2)\n",
    "        df = df.drop(0)\n",
    "        df.index = df.index -1    #Set the index rigth\n",
    "        df = df.drop(columns='bodyparts')\n",
    "        dfs.append(df)\n"
   ]
  },
  {
   "cell_type": "code",
   "execution_count": 29,
   "id": "ca474361",
   "metadata": {},
   "outputs": [],
   "source": [
    "#dfs[0]"
   ]
  },
  {
   "cell_type": "code",
   "execution_count": 30,
   "id": "ca9c7f84",
   "metadata": {},
   "outputs": [],
   "source": [
    "# Directory path where the CSV files are located\n",
    "directory = r'C:\\Users\\raulo\\Desktop\\CódigoTese\\Labels'\n",
    "\n",
    "# List to store the individual DataFrames\n",
    "dfs_labels = []\n",
    "\n",
    "# Get the list of file names in alphabetical order\n",
    "file_names = sorted(os.listdir(directory))\n",
    "\n",
    "# Iterate over the files in the directory\n",
    "for filename in file_names:\n",
    "    if filename.endswith('.csv'):\n",
    "        file_path = os.path.join(directory, filename)\n",
    "        df = pd.read_csv(file_path)\n",
    "        df = df.drop(columns='Unnamed: 0')\n",
    "        #print(file_path)\n",
    "        dfs_labels.append(df)"
   ]
  },
  {
   "cell_type": "code",
   "execution_count": 31,
   "id": "74f437d8",
   "metadata": {},
   "outputs": [],
   "source": [
    "#dfs_labels[0]"
   ]
  },
  {
   "cell_type": "code",
   "execution_count": 32,
   "id": "eb3b431c",
   "metadata": {},
   "outputs": [],
   "source": [
    "dfs_labels_single = []\n",
    "for df in dfs_labels:\n",
    "    # Convert DataFrame into a single-column DataFrame\n",
    "    single_column_df = pd.DataFrame(df.idxmax(axis=1), columns=['Interaction'])\n",
    "    dfs_labels_single.append(single_column_df)"
   ]
  },
  {
   "cell_type": "code",
   "execution_count": 33,
   "id": "9d736d57",
   "metadata": {
    "scrolled": true
   },
   "outputs": [],
   "source": [
    "# Create a list to store the labeled DataFrames\n",
    "labeled_dfs = []\n",
    "\n",
    "# Iterate over the DataFrames\n",
    "for i in range(len(dfs)):\n",
    "    # Add the labels DataFrame in front of each DataFrame\n",
    "    labeled_df = pd.concat([dfs_labels_single[i], dfs[i]], axis=1)\n",
    "    labeled_dfs.append(labeled_df)\n",
    "\n",
    "# Concatenate the labeled DataFrames vertically\n",
    "merged_df = pd.concat(labeled_dfs, ignore_index=True)\n",
    "\n",
    "# Print the merged DataFrame\n",
    "#print(merged_df)"
   ]
  },
  {
   "cell_type": "code",
   "execution_count": 34,
   "id": "62db6cc9",
   "metadata": {
    "scrolled": false
   },
   "outputs": [
    {
     "name": "stdout",
     "output_type": "stream",
     "text": [
      "background     594156\n",
      "Int_Client       5524\n",
      "TS               1474\n",
      "Int_Cleaner       955\n",
      "Jolt              490\n",
      "Run               145\n",
      "Name: Interaction, dtype: int64\n"
     ]
    }
   ],
   "source": [
    "interaction_counts = merged_df['Interaction'].value_counts()\n",
    "print(interaction_counts)"
   ]
  },
  {
   "cell_type": "markdown",
   "id": "bfd2872f",
   "metadata": {},
   "source": [
    "# RandomForest (all Columns) with all backgrounds 600k"
   ]
  },
  {
   "cell_type": "code",
   "execution_count": 35,
   "id": "18360a4b",
   "metadata": {},
   "outputs": [],
   "source": [
    "X = merged_df.iloc[:, 1:43]  # Select columns 1 to 42 as features\n",
    "y = merged_df.iloc[:, 0]     # Select column 0 as the target variable"
   ]
  },
  {
   "cell_type": "code",
   "execution_count": 36,
   "id": "2519d3a1",
   "metadata": {},
   "outputs": [],
   "source": [
    "X_train, X_test, y_train, y_test = train_test_split(X, y, test_size=0.2, random_state=1999)"
   ]
  },
  {
   "cell_type": "code",
   "execution_count": 37,
   "id": "f0d0dc08",
   "metadata": {},
   "outputs": [],
   "source": [
    "imputer = SimpleImputer(strategy='mean')\n",
    "\n",
    "X_train_imputed = imputer.fit_transform(X_train)\n",
    "X_test_imputed = imputer.transform(X_test)"
   ]
  },
  {
   "cell_type": "code",
   "execution_count": 38,
   "id": "710639f2",
   "metadata": {
    "scrolled": true
   },
   "outputs": [
    {
     "data": {
      "text/html": [
       "<style>#sk-container-id-2 {color: black;background-color: white;}#sk-container-id-2 pre{padding: 0;}#sk-container-id-2 div.sk-toggleable {background-color: white;}#sk-container-id-2 label.sk-toggleable__label {cursor: pointer;display: block;width: 100%;margin-bottom: 0;padding: 0.3em;box-sizing: border-box;text-align: center;}#sk-container-id-2 label.sk-toggleable__label-arrow:before {content: \"▸\";float: left;margin-right: 0.25em;color: #696969;}#sk-container-id-2 label.sk-toggleable__label-arrow:hover:before {color: black;}#sk-container-id-2 div.sk-estimator:hover label.sk-toggleable__label-arrow:before {color: black;}#sk-container-id-2 div.sk-toggleable__content {max-height: 0;max-width: 0;overflow: hidden;text-align: left;background-color: #f0f8ff;}#sk-container-id-2 div.sk-toggleable__content pre {margin: 0.2em;color: black;border-radius: 0.25em;background-color: #f0f8ff;}#sk-container-id-2 input.sk-toggleable__control:checked~div.sk-toggleable__content {max-height: 200px;max-width: 100%;overflow: auto;}#sk-container-id-2 input.sk-toggleable__control:checked~label.sk-toggleable__label-arrow:before {content: \"▾\";}#sk-container-id-2 div.sk-estimator input.sk-toggleable__control:checked~label.sk-toggleable__label {background-color: #d4ebff;}#sk-container-id-2 div.sk-label input.sk-toggleable__control:checked~label.sk-toggleable__label {background-color: #d4ebff;}#sk-container-id-2 input.sk-hidden--visually {border: 0;clip: rect(1px 1px 1px 1px);clip: rect(1px, 1px, 1px, 1px);height: 1px;margin: -1px;overflow: hidden;padding: 0;position: absolute;width: 1px;}#sk-container-id-2 div.sk-estimator {font-family: monospace;background-color: #f0f8ff;border: 1px dotted black;border-radius: 0.25em;box-sizing: border-box;margin-bottom: 0.5em;}#sk-container-id-2 div.sk-estimator:hover {background-color: #d4ebff;}#sk-container-id-2 div.sk-parallel-item::after {content: \"\";width: 100%;border-bottom: 1px solid gray;flex-grow: 1;}#sk-container-id-2 div.sk-label:hover label.sk-toggleable__label {background-color: #d4ebff;}#sk-container-id-2 div.sk-serial::before {content: \"\";position: absolute;border-left: 1px solid gray;box-sizing: border-box;top: 0;bottom: 0;left: 50%;z-index: 0;}#sk-container-id-2 div.sk-serial {display: flex;flex-direction: column;align-items: center;background-color: white;padding-right: 0.2em;padding-left: 0.2em;position: relative;}#sk-container-id-2 div.sk-item {position: relative;z-index: 1;}#sk-container-id-2 div.sk-parallel {display: flex;align-items: stretch;justify-content: center;background-color: white;position: relative;}#sk-container-id-2 div.sk-item::before, #sk-container-id-2 div.sk-parallel-item::before {content: \"\";position: absolute;border-left: 1px solid gray;box-sizing: border-box;top: 0;bottom: 0;left: 50%;z-index: -1;}#sk-container-id-2 div.sk-parallel-item {display: flex;flex-direction: column;z-index: 1;position: relative;background-color: white;}#sk-container-id-2 div.sk-parallel-item:first-child::after {align-self: flex-end;width: 50%;}#sk-container-id-2 div.sk-parallel-item:last-child::after {align-self: flex-start;width: 50%;}#sk-container-id-2 div.sk-parallel-item:only-child::after {width: 0;}#sk-container-id-2 div.sk-dashed-wrapped {border: 1px dashed gray;margin: 0 0.4em 0.5em 0.4em;box-sizing: border-box;padding-bottom: 0.4em;background-color: white;}#sk-container-id-2 div.sk-label label {font-family: monospace;font-weight: bold;display: inline-block;line-height: 1.2em;}#sk-container-id-2 div.sk-label-container {text-align: center;}#sk-container-id-2 div.sk-container {/* jupyter's `normalize.less` sets `[hidden] { display: none; }` but bootstrap.min.css set `[hidden] { display: none !important; }` so we also need the `!important` here to be able to override the default hidden behavior on the sphinx rendered scikit-learn.org. See: https://github.com/scikit-learn/scikit-learn/issues/21755 */display: inline-block !important;position: relative;}#sk-container-id-2 div.sk-text-repr-fallback {display: none;}</style><div id=\"sk-container-id-2\" class=\"sk-top-container\"><div class=\"sk-text-repr-fallback\"><pre>RandomForestClassifier()</pre><b>In a Jupyter environment, please rerun this cell to show the HTML representation or trust the notebook. <br />On GitHub, the HTML representation is unable to render, please try loading this page with nbviewer.org.</b></div><div class=\"sk-container\" hidden><div class=\"sk-item\"><div class=\"sk-estimator sk-toggleable\"><input class=\"sk-toggleable__control sk-hidden--visually\" id=\"sk-estimator-id-2\" type=\"checkbox\" checked><label for=\"sk-estimator-id-2\" class=\"sk-toggleable__label sk-toggleable__label-arrow\">RandomForestClassifier</label><div class=\"sk-toggleable__content\"><pre>RandomForestClassifier()</pre></div></div></div></div></div>"
      ],
      "text/plain": [
       "RandomForestClassifier()"
      ]
     },
     "execution_count": 38,
     "metadata": {},
     "output_type": "execute_result"
    }
   ],
   "source": [
    "model = RandomForestClassifier()\n",
    "model.fit(X_train_imputed, y_train)"
   ]
  },
  {
   "cell_type": "code",
   "execution_count": 39,
   "id": "02d33244",
   "metadata": {},
   "outputs": [
    {
     "name": "stdout",
     "output_type": "stream",
     "text": [
      "Accuracy: 0.9988054649976358\n"
     ]
    }
   ],
   "source": [
    "y_pred = model.predict(X_test_imputed)\n",
    "accuracy = accuracy_score(y_test, y_pred)\n",
    "print(\"Accuracy:\", accuracy)"
   ]
  },
  {
   "cell_type": "code",
   "execution_count": 40,
   "id": "96f9c8a5",
   "metadata": {},
   "outputs": [],
   "source": [
    "cv_scores = cross_val_score(model, X_train_imputed, y_train, cv=5)"
   ]
  },
  {
   "cell_type": "code",
   "execution_count": 41,
   "id": "9fe9fc4c",
   "metadata": {},
   "outputs": [
    {
     "name": "stdout",
     "output_type": "stream",
     "text": [
      "Cross-Validation Accuracy Scores: [0.99850683 0.99842387 0.99850683 0.99873495 0.99854831]\n",
      "Average Accuracy: 0.998544157446676\n"
     ]
    }
   ],
   "source": [
    "print(\"Cross-Validation Accuracy Scores:\", cv_scores)\n",
    "print(\"Average Accuracy:\", cv_scores.mean())"
   ]
  },
  {
   "cell_type": "code",
   "execution_count": 42,
   "id": "aa8d9569",
   "metadata": {},
   "outputs": [],
   "source": [
    "# Assuming you have the predicted labels (y_pred) and actual labels (y_test)\n",
    "cm = confusion_matrix(y_test, y_pred)\n",
    "\n",
    "#print(cm)"
   ]
  },
  {
   "cell_type": "code",
   "execution_count": 43,
   "id": "cb0052c2",
   "metadata": {
    "scrolled": false
   },
   "outputs": [
    {
     "data": {
      "image/png": "[encoded data removed]",
      "text/plain": [
       "<Figure size 640x480 with 2 Axes>"
      ]
     },
     "metadata": {},
     "output_type": "display_data"
    }
   ],
   "source": [
    "# Define the class labels\n",
    "class_labels = np.sort(merged_df['Interaction'].unique())\n",
    "\n",
    "# Create the confusion matrix\n",
    "cm = np.array(cm)\n",
    "\n",
    "# Create a figure and axis\n",
    "fig, ax = plt.subplots()\n",
    "im = ax.imshow(cm, cmap='Blues')\n",
    "\n",
    "# Set axis labels\n",
    "ax.set_xticks(np.arange(len(class_labels)))\n",
    "ax.set_yticks(np.arange(len(class_labels)))\n",
    "ax.set_xticklabels(class_labels, rotation=45)\n",
    "ax.set_yticklabels(class_labels)\n",
    "\n",
    "# Add labels to each cell\n",
    "for i in range(len(class_labels)):\n",
    "    for j in range(len(class_labels)):\n",
    "        text = ax.text(j, i, cm[i, j], ha='center', va='center', color='orange')\n",
    "\n",
    "# Add colorbar\n",
    "cbar = ax.figure.colorbar(im, ax=ax)\n",
    "\n",
    "# Set title and labels\n",
    "ax.set_title('Confusion Matrix')\n",
    "ax.set_xlabel('Predicted Label')\n",
    "ax.set_ylabel('True Label')\n",
    "\n",
    "# Show the plot\n",
    "plt.show()"
   ]
  },
  {
   "cell_type": "markdown",
   "id": "1da096ee",
   "metadata": {},
   "source": [
    "---\n",
    "---\n",
    "---\n",
    "---"
   ]
  },
  {
   "cell_type": "markdown",
   "id": "b6c8de9a",
   "metadata": {},
   "source": [
    "# RandomForest (all Columns) with 5k backgrounds"
   ]
  },
  {
   "cell_type": "code",
   "execution_count": 44,
   "id": "292f713f",
   "metadata": {},
   "outputs": [],
   "source": [
    "background_df = merged_df[merged_df['Interaction'] == 'background']\n",
    "other_df = merged_df[merged_df['Interaction'] != 'background']"
   ]
  },
  {
   "cell_type": "code",
   "execution_count": 45,
   "id": "51f17013",
   "metadata": {},
   "outputs": [],
   "source": [
    "desired_background_samples = 5000"
   ]
  },
  {
   "cell_type": "code",
   "execution_count": 46,
   "id": "a27b2cc9",
   "metadata": {},
   "outputs": [],
   "source": [
    "background_sample = background_df.sample(n=desired_background_samples, random_state=1999)"
   ]
  },
  {
   "cell_type": "code",
   "execution_count": 47,
   "id": "28e3e112",
   "metadata": {},
   "outputs": [],
   "source": [
    "undersampled_df = pd.concat([background_sample, other_df], ignore_index=True)"
   ]
  },
  {
   "cell_type": "code",
   "execution_count": 48,
   "id": "06ad7077",
   "metadata": {
    "scrolled": true
   },
   "outputs": [
    {
     "name": "stdout",
     "output_type": "stream",
     "text": [
      "Int_Client     5524\n",
      "background     5000\n",
      "TS             1474\n",
      "Int_Cleaner     955\n",
      "Jolt            490\n",
      "Run             145\n",
      "Name: Interaction, dtype: int64\n"
     ]
    }
   ],
   "source": [
    "interaction_counts_new = undersampled_df['Interaction'].value_counts()\n",
    "print(interaction_counts_new)"
   ]
  },
  {
   "cell_type": "code",
   "execution_count": 49,
   "id": "bafaa6e8",
   "metadata": {},
   "outputs": [],
   "source": [
    "X_new5000 = undersampled_df.iloc[:, 1:43]  # Select columns 1 to 42 as features\n",
    "y_new5000 = undersampled_df.iloc[:, 0]     # Select column 0 as the target variable"
   ]
  },
  {
   "cell_type": "code",
   "execution_count": 50,
   "id": "44eb94d2",
   "metadata": {},
   "outputs": [],
   "source": [
    "X_train_new5000, X_test_new5000, y_train_new5000, y_test_new5000 = train_test_split(X_new5000, y_new5000, test_size=0.2, random_state=1999)"
   ]
  },
  {
   "cell_type": "code",
   "execution_count": 51,
   "id": "2aadab5e",
   "metadata": {},
   "outputs": [],
   "source": [
    "imputer = SimpleImputer(strategy='mean')\n",
    "\n",
    "X_train_imputed_new5000 = imputer.fit_transform(X_train_new5000)\n",
    "X_test_imputed_new5000 = imputer.transform(X_test_new5000)"
   ]
  },
  {
   "cell_type": "code",
   "execution_count": 52,
   "id": "99273221",
   "metadata": {
    "scrolled": true
   },
   "outputs": [
    {
     "data": {
      "text/html": [
       "<style>#sk-container-id-3 {color: black;background-color: white;}#sk-container-id-3 pre{padding: 0;}#sk-container-id-3 div.sk-toggleable {background-color: white;}#sk-container-id-3 label.sk-toggleable__label {cursor: pointer;display: block;width: 100%;margin-bottom: 0;padding: 0.3em;box-sizing: border-box;text-align: center;}#sk-container-id-3 label.sk-toggleable__label-arrow:before {content: \"▸\";float: left;margin-right: 0.25em;color: #696969;}#sk-container-id-3 label.sk-toggleable__label-arrow:hover:before {color: black;}#sk-container-id-3 div.sk-estimator:hover label.sk-toggleable__label-arrow:before {color: black;}#sk-container-id-3 div.sk-toggleable__content {max-height: 0;max-width: 0;overflow: hidden;text-align: left;background-color: #f0f8ff;}#sk-container-id-3 div.sk-toggleable__content pre {margin: 0.2em;color: black;border-radius: 0.25em;background-color: #f0f8ff;}#sk-container-id-3 input.sk-toggleable__control:checked~div.sk-toggleable__content {max-height: 200px;max-width: 100%;overflow: auto;}#sk-container-id-3 input.sk-toggleable__control:checked~label.sk-toggleable__label-arrow:before {content: \"▾\";}#sk-container-id-3 div.sk-estimator input.sk-toggleable__control:checked~label.sk-toggleable__label {background-color: #d4ebff;}#sk-container-id-3 div.sk-label input.sk-toggleable__control:checked~label.sk-toggleable__label {background-color: #d4ebff;}#sk-container-id-3 input.sk-hidden--visually {border: 0;clip: rect(1px 1px 1px 1px);clip: rect(1px, 1px, 1px, 1px);height: 1px;margin: -1px;overflow: hidden;padding: 0;position: absolute;width: 1px;}#sk-container-id-3 div.sk-estimator {font-family: monospace;background-color: #f0f8ff;border: 1px dotted black;border-radius: 0.25em;box-sizing: border-box;margin-bottom: 0.5em;}#sk-container-id-3 div.sk-estimator:hover {background-color: #d4ebff;}#sk-container-id-3 div.sk-parallel-item::after {content: \"\";width: 100%;border-bottom: 1px solid gray;flex-grow: 1;}#sk-container-id-3 div.sk-label:hover label.sk-toggleable__label {background-color: #d4ebff;}#sk-container-id-3 div.sk-serial::before {content: \"\";position: absolute;border-left: 1px solid gray;box-sizing: border-box;top: 0;bottom: 0;left: 50%;z-index: 0;}#sk-container-id-3 div.sk-serial {display: flex;flex-direction: column;align-items: center;background-color: white;padding-right: 0.2em;padding-left: 0.2em;position: relative;}#sk-container-id-3 div.sk-item {position: relative;z-index: 1;}#sk-container-id-3 div.sk-parallel {display: flex;align-items: stretch;justify-content: center;background-color: white;position: relative;}#sk-container-id-3 div.sk-item::before, #sk-container-id-3 div.sk-parallel-item::before {content: \"\";position: absolute;border-left: 1px solid gray;box-sizing: border-box;top: 0;bottom: 0;left: 50%;z-index: -1;}#sk-container-id-3 div.sk-parallel-item {display: flex;flex-direction: column;z-index: 1;position: relative;background-color: white;}#sk-container-id-3 div.sk-parallel-item:first-child::after {align-self: flex-end;width: 50%;}#sk-container-id-3 div.sk-parallel-item:last-child::after {align-self: flex-start;width: 50%;}#sk-container-id-3 div.sk-parallel-item:only-child::after {width: 0;}#sk-container-id-3 div.sk-dashed-wrapped {border: 1px dashed gray;margin: 0 0.4em 0.5em 0.4em;box-sizing: border-box;padding-bottom: 0.4em;background-color: white;}#sk-container-id-3 div.sk-label label {font-family: monospace;font-weight: bold;display: inline-block;line-height: 1.2em;}#sk-container-id-3 div.sk-label-container {text-align: center;}#sk-container-id-3 div.sk-container {/* jupyter's `normalize.less` sets `[hidden] { display: none; }` but bootstrap.min.css set `[hidden] { display: none !important; }` so we also need the `!important` here to be able to override the default hidden behavior on the sphinx rendered scikit-learn.org. See: https://github.com/scikit-learn/scikit-learn/issues/21755 */display: inline-block !important;position: relative;}#sk-container-id-3 div.sk-text-repr-fallback {display: none;}</style><div id=\"sk-container-id-3\" class=\"sk-top-container\"><div class=\"sk-text-repr-fallback\"><pre>RandomForestClassifier()</pre><b>In a Jupyter environment, please rerun this cell to show the HTML representation or trust the notebook. <br />On GitHub, the HTML representation is unable to render, please try loading this page with nbviewer.org.</b></div><div class=\"sk-container\" hidden><div class=\"sk-item\"><div class=\"sk-estimator sk-toggleable\"><input class=\"sk-toggleable__control sk-hidden--visually\" id=\"sk-estimator-id-3\" type=\"checkbox\" checked><label for=\"sk-estimator-id-3\" class=\"sk-toggleable__label sk-toggleable__label-arrow\">RandomForestClassifier</label><div class=\"sk-toggleable__content\"><pre>RandomForestClassifier()</pre></div></div></div></div></div>"
      ],
      "text/plain": [
       "RandomForestClassifier()"
      ]
     },
     "execution_count": 52,
     "metadata": {},
     "output_type": "execute_result"
    }
   ],
   "source": [
    "model_new5000 = RandomForestClassifier()\n",
    "model_new5000.fit(X_train_imputed_new5000, y_train_new5000)"
   ]
  },
  {
   "cell_type": "code",
   "execution_count": 53,
   "id": "426f3eba",
   "metadata": {},
   "outputs": [
    {
     "name": "stdout",
     "output_type": "stream",
     "text": [
      "Accuracy: 0.9885945548197204\n"
     ]
    }
   ],
   "source": [
    "y_pred_new5000 = model_new5000.predict(X_test_imputed_new5000)\n",
    "accuracy_new5000 = accuracy_score(y_test_new5000, y_pred_new5000)\n",
    "print(\"Accuracy:\", accuracy_new5000)"
   ]
  },
  {
   "cell_type": "code",
   "execution_count": 54,
   "id": "7acfb4ba",
   "metadata": {},
   "outputs": [],
   "source": [
    "cv_scores = cross_val_score(model_new5000, X_train_imputed_new5000, y_train_new5000, cv=5)"
   ]
  },
  {
   "cell_type": "code",
   "execution_count": 55,
   "id": "88d0a6bf",
   "metadata": {},
   "outputs": [
    {
     "name": "stdout",
     "output_type": "stream",
     "text": [
      "Cross-Validation Accuracy Scores: [0.98666053 0.98298068 0.98344066 0.98298068 0.98160074]\n",
      "Average Accuracy: 0.9835326586936523\n"
     ]
    }
   ],
   "source": [
    "print(\"Cross-Validation Accuracy Scores:\", cv_scores)\n",
    "print(\"Average Accuracy:\", cv_scores.mean())"
   ]
  },
  {
   "cell_type": "code",
   "execution_count": 56,
   "id": "048c1940",
   "metadata": {
    "scrolled": true
   },
   "outputs": [],
   "source": [
    "# Assuming you have the predicted labels (y_pred) and actual labels (y_test)\n",
    "cm_new5000 = confusion_matrix(y_test_new5000, y_pred_new5000)\n",
    "\n",
    "#print(cm_new5000)"
   ]
  },
  {
   "cell_type": "code",
   "execution_count": 57,
   "id": "14449716",
   "metadata": {},
   "outputs": [
    {
     "name": "stdout",
     "output_type": "stream",
     "text": [
      "Int_Cleaner: 168\n",
      "Int_Client: 1107\n",
      "Jolt: 106\n",
      "Run: 23\n",
      "TS: 304\n",
      "background: 1010\n"
     ]
    }
   ],
   "source": [
    "# Count the occurrences of each unique value\n",
    "unique_values, value_counts = np.unique(y_pred_new5000, return_counts=True)\n",
    "\n",
    "# Print the unique values and their counts\n",
    "for value, count in zip(unique_values, value_counts):\n",
    "    print(f\"{value}: {count}\")"
   ]
  },
  {
   "cell_type": "code",
   "execution_count": 58,
   "id": "a314a008",
   "metadata": {
    "scrolled": false
   },
   "outputs": [
    {
     "data": {
      "image/png": "[encoded data removed]",
      "text/plain": [
       "<Figure size 640x480 with 2 Axes>"
      ]
     },
     "metadata": {},
     "output_type": "display_data"
    }
   ],
   "source": [
    "# Define the class labels\n",
    "class_labels_new5000 = np.sort(merged_df['Interaction'].unique())\n",
    "\n",
    "# Create the confusion matrix\n",
    "cm_new5000 = np.array(cm_new5000)\n",
    "\n",
    "# Create a figure and axis\n",
    "fig, ax = plt.subplots()\n",
    "im = ax.imshow(cm_new5000, cmap='Blues')\n",
    "\n",
    "# Set axis labels\n",
    "ax.set_xticks(np.arange(len(class_labels_new5000)))\n",
    "ax.set_yticks(np.arange(len(class_labels_new5000)))\n",
    "ax.set_xticklabels(class_labels_new5000, rotation=45)\n",
    "ax.set_yticklabels(class_labels_new5000)\n",
    "\n",
    "\n",
    "# Add labels to each cell\n",
    "for i in range(len(class_labels_new5000)):\n",
    "    for j in range(len(class_labels_new5000)):\n",
    "        text = ax.text(j, i, cm_new5000[i, j], ha='center', va='center', color='orange')\n",
    "\n",
    "# Add colorbar\n",
    "cbar = ax.figure.colorbar(im, ax=ax)\n",
    "\n",
    "# Set title and labels\n",
    "ax.set_title('Confusion Matrix')\n",
    "ax.set_xlabel('Predicted Label')\n",
    "ax.set_ylabel('True Label')\n",
    "\n",
    "# Show the plot\n",
    "plt.show()"
   ]
  },
  {
   "cell_type": "markdown",
   "id": "b2ce025e",
   "metadata": {},
   "source": [
    "---\n",
    "---\n",
    "---\n",
    "---"
   ]
  },
  {
   "cell_type": "markdown",
   "id": "846111f3",
   "metadata": {},
   "source": [
    "# Feature Selection"
   ]
  },
  {
   "cell_type": "code",
   "execution_count": 59,
   "id": "a0baa8c8",
   "metadata": {},
   "outputs": [],
   "source": [
    "pipeline = Pipeline([\n",
    "                     ('scaler',StandardScaler()),\n",
    "                     ('model',Lasso())\n",
    "])"
   ]
  },
  {
   "cell_type": "code",
   "execution_count": 60,
   "id": "fd20873d",
   "metadata": {},
   "outputs": [],
   "source": [
    "search = GridSearchCV(pipeline,\n",
    "                      {'model__alpha':np.arange(0.01,10,0.1)},\n",
    "                      cv = 5, scoring=\"neg_mean_squared_error\",verbose=3)"
   ]
  },
  {
   "cell_type": "code",
   "execution_count": 61,
   "id": "8c472431",
   "metadata": {},
   "outputs": [],
   "source": [
    "# Create an instance of LabelEncoder\n",
    "label_encoder = LabelEncoder()\n",
    "# Encode the target variable\n",
    "y_train_encoded = label_encoder.fit_transform(y_train_new5000)"
   ]
  },
  {
   "cell_type": "code",
   "execution_count": 62,
   "id": "4dfecced",
   "metadata": {},
   "outputs": [
    {
     "name": "stdout",
     "output_type": "stream",
     "text": [
      "Fitting 5 folds for each of 100 candidates, totalling 500 fits\n",
      "[CV 1/5] END ................model__alpha=0.01;, score=-2.855 total time=   0.0s\n",
      "[CV 2/5] END ................model__alpha=0.01;, score=-2.771 total time=   0.0s\n",
      "[CV 3/5] END ................model__alpha=0.01;, score=-2.797 total time=   0.0s\n",
      "[CV 4/5] END ................model__alpha=0.01;, score=-2.833 total time=   0.0s\n",
      "[CV 5/5] END ................model__alpha=0.01;, score=-2.830 total time=   0.0s\n",
      "[CV 1/5] END ................model__alpha=0.11;, score=-3.046 total time=   0.0s\n",
      "[CV 2/5] END ................model__alpha=0.11;, score=-2.976 total time=   0.0s\n",
      "[CV 3/5] END ................model__alpha=0.11;, score=-2.948 total time=   0.0s\n",
      "[CV 4/5] END ................model__alpha=0.11;, score=-3.021 total time=   0.0s\n",
      "[CV 5/5] END ................model__alpha=0.11;, score=-3.029 total time=   0.0s\n",
      "[CV 1/5] END .model__alpha=0.21000000000000002;, score=-3.204 total time=   0.0s\n",
      "[CV 2/5] END .model__alpha=0.21000000000000002;, score=-3.115 total time=   0.0s\n",
      "[CV 3/5] END .model__alpha=0.21000000000000002;, score=-3.096 total time=   0.0s\n",
      "[CV 4/5] END .model__alpha=0.21000000000000002;, score=-3.177 total time=   0.0s\n",
      "[CV 5/5] END .model__alpha=0.21000000000000002;, score=-3.171 total time=   0.0s\n",
      "[CV 1/5] END .model__alpha=0.31000000000000005;, score=-3.311 total time=   0.0s\n",
      "[CV 2/5] END .model__alpha=0.31000000000000005;, score=-3.206 total time=   0.0s\n",
      "[CV 3/5] END .model__alpha=0.31000000000000005;, score=-3.194 total time=   0.0s\n",
      "[CV 4/5] END .model__alpha=0.31000000000000005;, score=-3.287 total time=   0.0s\n",
      "[CV 5/5] END .model__alpha=0.31000000000000005;, score=-3.262 total time=   0.0s\n",
      "[CV 1/5] END .model__alpha=0.41000000000000003;, score=-3.423 total time=   0.0s\n",
      "[CV 2/5] END .model__alpha=0.41000000000000003;, score=-3.316 total time=   0.0s\n",
      "[CV 3/5] END .model__alpha=0.41000000000000003;, score=-3.315 total time=   0.0s\n",
      "[CV 4/5] END .model__alpha=0.41000000000000003;, score=-3.407 total time=   0.0s\n",
      "[CV 5/5] END .model__alpha=0.41000000000000003;, score=-3.386 total time=   0.0s\n",
      "[CV 1/5] END ................model__alpha=0.51;, score=-3.510 total time=   0.0s\n",
      "[CV 2/5] END ................model__alpha=0.51;, score=-3.398 total time=   0.0s\n",
      "[CV 3/5] END ................model__alpha=0.51;, score=-3.408 total time=   0.0s\n",
      "[CV 4/5] END ................model__alpha=0.51;, score=-3.504 total time=   0.0s\n",
      "[CV 5/5] END ................model__alpha=0.51;, score=-3.488 total time=   0.0s\n",
      "[CV 1/5] END ..model__alpha=0.6100000000000001;, score=-3.617 total time=   0.0s\n",
      "[CV 2/5] END ..model__alpha=0.6100000000000001;, score=-3.499 total time=   0.0s\n",
      "[CV 3/5] END ..model__alpha=0.6100000000000001;, score=-3.522 total time=   0.0s\n",
      "[CV 4/5] END ..model__alpha=0.6100000000000001;, score=-3.621 total time=   0.0s\n",
      "[CV 5/5] END ..model__alpha=0.6100000000000001;, score=-3.610 total time=   0.0s\n",
      "[CV 1/5] END ..model__alpha=0.7100000000000001;, score=-3.743 total time=   0.0s\n",
      "[CV 2/5] END ..model__alpha=0.7100000000000001;, score=-3.618 total time=   0.0s\n",
      "[CV 3/5] END ..model__alpha=0.7100000000000001;, score=-3.655 total time=   0.0s\n",
      "[CV 4/5] END ..model__alpha=0.7100000000000001;, score=-3.759 total time=   0.0s\n",
      "[CV 5/5] END ..model__alpha=0.7100000000000001;, score=-3.751 total time=   0.0s\n",
      "[CV 1/5] END ................model__alpha=0.81;, score=-3.881 total time=   0.0s\n",
      "[CV 2/5] END ................model__alpha=0.81;, score=-3.757 total time=   0.0s\n",
      "[CV 3/5] END ................model__alpha=0.81;, score=-3.790 total time=   0.0s\n",
      "[CV 4/5] END ................model__alpha=0.81;, score=-3.894 total time=   0.0s\n",
      "[CV 5/5] END ................model__alpha=0.81;, score=-3.879 total time=   0.0s\n",
      "[CV 1/5] END ................model__alpha=0.91;, score=-3.881 total time=   0.0s\n",
      "[CV 2/5] END ................model__alpha=0.91;, score=-3.757 total time=   0.0s\n",
      "[CV 3/5] END ................model__alpha=0.91;, score=-3.790 total time=   0.0s\n",
      "[CV 4/5] END ................model__alpha=0.91;, score=-3.894 total time=   0.0s\n",
      "[CV 5/5] END ................model__alpha=0.91;, score=-3.879 total time=   0.0s\n",
      "[CV 1/5] END ................model__alpha=1.01;, score=-3.881 total time=   0.0s\n",
      "[CV 2/5] END ................model__alpha=1.01;, score=-3.757 total time=   0.0s\n",
      "[CV 3/5] END ................model__alpha=1.01;, score=-3.790 total time=   0.0s\n",
      "[CV 4/5] END ................model__alpha=1.01;, score=-3.894 total time=   0.0s\n",
      "[CV 5/5] END ................model__alpha=1.01;, score=-3.879 total time=   0.0s\n",
      "[CV 1/5] END ................model__alpha=1.11;, score=-3.881 total time=   0.0s\n",
      "[CV 2/5] END ................model__alpha=1.11;, score=-3.757 total time=   0.0s\n",
      "[CV 3/5] END ................model__alpha=1.11;, score=-3.790 total time=   0.0s\n",
      "[CV 4/5] END ................model__alpha=1.11;, score=-3.894 total time=   0.0s\n",
      "[CV 5/5] END ................model__alpha=1.11;, score=-3.879 total time=   0.0s\n",
      "[CV 1/5] END ..model__alpha=1.2100000000000002;, score=-3.881 total time=   0.0s\n",
      "[CV 2/5] END ..model__alpha=1.2100000000000002;, score=-3.757 total time=   0.0s\n",
      "[CV 3/5] END ..model__alpha=1.2100000000000002;, score=-3.790 total time=   0.0s\n",
      "[CV 4/5] END ..model__alpha=1.2100000000000002;, score=-3.894 total time=   0.0s\n",
      "[CV 5/5] END ..model__alpha=1.2100000000000002;, score=-3.879 total time=   0.0s\n",
      "[CV 1/5] END ................model__alpha=1.31;, score=-3.881 total time=   0.0s\n",
      "[CV 2/5] END ................model__alpha=1.31;, score=-3.757 total time=   0.0s\n",
      "[CV 3/5] END ................model__alpha=1.31;, score=-3.790 total time=   0.0s\n",
      "[CV 4/5] END ................model__alpha=1.31;, score=-3.894 total time=   0.0s\n",
      "[CV 5/5] END ................model__alpha=1.31;, score=-3.879 total time=   0.0s\n",
      "[CV 1/5] END ..model__alpha=1.4100000000000001;, score=-3.881 total time=   0.0s\n",
      "[CV 2/5] END ..model__alpha=1.4100000000000001;, score=-3.757 total time=   0.0s\n",
      "[CV 3/5] END ..model__alpha=1.4100000000000001;, score=-3.790 total time=   0.0s\n",
      "[CV 4/5] END ..model__alpha=1.4100000000000001;, score=-3.894 total time=   0.0s\n",
      "[CV 5/5] END ..model__alpha=1.4100000000000001;, score=-3.879 total time=   0.0s\n",
      "[CV 1/5] END ................model__alpha=1.51;, score=-3.881 total time=   0.0s\n",
      "[CV 2/5] END ................model__alpha=1.51;, score=-3.757 total time=   0.0s\n",
      "[CV 3/5] END ................model__alpha=1.51;, score=-3.790 total time=   0.0s\n",
      "[CV 4/5] END ................model__alpha=1.51;, score=-3.894 total time=   0.0s\n",
      "[CV 5/5] END ................model__alpha=1.51;, score=-3.879 total time=   0.0s\n",
      "[CV 1/5] END ................model__alpha=1.61;, score=-3.881 total time=   0.0s\n",
      "[CV 2/5] END ................model__alpha=1.61;, score=-3.757 total time=   0.0s\n",
      "[CV 3/5] END ................model__alpha=1.61;, score=-3.790 total time=   0.0s\n",
      "[CV 4/5] END ................model__alpha=1.61;, score=-3.894 total time=   0.0s\n",
      "[CV 5/5] END ................model__alpha=1.61;, score=-3.879 total time=   0.0s\n",
      "[CV 1/5] END ..model__alpha=1.7100000000000002;, score=-3.881 total time=   0.0s\n",
      "[CV 2/5] END ..model__alpha=1.7100000000000002;, score=-3.757 total time=   0.0s\n",
      "[CV 3/5] END ..model__alpha=1.7100000000000002;, score=-3.790 total time=   0.0s\n",
      "[CV 4/5] END ..model__alpha=1.7100000000000002;, score=-3.894 total time=   0.0s\n",
      "[CV 5/5] END ..model__alpha=1.7100000000000002;, score=-3.879 total time=   0.0s\n",
      "[CV 1/5] END ................model__alpha=1.81;, score=-3.881 total time=   0.0s\n",
      "[CV 2/5] END ................model__alpha=1.81;, score=-3.757 total time=   0.0s\n",
      "[CV 3/5] END ................model__alpha=1.81;, score=-3.790 total time=   0.0s\n",
      "[CV 4/5] END ................model__alpha=1.81;, score=-3.894 total time=   0.0s\n",
      "[CV 5/5] END ................model__alpha=1.81;, score=-3.879 total time=   0.0s\n",
      "[CV 1/5] END ..model__alpha=1.9100000000000001;, score=-3.881 total time=   0.0s\n",
      "[CV 2/5] END ..model__alpha=1.9100000000000001;, score=-3.757 total time=   0.0s\n",
      "[CV 3/5] END ..model__alpha=1.9100000000000001;, score=-3.790 total time=   0.0s\n",
      "[CV 4/5] END ..model__alpha=1.9100000000000001;, score=-3.894 total time=   0.0s\n",
      "[CV 5/5] END ..model__alpha=1.9100000000000001;, score=-3.879 total time=   0.0s\n",
      "[CV 1/5] END ................model__alpha=2.01;, score=-3.881 total time=   0.0s\n",
      "[CV 2/5] END ................model__alpha=2.01;, score=-3.757 total time=   0.0s\n",
      "[CV 3/5] END ................model__alpha=2.01;, score=-3.790 total time=   0.0s\n",
      "[CV 4/5] END ................model__alpha=2.01;, score=-3.894 total time=   0.0s\n",
      "[CV 5/5] END ................model__alpha=2.01;, score=-3.879 total time=   0.0s\n",
      "[CV 1/5] END ................model__alpha=2.11;, score=-3.881 total time=   0.0s\n",
      "[CV 2/5] END ................model__alpha=2.11;, score=-3.757 total time=   0.0s\n",
      "[CV 3/5] END ................model__alpha=2.11;, score=-3.790 total time=   0.0s\n",
      "[CV 4/5] END ................model__alpha=2.11;, score=-3.894 total time=   0.0s\n",
      "[CV 5/5] END ................model__alpha=2.11;, score=-3.879 total time=   0.0s\n",
      "[CV 1/5] END ................model__alpha=2.21;, score=-3.881 total time=   0.0s\n",
      "[CV 2/5] END ................model__alpha=2.21;, score=-3.757 total time=   0.0s\n",
      "[CV 3/5] END ................model__alpha=2.21;, score=-3.790 total time=   0.0s\n",
      "[CV 4/5] END ................model__alpha=2.21;, score=-3.894 total time=   0.0s\n",
      "[CV 5/5] END ................model__alpha=2.21;, score=-3.879 total time=   0.0s\n",
      "[CV 1/5] END ................model__alpha=2.31;, score=-3.881 total time=   0.0s\n"
     ]
    },
    {
     "name": "stdout",
     "output_type": "stream",
     "text": [
      "[CV 2/5] END ................model__alpha=2.31;, score=-3.757 total time=   0.0s\n",
      "[CV 3/5] END ................model__alpha=2.31;, score=-3.790 total time=   0.0s\n",
      "[CV 4/5] END ................model__alpha=2.31;, score=-3.894 total time=   0.0s\n",
      "[CV 5/5] END ................model__alpha=2.31;, score=-3.879 total time=   0.0s\n",
      "[CV 1/5] END ................model__alpha=2.41;, score=-3.881 total time=   0.0s\n",
      "[CV 2/5] END ................model__alpha=2.41;, score=-3.757 total time=   0.0s\n",
      "[CV 3/5] END ................model__alpha=2.41;, score=-3.790 total time=   0.0s\n",
      "[CV 4/5] END ................model__alpha=2.41;, score=-3.894 total time=   0.0s\n",
      "[CV 5/5] END ................model__alpha=2.41;, score=-3.879 total time=   0.0s\n",
      "[CV 1/5] END ................model__alpha=2.51;, score=-3.881 total time=   0.0s\n",
      "[CV 2/5] END ................model__alpha=2.51;, score=-3.757 total time=   0.0s\n",
      "[CV 3/5] END ................model__alpha=2.51;, score=-3.790 total time=   0.0s\n",
      "[CV 4/5] END ................model__alpha=2.51;, score=-3.894 total time=   0.0s\n",
      "[CV 5/5] END ................model__alpha=2.51;, score=-3.879 total time=   0.0s\n",
      "[CV 1/5] END ................model__alpha=2.61;, score=-3.881 total time=   0.0s\n",
      "[CV 2/5] END ................model__alpha=2.61;, score=-3.757 total time=   0.0s\n",
      "[CV 3/5] END ................model__alpha=2.61;, score=-3.790 total time=   0.0s\n",
      "[CV 4/5] END ................model__alpha=2.61;, score=-3.894 total time=   0.0s\n",
      "[CV 5/5] END ................model__alpha=2.61;, score=-3.879 total time=   0.0s\n",
      "[CV 1/5] END ................model__alpha=2.71;, score=-3.881 total time=   0.0s\n",
      "[CV 2/5] END ................model__alpha=2.71;, score=-3.757 total time=   0.0s\n",
      "[CV 3/5] END ................model__alpha=2.71;, score=-3.790 total time=   0.0s\n",
      "[CV 4/5] END ................model__alpha=2.71;, score=-3.894 total time=   0.0s\n",
      "[CV 5/5] END ................model__alpha=2.71;, score=-3.879 total time=   0.0s\n",
      "[CV 1/5] END ................model__alpha=2.81;, score=-3.881 total time=   0.0s\n",
      "[CV 2/5] END ................model__alpha=2.81;, score=-3.757 total time=   0.0s\n",
      "[CV 3/5] END ................model__alpha=2.81;, score=-3.790 total time=   0.0s\n",
      "[CV 4/5] END ................model__alpha=2.81;, score=-3.894 total time=   0.0s\n",
      "[CV 5/5] END ................model__alpha=2.81;, score=-3.879 total time=   0.0s\n",
      "[CV 1/5] END ................model__alpha=2.91;, score=-3.881 total time=   0.0s\n",
      "[CV 2/5] END ................model__alpha=2.91;, score=-3.757 total time=   0.0s\n",
      "[CV 3/5] END ................model__alpha=2.91;, score=-3.790 total time=   0.0s\n",
      "[CV 4/5] END ................model__alpha=2.91;, score=-3.894 total time=   0.0s\n",
      "[CV 5/5] END ................model__alpha=2.91;, score=-3.879 total time=   0.0s\n",
      "[CV 1/5] END ................model__alpha=3.01;, score=-3.881 total time=   0.0s\n",
      "[CV 2/5] END ................model__alpha=3.01;, score=-3.757 total time=   0.0s\n",
      "[CV 3/5] END ................model__alpha=3.01;, score=-3.790 total time=   0.0s\n",
      "[CV 4/5] END ................model__alpha=3.01;, score=-3.894 total time=   0.0s\n",
      "[CV 5/5] END ................model__alpha=3.01;, score=-3.879 total time=   0.0s\n",
      "[CV 1/5] END ................model__alpha=3.11;, score=-3.881 total time=   0.0s\n",
      "[CV 2/5] END ................model__alpha=3.11;, score=-3.757 total time=   0.0s\n",
      "[CV 3/5] END ................model__alpha=3.11;, score=-3.790 total time=   0.0s\n",
      "[CV 4/5] END ................model__alpha=3.11;, score=-3.894 total time=   0.0s\n",
      "[CV 5/5] END ................model__alpha=3.11;, score=-3.879 total time=   0.0s\n",
      "[CV 1/5] END ................model__alpha=3.21;, score=-3.881 total time=   0.0s\n",
      "[CV 2/5] END ................model__alpha=3.21;, score=-3.757 total time=   0.0s\n",
      "[CV 3/5] END ................model__alpha=3.21;, score=-3.790 total time=   0.0s\n",
      "[CV 4/5] END ................model__alpha=3.21;, score=-3.894 total time=   0.0s\n",
      "[CV 5/5] END ................model__alpha=3.21;, score=-3.879 total time=   0.0s\n",
      "[CV 1/5] END ................model__alpha=3.31;, score=-3.881 total time=   0.0s\n",
      "[CV 2/5] END ................model__alpha=3.31;, score=-3.757 total time=   0.0s\n",
      "[CV 3/5] END ................model__alpha=3.31;, score=-3.790 total time=   0.0s\n",
      "[CV 4/5] END ................model__alpha=3.31;, score=-3.894 total time=   0.0s\n",
      "[CV 5/5] END ................model__alpha=3.31;, score=-3.879 total time=   0.0s\n",
      "[CV 1/5] END ................model__alpha=3.41;, score=-3.881 total time=   0.0s\n",
      "[CV 2/5] END ................model__alpha=3.41;, score=-3.757 total time=   0.0s\n",
      "[CV 3/5] END ................model__alpha=3.41;, score=-3.790 total time=   0.0s\n",
      "[CV 4/5] END ................model__alpha=3.41;, score=-3.894 total time=   0.0s\n",
      "[CV 5/5] END ................model__alpha=3.41;, score=-3.879 total time=   0.0s\n",
      "[CV 1/5] END ................model__alpha=3.51;, score=-3.881 total time=   0.0s\n",
      "[CV 2/5] END ................model__alpha=3.51;, score=-3.757 total time=   0.0s\n",
      "[CV 3/5] END ................model__alpha=3.51;, score=-3.790 total time=   0.0s\n",
      "[CV 4/5] END ................model__alpha=3.51;, score=-3.894 total time=   0.0s\n",
      "[CV 5/5] END ................model__alpha=3.51;, score=-3.879 total time=   0.0s\n",
      "[CV 1/5] END ................model__alpha=3.61;, score=-3.881 total time=   0.0s\n",
      "[CV 2/5] END ................model__alpha=3.61;, score=-3.757 total time=   0.0s\n",
      "[CV 3/5] END ................model__alpha=3.61;, score=-3.790 total time=   0.0s\n",
      "[CV 4/5] END ................model__alpha=3.61;, score=-3.894 total time=   0.0s\n",
      "[CV 5/5] END ................model__alpha=3.61;, score=-3.879 total time=   0.0s\n",
      "[CV 1/5] END ................model__alpha=3.71;, score=-3.881 total time=   0.0s\n",
      "[CV 2/5] END ................model__alpha=3.71;, score=-3.757 total time=   0.0s\n",
      "[CV 3/5] END ................model__alpha=3.71;, score=-3.790 total time=   0.0s\n",
      "[CV 4/5] END ................model__alpha=3.71;, score=-3.894 total time=   0.0s\n",
      "[CV 5/5] END ................model__alpha=3.71;, score=-3.879 total time=   0.0s\n",
      "[CV 1/5] END ................model__alpha=3.81;, score=-3.881 total time=   0.0s\n",
      "[CV 2/5] END ................model__alpha=3.81;, score=-3.757 total time=   0.0s\n",
      "[CV 3/5] END ................model__alpha=3.81;, score=-3.790 total time=   0.0s\n",
      "[CV 4/5] END ................model__alpha=3.81;, score=-3.894 total time=   0.0s\n",
      "[CV 5/5] END ................model__alpha=3.81;, score=-3.879 total time=   0.0s\n",
      "[CV 1/5] END ................model__alpha=3.91;, score=-3.881 total time=   0.0s\n",
      "[CV 2/5] END ................model__alpha=3.91;, score=-3.757 total time=   0.0s\n",
      "[CV 3/5] END ................model__alpha=3.91;, score=-3.790 total time=   0.0s\n",
      "[CV 4/5] END ................model__alpha=3.91;, score=-3.894 total time=   0.0s\n",
      "[CV 5/5] END ................model__alpha=3.91;, score=-3.879 total time=   0.0s\n",
      "[CV 1/5] END ................model__alpha=4.01;, score=-3.881 total time=   0.0s\n",
      "[CV 2/5] END ................model__alpha=4.01;, score=-3.757 total time=   0.0s\n",
      "[CV 3/5] END ................model__alpha=4.01;, score=-3.790 total time=   0.0s\n",
      "[CV 4/5] END ................model__alpha=4.01;, score=-3.894 total time=   0.0s\n",
      "[CV 5/5] END ................model__alpha=4.01;, score=-3.879 total time=   0.0s\n",
      "[CV 1/5] END ................model__alpha=4.11;, score=-3.881 total time=   0.0s\n",
      "[CV 2/5] END ................model__alpha=4.11;, score=-3.757 total time=   0.0s\n",
      "[CV 3/5] END ................model__alpha=4.11;, score=-3.790 total time=   0.0s\n",
      "[CV 4/5] END ................model__alpha=4.11;, score=-3.894 total time=   0.0s\n",
      "[CV 5/5] END ................model__alpha=4.11;, score=-3.879 total time=   0.0s\n",
      "[CV 1/5] END ................model__alpha=4.21;, score=-3.881 total time=   0.0s\n",
      "[CV 2/5] END ................model__alpha=4.21;, score=-3.757 total time=   0.0s\n",
      "[CV 3/5] END ................model__alpha=4.21;, score=-3.790 total time=   0.0s\n",
      "[CV 4/5] END ................model__alpha=4.21;, score=-3.894 total time=   0.0s\n",
      "[CV 5/5] END ................model__alpha=4.21;, score=-3.879 total time=   0.0s\n",
      "[CV 1/5] END ................model__alpha=4.31;, score=-3.881 total time=   0.0s\n",
      "[CV 2/5] END ................model__alpha=4.31;, score=-3.757 total time=   0.0s\n",
      "[CV 3/5] END ................model__alpha=4.31;, score=-3.790 total time=   0.0s\n",
      "[CV 4/5] END ................model__alpha=4.31;, score=-3.894 total time=   0.0s\n",
      "[CV 5/5] END ................model__alpha=4.31;, score=-3.879 total time=   0.0s\n",
      "[CV 1/5] END ................model__alpha=4.41;, score=-3.881 total time=   0.0s\n",
      "[CV 2/5] END ................model__alpha=4.41;, score=-3.757 total time=   0.0s\n",
      "[CV 3/5] END ................model__alpha=4.41;, score=-3.790 total time=   0.0s\n",
      "[CV 4/5] END ................model__alpha=4.41;, score=-3.894 total time=   0.0s\n",
      "[CV 5/5] END ................model__alpha=4.41;, score=-3.879 total time=   0.0s\n",
      "[CV 1/5] END ................model__alpha=4.51;, score=-3.881 total time=   0.0s\n",
      "[CV 2/5] END ................model__alpha=4.51;, score=-3.757 total time=   0.0s\n",
      "[CV 3/5] END ................model__alpha=4.51;, score=-3.790 total time=   0.0s\n",
      "[CV 4/5] END ................model__alpha=4.51;, score=-3.894 total time=   0.0s\n",
      "[CV 5/5] END ................model__alpha=4.51;, score=-3.879 total time=   0.0s\n",
      "[CV 1/5] END ................model__alpha=4.61;, score=-3.881 total time=   0.0s\n",
      "[CV 2/5] END ................model__alpha=4.61;, score=-3.757 total time=   0.0s\n",
      "[CV 3/5] END ................model__alpha=4.61;, score=-3.790 total time=   0.0s\n"
     ]
    },
    {
     "name": "stdout",
     "output_type": "stream",
     "text": [
      "[CV 4/5] END ................model__alpha=4.61;, score=-3.894 total time=   0.0s\n",
      "[CV 5/5] END ................model__alpha=4.61;, score=-3.879 total time=   0.0s\n",
      "[CV 1/5] END ................model__alpha=4.71;, score=-3.881 total time=   0.0s\n",
      "[CV 2/5] END ................model__alpha=4.71;, score=-3.757 total time=   0.0s\n",
      "[CV 3/5] END ................model__alpha=4.71;, score=-3.790 total time=   0.0s\n",
      "[CV 4/5] END ................model__alpha=4.71;, score=-3.894 total time=   0.0s\n",
      "[CV 5/5] END ................model__alpha=4.71;, score=-3.879 total time=   0.0s\n",
      "[CV 1/5] END ..model__alpha=4.8100000000000005;, score=-3.881 total time=   0.0s\n",
      "[CV 2/5] END ..model__alpha=4.8100000000000005;, score=-3.757 total time=   0.0s\n",
      "[CV 3/5] END ..model__alpha=4.8100000000000005;, score=-3.790 total time=   0.0s\n",
      "[CV 4/5] END ..model__alpha=4.8100000000000005;, score=-3.894 total time=   0.0s\n",
      "[CV 5/5] END ..model__alpha=4.8100000000000005;, score=-3.879 total time=   0.0s\n",
      "[CV 1/5] END ................model__alpha=4.91;, score=-3.881 total time=   0.0s\n",
      "[CV 2/5] END ................model__alpha=4.91;, score=-3.757 total time=   0.0s\n",
      "[CV 3/5] END ................model__alpha=4.91;, score=-3.790 total time=   0.0s\n",
      "[CV 4/5] END ................model__alpha=4.91;, score=-3.894 total time=   0.0s\n",
      "[CV 5/5] END ................model__alpha=4.91;, score=-3.879 total time=   0.0s\n",
      "[CV 1/5] END ................model__alpha=5.01;, score=-3.881 total time=   0.0s\n",
      "[CV 2/5] END ................model__alpha=5.01;, score=-3.757 total time=   0.0s\n",
      "[CV 3/5] END ................model__alpha=5.01;, score=-3.790 total time=   0.0s\n",
      "[CV 4/5] END ................model__alpha=5.01;, score=-3.894 total time=   0.0s\n",
      "[CV 5/5] END ................model__alpha=5.01;, score=-3.879 total time=   0.0s\n",
      "[CV 1/5] END ................model__alpha=5.11;, score=-3.881 total time=   0.0s\n",
      "[CV 2/5] END ................model__alpha=5.11;, score=-3.757 total time=   0.0s\n",
      "[CV 3/5] END ................model__alpha=5.11;, score=-3.790 total time=   0.0s\n",
      "[CV 4/5] END ................model__alpha=5.11;, score=-3.894 total time=   0.0s\n",
      "[CV 5/5] END ................model__alpha=5.11;, score=-3.879 total time=   0.0s\n",
      "[CV 1/5] END ................model__alpha=5.21;, score=-3.881 total time=   0.0s\n",
      "[CV 2/5] END ................model__alpha=5.21;, score=-3.757 total time=   0.0s\n",
      "[CV 3/5] END ................model__alpha=5.21;, score=-3.790 total time=   0.0s\n",
      "[CV 4/5] END ................model__alpha=5.21;, score=-3.894 total time=   0.0s\n",
      "[CV 5/5] END ................model__alpha=5.21;, score=-3.879 total time=   0.0s\n",
      "[CV 1/5] END ..model__alpha=5.3100000000000005;, score=-3.881 total time=   0.0s\n",
      "[CV 2/5] END ..model__alpha=5.3100000000000005;, score=-3.757 total time=   0.0s\n",
      "[CV 3/5] END ..model__alpha=5.3100000000000005;, score=-3.790 total time=   0.0s\n",
      "[CV 4/5] END ..model__alpha=5.3100000000000005;, score=-3.894 total time=   0.0s\n",
      "[CV 5/5] END ..model__alpha=5.3100000000000005;, score=-3.879 total time=   0.0s\n",
      "[CV 1/5] END ................model__alpha=5.41;, score=-3.881 total time=   0.0s\n",
      "[CV 2/5] END ................model__alpha=5.41;, score=-3.757 total time=   0.0s\n",
      "[CV 3/5] END ................model__alpha=5.41;, score=-3.790 total time=   0.0s\n",
      "[CV 4/5] END ................model__alpha=5.41;, score=-3.894 total time=   0.0s\n",
      "[CV 5/5] END ................model__alpha=5.41;, score=-3.879 total time=   0.0s\n",
      "[CV 1/5] END ................model__alpha=5.51;, score=-3.881 total time=   0.0s\n",
      "[CV 2/5] END ................model__alpha=5.51;, score=-3.757 total time=   0.0s\n",
      "[CV 3/5] END ................model__alpha=5.51;, score=-3.790 total time=   0.0s\n",
      "[CV 4/5] END ................model__alpha=5.51;, score=-3.894 total time=   0.0s\n",
      "[CV 5/5] END ................model__alpha=5.51;, score=-3.879 total time=   0.0s\n",
      "[CV 1/5] END ................model__alpha=5.61;, score=-3.881 total time=   0.0s\n",
      "[CV 2/5] END ................model__alpha=5.61;, score=-3.757 total time=   0.0s\n",
      "[CV 3/5] END ................model__alpha=5.61;, score=-3.790 total time=   0.0s\n",
      "[CV 4/5] END ................model__alpha=5.61;, score=-3.894 total time=   0.0s\n",
      "[CV 5/5] END ................model__alpha=5.61;, score=-3.879 total time=   0.0s\n",
      "[CV 1/5] END ................model__alpha=5.71;, score=-3.881 total time=   0.0s\n",
      "[CV 2/5] END ................model__alpha=5.71;, score=-3.757 total time=   0.0s\n",
      "[CV 3/5] END ................model__alpha=5.71;, score=-3.790 total time=   0.0s\n",
      "[CV 4/5] END ................model__alpha=5.71;, score=-3.894 total time=   0.0s\n",
      "[CV 5/5] END ................model__alpha=5.71;, score=-3.879 total time=   0.0s\n",
      "[CV 1/5] END ..model__alpha=5.8100000000000005;, score=-3.881 total time=   0.0s\n",
      "[CV 2/5] END ..model__alpha=5.8100000000000005;, score=-3.757 total time=   0.0s\n",
      "[CV 3/5] END ..model__alpha=5.8100000000000005;, score=-3.790 total time=   0.0s\n",
      "[CV 4/5] END ..model__alpha=5.8100000000000005;, score=-3.894 total time=   0.0s\n",
      "[CV 5/5] END ..model__alpha=5.8100000000000005;, score=-3.879 total time=   0.0s\n",
      "[CV 1/5] END ................model__alpha=5.91;, score=-3.881 total time=   0.0s\n",
      "[CV 2/5] END ................model__alpha=5.91;, score=-3.757 total time=   0.0s\n",
      "[CV 3/5] END ................model__alpha=5.91;, score=-3.790 total time=   0.0s\n",
      "[CV 4/5] END ................model__alpha=5.91;, score=-3.894 total time=   0.0s\n",
      "[CV 5/5] END ................model__alpha=5.91;, score=-3.879 total time=   0.0s\n",
      "[CV 1/5] END ................model__alpha=6.01;, score=-3.881 total time=   0.0s\n",
      "[CV 2/5] END ................model__alpha=6.01;, score=-3.757 total time=   0.0s\n",
      "[CV 3/5] END ................model__alpha=6.01;, score=-3.790 total time=   0.0s\n",
      "[CV 4/5] END ................model__alpha=6.01;, score=-3.894 total time=   0.0s\n",
      "[CV 5/5] END ................model__alpha=6.01;, score=-3.879 total time=   0.0s\n",
      "[CV 1/5] END ................model__alpha=6.11;, score=-3.881 total time=   0.0s\n",
      "[CV 2/5] END ................model__alpha=6.11;, score=-3.757 total time=   0.0s\n",
      "[CV 3/5] END ................model__alpha=6.11;, score=-3.790 total time=   0.0s\n",
      "[CV 4/5] END ................model__alpha=6.11;, score=-3.894 total time=   0.0s\n",
      "[CV 5/5] END ................model__alpha=6.11;, score=-3.879 total time=   0.0s\n",
      "[CV 1/5] END ................model__alpha=6.21;, score=-3.881 total time=   0.0s\n",
      "[CV 2/5] END ................model__alpha=6.21;, score=-3.757 total time=   0.0s\n",
      "[CV 3/5] END ................model__alpha=6.21;, score=-3.790 total time=   0.0s\n",
      "[CV 4/5] END ................model__alpha=6.21;, score=-3.894 total time=   0.0s\n",
      "[CV 5/5] END ................model__alpha=6.21;, score=-3.879 total time=   0.0s\n",
      "[CV 1/5] END ..model__alpha=6.3100000000000005;, score=-3.881 total time=   0.0s\n",
      "[CV 2/5] END ..model__alpha=6.3100000000000005;, score=-3.757 total time=   0.0s\n",
      "[CV 3/5] END ..model__alpha=6.3100000000000005;, score=-3.790 total time=   0.0s\n",
      "[CV 4/5] END ..model__alpha=6.3100000000000005;, score=-3.894 total time=   0.0s\n",
      "[CV 5/5] END ..model__alpha=6.3100000000000005;, score=-3.879 total time=   0.0s\n",
      "[CV 1/5] END ................model__alpha=6.41;, score=-3.881 total time=   0.0s\n",
      "[CV 2/5] END ................model__alpha=6.41;, score=-3.757 total time=   0.0s\n",
      "[CV 3/5] END ................model__alpha=6.41;, score=-3.790 total time=   0.0s\n",
      "[CV 4/5] END ................model__alpha=6.41;, score=-3.894 total time=   0.0s\n",
      "[CV 5/5] END ................model__alpha=6.41;, score=-3.879 total time=   0.0s\n",
      "[CV 1/5] END ................model__alpha=6.51;, score=-3.881 total time=   0.0s\n",
      "[CV 2/5] END ................model__alpha=6.51;, score=-3.757 total time=   0.0s\n",
      "[CV 3/5] END ................model__alpha=6.51;, score=-3.790 total time=   0.0s\n",
      "[CV 4/5] END ................model__alpha=6.51;, score=-3.894 total time=   0.0s\n",
      "[CV 5/5] END ................model__alpha=6.51;, score=-3.879 total time=   0.0s\n",
      "[CV 1/5] END ................model__alpha=6.61;, score=-3.881 total time=   0.0s\n",
      "[CV 2/5] END ................model__alpha=6.61;, score=-3.757 total time=   0.0s\n",
      "[CV 3/5] END ................model__alpha=6.61;, score=-3.790 total time=   0.0s\n",
      "[CV 4/5] END ................model__alpha=6.61;, score=-3.894 total time=   0.0s\n",
      "[CV 5/5] END ................model__alpha=6.61;, score=-3.879 total time=   0.0s\n",
      "[CV 1/5] END ................model__alpha=6.71;, score=-3.881 total time=   0.0s\n",
      "[CV 2/5] END ................model__alpha=6.71;, score=-3.757 total time=   0.0s\n",
      "[CV 3/5] END ................model__alpha=6.71;, score=-3.790 total time=   0.0s\n",
      "[CV 4/5] END ................model__alpha=6.71;, score=-3.894 total time=   0.0s\n",
      "[CV 5/5] END ................model__alpha=6.71;, score=-3.879 total time=   0.0s\n",
      "[CV 1/5] END ..model__alpha=6.8100000000000005;, score=-3.881 total time=   0.0s\n",
      "[CV 2/5] END ..model__alpha=6.8100000000000005;, score=-3.757 total time=   0.0s\n",
      "[CV 3/5] END ..model__alpha=6.8100000000000005;, score=-3.790 total time=   0.0s\n",
      "[CV 4/5] END ..model__alpha=6.8100000000000005;, score=-3.894 total time=   0.0s\n",
      "[CV 5/5] END ..model__alpha=6.8100000000000005;, score=-3.879 total time=   0.0s\n"
     ]
    },
    {
     "name": "stdout",
     "output_type": "stream",
     "text": [
      "[CV 1/5] END ................model__alpha=6.91;, score=-3.881 total time=   0.0s\n",
      "[CV 2/5] END ................model__alpha=6.91;, score=-3.757 total time=   0.0s\n",
      "[CV 3/5] END ................model__alpha=6.91;, score=-3.790 total time=   0.0s\n",
      "[CV 4/5] END ................model__alpha=6.91;, score=-3.894 total time=   0.0s\n",
      "[CV 5/5] END ................model__alpha=6.91;, score=-3.879 total time=   0.0s\n",
      "[CV 1/5] END ................model__alpha=7.01;, score=-3.881 total time=   0.0s\n",
      "[CV 2/5] END ................model__alpha=7.01;, score=-3.757 total time=   0.0s\n",
      "[CV 3/5] END ................model__alpha=7.01;, score=-3.790 total time=   0.0s\n",
      "[CV 4/5] END ................model__alpha=7.01;, score=-3.894 total time=   0.0s\n",
      "[CV 5/5] END ................model__alpha=7.01;, score=-3.879 total time=   0.0s\n",
      "[CV 1/5] END ................model__alpha=7.11;, score=-3.881 total time=   0.0s\n",
      "[CV 2/5] END ................model__alpha=7.11;, score=-3.757 total time=   0.0s\n",
      "[CV 3/5] END ................model__alpha=7.11;, score=-3.790 total time=   0.0s\n",
      "[CV 4/5] END ................model__alpha=7.11;, score=-3.894 total time=   0.0s\n",
      "[CV 5/5] END ................model__alpha=7.11;, score=-3.879 total time=   0.0s\n",
      "[CV 1/5] END ................model__alpha=7.21;, score=-3.881 total time=   0.0s\n",
      "[CV 2/5] END ................model__alpha=7.21;, score=-3.757 total time=   0.0s\n",
      "[CV 3/5] END ................model__alpha=7.21;, score=-3.790 total time=   0.0s\n",
      "[CV 4/5] END ................model__alpha=7.21;, score=-3.894 total time=   0.0s\n",
      "[CV 5/5] END ................model__alpha=7.21;, score=-3.879 total time=   0.0s\n",
      "[CV 1/5] END ..model__alpha=7.3100000000000005;, score=-3.881 total time=   0.0s\n",
      "[CV 2/5] END ..model__alpha=7.3100000000000005;, score=-3.757 total time=   0.0s\n",
      "[CV 3/5] END ..model__alpha=7.3100000000000005;, score=-3.790 total time=   0.0s\n",
      "[CV 4/5] END ..model__alpha=7.3100000000000005;, score=-3.894 total time=   0.0s\n",
      "[CV 5/5] END ..model__alpha=7.3100000000000005;, score=-3.879 total time=   0.0s\n",
      "[CV 1/5] END ................model__alpha=7.41;, score=-3.881 total time=   0.0s\n",
      "[CV 2/5] END ................model__alpha=7.41;, score=-3.757 total time=   0.0s\n",
      "[CV 3/5] END ................model__alpha=7.41;, score=-3.790 total time=   0.0s\n",
      "[CV 4/5] END ................model__alpha=7.41;, score=-3.894 total time=   0.0s\n",
      "[CV 5/5] END ................model__alpha=7.41;, score=-3.879 total time=   0.0s\n",
      "[CV 1/5] END ................model__alpha=7.51;, score=-3.881 total time=   0.0s\n",
      "[CV 2/5] END ................model__alpha=7.51;, score=-3.757 total time=   0.0s\n",
      "[CV 3/5] END ................model__alpha=7.51;, score=-3.790 total time=   0.0s\n",
      "[CV 4/5] END ................model__alpha=7.51;, score=-3.894 total time=   0.0s\n",
      "[CV 5/5] END ................model__alpha=7.51;, score=-3.879 total time=   0.0s\n",
      "[CV 1/5] END ................model__alpha=7.61;, score=-3.881 total time=   0.0s\n",
      "[CV 2/5] END ................model__alpha=7.61;, score=-3.757 total time=   0.0s\n",
      "[CV 3/5] END ................model__alpha=7.61;, score=-3.790 total time=   0.0s\n",
      "[CV 4/5] END ................model__alpha=7.61;, score=-3.894 total time=   0.0s\n",
      "[CV 5/5] END ................model__alpha=7.61;, score=-3.879 total time=   0.0s\n",
      "[CV 1/5] END ................model__alpha=7.71;, score=-3.881 total time=   0.0s\n",
      "[CV 2/5] END ................model__alpha=7.71;, score=-3.757 total time=   0.0s\n",
      "[CV 3/5] END ................model__alpha=7.71;, score=-3.790 total time=   0.0s\n",
      "[CV 4/5] END ................model__alpha=7.71;, score=-3.894 total time=   0.0s\n",
      "[CV 5/5] END ................model__alpha=7.71;, score=-3.879 total time=   0.0s\n",
      "[CV 1/5] END ..model__alpha=7.8100000000000005;, score=-3.881 total time=   0.0s\n",
      "[CV 2/5] END ..model__alpha=7.8100000000000005;, score=-3.757 total time=   0.0s\n",
      "[CV 3/5] END ..model__alpha=7.8100000000000005;, score=-3.790 total time=   0.0s\n",
      "[CV 4/5] END ..model__alpha=7.8100000000000005;, score=-3.894 total time=   0.0s\n",
      "[CV 5/5] END ..model__alpha=7.8100000000000005;, score=-3.879 total time=   0.0s\n",
      "[CV 1/5] END ................model__alpha=7.91;, score=-3.881 total time=   0.0s\n",
      "[CV 2/5] END ................model__alpha=7.91;, score=-3.757 total time=   0.0s\n",
      "[CV 3/5] END ................model__alpha=7.91;, score=-3.790 total time=   0.0s\n",
      "[CV 4/5] END ................model__alpha=7.91;, score=-3.894 total time=   0.0s\n",
      "[CV 5/5] END ................model__alpha=7.91;, score=-3.879 total time=   0.0s\n",
      "[CV 1/5] END ................model__alpha=8.01;, score=-3.881 total time=   0.0s\n",
      "[CV 2/5] END ................model__alpha=8.01;, score=-3.757 total time=   0.0s\n",
      "[CV 3/5] END ................model__alpha=8.01;, score=-3.790 total time=   0.0s\n",
      "[CV 4/5] END ................model__alpha=8.01;, score=-3.894 total time=   0.0s\n",
      "[CV 5/5] END ................model__alpha=8.01;, score=-3.879 total time=   0.0s\n",
      "[CV 1/5] END ................model__alpha=8.11;, score=-3.881 total time=   0.0s\n",
      "[CV 2/5] END ................model__alpha=8.11;, score=-3.757 total time=   0.0s\n",
      "[CV 3/5] END ................model__alpha=8.11;, score=-3.790 total time=   0.0s\n",
      "[CV 4/5] END ................model__alpha=8.11;, score=-3.894 total time=   0.0s\n",
      "[CV 5/5] END ................model__alpha=8.11;, score=-3.879 total time=   0.0s\n",
      "[CV 1/5] END ................model__alpha=8.21;, score=-3.881 total time=   0.0s\n",
      "[CV 2/5] END ................model__alpha=8.21;, score=-3.757 total time=   0.0s\n",
      "[CV 3/5] END ................model__alpha=8.21;, score=-3.790 total time=   0.0s\n",
      "[CV 4/5] END ................model__alpha=8.21;, score=-3.894 total time=   0.0s\n",
      "[CV 5/5] END ................model__alpha=8.21;, score=-3.879 total time=   0.0s\n",
      "[CV 1/5] END ................model__alpha=8.31;, score=-3.881 total time=   0.0s\n",
      "[CV 2/5] END ................model__alpha=8.31;, score=-3.757 total time=   0.0s\n",
      "[CV 3/5] END ................model__alpha=8.31;, score=-3.790 total time=   0.0s\n",
      "[CV 4/5] END ................model__alpha=8.31;, score=-3.894 total time=   0.0s\n",
      "[CV 5/5] END ................model__alpha=8.31;, score=-3.879 total time=   0.0s\n",
      "[CV 1/5] END ................model__alpha=8.41;, score=-3.881 total time=   0.0s\n",
      "[CV 2/5] END ................model__alpha=8.41;, score=-3.757 total time=   0.0s\n",
      "[CV 3/5] END ................model__alpha=8.41;, score=-3.790 total time=   0.0s\n",
      "[CV 4/5] END ................model__alpha=8.41;, score=-3.894 total time=   0.0s\n",
      "[CV 5/5] END ................model__alpha=8.41;, score=-3.879 total time=   0.0s\n",
      "[CV 1/5] END ................model__alpha=8.51;, score=-3.881 total time=   0.0s\n",
      "[CV 2/5] END ................model__alpha=8.51;, score=-3.757 total time=   0.0s\n",
      "[CV 3/5] END ................model__alpha=8.51;, score=-3.790 total time=   0.0s\n",
      "[CV 4/5] END ................model__alpha=8.51;, score=-3.894 total time=   0.0s\n",
      "[CV 5/5] END ................model__alpha=8.51;, score=-3.879 total time=   0.0s\n",
      "[CV 1/5] END ................model__alpha=8.61;, score=-3.881 total time=   0.0s\n",
      "[CV 2/5] END ................model__alpha=8.61;, score=-3.757 total time=   0.0s\n",
      "[CV 3/5] END ................model__alpha=8.61;, score=-3.790 total time=   0.0s\n",
      "[CV 4/5] END ................model__alpha=8.61;, score=-3.894 total time=   0.0s\n",
      "[CV 5/5] END ................model__alpha=8.61;, score=-3.879 total time=   0.0s\n",
      "[CV 1/5] END ................model__alpha=8.71;, score=-3.881 total time=   0.0s\n",
      "[CV 2/5] END ................model__alpha=8.71;, score=-3.757 total time=   0.0s\n",
      "[CV 3/5] END ................model__alpha=8.71;, score=-3.790 total time=   0.0s\n",
      "[CV 4/5] END ................model__alpha=8.71;, score=-3.894 total time=   0.0s\n",
      "[CV 5/5] END ................model__alpha=8.71;, score=-3.879 total time=   0.0s\n",
      "[CV 1/5] END ................model__alpha=8.81;, score=-3.881 total time=   0.0s\n",
      "[CV 2/5] END ................model__alpha=8.81;, score=-3.757 total time=   0.0s\n",
      "[CV 3/5] END ................model__alpha=8.81;, score=-3.790 total time=   0.0s\n",
      "[CV 4/5] END ................model__alpha=8.81;, score=-3.894 total time=   0.0s\n",
      "[CV 5/5] END ................model__alpha=8.81;, score=-3.879 total time=   0.0s\n",
      "[CV 1/5] END ................model__alpha=8.91;, score=-3.881 total time=   0.0s\n",
      "[CV 2/5] END ................model__alpha=8.91;, score=-3.757 total time=   0.0s\n",
      "[CV 3/5] END ................model__alpha=8.91;, score=-3.790 total time=   0.0s\n",
      "[CV 4/5] END ................model__alpha=8.91;, score=-3.894 total time=   0.0s\n"
     ]
    },
    {
     "name": "stdout",
     "output_type": "stream",
     "text": [
      "[CV 5/5] END ................model__alpha=8.91;, score=-3.879 total time=   0.0s\n",
      "[CV 1/5] END ................model__alpha=9.01;, score=-3.881 total time=   0.0s\n",
      "[CV 2/5] END ................model__alpha=9.01;, score=-3.757 total time=   0.0s\n",
      "[CV 3/5] END ................model__alpha=9.01;, score=-3.790 total time=   0.0s\n",
      "[CV 4/5] END ................model__alpha=9.01;, score=-3.894 total time=   0.0s\n",
      "[CV 5/5] END ................model__alpha=9.01;, score=-3.879 total time=   0.0s\n",
      "[CV 1/5] END ................model__alpha=9.11;, score=-3.881 total time=   0.0s\n",
      "[CV 2/5] END ................model__alpha=9.11;, score=-3.757 total time=   0.0s\n",
      "[CV 3/5] END ................model__alpha=9.11;, score=-3.790 total time=   0.0s\n",
      "[CV 4/5] END ................model__alpha=9.11;, score=-3.894 total time=   0.0s\n",
      "[CV 5/5] END ................model__alpha=9.11;, score=-3.879 total time=   0.0s\n",
      "[CV 1/5] END ................model__alpha=9.21;, score=-3.881 total time=   0.0s\n",
      "[CV 2/5] END ................model__alpha=9.21;, score=-3.757 total time=   0.0s\n",
      "[CV 3/5] END ................model__alpha=9.21;, score=-3.790 total time=   0.0s\n",
      "[CV 4/5] END ................model__alpha=9.21;, score=-3.894 total time=   0.0s\n",
      "[CV 5/5] END ................model__alpha=9.21;, score=-3.879 total time=   0.0s\n",
      "[CV 1/5] END ................model__alpha=9.31;, score=-3.881 total time=   0.0s\n",
      "[CV 2/5] END ................model__alpha=9.31;, score=-3.757 total time=   0.0s\n",
      "[CV 3/5] END ................model__alpha=9.31;, score=-3.790 total time=   0.0s\n",
      "[CV 4/5] END ................model__alpha=9.31;, score=-3.894 total time=   0.0s\n",
      "[CV 5/5] END ................model__alpha=9.31;, score=-3.879 total time=   0.0s\n",
      "[CV 1/5] END ................model__alpha=9.41;, score=-3.881 total time=   0.0s\n",
      "[CV 2/5] END ................model__alpha=9.41;, score=-3.757 total time=   0.0s\n",
      "[CV 3/5] END ................model__alpha=9.41;, score=-3.790 total time=   0.0s\n",
      "[CV 4/5] END ................model__alpha=9.41;, score=-3.894 total time=   0.0s\n",
      "[CV 5/5] END ................model__alpha=9.41;, score=-3.879 total time=   0.0s\n",
      "[CV 1/5] END ................model__alpha=9.51;, score=-3.881 total time=   0.0s\n",
      "[CV 2/5] END ................model__alpha=9.51;, score=-3.757 total time=   0.0s\n",
      "[CV 3/5] END ................model__alpha=9.51;, score=-3.790 total time=   0.0s\n",
      "[CV 4/5] END ................model__alpha=9.51;, score=-3.894 total time=   0.0s\n",
      "[CV 5/5] END ................model__alpha=9.51;, score=-3.879 total time=   0.0s\n",
      "[CV 1/5] END ...model__alpha=9.610000000000001;, score=-3.881 total time=   0.0s\n",
      "[CV 2/5] END ...model__alpha=9.610000000000001;, score=-3.757 total time=   0.0s\n",
      "[CV 3/5] END ...model__alpha=9.610000000000001;, score=-3.790 total time=   0.0s\n",
      "[CV 4/5] END ...model__alpha=9.610000000000001;, score=-3.894 total time=   0.0s\n",
      "[CV 5/5] END ...model__alpha=9.610000000000001;, score=-3.879 total time=   0.0s\n",
      "[CV 1/5] END ................model__alpha=9.71;, score=-3.881 total time=   0.0s\n",
      "[CV 2/5] END ................model__alpha=9.71;, score=-3.757 total time=   0.0s\n",
      "[CV 3/5] END ................model__alpha=9.71;, score=-3.790 total time=   0.0s\n",
      "[CV 4/5] END ................model__alpha=9.71;, score=-3.894 total time=   0.0s\n",
      "[CV 5/5] END ................model__alpha=9.71;, score=-3.879 total time=   0.0s\n",
      "[CV 1/5] END ................model__alpha=9.81;, score=-3.881 total time=   0.0s\n",
      "[CV 2/5] END ................model__alpha=9.81;, score=-3.757 total time=   0.0s\n",
      "[CV 3/5] END ................model__alpha=9.81;, score=-3.790 total time=   0.0s\n",
      "[CV 4/5] END ................model__alpha=9.81;, score=-3.894 total time=   0.0s\n",
      "[CV 5/5] END ................model__alpha=9.81;, score=-3.879 total time=   0.0s\n",
      "[CV 1/5] END ................model__alpha=9.91;, score=-3.881 total time=   0.0s\n",
      "[CV 2/5] END ................model__alpha=9.91;, score=-3.757 total time=   0.0s\n",
      "[CV 3/5] END ................model__alpha=9.91;, score=-3.790 total time=   0.0s\n",
      "[CV 4/5] END ................model__alpha=9.91;, score=-3.894 total time=   0.0s\n",
      "[CV 5/5] END ................model__alpha=9.91;, score=-3.879 total time=   0.0s\n"
     ]
    },
    {
     "data": {
      "text/html": [
       "<style>#sk-container-id-4 {color: black;background-color: white;}#sk-container-id-4 pre{padding: 0;}#sk-container-id-4 div.sk-toggleable {background-color: white;}#sk-container-id-4 label.sk-toggleable__label {cursor: pointer;display: block;width: 100%;margin-bottom: 0;padding: 0.3em;box-sizing: border-box;text-align: center;}#sk-container-id-4 label.sk-toggleable__label-arrow:before {content: \"▸\";float: left;margin-right: 0.25em;color: #696969;}#sk-container-id-4 label.sk-toggleable__label-arrow:hover:before {color: black;}#sk-container-id-4 div.sk-estimator:hover label.sk-toggleable__label-arrow:before {color: black;}#sk-container-id-4 div.sk-toggleable__content {max-height: 0;max-width: 0;overflow: hidden;text-align: left;background-color: #f0f8ff;}#sk-container-id-4 div.sk-toggleable__content pre {margin: 0.2em;color: black;border-radius: 0.25em;background-color: #f0f8ff;}#sk-container-id-4 input.sk-toggleable__control:checked~div.sk-toggleable__content {max-height: 200px;max-width: 100%;overflow: auto;}#sk-container-id-4 input.sk-toggleable__control:checked~label.sk-toggleable__label-arrow:before {content: \"▾\";}#sk-container-id-4 div.sk-estimator input.sk-toggleable__control:checked~label.sk-toggleable__label {background-color: #d4ebff;}#sk-container-id-4 div.sk-label input.sk-toggleable__control:checked~label.sk-toggleable__label {background-color: #d4ebff;}#sk-container-id-4 input.sk-hidden--visually {border: 0;clip: rect(1px 1px 1px 1px);clip: rect(1px, 1px, 1px, 1px);height: 1px;margin: -1px;overflow: hidden;padding: 0;position: absolute;width: 1px;}#sk-container-id-4 div.sk-estimator {font-family: monospace;background-color: #f0f8ff;border: 1px dotted black;border-radius: 0.25em;box-sizing: border-box;margin-bottom: 0.5em;}#sk-container-id-4 div.sk-estimator:hover {background-color: #d4ebff;}#sk-container-id-4 div.sk-parallel-item::after {content: \"\";width: 100%;border-bottom: 1px solid gray;flex-grow: 1;}#sk-container-id-4 div.sk-label:hover label.sk-toggleable__label {background-color: #d4ebff;}#sk-container-id-4 div.sk-serial::before {content: \"\";position: absolute;border-left: 1px solid gray;box-sizing: border-box;top: 0;bottom: 0;left: 50%;z-index: 0;}#sk-container-id-4 div.sk-serial {display: flex;flex-direction: column;align-items: center;background-color: white;padding-right: 0.2em;padding-left: 0.2em;position: relative;}#sk-container-id-4 div.sk-item {position: relative;z-index: 1;}#sk-container-id-4 div.sk-parallel {display: flex;align-items: stretch;justify-content: center;background-color: white;position: relative;}#sk-container-id-4 div.sk-item::before, #sk-container-id-4 div.sk-parallel-item::before {content: \"\";position: absolute;border-left: 1px solid gray;box-sizing: border-box;top: 0;bottom: 0;left: 50%;z-index: -1;}#sk-container-id-4 div.sk-parallel-item {display: flex;flex-direction: column;z-index: 1;position: relative;background-color: white;}#sk-container-id-4 div.sk-parallel-item:first-child::after {align-self: flex-end;width: 50%;}#sk-container-id-4 div.sk-parallel-item:last-child::after {align-self: flex-start;width: 50%;}#sk-container-id-4 div.sk-parallel-item:only-child::after {width: 0;}#sk-container-id-4 div.sk-dashed-wrapped {border: 1px dashed gray;margin: 0 0.4em 0.5em 0.4em;box-sizing: border-box;padding-bottom: 0.4em;background-color: white;}#sk-container-id-4 div.sk-label label {font-family: monospace;font-weight: bold;display: inline-block;line-height: 1.2em;}#sk-container-id-4 div.sk-label-container {text-align: center;}#sk-container-id-4 div.sk-container {/* jupyter's `normalize.less` sets `[hidden] { display: none; }` but bootstrap.min.css set `[hidden] { display: none !important; }` so we also need the `!important` here to be able to override the default hidden behavior on the sphinx rendered scikit-learn.org. See: https://github.com/scikit-learn/scikit-learn/issues/21755 */display: inline-block !important;position: relative;}#sk-container-id-4 div.sk-text-repr-fallback {display: none;}</style><div id=\"sk-container-id-4\" class=\"sk-top-container\"><div class=\"sk-text-repr-fallback\"><pre>GridSearchCV(cv=5,\n",
       "             estimator=Pipeline(steps=[(&#x27;scaler&#x27;, StandardScaler()),\n",
       "                                       (&#x27;model&#x27;, Lasso())]),\n",
       "             param_grid={&#x27;model__alpha&#x27;: array([0.01, 0.11, 0.21, 0.31, 0.41, 0.51, 0.61, 0.71, 0.81, 0.91, 1.01,\n",
       "       1.11, 1.21, 1.31, 1.41, 1.51, 1.61, 1.71, 1.81, 1.91, 2.01, 2.11,\n",
       "       2.21, 2.31, 2.41, 2.51, 2.61, 2.71, 2.81, 2.91, 3.01, 3.11, 3.21,\n",
       "       3.31, 3.41, 3.51, 3.61, 3.71, 3.81, 3.91, 4.01, 4.11, 4.21, 4.31,\n",
       "       4.41, 4.51, 4.61, 4.71, 4.81, 4.91, 5.01, 5.11, 5.21, 5.31, 5.41,\n",
       "       5.51, 5.61, 5.71, 5.81, 5.91, 6.01, 6.11, 6.21, 6.31, 6.41, 6.51,\n",
       "       6.61, 6.71, 6.81, 6.91, 7.01, 7.11, 7.21, 7.31, 7.41, 7.51, 7.61,\n",
       "       7.71, 7.81, 7.91, 8.01, 8.11, 8.21, 8.31, 8.41, 8.51, 8.61, 8.71,\n",
       "       8.81, 8.91, 9.01, 9.11, 9.21, 9.31, 9.41, 9.51, 9.61, 9.71, 9.81,\n",
       "       9.91])},\n",
       "             scoring=&#x27;neg_mean_squared_error&#x27;, verbose=3)</pre><b>In a Jupyter environment, please rerun this cell to show the HTML representation or trust the notebook. <br />On GitHub, the HTML representation is unable to render, please try loading this page with nbviewer.org.</b></div><div class=\"sk-container\" hidden><div class=\"sk-item sk-dashed-wrapped\"><div class=\"sk-label-container\"><div class=\"sk-label sk-toggleable\"><input class=\"sk-toggleable__control sk-hidden--visually\" id=\"sk-estimator-id-4\" type=\"checkbox\" ><label for=\"sk-estimator-id-4\" class=\"sk-toggleable__label sk-toggleable__label-arrow\">GridSearchCV</label><div class=\"sk-toggleable__content\"><pre>GridSearchCV(cv=5,\n",
       "             estimator=Pipeline(steps=[(&#x27;scaler&#x27;, StandardScaler()),\n",
       "                                       (&#x27;model&#x27;, Lasso())]),\n",
       "             param_grid={&#x27;model__alpha&#x27;: array([0.01, 0.11, 0.21, 0.31, 0.41, 0.51, 0.61, 0.71, 0.81, 0.91, 1.01,\n",
       "       1.11, 1.21, 1.31, 1.41, 1.51, 1.61, 1.71, 1.81, 1.91, 2.01, 2.11,\n",
       "       2.21, 2.31, 2.41, 2.51, 2.61, 2.71, 2.81, 2.91, 3.01, 3.11, 3.21,\n",
       "       3.31, 3.41, 3.51, 3.61, 3.71, 3.81, 3.91, 4.01, 4.11, 4.21, 4.31,\n",
       "       4.41, 4.51, 4.61, 4.71, 4.81, 4.91, 5.01, 5.11, 5.21, 5.31, 5.41,\n",
       "       5.51, 5.61, 5.71, 5.81, 5.91, 6.01, 6.11, 6.21, 6.31, 6.41, 6.51,\n",
       "       6.61, 6.71, 6.81, 6.91, 7.01, 7.11, 7.21, 7.31, 7.41, 7.51, 7.61,\n",
       "       7.71, 7.81, 7.91, 8.01, 8.11, 8.21, 8.31, 8.41, 8.51, 8.61, 8.71,\n",
       "       8.81, 8.91, 9.01, 9.11, 9.21, 9.31, 9.41, 9.51, 9.61, 9.71, 9.81,\n",
       "       9.91])},\n",
       "             scoring=&#x27;neg_mean_squared_error&#x27;, verbose=3)</pre></div></div></div><div class=\"sk-parallel\"><div class=\"sk-parallel-item\"><div class=\"sk-item\"><div class=\"sk-label-container\"><div class=\"sk-label sk-toggleable\"><input class=\"sk-toggleable__control sk-hidden--visually\" id=\"sk-estimator-id-5\" type=\"checkbox\" ><label for=\"sk-estimator-id-5\" class=\"sk-toggleable__label sk-toggleable__label-arrow\">estimator: Pipeline</label><div class=\"sk-toggleable__content\"><pre>Pipeline(steps=[(&#x27;scaler&#x27;, StandardScaler()), (&#x27;model&#x27;, Lasso())])</pre></div></div></div><div class=\"sk-serial\"><div class=\"sk-item\"><div class=\"sk-serial\"><div class=\"sk-item\"><div class=\"sk-estimator sk-toggleable\"><input class=\"sk-toggleable__control sk-hidden--visually\" id=\"sk-estimator-id-6\" type=\"checkbox\" ><label for=\"sk-estimator-id-6\" class=\"sk-toggleable__label sk-toggleable__label-arrow\">StandardScaler</label><div class=\"sk-toggleable__content\"><pre>StandardScaler()</pre></div></div></div><div class=\"sk-item\"><div class=\"sk-estimator sk-toggleable\"><input class=\"sk-toggleable__control sk-hidden--visually\" id=\"sk-estimator-id-7\" type=\"checkbox\" ><label for=\"sk-estimator-id-7\" class=\"sk-toggleable__label sk-toggleable__label-arrow\">Lasso</label><div class=\"sk-toggleable__content\"><pre>Lasso()</pre></div></div></div></div></div></div></div></div></div></div></div></div>"
      ],
      "text/plain": [
       "GridSearchCV(cv=5,\n",
       "             estimator=Pipeline(steps=[('scaler', StandardScaler()),\n",
       "                                       ('model', Lasso())]),\n",
       "             param_grid={'model__alpha': array([0.01, 0.11, 0.21, 0.31, 0.41, 0.51, 0.61, 0.71, 0.81, 0.91, 1.01,\n",
       "       1.11, 1.21, 1.31, 1.41, 1.51, 1.61, 1.71, 1.81, 1.91, 2.01, 2.11,\n",
       "       2.21, 2.31, 2.41, 2.51, 2.61, 2.71, 2.81, 2.91, 3.01, 3.11, 3.21,\n",
       "       3.31, 3.41, 3.51, 3.61, 3.71, 3.81, 3.91, 4.01, 4.11, 4.21, 4.31,\n",
       "       4.41, 4.51, 4.61, 4.71, 4.81, 4.91, 5.01, 5.11, 5.21, 5.31, 5.41,\n",
       "       5.51, 5.61, 5.71, 5.81, 5.91, 6.01, 6.11, 6.21, 6.31, 6.41, 6.51,\n",
       "       6.61, 6.71, 6.81, 6.91, 7.01, 7.11, 7.21, 7.31, 7.41, 7.51, 7.61,\n",
       "       7.71, 7.81, 7.91, 8.01, 8.11, 8.21, 8.31, 8.41, 8.51, 8.61, 8.71,\n",
       "       8.81, 8.91, 9.01, 9.11, 9.21, 9.31, 9.41, 9.51, 9.61, 9.71, 9.81,\n",
       "       9.91])},\n",
       "             scoring='neg_mean_squared_error', verbose=3)"
      ]
     },
     "execution_count": 62,
     "metadata": {},
     "output_type": "execute_result"
    }
   ],
   "source": [
    "search.fit(X_train_imputed_new5000,y_train_encoded)"
   ]
  },
  {
   "cell_type": "code",
   "execution_count": 63,
   "id": "188558f8",
   "metadata": {},
   "outputs": [
    {
     "data": {
      "text/plain": [
       "{'model__alpha': 0.01}"
      ]
     },
     "execution_count": 63,
     "metadata": {},
     "output_type": "execute_result"
    }
   ],
   "source": [
    "search.best_params_"
   ]
  },
  {
   "cell_type": "code",
   "execution_count": 65,
   "id": "2b18fab5",
   "metadata": {
    "scrolled": true
   },
   "outputs": [
    {
     "name": "stdout",
     "output_type": "stream",
     "text": [
      "Selected Features:\n",
      "Client_Mouth\n",
      "Client_Mouth.1\n",
      "Client_Spine_head\n",
      "Client_Spine_head.1\n",
      "Client_Spine_tail\n",
      "Client_Spine_tail.1\n",
      "Client_Body_top1\n",
      "Client_Body_top1.1\n",
      "Client_Body_top2\n",
      "Client_Body_top2.1\n",
      "Client_Body_bot1\n",
      "Client_Body_bot1.1\n",
      "Client_Body_bot2\n",
      "Client_Body_bot2.1\n",
      "Client_Tail\n",
      "Client_Tail.1\n",
      "Client_Tail_Top\n",
      "Client_Tail_Top.1\n",
      "Client_Tail_Bot\n",
      "Client_Tail_Bot.1\n",
      "Cleaner_Mouth\n",
      "Cleaner_Mouth.1\n",
      "Cleaner_Mouth.2\n",
      "Cleaner_Spine1\n",
      "Cleaner_Spine1.1\n",
      "Cleaner_Spine1.2\n",
      "Cleaner_Spine2\n",
      "Cleaner_Spine2.1\n",
      "Cleaner_Tail\n",
      "Cleaner_Tail.1\n"
     ]
    }
   ],
   "source": [
    "# Create Lasso model for feature selection\n",
    "lasso = Lasso(alpha=0.01, max_iter=10000)  # Adjust the alpha parameter as needed\n",
    "\n",
    "# Perform feature selection\n",
    "sfm = SelectFromModel(lasso)\n",
    "X_train_selected = sfm.fit_transform(X_train_imputed_new5000, y_train_encoded)\n",
    "\n",
    "# Get the selected feature indices\n",
    "selected_feature_indices = sfm.get_support(indices=True)\n",
    "\n",
    "# Get the selected feature names\n",
    "selected_feature_names = X_train.columns[selected_feature_indices]\n",
    "\n",
    "# Print the selected feature names\n",
    "print(\"Selected Features:\")\n",
    "for feature_name in selected_feature_names:\n",
    "    print(feature_name)"
   ]
  },
  {
   "cell_type": "markdown",
   "id": "ce9f3e49",
   "metadata": {},
   "source": [
    "---\n",
    "---\n",
    "---"
   ]
  },
  {
   "cell_type": "markdown",
   "id": "64de9421",
   "metadata": {},
   "source": [
    "# RandomForest (Columns likelihood out) with 5k backgrounds\n",
    "+ Imputer = mean"
   ]
  },
  {
   "cell_type": "code",
   "execution_count": 66,
   "id": "8b21afb0",
   "metadata": {},
   "outputs": [],
   "source": [
    "columns = [1,2,4,5,7,8,10,11,13,14,16,17,19,20,22,23,25,26,28,29,31,32,34,35,37,38,40,41]"
   ]
  },
  {
   "cell_type": "code",
   "execution_count": 67,
   "id": "0fe77116",
   "metadata": {},
   "outputs": [],
   "source": [
    "X_new5000_featuresselection = undersampled_df.iloc[:, columns]  # Select columns 1 to 42 as features\n",
    "y_new5000_featuresselection = undersampled_df.iloc[:, 0]     # Select column 0 as the target variable"
   ]
  },
  {
   "cell_type": "code",
   "execution_count": 68,
   "id": "6ca7dea2",
   "metadata": {},
   "outputs": [],
   "source": [
    "X_train_new5000_featuresselection, X_test_new5000_featuresselection, y_train_new5000_featuresselection, y_test_new5000_featuresselection = train_test_split(X_new5000_featuresselection, y_new5000_featuresselection, test_size=0.2, random_state=1999)"
   ]
  },
  {
   "cell_type": "code",
   "execution_count": 69,
   "id": "9ebf342c",
   "metadata": {},
   "outputs": [],
   "source": [
    "imputer = SimpleImputer(strategy='mean')\n",
    "\n",
    "X_train_imputed_new5000_featuresselection = imputer.fit_transform(X_train_new5000_featuresselection)\n",
    "X_test_imputed_new5000_featuresselection = imputer.transform(X_test_new5000_featuresselection)"
   ]
  },
  {
   "cell_type": "code",
   "execution_count": 70,
   "id": "4db08dd5",
   "metadata": {
    "scrolled": false
   },
   "outputs": [
    {
     "data": {
      "text/html": [
       "<style>#sk-container-id-5 {color: black;background-color: white;}#sk-container-id-5 pre{padding: 0;}#sk-container-id-5 div.sk-toggleable {background-color: white;}#sk-container-id-5 label.sk-toggleable__label {cursor: pointer;display: block;width: 100%;margin-bottom: 0;padding: 0.3em;box-sizing: border-box;text-align: center;}#sk-container-id-5 label.sk-toggleable__label-arrow:before {content: \"▸\";float: left;margin-right: 0.25em;color: #696969;}#sk-container-id-5 label.sk-toggleable__label-arrow:hover:before {color: black;}#sk-container-id-5 div.sk-estimator:hover label.sk-toggleable__label-arrow:before {color: black;}#sk-container-id-5 div.sk-toggleable__content {max-height: 0;max-width: 0;overflow: hidden;text-align: left;background-color: #f0f8ff;}#sk-container-id-5 div.sk-toggleable__content pre {margin: 0.2em;color: black;border-radius: 0.25em;background-color: #f0f8ff;}#sk-container-id-5 input.sk-toggleable__control:checked~div.sk-toggleable__content {max-height: 200px;max-width: 100%;overflow: auto;}#sk-container-id-5 input.sk-toggleable__control:checked~label.sk-toggleable__label-arrow:before {content: \"▾\";}#sk-container-id-5 div.sk-estimator input.sk-toggleable__control:checked~label.sk-toggleable__label {background-color: #d4ebff;}#sk-container-id-5 div.sk-label input.sk-toggleable__control:checked~label.sk-toggleable__label {background-color: #d4ebff;}#sk-container-id-5 input.sk-hidden--visually {border: 0;clip: rect(1px 1px 1px 1px);clip: rect(1px, 1px, 1px, 1px);height: 1px;margin: -1px;overflow: hidden;padding: 0;position: absolute;width: 1px;}#sk-container-id-5 div.sk-estimator {font-family: monospace;background-color: #f0f8ff;border: 1px dotted black;border-radius: 0.25em;box-sizing: border-box;margin-bottom: 0.5em;}#sk-container-id-5 div.sk-estimator:hover {background-color: #d4ebff;}#sk-container-id-5 div.sk-parallel-item::after {content: \"\";width: 100%;border-bottom: 1px solid gray;flex-grow: 1;}#sk-container-id-5 div.sk-label:hover label.sk-toggleable__label {background-color: #d4ebff;}#sk-container-id-5 div.sk-serial::before {content: \"\";position: absolute;border-left: 1px solid gray;box-sizing: border-box;top: 0;bottom: 0;left: 50%;z-index: 0;}#sk-container-id-5 div.sk-serial {display: flex;flex-direction: column;align-items: center;background-color: white;padding-right: 0.2em;padding-left: 0.2em;position: relative;}#sk-container-id-5 div.sk-item {position: relative;z-index: 1;}#sk-container-id-5 div.sk-parallel {display: flex;align-items: stretch;justify-content: center;background-color: white;position: relative;}#sk-container-id-5 div.sk-item::before, #sk-container-id-5 div.sk-parallel-item::before {content: \"\";position: absolute;border-left: 1px solid gray;box-sizing: border-box;top: 0;bottom: 0;left: 50%;z-index: -1;}#sk-container-id-5 div.sk-parallel-item {display: flex;flex-direction: column;z-index: 1;position: relative;background-color: white;}#sk-container-id-5 div.sk-parallel-item:first-child::after {align-self: flex-end;width: 50%;}#sk-container-id-5 div.sk-parallel-item:last-child::after {align-self: flex-start;width: 50%;}#sk-container-id-5 div.sk-parallel-item:only-child::after {width: 0;}#sk-container-id-5 div.sk-dashed-wrapped {border: 1px dashed gray;margin: 0 0.4em 0.5em 0.4em;box-sizing: border-box;padding-bottom: 0.4em;background-color: white;}#sk-container-id-5 div.sk-label label {font-family: monospace;font-weight: bold;display: inline-block;line-height: 1.2em;}#sk-container-id-5 div.sk-label-container {text-align: center;}#sk-container-id-5 div.sk-container {/* jupyter's `normalize.less` sets `[hidden] { display: none; }` but bootstrap.min.css set `[hidden] { display: none !important; }` so we also need the `!important` here to be able to override the default hidden behavior on the sphinx rendered scikit-learn.org. See: https://github.com/scikit-learn/scikit-learn/issues/21755 */display: inline-block !important;position: relative;}#sk-container-id-5 div.sk-text-repr-fallback {display: none;}</style><div id=\"sk-container-id-5\" class=\"sk-top-container\"><div class=\"sk-text-repr-fallback\"><pre>RandomForestClassifier()</pre><b>In a Jupyter environment, please rerun this cell to show the HTML representation or trust the notebook. <br />On GitHub, the HTML representation is unable to render, please try loading this page with nbviewer.org.</b></div><div class=\"sk-container\" hidden><div class=\"sk-item\"><div class=\"sk-estimator sk-toggleable\"><input class=\"sk-toggleable__control sk-hidden--visually\" id=\"sk-estimator-id-8\" type=\"checkbox\" checked><label for=\"sk-estimator-id-8\" class=\"sk-toggleable__label sk-toggleable__label-arrow\">RandomForestClassifier</label><div class=\"sk-toggleable__content\"><pre>RandomForestClassifier()</pre></div></div></div></div></div>"
      ],
      "text/plain": [
       "RandomForestClassifier()"
      ]
     },
     "execution_count": 70,
     "metadata": {},
     "output_type": "execute_result"
    }
   ],
   "source": [
    "model_new5000_featuresselection = RandomForestClassifier()\n",
    "model_new5000_featuresselection.fit(X_train_imputed_new5000_featuresselection, y_train_new5000_featuresselection)"
   ]
  },
  {
   "cell_type": "code",
   "execution_count": 71,
   "id": "1b47eb89",
   "metadata": {},
   "outputs": [
    {
     "name": "stdout",
     "output_type": "stream",
     "text": [
      "Accuracy: 0.9882266372332598\n"
     ]
    }
   ],
   "source": [
    "y_pred_new5000_featuresselection = model_new5000_featuresselection.predict(X_test_imputed_new5000_featuresselection)\n",
    "accuracy_new5000_featuresselection = accuracy_score(y_test_new5000_featuresselection, y_pred_new5000_featuresselection)\n",
    "print(\"Accuracy:\", accuracy_new5000_featuresselection)"
   ]
  },
  {
   "cell_type": "code",
   "execution_count": 72,
   "id": "bc951042",
   "metadata": {},
   "outputs": [],
   "source": [
    "cv_scores = cross_val_score(model_new5000_featuresselection, X_train_imputed_new5000_featuresselection, y_train_new5000_featuresselection, cv=5)"
   ]
  },
  {
   "cell_type": "code",
   "execution_count": 73,
   "id": "8ff6bb1f",
   "metadata": {},
   "outputs": [
    {
     "name": "stdout",
     "output_type": "stream",
     "text": [
      "Cross-Validation Accuracy Scores: [0.98850046 0.98804048 0.98666053 0.98850046 0.98712052]\n",
      "Average Accuracy: 0.987764489420423\n"
     ]
    }
   ],
   "source": [
    "print(\"Cross-Validation Accuracy Scores:\", cv_scores)\n",
    "print(\"Average Accuracy:\", cv_scores.mean())"
   ]
  },
  {
   "cell_type": "code",
   "execution_count": 74,
   "id": "cf2fb745",
   "metadata": {},
   "outputs": [],
   "source": [
    "# Assuming you have the predicted labels (y_pred) and actual labels (y_test)\n",
    "cm_new5000_featuresselection = confusion_matrix(y_test_new5000_featuresselection, y_pred_new5000_featuresselection)\n",
    "\n",
    "#print(cm_new5000_featuresselection)"
   ]
  },
  {
   "cell_type": "code",
   "execution_count": 75,
   "id": "f814fd25",
   "metadata": {
    "scrolled": false
   },
   "outputs": [
    {
     "data": {
      "image/png": "[encoded data removed]",
      "text/plain": [
       "<Figure size 640x480 with 2 Axes>"
      ]
     },
     "metadata": {},
     "output_type": "display_data"
    }
   ],
   "source": [
    "# Define the class labels\n",
    "class_labels_new5000_featuresselection = np.sort(merged_df['Interaction'].unique())\n",
    "\n",
    "# Create the confusion matrix\n",
    "cm_new5000_featuresselection = np.array(cm_new5000_featuresselection)\n",
    "\n",
    "# Create a figure and axis\n",
    "fig, ax = plt.subplots()\n",
    "im = ax.imshow(cm_new5000_featuresselection, cmap='Blues')\n",
    "\n",
    "# Set axis labels\n",
    "ax.set_xticks(np.arange(len(class_labels_new5000_featuresselection)))\n",
    "ax.set_yticks(np.arange(len(class_labels_new5000_featuresselection)))\n",
    "ax.set_xticklabels(class_labels_new5000_featuresselection, rotation=45)\n",
    "ax.set_yticklabels(class_labels_new5000_featuresselection)\n",
    "\n",
    "\n",
    "# Add labels to each cell\n",
    "for i in range(len(class_labels_new5000_featuresselection)):\n",
    "    for j in range(len(class_labels_new5000_featuresselection)):\n",
    "        text = ax.text(j, i, cm_new5000_featuresselection[i, j], ha='center', va='center', color='orange')\n",
    "\n",
    "# Add colorbar\n",
    "cbar = ax.figure.colorbar(im, ax=ax)\n",
    "\n",
    "# Set title and labels\n",
    "ax.set_title('Confusion Matrix')\n",
    "ax.set_xlabel('Predicted Label')\n",
    "ax.set_ylabel('True Label')\n",
    "\n",
    "# Show the plot\n",
    "plt.show()"
   ]
  },
  {
   "cell_type": "markdown",
   "id": "34dd2227",
   "metadata": {},
   "source": [
    "# RandomForest (Columns likelihood out) with 5k backgrounds\n",
    "+ Imputer = KNNImputer"
   ]
  },
  {
   "cell_type": "code",
   "execution_count": 76,
   "id": "4c3e85ef",
   "metadata": {},
   "outputs": [],
   "source": [
    "columns = [1,2,4,5,7,8,10,11,13,14,16,17,19,20,22,23,25,26,28,29,31,32,34,35,37,38,40,41]"
   ]
  },
  {
   "cell_type": "code",
   "execution_count": 77,
   "id": "33d925b3",
   "metadata": {},
   "outputs": [],
   "source": [
    "X_new5000_featuresselection_knn = undersampled_df.iloc[:, columns]  # Select columns 1 to 42 as features\n",
    "y_new5000_featuresselection_knn = undersampled_df.iloc[:, 0]     # Select column 0 as the target variable"
   ]
  },
  {
   "cell_type": "code",
   "execution_count": 78,
   "id": "45f1631f",
   "metadata": {},
   "outputs": [],
   "source": [
    "X_train_new5000_featuresselection_knn, X_test_new5000_featuresselection_knn, y_train_new5000_featuresselection_knn, y_test_new5000_featuresselection_knn = train_test_split(X_new5000_featuresselection_knn, y_new5000_featuresselection_knn, test_size=0.2, random_state=1999)"
   ]
  },
  {
   "cell_type": "code",
   "execution_count": 79,
   "id": "f6146502",
   "metadata": {},
   "outputs": [],
   "source": [
    "imputer_knn = KNNImputer(n_neighbors=5, weights='uniform')\n",
    "X_train_imputed_new5000_featuresselection_knn = imputer_knn.fit_transform(X_train_new5000_featuresselection_knn)\n",
    "X_test_imputed_new5000_featuresselection_knn = imputer_knn.transform(X_test_new5000_featuresselection_knn)"
   ]
  },
  {
   "cell_type": "code",
   "execution_count": 80,
   "id": "39d140cb",
   "metadata": {
    "scrolled": false
   },
   "outputs": [
    {
     "data": {
      "text/html": [
       "<style>#sk-container-id-6 {color: black;background-color: white;}#sk-container-id-6 pre{padding: 0;}#sk-container-id-6 div.sk-toggleable {background-color: white;}#sk-container-id-6 label.sk-toggleable__label {cursor: pointer;display: block;width: 100%;margin-bottom: 0;padding: 0.3em;box-sizing: border-box;text-align: center;}#sk-container-id-6 label.sk-toggleable__label-arrow:before {content: \"▸\";float: left;margin-right: 0.25em;color: #696969;}#sk-container-id-6 label.sk-toggleable__label-arrow:hover:before {color: black;}#sk-container-id-6 div.sk-estimator:hover label.sk-toggleable__label-arrow:before {color: black;}#sk-container-id-6 div.sk-toggleable__content {max-height: 0;max-width: 0;overflow: hidden;text-align: left;background-color: #f0f8ff;}#sk-container-id-6 div.sk-toggleable__content pre {margin: 0.2em;color: black;border-radius: 0.25em;background-color: #f0f8ff;}#sk-container-id-6 input.sk-toggleable__control:checked~div.sk-toggleable__content {max-height: 200px;max-width: 100%;overflow: auto;}#sk-container-id-6 input.sk-toggleable__control:checked~label.sk-toggleable__label-arrow:before {content: \"▾\";}#sk-container-id-6 div.sk-estimator input.sk-toggleable__control:checked~label.sk-toggleable__label {background-color: #d4ebff;}#sk-container-id-6 div.sk-label input.sk-toggleable__control:checked~label.sk-toggleable__label {background-color: #d4ebff;}#sk-container-id-6 input.sk-hidden--visually {border: 0;clip: rect(1px 1px 1px 1px);clip: rect(1px, 1px, 1px, 1px);height: 1px;margin: -1px;overflow: hidden;padding: 0;position: absolute;width: 1px;}#sk-container-id-6 div.sk-estimator {font-family: monospace;background-color: #f0f8ff;border: 1px dotted black;border-radius: 0.25em;box-sizing: border-box;margin-bottom: 0.5em;}#sk-container-id-6 div.sk-estimator:hover {background-color: #d4ebff;}#sk-container-id-6 div.sk-parallel-item::after {content: \"\";width: 100%;border-bottom: 1px solid gray;flex-grow: 1;}#sk-container-id-6 div.sk-label:hover label.sk-toggleable__label {background-color: #d4ebff;}#sk-container-id-6 div.sk-serial::before {content: \"\";position: absolute;border-left: 1px solid gray;box-sizing: border-box;top: 0;bottom: 0;left: 50%;z-index: 0;}#sk-container-id-6 div.sk-serial {display: flex;flex-direction: column;align-items: center;background-color: white;padding-right: 0.2em;padding-left: 0.2em;position: relative;}#sk-container-id-6 div.sk-item {position: relative;z-index: 1;}#sk-container-id-6 div.sk-parallel {display: flex;align-items: stretch;justify-content: center;background-color: white;position: relative;}#sk-container-id-6 div.sk-item::before, #sk-container-id-6 div.sk-parallel-item::before {content: \"\";position: absolute;border-left: 1px solid gray;box-sizing: border-box;top: 0;bottom: 0;left: 50%;z-index: -1;}#sk-container-id-6 div.sk-parallel-item {display: flex;flex-direction: column;z-index: 1;position: relative;background-color: white;}#sk-container-id-6 div.sk-parallel-item:first-child::after {align-self: flex-end;width: 50%;}#sk-container-id-6 div.sk-parallel-item:last-child::after {align-self: flex-start;width: 50%;}#sk-container-id-6 div.sk-parallel-item:only-child::after {width: 0;}#sk-container-id-6 div.sk-dashed-wrapped {border: 1px dashed gray;margin: 0 0.4em 0.5em 0.4em;box-sizing: border-box;padding-bottom: 0.4em;background-color: white;}#sk-container-id-6 div.sk-label label {font-family: monospace;font-weight: bold;display: inline-block;line-height: 1.2em;}#sk-container-id-6 div.sk-label-container {text-align: center;}#sk-container-id-6 div.sk-container {/* jupyter's `normalize.less` sets `[hidden] { display: none; }` but bootstrap.min.css set `[hidden] { display: none !important; }` so we also need the `!important` here to be able to override the default hidden behavior on the sphinx rendered scikit-learn.org. See: https://github.com/scikit-learn/scikit-learn/issues/21755 */display: inline-block !important;position: relative;}#sk-container-id-6 div.sk-text-repr-fallback {display: none;}</style><div id=\"sk-container-id-6\" class=\"sk-top-container\"><div class=\"sk-text-repr-fallback\"><pre>RandomForestClassifier()</pre><b>In a Jupyter environment, please rerun this cell to show the HTML representation or trust the notebook. <br />On GitHub, the HTML representation is unable to render, please try loading this page with nbviewer.org.</b></div><div class=\"sk-container\" hidden><div class=\"sk-item\"><div class=\"sk-estimator sk-toggleable\"><input class=\"sk-toggleable__control sk-hidden--visually\" id=\"sk-estimator-id-9\" type=\"checkbox\" checked><label for=\"sk-estimator-id-9\" class=\"sk-toggleable__label sk-toggleable__label-arrow\">RandomForestClassifier</label><div class=\"sk-toggleable__content\"><pre>RandomForestClassifier()</pre></div></div></div></div></div>"
      ],
      "text/plain": [
       "RandomForestClassifier()"
      ]
     },
     "execution_count": 80,
     "metadata": {},
     "output_type": "execute_result"
    }
   ],
   "source": [
    "model_new5000_featuresselection_knn = RandomForestClassifier()\n",
    "model_new5000_featuresselection_knn.fit(X_train_imputed_new5000_featuresselection_knn, y_train_new5000_featuresselection_knn)"
   ]
  },
  {
   "cell_type": "code",
   "execution_count": 81,
   "id": "342d3125",
   "metadata": {},
   "outputs": [
    {
     "name": "stdout",
     "output_type": "stream",
     "text": [
      "Accuracy: 0.9889624724061811\n"
     ]
    }
   ],
   "source": [
    "y_pred_new5000_featuresselection_knn = model_new5000_featuresselection_knn.predict(X_test_imputed_new5000_featuresselection_knn)\n",
    "accuracy_new5000_featuresselection = accuracy_score(y_test_new5000_featuresselection_knn, y_pred_new5000_featuresselection_knn)\n",
    "print(\"Accuracy:\", accuracy_new5000_featuresselection)"
   ]
  },
  {
   "cell_type": "code",
   "execution_count": 82,
   "id": "5ff5f52a",
   "metadata": {},
   "outputs": [],
   "source": [
    "cv_scores = cross_val_score(model_new5000_featuresselection_knn, X_train_imputed_new5000_featuresselection_knn, y_train_new5000_featuresselection_knn, cv=5)"
   ]
  },
  {
   "cell_type": "code",
   "execution_count": 83,
   "id": "2cd3a864",
   "metadata": {},
   "outputs": [
    {
     "name": "stdout",
     "output_type": "stream",
     "text": [
      "Cross-Validation Accuracy Scores: [0.9875805  0.9898804  0.98574057 0.98804048 0.98850046]\n",
      "Average Accuracy: 0.9879484820607175\n"
     ]
    }
   ],
   "source": [
    "print(\"Cross-Validation Accuracy Scores:\", cv_scores)\n",
    "print(\"Average Accuracy:\", cv_scores.mean())"
   ]
  },
  {
   "cell_type": "code",
   "execution_count": 84,
   "id": "04525134",
   "metadata": {},
   "outputs": [],
   "source": [
    "# Assuming you have the predicted labels (y_pred) and actual labels (y_test)\n",
    "cm_new5000_featuresselection_knn = confusion_matrix(y_test_new5000_featuresselection_knn, y_pred_new5000_featuresselection_knn)\n",
    "\n",
    "#print(cm_new5000_featuresselection)"
   ]
  },
  {
   "cell_type": "code",
   "execution_count": 85,
   "id": "98f21f1a",
   "metadata": {
    "scrolled": false
   },
   "outputs": [
    {
     "data": {
      "image/png": "[encoded data removed]",
      "text/plain": [
       "<Figure size 640x480 with 2 Axes>"
      ]
     },
     "metadata": {},
     "output_type": "display_data"
    }
   ],
   "source": [
    "# Define the class labels\n",
    "class_labels_new5000_featuresselection = np.sort(merged_df['Interaction'].unique())\n",
    "\n",
    "# Create the confusion matrix\n",
    "cm_new5000_featuresselection_knn = np.array(cm_new5000_featuresselection_knn)\n",
    "\n",
    "# Create a figure and axis\n",
    "fig, ax = plt.subplots()\n",
    "im = ax.imshow(cm_new5000_featuresselection_knn, cmap='Blues')\n",
    "\n",
    "# Set axis labels\n",
    "ax.set_xticks(np.arange(len(class_labels_new5000_featuresselection)))\n",
    "ax.set_yticks(np.arange(len(class_labels_new5000_featuresselection)))\n",
    "ax.set_xticklabels(class_labels_new5000_featuresselection, rotation=45)\n",
    "ax.set_yticklabels(class_labels_new5000_featuresselection)\n",
    "\n",
    "\n",
    "# Add labels to each cell\n",
    "for i in range(len(class_labels_new5000_featuresselection)):\n",
    "    for j in range(len(class_labels_new5000_featuresselection)):\n",
    "        text = ax.text(j, i, cm_new5000_featuresselection_knn[i, j], ha='center', va='center', color='orange')\n",
    "\n",
    "# Add colorbar\n",
    "cbar = ax.figure.colorbar(im, ax=ax)\n",
    "\n",
    "# Set title and labels\n",
    "ax.set_title('Confusion Matrix')\n",
    "ax.set_xlabel('Predicted Label')\n",
    "ax.set_ylabel('True Label')\n",
    "\n",
    "# Show the plot\n",
    "plt.show()"
   ]
  },
  {
   "cell_type": "code",
   "execution_count": null,
   "id": "2b15c89a",
   "metadata": {},
   "outputs": [],
   "source": []
  }
 ],
 "metadata": {
  "kernelspec": {
   "display_name": "Python 3 (ipykernel)",
   "language": "python",
   "name": "python3"
  },
  "language_info": {
   "codemirror_mode": {
    "name": "ipython",
    "version": 3
   },
   "file_extension": ".py",
   "mimetype": "text/x-python",
   "name": "python",
   "nbconvert_exporter": "python",
   "pygments_lexer": "ipython3",
   "version": "3.10.9"
  }
 },
 "nbformat": 4,
 "nbformat_minor": 5
}
