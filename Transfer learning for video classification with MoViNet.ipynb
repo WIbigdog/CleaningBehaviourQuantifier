{
 "cells": [
  {
   "cell_type": "markdown",
   "id": "a2792a37",
   "metadata": {},
   "source": [
    "# Transfer learning for video classification with MoViNet"
   ]
  },
  {
   "cell_type": "markdown",
   "id": "a3c68843",
   "metadata": {
    "ExecuteTime": {
     "end_time": "2023-05-22T11:30:54.067856Z",
     "start_time": "2023-05-22T11:30:54.060854Z"
    }
   },
   "source": [
    "https://www.tensorflow.org/tutorials/video/transfer_learning_with_movinet"
   ]
  },
  {
   "cell_type": "markdown",
   "id": "ce08075d",
   "metadata": {},
   "source": [
    "## Imports"
   ]
  },
  {
   "cell_type": "code",
   "execution_count": 6,
   "id": "693b7a95",
   "metadata": {
    "ExecuteTime": {
     "end_time": "2023-05-22T12:06:13.782271Z",
     "start_time": "2023-05-22T12:05:56.679438Z"
    }
   },
   "outputs": [
    {
     "name": "stdout",
     "output_type": "stream",
     "text": [
      "Collecting tensorflow==2.11\n",
      "  Using cached tensorflow-2.11.0-cp39-cp39-win_amd64.whl (1.9 kB)\n",
      "Requirement already satisfied: tensorflow-intel==2.11.0 in c:\\users\\bee team\\appdata\\roaming\\python\\python39\\site-packages (from tensorflow==2.11) (2.11.0)\n",
      "Requirement already satisfied: astunparse>=1.6.0 in c:\\users\\public\\new\\envs\\tensorflowraul\\lib\\site-packages (from tensorflow-intel==2.11.0->tensorflow==2.11) (1.6.3)\n",
      "Requirement already satisfied: protobuf<3.20,>=3.9.2 in c:\\users\\public\\new\\envs\\tensorflowraul\\lib\\site-packages (from tensorflow-intel==2.11.0->tensorflow==2.11) (3.19.6)\n",
      "Requirement already satisfied: opt-einsum>=2.3.2 in c:\\users\\public\\new\\envs\\tensorflowraul\\lib\\site-packages (from tensorflow-intel==2.11.0->tensorflow==2.11) (3.3.0)\n",
      "Requirement already satisfied: setuptools in c:\\users\\public\\new\\envs\\tensorflowraul\\lib\\site-packages (from tensorflow-intel==2.11.0->tensorflow==2.11) (66.0.0)\n",
      "Requirement already satisfied: absl-py>=1.0.0 in c:\\users\\public\\new\\envs\\tensorflowraul\\lib\\site-packages (from tensorflow-intel==2.11.0->tensorflow==2.11) (1.4.0)\n",
      "Requirement already satisfied: tensorflow-io-gcs-filesystem>=0.23.1 in c:\\users\\public\\new\\envs\\tensorflowraul\\lib\\site-packages (from tensorflow-intel==2.11.0->tensorflow==2.11) (0.31.0)\n",
      "Requirement already satisfied: termcolor>=1.1.0 in c:\\users\\public\\new\\envs\\tensorflowraul\\lib\\site-packages (from tensorflow-intel==2.11.0->tensorflow==2.11) (2.2.0)\n",
      "Requirement already satisfied: numpy>=1.20 in c:\\users\\bee team\\appdata\\roaming\\python\\python39\\site-packages (from tensorflow-intel==2.11.0->tensorflow==2.11) (1.22.4)\n",
      "Requirement already satisfied: typing-extensions>=3.6.6 in c:\\users\\public\\new\\envs\\tensorflowraul\\lib\\site-packages (from tensorflow-intel==2.11.0->tensorflow==2.11) (4.4.0)\n",
      "Collecting tensorflow-estimator<2.12,>=2.11.0\n",
      "  Using cached tensorflow_estimator-2.11.0-py2.py3-none-any.whl (439 kB)\n",
      "Collecting tensorboard<2.12,>=2.11\n",
      "  Using cached tensorboard-2.11.2-py3-none-any.whl (6.0 MB)\n",
      "Collecting keras<2.12,>=2.11.0\n",
      "  Using cached keras-2.11.0-py2.py3-none-any.whl (1.7 MB)\n",
      "Requirement already satisfied: grpcio<2.0,>=1.24.3 in c:\\users\\public\\new\\envs\\tensorflowraul\\lib\\site-packages (from tensorflow-intel==2.11.0->tensorflow==2.11) (1.53.0)\n",
      "Requirement already satisfied: gast<=0.4.0,>=0.2.1 in c:\\users\\public\\new\\envs\\tensorflowraul\\lib\\site-packages (from tensorflow-intel==2.11.0->tensorflow==2.11) (0.4.0)\n",
      "Requirement already satisfied: wrapt>=1.11.0 in c:\\users\\public\\new\\envs\\tensorflowraul\\lib\\site-packages (from tensorflow-intel==2.11.0->tensorflow==2.11) (1.14.1)\n",
      "Requirement already satisfied: google-pasta>=0.1.1 in c:\\users\\public\\new\\envs\\tensorflowraul\\lib\\site-packages (from tensorflow-intel==2.11.0->tensorflow==2.11) (0.2.0)\n",
      "Requirement already satisfied: flatbuffers>=2.0 in c:\\users\\public\\new\\envs\\tensorflowraul\\lib\\site-packages (from tensorflow-intel==2.11.0->tensorflow==2.11) (23.3.3)\n",
      "Requirement already satisfied: six>=1.12.0 in c:\\users\\public\\new\\envs\\tensorflowraul\\lib\\site-packages (from tensorflow-intel==2.11.0->tensorflow==2.11) (1.16.0)\n",
      "Requirement already satisfied: libclang>=13.0.0 in c:\\users\\public\\new\\envs\\tensorflowraul\\lib\\site-packages (from tensorflow-intel==2.11.0->tensorflow==2.11) (16.0.0)\n",
      "Requirement already satisfied: packaging in c:\\users\\public\\new\\envs\\tensorflowraul\\lib\\site-packages (from tensorflow-intel==2.11.0->tensorflow==2.11) (23.0)\n",
      "Requirement already satisfied: h5py>=2.9.0 in c:\\users\\bee team\\appdata\\roaming\\python\\python39\\site-packages (from tensorflow-intel==2.11.0->tensorflow==2.11) (3.8.0)\n",
      "Requirement already satisfied: wheel<1.0,>=0.23.0 in c:\\users\\public\\new\\envs\\tensorflowraul\\lib\\site-packages (from astunparse>=1.6.0->tensorflow-intel==2.11.0->tensorflow==2.11) (0.38.4)\n",
      "Requirement already satisfied: tensorboard-data-server<0.7.0,>=0.6.0 in c:\\users\\public\\new\\envs\\tensorflowraul\\lib\\site-packages (from tensorboard<2.12,>=2.11->tensorflow-intel==2.11.0->tensorflow==2.11) (0.6.1)\n",
      "Requirement already satisfied: google-auth-oauthlib<0.5,>=0.4.1 in c:\\users\\bee team\\appdata\\roaming\\python\\python39\\site-packages (from tensorboard<2.12,>=2.11->tensorflow-intel==2.11.0->tensorflow==2.11) (0.4.6)\n",
      "Requirement already satisfied: google-auth<3,>=1.6.3 in c:\\users\\public\\new\\envs\\tensorflowraul\\lib\\site-packages (from tensorboard<2.12,>=2.11->tensorflow-intel==2.11.0->tensorflow==2.11) (2.17.2)\n",
      "Requirement already satisfied: tensorboard-plugin-wit>=1.6.0 in c:\\users\\public\\new\\envs\\tensorflowraul\\lib\\site-packages (from tensorboard<2.12,>=2.11->tensorflow-intel==2.11.0->tensorflow==2.11) (1.8.1)\n",
      "Requirement already satisfied: werkzeug>=1.0.1 in c:\\users\\public\\new\\envs\\tensorflowraul\\lib\\site-packages (from tensorboard<2.12,>=2.11->tensorflow-intel==2.11.0->tensorflow==2.11) (2.2.3)\n",
      "Requirement already satisfied: markdown>=2.6.8 in c:\\users\\public\\new\\envs\\tensorflowraul\\lib\\site-packages (from tensorboard<2.12,>=2.11->tensorflow-intel==2.11.0->tensorflow==2.11) (3.4.3)\n",
      "Requirement already satisfied: requests<3,>=2.21.0 in c:\\users\\public\\new\\envs\\tensorflowraul\\lib\\site-packages (from tensorboard<2.12,>=2.11->tensorflow-intel==2.11.0->tensorflow==2.11) (2.28.2)\n",
      "Requirement already satisfied: cachetools<6.0,>=2.0.0 in c:\\users\\public\\new\\envs\\tensorflowraul\\lib\\site-packages (from google-auth<3,>=1.6.3->tensorboard<2.12,>=2.11->tensorflow-intel==2.11.0->tensorflow==2.11) (5.3.0)\n",
      "Requirement already satisfied: pyasn1-modules>=0.2.1 in c:\\users\\public\\new\\envs\\tensorflowraul\\lib\\site-packages (from google-auth<3,>=1.6.3->tensorboard<2.12,>=2.11->tensorflow-intel==2.11.0->tensorflow==2.11) (0.2.8)\n",
      "Requirement already satisfied: rsa<5,>=3.1.4 in c:\\users\\public\\new\\envs\\tensorflowraul\\lib\\site-packages (from google-auth<3,>=1.6.3->tensorboard<2.12,>=2.11->tensorflow-intel==2.11.0->tensorflow==2.11) (4.9)\n",
      "Requirement already satisfied: requests-oauthlib>=0.7.0 in c:\\users\\public\\new\\envs\\tensorflowraul\\lib\\site-packages (from google-auth-oauthlib<0.5,>=0.4.1->tensorboard<2.12,>=2.11->tensorflow-intel==2.11.0->tensorflow==2.11) (1.3.1)\n",
      "Requirement already satisfied: importlib-metadata>=4.4 in c:\\users\\public\\new\\envs\\tensorflowraul\\lib\\site-packages (from markdown>=2.6.8->tensorboard<2.12,>=2.11->tensorflow-intel==2.11.0->tensorflow==2.11) (6.0.0)\n",
      "Requirement already satisfied: urllib3<1.27,>=1.21.1 in c:\\users\\public\\new\\envs\\tensorflowraul\\lib\\site-packages (from requests<3,>=2.21.0->tensorboard<2.12,>=2.11->tensorflow-intel==2.11.0->tensorflow==2.11) (1.26.15)\n",
      "Requirement already satisfied: idna<4,>=2.5 in c:\\users\\public\\new\\envs\\tensorflowraul\\lib\\site-packages (from requests<3,>=2.21.0->tensorboard<2.12,>=2.11->tensorflow-intel==2.11.0->tensorflow==2.11) (3.4)\n",
      "Requirement already satisfied: certifi>=2017.4.17 in c:\\users\\public\\new\\envs\\tensorflowraul\\lib\\site-packages (from requests<3,>=2.21.0->tensorboard<2.12,>=2.11->tensorflow-intel==2.11.0->tensorflow==2.11) (2022.12.7)\n",
      "Requirement already satisfied: charset-normalizer<4,>=2 in c:\\users\\public\\new\\envs\\tensorflowraul\\lib\\site-packages (from requests<3,>=2.21.0->tensorboard<2.12,>=2.11->tensorflow-intel==2.11.0->tensorflow==2.11) (3.1.0)\n",
      "Requirement already satisfied: MarkupSafe>=2.1.1 in c:\\users\\public\\new\\envs\\tensorflowraul\\lib\\site-packages (from werkzeug>=1.0.1->tensorboard<2.12,>=2.11->tensorflow-intel==2.11.0->tensorflow==2.11) (2.1.1)\n",
      "Requirement already satisfied: zipp>=0.5 in c:\\users\\public\\new\\envs\\tensorflowraul\\lib\\site-packages (from importlib-metadata>=4.4->markdown>=2.6.8->tensorboard<2.12,>=2.11->tensorflow-intel==2.11.0->tensorflow==2.11) (3.11.0)\n",
      "Requirement already satisfied: pyasn1<0.5.0,>=0.4.6 in c:\\users\\public\\new\\envs\\tensorflowraul\\lib\\site-packages (from pyasn1-modules>=0.2.1->google-auth<3,>=1.6.3->tensorboard<2.12,>=2.11->tensorflow-intel==2.11.0->tensorflow==2.11) (0.4.8)\n",
      "Requirement already satisfied: oauthlib>=3.0.0 in c:\\users\\public\\new\\envs\\tensorflowraul\\lib\\site-packages (from requests-oauthlib>=0.7.0->google-auth-oauthlib<0.5,>=0.4.1->tensorboard<2.12,>=2.11->tensorflow-intel==2.11.0->tensorflow==2.11) (3.2.2)\n",
      "Installing collected packages: tensorflow-estimator, keras, tensorboard, tensorflow\n",
      "  Attempting uninstall: tensorflow-estimator\n",
      "    Found existing installation: tensorflow-estimator 2.10.0\n",
      "    Uninstalling tensorflow-estimator-2.10.0:\n",
      "      Successfully uninstalled tensorflow-estimator-2.10.0\n",
      "  Attempting uninstall: keras\n",
      "    Found existing installation: keras 2.10.0\n",
      "    Uninstalling keras-2.10.0:\n",
      "      Successfully uninstalled keras-2.10.0\n",
      "  Attempting uninstall: tensorboard\n",
      "    Found existing installation: tensorboard 2.10.1\n",
      "    Uninstalling tensorboard-2.10.1:\n",
      "      Successfully uninstalled tensorboard-2.10.1\n",
      "  Attempting uninstall: tensorflow\n",
      "    Found existing installation: tensorflow 2.10.0\n",
      "    Uninstalling tensorflow-2.10.0:\n",
      "      Successfully uninstalled tensorflow-2.10.0\n",
      "Successfully installed keras-2.11.0 tensorboard-2.11.2 tensorflow-2.11.0 tensorflow-estimator-2.11.0\n"
     ]
    },
    {
     "name": "stderr",
     "output_type": "stream",
     "text": [
      "WARNING: Ignoring invalid distribution -ensorflow-intel (c:\\users\\bee team\\appdata\\roaming\\python\\python39\\site-packages)\n",
      "WARNING: Ignoring invalid distribution -rotobuf (c:\\users\\public\\new\\envs\\tensorflowraul\\lib\\site-packages)\n",
      "WARNING: Ignoring invalid distribution -ensorflow-intel (c:\\users\\bee team\\appdata\\roaming\\python\\python39\\site-packages)\n",
      "WARNING: Ignoring invalid distribution -rotobuf (c:\\users\\public\\new\\envs\\tensorflowraul\\lib\\site-packages)\n",
      "WARNING: Ignoring invalid distribution -ensorflow-intel (c:\\users\\bee team\\appdata\\roaming\\python\\python39\\site-packages)\n",
      "WARNING: Ignoring invalid distribution -rotobuf (c:\\users\\public\\new\\envs\\tensorflowraul\\lib\\site-packages)\n",
      "    WARNING: Ignoring invalid distribution -ensorflow-intel (c:\\users\\bee team\\appdata\\roaming\\python\\python39\\site-packages)\n",
      "    WARNING: Ignoring invalid distribution -rotobuf (c:\\users\\public\\new\\envs\\tensorflowraul\\lib\\site-packages)\n",
      "    WARNING: Ignoring invalid distribution -ensorflow-intel (c:\\users\\bee team\\appdata\\roaming\\python\\python39\\site-packages)\n",
      "    WARNING: Ignoring invalid distribution -rotobuf (c:\\users\\public\\new\\envs\\tensorflowraul\\lib\\site-packages)\n",
      "    WARNING: Ignoring invalid distribution -ensorflow-intel (c:\\users\\bee team\\appdata\\roaming\\python\\python39\\site-packages)\n",
      "    WARNING: Ignoring invalid distribution -rotobuf (c:\\users\\public\\new\\envs\\tensorflowraul\\lib\\site-packages)\n",
      "    WARNING: Ignoring invalid distribution -ensorflow-intel (c:\\users\\bee team\\appdata\\roaming\\python\\python39\\site-packages)\n",
      "    WARNING: Ignoring invalid distribution -rotobuf (c:\\users\\public\\new\\envs\\tensorflowraul\\lib\\site-packages)\n",
      "WARNING: Ignoring invalid distribution -rotobuf (c:\\users\\public\\new\\envs\\tensorflowraul\\lib\\site-packages)\n",
      "WARNING: Ignoring invalid distribution -rotobuf (c:\\users\\public\\new\\envs\\tensorflowraul\\lib\\site-packages)\n",
      "WARNING: Ignoring invalid distribution -rotobuf (c:\\users\\public\\new\\envs\\tensorflowraul\\lib\\site-packages)\n",
      "WARNING: Ignoring invalid distribution -rotobuf (c:\\users\\public\\new\\envs\\tensorflowraul\\lib\\site-packages)\n",
      "WARNING: Ignoring invalid distribution -ensorflow-intel (c:\\users\\bee team\\appdata\\roaming\\python\\python39\\site-packages)\n",
      "WARNING: Ignoring invalid distribution -rotobuf (c:\\users\\public\\new\\envs\\tensorflowraul\\lib\\site-packages)\n",
      "WARNING: Ignoring invalid distribution -ensorflow-intel (c:\\users\\bee team\\appdata\\roaming\\python\\python39\\site-packages)\n",
      "WARNING: Ignoring invalid distribution -rotobuf (c:\\users\\public\\new\\envs\\tensorflowraul\\lib\\site-packages)\n",
      "WARNING: Ignoring invalid distribution -ensorflow-intel (c:\\users\\bee team\\appdata\\roaming\\python\\python39\\site-packages)\n",
      "WARNING: Ignoring invalid distribution -rotobuf (c:\\users\\public\\new\\envs\\tensorflowraul\\lib\\site-packages)\n"
     ]
    }
   ],
   "source": [
    "!pip install tensorflow==2.11"
   ]
  },
  {
   "cell_type": "code",
   "execution_count": 7,
   "id": "49988ee3",
   "metadata": {
    "ExecuteTime": {
     "end_time": "2023-05-22T12:06:14.002482Z",
     "start_time": "2023-05-22T12:06:13.784271Z"
    }
   },
   "outputs": [
    {
     "ename": "ImportError",
     "evalue": "cannot import name 'experimental_functions_run_eagerly' from 'tensorflow.python.eager.def_function' (C:\\Users\\BEE Team\\AppData\\Roaming\\Python\\Python39\\site-packages\\tensorflow\\python\\eager\\def_function.py)",
     "output_type": "error",
     "traceback": [
      "\u001b[1;31m---------------------------------------------------------------------------\u001b[0m",
      "\u001b[1;31mImportError\u001b[0m                               Traceback (most recent call last)",
      "Cell \u001b[1;32mIn[7], line 1\u001b[0m\n\u001b[1;32m----> 1\u001b[0m \u001b[38;5;28;01mimport\u001b[39;00m \u001b[38;5;21;01mtensorflow\u001b[39;00m \u001b[38;5;28;01mas\u001b[39;00m \u001b[38;5;21;01mtf\u001b[39;00m\n",
      "File \u001b[1;32m~\\AppData\\Roaming\\Python\\Python39\\site-packages\\tensorflow\\__init__.py:51\u001b[0m\n\u001b[0;32m     49\u001b[0m \u001b[38;5;28;01mfrom\u001b[39;00m \u001b[38;5;21;01m.\u001b[39;00m\u001b[38;5;21;01m_api\u001b[39;00m\u001b[38;5;21;01m.\u001b[39;00m\u001b[38;5;21;01mv2\u001b[39;00m \u001b[38;5;28;01mimport\u001b[39;00m autograph\n\u001b[0;32m     50\u001b[0m \u001b[38;5;28;01mfrom\u001b[39;00m \u001b[38;5;21;01m.\u001b[39;00m\u001b[38;5;21;01m_api\u001b[39;00m\u001b[38;5;21;01m.\u001b[39;00m\u001b[38;5;21;01mv2\u001b[39;00m \u001b[38;5;28;01mimport\u001b[39;00m bitwise\n\u001b[1;32m---> 51\u001b[0m \u001b[38;5;28;01mfrom\u001b[39;00m \u001b[38;5;21;01m.\u001b[39;00m\u001b[38;5;21;01m_api\u001b[39;00m\u001b[38;5;21;01m.\u001b[39;00m\u001b[38;5;21;01mv2\u001b[39;00m \u001b[38;5;28;01mimport\u001b[39;00m compat\n\u001b[0;32m     52\u001b[0m \u001b[38;5;28;01mfrom\u001b[39;00m \u001b[38;5;21;01m.\u001b[39;00m\u001b[38;5;21;01m_api\u001b[39;00m\u001b[38;5;21;01m.\u001b[39;00m\u001b[38;5;21;01mv2\u001b[39;00m \u001b[38;5;28;01mimport\u001b[39;00m config\n\u001b[0;32m     53\u001b[0m \u001b[38;5;28;01mfrom\u001b[39;00m \u001b[38;5;21;01m.\u001b[39;00m\u001b[38;5;21;01m_api\u001b[39;00m\u001b[38;5;21;01m.\u001b[39;00m\u001b[38;5;21;01mv2\u001b[39;00m \u001b[38;5;28;01mimport\u001b[39;00m data\n",
      "File \u001b[1;32m~\\AppData\\Roaming\\Python\\Python39\\site-packages\\tensorflow\\_api\\v2\\compat\\__init__.py:37\u001b[0m\n\u001b[0;32m      3\u001b[0m \u001b[38;5;124;03m\"\"\"Compatibility functions.\u001b[39;00m\n\u001b[0;32m      4\u001b[0m \n\u001b[0;32m      5\u001b[0m \u001b[38;5;124;03mThe `tf.compat` module contains two sets of compatibility functions.\u001b[39;00m\n\u001b[1;32m   (...)\u001b[0m\n\u001b[0;32m     32\u001b[0m \n\u001b[0;32m     33\u001b[0m \u001b[38;5;124;03m\"\"\"\u001b[39;00m\n\u001b[0;32m     35\u001b[0m \u001b[38;5;28;01mimport\u001b[39;00m \u001b[38;5;21;01msys\u001b[39;00m \u001b[38;5;28;01mas\u001b[39;00m \u001b[38;5;21;01m_sys\u001b[39;00m\n\u001b[1;32m---> 37\u001b[0m \u001b[38;5;28;01mfrom\u001b[39;00m \u001b[38;5;21;01m.\u001b[39;00m \u001b[38;5;28;01mimport\u001b[39;00m v1\n\u001b[0;32m     38\u001b[0m \u001b[38;5;28;01mfrom\u001b[39;00m \u001b[38;5;21;01m.\u001b[39;00m \u001b[38;5;28;01mimport\u001b[39;00m v2\n\u001b[0;32m     39\u001b[0m \u001b[38;5;28;01mfrom\u001b[39;00m \u001b[38;5;21;01mtensorflow\u001b[39;00m\u001b[38;5;21;01m.\u001b[39;00m\u001b[38;5;21;01mpython\u001b[39;00m\u001b[38;5;21;01m.\u001b[39;00m\u001b[38;5;21;01mcompat\u001b[39;00m\u001b[38;5;21;01m.\u001b[39;00m\u001b[38;5;21;01mcompat\u001b[39;00m \u001b[38;5;28;01mimport\u001b[39;00m forward_compatibility_horizon\n",
      "File \u001b[1;32m~\\AppData\\Roaming\\Python\\Python39\\site-packages\\tensorflow\\_api\\v2\\compat\\v1\\__init__.py:30\u001b[0m\n\u001b[0;32m     28\u001b[0m \u001b[38;5;28;01mfrom\u001b[39;00m \u001b[38;5;21;01m.\u001b[39;00m \u001b[38;5;28;01mimport\u001b[39;00m autograph\n\u001b[0;32m     29\u001b[0m \u001b[38;5;28;01mfrom\u001b[39;00m \u001b[38;5;21;01m.\u001b[39;00m \u001b[38;5;28;01mimport\u001b[39;00m bitwise\n\u001b[1;32m---> 30\u001b[0m \u001b[38;5;28;01mfrom\u001b[39;00m \u001b[38;5;21;01m.\u001b[39;00m \u001b[38;5;28;01mimport\u001b[39;00m compat\n\u001b[0;32m     31\u001b[0m \u001b[38;5;28;01mfrom\u001b[39;00m \u001b[38;5;21;01m.\u001b[39;00m \u001b[38;5;28;01mimport\u001b[39;00m config\n\u001b[0;32m     32\u001b[0m \u001b[38;5;28;01mfrom\u001b[39;00m \u001b[38;5;21;01m.\u001b[39;00m \u001b[38;5;28;01mimport\u001b[39;00m data\n",
      "File \u001b[1;32m~\\AppData\\Roaming\\Python\\Python39\\site-packages\\tensorflow\\_api\\v2\\compat\\v1\\compat\\__init__.py:37\u001b[0m\n\u001b[0;32m      3\u001b[0m \u001b[38;5;124;03m\"\"\"Compatibility functions.\u001b[39;00m\n\u001b[0;32m      4\u001b[0m \n\u001b[0;32m      5\u001b[0m \u001b[38;5;124;03mThe `tf.compat` module contains two sets of compatibility functions.\u001b[39;00m\n\u001b[1;32m   (...)\u001b[0m\n\u001b[0;32m     32\u001b[0m \n\u001b[0;32m     33\u001b[0m \u001b[38;5;124;03m\"\"\"\u001b[39;00m\n\u001b[0;32m     35\u001b[0m \u001b[38;5;28;01mimport\u001b[39;00m \u001b[38;5;21;01msys\u001b[39;00m \u001b[38;5;28;01mas\u001b[39;00m \u001b[38;5;21;01m_sys\u001b[39;00m\n\u001b[1;32m---> 37\u001b[0m \u001b[38;5;28;01mfrom\u001b[39;00m \u001b[38;5;21;01m.\u001b[39;00m \u001b[38;5;28;01mimport\u001b[39;00m v1\n\u001b[0;32m     38\u001b[0m \u001b[38;5;28;01mfrom\u001b[39;00m \u001b[38;5;21;01m.\u001b[39;00m \u001b[38;5;28;01mimport\u001b[39;00m v2\n\u001b[0;32m     39\u001b[0m \u001b[38;5;28;01mfrom\u001b[39;00m \u001b[38;5;21;01mtensorflow\u001b[39;00m\u001b[38;5;21;01m.\u001b[39;00m\u001b[38;5;21;01mpython\u001b[39;00m\u001b[38;5;21;01m.\u001b[39;00m\u001b[38;5;21;01mcompat\u001b[39;00m\u001b[38;5;21;01m.\u001b[39;00m\u001b[38;5;21;01mcompat\u001b[39;00m \u001b[38;5;28;01mimport\u001b[39;00m forward_compatibility_horizon\n",
      "File \u001b[1;32m~\\AppData\\Roaming\\Python\\Python39\\site-packages\\tensorflow\\_api\\v2\\compat\\v1\\compat\\v1\\__init__.py:31\u001b[0m\n\u001b[0;32m     29\u001b[0m \u001b[38;5;28;01mfrom\u001b[39;00m \u001b[38;5;21;01mtensorflow\u001b[39;00m\u001b[38;5;21;01m.\u001b[39;00m\u001b[38;5;21;01m_api\u001b[39;00m\u001b[38;5;21;01m.\u001b[39;00m\u001b[38;5;21;01mv2\u001b[39;00m\u001b[38;5;21;01m.\u001b[39;00m\u001b[38;5;21;01mcompat\u001b[39;00m\u001b[38;5;21;01m.\u001b[39;00m\u001b[38;5;21;01mv1\u001b[39;00m \u001b[38;5;28;01mimport\u001b[39;00m autograph\n\u001b[0;32m     30\u001b[0m \u001b[38;5;28;01mfrom\u001b[39;00m \u001b[38;5;21;01mtensorflow\u001b[39;00m\u001b[38;5;21;01m.\u001b[39;00m\u001b[38;5;21;01m_api\u001b[39;00m\u001b[38;5;21;01m.\u001b[39;00m\u001b[38;5;21;01mv2\u001b[39;00m\u001b[38;5;21;01m.\u001b[39;00m\u001b[38;5;21;01mcompat\u001b[39;00m\u001b[38;5;21;01m.\u001b[39;00m\u001b[38;5;21;01mv1\u001b[39;00m \u001b[38;5;28;01mimport\u001b[39;00m bitwise\n\u001b[1;32m---> 31\u001b[0m \u001b[38;5;28;01mfrom\u001b[39;00m \u001b[38;5;21;01mtensorflow\u001b[39;00m\u001b[38;5;21;01m.\u001b[39;00m\u001b[38;5;21;01m_api\u001b[39;00m\u001b[38;5;21;01m.\u001b[39;00m\u001b[38;5;21;01mv2\u001b[39;00m\u001b[38;5;21;01m.\u001b[39;00m\u001b[38;5;21;01mcompat\u001b[39;00m\u001b[38;5;21;01m.\u001b[39;00m\u001b[38;5;21;01mv1\u001b[39;00m \u001b[38;5;28;01mimport\u001b[39;00m config\n\u001b[0;32m     32\u001b[0m \u001b[38;5;28;01mfrom\u001b[39;00m \u001b[38;5;21;01mtensorflow\u001b[39;00m\u001b[38;5;21;01m.\u001b[39;00m\u001b[38;5;21;01m_api\u001b[39;00m\u001b[38;5;21;01m.\u001b[39;00m\u001b[38;5;21;01mv2\u001b[39;00m\u001b[38;5;21;01m.\u001b[39;00m\u001b[38;5;21;01mcompat\u001b[39;00m\u001b[38;5;21;01m.\u001b[39;00m\u001b[38;5;21;01mv1\u001b[39;00m \u001b[38;5;28;01mimport\u001b[39;00m data\n\u001b[0;32m     33\u001b[0m \u001b[38;5;28;01mfrom\u001b[39;00m \u001b[38;5;21;01mtensorflow\u001b[39;00m\u001b[38;5;21;01m.\u001b[39;00m\u001b[38;5;21;01m_api\u001b[39;00m\u001b[38;5;21;01m.\u001b[39;00m\u001b[38;5;21;01mv2\u001b[39;00m\u001b[38;5;21;01m.\u001b[39;00m\u001b[38;5;21;01mcompat\u001b[39;00m\u001b[38;5;21;01m.\u001b[39;00m\u001b[38;5;21;01mv1\u001b[39;00m \u001b[38;5;28;01mimport\u001b[39;00m debugging\n",
      "File \u001b[1;32m~\\AppData\\Roaming\\Python\\Python39\\site-packages\\tensorflow\\_api\\v2\\compat\\v1\\config\\__init__.py:14\u001b[0m\n\u001b[0;32m     12\u001b[0m \u001b[38;5;28;01mfrom\u001b[39;00m \u001b[38;5;21;01mtensorflow\u001b[39;00m\u001b[38;5;21;01m.\u001b[39;00m\u001b[38;5;21;01mpython\u001b[39;00m\u001b[38;5;21;01m.\u001b[39;00m\u001b[38;5;21;01meager\u001b[39;00m\u001b[38;5;21;01m.\u001b[39;00m\u001b[38;5;21;01mcontext\u001b[39;00m \u001b[38;5;28;01mimport\u001b[39;00m LogicalDeviceConfiguration\n\u001b[0;32m     13\u001b[0m \u001b[38;5;28;01mfrom\u001b[39;00m \u001b[38;5;21;01mtensorflow\u001b[39;00m\u001b[38;5;21;01m.\u001b[39;00m\u001b[38;5;21;01mpython\u001b[39;00m\u001b[38;5;21;01m.\u001b[39;00m\u001b[38;5;21;01meager\u001b[39;00m\u001b[38;5;21;01m.\u001b[39;00m\u001b[38;5;21;01mcontext\u001b[39;00m \u001b[38;5;28;01mimport\u001b[39;00m PhysicalDevice\n\u001b[1;32m---> 14\u001b[0m \u001b[38;5;28;01mfrom\u001b[39;00m \u001b[38;5;21;01mtensorflow\u001b[39;00m\u001b[38;5;21;01m.\u001b[39;00m\u001b[38;5;21;01mpython\u001b[39;00m\u001b[38;5;21;01m.\u001b[39;00m\u001b[38;5;21;01meager\u001b[39;00m\u001b[38;5;21;01m.\u001b[39;00m\u001b[38;5;21;01mdef_function\u001b[39;00m \u001b[38;5;28;01mimport\u001b[39;00m experimental_functions_run_eagerly\n\u001b[0;32m     15\u001b[0m \u001b[38;5;28;01mfrom\u001b[39;00m \u001b[38;5;21;01mtensorflow\u001b[39;00m\u001b[38;5;21;01m.\u001b[39;00m\u001b[38;5;21;01mpython\u001b[39;00m\u001b[38;5;21;01m.\u001b[39;00m\u001b[38;5;21;01meager\u001b[39;00m\u001b[38;5;21;01m.\u001b[39;00m\u001b[38;5;21;01mdef_function\u001b[39;00m \u001b[38;5;28;01mimport\u001b[39;00m experimental_run_functions_eagerly\n\u001b[0;32m     16\u001b[0m \u001b[38;5;28;01mfrom\u001b[39;00m \u001b[38;5;21;01mtensorflow\u001b[39;00m\u001b[38;5;21;01m.\u001b[39;00m\u001b[38;5;21;01mpython\u001b[39;00m\u001b[38;5;21;01m.\u001b[39;00m\u001b[38;5;21;01meager\u001b[39;00m\u001b[38;5;21;01m.\u001b[39;00m\u001b[38;5;21;01mdef_function\u001b[39;00m \u001b[38;5;28;01mimport\u001b[39;00m functions_run_eagerly\n",
      "\u001b[1;31mImportError\u001b[0m: cannot import name 'experimental_functions_run_eagerly' from 'tensorflow.python.eager.def_function' (C:\\Users\\BEE Team\\AppData\\Roaming\\Python\\Python39\\site-packages\\tensorflow\\python\\eager\\def_function.py)"
     ]
    }
   ],
   "source": [
    "import tensorflow as tf"
   ]
  },
  {
   "cell_type": "code",
   "execution_count": null,
   "id": "c59efe97",
   "metadata": {
    "ExecuteTime": {
     "end_time": "2023-05-22T12:06:14.003484Z",
     "start_time": "2023-05-22T12:06:14.003484Z"
    },
    "scrolled": true
   },
   "outputs": [],
   "source": [
    "!pip show tensorflow"
   ]
  },
  {
   "cell_type": "code",
   "execution_count": 9,
   "id": "797b22d5",
   "metadata": {
    "ExecuteTime": {
     "end_time": "2023-05-22T11:54:31.363853Z",
     "start_time": "2023-05-22T11:54:29.636854Z"
    }
   },
   "outputs": [
    {
     "name": "stdout",
     "output_type": "stream",
     "text": [
      "Name: keras\n",
      "Version: 2.11.0\n",
      "Summary: Deep learning for humans.\n",
      "Home-page: https://keras.io/\n",
      "Author: Keras team\n",
      "Author-email: keras-users@googlegroups.com\n",
      "License: Apache 2.0\n",
      "Location: c:\\users\\public\\new\\envs\\tensorflowraul\\lib\\site-packages\n",
      "Requires: \n",
      "Required-by: tensorflow-intel\n"
     ]
    },
    {
     "name": "stderr",
     "output_type": "stream",
     "text": [
      "WARNING: Ignoring invalid distribution -ensorflow-intel (c:\\users\\bee team\\appdata\\roaming\\python\\python39\\site-packages)\n",
      "WARNING: Ignoring invalid distribution -rotobuf (c:\\users\\public\\new\\envs\\tensorflowraul\\lib\\site-packages)\n"
     ]
    }
   ],
   "source": [
    "!pip show keras"
   ]
  },
  {
   "cell_type": "code",
   "execution_count": 47,
   "id": "ec797e89",
   "metadata": {
    "ExecuteTime": {
     "end_time": "2023-05-22T11:48:54.760755Z",
     "start_time": "2023-05-22T11:48:54.749834Z"
    },
    "scrolled": true
   },
   "outputs": [],
   "source": [
    "#!pip install tf-models-official"
   ]
  },
  {
   "cell_type": "code",
   "execution_count": 2,
   "id": "a2c22897",
   "metadata": {
    "ExecuteTime": {
     "end_time": "2023-05-22T11:51:44.369736Z",
     "start_time": "2023-05-22T11:51:44.365125Z"
    },
    "scrolled": true
   },
   "outputs": [],
   "source": [
    "#!pip install tensorflow==2.11"
   ]
  },
  {
   "cell_type": "code",
   "execution_count": 2,
   "id": "d39ae4c0",
   "metadata": {
    "ExecuteTime": {
     "end_time": "2023-05-22T12:03:14.322772Z",
     "start_time": "2023-05-22T12:03:10.614882Z"
    },
    "scrolled": true
   },
   "outputs": [
    {
     "ename": "ImportError",
     "evalue": "cannot import name 'experimental_functions_run_eagerly' from 'tensorflow.python.eager.def_function' (C:\\Users\\BEE Team\\AppData\\Roaming\\Python\\Python39\\site-packages\\tensorflow\\python\\eager\\def_function.py)",
     "output_type": "error",
     "traceback": [
      "\u001b[1;31m---------------------------------------------------------------------------\u001b[0m",
      "\u001b[1;31mImportError\u001b[0m                               Traceback (most recent call last)",
      "Cell \u001b[1;32mIn[2], line 14\u001b[0m\n\u001b[0;32m     11\u001b[0m \u001b[38;5;28;01mimport\u001b[39;00m \u001b[38;5;21;01mseaborn\u001b[39;00m \u001b[38;5;28;01mas\u001b[39;00m \u001b[38;5;21;01msns\u001b[39;00m\n\u001b[0;32m     12\u001b[0m \u001b[38;5;28;01mimport\u001b[39;00m \u001b[38;5;21;01mmatplotlib\u001b[39;00m\u001b[38;5;21;01m.\u001b[39;00m\u001b[38;5;21;01mpyplot\u001b[39;00m \u001b[38;5;28;01mas\u001b[39;00m \u001b[38;5;21;01mplt\u001b[39;00m\n\u001b[1;32m---> 14\u001b[0m \u001b[38;5;28;01mimport\u001b[39;00m \u001b[38;5;21;01mtensorflow\u001b[39;00m \u001b[38;5;28;01mas\u001b[39;00m \u001b[38;5;21;01mtf\u001b[39;00m\n\u001b[0;32m     15\u001b[0m \u001b[38;5;28;01mimport\u001b[39;00m \u001b[38;5;21;01mkeras\u001b[39;00m\n\u001b[0;32m     16\u001b[0m \u001b[38;5;28;01mfrom\u001b[39;00m \u001b[38;5;21;01mkeras\u001b[39;00m \u001b[38;5;28;01mimport\u001b[39;00m layers\n",
      "File \u001b[1;32m~\\AppData\\Roaming\\Python\\Python39\\site-packages\\tensorflow\\__init__.py:51\u001b[0m\n\u001b[0;32m     49\u001b[0m \u001b[38;5;28;01mfrom\u001b[39;00m \u001b[38;5;21;01m.\u001b[39;00m\u001b[38;5;21;01m_api\u001b[39;00m\u001b[38;5;21;01m.\u001b[39;00m\u001b[38;5;21;01mv2\u001b[39;00m \u001b[38;5;28;01mimport\u001b[39;00m autograph\n\u001b[0;32m     50\u001b[0m \u001b[38;5;28;01mfrom\u001b[39;00m \u001b[38;5;21;01m.\u001b[39;00m\u001b[38;5;21;01m_api\u001b[39;00m\u001b[38;5;21;01m.\u001b[39;00m\u001b[38;5;21;01mv2\u001b[39;00m \u001b[38;5;28;01mimport\u001b[39;00m bitwise\n\u001b[1;32m---> 51\u001b[0m \u001b[38;5;28;01mfrom\u001b[39;00m \u001b[38;5;21;01m.\u001b[39;00m\u001b[38;5;21;01m_api\u001b[39;00m\u001b[38;5;21;01m.\u001b[39;00m\u001b[38;5;21;01mv2\u001b[39;00m \u001b[38;5;28;01mimport\u001b[39;00m compat\n\u001b[0;32m     52\u001b[0m \u001b[38;5;28;01mfrom\u001b[39;00m \u001b[38;5;21;01m.\u001b[39;00m\u001b[38;5;21;01m_api\u001b[39;00m\u001b[38;5;21;01m.\u001b[39;00m\u001b[38;5;21;01mv2\u001b[39;00m \u001b[38;5;28;01mimport\u001b[39;00m config\n\u001b[0;32m     53\u001b[0m \u001b[38;5;28;01mfrom\u001b[39;00m \u001b[38;5;21;01m.\u001b[39;00m\u001b[38;5;21;01m_api\u001b[39;00m\u001b[38;5;21;01m.\u001b[39;00m\u001b[38;5;21;01mv2\u001b[39;00m \u001b[38;5;28;01mimport\u001b[39;00m data\n",
      "File \u001b[1;32m~\\AppData\\Roaming\\Python\\Python39\\site-packages\\tensorflow\\_api\\v2\\compat\\__init__.py:37\u001b[0m\n\u001b[0;32m      3\u001b[0m \u001b[38;5;124;03m\"\"\"Compatibility functions.\u001b[39;00m\n\u001b[0;32m      4\u001b[0m \n\u001b[0;32m      5\u001b[0m \u001b[38;5;124;03mThe `tf.compat` module contains two sets of compatibility functions.\u001b[39;00m\n\u001b[1;32m   (...)\u001b[0m\n\u001b[0;32m     32\u001b[0m \n\u001b[0;32m     33\u001b[0m \u001b[38;5;124;03m\"\"\"\u001b[39;00m\n\u001b[0;32m     35\u001b[0m \u001b[38;5;28;01mimport\u001b[39;00m \u001b[38;5;21;01msys\u001b[39;00m \u001b[38;5;28;01mas\u001b[39;00m \u001b[38;5;21;01m_sys\u001b[39;00m\n\u001b[1;32m---> 37\u001b[0m \u001b[38;5;28;01mfrom\u001b[39;00m \u001b[38;5;21;01m.\u001b[39;00m \u001b[38;5;28;01mimport\u001b[39;00m v1\n\u001b[0;32m     38\u001b[0m \u001b[38;5;28;01mfrom\u001b[39;00m \u001b[38;5;21;01m.\u001b[39;00m \u001b[38;5;28;01mimport\u001b[39;00m v2\n\u001b[0;32m     39\u001b[0m \u001b[38;5;28;01mfrom\u001b[39;00m \u001b[38;5;21;01mtensorflow\u001b[39;00m\u001b[38;5;21;01m.\u001b[39;00m\u001b[38;5;21;01mpython\u001b[39;00m\u001b[38;5;21;01m.\u001b[39;00m\u001b[38;5;21;01mcompat\u001b[39;00m\u001b[38;5;21;01m.\u001b[39;00m\u001b[38;5;21;01mcompat\u001b[39;00m \u001b[38;5;28;01mimport\u001b[39;00m forward_compatibility_horizon\n",
      "File \u001b[1;32m~\\AppData\\Roaming\\Python\\Python39\\site-packages\\tensorflow\\_api\\v2\\compat\\v1\\__init__.py:30\u001b[0m\n\u001b[0;32m     28\u001b[0m \u001b[38;5;28;01mfrom\u001b[39;00m \u001b[38;5;21;01m.\u001b[39;00m \u001b[38;5;28;01mimport\u001b[39;00m autograph\n\u001b[0;32m     29\u001b[0m \u001b[38;5;28;01mfrom\u001b[39;00m \u001b[38;5;21;01m.\u001b[39;00m \u001b[38;5;28;01mimport\u001b[39;00m bitwise\n\u001b[1;32m---> 30\u001b[0m \u001b[38;5;28;01mfrom\u001b[39;00m \u001b[38;5;21;01m.\u001b[39;00m \u001b[38;5;28;01mimport\u001b[39;00m compat\n\u001b[0;32m     31\u001b[0m \u001b[38;5;28;01mfrom\u001b[39;00m \u001b[38;5;21;01m.\u001b[39;00m \u001b[38;5;28;01mimport\u001b[39;00m config\n\u001b[0;32m     32\u001b[0m \u001b[38;5;28;01mfrom\u001b[39;00m \u001b[38;5;21;01m.\u001b[39;00m \u001b[38;5;28;01mimport\u001b[39;00m data\n",
      "File \u001b[1;32m~\\AppData\\Roaming\\Python\\Python39\\site-packages\\tensorflow\\_api\\v2\\compat\\v1\\compat\\__init__.py:37\u001b[0m\n\u001b[0;32m      3\u001b[0m \u001b[38;5;124;03m\"\"\"Compatibility functions.\u001b[39;00m\n\u001b[0;32m      4\u001b[0m \n\u001b[0;32m      5\u001b[0m \u001b[38;5;124;03mThe `tf.compat` module contains two sets of compatibility functions.\u001b[39;00m\n\u001b[1;32m   (...)\u001b[0m\n\u001b[0;32m     32\u001b[0m \n\u001b[0;32m     33\u001b[0m \u001b[38;5;124;03m\"\"\"\u001b[39;00m\n\u001b[0;32m     35\u001b[0m \u001b[38;5;28;01mimport\u001b[39;00m \u001b[38;5;21;01msys\u001b[39;00m \u001b[38;5;28;01mas\u001b[39;00m \u001b[38;5;21;01m_sys\u001b[39;00m\n\u001b[1;32m---> 37\u001b[0m \u001b[38;5;28;01mfrom\u001b[39;00m \u001b[38;5;21;01m.\u001b[39;00m \u001b[38;5;28;01mimport\u001b[39;00m v1\n\u001b[0;32m     38\u001b[0m \u001b[38;5;28;01mfrom\u001b[39;00m \u001b[38;5;21;01m.\u001b[39;00m \u001b[38;5;28;01mimport\u001b[39;00m v2\n\u001b[0;32m     39\u001b[0m \u001b[38;5;28;01mfrom\u001b[39;00m \u001b[38;5;21;01mtensorflow\u001b[39;00m\u001b[38;5;21;01m.\u001b[39;00m\u001b[38;5;21;01mpython\u001b[39;00m\u001b[38;5;21;01m.\u001b[39;00m\u001b[38;5;21;01mcompat\u001b[39;00m\u001b[38;5;21;01m.\u001b[39;00m\u001b[38;5;21;01mcompat\u001b[39;00m \u001b[38;5;28;01mimport\u001b[39;00m forward_compatibility_horizon\n",
      "File \u001b[1;32m~\\AppData\\Roaming\\Python\\Python39\\site-packages\\tensorflow\\_api\\v2\\compat\\v1\\compat\\v1\\__init__.py:31\u001b[0m\n\u001b[0;32m     29\u001b[0m \u001b[38;5;28;01mfrom\u001b[39;00m \u001b[38;5;21;01mtensorflow\u001b[39;00m\u001b[38;5;21;01m.\u001b[39;00m\u001b[38;5;21;01m_api\u001b[39;00m\u001b[38;5;21;01m.\u001b[39;00m\u001b[38;5;21;01mv2\u001b[39;00m\u001b[38;5;21;01m.\u001b[39;00m\u001b[38;5;21;01mcompat\u001b[39;00m\u001b[38;5;21;01m.\u001b[39;00m\u001b[38;5;21;01mv1\u001b[39;00m \u001b[38;5;28;01mimport\u001b[39;00m autograph\n\u001b[0;32m     30\u001b[0m \u001b[38;5;28;01mfrom\u001b[39;00m \u001b[38;5;21;01mtensorflow\u001b[39;00m\u001b[38;5;21;01m.\u001b[39;00m\u001b[38;5;21;01m_api\u001b[39;00m\u001b[38;5;21;01m.\u001b[39;00m\u001b[38;5;21;01mv2\u001b[39;00m\u001b[38;5;21;01m.\u001b[39;00m\u001b[38;5;21;01mcompat\u001b[39;00m\u001b[38;5;21;01m.\u001b[39;00m\u001b[38;5;21;01mv1\u001b[39;00m \u001b[38;5;28;01mimport\u001b[39;00m bitwise\n\u001b[1;32m---> 31\u001b[0m \u001b[38;5;28;01mfrom\u001b[39;00m \u001b[38;5;21;01mtensorflow\u001b[39;00m\u001b[38;5;21;01m.\u001b[39;00m\u001b[38;5;21;01m_api\u001b[39;00m\u001b[38;5;21;01m.\u001b[39;00m\u001b[38;5;21;01mv2\u001b[39;00m\u001b[38;5;21;01m.\u001b[39;00m\u001b[38;5;21;01mcompat\u001b[39;00m\u001b[38;5;21;01m.\u001b[39;00m\u001b[38;5;21;01mv1\u001b[39;00m \u001b[38;5;28;01mimport\u001b[39;00m config\n\u001b[0;32m     32\u001b[0m \u001b[38;5;28;01mfrom\u001b[39;00m \u001b[38;5;21;01mtensorflow\u001b[39;00m\u001b[38;5;21;01m.\u001b[39;00m\u001b[38;5;21;01m_api\u001b[39;00m\u001b[38;5;21;01m.\u001b[39;00m\u001b[38;5;21;01mv2\u001b[39;00m\u001b[38;5;21;01m.\u001b[39;00m\u001b[38;5;21;01mcompat\u001b[39;00m\u001b[38;5;21;01m.\u001b[39;00m\u001b[38;5;21;01mv1\u001b[39;00m \u001b[38;5;28;01mimport\u001b[39;00m data\n\u001b[0;32m     33\u001b[0m \u001b[38;5;28;01mfrom\u001b[39;00m \u001b[38;5;21;01mtensorflow\u001b[39;00m\u001b[38;5;21;01m.\u001b[39;00m\u001b[38;5;21;01m_api\u001b[39;00m\u001b[38;5;21;01m.\u001b[39;00m\u001b[38;5;21;01mv2\u001b[39;00m\u001b[38;5;21;01m.\u001b[39;00m\u001b[38;5;21;01mcompat\u001b[39;00m\u001b[38;5;21;01m.\u001b[39;00m\u001b[38;5;21;01mv1\u001b[39;00m \u001b[38;5;28;01mimport\u001b[39;00m debugging\n",
      "File \u001b[1;32m~\\AppData\\Roaming\\Python\\Python39\\site-packages\\tensorflow\\_api\\v2\\compat\\v1\\config\\__init__.py:14\u001b[0m\n\u001b[0;32m     12\u001b[0m \u001b[38;5;28;01mfrom\u001b[39;00m \u001b[38;5;21;01mtensorflow\u001b[39;00m\u001b[38;5;21;01m.\u001b[39;00m\u001b[38;5;21;01mpython\u001b[39;00m\u001b[38;5;21;01m.\u001b[39;00m\u001b[38;5;21;01meager\u001b[39;00m\u001b[38;5;21;01m.\u001b[39;00m\u001b[38;5;21;01mcontext\u001b[39;00m \u001b[38;5;28;01mimport\u001b[39;00m LogicalDeviceConfiguration\n\u001b[0;32m     13\u001b[0m \u001b[38;5;28;01mfrom\u001b[39;00m \u001b[38;5;21;01mtensorflow\u001b[39;00m\u001b[38;5;21;01m.\u001b[39;00m\u001b[38;5;21;01mpython\u001b[39;00m\u001b[38;5;21;01m.\u001b[39;00m\u001b[38;5;21;01meager\u001b[39;00m\u001b[38;5;21;01m.\u001b[39;00m\u001b[38;5;21;01mcontext\u001b[39;00m \u001b[38;5;28;01mimport\u001b[39;00m PhysicalDevice\n\u001b[1;32m---> 14\u001b[0m \u001b[38;5;28;01mfrom\u001b[39;00m \u001b[38;5;21;01mtensorflow\u001b[39;00m\u001b[38;5;21;01m.\u001b[39;00m\u001b[38;5;21;01mpython\u001b[39;00m\u001b[38;5;21;01m.\u001b[39;00m\u001b[38;5;21;01meager\u001b[39;00m\u001b[38;5;21;01m.\u001b[39;00m\u001b[38;5;21;01mdef_function\u001b[39;00m \u001b[38;5;28;01mimport\u001b[39;00m experimental_functions_run_eagerly\n\u001b[0;32m     15\u001b[0m \u001b[38;5;28;01mfrom\u001b[39;00m \u001b[38;5;21;01mtensorflow\u001b[39;00m\u001b[38;5;21;01m.\u001b[39;00m\u001b[38;5;21;01mpython\u001b[39;00m\u001b[38;5;21;01m.\u001b[39;00m\u001b[38;5;21;01meager\u001b[39;00m\u001b[38;5;21;01m.\u001b[39;00m\u001b[38;5;21;01mdef_function\u001b[39;00m \u001b[38;5;28;01mimport\u001b[39;00m experimental_run_functions_eagerly\n\u001b[0;32m     16\u001b[0m \u001b[38;5;28;01mfrom\u001b[39;00m \u001b[38;5;21;01mtensorflow\u001b[39;00m\u001b[38;5;21;01m.\u001b[39;00m\u001b[38;5;21;01mpython\u001b[39;00m\u001b[38;5;21;01m.\u001b[39;00m\u001b[38;5;21;01meager\u001b[39;00m\u001b[38;5;21;01m.\u001b[39;00m\u001b[38;5;21;01mdef_function\u001b[39;00m \u001b[38;5;28;01mimport\u001b[39;00m functions_run_eagerly\n",
      "\u001b[1;31mImportError\u001b[0m: cannot import name 'experimental_functions_run_eagerly' from 'tensorflow.python.eager.def_function' (C:\\Users\\BEE Team\\AppData\\Roaming\\Python\\Python39\\site-packages\\tensorflow\\python\\eager\\def_function.py)"
     ]
    }
   ],
   "source": [
    "import tqdm\n",
    "import random\n",
    "import pathlib\n",
    "import itertools\n",
    "import collections\n",
    "\n",
    "import cv2\n",
    "import einops\n",
    "import numpy as np\n",
    "import remotezip as rz\n",
    "import seaborn as sns\n",
    "import matplotlib.pyplot as plt\n",
    "\n",
    "import tensorflow as tf\n",
    "import keras\n",
    "from keras import layers\n",
    "\n",
    "from pathlib import Path\n",
    "\n",
    "#import tensorflow_hub as hub\n",
    "#from tensorflow.keras.optimizers import Adam\n",
    "#from tensorflow.keras.losses import SparseCategoricalCrossentropy\n",
    "\n",
    "# Import the MoViNet model from TensorFlow Models (tf-models-official) for the MoViNet model\n",
    "#from official.projects.movinet.modeling import movinet\n",
    "#from official.projects.movinet.modeling import movinet_model"
   ]
  },
  {
   "cell_type": "code",
   "execution_count": null,
   "id": "b1ce51f5",
   "metadata": {
    "ExecuteTime": {
     "end_time": "2023-05-22T11:52:25.706284Z",
     "start_time": "2023-05-22T11:52:25.706284Z"
    }
   },
   "outputs": [],
   "source": [
    "# Set the seed for Python's random number generator\n",
    "random.seed(1999)\n",
    "\n",
    "# Set the seed for NumPy's random number generator\n",
    "np.random.seed(1999)\n",
    "\n",
    "# Set the seed for TensorFlow's random number generator\n",
    "tf.random.set_seed(1999)"
   ]
  },
  {
   "cell_type": "markdown",
   "id": "d22f4f0e",
   "metadata": {},
   "source": [
    "## Classes:"
   ]
  },
  {
   "cell_type": "code",
   "execution_count": null,
   "id": "e6a2f3ba",
   "metadata": {
    "ExecuteTime": {
     "end_time": "2023-05-22T11:52:25.707284Z",
     "start_time": "2023-05-22T11:52:25.707284Z"
    }
   },
   "outputs": [],
   "source": [
    "class FrameGenerator:\n",
    "  def __init__(self, path, n_frames, training = False):\n",
    "    \"\"\" Returns a set of frames with their associated label. \n",
    "\n",
    "      Args:\n",
    "        path: Video file paths.\n",
    "        n_frames: Number of frames. \n",
    "        training: Boolean to determine if training dataset is being created.\n",
    "    \"\"\"\n",
    "    self.path = path\n",
    "    self.n_frames = n_frames\n",
    "    self.training = training\n",
    "    self.class_names = sorted(set(p.name for p in self.path.iterdir() if p.is_dir()))\n",
    "    self.class_ids_for_name = dict((name, idx) for idx, name in enumerate(self.class_names))\n",
    "\n",
    "  def get_files_and_class_names(self):\n",
    "    video_paths = list(self.path.glob('*/*.mp4'))\n",
    "    classes = [p.parent.name for p in video_paths] \n",
    "    return video_paths, classes\n",
    "\n",
    "  def __call__(self):\n",
    "    video_paths, classes = self.get_files_and_class_names()\n",
    "\n",
    "    pairs = list(zip(video_paths, classes))\n",
    "\n",
    "    if self.training:\n",
    "      random.shuffle(pairs)\n",
    "\n",
    "    for path, name in pairs:\n",
    "      video_frames = frames_from_video_file(path, self.n_frames) \n",
    "      label = self.class_ids_for_name[name] # Encode labels\n",
    "      yield video_frames, label"
   ]
  },
  {
   "cell_type": "code",
   "execution_count": null,
   "id": "9fb821f8",
   "metadata": {
    "ExecuteTime": {
     "end_time": "2023-05-22T11:52:25.708284Z",
     "start_time": "2023-05-22T11:52:25.708284Z"
    }
   },
   "outputs": [],
   "source": [
    "class Conv2Plus1D(keras.layers.Layer):\n",
    "  def __init__(self, filters, kernel_size, padding):\n",
    "    \"\"\"\n",
    "      A sequence of convolutional layers that first apply the convolution operation over the\n",
    "      spatial dimensions, and then the temporal dimension. \n",
    "    \"\"\"\n",
    "    super().__init__()\n",
    "    self.seq = keras.Sequential([  \n",
    "        # Spatial decomposition\n",
    "        layers.Conv3D(filters=filters,\n",
    "                      kernel_size=(1, kernel_size[1], kernel_size[2]),\n",
    "                      padding=padding),\n",
    "        # Temporal decomposition\n",
    "        layers.Conv3D(filters=filters, \n",
    "                      kernel_size=(kernel_size[0], 1, 1),\n",
    "                      padding=padding)\n",
    "        ])\n",
    "\n",
    "  def call(self, x):\n",
    "    return self.seq(x)"
   ]
  },
  {
   "cell_type": "code",
   "execution_count": null,
   "id": "90c6c7f2",
   "metadata": {
    "ExecuteTime": {
     "end_time": "2023-05-22T11:52:25.709284Z",
     "start_time": "2023-05-22T11:52:25.709284Z"
    }
   },
   "outputs": [],
   "source": [
    "class ResidualMain(keras.layers.Layer):\n",
    "  \"\"\"\n",
    "    Residual block of the model with convolution, layer normalization, and the\n",
    "    activation function, ReLU.\n",
    "  \"\"\"\n",
    "  def __init__(self, filters, kernel_size):\n",
    "    super().__init__()\n",
    "    self.seq = keras.Sequential([\n",
    "        Conv2Plus1D(filters=filters,\n",
    "                    kernel_size=kernel_size,\n",
    "                    padding='same'),\n",
    "        layers.LayerNormalization(),\n",
    "        layers.ReLU(),\n",
    "        Conv2Plus1D(filters=filters, \n",
    "                    kernel_size=kernel_size,\n",
    "                    padding='same'),\n",
    "        layers.LayerNormalization()\n",
    "    ])\n",
    "\n",
    "  def call(self, x):\n",
    "    return self.seq(x)"
   ]
  },
  {
   "cell_type": "code",
   "execution_count": null,
   "id": "1e7474fc",
   "metadata": {
    "ExecuteTime": {
     "end_time": "2023-05-22T11:52:25.710285Z",
     "start_time": "2023-05-22T11:52:25.710285Z"
    }
   },
   "outputs": [],
   "source": [
    "class Project(keras.layers.Layer):\n",
    "  \"\"\"\n",
    "    Project certain dimensions of the tensor as the data is passed through different \n",
    "    sized filters and downsampled. \n",
    "  \"\"\"\n",
    "  def __init__(self, units):\n",
    "    super().__init__()\n",
    "    self.seq = keras.Sequential([\n",
    "        layers.Dense(units),\n",
    "        layers.LayerNormalization()\n",
    "    ])\n",
    "\n",
    "  def call(self, x):\n",
    "    return self.seq(x)"
   ]
  },
  {
   "cell_type": "code",
   "execution_count": null,
   "id": "babbb06a",
   "metadata": {
    "ExecuteTime": {
     "end_time": "2023-05-22T11:52:25.711285Z",
     "start_time": "2023-05-22T11:52:25.711285Z"
    }
   },
   "outputs": [],
   "source": [
    "class ResizeVideo(keras.layers.Layer):\n",
    "  def __init__(self, height, width):\n",
    "    super().__init__()\n",
    "    self.height = height\n",
    "    self.width = width\n",
    "    self.resizing_layer = layers.Resizing(self.height, self.width)\n",
    "\n",
    "  def call(self, video):\n",
    "    \"\"\"\n",
    "      Use the einops library to resize the tensor.  \n",
    "\n",
    "      Args:\n",
    "        video: Tensor representation of the video, in the form of a set of frames.\n",
    "\n",
    "      Return:\n",
    "        A downsampled size of the video according to the new height and width it should be resized to.\n",
    "    \"\"\"\n",
    "    # b stands for batch size, t stands for time, h stands for height, \n",
    "    # w stands for width, and c stands for the number of channels.\n",
    "    old_shape = einops.parse_shape(video, 'b t h w c')\n",
    "    images = einops.rearrange(video, 'b t h w c -> (b t) h w c')\n",
    "    images = self.resizing_layer(images)\n",
    "    videos = einops.rearrange(\n",
    "        images, '(b t) h w c -> b t h w c',\n",
    "        t = old_shape['t'])\n",
    "    return videos"
   ]
  },
  {
   "cell_type": "markdown",
   "id": "69ba935a",
   "metadata": {},
   "source": [
    "## Functions"
   ]
  },
  {
   "cell_type": "code",
   "execution_count": null,
   "id": "eb77c911",
   "metadata": {
    "ExecuteTime": {
     "end_time": "2023-05-22T11:52:25.712285Z",
     "start_time": "2023-05-22T11:52:25.712285Z"
    }
   },
   "outputs": [],
   "source": [
    "def frames_from_video_file(video_path, n_frames, output_size = (224,224), frame_step = 60):\n",
    "  \"\"\"\n",
    "    Creates frames from each video file present for each category.\n",
    "\n",
    "    Args:\n",
    "      video_path: File path to the video.\n",
    "      n_frames: Number of frames to be created per video file.\n",
    "      output_size: Pixel size of the output frame image.\n",
    "\n",
    "    Return:\n",
    "      An NumPy array of frames in the shape of (n_frames, height, width, channels).\n",
    "  \"\"\"\n",
    "  # Read each video frame by frame\n",
    "  result = []\n",
    "  src = cv2.VideoCapture(str(video_path))  \n",
    "\n",
    "  video_length = src.get(cv2.CAP_PROP_FRAME_COUNT)\n",
    "\n",
    "  need_length = 1 + (n_frames - 1) * frame_step\n",
    "\n",
    "  if need_length > video_length:\n",
    "    start = 0\n",
    "  else:\n",
    "    max_start = video_length - need_length\n",
    "    start = random.randint(0, max_start + 1)\n",
    "\n",
    "  src.set(cv2.CAP_PROP_POS_FRAMES, start)\n",
    "  # ret is a boolean indicating whether read was successful, frame is the image itself\n",
    "  ret, frame = src.read()\n",
    "  result.append(format_frames(frame, output_size))\n",
    "\n",
    "  for _ in range(n_frames - 1):\n",
    "    for _ in range(frame_step):\n",
    "      ret, frame = src.read()\n",
    "    if ret:\n",
    "      frame = format_frames(frame, output_size)\n",
    "      result.append(frame)\n",
    "    else:\n",
    "      result.append(np.zeros_like(result[0]))\n",
    "  src.release()\n",
    "  result = np.array(result)[..., [2, 1, 0]]\n",
    "\n",
    "  return result"
   ]
  },
  {
   "cell_type": "code",
   "execution_count": null,
   "id": "cb12dbba",
   "metadata": {
    "ExecuteTime": {
     "end_time": "2023-05-22T11:52:25.713285Z",
     "start_time": "2023-05-22T11:52:25.713285Z"
    }
   },
   "outputs": [],
   "source": [
    "def format_frames(frame, output_size):\n",
    "  \"\"\"\n",
    "    Pad and resize an image from a video.\n",
    "\n",
    "    Args:\n",
    "      frame: Image that needs to resized and padded. \n",
    "      output_size: Pixel size of the output frame image.\n",
    "\n",
    "    Return:\n",
    "      Formatted frame with padding of specified output size.\n",
    "  \"\"\"\n",
    "  frame = tf.image.convert_image_dtype(frame, tf.float32)\n",
    "  frame = tf.image.resize_with_pad(frame, *output_size)\n",
    "  return frame"
   ]
  },
  {
   "cell_type": "code",
   "execution_count": null,
   "id": "f4288c71",
   "metadata": {
    "ExecuteTime": {
     "end_time": "2023-05-22T11:52:25.714286Z",
     "start_time": "2023-05-22T11:52:25.714286Z"
    }
   },
   "outputs": [],
   "source": [
    "def add_residual_block(input, filters, kernel_size):\n",
    "  \"\"\"\n",
    "    Add residual blocks to the model. If the last dimensions of the input data\n",
    "    and filter size does not match, project it such that last dimension matches.\n",
    "  \"\"\"\n",
    "  out = ResidualMain(filters, \n",
    "                     kernel_size)(input)\n",
    "\n",
    "  res = input\n",
    "  # Using the Keras functional APIs, project the last dimension of the tensor to\n",
    "  # match the new filter size\n",
    "  if out.shape[-1] != input.shape[-1]:\n",
    "    res = Project(out.shape[-1])(res)\n",
    "\n",
    "  return layers.add([res, out])"
   ]
  },
  {
   "cell_type": "code",
   "execution_count": null,
   "id": "74de1d0b",
   "metadata": {
    "ExecuteTime": {
     "end_time": "2023-05-22T11:52:25.715286Z",
     "start_time": "2023-05-22T11:52:25.715286Z"
    }
   },
   "outputs": [],
   "source": [
    "def plot_history(history):\n",
    "  \"\"\"\n",
    "    Plotting training and validation learning curves.\n",
    "\n",
    "    Args:\n",
    "      history: model history with all the metric measures\n",
    "  \"\"\"\n",
    "  fig, (ax1, ax2) = plt.subplots(2)\n",
    "\n",
    "  fig.set_size_inches(18.5, 10.5)\n",
    "\n",
    "  # Plot loss\n",
    "  ax1.set_title('Loss')\n",
    "  ax1.plot(history.history['loss'], label = 'train')\n",
    "  ax1.plot(history.history['val_loss'], label = 'test')\n",
    "  ax1.set_ylabel('Loss')\n",
    "\n",
    "  # Determine upper bound of y-axis\n",
    "  max_loss = max(history.history['loss'] + history.history['val_loss'])\n",
    "\n",
    "  ax1.set_ylim([0, np.ceil(max_loss)])\n",
    "  ax1.set_xlabel('Epoch')\n",
    "  ax1.legend(['Train', 'Validation']) \n",
    "\n",
    "  # Plot accuracy\n",
    "  ax2.set_title('Accuracy')\n",
    "  ax2.plot(history.history['accuracy'],  label = 'train')\n",
    "  ax2.plot(history.history['val_accuracy'], label = 'test')\n",
    "  ax2.set_ylabel('Accuracy')\n",
    "  ax2.set_ylim([0, 1])\n",
    "  ax2.set_xlabel('Epoch')\n",
    "  ax2.legend(['Train', 'Validation'])\n",
    "\n",
    "  plt.show()"
   ]
  },
  {
   "cell_type": "code",
   "execution_count": 4,
   "id": "5dfde90e",
   "metadata": {
    "ExecuteTime": {
     "end_time": "2023-05-22T11:52:26.111772Z",
     "start_time": "2023-05-22T11:52:26.091912Z"
    }
   },
   "outputs": [],
   "source": [
    "### added model to the input\n",
    "def get_actual_predicted_labels(dataset, model): \n",
    "  \"\"\"\n",
    "    Create a list of actual ground truth values and the predictions from the model.\n",
    "\n",
    "    Args:\n",
    "      dataset: An iterable data structure, such as a TensorFlow Dataset, with features and labels.\n",
    "\n",
    "    Return:\n",
    "      Ground truth and predicted values for a particular dataset.\n",
    "  \"\"\"\n",
    "  actual = [labels for _, labels in dataset.unbatch()]\n",
    "  predicted = model.predict(dataset)\n",
    "\n",
    "  actual = tf.stack(actual, axis=0)\n",
    "  predicted = tf.concat(predicted, axis=0)\n",
    "  predicted = tf.argmax(predicted, axis=1)\n",
    "\n",
    "  return actual, predicted"
   ]
  },
  {
   "cell_type": "code",
   "execution_count": 5,
   "id": "dbd14177",
   "metadata": {
    "ExecuteTime": {
     "end_time": "2023-05-22T11:52:26.285956Z",
     "start_time": "2023-05-22T11:52:26.277956Z"
    }
   },
   "outputs": [],
   "source": [
    "def plot_confusion_matrix(actual, predicted, labels, ds_type):\n",
    "  cm = tf.math.confusion_matrix(actual, predicted)\n",
    "  ax = sns.heatmap(cm, annot=True, fmt='g')\n",
    "  sns.set(rc={'figure.figsize':(12, 12)})\n",
    "  sns.set(font_scale=1.4)\n",
    "  ax.set_title('Confusion matrix of action recognition for ' + ds_type)\n",
    "  ax.set_xlabel('Predicted Action')\n",
    "  ax.set_ylabel('Actual Action')\n",
    "  plt.xticks(rotation=90)\n",
    "  plt.yticks(rotation=0)\n",
    "  ax.xaxis.set_ticklabels(labels)\n",
    "  ax.yaxis.set_ticklabels(labels)"
   ]
  },
  {
   "cell_type": "code",
   "execution_count": 6,
   "id": "a0c81c2b",
   "metadata": {
    "ExecuteTime": {
     "end_time": "2023-05-22T11:52:26.470426Z",
     "start_time": "2023-05-22T11:52:26.461423Z"
    }
   },
   "outputs": [],
   "source": [
    "def calculate_classification_metrics(y_actual, y_pred, labels):\n",
    "  \"\"\"\n",
    "    Calculate the precision and recall of a classification model using the ground truth and\n",
    "    predicted values. \n",
    "\n",
    "    Args:\n",
    "      y_actual: Ground truth labels.\n",
    "      y_pred: Predicted labels.\n",
    "      labels: List of classification labels.\n",
    "\n",
    "    Return:\n",
    "      Precision and recall measures.\n",
    "  \"\"\"\n",
    "  cm = tf.math.confusion_matrix(y_actual, y_pred)\n",
    "  tp = np.diag(cm) # Diagonal represents true positives\n",
    "  precision = dict()\n",
    "  recall = dict()\n",
    "  for i in range(len(labels)):\n",
    "    col = cm[:, i]\n",
    "    fp = np.sum(col) - tp[i] # Sum of column minus true positive is false negative\n",
    "\n",
    "    row = cm[i, :]\n",
    "    fn = np.sum(row) - tp[i] # Sum of row minus true positive, is false negative\n",
    "\n",
    "    precision[labels[i]] = tp[i] / (tp[i] + fp) # Precision \n",
    "\n",
    "    recall[labels[i]] = tp[i] / (tp[i] + fn) # Recall\n",
    "\n",
    "  return precision, recall"
   ]
  },
  {
   "cell_type": "code",
   "execution_count": null,
   "id": "2627a4e6",
   "metadata": {},
   "outputs": [],
   "source": []
  },
  {
   "cell_type": "markdown",
   "id": "4641f1a3",
   "metadata": {},
   "source": [
    "# Data with everything"
   ]
  },
  {
   "cell_type": "markdown",
   "id": "6a673d92",
   "metadata": {},
   "source": [
    "**6 classes:**\n",
    "+ Background\n",
    "+ Intcleaner\n",
    "+ intclient\n",
    "+ TS\n",
    "+ Jolt\n",
    "+ Chase\n",
    "\n",
    "Path: *Sep_Clips*"
   ]
  },
  {
   "cell_type": "code",
   "execution_count": 7,
   "id": "a518853c",
   "metadata": {
    "ExecuteTime": {
     "end_time": "2023-05-22T11:52:27.417828Z",
     "start_time": "2023-05-22T11:52:27.392178Z"
    }
   },
   "outputs": [
    {
     "ename": "NameError",
     "evalue": "name 'tf' is not defined",
     "output_type": "error",
     "traceback": [
      "\u001b[1;31m---------------------------------------------------------------------------\u001b[0m",
      "\u001b[1;31mNameError\u001b[0m                                 Traceback (most recent call last)",
      "Cell \u001b[1;32mIn[7], line 4\u001b[0m\n\u001b[0;32m      1\u001b[0m n_frames \u001b[38;5;241m=\u001b[39m \u001b[38;5;241m10\u001b[39m\n\u001b[0;32m      2\u001b[0m batch_size \u001b[38;5;241m=\u001b[39m \u001b[38;5;241m1\u001b[39m\n\u001b[1;32m----> 4\u001b[0m output_signature \u001b[38;5;241m=\u001b[39m (\u001b[43mtf\u001b[49m\u001b[38;5;241m.\u001b[39mTensorSpec(shape \u001b[38;5;241m=\u001b[39m (\u001b[38;5;28;01mNone\u001b[39;00m, \u001b[38;5;28;01mNone\u001b[39;00m, \u001b[38;5;28;01mNone\u001b[39;00m, \u001b[38;5;241m3\u001b[39m), dtype \u001b[38;5;241m=\u001b[39m tf\u001b[38;5;241m.\u001b[39mfloat32),\n\u001b[0;32m      5\u001b[0m                     tf\u001b[38;5;241m.\u001b[39mTensorSpec(shape \u001b[38;5;241m=\u001b[39m (), dtype \u001b[38;5;241m=\u001b[39m tf\u001b[38;5;241m.\u001b[39mint16))\n",
      "\u001b[1;31mNameError\u001b[0m: name 'tf' is not defined"
     ]
    }
   ],
   "source": [
    "n_frames = 10\n",
    "batch_size = 1\n",
    "\n",
    "output_signature = (tf.TensorSpec(shape = (None, None, None, 3), dtype = tf.float32),\n",
    "                    tf.TensorSpec(shape = (), dtype = tf.int16))"
   ]
  },
  {
   "cell_type": "code",
   "execution_count": 8,
   "id": "e6c5fbe2",
   "metadata": {
    "ExecuteTime": {
     "end_time": "2023-05-22T11:52:27.695866Z",
     "start_time": "2023-05-22T11:52:27.669858Z"
    }
   },
   "outputs": [
    {
     "ename": "NameError",
     "evalue": "name 'tf' is not defined",
     "output_type": "error",
     "traceback": [
      "\u001b[1;31m---------------------------------------------------------------------------\u001b[0m",
      "\u001b[1;31mNameError\u001b[0m                                 Traceback (most recent call last)",
      "Cell \u001b[1;32mIn[8], line 2\u001b[0m\n\u001b[0;32m      1\u001b[0m \u001b[38;5;66;03m# Create the training set\u001b[39;00m\n\u001b[1;32m----> 2\u001b[0m train_ds \u001b[38;5;241m=\u001b[39m \u001b[43mtf\u001b[49m\u001b[38;5;241m.\u001b[39mdata\u001b[38;5;241m.\u001b[39mDataset\u001b[38;5;241m.\u001b[39mfrom_generator(FrameGenerator(Path(\u001b[38;5;124m'\u001b[39m\u001b[38;5;124mSummarys_labels/Sep_Clips/train\u001b[39m\u001b[38;5;124m'\u001b[39m), n_frames, training\u001b[38;5;241m=\u001b[39m\u001b[38;5;28;01mTrue\u001b[39;00m),\n\u001b[0;32m      3\u001b[0m                                           output_signature \u001b[38;5;241m=\u001b[39m output_signature)\n\u001b[0;32m      4\u001b[0m \u001b[38;5;66;03m# Create the validation set\u001b[39;00m\n\u001b[0;32m      5\u001b[0m val_ds \u001b[38;5;241m=\u001b[39m tf\u001b[38;5;241m.\u001b[39mdata\u001b[38;5;241m.\u001b[39mDataset\u001b[38;5;241m.\u001b[39mfrom_generator(FrameGenerator(Path(\u001b[38;5;124m'\u001b[39m\u001b[38;5;124mSummarys_labels/Sep_Clips/val\u001b[39m\u001b[38;5;124m'\u001b[39m), n_frames),\n\u001b[0;32m      6\u001b[0m                                         output_signature \u001b[38;5;241m=\u001b[39m output_signature)\n",
      "\u001b[1;31mNameError\u001b[0m: name 'tf' is not defined"
     ]
    }
   ],
   "source": [
    "# Create the training set\n",
    "train_ds = tf.data.Dataset.from_generator(FrameGenerator(Path('Summarys_labels/Sep_Clips/train'), n_frames, training=True),\n",
    "                                          output_signature = output_signature)\n",
    "# Create the validation set\n",
    "val_ds = tf.data.Dataset.from_generator(FrameGenerator(Path('Summarys_labels/Sep_Clips/val'), n_frames),\n",
    "                                        output_signature = output_signature)\n",
    "# Create the test set\n",
    "test_ds = tf.data.Dataset.from_generator(FrameGenerator(Path('Summarys_labels/Sep_Clips/test'), n_frames),\n",
    "                                         output_signature = output_signature)"
   ]
  },
  {
   "cell_type": "code",
   "execution_count": 66,
   "id": "ba5f89a8",
   "metadata": {
    "ExecuteTime": {
     "end_time": "2023-05-22T11:51:24.832503Z",
     "start_time": "2023-05-22T11:51:24.820146Z"
    }
   },
   "outputs": [],
   "source": [
    "# Batch the data\n",
    "train_ds = train_ds.batch(batch_size)\n",
    "val_ds = val_ds.batch(batch_size)\n",
    "test_ds = test_ds.batch(batch_size)"
   ]
  },
  {
   "cell_type": "code",
   "execution_count": 67,
   "id": "8870a3fd",
   "metadata": {
    "ExecuteTime": {
     "end_time": "2023-05-22T11:51:25.237368Z",
     "start_time": "2023-05-22T11:51:25.220855Z"
    }
   },
   "outputs": [
    {
     "ename": "NameError",
     "evalue": "name 'x' is not defined",
     "output_type": "error",
     "traceback": [
      "\u001b[1;31m---------------------------------------------------------------------------\u001b[0m",
      "\u001b[1;31mNameError\u001b[0m                                 Traceback (most recent call last)",
      "Cell \u001b[1;32mIn[67], line 1\u001b[0m\n\u001b[1;32m----> 1\u001b[0m model \u001b[38;5;241m=\u001b[39m keras\u001b[38;5;241m.\u001b[39mModel(\u001b[38;5;28minput\u001b[39m, \u001b[43mx\u001b[49m)\n",
      "\u001b[1;31mNameError\u001b[0m: name 'x' is not defined"
     ]
    }
   ],
   "source": [
    "model = keras.Model(input, x)"
   ]
  },
  {
   "cell_type": "code",
   "execution_count": 27,
   "id": "b0cfac09",
   "metadata": {
    "ExecuteTime": {
     "end_time": "2023-05-22T11:40:14.221402Z",
     "start_time": "2023-05-22T11:40:11.412194Z"
    }
   },
   "outputs": [
    {
     "ename": "NameError",
     "evalue": "name 'model' is not defined",
     "output_type": "error",
     "traceback": [
      "\u001b[1;31m---------------------------------------------------------------------------\u001b[0m",
      "\u001b[1;31mNameError\u001b[0m                                 Traceback (most recent call last)",
      "Cell \u001b[1;32mIn[27], line 2\u001b[0m\n\u001b[0;32m      1\u001b[0m frames, label \u001b[38;5;241m=\u001b[39m \u001b[38;5;28mnext\u001b[39m(\u001b[38;5;28miter\u001b[39m(train_ds))\n\u001b[1;32m----> 2\u001b[0m \u001b[43mmodel\u001b[49m\u001b[38;5;241m.\u001b[39mbuild(frames)\n",
      "\u001b[1;31mNameError\u001b[0m: name 'model' is not defined"
     ]
    }
   ],
   "source": [
    "frames, label = next(iter(train_ds))\n",
    "model.build(frames)"
   ]
  },
  {
   "cell_type": "code",
   "execution_count": 24,
   "id": "47c7c833",
   "metadata": {
    "ExecuteTime": {
     "end_time": "2023-05-08T00:44:50.739731Z",
     "start_time": "2023-05-08T00:44:50.725792Z"
    }
   },
   "outputs": [
    {
     "name": "stdout",
     "output_type": "stream",
     "text": [
      "You must install pydot (`pip install pydot`) and install graphviz (see instructions at https://graphviz.gitlab.io/download/) for plot_model to work.\n"
     ]
    }
   ],
   "source": [
    "# Visualize the model\n",
    "keras.utils.plot_model(model, expand_nested=True, dpi=60, show_shapes=True)"
   ]
  },
  {
   "cell_type": "code",
   "execution_count": 25,
   "id": "918a2a82",
   "metadata": {
    "ExecuteTime": {
     "end_time": "2023-05-08T00:44:50.770674Z",
     "start_time": "2023-05-08T00:44:50.741730Z"
    }
   },
   "outputs": [],
   "source": [
    "model.compile(loss = keras.losses.SparseCategoricalCrossentropy(from_logits=True), \n",
    "              optimizer = keras.optimizers.Adam(learning_rate = 0.0001), \n",
    "              metrics = ['accuracy'])"
   ]
  },
  {
   "cell_type": "code",
   "execution_count": 26,
   "id": "5183f650",
   "metadata": {
    "ExecuteTime": {
     "end_time": "2023-05-08T03:59:43.093201Z",
     "start_time": "2023-05-08T00:44:50.772676Z"
    },
    "scrolled": true
   },
   "outputs": [
    {
     "name": "stdout",
     "output_type": "stream",
     "text": [
      "Epoch 1/50\n",
      "117/117 [==============================] - 242s 2s/step - loss: 1.7395 - accuracy: 0.4359 - val_loss: 1.8902 - val_accuracy: 0.2045\n",
      "Epoch 2/50\n",
      "117/117 [==============================] - 234s 2s/step - loss: 1.4520 - accuracy: 0.3846 - val_loss: 1.6168 - val_accuracy: 0.3409\n",
      "Epoch 3/50\n",
      "117/117 [==============================] - 234s 2s/step - loss: 1.3896 - accuracy: 0.4701 - val_loss: 1.8056 - val_accuracy: 0.3409\n",
      "Epoch 4/50\n",
      "117/117 [==============================] - 234s 2s/step - loss: 1.4349 - accuracy: 0.3761 - val_loss: 1.4758 - val_accuracy: 0.3409\n",
      "Epoch 5/50\n",
      "117/117 [==============================] - 234s 2s/step - loss: 1.3494 - accuracy: 0.4017 - val_loss: 1.6323 - val_accuracy: 0.3409\n",
      "Epoch 6/50\n",
      "117/117 [==============================] - 234s 2s/step - loss: 1.3248 - accuracy: 0.4188 - val_loss: 1.9589 - val_accuracy: 0.3409\n",
      "Epoch 7/50\n",
      "117/117 [==============================] - 234s 2s/step - loss: 1.3312 - accuracy: 0.4359 - val_loss: 1.9257 - val_accuracy: 0.3409\n",
      "Epoch 8/50\n",
      "117/117 [==============================] - 234s 2s/step - loss: 1.3658 - accuracy: 0.3675 - val_loss: 1.6522 - val_accuracy: 0.3409\n",
      "Epoch 9/50\n",
      "117/117 [==============================] - 234s 2s/step - loss: 1.2993 - accuracy: 0.3846 - val_loss: 1.9561 - val_accuracy: 0.3409\n",
      "Epoch 10/50\n",
      "117/117 [==============================] - 234s 2s/step - loss: 1.2612 - accuracy: 0.4017 - val_loss: 1.6890 - val_accuracy: 0.3409\n",
      "Epoch 11/50\n",
      "117/117 [==============================] - 234s 2s/step - loss: 1.2793 - accuracy: 0.4103 - val_loss: 1.6637 - val_accuracy: 0.3409\n",
      "Epoch 12/50\n",
      "117/117 [==============================] - 234s 2s/step - loss: 1.2844 - accuracy: 0.4530 - val_loss: 1.6509 - val_accuracy: 0.3409\n",
      "Epoch 13/50\n",
      "117/117 [==============================] - 234s 2s/step - loss: 1.2593 - accuracy: 0.4615 - val_loss: 1.6128 - val_accuracy: 0.3409\n",
      "Epoch 14/50\n",
      "117/117 [==============================] - 234s 2s/step - loss: 1.2918 - accuracy: 0.4530 - val_loss: 1.6902 - val_accuracy: 0.3409\n",
      "Epoch 15/50\n",
      "117/117 [==============================] - 234s 2s/step - loss: 1.2424 - accuracy: 0.4701 - val_loss: 1.7868 - val_accuracy: 0.5227\n",
      "Epoch 16/50\n",
      "117/117 [==============================] - 234s 2s/step - loss: 1.2887 - accuracy: 0.4444 - val_loss: 1.8019 - val_accuracy: 0.3409\n",
      "Epoch 17/50\n",
      "117/117 [==============================] - 234s 2s/step - loss: 1.2497 - accuracy: 0.4444 - val_loss: 2.0539 - val_accuracy: 0.3409\n",
      "Epoch 18/50\n",
      "117/117 [==============================] - 234s 2s/step - loss: 1.3467 - accuracy: 0.2991 - val_loss: 1.7583 - val_accuracy: 0.5227\n",
      "Epoch 19/50\n",
      "117/117 [==============================] - 234s 2s/step - loss: 1.2376 - accuracy: 0.4872 - val_loss: 2.0464 - val_accuracy: 0.3409\n",
      "Epoch 20/50\n",
      "117/117 [==============================] - 234s 2s/step - loss: 1.2912 - accuracy: 0.4017 - val_loss: 1.8459 - val_accuracy: 0.3409\n",
      "Epoch 21/50\n",
      "117/117 [==============================] - 234s 2s/step - loss: 1.2199 - accuracy: 0.4615 - val_loss: 1.7957 - val_accuracy: 0.3409\n",
      "Epoch 22/50\n",
      "117/117 [==============================] - 234s 2s/step - loss: 1.2474 - accuracy: 0.3846 - val_loss: 1.8586 - val_accuracy: 0.3409\n",
      "Epoch 23/50\n",
      "117/117 [==============================] - 234s 2s/step - loss: 1.2597 - accuracy: 0.3590 - val_loss: 1.8020 - val_accuracy: 0.3409\n",
      "Epoch 24/50\n",
      "117/117 [==============================] - 234s 2s/step - loss: 1.2354 - accuracy: 0.4274 - val_loss: 2.0058 - val_accuracy: 0.3409\n",
      "Epoch 25/50\n",
      "117/117 [==============================] - 234s 2s/step - loss: 1.2413 - accuracy: 0.4530 - val_loss: 1.7788 - val_accuracy: 0.3409\n",
      "Epoch 26/50\n",
      "117/117 [==============================] - 234s 2s/step - loss: 1.2584 - accuracy: 0.3846 - val_loss: 1.8106 - val_accuracy: 0.3409\n",
      "Epoch 27/50\n",
      "117/117 [==============================] - 233s 2s/step - loss: 1.2364 - accuracy: 0.3846 - val_loss: 1.9290 - val_accuracy: 0.3409\n",
      "Epoch 28/50\n",
      "117/117 [==============================] - 233s 2s/step - loss: 1.2299 - accuracy: 0.4274 - val_loss: 1.9027 - val_accuracy: 0.3409\n",
      "Epoch 29/50\n",
      "117/117 [==============================] - 233s 2s/step - loss: 1.2459 - accuracy: 0.4188 - val_loss: 1.8780 - val_accuracy: 0.3409\n",
      "Epoch 30/50\n",
      "117/117 [==============================] - 233s 2s/step - loss: 1.2310 - accuracy: 0.4530 - val_loss: 1.9139 - val_accuracy: 0.3409\n",
      "Epoch 31/50\n",
      "117/117 [==============================] - 233s 2s/step - loss: 1.2301 - accuracy: 0.4701 - val_loss: 1.9061 - val_accuracy: 0.3409\n",
      "Epoch 32/50\n",
      "117/117 [==============================] - 233s 2s/step - loss: 1.2324 - accuracy: 0.3590 - val_loss: 1.9463 - val_accuracy: 0.3409\n",
      "Epoch 33/50\n",
      "117/117 [==============================] - 233s 2s/step - loss: 1.2493 - accuracy: 0.3846 - val_loss: 1.9446 - val_accuracy: 0.3409\n",
      "Epoch 34/50\n",
      "117/117 [==============================] - 233s 2s/step - loss: 1.2288 - accuracy: 0.4103 - val_loss: 2.0256 - val_accuracy: 0.3409\n",
      "Epoch 35/50\n",
      "117/117 [==============================] - 233s 2s/step - loss: 1.2379 - accuracy: 0.3761 - val_loss: 1.9116 - val_accuracy: 0.3409\n",
      "Epoch 36/50\n",
      "117/117 [==============================] - 233s 2s/step - loss: 1.2388 - accuracy: 0.4103 - val_loss: 1.8674 - val_accuracy: 0.3409\n",
      "Epoch 37/50\n",
      "117/117 [==============================] - 233s 2s/step - loss: 1.2318 - accuracy: 0.4359 - val_loss: 1.9093 - val_accuracy: 0.3409\n",
      "Epoch 38/50\n",
      "117/117 [==============================] - 234s 2s/step - loss: 1.2224 - accuracy: 0.3846 - val_loss: 1.9935 - val_accuracy: 0.3409\n",
      "Epoch 39/50\n",
      "117/117 [==============================] - 234s 2s/step - loss: 1.2494 - accuracy: 0.4103 - val_loss: 1.9067 - val_accuracy: 0.3409\n",
      "Epoch 40/50\n",
      "117/117 [==============================] - 233s 2s/step - loss: 1.2284 - accuracy: 0.4188 - val_loss: 1.8923 - val_accuracy: 0.3409\n",
      "Epoch 41/50\n",
      "117/117 [==============================] - 233s 2s/step - loss: 1.2398 - accuracy: 0.3932 - val_loss: 1.9553 - val_accuracy: 0.3409\n",
      "Epoch 42/50\n",
      "117/117 [==============================] - 233s 2s/step - loss: 1.2100 - accuracy: 0.4103 - val_loss: 2.0548 - val_accuracy: 0.3409\n",
      "Epoch 43/50\n",
      "117/117 [==============================] - 233s 2s/step - loss: 1.2399 - accuracy: 0.4615 - val_loss: 1.9826 - val_accuracy: 0.3409\n",
      "Epoch 44/50\n",
      "117/117 [==============================] - 234s 2s/step - loss: 1.2127 - accuracy: 0.4530 - val_loss: 1.9544 - val_accuracy: 0.3409\n",
      "Epoch 45/50\n",
      "117/117 [==============================] - 233s 2s/step - loss: 1.2233 - accuracy: 0.4188 - val_loss: 2.0639 - val_accuracy: 0.3409\n",
      "Epoch 46/50\n",
      "117/117 [==============================] - 234s 2s/step - loss: 1.2404 - accuracy: 0.3675 - val_loss: 1.9538 - val_accuracy: 0.3409\n",
      "Epoch 47/50\n",
      "117/117 [==============================] - 233s 2s/step - loss: 1.2163 - accuracy: 0.4188 - val_loss: 1.8925 - val_accuracy: 0.3409\n",
      "Epoch 48/50\n",
      "117/117 [==============================] - 233s 2s/step - loss: 1.2285 - accuracy: 0.4103 - val_loss: 1.9578 - val_accuracy: 0.3409\n",
      "Epoch 49/50\n",
      "117/117 [==============================] - 233s 2s/step - loss: 1.2612 - accuracy: 0.3846 - val_loss: 2.1491 - val_accuracy: 0.3409\n",
      "Epoch 50/50\n",
      "117/117 [==============================] - 233s 2s/step - loss: 1.2301 - accuracy: 0.4444 - val_loss: 1.9704 - val_accuracy: 0.3409\n"
     ]
    }
   ],
   "source": [
    "history = model.fit(x = train_ds, epochs = 50, validation_data = val_ds)"
   ]
  },
  {
   "cell_type": "code",
   "execution_count": 27,
   "id": "b1030e7c",
   "metadata": {
    "ExecuteTime": {
     "end_time": "2023-05-08T03:59:43.416637Z",
     "start_time": "2023-05-08T03:59:43.093201Z"
    }
   },
   "outputs": [
    {
     "data": {
      "image/png": "[encoded data removed]",
      "text/plain": [
       "<Figure size 1850x1050 with 2 Axes>"
      ]
     },
     "metadata": {},
     "output_type": "display_data"
    }
   ],
   "source": [
    "plot_history(history)"
   ]
  },
  {
   "cell_type": "code",
   "execution_count": 28,
   "id": "6b26715c",
   "metadata": {
    "ExecuteTime": {
     "end_time": "2023-05-08T04:00:18.397683Z",
     "start_time": "2023-05-08T03:59:43.417674Z"
    }
   },
   "outputs": [
    {
     "name": "stdout",
     "output_type": "stream",
     "text": [
      "38/38 [==============================] - 35s 905ms/step - loss: 2.6353 - accuracy: 0.0000e+00\n"
     ]
    },
    {
     "data": {
      "text/plain": [
       "{'loss': 2.6353373527526855, 'accuracy': 0.0}"
      ]
     },
     "execution_count": 28,
     "metadata": {},
     "output_type": "execute_result"
    }
   ],
   "source": [
    "model.evaluate(test_ds, return_dict=True)"
   ]
  },
  {
   "cell_type": "code",
   "execution_count": 29,
   "id": "103238f2",
   "metadata": {
    "ExecuteTime": {
     "end_time": "2023-05-08T04:00:18.416811Z",
     "start_time": "2023-05-08T04:00:18.397683Z"
    }
   },
   "outputs": [],
   "source": [
    "fg = FrameGenerator(Path('Summarys_labels/Sep_Clips/train'), n_frames, training=True)\n",
    "labels = list(fg.class_ids_for_name.keys())"
   ]
  },
  {
   "cell_type": "code",
   "execution_count": 30,
   "id": "a70d11e3",
   "metadata": {
    "ExecuteTime": {
     "end_time": "2023-05-08T04:04:12.003083Z",
     "start_time": "2023-05-08T04:00:18.418817Z"
    }
   },
   "outputs": [
    {
     "name": "stdout",
     "output_type": "stream",
     "text": [
      "117/117 [==============================] - 124s 1s/step\n"
     ]
    },
    {
     "data": {
      "image/png": "[encoded data removed]",
      "text/plain": [
       "<Figure size 640x480 with 2 Axes>"
      ]
     },
     "metadata": {},
     "output_type": "display_data"
    }
   ],
   "source": [
    "actual, predicted = get_actual_predicted_labels(train_ds, model)\n",
    "plot_confusion_matrix(actual, predicted, labels, 'training')"
   ]
  },
  {
   "cell_type": "code",
   "execution_count": 31,
   "id": "4448e33c",
   "metadata": {
    "ExecuteTime": {
     "end_time": "2023-05-08T04:05:17.329937Z",
     "start_time": "2023-05-08T04:04:12.004084Z"
    },
    "scrolled": false
   },
   "outputs": [
    {
     "name": "stdout",
     "output_type": "stream",
     "text": [
      "38/38 [==============================] - 35s 904ms/step\n"
     ]
    },
    {
     "data": {
      "image/png": "[encoded data removed]",
      "text/plain": [
       "<Figure size 1200x1200 with 2 Axes>"
      ]
     },
     "metadata": {},
     "output_type": "display_data"
    }
   ],
   "source": [
    "actual, predicted = get_actual_predicted_labels(test_ds, model)\n",
    "plot_confusion_matrix(actual, predicted, labels, 'test')"
   ]
  },
  {
   "cell_type": "code",
   "execution_count": 32,
   "id": "300f69f2",
   "metadata": {
    "ExecuteTime": {
     "end_time": "2023-05-08T04:05:17.346985Z",
     "start_time": "2023-05-08T04:05:17.332192Z"
    },
    "scrolled": true
   },
   "outputs": [
    {
     "name": "stderr",
     "output_type": "stream",
     "text": [
      "C:\\Users\\BEE Team\\AppData\\Local\\Temp\\ipykernel_13864\\3092751621.py:25: RuntimeWarning: invalid value encountered in long_scalars\n",
      "  precision[labels[i]] = tp[i] / (tp[i] + fp) # Precision\n",
      "C:\\Users\\BEE Team\\AppData\\Local\\Temp\\ipykernel_13864\\3092751621.py:27: RuntimeWarning: invalid value encountered in long_scalars\n",
      "  recall[labels[i]] = tp[i] / (tp[i] + fn) # Recall\n"
     ]
    }
   ],
   "source": [
    "precision, recall = calculate_classification_metrics(actual, predicted, labels) # Test dataset"
   ]
  },
  {
   "cell_type": "code",
   "execution_count": 33,
   "id": "eb497103",
   "metadata": {
    "ExecuteTime": {
     "end_time": "2023-05-08T04:05:17.360228Z",
     "start_time": "2023-05-08T04:05:17.349990Z"
    },
    "scrolled": true
   },
   "outputs": [
    {
     "data": {
      "text/plain": [
       "{'IntCleaner': nan,\n",
       " 'IntClient': nan,\n",
       " 'Jolt': nan,\n",
       " 'Run': nan,\n",
       " 'TS': nan,\n",
       " 'background': 0.0}"
      ]
     },
     "execution_count": 33,
     "metadata": {},
     "output_type": "execute_result"
    }
   ],
   "source": [
    "precision"
   ]
  },
  {
   "cell_type": "code",
   "execution_count": 34,
   "id": "e2622835",
   "metadata": {
    "ExecuteTime": {
     "end_time": "2023-05-08T04:05:17.375661Z",
     "start_time": "2023-05-08T04:05:17.360228Z"
    },
    "scrolled": true
   },
   "outputs": [
    {
     "data": {
      "text/plain": [
       "{'IntCleaner': 0.0,\n",
       " 'IntClient': 0.0,\n",
       " 'Jolt': 0.0,\n",
       " 'Run': 0.0,\n",
       " 'TS': 0.0,\n",
       " 'background': nan}"
      ]
     },
     "execution_count": 34,
     "metadata": {},
     "output_type": "execute_result"
    }
   ],
   "source": [
    "recall"
   ]
  },
  {
   "cell_type": "code",
   "execution_count": null,
   "id": "3f873bc7",
   "metadata": {},
   "outputs": [],
   "source": [
    "# Data with everything\n",
    "\n",
    "**6 classes:**\n",
    "+ Background\n",
    "+ Intcleaner\n",
    "+ intclient\n",
    "+ TS\n",
    "+ Jolt\n",
    "+ Chase\n",
    "\n",
    "Path: *Sep_Clips*\n",
    "\n",
    "n_frames = 10\n",
    "batch_size = 1\n",
    "\n",
    "output_signature = (tf.TensorSpec(shape = (None, None, None, 3), dtype = tf.float32),\n",
    "                    tf.TensorSpec(shape = (), dtype = tf.int16))\n",
    "\n",
    "# Create the training set\n",
    "train_ds = tf.data.Dataset.from_generator(FrameGenerator(Path('Summarys_labels/Sep_Clips/train'), n_frames, training=True),\n",
    "                                          output_signature = output_signature)\n",
    "# Create the validation set\n",
    "val_ds = tf.data.Dataset.from_generator(FrameGenerator(Path('Summarys_labels/Sep_Clips/val'), n_frames),\n",
    "                                        output_signature = output_signature)\n",
    "# Create the test set\n",
    "test_ds = tf.data.Dataset.from_generator(FrameGenerator(Path('Summarys_labels/Sep_Clips/test'), n_frames),\n",
    "                                         output_signature = output_signature)\n",
    "\n",
    "# Batch the data\n",
    "train_ds = train_ds.batch(batch_size)\n",
    "val_ds = val_ds.batch(batch_size)\n",
    "test_ds = test_ds.batch(batch_size)\n",
    "\n",
    "model = keras.Model(input, x)\n",
    "\n",
    "frames, label = next(iter(train_ds))\n",
    "model.build(frames)\n",
    "\n",
    "# Visualize the model\n",
    "keras.utils.plot_model(model, expand_nested=True, dpi=60, show_shapes=True)\n",
    "\n",
    "model.compile(loss = keras.losses.SparseCategoricalCrossentropy(from_logits=True), \n",
    "              optimizer = keras.optimizers.Adam(learning_rate = 0.0001), \n",
    "              metrics = ['accuracy'])\n",
    "\n",
    "history = model.fit(x = train_ds, epochs = 50, validation_data = val_ds)\n",
    "\n",
    "plot_history(history)\n",
    "\n",
    "model.evaluate(test_ds, return_dict=True)\n",
    "\n",
    "fg = FrameGenerator(Path('Summarys_labels/Sep_Clips/train'), n_frames, training=True)\n",
    "labels = list(fg.class_ids_for_name.keys())\n",
    "\n",
    "actual, predicted = get_actual_predicted_labels(train_ds, model)\n",
    "plot_confusion_matrix(actual, predicted, labels, 'training')\n",
    "\n",
    "actual, predicted = get_actual_predicted_labels(test_ds, model)\n",
    "plot_confusion_matrix(actual, predicted, labels, 'test')\n",
    "\n",
    "precision, recall = calculate_classification_metrics(actual, predicted, labels) # Test dataset\n",
    "\n",
    "precision\n",
    "\n",
    "recall"
   ]
  }
 ],
 "metadata": {
  "kernelspec": {
   "display_name": "Python 3 (ipykernel)",
   "language": "python",
   "name": "python3"
  },
  "language_info": {
   "codemirror_mode": {
    "name": "ipython",
    "version": 3
   },
   "file_extension": ".py",
   "mimetype": "text/x-python",
   "name": "python",
   "nbconvert_exporter": "python",
   "pygments_lexer": "ipython3",
   "version": "3.9.16"
  },
  "toc": {
   "base_numbering": 1,
   "nav_menu": {},
   "number_sections": true,
   "sideBar": true,
   "skip_h1_title": false,
   "title_cell": "Table of Contents",
   "title_sidebar": "Contents",
   "toc_cell": false,
   "toc_position": {
    "height": "calc(100% - 180px)",
    "left": "10px",
    "top": "150px",
    "width": "373px"
   },
   "toc_section_display": true,
   "toc_window_display": true
  }
 },
 "nbformat": 4,
 "nbformat_minor": 5
}
