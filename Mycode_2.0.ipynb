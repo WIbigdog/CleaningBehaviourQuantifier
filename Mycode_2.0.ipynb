{
 "cells": [
  {
   "cell_type": "code",
   "execution_count": 112,
   "id": "13725c69",
   "metadata": {},
   "outputs": [],
   "source": [
    "import tqdm\n",
    "import random\n",
    "import pathlib\n",
    "import itertools\n",
    "import collections\n",
    "import keras\n",
    "\n",
    "import glob\n",
    "import pandas as pd\n",
    "import os\n",
    "import cv2\n",
    "import numpy as np\n",
    "import remotezip as rz\n",
    "import einops\n",
    "import random\n",
    "import shutil\n",
    "\n",
    "import tensorflow as tf\n",
    "\n",
    "from pathlib import Path\n",
    "\n",
    "# Some modules to display an animation using imageio.\n",
    "import imageio\n",
    "from IPython import display\n",
    "from urllib import request\n",
    "from tensorflow_docs.vis import embed\n",
    "from keras import layers\n",
    "import matplotlib.pyplot as plt"
   ]
  },
  {
   "cell_type": "code",
   "execution_count": 1,
   "id": "2cca6777",
   "metadata": {},
   "outputs": [],
   "source": [
    "#########################\n",
    "#########################\n",
    "#########################"
   ]
  },
  {
   "cell_type": "markdown",
   "id": "e8bd5cd6",
   "metadata": {},
   "source": [
    "# Data Preprocessing"
   ]
  },
  {
   "cell_type": "code",
   "execution_count": 276,
   "id": "09d7c936",
   "metadata": {},
   "outputs": [],
   "source": [
    "# Create a directory to store all the clips\n",
    "clips_dir = r\"C:\\Users\\BEE Team\\Desktop\\code\\Summarys_labels\\All_Clips\"\n",
    "os.makedirs(clips_dir, exist_ok=True)\n",
    "\n",
    "# Loop through all the CSV files\n",
    "csv_dir = r'C:\\Users\\BEE Team\\Desktop\\code\\Summarys_labels'\n",
    "csv_files = [f for f in os.listdir(csv_dir) if f.endswith('.csv')]\n",
    "csv_files = csv_files[1:]\n",
    "\n",
    "\n",
    "# Loop through all the CSV files\n",
    "for csv_file in csv_files:\n",
    "    if csv_file.endswith('.csv'):\n",
    "        # Read the CSV file\n",
    "        df = pd.read_csv(os.path.join(csv_dir, csv_file))\n",
    "\n",
    "        # Directory of videos\n",
    "        video_dir = r'C:\\Users\\BEE Team\\Desktop\\Videos\\Daniele_Vids_Lab\\LD\\Yellow'\n",
    "        df['Video_path'] = df['file'].apply(lambda x: os.path.join(video_dir, x.split('_labels')[0] + '.mp4'))\n",
    "\n",
    "        # Create a directory to store the clips for this csv file\n",
    "        csv_clips_dir = os.path.join(clips_dir, os.path.splitext(csv_file.split('_')[2])[0])\n",
    "        os.makedirs(csv_clips_dir, exist_ok=True)\n",
    "\n",
    "        # Extract video clips from each row of the dataframe and save them to a file\n",
    "        for index, row in df.iterrows():\n",
    "            video_path = row['Video_path']\n",
    "            start_frame = row['start_frame']\n",
    "            end_frame = row['end_frame']\n",
    "            classification = row['classification']\n",
    "            \n",
    "            video = cv2.VideoCapture(video_path)\n",
    "            video.set(cv2.CAP_PROP_POS_FRAMES, start_frame)\n",
    "            clip_frames = []\n",
    "            for i in range(start_frame, end_frame):\n",
    "                ret, frame = video.read()\n",
    "                if ret:\n",
    "                    clip_frames.append(frame)\n",
    "                else:\n",
    "                    break\n",
    "            \n",
    "\n",
    "            duration = len(clip_frames)\n",
    "\n",
    "            if duration > 120:  # if duration is more than 2 seconds (assuming 60 fps)\n",
    "                num_clips = int(duration / 120)  # split into 120-frame clips\n",
    "                for i in range(num_clips + 1):\n",
    "                    start_idx = i * 120\n",
    "                    end_idx = min(start_idx + 120, duration)\n",
    "                    subclip_frames = clip_frames[start_idx:end_idx]\n",
    "                    subclip_path = os.path.join(csv_clips_dir, f'{classification}_{index}_{i}.mp4')\n",
    "                    subclip = cv2.VideoWriter(subclip_path, cv2.VideoWriter_fourcc(*'XVID'), 60, (frame.shape[1], frame.shape[0]))\n",
    "                    for frame in subclip_frames:\n",
    "                        subclip.write(frame)\n",
    "                    subclip.release()\n",
    "\n",
    "\n",
    "\n",
    "            else:  # if duration is less than or equal to 2 seconds\n",
    "                clip_path = os.path.join(csv_clips_dir, f'{classification}_{index}.mp4')\n",
    "                clip = cv2.VideoWriter(clip_path, cv2.VideoWriter_fourcc(*'XVID'), 60, (frame.shape[1], frame.shape[0]))\n",
    "                for frame in clip_frames:\n",
    "                    clip.write(frame)\n",
    "                clip.release()\n",
    "\n",
    "            \n",
    "            "
   ]
  },
  {
   "cell_type": "code",
   "execution_count": 278,
   "id": "e90250aa",
   "metadata": {},
   "outputs": [],
   "source": [
    "# set the root directory of your videos\n",
    "root_dir = r\"C:\\Users\\BEE Team\\Desktop\\code\\Summarys_labelsAll_Clips\"\n",
    "\n",
    "# set the directories where you want to move the videos to\n",
    "train_dir = r\"C:\\Users\\BEE Team\\Desktop\\code\\Summarys_labelsSep_Clips\\train\"\n",
    "test_dir = r\"C:\\Users\\BEE Team\\Desktop\\code\\Summarys_labelsSep_Clips\\test\"\n",
    "val_dir = r\"C:\\Users\\BEE Team\\Desktop\\code\\Summarys_labelsSep_Clips\\val\"\n",
    "\n",
    "\n",
    "# set the split ratios\n",
    "train_ratio = 0.6\n",
    "test_ratio = 0.2\n",
    "val_ratio = 0.2\n",
    "\n",
    "# loop through all the subdirectories in the root directory\n",
    "for subdir in os.listdir(root_dir):\n",
    "    \n",
    "    # check if the subdirectory is a directory\n",
    "    if os.path.isdir(os.path.join(root_dir, subdir)):\n",
    "        \n",
    "        # get the list of videos in the subdirectory\n",
    "        video_list = [f for f in os.listdir(os.path.join(root_dir, subdir)) if f.endswith(\".mp4\")]\n",
    "        \n",
    "        # calculate the number of videos in each split\n",
    "        num_videos = len(video_list)\n",
    "        num_train = int(0.6 * num_videos)\n",
    "        num_test = int(0.2 * num_videos)\n",
    "        num_val = num_videos - num_train - num_test\n",
    "        \n",
    "        # shuffle the video list\n",
    "        random.shuffle(video_list)\n",
    "        \n",
    "        # move the videos to the appropriate split directory\n",
    "        for i, video in enumerate(video_list):\n",
    "            \n",
    "            if i < num_train:\n",
    "                dest_dir = os.path.join(train_dir, video.split(\"_\")[0])\n",
    "            elif i < num_train + num_test:\n",
    "                dest_dir = os.path.join(test_dir, video.split(\"_\")[0])\n",
    "            else:\n",
    "                dest_dir = os.path.join(val_dir, video.split(\"_\")[0])\n",
    "            \n",
    "            os.makedirs(dest_dir, exist_ok=True)\n",
    "            src_file = os.path.join(root_dir, subdir, video)\n",
    "            dest_file = os.path.join(dest_dir, video)\n",
    "            shutil.move(src_file, dest_file)"
   ]
  },
  {
   "cell_type": "code",
   "execution_count": 275,
   "id": "cac8876d",
   "metadata": {},
   "outputs": [],
   "source": [
    "# Run only to delete folders\n",
    "\n",
    "#shutil.rmtree(r\"C:\\Users\\BEE Team\\Desktop\\code\\Summarys_labels\\All_Clips\")"
   ]
  },
  {
   "cell_type": "code",
   "execution_count": 180,
   "id": "75518631",
   "metadata": {},
   "outputs": [],
   "source": [
    "########\n",
    "########\n",
    "########"
   ]
  },
  {
   "cell_type": "markdown",
   "id": "cc0df712",
   "metadata": {},
   "source": [
    "# Classifcation"
   ]
  },
  {
   "cell_type": "code",
   "execution_count": 343,
   "id": "5e912e5b",
   "metadata": {},
   "outputs": [],
   "source": [
    "def format_frames(frame, output_size):\n",
    "  \"\"\"\n",
    "    Pad and resize an image from a video.\n",
    "\n",
    "    Args:\n",
    "      frame: Image that needs to resized and padded. \n",
    "      output_size: Pixel size of the output frame image.\n",
    "\n",
    "    Return:\n",
    "      Formatted frame with padding of specified output size.\n",
    "  \"\"\"\n",
    "  frame = tf.image.convert_image_dtype(frame, tf.float32)\n",
    "  frame = tf.image.resize_with_pad(frame, *output_size)\n",
    "  return frame"
   ]
  },
  {
   "cell_type": "code",
   "execution_count": 344,
   "id": "d7e9371c",
   "metadata": {},
   "outputs": [],
   "source": [
    "def frames_from_video_file(video_path, n_frames, output_size = (224,224), frame_step = 15):\n",
    "  \"\"\"\n",
    "    Creates frames from each video file present for each category.\n",
    "\n",
    "    Args:\n",
    "      video_path: File path to the video.\n",
    "      n_frames: Number of frames to be created per video file.\n",
    "      output_size: Pixel size of the output frame image.\n",
    "\n",
    "    Return:\n",
    "      An NumPy array of frames in the shape of (n_frames, height, width, channels).\n",
    "  \"\"\"\n",
    "  # Read each video frame by frame\n",
    "  result = []\n",
    "  src = cv2.VideoCapture(str(video_path))  \n",
    "\n",
    "  video_length = src.get(cv2.CAP_PROP_FRAME_COUNT)\n",
    "\n",
    "  need_length = 1 + (n_frames - 1) * frame_step\n",
    "\n",
    "  if need_length > video_length:\n",
    "    start = 0\n",
    "  else:\n",
    "    max_start = video_length - need_length\n",
    "    start = random.randint(0, max_start + 1)\n",
    "\n",
    "  src.set(cv2.CAP_PROP_POS_FRAMES, start)\n",
    "  # ret is a boolean indicating whether read was successful, frame is the image itself\n",
    "  ret, frame = src.read()\n",
    "  result.append(format_frames(frame, output_size))\n",
    "\n",
    "  for _ in range(n_frames - 1):\n",
    "    for _ in range(frame_step):\n",
    "      ret, frame = src.read()\n",
    "    if ret:\n",
    "      frame = format_frames(frame, output_size)\n",
    "      result.append(frame)\n",
    "    else:\n",
    "      result.append(np.zeros_like(result[0]))\n",
    "  src.release()\n",
    "  result = np.array(result)[..., [2, 1, 0]]\n",
    "\n",
    "  return result"
   ]
  },
  {
   "cell_type": "code",
   "execution_count": 345,
   "id": "1973997d",
   "metadata": {},
   "outputs": [
    {
     "data": {
      "text/plain": [
       "'C:\\\\Users\\\\BEE Team\\\\Desktop\\\\code'"
      ]
     },
     "execution_count": 345,
     "metadata": {},
     "output_type": "execute_result"
    }
   ],
   "source": [
    "os.getcwd()"
   ]
  },
  {
   "cell_type": "code",
   "execution_count": 346,
   "id": "c3092e6b",
   "metadata": {
    "scrolled": true
   },
   "outputs": [
    {
     "data": {
      "text/plain": [
       "(10, 224, 224, 3)"
      ]
     },
     "execution_count": 346,
     "metadata": {},
     "output_type": "execute_result"
    }
   ],
   "source": [
    "video_path = r\"Summarys_labels\\Sep_Clips\\val\\IntCleaner\\IntCleaner_9.mp4\"\n",
    "sample_video = frames_from_video_file(video_path, n_frames = 10)\n",
    "sample_video.shape"
   ]
  },
  {
   "cell_type": "code",
   "execution_count": 347,
   "id": "f4410e87",
   "metadata": {},
   "outputs": [],
   "source": [
    "def to_gif(images):\n",
    "  converted_images = np.clip(images * 255, 0, 255).astype(np.uint8)\n",
    "  imageio.mimsave('./animation.gif', converted_images, fps=10)\n",
    "  return embed.embed_file('./animation.gif')"
   ]
  },
  {
   "cell_type": "code",
   "execution_count": 348,
   "id": "e671c2f1",
   "metadata": {},
   "outputs": [],
   "source": [
    "#to_gif(sample_video)"
   ]
  },
  {
   "cell_type": "code",
   "execution_count": 349,
   "id": "61cef584",
   "metadata": {},
   "outputs": [],
   "source": [
    "video_dir = r'Summarys_labels\\Sep_Clips\\train\\IntCleaner'\n",
    "\n",
    "# get a list of all the video files in the directory\n",
    "video_files = glob.glob(os.path.join(video_dir, '*.mp4'))\n",
    "\n",
    "# select the first video file in the list\n",
    "video_path = video_files[0]\n",
    "\n",
    "# extract 50 frames from the selected video file\n",
    "sample_videos = frames_from_video_file(video_path, 50)\n",
    "#to_gif(sample_videos)"
   ]
  },
  {
   "cell_type": "code",
   "execution_count": 350,
   "id": "9a9665df",
   "metadata": {},
   "outputs": [],
   "source": [
    "class FrameGenerator:\n",
    "  def __init__(self, path, n_frames, training = False):\n",
    "    \"\"\" Returns a set of frames with their associated label. \n",
    "\n",
    "      Args:\n",
    "        path: Video file paths.\n",
    "        n_frames: Number of frames. \n",
    "        training: Boolean to determine if training dataset is being created.\n",
    "    \"\"\"\n",
    "    self.path = path\n",
    "    self.n_frames = n_frames\n",
    "    self.training = training\n",
    "    self.class_names = sorted(set(p.name for p in self.path.iterdir() if p.is_dir()))\n",
    "    self.class_ids_for_name = dict((name, idx) for idx, name in enumerate(self.class_names))\n",
    "\n",
    "  def get_files_and_class_names(self):\n",
    "    video_paths = list(self.path.glob('*/*.mp4'))\n",
    "    classes = [p.parent.name for p in video_paths] \n",
    "    return video_paths, classes\n",
    "\n",
    "  def __call__(self):\n",
    "    video_paths, classes = self.get_files_and_class_names()\n",
    "\n",
    "    pairs = list(zip(video_paths, classes))\n",
    "\n",
    "    if self.training:\n",
    "      random.shuffle(pairs)\n",
    "\n",
    "    for path, name in pairs:\n",
    "      video_frames = frames_from_video_file(path, self.n_frames) \n",
    "      label = self.class_ids_for_name[name] # Encode labels\n",
    "      yield video_frames, label"
   ]
  },
  {
   "cell_type": "code",
   "execution_count": 351,
   "id": "0d055a5a",
   "metadata": {},
   "outputs": [
    {
     "name": "stdout",
     "output_type": "stream",
     "text": [
      "Shape: (10, 224, 224, 3)\n",
      "Label: 1\n"
     ]
    }
   ],
   "source": [
    "fg = FrameGenerator(Path('Summarys_labels/Sep_Clips/train'), 10, training=True)\n",
    "\n",
    "frames,label = next(fg())\n",
    "\n",
    "print(f\"Shape: {frames.shape}\")\n",
    "print(f\"Label: {label}\")"
   ]
  },
  {
   "cell_type": "code",
   "execution_count": 352,
   "id": "89a0b48f",
   "metadata": {
    "scrolled": true
   },
   "outputs": [],
   "source": [
    "# Create the training set\n",
    "output_signature = (tf.TensorSpec(shape = (None, None, None, 3), dtype = tf.float32),\n",
    "                    tf.TensorSpec(shape = (), dtype = tf.int16))\n",
    "train_ds = tf.data.Dataset.from_generator(FrameGenerator(Path('Summarys_labels/Sep_Clips/train'), 10, training=True),\n",
    "                                          output_signature = output_signature)"
   ]
  },
  {
   "cell_type": "code",
   "execution_count": 353,
   "id": "d44e4150",
   "metadata": {},
   "outputs": [
    {
     "name": "stdout",
     "output_type": "stream",
     "text": [
      "tf.Tensor(4, shape=(), dtype=int16)\n",
      "tf.Tensor(2, shape=(), dtype=int16)\n",
      "tf.Tensor(2, shape=(), dtype=int16)\n",
      "tf.Tensor(1, shape=(), dtype=int16)\n",
      "tf.Tensor(1, shape=(), dtype=int16)\n",
      "tf.Tensor(1, shape=(), dtype=int16)\n",
      "tf.Tensor(4, shape=(), dtype=int16)\n",
      "tf.Tensor(0, shape=(), dtype=int16)\n",
      "tf.Tensor(2, shape=(), dtype=int16)\n",
      "tf.Tensor(0, shape=(), dtype=int16)\n"
     ]
    }
   ],
   "source": [
    "for frames, labels in train_ds.take(10):\n",
    "  print(labels)"
   ]
  },
  {
   "cell_type": "code",
   "execution_count": 354,
   "id": "ebe18f2e",
   "metadata": {},
   "outputs": [],
   "source": [
    "# Create the validation set\n",
    "val_ds = tf.data.Dataset.from_generator(FrameGenerator(Path('Summarys_labels/Sep_Clips/val'), 10),\n",
    "                                        output_signature = output_signature)"
   ]
  },
  {
   "cell_type": "code",
   "execution_count": 355,
   "id": "c5437ca9",
   "metadata": {},
   "outputs": [
    {
     "name": "stdout",
     "output_type": "stream",
     "text": [
      "Shape of training set of frames: (10, 224, 224, 3)\n",
      "Shape of training labels: ()\n",
      "Shape of validation set of frames: (10, 224, 224, 3)\n",
      "Shape of validation labels: ()\n"
     ]
    }
   ],
   "source": [
    "# Print the shapes of the data\n",
    "train_frames, train_labels = next(iter(train_ds))\n",
    "print(f'Shape of training set of frames: {train_frames.shape}')\n",
    "print(f'Shape of training labels: {train_labels.shape}')\n",
    "\n",
    "val_frames, val_labels = next(iter(val_ds))\n",
    "print(f'Shape of validation set of frames: {val_frames.shape}')\n",
    "print(f'Shape of validation labels: {val_labels.shape}')"
   ]
  },
  {
   "cell_type": "markdown",
   "id": "4d36db06",
   "metadata": {},
   "source": [
    "# Configure the dataset for performance"
   ]
  },
  {
   "cell_type": "code",
   "execution_count": 356,
   "id": "f3466342",
   "metadata": {},
   "outputs": [],
   "source": [
    "AUTOTUNE = tf.data.AUTOTUNE\n",
    "\n",
    "train_ds = train_ds.cache().shuffle(1000).prefetch(buffer_size = AUTOTUNE)\n",
    "val_ds = val_ds.cache().shuffle(1000).prefetch(buffer_size = AUTOTUNE)"
   ]
  },
  {
   "cell_type": "code",
   "execution_count": 358,
   "id": "81aef7e5",
   "metadata": {},
   "outputs": [],
   "source": [
    "train_ds = train_ds.batch(2)\n",
    "val_ds = val_ds.batch(2)"
   ]
  },
  {
   "cell_type": "code",
   "execution_count": 360,
   "id": "4169abdd",
   "metadata": {},
   "outputs": [
    {
     "name": "stdout",
     "output_type": "stream",
     "text": [
      "Shape of training set of frames: (2, 10, 224, 224, 3)\n",
      "Shape of training labels: (2,)\n",
      "Shape of validation set of frames: (2, 10, 224, 224, 3)\n",
      "Shape of validation labels: (2,)\n"
     ]
    }
   ],
   "source": [
    "#train_ds = train_ds.batch(2)\n",
    "#val_ds = val_ds.batch(2)\n",
    "\n",
    "train_frames, train_labels = next(iter(train_ds))\n",
    "print(f'Shape of training set of frames: {train_frames.shape}')\n",
    "print(f'Shape of training labels: {train_labels.shape}')\n",
    "\n",
    "val_frames, val_labels = next(iter(val_ds))\n",
    "print(f'Shape of validation set of frames: {val_frames.shape}')\n",
    "print(f'Shape of validation labels: {val_labels.shape}')"
   ]
  },
  {
   "cell_type": "markdown",
   "id": "39278189",
   "metadata": {},
   "source": [
    "# Next steps"
   ]
  },
  {
   "cell_type": "code",
   "execution_count": 361,
   "id": "421705d8",
   "metadata": {},
   "outputs": [
    {
     "name": "stdout",
     "output_type": "stream",
     "text": [
      "Epoch 1/10\n",
      "13/13 [==============================] - 22s 1s/step - loss: 1.6597 - accuracy: 0.5769 - val_loss: 1.3585 - val_accuracy: 0.5172\n",
      "Epoch 2/10\n",
      "13/13 [==============================] - 14s 1s/step - loss: 1.0540 - accuracy: 0.6538 - val_loss: 1.3233 - val_accuracy: 0.5172\n",
      "Epoch 3/10\n",
      "13/13 [==============================] - 14s 1s/step - loss: 0.9305 - accuracy: 0.6538 - val_loss: 1.3552 - val_accuracy: 0.5172\n",
      "Epoch 4/10\n",
      "13/13 [==============================] - 15s 1s/step - loss: 0.8710 - accuracy: 0.6538 - val_loss: 1.2830 - val_accuracy: 0.5517\n",
      "Epoch 5/10\n",
      "13/13 [==============================] - 15s 1s/step - loss: 0.8442 - accuracy: 0.6923 - val_loss: 1.2608 - val_accuracy: 0.5517\n",
      "Epoch 6/10\n",
      "13/13 [==============================] - 15s 1s/step - loss: 0.8046 - accuracy: 0.6923 - val_loss: 1.2822 - val_accuracy: 0.5517\n",
      "Epoch 7/10\n",
      "13/13 [==============================] - 14s 1s/step - loss: 0.7628 - accuracy: 0.6923 - val_loss: 1.2699 - val_accuracy: 0.5517\n",
      "Epoch 8/10\n",
      "13/13 [==============================] - 14s 1s/step - loss: 0.7382 - accuracy: 0.7308 - val_loss: 1.2947 - val_accuracy: 0.5517\n",
      "Epoch 9/10\n",
      "13/13 [==============================] - 14s 1s/step - loss: 0.7733 - accuracy: 0.6923 - val_loss: 1.3320 - val_accuracy: 0.5517\n",
      "Epoch 10/10\n",
      "13/13 [==============================] - 14s 1s/step - loss: 0.6921 - accuracy: 0.6923 - val_loss: 1.2981 - val_accuracy: 0.5517\n"
     ]
    },
    {
     "data": {
      "text/plain": [
       "<keras.callbacks.History at 0x25209b55190>"
      ]
     },
     "execution_count": 361,
     "metadata": {},
     "output_type": "execute_result"
    }
   ],
   "source": [
    "net = tf.keras.applications.EfficientNetB0(include_top = False)\n",
    "net.trainable = False\n",
    "\n",
    "model = tf.keras.Sequential([\n",
    "    tf.keras.layers.Rescaling(scale=255),\n",
    "    tf.keras.layers.TimeDistributed(net),\n",
    "    tf.keras.layers.Dense(10),\n",
    "    tf.keras.layers.GlobalAveragePooling3D()\n",
    "])\n",
    "\n",
    "model.compile(optimizer = 'adam',\n",
    "              loss=tf.keras.losses.SparseCategoricalCrossentropy(from_logits = True),\n",
    "              metrics=['accuracy'])\n",
    "\n",
    "model.fit(train_ds, \n",
    "          epochs = 10,\n",
    "          validation_data = val_ds,\n",
    "          callbacks = tf.keras.callbacks.EarlyStopping(patience = 10, monitor = 'val_loss'))"
   ]
  },
  {
   "cell_type": "code",
   "execution_count": null,
   "id": "7e6c2669",
   "metadata": {},
   "outputs": [],
   "source": [
    "#########################\n",
    "#########################\n",
    "#########################"
   ]
  },
  {
   "cell_type": "code",
   "execution_count": null,
   "id": "9fa00c87",
   "metadata": {},
   "outputs": [],
   "source": []
  }
 ],
 "metadata": {
  "kernelspec": {
   "display_name": "Python 3 (ipykernel)",
   "language": "python",
   "name": "python3"
  },
  "language_info": {
   "codemirror_mode": {
    "name": "ipython",
    "version": 3
   },
   "file_extension": ".py",
   "mimetype": "text/x-python",
   "name": "python",
   "nbconvert_exporter": "python",
   "pygments_lexer": "ipython3",
   "version": "3.9.16"
  }
 },
 "nbformat": 4,
 "nbformat_minor": 5
}
