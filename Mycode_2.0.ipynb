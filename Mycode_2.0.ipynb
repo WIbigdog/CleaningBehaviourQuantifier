{
 "cells": [
  {
   "cell_type": "code",
   "execution_count": 112,
   "id": "13725c69",
   "metadata": {},
   "outputs": [],
   "source": [
    "import tqdm\n",
    "import random\n",
    "import pathlib\n",
    "import itertools\n",
    "import collections\n",
    "import keras\n",
    "\n",
    "import glob\n",
    "import pandas as pd\n",
    "import os\n",
    "import cv2\n",
    "import numpy as np\n",
    "import remotezip as rz\n",
    "import einops\n",
    "import random\n",
    "import shutil\n",
    "\n",
    "import tensorflow as tf\n",
    "\n",
    "from pathlib import Path\n",
    "\n",
    "# Some modules to display an animation using imageio.\n",
    "import imageio\n",
    "from IPython import display\n",
    "from urllib import request\n",
    "from tensorflow_docs.vis import embed\n",
    "from keras import layers\n",
    "import matplotlib.pyplot as plt"
   ]
  },
  {
   "cell_type": "code",
   "execution_count": 1,
   "id": "2cca6777",
   "metadata": {},
   "outputs": [],
   "source": [
    "#########################\n",
    "#########################\n",
    "#########################"
   ]
  },
  {
   "cell_type": "markdown",
   "id": "d77c5220",
   "metadata": {},
   "source": [
    "# Data Preprocessing"
   ]
  },
  {
   "cell_type": "code",
   "execution_count": 276,
   "id": "b376bcbb",
   "metadata": {},
   "outputs": [],
   "source": [
    "# Create a directory to store all the clips\n",
    "clips_dir = r\"C:\\Users\\BEE Team\\Desktop\\code\\Summarys_labels\\All_Clips\"\n",
    "os.makedirs(clips_dir, exist_ok=True)\n",
    "\n",
    "# Loop through all the CSV files\n",
    "csv_dir = r'C:\\Users\\BEE Team\\Desktop\\code\\Summarys_labels'\n",
    "csv_files = [f for f in os.listdir(csv_dir) if f.endswith('.csv')]\n",
    "csv_files = csv_files[1:]\n",
    "\n",
    "\n",
    "# Loop through all the CSV files\n",
    "for csv_file in csv_files:\n",
    "    if csv_file.endswith('.csv'):\n",
    "        # Read the CSV file\n",
    "        df = pd.read_csv(os.path.join(csv_dir, csv_file))\n",
    "\n",
    "        # Directory of videos\n",
    "        video_dir = r'C:\\Users\\BEE Team\\Desktop\\Videos\\Daniele_Vids_Lab\\LD\\Yellow'\n",
    "        df['Video_path'] = df['file'].apply(lambda x: os.path.join(video_dir, x.split('_labels')[0] + '.mp4'))\n",
    "\n",
    "        # Create a directory to store the clips for this csv file\n",
    "        csv_clips_dir = os.path.join(clips_dir, os.path.splitext(csv_file.split('_')[2])[0])\n",
    "        os.makedirs(csv_clips_dir, exist_ok=True)\n",
    "\n",
    "        # Extract video clips from each row of the dataframe and save them to a file\n",
    "        for index, row in df.iterrows():\n",
    "            video_path = row['Video_path']\n",
    "            start_frame = row['start_frame']\n",
    "            end_frame = row['end_frame']\n",
    "            classification = row['classification']\n",
    "            \n",
    "            video = cv2.VideoCapture(video_path)\n",
    "            video.set(cv2.CAP_PROP_POS_FRAMES, start_frame)\n",
    "            clip_frames = []\n",
    "            for i in range(start_frame, end_frame):\n",
    "                ret, frame = video.read()\n",
    "                if ret:\n",
    "                    clip_frames.append(frame)\n",
    "                else:\n",
    "                    break\n",
    "            \n",
    "\n",
    "            if duration > 120:  # if duration is more than 2 seconds (assuming 60 fps)\n",
    "                num_clips = int(duration / 120)  # split into 120-frame clips\n",
    "                for i in range(num_clips + 1):\n",
    "                    start_idx = i * 120\n",
    "                    end_idx = min(start_idx + 120, duration)\n",
    "                    subclip_frames = clip_frames[start_idx:end_idx]\n",
    "                    subclip_path = os.path.join(csv_clips_dir, f'{classification}_{index}_{i}.mp4')\n",
    "                    subclip = cv2.VideoWriter(subclip_path, cv2.VideoWriter_fourcc(*'XVID'), 60, (frame.shape[1], frame.shape[0]))\n",
    "                    for frame in subclip_frames:\n",
    "                        subclip.write(frame)\n",
    "                    subclip.release()\n",
    "\n",
    "\n",
    "\n",
    "            else:  # if duration is less than or equal to 2 seconds\n",
    "                clip_path = os.path.join(csv_clips_dir, f'{classification}_{index}.mp4')\n",
    "                clip = cv2.VideoWriter(clip_path, cv2.VideoWriter_fourcc(*'XVID'), 60, (frame.shape[1], frame.shape[0]))\n",
    "                for frame in clip_frames:\n",
    "                    clip.write(frame)\n",
    "                clip.release()           \n",
    "            "
   ]
  },
  {
   "cell_type": "code",
   "execution_count": 278,
   "id": "431f32cc",
   "metadata": {},
   "outputs": [],
   "source": [
    "# set the root directory of your videos\n",
    "root_dir = r\"C:\\Users\\BEE Team\\Desktop\\code\\Summarys_labels\\All_Clips\"\n",
    "\n",
    "# set the directories where you want to move the videos to\n",
    "train_dir = r\"C:\\Users\\BEE Team\\Desktop\\code\\Summarys_labels\\Sep_Clips\\train\"\n",
    "test_dir = r\"C:\\Users\\BEE Team\\Desktop\\code\\Summarys_labels\\Sep_Clips\\test\"\n",
    "val_dir = r\"C:\\Users\\BEE Team\\Desktop\\code\\Summarys_labels\\Sep_Clips\\val\"\n",
    "\n",
    "\n",
    "# set the split ratios\n",
    "train_ratio = 0.6\n",
    "test_ratio = 0.2\n",
    "val_ratio = 0.2\n",
    "\n",
    "# loop through all the subdirectories in the root directory\n",
    "for subdir in os.listdir(root_dir):\n",
    "    \n",
    "    # check if the subdirectory is a directory\n",
    "    if os.path.isdir(os.path.join(root_dir, subdir)):\n",
    "        \n",
    "        # get the list of videos in the subdirectory\n",
    "        video_list = [f for f in os.listdir(os.path.join(root_dir, subdir)) if f.endswith(\".mp4\")]\n",
    "        \n",
    "        # calculate the number of videos in each split\n",
    "        num_videos = len(video_list)\n",
    "        num_train = int(0.6 * num_videos)\n",
    "        num_test = int(0.2 * num_videos)\n",
    "        num_val = num_videos - num_train - num_test\n",
    "        \n",
    "        # shuffle the video list\n",
    "        random.shuffle(video_list)\n",
    "        \n",
    "        # move the videos to the appropriate split directory\n",
    "        for i, video in enumerate(video_list):\n",
    "            \n",
    "            if i < num_train:\n",
    "                dest_dir = os.path.join(train_dir, video.split(\"_\")[0])\n",
    "            elif i < num_train + num_test:\n",
    "                dest_dir = os.path.join(test_dir, video.split(\"_\")[0])\n",
    "            else:\n",
    "                dest_dir = os.path.join(val_dir, video.split(\"_\")[0])\n",
    "            \n",
    "            os.makedirs(dest_dir, exist_ok=True)\n",
    "            src_file = os.path.join(root_dir, subdir, video)\n",
    "            dest_file = os.path.join(dest_dir, video)\n",
    "            shutil.move(src_file, dest_file)"
   ]
  },
  {
   "cell_type": "code",
   "execution_count": 275,
   "id": "811967f2",
   "metadata": {},
   "outputs": [],
   "source": [
    "# Run only to delete folders\n",
    "\n",
    "#shutil.rmtree(r\"C:\\Users\\BEE Team\\Desktop\\code\\Summarys_labels\\All_Clips\")"
   ]
  },
  {
   "cell_type": "code",
   "execution_count": 180,
   "id": "dc478933",
   "metadata": {},
   "outputs": [],
   "source": [
    "########\n",
    "########\n",
    "########"
   ]
  },
  {
   "cell_type": "markdown",
   "id": "279e5c4c",
   "metadata": {},
   "source": [
    "# Classifcation"
   ]
  },
  {
   "cell_type": "code",
   "execution_count": 448,
   "id": "5e912e5b",
   "metadata": {},
   "outputs": [],
   "source": [
    "def format_frames(frame, output_size):\n",
    "  \"\"\"\n",
    "    Pad and resize an image from a video.\n",
    "\n",
    "    Args:\n",
    "      frame: Image that needs to resized and padded. \n",
    "      output_size: Pixel size of the output frame image.\n",
    "\n",
    "    Return:\n",
    "      Formatted frame with padding of specified output size.\n",
    "  \"\"\"\n",
    "  frame = tf.image.convert_image_dtype(frame, tf.float32)\n",
    "  frame = tf.image.resize_with_pad(frame, *output_size)\n",
    "  return frame"
   ]
  },
  {
   "cell_type": "code",
   "execution_count": 449,
   "id": "d7e9371c",
   "metadata": {},
   "outputs": [],
   "source": [
    "def frames_from_video_file(video_path, n_frames, output_size = (224,224), frame_step = 15):\n",
    "  \"\"\"\n",
    "    Creates frames from each video file present for each category.\n",
    "\n",
    "    Args:\n",
    "      video_path: File path to the video.\n",
    "      n_frames: Number of frames to be created per video file.\n",
    "      output_size: Pixel size of the output frame image.\n",
    "\n",
    "    Return:\n",
    "      An NumPy array of frames in the shape of (n_frames, height, width, channels).\n",
    "  \"\"\"\n",
    "  # Read each video frame by frame\n",
    "  result = []\n",
    "  src = cv2.VideoCapture(str(video_path))  \n",
    "\n",
    "  video_length = src.get(cv2.CAP_PROP_FRAME_COUNT)\n",
    "\n",
    "  need_length = 1 + (n_frames - 1) * frame_step\n",
    "\n",
    "  if need_length > video_length:\n",
    "    start = 0\n",
    "  else:\n",
    "    max_start = video_length - need_length\n",
    "    start = random.randint(0, max_start + 1)\n",
    "\n",
    "  src.set(cv2.CAP_PROP_POS_FRAMES, start)\n",
    "  # ret is a boolean indicating whether read was successful, frame is the image itself\n",
    "  ret, frame = src.read()\n",
    "  result.append(format_frames(frame, output_size))\n",
    "\n",
    "  for _ in range(n_frames - 1):\n",
    "    for _ in range(frame_step):\n",
    "      ret, frame = src.read()\n",
    "    if ret:\n",
    "      frame = format_frames(frame, output_size)\n",
    "      result.append(frame)\n",
    "    else:\n",
    "      result.append(np.zeros_like(result[0]))\n",
    "  src.release()\n",
    "  result = np.array(result)[..., [2, 1, 0]]\n",
    "\n",
    "  return result"
   ]
  },
  {
   "cell_type": "code",
   "execution_count": 450,
   "id": "4f0d8a61",
   "metadata": {
    "scrolled": true
   },
   "outputs": [
    {
     "data": {
      "text/plain": [
       "'C:\\\\Users\\\\BEE Team\\\\Desktop\\\\code'"
      ]
     },
     "execution_count": 450,
     "metadata": {},
     "output_type": "execute_result"
    }
   ],
   "source": [
    "os.getcwd()"
   ]
  },
  {
   "cell_type": "code",
   "execution_count": 435,
   "id": "c3092e6b",
   "metadata": {
    "scrolled": false
   },
   "outputs": [
    {
     "data": {
      "text/plain": [
       "(10, 224, 224, 3)"
      ]
     },
     "execution_count": 435,
     "metadata": {},
     "output_type": "execute_result"
    }
   ],
   "source": [
    "video_path = r\"Summarys_labels\\Sep_Clips\\val\\IntCleaner\\IntCleaner_9.mp4\"\n",
    "sample_video = frames_from_video_file(video_path, n_frames = 10)\n",
    "sample_video.shape"
   ]
  },
  {
   "cell_type": "code",
   "execution_count": 451,
   "id": "f4410e87",
   "metadata": {},
   "outputs": [],
   "source": [
    "def to_gif(images):\n",
    "  converted_images = np.clip(images * 255, 0, 255).astype(np.uint8)\n",
    "  imageio.mimsave('./animation.gif', converted_images, fps=10)\n",
    "  return embed.embed_file('./animation.gif')"
   ]
  },
  {
   "cell_type": "code",
   "execution_count": 452,
   "id": "e671c2f1",
   "metadata": {},
   "outputs": [],
   "source": [
    "#to_gif(sample_video)"
   ]
  },
  {
   "cell_type": "code",
   "execution_count": 453,
   "id": "61cef584",
   "metadata": {},
   "outputs": [],
   "source": [
    "video_dir = r'Summarys_labels\\Sep_Clips\\train\\IntCleaner'\n",
    "\n",
    "# get a list of all the video files in the directory\n",
    "video_files = glob.glob(os.path.join(video_dir, '*.mp4'))\n",
    "\n",
    "# select the first video file in the list\n",
    "video_path = video_files[0]\n",
    "\n",
    "# extract 50 frames from the selected video file\n",
    "sample_videos = frames_from_video_file(video_path, 50)\n",
    "#to_gif(sample_videos)"
   ]
  },
  {
   "cell_type": "code",
   "execution_count": 454,
   "id": "9a9665df",
   "metadata": {},
   "outputs": [],
   "source": [
    "class FrameGenerator:\n",
    "  def __init__(self, path, n_frames, training = False):\n",
    "    \"\"\" Returns a set of frames with their associated label. \n",
    "\n",
    "      Args:\n",
    "        path: Video file paths.\n",
    "        n_frames: Number of frames. \n",
    "        training: Boolean to determine if training dataset is being created.\n",
    "    \"\"\"\n",
    "    self.path = path\n",
    "    self.n_frames = n_frames\n",
    "    self.training = training\n",
    "    self.class_names = sorted(set(p.name for p in self.path.iterdir() if p.is_dir()))\n",
    "    self.class_ids_for_name = dict((name, idx) for idx, name in enumerate(self.class_names))\n",
    "\n",
    "  def get_files_and_class_names(self):\n",
    "    video_paths = list(self.path.glob('*/*.mp4'))\n",
    "    classes = [p.parent.name for p in video_paths] \n",
    "    return video_paths, classes\n",
    "\n",
    "  def __call__(self):\n",
    "    video_paths, classes = self.get_files_and_class_names()\n",
    "\n",
    "    pairs = list(zip(video_paths, classes))\n",
    "\n",
    "    if self.training:\n",
    "      random.shuffle(pairs)\n",
    "\n",
    "    for path, name in pairs:\n",
    "      video_frames = frames_from_video_file(path, self.n_frames) \n",
    "      label = self.class_ids_for_name[name] # Encode labels\n",
    "      yield video_frames, label"
   ]
  },
  {
   "cell_type": "code",
   "execution_count": 516,
   "id": "0d055a5a",
   "metadata": {},
   "outputs": [
    {
     "name": "stdout",
     "output_type": "stream",
     "text": [
      "Shape: (10, 224, 224, 3)\n",
      "Label: 5\n"
     ]
    }
   ],
   "source": [
    "fg = FrameGenerator(Path('Summarys_labels/Sep_Clips/train'), 10, training=True)\n",
    "\n",
    "frames,label = next(fg())\n",
    "\n",
    "print(f\"Shape: {frames.shape}\")\n",
    "print(f\"Label: {label}\")"
   ]
  },
  {
   "cell_type": "code",
   "execution_count": 517,
   "id": "89a0b48f",
   "metadata": {
    "scrolled": true
   },
   "outputs": [],
   "source": [
    "# Create the training set\n",
    "output_signature = (tf.TensorSpec(shape = (None, None, None, 3), dtype = tf.float32),\n",
    "                    tf.TensorSpec(shape = (), dtype = tf.int16))\n",
    "train_ds = tf.data.Dataset.from_generator(FrameGenerator(Path('Summarys_labels/Sep_Clips/train'), 10, training=True),\n",
    "                                          output_signature = output_signature)"
   ]
  },
  {
   "cell_type": "code",
   "execution_count": 518,
   "id": "d44e4150",
   "metadata": {},
   "outputs": [
    {
     "name": "stdout",
     "output_type": "stream",
     "text": [
      "tf.Tensor(5, shape=(), dtype=int16)\n",
      "tf.Tensor(5, shape=(), dtype=int16)\n",
      "tf.Tensor(5, shape=(), dtype=int16)\n",
      "tf.Tensor(4, shape=(), dtype=int16)\n",
      "tf.Tensor(5, shape=(), dtype=int16)\n",
      "tf.Tensor(5, shape=(), dtype=int16)\n",
      "tf.Tensor(4, shape=(), dtype=int16)\n",
      "tf.Tensor(1, shape=(), dtype=int16)\n",
      "tf.Tensor(1, shape=(), dtype=int16)\n",
      "tf.Tensor(1, shape=(), dtype=int16)\n"
     ]
    }
   ],
   "source": [
    "for frames, labels in train_ds.take(10):\n",
    "  print(labels)"
   ]
  },
  {
   "cell_type": "code",
   "execution_count": 519,
   "id": "ebe18f2e",
   "metadata": {},
   "outputs": [],
   "source": [
    "# Create the validation set\n",
    "val_ds = tf.data.Dataset.from_generator(FrameGenerator(Path('Summarys_labels/Sep_Clips/val'), 10),\n",
    "                                        output_signature = output_signature)"
   ]
  },
  {
   "cell_type": "code",
   "execution_count": 520,
   "id": "c5437ca9",
   "metadata": {},
   "outputs": [
    {
     "name": "stdout",
     "output_type": "stream",
     "text": [
      "Shape of training set of frames: (10, 224, 224, 3)\n",
      "Shape of training labels: ()\n",
      "Shape of validation set of frames: (10, 224, 224, 3)\n",
      "Shape of validation labels: ()\n"
     ]
    }
   ],
   "source": [
    "# Print the shapes of the data\n",
    "train_frames, train_labels = next(iter(train_ds))\n",
    "print(f'Shape of training set of frames: {train_frames.shape}')\n",
    "print(f'Shape of training labels: {train_labels.shape}')\n",
    "\n",
    "val_frames, val_labels = next(iter(val_ds))\n",
    "print(f'Shape of validation set of frames: {val_frames.shape}')\n",
    "print(f'Shape of validation labels: {val_labels.shape}')"
   ]
  },
  {
   "cell_type": "markdown",
   "id": "4d36db06",
   "metadata": {},
   "source": [
    "# Configure the dataset for performance"
   ]
  },
  {
   "cell_type": "code",
   "execution_count": 521,
   "id": "f3466342",
   "metadata": {},
   "outputs": [],
   "source": [
    "AUTOTUNE = tf.data.AUTOTUNE\n",
    "\n",
    "train_ds = train_ds.cache().shuffle(1000).prefetch(buffer_size = AUTOTUNE)\n",
    "val_ds = val_ds.cache().shuffle(1000).prefetch(buffer_size = AUTOTUNE)"
   ]
  },
  {
   "cell_type": "code",
   "execution_count": 522,
   "id": "88391dc5",
   "metadata": {},
   "outputs": [],
   "source": [
    "train_ds = train_ds.batch(8)\n",
    "val_ds = val_ds.batch(8)"
   ]
  },
  {
   "cell_type": "code",
   "execution_count": 462,
   "id": "6d05cc58",
   "metadata": {
    "scrolled": true
   },
   "outputs": [
    {
     "ename": "InvalidArgumentError",
     "evalue": "{{function_node __wrapped__IteratorGetNext_output_types_2_device_/job:localhost/replica:0/task:0/device:CPU:0}} ValueError: Attempt to convert a value (None) with an unsupported type (<class 'NoneType'>) to a Tensor.\nTraceback (most recent call last):\n\n  File \"C:\\Users\\BEE Team\\AppData\\Roaming\\Python\\Python39\\site-packages\\tensorflow\\python\\ops\\script_ops.py\", line 267, in __call__\n    ret = func(*args)\n\n  File \"C:\\Users\\BEE Team\\AppData\\Roaming\\Python\\Python39\\site-packages\\tensorflow\\python\\autograph\\impl\\api.py\", line 642, in wrapper\n    return func(*args, **kwargs)\n\n  File \"C:\\Users\\BEE Team\\AppData\\Roaming\\Python\\Python39\\site-packages\\tensorflow\\python\\data\\ops\\from_generator_op.py\", line 198, in generator_py_func\n    values = next(generator_state.get_iterator(iterator_id))\n\n  File \"C:\\Users\\BEE Team\\AppData\\Local\\Temp\\ipykernel_13092\\1321760800.py\", line 30, in __call__\n    video_frames = frames_from_video_file(path, self.n_frames)\n\n  File \"C:\\Users\\BEE Team\\AppData\\Local\\Temp\\ipykernel_13092\\1654415659.py\", line 30, in frames_from_video_file\n    result.append(format_frames(frame, output_size))\n\n  File \"C:\\Users\\BEE Team\\AppData\\Local\\Temp\\ipykernel_13092\\132659923.py\", line 12, in format_frames\n    frame = tf.image.convert_image_dtype(frame, tf.float32)\n\n  File \"C:\\Users\\BEE Team\\AppData\\Roaming\\Python\\Python39\\site-packages\\tensorflow\\python\\util\\traceback_utils.py\", line 153, in error_handler\n    raise e.with_traceback(filtered_tb) from None\n\n  File \"C:\\Users\\BEE Team\\AppData\\Roaming\\Python\\Python39\\site-packages\\tensorflow\\python\\framework\\constant_op.py\", line 103, in convert_to_eager_tensor\n    return ops.EagerTensor(value, ctx.device_name, dtype)\n\nValueError: Attempt to convert a value (None) with an unsupported type (<class 'NoneType'>) to a Tensor.\n\n\n\t [[{{node PyFunc}}]] [Op:IteratorGetNext]",
     "output_type": "error",
     "traceback": [
      "\u001b[1;31m---------------------------------------------------------------------------\u001b[0m",
      "\u001b[1;31mInvalidArgumentError\u001b[0m                      Traceback (most recent call last)",
      "Cell \u001b[1;32mIn[462], line 1\u001b[0m\n\u001b[1;32m----> 1\u001b[0m \u001b[38;5;28;43mnext\u001b[39;49m\u001b[43m(\u001b[49m\u001b[38;5;28;43miter\u001b[39;49m\u001b[43m(\u001b[49m\u001b[43mtrain_ds\u001b[49m\u001b[43m)\u001b[49m\u001b[43m)\u001b[49m\n",
      "File \u001b[1;32m~\\AppData\\Roaming\\Python\\Python39\\site-packages\\tensorflow\\python\\data\\ops\\iterator_ops.py:797\u001b[0m, in \u001b[0;36mOwnedIterator.__next__\u001b[1;34m(self)\u001b[0m\n\u001b[0;32m    795\u001b[0m \u001b[38;5;28;01mdef\u001b[39;00m \u001b[38;5;21m__next__\u001b[39m(\u001b[38;5;28mself\u001b[39m):\n\u001b[0;32m    796\u001b[0m   \u001b[38;5;28;01mtry\u001b[39;00m:\n\u001b[1;32m--> 797\u001b[0m     \u001b[38;5;28;01mreturn\u001b[39;00m \u001b[38;5;28;43mself\u001b[39;49m\u001b[38;5;241;43m.\u001b[39;49m\u001b[43m_next_internal\u001b[49m\u001b[43m(\u001b[49m\u001b[43m)\u001b[49m\n\u001b[0;32m    798\u001b[0m   \u001b[38;5;28;01mexcept\u001b[39;00m errors\u001b[38;5;241m.\u001b[39mOutOfRangeError:\n\u001b[0;32m    799\u001b[0m     \u001b[38;5;28;01mraise\u001b[39;00m \u001b[38;5;167;01mStopIteration\u001b[39;00m\n",
      "File \u001b[1;32m~\\AppData\\Roaming\\Python\\Python39\\site-packages\\tensorflow\\python\\data\\ops\\iterator_ops.py:780\u001b[0m, in \u001b[0;36mOwnedIterator._next_internal\u001b[1;34m(self)\u001b[0m\n\u001b[0;32m    777\u001b[0m \u001b[38;5;66;03m# TODO(b/77291417): This runs in sync mode as iterators use an error status\u001b[39;00m\n\u001b[0;32m    778\u001b[0m \u001b[38;5;66;03m# to communicate that there is no more data to iterate over.\u001b[39;00m\n\u001b[0;32m    779\u001b[0m \u001b[38;5;28;01mwith\u001b[39;00m context\u001b[38;5;241m.\u001b[39mexecution_mode(context\u001b[38;5;241m.\u001b[39mSYNC):\n\u001b[1;32m--> 780\u001b[0m   ret \u001b[38;5;241m=\u001b[39m \u001b[43mgen_dataset_ops\u001b[49m\u001b[38;5;241;43m.\u001b[39;49m\u001b[43miterator_get_next\u001b[49m\u001b[43m(\u001b[49m\n\u001b[0;32m    781\u001b[0m \u001b[43m      \u001b[49m\u001b[38;5;28;43mself\u001b[39;49m\u001b[38;5;241;43m.\u001b[39;49m\u001b[43m_iterator_resource\u001b[49m\u001b[43m,\u001b[49m\n\u001b[0;32m    782\u001b[0m \u001b[43m      \u001b[49m\u001b[43moutput_types\u001b[49m\u001b[38;5;241;43m=\u001b[39;49m\u001b[38;5;28;43mself\u001b[39;49m\u001b[38;5;241;43m.\u001b[39;49m\u001b[43m_flat_output_types\u001b[49m\u001b[43m,\u001b[49m\n\u001b[0;32m    783\u001b[0m \u001b[43m      \u001b[49m\u001b[43moutput_shapes\u001b[49m\u001b[38;5;241;43m=\u001b[39;49m\u001b[38;5;28;43mself\u001b[39;49m\u001b[38;5;241;43m.\u001b[39;49m\u001b[43m_flat_output_shapes\u001b[49m\u001b[43m)\u001b[49m\n\u001b[0;32m    785\u001b[0m   \u001b[38;5;28;01mtry\u001b[39;00m:\n\u001b[0;32m    786\u001b[0m     \u001b[38;5;66;03m# Fast path for the case `self._structure` is not a nested structure.\u001b[39;00m\n\u001b[0;32m    787\u001b[0m     \u001b[38;5;28;01mreturn\u001b[39;00m \u001b[38;5;28mself\u001b[39m\u001b[38;5;241m.\u001b[39m_element_spec\u001b[38;5;241m.\u001b[39m_from_compatible_tensor_list(ret)  \u001b[38;5;66;03m# pylint: disable=protected-access\u001b[39;00m\n",
      "File \u001b[1;32m~\\AppData\\Roaming\\Python\\Python39\\site-packages\\tensorflow\\python\\ops\\gen_dataset_ops.py:3043\u001b[0m, in \u001b[0;36miterator_get_next\u001b[1;34m(iterator, output_types, output_shapes, name)\u001b[0m\n\u001b[0;32m   3041\u001b[0m   \u001b[38;5;28;01mreturn\u001b[39;00m _result\n\u001b[0;32m   3042\u001b[0m \u001b[38;5;28;01mexcept\u001b[39;00m _core\u001b[38;5;241m.\u001b[39m_NotOkStatusException \u001b[38;5;28;01mas\u001b[39;00m e:\n\u001b[1;32m-> 3043\u001b[0m   \u001b[43m_ops\u001b[49m\u001b[38;5;241;43m.\u001b[39;49m\u001b[43mraise_from_not_ok_status\u001b[49m\u001b[43m(\u001b[49m\u001b[43me\u001b[49m\u001b[43m,\u001b[49m\u001b[43m \u001b[49m\u001b[43mname\u001b[49m\u001b[43m)\u001b[49m\n\u001b[0;32m   3044\u001b[0m \u001b[38;5;28;01mexcept\u001b[39;00m _core\u001b[38;5;241m.\u001b[39m_FallbackException:\n\u001b[0;32m   3045\u001b[0m   \u001b[38;5;28;01mpass\u001b[39;00m\n",
      "File \u001b[1;32m~\\AppData\\Roaming\\Python\\Python39\\site-packages\\tensorflow\\python\\framework\\ops.py:7262\u001b[0m, in \u001b[0;36mraise_from_not_ok_status\u001b[1;34m(e, name)\u001b[0m\n\u001b[0;32m   7260\u001b[0m \u001b[38;5;28;01mdef\u001b[39;00m \u001b[38;5;21mraise_from_not_ok_status\u001b[39m(e, name):\n\u001b[0;32m   7261\u001b[0m   e\u001b[38;5;241m.\u001b[39mmessage \u001b[38;5;241m+\u001b[39m\u001b[38;5;241m=\u001b[39m (\u001b[38;5;124m\"\u001b[39m\u001b[38;5;124m name: \u001b[39m\u001b[38;5;124m\"\u001b[39m \u001b[38;5;241m+\u001b[39m name \u001b[38;5;28;01mif\u001b[39;00m name \u001b[38;5;129;01mis\u001b[39;00m \u001b[38;5;129;01mnot\u001b[39;00m \u001b[38;5;28;01mNone\u001b[39;00m \u001b[38;5;28;01melse\u001b[39;00m \u001b[38;5;124m\"\u001b[39m\u001b[38;5;124m\"\u001b[39m)\n\u001b[1;32m-> 7262\u001b[0m   \u001b[38;5;28;01mraise\u001b[39;00m core\u001b[38;5;241m.\u001b[39m_status_to_exception(e) \u001b[38;5;28;01mfrom\u001b[39;00m \u001b[38;5;28mNone\u001b[39m\n",
      "\u001b[1;31mInvalidArgumentError\u001b[0m: {{function_node __wrapped__IteratorGetNext_output_types_2_device_/job:localhost/replica:0/task:0/device:CPU:0}} ValueError: Attempt to convert a value (None) with an unsupported type (<class 'NoneType'>) to a Tensor.\nTraceback (most recent call last):\n\n  File \"C:\\Users\\BEE Team\\AppData\\Roaming\\Python\\Python39\\site-packages\\tensorflow\\python\\ops\\script_ops.py\", line 267, in __call__\n    ret = func(*args)\n\n  File \"C:\\Users\\BEE Team\\AppData\\Roaming\\Python\\Python39\\site-packages\\tensorflow\\python\\autograph\\impl\\api.py\", line 642, in wrapper\n    return func(*args, **kwargs)\n\n  File \"C:\\Users\\BEE Team\\AppData\\Roaming\\Python\\Python39\\site-packages\\tensorflow\\python\\data\\ops\\from_generator_op.py\", line 198, in generator_py_func\n    values = next(generator_state.get_iterator(iterator_id))\n\n  File \"C:\\Users\\BEE Team\\AppData\\Local\\Temp\\ipykernel_13092\\1321760800.py\", line 30, in __call__\n    video_frames = frames_from_video_file(path, self.n_frames)\n\n  File \"C:\\Users\\BEE Team\\AppData\\Local\\Temp\\ipykernel_13092\\1654415659.py\", line 30, in frames_from_video_file\n    result.append(format_frames(frame, output_size))\n\n  File \"C:\\Users\\BEE Team\\AppData\\Local\\Temp\\ipykernel_13092\\132659923.py\", line 12, in format_frames\n    frame = tf.image.convert_image_dtype(frame, tf.float32)\n\n  File \"C:\\Users\\BEE Team\\AppData\\Roaming\\Python\\Python39\\site-packages\\tensorflow\\python\\util\\traceback_utils.py\", line 153, in error_handler\n    raise e.with_traceback(filtered_tb) from None\n\n  File \"C:\\Users\\BEE Team\\AppData\\Roaming\\Python\\Python39\\site-packages\\tensorflow\\python\\framework\\constant_op.py\", line 103, in convert_to_eager_tensor\n    return ops.EagerTensor(value, ctx.device_name, dtype)\n\nValueError: Attempt to convert a value (None) with an unsupported type (<class 'NoneType'>) to a Tensor.\n\n\n\t [[{{node PyFunc}}]] [Op:IteratorGetNext]"
     ]
    }
   ],
   "source": [
    "next(iter(train_ds))"
   ]
  },
  {
   "cell_type": "code",
   "execution_count": 463,
   "id": "4169abdd",
   "metadata": {},
   "outputs": [
    {
     "name": "stdout",
     "output_type": "stream",
     "text": [
      "Shape of training set of frames: (2, 10, 224, 224, 3)\n",
      "Shape of training labels: (2,)\n",
      "Shape of validation set of frames: (2, 10, 224, 224, 3)\n",
      "Shape of validation labels: (2,)\n"
     ]
    }
   ],
   "source": [
    "#train_ds = train_ds.batch(2)\n",
    "#val_ds = val_ds.batch(2)\n",
    "\n",
    "train_frames, train_labels = next(iter(train_ds))\n",
    "print(f'Shape of training set of frames: {train_frames.shape}')\n",
    "print(f'Shape of training labels: {train_labels.shape}')\n",
    "\n",
    "val_frames, val_labels = next(iter(val_ds))\n",
    "print(f'Shape of validation set of frames: {val_frames.shape}')\n",
    "print(f'Shape of validation labels: {val_labels.shape}')"
   ]
  },
  {
   "cell_type": "markdown",
   "id": "39278189",
   "metadata": {},
   "source": [
    "# Next steps"
   ]
  },
  {
   "cell_type": "code",
   "execution_count": 686,
   "id": "421705d8",
   "metadata": {
    "scrolled": true
   },
   "outputs": [
    {
     "name": "stdout",
     "output_type": "stream",
     "text": [
      "Epoch 1/100\n",
      "12/12 [==============================] - 89s 7s/step - loss: 1.7227 - accuracy: 0.3158 - val_loss: 1.4592 - val_accuracy: 0.4091\n",
      "Epoch 2/100\n",
      "12/12 [==============================] - 36s 3s/step - loss: 1.2686 - accuracy: 0.5158 - val_loss: 1.3539 - val_accuracy: 0.3409\n",
      "Epoch 3/100\n",
      "12/12 [==============================] - 35s 3s/step - loss: 1.1452 - accuracy: 0.5263 - val_loss: 1.2955 - val_accuracy: 0.3864\n",
      "Epoch 4/100\n",
      "12/12 [==============================] - 34s 3s/step - loss: 1.1019 - accuracy: 0.5579 - val_loss: 1.2946 - val_accuracy: 0.3864\n",
      "Epoch 5/100\n",
      "12/12 [==============================] - 34s 3s/step - loss: 1.0702 - accuracy: 0.5263 - val_loss: 1.2966 - val_accuracy: 0.4318\n",
      "Epoch 6/100\n",
      "12/12 [==============================] - 34s 3s/step - loss: 1.0541 - accuracy: 0.5474 - val_loss: 1.2441 - val_accuracy: 0.4318\n",
      "Epoch 7/100\n",
      "12/12 [==============================] - 34s 3s/step - loss: 1.0402 - accuracy: 0.5579 - val_loss: 1.2962 - val_accuracy: 0.4091\n",
      "Epoch 8/100\n",
      "12/12 [==============================] - 34s 3s/step - loss: 0.9980 - accuracy: 0.5895 - val_loss: 1.2401 - val_accuracy: 0.4773\n",
      "Epoch 9/100\n",
      "12/12 [==============================] - 34s 3s/step - loss: 0.9826 - accuracy: 0.5895 - val_loss: 1.2569 - val_accuracy: 0.4545\n",
      "Epoch 10/100\n",
      "12/12 [==============================] - 35s 3s/step - loss: 0.9763 - accuracy: 0.6105 - val_loss: 1.2547 - val_accuracy: 0.5000\n",
      "Epoch 11/100\n",
      "12/12 [==============================] - 36s 3s/step - loss: 0.9416 - accuracy: 0.6526 - val_loss: 1.2508 - val_accuracy: 0.4773\n",
      "Epoch 12/100\n",
      "12/12 [==============================] - 37s 3s/step - loss: 0.9370 - accuracy: 0.6316 - val_loss: 1.2315 - val_accuracy: 0.4773\n",
      "Epoch 13/100\n",
      "12/12 [==============================] - 35s 3s/step - loss: 0.9477 - accuracy: 0.6316 - val_loss: 1.2475 - val_accuracy: 0.4545\n",
      "Epoch 14/100\n",
      "12/12 [==============================] - 34s 3s/step - loss: 0.9132 - accuracy: 0.6632 - val_loss: 1.2236 - val_accuracy: 0.5000\n",
      "Epoch 15/100\n",
      "12/12 [==============================] - 34s 3s/step - loss: 0.9203 - accuracy: 0.6000 - val_loss: 1.2085 - val_accuracy: 0.5227\n",
      "Epoch 16/100\n",
      "12/12 [==============================] - 34s 3s/step - loss: 0.9098 - accuracy: 0.6526 - val_loss: 1.2745 - val_accuracy: 0.3864\n",
      "Epoch 17/100\n",
      "12/12 [==============================] - 34s 3s/step - loss: 0.8911 - accuracy: 0.6632 - val_loss: 1.2161 - val_accuracy: 0.5227\n",
      "Epoch 18/100\n",
      "12/12 [==============================] - 34s 3s/step - loss: 0.8985 - accuracy: 0.6632 - val_loss: 1.2527 - val_accuracy: 0.5227\n",
      "Epoch 19/100\n",
      "12/12 [==============================] - 34s 3s/step - loss: 0.8653 - accuracy: 0.6632 - val_loss: 1.2068 - val_accuracy: 0.5227\n",
      "Epoch 20/100\n",
      "12/12 [==============================] - 34s 3s/step - loss: 0.8583 - accuracy: 0.6737 - val_loss: 1.2240 - val_accuracy: 0.5000\n",
      "Epoch 21/100\n",
      "12/12 [==============================] - 34s 3s/step - loss: 0.8513 - accuracy: 0.6842 - val_loss: 1.2115 - val_accuracy: 0.5227\n",
      "Epoch 22/100\n",
      "12/12 [==============================] - 34s 3s/step - loss: 0.8388 - accuracy: 0.7053 - val_loss: 1.2302 - val_accuracy: 0.4545\n",
      "Epoch 23/100\n",
      "12/12 [==============================] - 34s 3s/step - loss: 0.8413 - accuracy: 0.6947 - val_loss: 1.2223 - val_accuracy: 0.5000\n",
      "Epoch 24/100\n",
      "12/12 [==============================] - 34s 3s/step - loss: 0.8281 - accuracy: 0.6947 - val_loss: 1.2075 - val_accuracy: 0.4773\n",
      "Epoch 25/100\n",
      "12/12 [==============================] - 34s 3s/step - loss: 0.8229 - accuracy: 0.6842 - val_loss: 1.2190 - val_accuracy: 0.4773\n",
      "Epoch 26/100\n",
      "12/12 [==============================] - 34s 3s/step - loss: 0.8245 - accuracy: 0.6526 - val_loss: 1.1988 - val_accuracy: 0.5455\n",
      "Epoch 27/100\n",
      "12/12 [==============================] - 34s 3s/step - loss: 0.8049 - accuracy: 0.6947 - val_loss: 1.2420 - val_accuracy: 0.4773\n",
      "Epoch 28/100\n",
      "12/12 [==============================] - 34s 3s/step - loss: 0.7956 - accuracy: 0.7053 - val_loss: 1.2087 - val_accuracy: 0.5227\n",
      "Epoch 29/100\n",
      "12/12 [==============================] - 34s 3s/step - loss: 0.7908 - accuracy: 0.7158 - val_loss: 1.2123 - val_accuracy: 0.5227\n",
      "Epoch 30/100\n",
      "12/12 [==============================] - 34s 3s/step - loss: 0.8127 - accuracy: 0.7158 - val_loss: 1.2317 - val_accuracy: 0.5000\n",
      "Epoch 31/100\n",
      "12/12 [==============================] - 34s 3s/step - loss: 0.7823 - accuracy: 0.7263 - val_loss: 1.1947 - val_accuracy: 0.5227\n",
      "Epoch 32/100\n",
      "12/12 [==============================] - 34s 3s/step - loss: 0.7725 - accuracy: 0.7158 - val_loss: 1.2069 - val_accuracy: 0.5000\n",
      "Epoch 33/100\n",
      "12/12 [==============================] - 34s 3s/step - loss: 0.7631 - accuracy: 0.7368 - val_loss: 1.2437 - val_accuracy: 0.5227\n",
      "Epoch 34/100\n",
      "12/12 [==============================] - 34s 3s/step - loss: 0.7564 - accuracy: 0.7368 - val_loss: 1.2302 - val_accuracy: 0.5000\n",
      "Epoch 35/100\n",
      "12/12 [==============================] - 34s 3s/step - loss: 0.7575 - accuracy: 0.7263 - val_loss: 1.1855 - val_accuracy: 0.5455\n",
      "Epoch 36/100\n",
      "12/12 [==============================] - 34s 3s/step - loss: 0.7644 - accuracy: 0.7158 - val_loss: 1.2160 - val_accuracy: 0.4773\n",
      "Epoch 37/100\n",
      "12/12 [==============================] - 34s 3s/step - loss: 0.7529 - accuracy: 0.7474 - val_loss: 1.2166 - val_accuracy: 0.5227\n",
      "Epoch 38/100\n",
      "12/12 [==============================] - 34s 3s/step - loss: 0.7468 - accuracy: 0.7158 - val_loss: 1.2120 - val_accuracy: 0.5227\n",
      "Epoch 39/100\n",
      "12/12 [==============================] - 34s 3s/step - loss: 0.7266 - accuracy: 0.7368 - val_loss: 1.2285 - val_accuracy: 0.5000\n",
      "Epoch 40/100\n",
      "12/12 [==============================] - 34s 3s/step - loss: 0.7248 - accuracy: 0.7474 - val_loss: 1.2024 - val_accuracy: 0.5227\n",
      "Epoch 41/100\n",
      "12/12 [==============================] - 34s 3s/step - loss: 0.7311 - accuracy: 0.7368 - val_loss: 1.2158 - val_accuracy: 0.5227\n",
      "Epoch 42/100\n",
      "12/12 [==============================] - 34s 3s/step - loss: 0.7445 - accuracy: 0.7053 - val_loss: 1.2289 - val_accuracy: 0.5000\n",
      "Epoch 43/100\n",
      "12/12 [==============================] - 34s 3s/step - loss: 0.7186 - accuracy: 0.7368 - val_loss: 1.1913 - val_accuracy: 0.5455\n",
      "Epoch 44/100\n",
      "12/12 [==============================] - 34s 3s/step - loss: 0.7277 - accuracy: 0.7263 - val_loss: 1.1851 - val_accuracy: 0.5455\n",
      "Epoch 45/100\n",
      "12/12 [==============================] - 34s 3s/step - loss: 0.7214 - accuracy: 0.7368 - val_loss: 1.2199 - val_accuracy: 0.5227\n",
      "Epoch 46/100\n",
      "12/12 [==============================] - 34s 3s/step - loss: 0.7070 - accuracy: 0.7368 - val_loss: 1.2229 - val_accuracy: 0.5227\n",
      "Epoch 47/100\n",
      "12/12 [==============================] - 34s 3s/step - loss: 0.7006 - accuracy: 0.7368 - val_loss: 1.2202 - val_accuracy: 0.5227\n",
      "Epoch 48/100\n",
      "12/12 [==============================] - 34s 3s/step - loss: 0.7165 - accuracy: 0.7368 - val_loss: 1.2177 - val_accuracy: 0.5227\n",
      "Epoch 49/100\n",
      "12/12 [==============================] - 34s 3s/step - loss: 0.6891 - accuracy: 0.7474 - val_loss: 1.1899 - val_accuracy: 0.5682\n",
      "Epoch 50/100\n",
      "12/12 [==============================] - 34s 3s/step - loss: 0.7295 - accuracy: 0.7158 - val_loss: 1.2895 - val_accuracy: 0.5227\n",
      "Epoch 51/100\n",
      "12/12 [==============================] - 34s 3s/step - loss: 0.7210 - accuracy: 0.6737 - val_loss: 1.1814 - val_accuracy: 0.5455\n",
      "Epoch 52/100\n",
      "12/12 [==============================] - 34s 3s/step - loss: 0.6809 - accuracy: 0.7368 - val_loss: 1.2612 - val_accuracy: 0.5000\n",
      "Epoch 53/100\n",
      "12/12 [==============================] - 34s 3s/step - loss: 0.6936 - accuracy: 0.7368 - val_loss: 1.1963 - val_accuracy: 0.5682\n",
      "Epoch 54/100\n",
      "12/12 [==============================] - 34s 3s/step - loss: 0.6979 - accuracy: 0.7368 - val_loss: 1.2077 - val_accuracy: 0.5455\n",
      "Epoch 55/100\n",
      "12/12 [==============================] - 34s 3s/step - loss: 0.6598 - accuracy: 0.7789 - val_loss: 1.1965 - val_accuracy: 0.5227\n",
      "Epoch 56/100\n",
      "12/12 [==============================] - 34s 3s/step - loss: 0.6576 - accuracy: 0.7368 - val_loss: 1.2458 - val_accuracy: 0.5000\n",
      "Epoch 57/100\n",
      "12/12 [==============================] - 34s 3s/step - loss: 0.6720 - accuracy: 0.7579 - val_loss: 1.2052 - val_accuracy: 0.5455\n",
      "Epoch 58/100\n",
      "12/12 [==============================] - 34s 3s/step - loss: 0.6707 - accuracy: 0.7474 - val_loss: 1.2294 - val_accuracy: 0.5455\n"
     ]
    },
    {
     "name": "stdout",
     "output_type": "stream",
     "text": [
      "Epoch 59/100\n",
      "12/12 [==============================] - 34s 3s/step - loss: 0.6638 - accuracy: 0.7789 - val_loss: 1.2253 - val_accuracy: 0.5227\n",
      "Epoch 60/100\n",
      "12/12 [==============================] - 34s 3s/step - loss: 0.6672 - accuracy: 0.7474 - val_loss: 1.2153 - val_accuracy: 0.5455\n",
      "Epoch 61/100\n",
      "12/12 [==============================] - 34s 3s/step - loss: 0.6568 - accuracy: 0.7579 - val_loss: 1.2306 - val_accuracy: 0.5000\n",
      "Epoch 62/100\n",
      "12/12 [==============================] - 34s 3s/step - loss: 0.6534 - accuracy: 0.7474 - val_loss: 1.2073 - val_accuracy: 0.5455\n",
      "Epoch 63/100\n",
      "12/12 [==============================] - 34s 3s/step - loss: 0.6574 - accuracy: 0.7579 - val_loss: 1.2313 - val_accuracy: 0.5227\n",
      "Epoch 64/100\n",
      "12/12 [==============================] - 34s 3s/step - loss: 0.6394 - accuracy: 0.7895 - val_loss: 1.2087 - val_accuracy: 0.5227\n",
      "Epoch 65/100\n",
      "12/12 [==============================] - 34s 3s/step - loss: 0.6483 - accuracy: 0.7368 - val_loss: 1.2564 - val_accuracy: 0.5455\n",
      "Epoch 66/100\n",
      "12/12 [==============================] - 34s 3s/step - loss: 0.6359 - accuracy: 0.7684 - val_loss: 1.2303 - val_accuracy: 0.5227\n",
      "Epoch 67/100\n",
      "12/12 [==============================] - 34s 3s/step - loss: 0.6398 - accuracy: 0.7579 - val_loss: 1.2023 - val_accuracy: 0.5000\n",
      "Epoch 68/100\n",
      "12/12 [==============================] - 34s 3s/step - loss: 0.6180 - accuracy: 0.8211 - val_loss: 1.1976 - val_accuracy: 0.5227\n",
      "Epoch 69/100\n",
      "12/12 [==============================] - 34s 3s/step - loss: 0.6422 - accuracy: 0.7263 - val_loss: 1.2209 - val_accuracy: 0.5227\n",
      "Epoch 70/100\n",
      "12/12 [==============================] - 34s 3s/step - loss: 0.6345 - accuracy: 0.7684 - val_loss: 1.2546 - val_accuracy: 0.5455\n",
      "Epoch 71/100\n",
      "12/12 [==============================] - 34s 3s/step - loss: 0.6178 - accuracy: 0.7579 - val_loss: 1.1987 - val_accuracy: 0.5455\n",
      "Epoch 72/100\n",
      "12/12 [==============================] - 34s 3s/step - loss: 0.6117 - accuracy: 0.8000 - val_loss: 1.2384 - val_accuracy: 0.5000\n",
      "Epoch 73/100\n",
      "12/12 [==============================] - 34s 3s/step - loss: 0.6386 - accuracy: 0.7684 - val_loss: 1.2602 - val_accuracy: 0.5455\n",
      "Epoch 74/100\n",
      "12/12 [==============================] - 34s 3s/step - loss: 0.6167 - accuracy: 0.7579 - val_loss: 1.2193 - val_accuracy: 0.5227\n",
      "Epoch 75/100\n",
      "12/12 [==============================] - 34s 3s/step - loss: 0.6097 - accuracy: 0.7474 - val_loss: 1.2233 - val_accuracy: 0.5227\n",
      "Epoch 76/100\n",
      "12/12 [==============================] - 34s 3s/step - loss: 0.6426 - accuracy: 0.7579 - val_loss: 1.3001 - val_accuracy: 0.5000\n"
     ]
    },
    {
     "data": {
      "text/plain": [
       "<keras.callbacks.History at 0x254317eee20>"
      ]
     },
     "execution_count": 686,
     "metadata": {},
     "output_type": "execute_result"
    }
   ],
   "source": [
    "net = tf.keras.applications.EfficientNetB0(include_top = False)\n",
    "net.trainable = False\n",
    "\n",
    "model = tf.keras.Sequential([\n",
    "    tf.keras.layers.Rescaling(scale=255),\n",
    "    tf.keras.layers.TimeDistributed(net),\n",
    "    tf.keras.layers.Dense(10),\n",
    "    tf.keras.layers.GlobalAveragePooling3D()\n",
    "])\n",
    "\n",
    "model.compile(optimizer = 'adam',\n",
    "              loss=tf.keras.losses.SparseCategoricalCrossentropy(from_logits = True),\n",
    "              metrics=['accuracy'])\n",
    "\n",
    "model.fit(train_ds, \n",
    "          epochs = 100,\n",
    "          validation_data = val_ds,\n",
    "          callbacks = tf.keras.callbacks.EarlyStopping(patience = 25, monitor = 'val_loss'))"
   ]
  },
  {
   "cell_type": "code",
   "execution_count": 621,
   "id": "4afe14e4",
   "metadata": {},
   "outputs": [],
   "source": [
    "###\n",
    "###"
   ]
  },
  {
   "cell_type": "code",
   "execution_count": null,
   "id": "7e6c2669",
   "metadata": {},
   "outputs": [],
   "source": [
    "#########################\n",
    "#########################\n",
    "#########################"
   ]
  },
  {
   "cell_type": "code",
   "execution_count": 641,
   "id": "9fa00c87",
   "metadata": {},
   "outputs": [
    {
     "data": {
      "text/plain": [
       "(10, 224, 224, 3)"
      ]
     },
     "execution_count": 641,
     "metadata": {},
     "output_type": "execute_result"
    }
   ],
   "source": [
    "video_path = r\"C:\\Users\\BEE Team\\Desktop\\code\\Summarys_labels\\Sep_Clips\\train\\Run\\Run_0_1.mp4\"\n",
    "sample_video = frames_from_video_file(video_path, n_frames = 10)\n",
    "sample_video.shape"
   ]
  },
  {
   "cell_type": "code",
   "execution_count": 555,
   "id": "af8960a2",
   "metadata": {},
   "outputs": [],
   "source": [
    "root_path = r\"C:\\Users\\BEE Team\\Desktop\\code\\Summarys_labels\\Sep_Clips\""
   ]
  },
  {
   "cell_type": "code",
   "execution_count": 557,
   "id": "b1a92571",
   "metadata": {
    "scrolled": false
   },
   "outputs": [
    {
     "name": "stdout",
     "output_type": "stream",
     "text": [
      "Found 200 videos in 6 categories.\n",
      "background             71 videos (C:\\Users\\BEE Team\\Desktop\\code\\Summarys_labels\\Sep_Clips\\test\\background\\background_13.mp4, C:\\Users\\BEE Team\\Desktop\\code\\Summarys_labels\\Sep_Clips\\test\\background\\background_31.mp4, ...)\n",
      "IntCleaner             15 videos (C:\\Users\\BEE Team\\Desktop\\code\\Summarys_labels\\Sep_Clips\\test\\IntCleaner\\IntCleaner_4.mp4, C:\\Users\\BEE Team\\Desktop\\code\\Summarys_labels\\Sep_Clips\\test\\IntCleaner\\IntCleaner_6.mp4, ...)\n",
      "IntClient              75 videos (C:\\Users\\BEE Team\\Desktop\\code\\Summarys_labels\\Sep_Clips\\test\\IntClient\\IntClient_15.mp4, C:\\Users\\BEE Team\\Desktop\\code\\Summarys_labels\\Sep_Clips\\test\\IntClient\\IntClient_17_1.mp4, ...)\n",
      "Jolt                   19 videos (C:\\Users\\BEE Team\\Desktop\\code\\Summarys_labels\\Sep_Clips\\test\\Jolt\\Jolt_12.mp4, C:\\Users\\BEE Team\\Desktop\\code\\Summarys_labels\\Sep_Clips\\test\\Jolt\\Jolt_4.mp4, ...)\n",
      "TS                     18 videos (C:\\Users\\BEE Team\\Desktop\\code\\Summarys_labels\\Sep_Clips\\test\\TS\\TS_6_1.mp4, C:\\Users\\BEE Team\\Desktop\\code\\Summarys_labels\\Sep_Clips\\test\\TS\\TS_8_0.mp4, ...)\n",
      "Run                     2 videos (C:\\Users\\BEE Team\\Desktop\\code\\Summarys_labels\\Sep_Clips\\train\\Run\\Run_0_1.mp4, C:\\Users\\BEE Team\\Desktop\\code\\Summarys_labels\\Sep_Clips\\val\\Run\\Run_0_0.mp4, ...)\n"
     ]
    }
   ],
   "source": [
    "def list_videos(root_path):\n",
    "    \"\"\"\n",
    "    Returns a list of videos and their categories.\n",
    "    \"\"\"\n",
    "    videos = []\n",
    "    for set_type in os.listdir(root_path):\n",
    "        set_path = os.path.join(root_path, set_type)\n",
    "        if not os.path.isdir(set_path):\n",
    "            continue\n",
    "        for category in os.listdir(set_path):\n",
    "            category_path = os.path.join(set_path, category)\n",
    "            if not os.path.isdir(category_path):\n",
    "                continue\n",
    "            for video in os.listdir(category_path):\n",
    "                video_path = os.path.join(category_path, video)\n",
    "                if not video_path.endswith(\".mp4\"):\n",
    "                    continue\n",
    "                videos.append((video_path, set_type, category))\n",
    "    return videos\n",
    "\n",
    "videos = list_videos(r\"C:\\Users\\BEE Team\\Desktop\\code\\Summarys_labels\\Sep_Clips\")\n",
    "\n",
    "categories = {}\n",
    "for video in videos:\n",
    "    category = video[2]\n",
    "    if category not in categories:\n",
    "        categories[category] = []\n",
    "    categories[category].append(video[0])\n",
    "print(\"Found %d videos in %d categories.\" % (len(videos), len(categories)))\n",
    "\n",
    "for category, sequences in categories.items():\n",
    "    summary = \", \".join(sequences[:2])\n",
    "    print(\"%-20s %4d videos (%s, ...)\" % (category, len(sequences), summary))\n"
   ]
  },
  {
   "cell_type": "code",
   "execution_count": 695,
   "id": "747ed36b",
   "metadata": {},
   "outputs": [
    {
     "name": "stdout",
     "output_type": "stream",
     "text": [
      "Top 5 actions:\n"
     ]
    },
    {
     "ename": "IndexError",
     "evalue": "list index out of range",
     "output_type": "error",
     "traceback": [
      "\u001b[1;31m---------------------------------------------------------------------------\u001b[0m",
      "\u001b[1;31mIndexError\u001b[0m                                Traceback (most recent call last)",
      "Cell \u001b[1;32mIn[695], line 9\u001b[0m\n\u001b[0;32m      7\u001b[0m \u001b[38;5;28mprint\u001b[39m(\u001b[38;5;124m\"\u001b[39m\u001b[38;5;124mTop 5 actions:\u001b[39m\u001b[38;5;124m\"\u001b[39m)\n\u001b[0;32m      8\u001b[0m \u001b[38;5;28;01mfor\u001b[39;00m i \u001b[38;5;129;01min\u001b[39;00m np\u001b[38;5;241m.\u001b[39margsort(probabilities)[::\u001b[38;5;241m-\u001b[39m\u001b[38;5;241m1\u001b[39m][:\u001b[38;5;241m5\u001b[39m]:\n\u001b[1;32m----> 9\u001b[0m     \u001b[38;5;28mprint\u001b[39m(\u001b[38;5;124mf\u001b[39m\u001b[38;5;124m\"\u001b[39m\u001b[38;5;124m  \u001b[39m\u001b[38;5;132;01m{\u001b[39;00mlabels_fish[i]\u001b[38;5;132;01m}\u001b[39;00m\u001b[38;5;124m: \u001b[39m\u001b[38;5;132;01m{\u001b[39;00mprobabilities[i] \u001b[38;5;241m*\u001b[39m \u001b[38;5;241m100\u001b[39m\u001b[38;5;132;01m:\u001b[39;00m\u001b[38;5;124m5.2f\u001b[39m\u001b[38;5;132;01m}\u001b[39;00m\u001b[38;5;124m%\u001b[39m\u001b[38;5;124m\"\u001b[39m)\n",
      "\u001b[1;31mIndexError\u001b[0m: list index out of range"
     ]
    }
   ],
   "source": [
    "# Add a batch axis to the sample video.\n",
    "model_input = tf.constant(sample_video, dtype=tf.float32)[tf.newaxis, ...]\n",
    "\n",
    "logits = i3d(model_input)['default'][0]\n",
    "probabilities = tf.nn.softmax(logits)\n",
    "\n",
    "print(\"Top 5 actions:\")\n",
    "for i in np.argsort(probabilities)[::-1][:5]:\n",
    "    print(f\"  {labels_fish[i]}: {probabilities[i] * 100:5.2f}%\")"
   ]
  },
  {
   "cell_type": "markdown",
   "id": "701984cd",
   "metadata": {},
   "source": [
    "############################\n",
    "This is in Video Classification notebook\n",
    "############################"
   ]
  },
  {
   "cell_type": "code",
   "execution_count": 601,
   "id": "caf5b132",
   "metadata": {},
   "outputs": [],
   "source": [
    "# Define the dimensions of one frame in the set of frames created\n",
    "HEIGHT = 224\n",
    "WIDTH = 224"
   ]
  },
  {
   "cell_type": "code",
   "execution_count": 602,
   "id": "5f9721c0",
   "metadata": {},
   "outputs": [],
   "source": [
    "class Conv2Plus1D(keras.layers.Layer):\n",
    "  def __init__(self, filters, kernel_size, padding):\n",
    "    \"\"\"\n",
    "      A sequence of convolutional layers that first apply the convolution operation over the\n",
    "      spatial dimensions, and then the temporal dimension. \n",
    "    \"\"\"\n",
    "    super().__init__()\n",
    "    self.seq = keras.Sequential([  \n",
    "        # Spatial decomposition\n",
    "        layers.Conv3D(filters=filters,\n",
    "                      kernel_size=(1, kernel_size[1], kernel_size[2]),\n",
    "                      padding=padding),\n",
    "        # Temporal decomposition\n",
    "        layers.Conv3D(filters=filters, \n",
    "                      kernel_size=(kernel_size[0], 1, 1),\n",
    "                      padding=padding)\n",
    "        ])\n",
    "\n",
    "  def call(self, x):\n",
    "    return self.seq(x)"
   ]
  },
  {
   "cell_type": "code",
   "execution_count": 603,
   "id": "e0298166",
   "metadata": {},
   "outputs": [],
   "source": [
    "class ResidualMain(keras.layers.Layer):\n",
    "  \"\"\"\n",
    "    Residual block of the model with convolution, layer normalization, and the\n",
    "    activation function, ReLU.\n",
    "  \"\"\"\n",
    "  def __init__(self, filters, kernel_size):\n",
    "    super().__init__()\n",
    "    self.seq = keras.Sequential([\n",
    "        Conv2Plus1D(filters=filters,\n",
    "                    kernel_size=kernel_size,\n",
    "                    padding='same'),\n",
    "        layers.LayerNormalization(),\n",
    "        layers.ReLU(),\n",
    "        Conv2Plus1D(filters=filters, \n",
    "                    kernel_size=kernel_size,\n",
    "                    padding='same'),\n",
    "        layers.LayerNormalization()\n",
    "    ])\n",
    "\n",
    "  def call(self, x):\n",
    "    return self.seq(x)"
   ]
  },
  {
   "cell_type": "code",
   "execution_count": 604,
   "id": "eb2443b2",
   "metadata": {},
   "outputs": [],
   "source": [
    "class Project(keras.layers.Layer):\n",
    "  \"\"\"\n",
    "    Project certain dimensions of the tensor as the data is passed through different \n",
    "    sized filters and downsampled. \n",
    "  \"\"\"\n",
    "  def __init__(self, units):\n",
    "    super().__init__()\n",
    "    self.seq = keras.Sequential([\n",
    "        layers.Dense(units),\n",
    "        layers.LayerNormalization()\n",
    "    ])\n",
    "\n",
    "  def call(self, x):\n",
    "    return self.seq(x)"
   ]
  },
  {
   "cell_type": "code",
   "execution_count": 605,
   "id": "4e6a1b97",
   "metadata": {},
   "outputs": [],
   "source": [
    "def add_residual_block(input, filters, kernel_size):\n",
    "  \"\"\"\n",
    "    Add residual blocks to the model. If the last dimensions of the input data\n",
    "    and filter size does not match, project it such that last dimension matches.\n",
    "  \"\"\"\n",
    "  out = ResidualMain(filters, \n",
    "                     kernel_size)(input)\n",
    "\n",
    "  res = input\n",
    "  # Using the Keras functional APIs, project the last dimension of the tensor to\n",
    "  # match the new filter size\n",
    "  if out.shape[-1] != input.shape[-1]:\n",
    "    res = Project(out.shape[-1])(res)\n",
    "\n",
    "  return layers.add([res, out])"
   ]
  },
  {
   "cell_type": "code",
   "execution_count": 606,
   "id": "74058fe4",
   "metadata": {},
   "outputs": [],
   "source": [
    "class ResizeVideo(keras.layers.Layer):\n",
    "  def __init__(self, height, width):\n",
    "    super().__init__()\n",
    "    self.height = height\n",
    "    self.width = width\n",
    "    self.resizing_layer = layers.Resizing(self.height, self.width)\n",
    "\n",
    "  def call(self, video):\n",
    "    \"\"\"\n",
    "      Use the einops library to resize the tensor.  \n",
    "\n",
    "      Args:\n",
    "        video: Tensor representation of the video, in the form of a set of frames.\n",
    "\n",
    "      Return:\n",
    "        A downsampled size of the video according to the new height and width it should be resized to.\n",
    "    \"\"\"\n",
    "    # b stands for batch size, t stands for time, h stands for height, \n",
    "    # w stands for width, and c stands for the number of channels.\n",
    "    old_shape = einops.parse_shape(video, 'b t h w c')\n",
    "    images = einops.rearrange(video, 'b t h w c -> (b t) h w c')\n",
    "    images = self.resizing_layer(images)\n",
    "    videos = einops.rearrange(\n",
    "        images, '(b t) h w c -> b t h w c',\n",
    "        t = old_shape['t'])\n",
    "    return videos"
   ]
  },
  {
   "cell_type": "code",
   "execution_count": 607,
   "id": "34262aae",
   "metadata": {},
   "outputs": [],
   "source": [
    "input_shape = (None, 10, HEIGHT, WIDTH, 3)\n",
    "input = layers.Input(shape=(input_shape[1:]))\n",
    "x = input\n",
    "\n",
    "x = Conv2Plus1D(filters=16, kernel_size=(3, 7, 7), padding='same')(x)\n",
    "x = layers.BatchNormalization()(x)\n",
    "x = layers.ReLU()(x)\n",
    "x = ResizeVideo(HEIGHT // 2, WIDTH // 2)(x)\n",
    "\n",
    "# Block 1\n",
    "x = add_residual_block(x, 16, (3, 3, 3))\n",
    "x = ResizeVideo(HEIGHT // 4, WIDTH // 4)(x)\n",
    "\n",
    "# Block 2\n",
    "x = add_residual_block(x, 32, (3, 3, 3))\n",
    "x = ResizeVideo(HEIGHT // 8, WIDTH // 8)(x)\n",
    "\n",
    "# Block 3\n",
    "x = add_residual_block(x, 64, (3, 3, 3))\n",
    "x = ResizeVideo(HEIGHT // 16, WIDTH // 16)(x)\n",
    "\n",
    "# Block 4\n",
    "x = add_residual_block(x, 128, (3, 3, 3))\n",
    "\n",
    "x = layers.GlobalAveragePooling3D()(x)\n",
    "x = layers.Flatten()(x)\n",
    "x = layers.Dense(10)(x)\n",
    "\n",
    "model = keras.Model(input, x)"
   ]
  },
  {
   "cell_type": "code",
   "execution_count": 608,
   "id": "94a3fea0",
   "metadata": {},
   "outputs": [],
   "source": [
    "frames, label = next(iter(train_ds))\n",
    "model.build(frames)"
   ]
  },
  {
   "cell_type": "code",
   "execution_count": 615,
   "id": "4fd8dc38",
   "metadata": {},
   "outputs": [
    {
     "name": "stdout",
     "output_type": "stream",
     "text": [
      "You must install pydot (`pip install pydot`) and install graphviz (see instructions at https://graphviz.gitlab.io/download/) for plot_model to work.\n"
     ]
    }
   ],
   "source": [
    "# Visualize the model\n",
    "keras.utils.plot_model(model, expand_nested=True, dpi=60, show_shapes=True)"
   ]
  },
  {
   "cell_type": "code",
   "execution_count": 616,
   "id": "f919f738",
   "metadata": {},
   "outputs": [],
   "source": [
    "model.compile(loss = keras.losses.SparseCategoricalCrossentropy(from_logits=True), \n",
    "              optimizer = keras.optimizers.Adam(learning_rate = 0.0001), \n",
    "              metrics = ['accuracy'])"
   ]
  },
  {
   "cell_type": "code",
   "execution_count": 617,
   "id": "2f969fab",
   "metadata": {
    "scrolled": true
   },
   "outputs": [
    {
     "name": "stdout",
     "output_type": "stream",
     "text": [
      "Epoch 1/50\n"
     ]
    },
    {
     "ename": "TypeError",
     "evalue": "in user code:\n\n    File \"C:\\Users\\Public\\new\\envs\\tensorflowtest\\lib\\site-packages\\keras\\engine\\training.py\", line 1284, in train_function  *\n        return step_function(self, iterator)\n    File \"C:\\Users\\Public\\new\\envs\\tensorflowtest\\lib\\site-packages\\keras\\engine\\training.py\", line 1268, in step_function  **\n        It should be consistent with `x` (you cannot have Numpy inputs and\n    File \"C:\\Users\\Public\\new\\envs\\tensorflowtest\\lib\\site-packages\\keras\\engine\\training.py\", line 1249, in run_step  **\n        `(inputs, targets, sample_weights)`.\n    File \"C:\\Users\\Public\\new\\envs\\tensorflowtest\\lib\\site-packages\\keras\\engine\\training.py\", line 1050, in train_step\n        \"\"\"\n    File \"C:\\Users\\Public\\new\\envs\\tensorflowtest\\lib\\site-packages\\keras\\utils\\traceback_utils.py\", line 70, in error_handler\n        raise e.with_traceback(filtered_tb) from None\n    File \"C:\\Users\\BEETEA~1\\AppData\\Local\\Temp\\__autograph_generated_filevxom3nis.py\", line 22, in tf__call\n        videos = ag__.converted_call(ag__.ld(einops).rearrange, (ag__.ld(images), '(b t) h w c -> b t h w c'), dict(t=ag__.ld(old_shape)['t']), fscope)\n    File \"C:\\Users\\BEETEA~1\\AppData\\Local\\Temp\\__autograph_generated_file94qn5dk2.py\", line 95, in tf__rearrange\n        retval_ = ag__.converted_call(ag__.ld(reduce), (ag__.converted_call(ag__.ld(cast), (ag__.ld(Tensor), ag__.ld(tensor)), None, fscope), ag__.ld(pattern)), dict(reduction='rearrange', **ag__.ld(axes_lengths)), fscope)\n    File \"C:\\Users\\BEETEA~1\\AppData\\Local\\Temp\\__autograph_generated_filexo11d0pi.py\", line 63, in tf__reduce\n        recipe = ag__.converted_call(ag__.ld(_prepare_transformation_recipe), (ag__.ld(pattern), ag__.ld(reduction)), dict(axes_lengths=ag__.ld(hashable_axes_lengths)), fscope)\n\n    TypeError: Exception encountered when calling layer 'resize_video' (type ResizeVideo).\n    \n    in user code:\n    \n        File \"C:\\Users\\BEE Team\\AppData\\Local\\Temp\\ipykernel_13092\\4004986950.py\", line 23, in call  *\n            videos = einops.rearrange(\n        File \"C:\\Users\\Public\\new\\envs\\tensorflowtest\\lib\\site-packages\\einops\\einops.py\", line 483, in rearrange  *\n            return reduce(cast(Tensor, tensor), pattern, reduction='rearrange', **axes_lengths)\n        File \"C:\\Users\\Public\\new\\envs\\tensorflowtest\\lib\\site-packages\\einops\\einops.py\", line 411, in reduce  *\n            recipe = _prepare_transformation_recipe(pattern, reduction, axes_lengths=hashable_axes_lengths)\n    \n        TypeError: Tensor is unhashable. Instead, use tensor.ref() as the key.\n    \n    \n    Call arguments received by layer 'resize_video' (type ResizeVideo):\n      • video=tf.Tensor(shape=(None, None, None, None, 16), dtype=float32)\n",
     "output_type": "error",
     "traceback": [
      "\u001b[1;31m---------------------------------------------------------------------------\u001b[0m",
      "\u001b[1;31mTypeError\u001b[0m                                 Traceback (most recent call last)",
      "Cell \u001b[1;32mIn[617], line 1\u001b[0m\n\u001b[1;32m----> 1\u001b[0m history \u001b[38;5;241m=\u001b[39m \u001b[43mmodel\u001b[49m\u001b[38;5;241;43m.\u001b[39;49m\u001b[43mfit\u001b[49m\u001b[43m(\u001b[49m\u001b[43mx\u001b[49m\u001b[43m \u001b[49m\u001b[38;5;241;43m=\u001b[39;49m\u001b[43m \u001b[49m\u001b[43mtrain_ds\u001b[49m\u001b[43m,\u001b[49m\n\u001b[0;32m      2\u001b[0m \u001b[43m                    \u001b[49m\u001b[43mepochs\u001b[49m\u001b[43m \u001b[49m\u001b[38;5;241;43m=\u001b[39;49m\u001b[43m \u001b[49m\u001b[38;5;241;43m50\u001b[39;49m\u001b[43m,\u001b[49m\u001b[43m \u001b[49m\n\u001b[0;32m      3\u001b[0m \u001b[43m                    \u001b[49m\u001b[43mvalidation_data\u001b[49m\u001b[43m \u001b[49m\u001b[38;5;241;43m=\u001b[39;49m\u001b[43m \u001b[49m\u001b[43mval_ds\u001b[49m\u001b[43m)\u001b[49m\n",
      "File \u001b[1;32mC:\\Users\\Public\\new\\envs\\tensorflowtest\\lib\\site-packages\\keras\\utils\\traceback_utils.py:70\u001b[0m, in \u001b[0;36mfilter_traceback.<locals>.error_handler\u001b[1;34m(*args, **kwargs)\u001b[0m\n\u001b[0;32m     67\u001b[0m     filtered_tb \u001b[38;5;241m=\u001b[39m _process_traceback_frames(e\u001b[38;5;241m.\u001b[39m__traceback__)\n\u001b[0;32m     68\u001b[0m     \u001b[38;5;66;03m# To get the full stack trace, call:\u001b[39;00m\n\u001b[0;32m     69\u001b[0m     \u001b[38;5;66;03m# `tf.debugging.disable_traceback_filtering()`\u001b[39;00m\n\u001b[1;32m---> 70\u001b[0m     \u001b[38;5;28;01mraise\u001b[39;00m e\u001b[38;5;241m.\u001b[39mwith_traceback(filtered_tb) \u001b[38;5;28;01mfrom\u001b[39;00m \u001b[38;5;28mNone\u001b[39m\n\u001b[0;32m     71\u001b[0m \u001b[38;5;28;01mfinally\u001b[39;00m:\n\u001b[0;32m     72\u001b[0m     \u001b[38;5;28;01mdel\u001b[39;00m filtered_tb\n",
      "File \u001b[1;32mC:\\Users\\BEETEA~1\\AppData\\Local\\Temp\\__autograph_generated_filer89hs0us.py:15\u001b[0m, in \u001b[0;36mouter_factory.<locals>.inner_factory.<locals>.tf__train_function\u001b[1;34m(iterator)\u001b[0m\n\u001b[0;32m     13\u001b[0m \u001b[38;5;28;01mtry\u001b[39;00m:\n\u001b[0;32m     14\u001b[0m     do_return \u001b[38;5;241m=\u001b[39m \u001b[38;5;28;01mTrue\u001b[39;00m\n\u001b[1;32m---> 15\u001b[0m     retval_ \u001b[38;5;241m=\u001b[39m ag__\u001b[38;5;241m.\u001b[39mconverted_call(ag__\u001b[38;5;241m.\u001b[39mld(step_function), (ag__\u001b[38;5;241m.\u001b[39mld(\u001b[38;5;28mself\u001b[39m), ag__\u001b[38;5;241m.\u001b[39mld(iterator)), \u001b[38;5;28;01mNone\u001b[39;00m, fscope)\n\u001b[0;32m     16\u001b[0m \u001b[38;5;28;01mexcept\u001b[39;00m:\n\u001b[0;32m     17\u001b[0m     do_return \u001b[38;5;241m=\u001b[39m \u001b[38;5;28;01mFalse\u001b[39;00m\n",
      "File \u001b[1;32mC:\\Users\\BEETEA~1\\AppData\\Local\\Temp\\__autograph_generated_filevxom3nis.py:22\u001b[0m, in \u001b[0;36mouter_factory.<locals>.inner_factory.<locals>.tf__call\u001b[1;34m(self, video)\u001b[0m\n\u001b[0;32m     20\u001b[0m images \u001b[38;5;241m=\u001b[39m ag__\u001b[38;5;241m.\u001b[39mconverted_call(ag__\u001b[38;5;241m.\u001b[39mld(einops)\u001b[38;5;241m.\u001b[39mrearrange, (ag__\u001b[38;5;241m.\u001b[39mld(video), \u001b[38;5;124m'\u001b[39m\u001b[38;5;124mb t h w c -> (b t) h w c\u001b[39m\u001b[38;5;124m'\u001b[39m), \u001b[38;5;28;01mNone\u001b[39;00m, fscope)\n\u001b[0;32m     21\u001b[0m images \u001b[38;5;241m=\u001b[39m ag__\u001b[38;5;241m.\u001b[39mconverted_call(ag__\u001b[38;5;241m.\u001b[39mld(\u001b[38;5;28mself\u001b[39m)\u001b[38;5;241m.\u001b[39mresizing_layer, (ag__\u001b[38;5;241m.\u001b[39mld(images),), \u001b[38;5;28;01mNone\u001b[39;00m, fscope)\n\u001b[1;32m---> 22\u001b[0m videos \u001b[38;5;241m=\u001b[39m ag__\u001b[38;5;241m.\u001b[39mconverted_call(ag__\u001b[38;5;241m.\u001b[39mld(einops)\u001b[38;5;241m.\u001b[39mrearrange, (ag__\u001b[38;5;241m.\u001b[39mld(images), \u001b[38;5;124m'\u001b[39m\u001b[38;5;124m(b t) h w c -> b t h w c\u001b[39m\u001b[38;5;124m'\u001b[39m), \u001b[38;5;28mdict\u001b[39m(t\u001b[38;5;241m=\u001b[39mag__\u001b[38;5;241m.\u001b[39mld(old_shape)[\u001b[38;5;124m'\u001b[39m\u001b[38;5;124mt\u001b[39m\u001b[38;5;124m'\u001b[39m]), fscope)\n\u001b[0;32m     23\u001b[0m \u001b[38;5;28;01mtry\u001b[39;00m:\n\u001b[0;32m     24\u001b[0m     do_return \u001b[38;5;241m=\u001b[39m \u001b[38;5;28;01mTrue\u001b[39;00m\n",
      "File \u001b[1;32mC:\\Users\\BEETEA~1\\AppData\\Local\\Temp\\__autograph_generated_file94qn5dk2.py:95\u001b[0m, in \u001b[0;36mouter_factory.<locals>.inner_factory.<locals>.tf__rearrange\u001b[1;34m(tensor, pattern, **axes_lengths)\u001b[0m\n\u001b[0;32m     93\u001b[0m \u001b[38;5;28;01mtry\u001b[39;00m:\n\u001b[0;32m     94\u001b[0m     do_return \u001b[38;5;241m=\u001b[39m \u001b[38;5;28;01mTrue\u001b[39;00m\n\u001b[1;32m---> 95\u001b[0m     retval_ \u001b[38;5;241m=\u001b[39m ag__\u001b[38;5;241m.\u001b[39mconverted_call(ag__\u001b[38;5;241m.\u001b[39mld(reduce), (ag__\u001b[38;5;241m.\u001b[39mconverted_call(ag__\u001b[38;5;241m.\u001b[39mld(cast), (ag__\u001b[38;5;241m.\u001b[39mld(Tensor), ag__\u001b[38;5;241m.\u001b[39mld(tensor)), \u001b[38;5;28;01mNone\u001b[39;00m, fscope), ag__\u001b[38;5;241m.\u001b[39mld(pattern)), \u001b[38;5;28mdict\u001b[39m(reduction\u001b[38;5;241m=\u001b[39m\u001b[38;5;124m'\u001b[39m\u001b[38;5;124mrearrange\u001b[39m\u001b[38;5;124m'\u001b[39m, \u001b[38;5;241m*\u001b[39m\u001b[38;5;241m*\u001b[39mag__\u001b[38;5;241m.\u001b[39mld(axes_lengths)), fscope)\n\u001b[0;32m     96\u001b[0m \u001b[38;5;28;01mexcept\u001b[39;00m:\n\u001b[0;32m     97\u001b[0m     do_return \u001b[38;5;241m=\u001b[39m \u001b[38;5;28;01mFalse\u001b[39;00m\n",
      "File \u001b[1;32mC:\\Users\\BEETEA~1\\AppData\\Local\\Temp\\__autograph_generated_filexo11d0pi.py:63\u001b[0m, in \u001b[0;36mouter_factory.<locals>.inner_factory.<locals>.tf__reduce\u001b[1;34m(tensor, pattern, reduction, **axes_lengths)\u001b[0m\n\u001b[0;32m     61\u001b[0m \u001b[38;5;28;01mtry\u001b[39;00m:\n\u001b[0;32m     62\u001b[0m     hashable_axes_lengths \u001b[38;5;241m=\u001b[39m ag__\u001b[38;5;241m.\u001b[39mconverted_call(ag__\u001b[38;5;241m.\u001b[39mld(\u001b[38;5;28mtuple\u001b[39m), (ag__\u001b[38;5;241m.\u001b[39mconverted_call(ag__\u001b[38;5;241m.\u001b[39mld(\u001b[38;5;28msorted\u001b[39m), (ag__\u001b[38;5;241m.\u001b[39mconverted_call(ag__\u001b[38;5;241m.\u001b[39mld(axes_lengths)\u001b[38;5;241m.\u001b[39mitems, (), \u001b[38;5;28;01mNone\u001b[39;00m, fscope),), \u001b[38;5;28;01mNone\u001b[39;00m, fscope),), \u001b[38;5;28;01mNone\u001b[39;00m, fscope)\n\u001b[1;32m---> 63\u001b[0m     recipe \u001b[38;5;241m=\u001b[39m ag__\u001b[38;5;241m.\u001b[39mconverted_call(ag__\u001b[38;5;241m.\u001b[39mld(_prepare_transformation_recipe), (ag__\u001b[38;5;241m.\u001b[39mld(pattern), ag__\u001b[38;5;241m.\u001b[39mld(reduction)), \u001b[38;5;28mdict\u001b[39m(axes_lengths\u001b[38;5;241m=\u001b[39mag__\u001b[38;5;241m.\u001b[39mld(hashable_axes_lengths)), fscope)\n\u001b[0;32m     64\u001b[0m     \u001b[38;5;28;01mtry\u001b[39;00m:\n\u001b[0;32m     65\u001b[0m         do_return \u001b[38;5;241m=\u001b[39m \u001b[38;5;28;01mTrue\u001b[39;00m\n",
      "\u001b[1;31mTypeError\u001b[0m: in user code:\n\n    File \"C:\\Users\\Public\\new\\envs\\tensorflowtest\\lib\\site-packages\\keras\\engine\\training.py\", line 1284, in train_function  *\n        return step_function(self, iterator)\n    File \"C:\\Users\\Public\\new\\envs\\tensorflowtest\\lib\\site-packages\\keras\\engine\\training.py\", line 1268, in step_function  **\n        It should be consistent with `x` (you cannot have Numpy inputs and\n    File \"C:\\Users\\Public\\new\\envs\\tensorflowtest\\lib\\site-packages\\keras\\engine\\training.py\", line 1249, in run_step  **\n        `(inputs, targets, sample_weights)`.\n    File \"C:\\Users\\Public\\new\\envs\\tensorflowtest\\lib\\site-packages\\keras\\engine\\training.py\", line 1050, in train_step\n        \"\"\"\n    File \"C:\\Users\\Public\\new\\envs\\tensorflowtest\\lib\\site-packages\\keras\\utils\\traceback_utils.py\", line 70, in error_handler\n        raise e.with_traceback(filtered_tb) from None\n    File \"C:\\Users\\BEETEA~1\\AppData\\Local\\Temp\\__autograph_generated_filevxom3nis.py\", line 22, in tf__call\n        videos = ag__.converted_call(ag__.ld(einops).rearrange, (ag__.ld(images), '(b t) h w c -> b t h w c'), dict(t=ag__.ld(old_shape)['t']), fscope)\n    File \"C:\\Users\\BEETEA~1\\AppData\\Local\\Temp\\__autograph_generated_file94qn5dk2.py\", line 95, in tf__rearrange\n        retval_ = ag__.converted_call(ag__.ld(reduce), (ag__.converted_call(ag__.ld(cast), (ag__.ld(Tensor), ag__.ld(tensor)), None, fscope), ag__.ld(pattern)), dict(reduction='rearrange', **ag__.ld(axes_lengths)), fscope)\n    File \"C:\\Users\\BEETEA~1\\AppData\\Local\\Temp\\__autograph_generated_filexo11d0pi.py\", line 63, in tf__reduce\n        recipe = ag__.converted_call(ag__.ld(_prepare_transformation_recipe), (ag__.ld(pattern), ag__.ld(reduction)), dict(axes_lengths=ag__.ld(hashable_axes_lengths)), fscope)\n\n    TypeError: Exception encountered when calling layer 'resize_video' (type ResizeVideo).\n    \n    in user code:\n    \n        File \"C:\\Users\\BEE Team\\AppData\\Local\\Temp\\ipykernel_13092\\4004986950.py\", line 23, in call  *\n            videos = einops.rearrange(\n        File \"C:\\Users\\Public\\new\\envs\\tensorflowtest\\lib\\site-packages\\einops\\einops.py\", line 483, in rearrange  *\n            return reduce(cast(Tensor, tensor), pattern, reduction='rearrange', **axes_lengths)\n        File \"C:\\Users\\Public\\new\\envs\\tensorflowtest\\lib\\site-packages\\einops\\einops.py\", line 411, in reduce  *\n            recipe = _prepare_transformation_recipe(pattern, reduction, axes_lengths=hashable_axes_lengths)\n    \n        TypeError: Tensor is unhashable. Instead, use tensor.ref() as the key.\n    \n    \n    Call arguments received by layer 'resize_video' (type ResizeVideo):\n      • video=tf.Tensor(shape=(None, None, None, None, 16), dtype=float32)\n"
     ]
    }
   ],
   "source": [
    "history = model.fit(x = train_ds,\n",
    "                    epochs = 50, \n",
    "                    validation_data = val_ds)"
   ]
  },
  {
   "cell_type": "code",
   "execution_count": null,
   "id": "5816da72",
   "metadata": {},
   "outputs": [],
   "source": []
  },
  {
   "cell_type": "code",
   "execution_count": null,
   "id": "db0bdb81",
   "metadata": {},
   "outputs": [],
   "source": []
  },
  {
   "cell_type": "code",
   "execution_count": null,
   "id": "9d5ad73b",
   "metadata": {},
   "outputs": [],
   "source": []
  }
 ],
 "metadata": {
  "kernelspec": {
   "display_name": "Python 3 (ipykernel)",
   "language": "python",
   "name": "python3"
  },
  "language_info": {
   "codemirror_mode": {
    "name": "ipython",
    "version": 3
   },
   "file_extension": ".py",
   "mimetype": "text/x-python",
   "name": "python",
   "nbconvert_exporter": "python",
   "pygments_lexer": "ipython3",
   "version": "3.9.16"
  }
 },
 "nbformat": 4,
 "nbformat_minor": 5
}
