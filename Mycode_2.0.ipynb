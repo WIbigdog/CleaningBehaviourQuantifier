{
 "cells": [
  {
   "cell_type": "code",
   "execution_count": 112,
   "id": "13725c69",
   "metadata": {},
   "outputs": [],
   "source": [
    "import tqdm\n",
    "import random\n",
    "import pathlib\n",
    "import itertools\n",
    "import collections\n",
    "import keras\n",
    "\n",
    "import glob\n",
    "import pandas as pd\n",
    "import os\n",
    "import cv2\n",
    "import numpy as np\n",
    "import remotezip as rz\n",
    "import einops\n",
    "import random\n",
    "import shutil\n",
    "\n",
    "import tensorflow as tf\n",
    "\n",
    "from pathlib import Path\n",
    "\n",
    "# Some modules to display an animation using imageio.\n",
    "import imageio\n",
    "from IPython import display\n",
    "from urllib import request\n",
    "from tensorflow_docs.vis import embed\n",
    "from keras import layers\n",
    "import matplotlib.pyplot as plt"
   ]
  },
  {
   "cell_type": "code",
   "execution_count": 1,
   "id": "2cca6777",
   "metadata": {},
   "outputs": [],
   "source": [
    "#########################\n",
    "#########################\n",
    "#########################"
   ]
  },
  {
   "cell_type": "markdown",
   "id": "7a618d0c",
   "metadata": {},
   "source": [
    "# Data Preprocessing"
   ]
  },
  {
   "cell_type": "code",
   "execution_count": 276,
   "id": "c478d2bd",
   "metadata": {},
   "outputs": [],
   "source": [
    "# Create a directory to store all the clips\n",
    "clips_dir = r\"C:\\Users\\BEE Team\\Desktop\\code\\Summarys_labels\\All_Clips\"\n",
    "os.makedirs(clips_dir, exist_ok=True)\n",
    "\n",
    "# Loop through all the CSV files\n",
    "csv_dir = r'C:\\Users\\BEE Team\\Desktop\\code\\Summarys_labels'\n",
    "csv_files = [f for f in os.listdir(csv_dir) if f.endswith('.csv')]\n",
    "csv_files = csv_files[1:]\n",
    "\n",
    "\n",
    "# Loop through all the CSV files\n",
    "for csv_file in csv_files:\n",
    "    if csv_file.endswith('.csv'):\n",
    "        # Read the CSV file\n",
    "        df = pd.read_csv(os.path.join(csv_dir, csv_file))\n",
    "\n",
    "        # Directory of videos\n",
    "        video_dir = r'C:\\Users\\BEE Team\\Desktop\\Videos\\Daniele_Vids_Lab\\LD\\Yellow'\n",
    "        df['Video_path'] = df['file'].apply(lambda x: os.path.join(video_dir, x.split('_labels')[0] + '.mp4'))\n",
    "\n",
    "        # Create a directory to store the clips for this csv file\n",
    "        csv_clips_dir = os.path.join(clips_dir, os.path.splitext(csv_file.split('_')[2])[0])\n",
    "        os.makedirs(csv_clips_dir, exist_ok=True)\n",
    "\n",
    "        # Extract video clips from each row of the dataframe and save them to a file\n",
    "        for index, row in df.iterrows():\n",
    "            video_path = row['Video_path']\n",
    "            start_frame = row['start_frame']\n",
    "            end_frame = row['end_frame']\n",
    "            classification = row['classification']\n",
    "            \n",
    "            video = cv2.VideoCapture(video_path)\n",
    "            video.set(cv2.CAP_PROP_POS_FRAMES, start_frame)\n",
    "            clip_frames = []\n",
    "            for i in range(start_frame, end_frame):\n",
    "                ret, frame = video.read()\n",
    "                if ret:\n",
    "                    clip_frames.append(frame)\n",
    "                else:\n",
    "                    break\n",
    "            \n",
    "\n",
    "            if duration > 120:  # if duration is more than 2 seconds (assuming 60 fps)\n",
    "                num_clips = int(duration / 120)  # split into 120-frame clips\n",
    "                for i in range(num_clips + 1):\n",
    "                    start_idx = i * 120\n",
    "                    end_idx = min(start_idx + 120, duration)\n",
    "                    subclip_frames = clip_frames[start_idx:end_idx]\n",
    "                    subclip_path = os.path.join(csv_clips_dir, f'{classification}_{index}_{i}.mp4')\n",
    "                    subclip = cv2.VideoWriter(subclip_path, cv2.VideoWriter_fourcc(*'XVID'), 60, (frame.shape[1], frame.shape[0]))\n",
    "                    for frame in subclip_frames:\n",
    "                        subclip.write(frame)\n",
    "                    subclip.release()\n",
    "\n",
    "\n",
    "\n",
    "            else:  # if duration is less than or equal to 2 seconds\n",
    "                clip_path = os.path.join(csv_clips_dir, f'{classification}_{index}.mp4')\n",
    "                clip = cv2.VideoWriter(clip_path, cv2.VideoWriter_fourcc(*'XVID'), 60, (frame.shape[1], frame.shape[0]))\n",
    "                for frame in clip_frames:\n",
    "                    clip.write(frame)\n",
    "                clip.release()           \n",
    "            "
   ]
  },
  {
   "cell_type": "code",
   "execution_count": 278,
   "id": "1d559c73",
   "metadata": {},
   "outputs": [],
   "source": [
    "# set the root directory of your videos\n",
    "root_dir = r\"C:\\Users\\BEE Team\\Desktop\\code\\Summarys_labels\\All_Clips\"\n",
    "\n",
    "# set the directories where you want to move the videos to\n",
    "train_dir = r\"C:\\Users\\BEE Team\\Desktop\\code\\Summarys_labels\\Sep_Clips\\train\"\n",
    "test_dir = r\"C:\\Users\\BEE Team\\Desktop\\code\\Summarys_labels\\Sep_Clips\\test\"\n",
    "val_dir = r\"C:\\Users\\BEE Team\\Desktop\\code\\Summarys_labels\\Sep_Clips\\val\"\n",
    "\n",
    "\n",
    "# set the split ratios\n",
    "train_ratio = 0.6\n",
    "test_ratio = 0.2\n",
    "val_ratio = 0.2\n",
    "\n",
    "# loop through all the subdirectories in the root directory\n",
    "for subdir in os.listdir(root_dir):\n",
    "    \n",
    "    # check if the subdirectory is a directory\n",
    "    if os.path.isdir(os.path.join(root_dir, subdir)):\n",
    "        \n",
    "        # get the list of videos in the subdirectory\n",
    "        video_list = [f for f in os.listdir(os.path.join(root_dir, subdir)) if f.endswith(\".mp4\")]\n",
    "        \n",
    "        # calculate the number of videos in each split\n",
    "        num_videos = len(video_list)\n",
    "        num_train = int(0.6 * num_videos)\n",
    "        num_test = int(0.2 * num_videos)\n",
    "        num_val = num_videos - num_train - num_test\n",
    "        \n",
    "        # shuffle the video list\n",
    "        random.shuffle(video_list)\n",
    "        \n",
    "        # move the videos to the appropriate split directory\n",
    "        for i, video in enumerate(video_list):\n",
    "            \n",
    "            if i < num_train:\n",
    "                dest_dir = os.path.join(train_dir, video.split(\"_\")[0])\n",
    "            elif i < num_train + num_test:\n",
    "                dest_dir = os.path.join(test_dir, video.split(\"_\")[0])\n",
    "            else:\n",
    "                dest_dir = os.path.join(val_dir, video.split(\"_\")[0])\n",
    "            \n",
    "            os.makedirs(dest_dir, exist_ok=True)\n",
    "            src_file = os.path.join(root_dir, subdir, video)\n",
    "            dest_file = os.path.join(dest_dir, video)\n",
    "            shutil.move(src_file, dest_file)"
   ]
  },
  {
   "cell_type": "code",
   "execution_count": 275,
   "id": "2a294030",
   "metadata": {},
   "outputs": [],
   "source": [
    "# Run only to delete folders\n",
    "\n",
    "#shutil.rmtree(r\"C:\\Users\\BEE Team\\Desktop\\code\\Summarys_labels\\All_Clips\")"
   ]
  },
  {
   "cell_type": "code",
   "execution_count": 180,
   "id": "5b8a43a7",
   "metadata": {},
   "outputs": [],
   "source": [
    "########\n",
    "########\n",
    "########"
   ]
  },
  {
   "cell_type": "markdown",
   "id": "6edb0416",
   "metadata": {},
   "source": [
    "# Classifcation"
   ]
  },
  {
   "cell_type": "code",
   "execution_count": 432,
   "id": "5e912e5b",
   "metadata": {},
   "outputs": [],
   "source": [
    "def format_frames(frame, output_size):\n",
    "  \"\"\"\n",
    "    Pad and resize an image from a video.\n",
    "\n",
    "    Args:\n",
    "      frame: Image that needs to resized and padded. \n",
    "      output_size: Pixel size of the output frame image.\n",
    "\n",
    "    Return:\n",
    "      Formatted frame with padding of specified output size.\n",
    "  \"\"\"\n",
    "  frame = tf.image.convert_image_dtype(frame, tf.float32)\n",
    "  frame = tf.image.resize_with_pad(frame, *output_size)\n",
    "  return frame"
   ]
  },
  {
   "cell_type": "code",
   "execution_count": 433,
   "id": "d7e9371c",
   "metadata": {},
   "outputs": [],
   "source": [
    "def frames_from_video_file(video_path, n_frames, output_size = (224,224), frame_step = 15):\n",
    "  \"\"\"\n",
    "    Creates frames from each video file present for each category.\n",
    "\n",
    "    Args:\n",
    "      video_path: File path to the video.\n",
    "      n_frames: Number of frames to be created per video file.\n",
    "      output_size: Pixel size of the output frame image.\n",
    "\n",
    "    Return:\n",
    "      An NumPy array of frames in the shape of (n_frames, height, width, channels).\n",
    "  \"\"\"\n",
    "  # Read each video frame by frame\n",
    "  result = []\n",
    "  src = cv2.VideoCapture(str(video_path))  \n",
    "\n",
    "  video_length = src.get(cv2.CAP_PROP_FRAME_COUNT)\n",
    "\n",
    "  need_length = 1 + (n_frames - 1) * frame_step\n",
    "\n",
    "  if need_length > video_length:\n",
    "    start = 0\n",
    "  else:\n",
    "    max_start = video_length - need_length\n",
    "    start = random.randint(0, max_start + 1)\n",
    "\n",
    "  src.set(cv2.CAP_PROP_POS_FRAMES, start)\n",
    "  # ret is a boolean indicating whether read was successful, frame is the image itself\n",
    "  ret, frame = src.read()\n",
    "  result.append(format_frames(frame, output_size))\n",
    "\n",
    "  for _ in range(n_frames - 1):\n",
    "    for _ in range(frame_step):\n",
    "      ret, frame = src.read()\n",
    "    if ret:\n",
    "      frame = format_frames(frame, output_size)\n",
    "      result.append(frame)\n",
    "    else:\n",
    "      result.append(np.zeros_like(result[0]))\n",
    "  src.release()\n",
    "  result = np.array(result)[..., [2, 1, 0]]\n",
    "\n",
    "  return result"
   ]
  },
  {
   "cell_type": "code",
   "execution_count": 434,
   "id": "10df66f0",
   "metadata": {
    "scrolled": true
   },
   "outputs": [
    {
     "data": {
      "text/plain": [
       "'C:\\\\Users\\\\BEE Team\\\\Desktop\\\\code'"
      ]
     },
     "execution_count": 434,
     "metadata": {},
     "output_type": "execute_result"
    }
   ],
   "source": [
    "os.getcwd()"
   ]
  },
  {
   "cell_type": "code",
   "execution_count": 435,
   "id": "c3092e6b",
   "metadata": {
    "scrolled": true
   },
   "outputs": [
    {
     "data": {
      "text/plain": [
       "(10, 224, 224, 3)"
      ]
     },
     "execution_count": 435,
     "metadata": {},
     "output_type": "execute_result"
    }
   ],
   "source": [
    "video_path = r\"Summarys_labels\\Sep_Clips\\val\\IntCleaner\\IntCleaner_9.mp4\"\n",
    "sample_video = frames_from_video_file(video_path, n_frames = 10)\n",
    "sample_video.shape"
   ]
  },
  {
   "cell_type": "code",
   "execution_count": 436,
   "id": "f4410e87",
   "metadata": {},
   "outputs": [],
   "source": [
    "def to_gif(images):\n",
    "  converted_images = np.clip(images * 255, 0, 255).astype(np.uint8)\n",
    "  imageio.mimsave('./animation.gif', converted_images, fps=10)\n",
    "  return embed.embed_file('./animation.gif')"
   ]
  },
  {
   "cell_type": "code",
   "execution_count": 437,
   "id": "e671c2f1",
   "metadata": {},
   "outputs": [],
   "source": [
    "#to_gif(sample_video)"
   ]
  },
  {
   "cell_type": "code",
   "execution_count": 438,
   "id": "61cef584",
   "metadata": {},
   "outputs": [],
   "source": [
    "video_dir = r'Summarys_labels\\Sep_Clips\\train\\IntCleaner'\n",
    "\n",
    "# get a list of all the video files in the directory\n",
    "video_files = glob.glob(os.path.join(video_dir, '*.mp4'))\n",
    "\n",
    "# select the first video file in the list\n",
    "video_path = video_files[0]\n",
    "\n",
    "# extract 50 frames from the selected video file\n",
    "sample_videos = frames_from_video_file(video_path, 50)\n",
    "#to_gif(sample_videos)"
   ]
  },
  {
   "cell_type": "code",
   "execution_count": 439,
   "id": "9a9665df",
   "metadata": {},
   "outputs": [],
   "source": [
    "class FrameGenerator:\n",
    "  def __init__(self, path, n_frames, training = False):\n",
    "    \"\"\" Returns a set of frames with their associated label. \n",
    "\n",
    "      Args:\n",
    "        path: Video file paths.\n",
    "        n_frames: Number of frames. \n",
    "        training: Boolean to determine if training dataset is being created.\n",
    "    \"\"\"\n",
    "    self.path = path\n",
    "    self.n_frames = n_frames\n",
    "    self.training = training\n",
    "    self.class_names = sorted(set(p.name for p in self.path.iterdir() if p.is_dir()))\n",
    "    self.class_ids_for_name = dict((name, idx) for idx, name in enumerate(self.class_names))\n",
    "\n",
    "  def get_files_and_class_names(self):\n",
    "    video_paths = list(self.path.glob('*/*.mp4'))\n",
    "    classes = [p.parent.name for p in video_paths] \n",
    "    return video_paths, classes\n",
    "\n",
    "  def __call__(self):\n",
    "    video_paths, classes = self.get_files_and_class_names()\n",
    "\n",
    "    pairs = list(zip(video_paths, classes))\n",
    "\n",
    "    if self.training:\n",
    "      random.shuffle(pairs)\n",
    "\n",
    "    for path, name in pairs:\n",
    "      video_frames = frames_from_video_file(path, self.n_frames) \n",
    "      label = self.class_ids_for_name[name] # Encode labels\n",
    "      yield video_frames, label"
   ]
  },
  {
   "cell_type": "code",
   "execution_count": 440,
   "id": "0d055a5a",
   "metadata": {},
   "outputs": [
    {
     "name": "stdout",
     "output_type": "stream",
     "text": [
      "Shape: (10, 224, 224, 3)\n",
      "Label: 1\n"
     ]
    }
   ],
   "source": [
    "fg = FrameGenerator(Path('Summarys_labels/Sep_Clips/train'), 10, training=True)\n",
    "\n",
    "frames,label = next(fg())\n",
    "\n",
    "print(f\"Shape: {frames.shape}\")\n",
    "print(f\"Label: {label}\")"
   ]
  },
  {
   "cell_type": "code",
   "execution_count": 441,
   "id": "89a0b48f",
   "metadata": {
    "scrolled": true
   },
   "outputs": [],
   "source": [
    "# Create the training set\n",
    "output_signature = (tf.TensorSpec(shape = (None, None, None, 3), dtype = tf.float32),\n",
    "                    tf.TensorSpec(shape = (), dtype = tf.int16))\n",
    "train_ds = tf.data.Dataset.from_generator(FrameGenerator(Path('Summarys_labels/Sep_Clips/train'), 10, training=True),\n",
    "                                          output_signature = output_signature)"
   ]
  },
  {
   "cell_type": "code",
   "execution_count": 442,
   "id": "d44e4150",
   "metadata": {},
   "outputs": [
    {
     "name": "stdout",
     "output_type": "stream",
     "text": [
      "tf.Tensor(1, shape=(), dtype=int16)\n",
      "tf.Tensor(1, shape=(), dtype=int16)\n",
      "tf.Tensor(1, shape=(), dtype=int16)\n",
      "tf.Tensor(1, shape=(), dtype=int16)\n",
      "tf.Tensor(2, shape=(), dtype=int16)\n",
      "tf.Tensor(4, shape=(), dtype=int16)\n",
      "tf.Tensor(1, shape=(), dtype=int16)\n",
      "tf.Tensor(1, shape=(), dtype=int16)\n",
      "tf.Tensor(1, shape=(), dtype=int16)\n",
      "tf.Tensor(3, shape=(), dtype=int16)\n"
     ]
    }
   ],
   "source": [
    "for frames, labels in train_ds.take(10):\n",
    "  print(labels)"
   ]
  },
  {
   "cell_type": "code",
   "execution_count": 443,
   "id": "ebe18f2e",
   "metadata": {},
   "outputs": [],
   "source": [
    "# Create the validation set\n",
    "val_ds = tf.data.Dataset.from_generator(FrameGenerator(Path('Summarys_labels/Sep_Clips/val'), 10),\n",
    "                                        output_signature = output_signature)"
   ]
  },
  {
   "cell_type": "code",
   "execution_count": 444,
   "id": "c5437ca9",
   "metadata": {},
   "outputs": [
    {
     "name": "stdout",
     "output_type": "stream",
     "text": [
      "Shape of training set of frames: (10, 224, 224, 3)\n",
      "Shape of training labels: ()\n",
      "Shape of validation set of frames: (10, 224, 224, 3)\n",
      "Shape of validation labels: ()\n"
     ]
    }
   ],
   "source": [
    "# Print the shapes of the data\n",
    "train_frames, train_labels = next(iter(train_ds))\n",
    "print(f'Shape of training set of frames: {train_frames.shape}')\n",
    "print(f'Shape of training labels: {train_labels.shape}')\n",
    "\n",
    "val_frames, val_labels = next(iter(val_ds))\n",
    "print(f'Shape of validation set of frames: {val_frames.shape}')\n",
    "print(f'Shape of validation labels: {val_labels.shape}')"
   ]
  },
  {
   "cell_type": "markdown",
   "id": "4d36db06",
   "metadata": {},
   "source": [
    "# Configure the dataset for performance"
   ]
  },
  {
   "cell_type": "code",
   "execution_count": 445,
   "id": "f3466342",
   "metadata": {},
   "outputs": [],
   "source": [
    "AUTOTUNE = tf.data.AUTOTUNE\n",
    "\n",
    "train_ds = train_ds.cache().shuffle(1000).prefetch(buffer_size = AUTOTUNE)\n",
    "val_ds = val_ds.cache().shuffle(1000).prefetch(buffer_size = AUTOTUNE)"
   ]
  },
  {
   "cell_type": "code",
   "execution_count": 446,
   "id": "b5469fd1",
   "metadata": {},
   "outputs": [],
   "source": [
    "train_ds = train_ds.batch(2)\n",
    "val_ds = val_ds.batch(2)"
   ]
  },
  {
   "cell_type": "code",
   "execution_count": 447,
   "id": "03e8402b",
   "metadata": {},
   "outputs": [
    {
     "ename": "InvalidArgumentError",
     "evalue": "{{function_node __wrapped__IteratorGetNext_output_types_2_device_/job:localhost/replica:0/task:0/device:CPU:0}} ValueError: Attempt to convert a value (None) with an unsupported type (<class 'NoneType'>) to a Tensor.\nTraceback (most recent call last):\n\n  File \"C:\\Users\\BEE Team\\AppData\\Roaming\\Python\\Python39\\site-packages\\tensorflow\\python\\ops\\script_ops.py\", line 267, in __call__\n    ret = func(*args)\n\n  File \"C:\\Users\\BEE Team\\AppData\\Roaming\\Python\\Python39\\site-packages\\tensorflow\\python\\autograph\\impl\\api.py\", line 642, in wrapper\n    return func(*args, **kwargs)\n\n  File \"C:\\Users\\BEE Team\\AppData\\Roaming\\Python\\Python39\\site-packages\\tensorflow\\python\\data\\ops\\from_generator_op.py\", line 198, in generator_py_func\n    values = next(generator_state.get_iterator(iterator_id))\n\n  File \"C:\\Users\\BEE Team\\AppData\\Local\\Temp\\ipykernel_13092\\1321760800.py\", line 30, in __call__\n    video_frames = frames_from_video_file(path, self.n_frames)\n\n  File \"C:\\Users\\BEE Team\\AppData\\Local\\Temp\\ipykernel_13092\\1654415659.py\", line 30, in frames_from_video_file\n    result.append(format_frames(frame, output_size))\n\n  File \"C:\\Users\\BEE Team\\AppData\\Local\\Temp\\ipykernel_13092\\132659923.py\", line 12, in format_frames\n    frame = tf.image.convert_image_dtype(frame, tf.float32)\n\n  File \"C:\\Users\\BEE Team\\AppData\\Roaming\\Python\\Python39\\site-packages\\tensorflow\\python\\util\\traceback_utils.py\", line 153, in error_handler\n    raise e.with_traceback(filtered_tb) from None\n\n  File \"C:\\Users\\BEE Team\\AppData\\Roaming\\Python\\Python39\\site-packages\\tensorflow\\python\\framework\\constant_op.py\", line 103, in convert_to_eager_tensor\n    return ops.EagerTensor(value, ctx.device_name, dtype)\n\nValueError: Attempt to convert a value (None) with an unsupported type (<class 'NoneType'>) to a Tensor.\n\n\n\t [[{{node PyFunc}}]] [Op:IteratorGetNext]",
     "output_type": "error",
     "traceback": [
      "\u001b[1;31m---------------------------------------------------------------------------\u001b[0m",
      "\u001b[1;31mInvalidArgumentError\u001b[0m                      Traceback (most recent call last)",
      "Cell \u001b[1;32mIn[447], line 1\u001b[0m\n\u001b[1;32m----> 1\u001b[0m \u001b[38;5;28;43mnext\u001b[39;49m\u001b[43m(\u001b[49m\u001b[38;5;28;43miter\u001b[39;49m\u001b[43m(\u001b[49m\u001b[43mtrain_ds\u001b[49m\u001b[43m)\u001b[49m\u001b[43m)\u001b[49m\n",
      "File \u001b[1;32m~\\AppData\\Roaming\\Python\\Python39\\site-packages\\tensorflow\\python\\data\\ops\\iterator_ops.py:797\u001b[0m, in \u001b[0;36mOwnedIterator.__next__\u001b[1;34m(self)\u001b[0m\n\u001b[0;32m    795\u001b[0m \u001b[38;5;28;01mdef\u001b[39;00m \u001b[38;5;21m__next__\u001b[39m(\u001b[38;5;28mself\u001b[39m):\n\u001b[0;32m    796\u001b[0m   \u001b[38;5;28;01mtry\u001b[39;00m:\n\u001b[1;32m--> 797\u001b[0m     \u001b[38;5;28;01mreturn\u001b[39;00m \u001b[38;5;28;43mself\u001b[39;49m\u001b[38;5;241;43m.\u001b[39;49m\u001b[43m_next_internal\u001b[49m\u001b[43m(\u001b[49m\u001b[43m)\u001b[49m\n\u001b[0;32m    798\u001b[0m   \u001b[38;5;28;01mexcept\u001b[39;00m errors\u001b[38;5;241m.\u001b[39mOutOfRangeError:\n\u001b[0;32m    799\u001b[0m     \u001b[38;5;28;01mraise\u001b[39;00m \u001b[38;5;167;01mStopIteration\u001b[39;00m\n",
      "File \u001b[1;32m~\\AppData\\Roaming\\Python\\Python39\\site-packages\\tensorflow\\python\\data\\ops\\iterator_ops.py:780\u001b[0m, in \u001b[0;36mOwnedIterator._next_internal\u001b[1;34m(self)\u001b[0m\n\u001b[0;32m    777\u001b[0m \u001b[38;5;66;03m# TODO(b/77291417): This runs in sync mode as iterators use an error status\u001b[39;00m\n\u001b[0;32m    778\u001b[0m \u001b[38;5;66;03m# to communicate that there is no more data to iterate over.\u001b[39;00m\n\u001b[0;32m    779\u001b[0m \u001b[38;5;28;01mwith\u001b[39;00m context\u001b[38;5;241m.\u001b[39mexecution_mode(context\u001b[38;5;241m.\u001b[39mSYNC):\n\u001b[1;32m--> 780\u001b[0m   ret \u001b[38;5;241m=\u001b[39m \u001b[43mgen_dataset_ops\u001b[49m\u001b[38;5;241;43m.\u001b[39;49m\u001b[43miterator_get_next\u001b[49m\u001b[43m(\u001b[49m\n\u001b[0;32m    781\u001b[0m \u001b[43m      \u001b[49m\u001b[38;5;28;43mself\u001b[39;49m\u001b[38;5;241;43m.\u001b[39;49m\u001b[43m_iterator_resource\u001b[49m\u001b[43m,\u001b[49m\n\u001b[0;32m    782\u001b[0m \u001b[43m      \u001b[49m\u001b[43moutput_types\u001b[49m\u001b[38;5;241;43m=\u001b[39;49m\u001b[38;5;28;43mself\u001b[39;49m\u001b[38;5;241;43m.\u001b[39;49m\u001b[43m_flat_output_types\u001b[49m\u001b[43m,\u001b[49m\n\u001b[0;32m    783\u001b[0m \u001b[43m      \u001b[49m\u001b[43moutput_shapes\u001b[49m\u001b[38;5;241;43m=\u001b[39;49m\u001b[38;5;28;43mself\u001b[39;49m\u001b[38;5;241;43m.\u001b[39;49m\u001b[43m_flat_output_shapes\u001b[49m\u001b[43m)\u001b[49m\n\u001b[0;32m    785\u001b[0m   \u001b[38;5;28;01mtry\u001b[39;00m:\n\u001b[0;32m    786\u001b[0m     \u001b[38;5;66;03m# Fast path for the case `self._structure` is not a nested structure.\u001b[39;00m\n\u001b[0;32m    787\u001b[0m     \u001b[38;5;28;01mreturn\u001b[39;00m \u001b[38;5;28mself\u001b[39m\u001b[38;5;241m.\u001b[39m_element_spec\u001b[38;5;241m.\u001b[39m_from_compatible_tensor_list(ret)  \u001b[38;5;66;03m# pylint: disable=protected-access\u001b[39;00m\n",
      "File \u001b[1;32m~\\AppData\\Roaming\\Python\\Python39\\site-packages\\tensorflow\\python\\ops\\gen_dataset_ops.py:3043\u001b[0m, in \u001b[0;36miterator_get_next\u001b[1;34m(iterator, output_types, output_shapes, name)\u001b[0m\n\u001b[0;32m   3041\u001b[0m   \u001b[38;5;28;01mreturn\u001b[39;00m _result\n\u001b[0;32m   3042\u001b[0m \u001b[38;5;28;01mexcept\u001b[39;00m _core\u001b[38;5;241m.\u001b[39m_NotOkStatusException \u001b[38;5;28;01mas\u001b[39;00m e:\n\u001b[1;32m-> 3043\u001b[0m   \u001b[43m_ops\u001b[49m\u001b[38;5;241;43m.\u001b[39;49m\u001b[43mraise_from_not_ok_status\u001b[49m\u001b[43m(\u001b[49m\u001b[43me\u001b[49m\u001b[43m,\u001b[49m\u001b[43m \u001b[49m\u001b[43mname\u001b[49m\u001b[43m)\u001b[49m\n\u001b[0;32m   3044\u001b[0m \u001b[38;5;28;01mexcept\u001b[39;00m _core\u001b[38;5;241m.\u001b[39m_FallbackException:\n\u001b[0;32m   3045\u001b[0m   \u001b[38;5;28;01mpass\u001b[39;00m\n",
      "File \u001b[1;32m~\\AppData\\Roaming\\Python\\Python39\\site-packages\\tensorflow\\python\\framework\\ops.py:7262\u001b[0m, in \u001b[0;36mraise_from_not_ok_status\u001b[1;34m(e, name)\u001b[0m\n\u001b[0;32m   7260\u001b[0m \u001b[38;5;28;01mdef\u001b[39;00m \u001b[38;5;21mraise_from_not_ok_status\u001b[39m(e, name):\n\u001b[0;32m   7261\u001b[0m   e\u001b[38;5;241m.\u001b[39mmessage \u001b[38;5;241m+\u001b[39m\u001b[38;5;241m=\u001b[39m (\u001b[38;5;124m\"\u001b[39m\u001b[38;5;124m name: \u001b[39m\u001b[38;5;124m\"\u001b[39m \u001b[38;5;241m+\u001b[39m name \u001b[38;5;28;01mif\u001b[39;00m name \u001b[38;5;129;01mis\u001b[39;00m \u001b[38;5;129;01mnot\u001b[39;00m \u001b[38;5;28;01mNone\u001b[39;00m \u001b[38;5;28;01melse\u001b[39;00m \u001b[38;5;124m\"\u001b[39m\u001b[38;5;124m\"\u001b[39m)\n\u001b[1;32m-> 7262\u001b[0m   \u001b[38;5;28;01mraise\u001b[39;00m core\u001b[38;5;241m.\u001b[39m_status_to_exception(e) \u001b[38;5;28;01mfrom\u001b[39;00m \u001b[38;5;28mNone\u001b[39m\n",
      "\u001b[1;31mInvalidArgumentError\u001b[0m: {{function_node __wrapped__IteratorGetNext_output_types_2_device_/job:localhost/replica:0/task:0/device:CPU:0}} ValueError: Attempt to convert a value (None) with an unsupported type (<class 'NoneType'>) to a Tensor.\nTraceback (most recent call last):\n\n  File \"C:\\Users\\BEE Team\\AppData\\Roaming\\Python\\Python39\\site-packages\\tensorflow\\python\\ops\\script_ops.py\", line 267, in __call__\n    ret = func(*args)\n\n  File \"C:\\Users\\BEE Team\\AppData\\Roaming\\Python\\Python39\\site-packages\\tensorflow\\python\\autograph\\impl\\api.py\", line 642, in wrapper\n    return func(*args, **kwargs)\n\n  File \"C:\\Users\\BEE Team\\AppData\\Roaming\\Python\\Python39\\site-packages\\tensorflow\\python\\data\\ops\\from_generator_op.py\", line 198, in generator_py_func\n    values = next(generator_state.get_iterator(iterator_id))\n\n  File \"C:\\Users\\BEE Team\\AppData\\Local\\Temp\\ipykernel_13092\\1321760800.py\", line 30, in __call__\n    video_frames = frames_from_video_file(path, self.n_frames)\n\n  File \"C:\\Users\\BEE Team\\AppData\\Local\\Temp\\ipykernel_13092\\1654415659.py\", line 30, in frames_from_video_file\n    result.append(format_frames(frame, output_size))\n\n  File \"C:\\Users\\BEE Team\\AppData\\Local\\Temp\\ipykernel_13092\\132659923.py\", line 12, in format_frames\n    frame = tf.image.convert_image_dtype(frame, tf.float32)\n\n  File \"C:\\Users\\BEE Team\\AppData\\Roaming\\Python\\Python39\\site-packages\\tensorflow\\python\\util\\traceback_utils.py\", line 153, in error_handler\n    raise e.with_traceback(filtered_tb) from None\n\n  File \"C:\\Users\\BEE Team\\AppData\\Roaming\\Python\\Python39\\site-packages\\tensorflow\\python\\framework\\constant_op.py\", line 103, in convert_to_eager_tensor\n    return ops.EagerTensor(value, ctx.device_name, dtype)\n\nValueError: Attempt to convert a value (None) with an unsupported type (<class 'NoneType'>) to a Tensor.\n\n\n\t [[{{node PyFunc}}]] [Op:IteratorGetNext]"
     ]
    }
   ],
   "source": [
    "next(iter(train_ds))"
   ]
  },
  {
   "cell_type": "code",
   "execution_count": null,
   "id": "4169abdd",
   "metadata": {},
   "outputs": [],
   "source": [
    "#train_ds = train_ds.batch(2)\n",
    "#val_ds = val_ds.batch(2)\n",
    "\n",
    "train_frames, train_labels = next(iter(train_ds))\n",
    "print(f'Shape of training set of frames: {train_frames.shape}')\n",
    "print(f'Shape of training labels: {train_labels.shape}')\n",
    "\n",
    "val_frames, val_labels = next(iter(val_ds))\n",
    "print(f'Shape of validation set of frames: {val_frames.shape}')\n",
    "print(f'Shape of validation labels: {val_labels.shape}')"
   ]
  },
  {
   "cell_type": "markdown",
   "id": "39278189",
   "metadata": {},
   "source": [
    "# Next steps"
   ]
  },
  {
   "cell_type": "code",
   "execution_count": null,
   "id": "421705d8",
   "metadata": {
    "scrolled": true
   },
   "outputs": [],
   "source": [
    "net = tf.keras.applications.EfficientNetB0(include_top = False)\n",
    "net.trainable = False\n",
    "\n",
    "model = tf.keras.Sequential([\n",
    "    tf.keras.layers.Rescaling(scale=255),\n",
    "    tf.keras.layers.TimeDistributed(net),\n",
    "    tf.keras.layers.Dense(10),\n",
    "    tf.keras.layers.GlobalAveragePooling3D()\n",
    "])\n",
    "\n",
    "model.compile(optimizer = 'adam',\n",
    "              loss=tf.keras.losses.SparseCategoricalCrossentropy(from_logits = True),\n",
    "              metrics=['accuracy'])\n",
    "\n",
    "model.fit(train_ds, \n",
    "          epochs = 10,\n",
    "          validation_data = val_ds,\n",
    "          callbacks = tf.keras.callbacks.EarlyStopping(patience = 10, monitor = 'val_loss'))"
   ]
  },
  {
   "cell_type": "code",
   "execution_count": null,
   "id": "7e6c2669",
   "metadata": {},
   "outputs": [],
   "source": [
    "#########################\n",
    "#########################\n",
    "#########################"
   ]
  },
  {
   "cell_type": "code",
   "execution_count": null,
   "id": "9fa00c87",
   "metadata": {},
   "outputs": [],
   "source": []
  }
 ],
 "metadata": {
  "kernelspec": {
   "display_name": "Python 3 (ipykernel)",
   "language": "python",
   "name": "python3"
  },
  "language_info": {
   "codemirror_mode": {
    "name": "ipython",
    "version": 3
   },
   "file_extension": ".py",
   "mimetype": "text/x-python",
   "name": "python",
   "nbconvert_exporter": "python",
   "pygments_lexer": "ipython3",
   "version": "3.9.16"
  }
 },
 "nbformat": 4,
 "nbformat_minor": 5
}
