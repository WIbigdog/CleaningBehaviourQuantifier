{
 "cells": [
  {
   "cell_type": "code",
   "execution_count": 1,
   "id": "59430a19",
   "metadata": {},
   "outputs": [],
   "source": [
    "import numpy as np\n",
    "import pandas as pd\n",
    "import matplotlib.pyplot as plt\n",
    "import os\n",
    "\n",
    "from sklearn.model_selection import train_test_split, GridSearchCV, cross_val_score \n",
    "from sklearn.svm import SVC\n",
    "from sklearn.metrics import accuracy_score, confusion_matrix\n",
    "from sklearn.ensemble import RandomForestClassifier\n",
    "from sklearn.impute import SimpleImputer, KNNImputer\n",
    "from sklearn.preprocessing import StandardScaler, LabelEncoder\n",
    "from sklearn.pipeline import Pipeline\n",
    "from sklearn.linear_model import Lasso\n",
    "from sklearn.feature_selection import SelectFromModel"
   ]
  },
  {
   "cell_type": "code",
   "execution_count": 2,
   "id": "cd793c6d",
   "metadata": {
    "scrolled": true
   },
   "outputs": [
    {
     "name": "stderr",
     "output_type": "stream",
     "text": [
      "C:\\Users\\raulo\\AppData\\Local\\Temp\\ipykernel_21404\\821610458.py:15: DtypeWarning: Columns (0,1,2,3,4,5,6,7,8,9,10,11,12,13,14,15,16,17,18,19,20,21,22,23,24,25,26,27,28,29,30,31,32,33,34,35,36,37,38,39,40,41,42) have mixed types. Specify dtype option on import or set low_memory=False.\n",
      "  df = pd.read_csv(file_path, header = 2)\n",
      "C:\\Users\\raulo\\AppData\\Local\\Temp\\ipykernel_21404\\821610458.py:15: DtypeWarning: Columns (0,1,2,3,4,5,6,7,8,9,10,11,12,13,14,15,16,17,18,19,20,21,22,23,24,25,26,27,28,29,30,31,32,33,34,35,36,37,38,39,40,41,42) have mixed types. Specify dtype option on import or set low_memory=False.\n",
      "  df = pd.read_csv(file_path, header = 2)\n",
      "C:\\Users\\raulo\\AppData\\Local\\Temp\\ipykernel_21404\\821610458.py:15: DtypeWarning: Columns (0,1,2,3,4,5,6,7,8,9,10,11,12,13,14,15,16,17,18,19,20,21,22,23,24,25,26,27,28,29,30,31,32,33,34,35,36,37,38,39,40,41,42) have mixed types. Specify dtype option on import or set low_memory=False.\n",
      "  df = pd.read_csv(file_path, header = 2)\n",
      "C:\\Users\\raulo\\AppData\\Local\\Temp\\ipykernel_21404\\821610458.py:15: DtypeWarning: Columns (0,1,2,3,4,5,6,7,8,9,10,11,12,13,14,15,16,17,18,19,20,21,22,23,24,25,26,27,28,29,30,31,32,33,34,35,36,37,38,39,40,41,42) have mixed types. Specify dtype option on import or set low_memory=False.\n",
      "  df = pd.read_csv(file_path, header = 2)\n",
      "C:\\Users\\raulo\\AppData\\Local\\Temp\\ipykernel_21404\\821610458.py:15: DtypeWarning: Columns (0,1,2,3,4,5,6,7,8,9,10,11,12,13,14,15,16,17,18,19,20,21,22,23,24,25,26,27,28,29,30,31,32,33,34,35,36,37,38,39,40,41,42) have mixed types. Specify dtype option on import or set low_memory=False.\n",
      "  df = pd.read_csv(file_path, header = 2)\n",
      "C:\\Users\\raulo\\AppData\\Local\\Temp\\ipykernel_21404\\821610458.py:15: DtypeWarning: Columns (0,1,2,3,4,5,6,7,8,9,10,11,12,13,14,15,16,17,18,19,20,21,22,23,24,25,26,27,28,29,30,31,32,33,34,35,36,37,38,39,40,41,42) have mixed types. Specify dtype option on import or set low_memory=False.\n",
      "  df = pd.read_csv(file_path, header = 2)\n",
      "C:\\Users\\raulo\\AppData\\Local\\Temp\\ipykernel_21404\\821610458.py:15: DtypeWarning: Columns (0,1,2,3,4,5,6,7,8,9,10,11,12,13,14,15,16,17,18,19,20,21,22,23,24,25,26,27,28,29,30,31,32,33,34,35,36,37,38,39,40,41,42) have mixed types. Specify dtype option on import or set low_memory=False.\n",
      "  df = pd.read_csv(file_path, header = 2)\n",
      "C:\\Users\\raulo\\AppData\\Local\\Temp\\ipykernel_21404\\821610458.py:15: DtypeWarning: Columns (0,1,2,3,4,5,6,7,8,9,10,11,12,13,14,15,16,17,18,19,20,21,22,23,24,25,26,27,28,29,30,31,32,33,34,35,36,37,38,39,40,41,42) have mixed types. Specify dtype option on import or set low_memory=False.\n",
      "  df = pd.read_csv(file_path, header = 2)\n",
      "C:\\Users\\raulo\\AppData\\Local\\Temp\\ipykernel_21404\\821610458.py:15: DtypeWarning: Columns (0,1,2,3,4,5,6,7,8,9,10,11,12,13,14,15,16,17,18,19,20,21,22,23,24,25,26,27,28,29,30,31,32,33,34,35,36,37,38,39,40,41,42) have mixed types. Specify dtype option on import or set low_memory=False.\n",
      "  df = pd.read_csv(file_path, header = 2)\n",
      "C:\\Users\\raulo\\AppData\\Local\\Temp\\ipykernel_21404\\821610458.py:15: DtypeWarning: Columns (0,1,2,3,4,5,6,7,8,9,10,11,12,13,14,15,16,17,18,19,20,21,22,23,24,25,26,27,28,29,30,31,32,33,34,35,36,37,38,39,40,41,42) have mixed types. Specify dtype option on import or set low_memory=False.\n",
      "  df = pd.read_csv(file_path, header = 2)\n",
      "C:\\Users\\raulo\\AppData\\Local\\Temp\\ipykernel_21404\\821610458.py:15: DtypeWarning: Columns (0,1,2,3,4,5,6,7,8,9,10,11,12,13,14,15,16,17,18,19,20,21,22,23,24,25,26,27,28,29,30,31,32,33,34,35,36,37,38,39,40,41,42) have mixed types. Specify dtype option on import or set low_memory=False.\n",
      "  df = pd.read_csv(file_path, header = 2)\n",
      "C:\\Users\\raulo\\AppData\\Local\\Temp\\ipykernel_21404\\821610458.py:15: DtypeWarning: Columns (0,1,2,3,4,5,6,7,8,9,10,11,12,13,14,15,16,17,18,19,20,21,22,23,24,25,26,27,28,29,30,31,32,33,34,35,36,37,38,39,40,41,42) have mixed types. Specify dtype option on import or set low_memory=False.\n",
      "  df = pd.read_csv(file_path, header = 2)\n",
      "C:\\Users\\raulo\\AppData\\Local\\Temp\\ipykernel_21404\\821610458.py:15: DtypeWarning: Columns (0,1,2,3,4,5,6,7,8,9,10,11,12,13,14,15,16,17,18,19,20,21,22,23,24,25,26,27,28,29,30,31,32,33,34,35,36,37,38,39,40,41,42) have mixed types. Specify dtype option on import or set low_memory=False.\n",
      "  df = pd.read_csv(file_path, header = 2)\n",
      "C:\\Users\\raulo\\AppData\\Local\\Temp\\ipykernel_21404\\821610458.py:15: DtypeWarning: Columns (0,1,2,3,4,5,6,7,8,9,10,11,12,13,14,15,16,17,18,19,20,21,22,23,24,25,26,27,28,29,30,31,32,33,34,35,36,37,38,39,40,41,42) have mixed types. Specify dtype option on import or set low_memory=False.\n",
      "  df = pd.read_csv(file_path, header = 2)\n",
      "C:\\Users\\raulo\\AppData\\Local\\Temp\\ipykernel_21404\\821610458.py:15: DtypeWarning: Columns (0,1,2,3,4,5,6,7,8,9,10,11,12,13,14,15,16,17,18,19,20,21,22,23,24,25,26,27,28,29,30,31,32,33,34,35,36,37,38,39,40,41,42) have mixed types. Specify dtype option on import or set low_memory=False.\n",
      "  df = pd.read_csv(file_path, header = 2)\n"
     ]
    }
   ],
   "source": [
    "# Directory path where the CSV files are located\n",
    "directory = r'C:\\Users\\raulo\\Desktop\\CódigoTese\\tracks'\n",
    "\n",
    "# List to store the individual DataFrames\n",
    "dfs = []\n",
    "\n",
    "# Get the list of file names in alphabetical order\n",
    "file_names = sorted(os.listdir(directory))\n",
    "\n",
    "# Iterate over the files in the directory\n",
    "for filename in file_names:\n",
    "    if filename.endswith('.csv'):\n",
    "        file_path = os.path.join(directory, filename)\n",
    "        #print(file_path)\n",
    "        df = pd.read_csv(file_path, header = 2)\n",
    "        df = df.drop(0)\n",
    "        df.index = df.index -1    #Set the index rigth\n",
    "        df = df.drop(columns='bodyparts')\n",
    "        dfs.append(df)\n"
   ]
  },
  {
   "cell_type": "code",
   "execution_count": 3,
   "id": "ca9c7f84",
   "metadata": {},
   "outputs": [],
   "source": [
    "# Directory path where the CSV files are located\n",
    "directory = r'C:\\Users\\raulo\\Desktop\\CódigoTese\\Labels'\n",
    "\n",
    "# List to store the individual DataFrames\n",
    "dfs_labels = []\n",
    "\n",
    "# Get the list of file names in alphabetical order\n",
    "file_names = sorted(os.listdir(directory))\n",
    "\n",
    "# Iterate over the files in the directory\n",
    "for filename in file_names:\n",
    "    if filename.endswith('.csv'):\n",
    "        file_path = os.path.join(directory, filename)\n",
    "        df = pd.read_csv(file_path)\n",
    "        df = df.drop(columns='Unnamed: 0')\n",
    "        #print(file_path)\n",
    "        dfs_labels.append(df)"
   ]
  },
  {
   "cell_type": "code",
   "execution_count": 4,
   "id": "eb3b431c",
   "metadata": {},
   "outputs": [],
   "source": [
    "dfs_labels_single = []\n",
    "for df in dfs_labels:\n",
    "    # Convert DataFrame into a single-column DataFrame\n",
    "    single_column_df = pd.DataFrame(df.idxmax(axis=1), columns=['Interaction'])\n",
    "    dfs_labels_single.append(single_column_df)"
   ]
  },
  {
   "cell_type": "code",
   "execution_count": 5,
   "id": "9d736d57",
   "metadata": {
    "scrolled": true
   },
   "outputs": [],
   "source": [
    "# Create a list to store the labeled DataFrames\n",
    "labeled_dfs = []\n",
    "\n",
    "# Iterate over the DataFrames\n",
    "for i in range(len(dfs)):\n",
    "    # Add the labels DataFrame in front of each DataFrame\n",
    "    labeled_df = pd.concat([dfs_labels_single[i], dfs[i]], axis=1)\n",
    "    labeled_dfs.append(labeled_df)\n",
    "\n",
    "# Concatenate the labeled DataFrames vertically\n",
    "merged_df = pd.concat(labeled_dfs, ignore_index=True)\n",
    "\n",
    "# Print the merged DataFrame\n",
    "#print(merged_df)"
   ]
  },
  {
   "cell_type": "code",
   "execution_count": 6,
   "id": "62db6cc9",
   "metadata": {
    "scrolled": true
   },
   "outputs": [
    {
     "name": "stdout",
     "output_type": "stream",
     "text": [
      "background     594156\n",
      "Int_Client       5524\n",
      "TS               1474\n",
      "Int_Cleaner       955\n",
      "Jolt              490\n",
      "Run               145\n",
      "Name: Interaction, dtype: int64\n"
     ]
    }
   ],
   "source": [
    "interaction_counts = merged_df['Interaction'].value_counts()\n",
    "print(interaction_counts)"
   ]
  },
  {
   "cell_type": "markdown",
   "id": "bfd2872f",
   "metadata": {},
   "source": [
    "# RandomForest (all Columns) with all backgrounds 600k"
   ]
  },
  {
   "cell_type": "markdown",
   "id": "79e24898",
   "metadata": {},
   "source": [
    "## Power Transformer"
   ]
  },
  {
   "cell_type": "code",
   "execution_count": 8,
   "id": "18360a4b",
   "metadata": {},
   "outputs": [],
   "source": [
    "X = merged_df.iloc[:, 1:43]  # Select columns 1 to 42 as features\n",
    "y = merged_df.iloc[:, 0]     # Select column 0 as the target variable"
   ]
  },
  {
   "cell_type": "code",
   "execution_count": 9,
   "id": "356a5f96",
   "metadata": {},
   "outputs": [],
   "source": [
    "from sklearn.preprocessing import PowerTransformer\n",
    "\n",
    "# Create an instance of PowerTransformer\n",
    "power_transformer = PowerTransformer()\n",
    "\n",
    "# Fit and transform the data\n",
    "Xtransformed = power_transformer.fit_transform(X)"
   ]
  },
  {
   "cell_type": "code",
   "execution_count": 10,
   "id": "2519d3a1",
   "metadata": {},
   "outputs": [],
   "source": [
    "X_train, X_test, y_train, y_test = train_test_split(Xtransformed, y, test_size=0.2, random_state=1999)"
   ]
  },
  {
   "cell_type": "code",
   "execution_count": 11,
   "id": "f0d0dc08",
   "metadata": {},
   "outputs": [],
   "source": [
    "imputer = SimpleImputer(strategy='mean')\n",
    "\n",
    "X_train_imputed = imputer.fit_transform(X_train)\n",
    "X_test_imputed = imputer.transform(X_test)"
   ]
  },
  {
   "cell_type": "code",
   "execution_count": 12,
   "id": "710639f2",
   "metadata": {
    "scrolled": true
   },
   "outputs": [
    {
     "data": {
      "text/html": [
       "<style>#sk-container-id-1 {color: black;background-color: white;}#sk-container-id-1 pre{padding: 0;}#sk-container-id-1 div.sk-toggleable {background-color: white;}#sk-container-id-1 label.sk-toggleable__label {cursor: pointer;display: block;width: 100%;margin-bottom: 0;padding: 0.3em;box-sizing: border-box;text-align: center;}#sk-container-id-1 label.sk-toggleable__label-arrow:before {content: \"▸\";float: left;margin-right: 0.25em;color: #696969;}#sk-container-id-1 label.sk-toggleable__label-arrow:hover:before {color: black;}#sk-container-id-1 div.sk-estimator:hover label.sk-toggleable__label-arrow:before {color: black;}#sk-container-id-1 div.sk-toggleable__content {max-height: 0;max-width: 0;overflow: hidden;text-align: left;background-color: #f0f8ff;}#sk-container-id-1 div.sk-toggleable__content pre {margin: 0.2em;color: black;border-radius: 0.25em;background-color: #f0f8ff;}#sk-container-id-1 input.sk-toggleable__control:checked~div.sk-toggleable__content {max-height: 200px;max-width: 100%;overflow: auto;}#sk-container-id-1 input.sk-toggleable__control:checked~label.sk-toggleable__label-arrow:before {content: \"▾\";}#sk-container-id-1 div.sk-estimator input.sk-toggleable__control:checked~label.sk-toggleable__label {background-color: #d4ebff;}#sk-container-id-1 div.sk-label input.sk-toggleable__control:checked~label.sk-toggleable__label {background-color: #d4ebff;}#sk-container-id-1 input.sk-hidden--visually {border: 0;clip: rect(1px 1px 1px 1px);clip: rect(1px, 1px, 1px, 1px);height: 1px;margin: -1px;overflow: hidden;padding: 0;position: absolute;width: 1px;}#sk-container-id-1 div.sk-estimator {font-family: monospace;background-color: #f0f8ff;border: 1px dotted black;border-radius: 0.25em;box-sizing: border-box;margin-bottom: 0.5em;}#sk-container-id-1 div.sk-estimator:hover {background-color: #d4ebff;}#sk-container-id-1 div.sk-parallel-item::after {content: \"\";width: 100%;border-bottom: 1px solid gray;flex-grow: 1;}#sk-container-id-1 div.sk-label:hover label.sk-toggleable__label {background-color: #d4ebff;}#sk-container-id-1 div.sk-serial::before {content: \"\";position: absolute;border-left: 1px solid gray;box-sizing: border-box;top: 0;bottom: 0;left: 50%;z-index: 0;}#sk-container-id-1 div.sk-serial {display: flex;flex-direction: column;align-items: center;background-color: white;padding-right: 0.2em;padding-left: 0.2em;position: relative;}#sk-container-id-1 div.sk-item {position: relative;z-index: 1;}#sk-container-id-1 div.sk-parallel {display: flex;align-items: stretch;justify-content: center;background-color: white;position: relative;}#sk-container-id-1 div.sk-item::before, #sk-container-id-1 div.sk-parallel-item::before {content: \"\";position: absolute;border-left: 1px solid gray;box-sizing: border-box;top: 0;bottom: 0;left: 50%;z-index: -1;}#sk-container-id-1 div.sk-parallel-item {display: flex;flex-direction: column;z-index: 1;position: relative;background-color: white;}#sk-container-id-1 div.sk-parallel-item:first-child::after {align-self: flex-end;width: 50%;}#sk-container-id-1 div.sk-parallel-item:last-child::after {align-self: flex-start;width: 50%;}#sk-container-id-1 div.sk-parallel-item:only-child::after {width: 0;}#sk-container-id-1 div.sk-dashed-wrapped {border: 1px dashed gray;margin: 0 0.4em 0.5em 0.4em;box-sizing: border-box;padding-bottom: 0.4em;background-color: white;}#sk-container-id-1 div.sk-label label {font-family: monospace;font-weight: bold;display: inline-block;line-height: 1.2em;}#sk-container-id-1 div.sk-label-container {text-align: center;}#sk-container-id-1 div.sk-container {/* jupyter's `normalize.less` sets `[hidden] { display: none; }` but bootstrap.min.css set `[hidden] { display: none !important; }` so we also need the `!important` here to be able to override the default hidden behavior on the sphinx rendered scikit-learn.org. See: https://github.com/scikit-learn/scikit-learn/issues/21755 */display: inline-block !important;position: relative;}#sk-container-id-1 div.sk-text-repr-fallback {display: none;}</style><div id=\"sk-container-id-1\" class=\"sk-top-container\"><div class=\"sk-text-repr-fallback\"><pre>RandomForestClassifier()</pre><b>In a Jupyter environment, please rerun this cell to show the HTML representation or trust the notebook. <br />On GitHub, the HTML representation is unable to render, please try loading this page with nbviewer.org.</b></div><div class=\"sk-container\" hidden><div class=\"sk-item\"><div class=\"sk-estimator sk-toggleable\"><input class=\"sk-toggleable__control sk-hidden--visually\" id=\"sk-estimator-id-1\" type=\"checkbox\" checked><label for=\"sk-estimator-id-1\" class=\"sk-toggleable__label sk-toggleable__label-arrow\">RandomForestClassifier</label><div class=\"sk-toggleable__content\"><pre>RandomForestClassifier()</pre></div></div></div></div></div>"
      ],
      "text/plain": [
       "RandomForestClassifier()"
      ]
     },
     "execution_count": 12,
     "metadata": {},
     "output_type": "execute_result"
    }
   ],
   "source": [
    "model = RandomForestClassifier()\n",
    "model.fit(X_train_imputed, y_train)"
   ]
  },
  {
   "cell_type": "code",
   "execution_count": 13,
   "id": "02d33244",
   "metadata": {},
   "outputs": [
    {
     "name": "stdout",
     "output_type": "stream",
     "text": [
      "Accuracy: 0.9988469419074402\n"
     ]
    }
   ],
   "source": [
    "y_pred = model.predict(X_test_imputed)\n",
    "accuracy = accuracy_score(y_test, y_pred)\n",
    "print(\"Accuracy:\", accuracy)"
   ]
  },
  {
   "cell_type": "code",
   "execution_count": 14,
   "id": "aa8d9569",
   "metadata": {},
   "outputs": [],
   "source": [
    "# Assuming you have the predicted labels (y_pred) and actual labels (y_test)\n",
    "cm = confusion_matrix(y_test, y_pred)\n",
    "\n",
    "#print(cm)"
   ]
  },
  {
   "cell_type": "code",
   "execution_count": 15,
   "id": "cb0052c2",
   "metadata": {
    "scrolled": false
   },
   "outputs": [
    {
     "data": {
      "image/png": "[encoded data removed]",
      "text/plain": [
       "<Figure size 640x480 with 2 Axes>"
      ]
     },
     "metadata": {},
     "output_type": "display_data"
    }
   ],
   "source": [
    "# Define the class labels\n",
    "class_labels = np.sort(merged_df['Interaction'].unique())\n",
    "\n",
    "# Create the confusion matrix\n",
    "cm = np.array(cm)\n",
    "\n",
    "# Create a figure and axis\n",
    "fig, ax = plt.subplots()\n",
    "im = ax.imshow(cm, cmap='Blues')\n",
    "\n",
    "# Set axis labels\n",
    "ax.set_xticks(np.arange(len(class_labels)))\n",
    "ax.set_yticks(np.arange(len(class_labels)))\n",
    "ax.set_xticklabels(class_labels, rotation=45)\n",
    "ax.set_yticklabels(class_labels)\n",
    "\n",
    "# Add labels to each cell\n",
    "for i in range(len(class_labels)):\n",
    "    for j in range(len(class_labels)):\n",
    "        text = ax.text(j, i, cm[i, j], ha='center', va='center', color='orange')\n",
    "\n",
    "# Add colorbar\n",
    "cbar = ax.figure.colorbar(im, ax=ax)\n",
    "\n",
    "# Set title and labels\n",
    "ax.set_title('Confusion Matrix')\n",
    "ax.set_xlabel('Predicted Label')\n",
    "ax.set_ylabel('True Label')\n",
    "\n",
    "# Show the plot\n",
    "plt.show()"
   ]
  },
  {
   "cell_type": "markdown",
   "id": "d7f19b34",
   "metadata": {},
   "source": [
    "## Now I want to test the independent data set"
   ]
  },
  {
   "cell_type": "code",
   "execution_count": 16,
   "id": "5b92b232",
   "metadata": {},
   "outputs": [
    {
     "name": "stderr",
     "output_type": "stream",
     "text": [
      "C:\\Users\\raulo\\AppData\\Local\\Temp\\ipykernel_21404\\33228674.py:1: DtypeWarning: Columns (0,1,2,3,4,5,6,7,8,9,10,11,12,13,14,15,16,17,18,19,20,21,22,23,24,25,26,27,28,29,30,31,32,33,34,35,36,37,38,39,40,41,42) have mixed types. Specify dtype option on import or set low_memory=False.\n",
      "  df_ind = pd.read_csv(r\"C:\\Users\\raulo\\Desktop\\LD10(T17)NR3_re-encDLC_dlcrnetms5_LD_YelFeb10shuffle1_75000_el_filtered.csv\", header = 2)\n"
     ]
    }
   ],
   "source": [
    "df_ind = pd.read_csv(r\"C:\\Users\\raulo\\Desktop\\LD10(T17)NR3_re-encDLC_dlcrnetms5_LD_YelFeb10shuffle1_75000_el_filtered.csv\", header = 2)\n",
    "df_ind = df_ind.drop(0)\n",
    "df_ind.index = df_ind.index -1    #Set the index rigth\n",
    "df_ind = df_ind.drop(columns='bodyparts')\n",
    "\n",
    "df_label_ind = pd.read_csv(r\"C:\\Users\\raulo\\Desktop\\LD10(T17)NR3_re-enc_labels.csv\")\n",
    "df_label_ind = df_label_ind.drop(columns='Unnamed: 0')\n",
    "#print(file_path)\n",
    "\n",
    "# Convert DataFrame into a single-column DataFrame\n",
    "single_column_df_ind = pd.DataFrame(df_label_ind.idxmax(axis=1), columns=['Interaction'])"
   ]
  },
  {
   "cell_type": "code",
   "execution_count": 21,
   "id": "5787f3c9",
   "metadata": {},
   "outputs": [],
   "source": [
    "labeled_df_ind = pd.concat([single_column_df_ind, df_ind], axis=1)\n",
    "\n",
    "merged_df_ind = labeled_df_ind\n",
    "\n",
    "X_ind = merged_df_ind.iloc[:, 1:43]  # Select columns 1 to 42 as features\n",
    "y_ind = merged_df_ind.iloc[:, 0]     # Select column 0 as the target variable\n",
    "\n",
    "X_ind_imputed = imputer.fit_transform(X_ind)\n",
    "\n",
    "X_ind_scaled = power_transformer.fit_transform(X_ind_imputed)"
   ]
  },
  {
   "cell_type": "code",
   "execution_count": 24,
   "id": "3ad7c772",
   "metadata": {},
   "outputs": [
    {
     "name": "stdout",
     "output_type": "stream",
     "text": [
      "Accuracy: 0.9985466479137365\n"
     ]
    }
   ],
   "source": [
    "# Prepare the dataset if needed (e.g., perform preprocessing steps)\n",
    "\n",
    "# Make predictions using the random forest model\n",
    "y_pred = model.predict(X_ind_scaled)\n",
    "\n",
    "# If you have the ground truth labels, compare them with the predicted labels\n",
    "y_true = y_ind  # Replace \"target_variable\" with the actual column name\n",
    "\n",
    "# Calculate accuracy\n",
    "accuracy = accuracy_score(y_true, y_pred)\n",
    "\n",
    "# Print the accuracy\n",
    "print(\"Accuracy:\", accuracy)"
   ]
  },
  {
   "cell_type": "code",
   "execution_count": 25,
   "id": "1c75a6cd",
   "metadata": {
    "scrolled": false
   },
   "outputs": [
    {
     "data": {
      "text/plain": [
       "array([[    0,     0,    16],\n",
       "       [    0,     0,     0],\n",
       "       [    0,    46, 42598]], dtype=int64)"
      ]
     },
     "execution_count": 25,
     "metadata": {},
     "output_type": "execute_result"
    }
   ],
   "source": [
    "cm = confusion_matrix(y_true, y_pred)\n",
    "cm"
   ]
  },
  {
   "cell_type": "markdown",
   "id": "99badce0",
   "metadata": {},
   "source": [
    "## StandardScaler"
   ]
  },
  {
   "cell_type": "code",
   "execution_count": 26,
   "id": "0122e06a",
   "metadata": {},
   "outputs": [],
   "source": [
    "X = merged_df.iloc[:, 1:43]  # Select columns 1 to 42 as features\n",
    "y = merged_df.iloc[:, 0]     # Select column 0 as the target variable"
   ]
  },
  {
   "cell_type": "code",
   "execution_count": 27,
   "id": "a41b6335",
   "metadata": {},
   "outputs": [],
   "source": [
    "from sklearn.preprocessing import PowerTransformer\n",
    "\n",
    "# Create an instance of PowerTransformer\n",
    "power_transformer = StandardScaler()\n",
    "\n",
    "# Fit and transform the data\n",
    "Xtransformed = power_transformer.fit_transform(X)"
   ]
  },
  {
   "cell_type": "code",
   "execution_count": 28,
   "id": "04f0d162",
   "metadata": {},
   "outputs": [],
   "source": [
    "X_train, X_test, y_train, y_test = train_test_split(Xtransformed, y, test_size=0.2, random_state=1999)"
   ]
  },
  {
   "cell_type": "code",
   "execution_count": 29,
   "id": "a3716960",
   "metadata": {},
   "outputs": [],
   "source": [
    "imputer = SimpleImputer(strategy='mean')\n",
    "\n",
    "X_train_imputed = imputer.fit_transform(X_train)\n",
    "X_test_imputed = imputer.transform(X_test)"
   ]
  },
  {
   "cell_type": "code",
   "execution_count": 30,
   "id": "7670ab71",
   "metadata": {
    "scrolled": true
   },
   "outputs": [
    {
     "data": {
      "text/html": [
       "<style>#sk-container-id-2 {color: black;background-color: white;}#sk-container-id-2 pre{padding: 0;}#sk-container-id-2 div.sk-toggleable {background-color: white;}#sk-container-id-2 label.sk-toggleable__label {cursor: pointer;display: block;width: 100%;margin-bottom: 0;padding: 0.3em;box-sizing: border-box;text-align: center;}#sk-container-id-2 label.sk-toggleable__label-arrow:before {content: \"▸\";float: left;margin-right: 0.25em;color: #696969;}#sk-container-id-2 label.sk-toggleable__label-arrow:hover:before {color: black;}#sk-container-id-2 div.sk-estimator:hover label.sk-toggleable__label-arrow:before {color: black;}#sk-container-id-2 div.sk-toggleable__content {max-height: 0;max-width: 0;overflow: hidden;text-align: left;background-color: #f0f8ff;}#sk-container-id-2 div.sk-toggleable__content pre {margin: 0.2em;color: black;border-radius: 0.25em;background-color: #f0f8ff;}#sk-container-id-2 input.sk-toggleable__control:checked~div.sk-toggleable__content {max-height: 200px;max-width: 100%;overflow: auto;}#sk-container-id-2 input.sk-toggleable__control:checked~label.sk-toggleable__label-arrow:before {content: \"▾\";}#sk-container-id-2 div.sk-estimator input.sk-toggleable__control:checked~label.sk-toggleable__label {background-color: #d4ebff;}#sk-container-id-2 div.sk-label input.sk-toggleable__control:checked~label.sk-toggleable__label {background-color: #d4ebff;}#sk-container-id-2 input.sk-hidden--visually {border: 0;clip: rect(1px 1px 1px 1px);clip: rect(1px, 1px, 1px, 1px);height: 1px;margin: -1px;overflow: hidden;padding: 0;position: absolute;width: 1px;}#sk-container-id-2 div.sk-estimator {font-family: monospace;background-color: #f0f8ff;border: 1px dotted black;border-radius: 0.25em;box-sizing: border-box;margin-bottom: 0.5em;}#sk-container-id-2 div.sk-estimator:hover {background-color: #d4ebff;}#sk-container-id-2 div.sk-parallel-item::after {content: \"\";width: 100%;border-bottom: 1px solid gray;flex-grow: 1;}#sk-container-id-2 div.sk-label:hover label.sk-toggleable__label {background-color: #d4ebff;}#sk-container-id-2 div.sk-serial::before {content: \"\";position: absolute;border-left: 1px solid gray;box-sizing: border-box;top: 0;bottom: 0;left: 50%;z-index: 0;}#sk-container-id-2 div.sk-serial {display: flex;flex-direction: column;align-items: center;background-color: white;padding-right: 0.2em;padding-left: 0.2em;position: relative;}#sk-container-id-2 div.sk-item {position: relative;z-index: 1;}#sk-container-id-2 div.sk-parallel {display: flex;align-items: stretch;justify-content: center;background-color: white;position: relative;}#sk-container-id-2 div.sk-item::before, #sk-container-id-2 div.sk-parallel-item::before {content: \"\";position: absolute;border-left: 1px solid gray;box-sizing: border-box;top: 0;bottom: 0;left: 50%;z-index: -1;}#sk-container-id-2 div.sk-parallel-item {display: flex;flex-direction: column;z-index: 1;position: relative;background-color: white;}#sk-container-id-2 div.sk-parallel-item:first-child::after {align-self: flex-end;width: 50%;}#sk-container-id-2 div.sk-parallel-item:last-child::after {align-self: flex-start;width: 50%;}#sk-container-id-2 div.sk-parallel-item:only-child::after {width: 0;}#sk-container-id-2 div.sk-dashed-wrapped {border: 1px dashed gray;margin: 0 0.4em 0.5em 0.4em;box-sizing: border-box;padding-bottom: 0.4em;background-color: white;}#sk-container-id-2 div.sk-label label {font-family: monospace;font-weight: bold;display: inline-block;line-height: 1.2em;}#sk-container-id-2 div.sk-label-container {text-align: center;}#sk-container-id-2 div.sk-container {/* jupyter's `normalize.less` sets `[hidden] { display: none; }` but bootstrap.min.css set `[hidden] { display: none !important; }` so we also need the `!important` here to be able to override the default hidden behavior on the sphinx rendered scikit-learn.org. See: https://github.com/scikit-learn/scikit-learn/issues/21755 */display: inline-block !important;position: relative;}#sk-container-id-2 div.sk-text-repr-fallback {display: none;}</style><div id=\"sk-container-id-2\" class=\"sk-top-container\"><div class=\"sk-text-repr-fallback\"><pre>RandomForestClassifier()</pre><b>In a Jupyter environment, please rerun this cell to show the HTML representation or trust the notebook. <br />On GitHub, the HTML representation is unable to render, please try loading this page with nbviewer.org.</b></div><div class=\"sk-container\" hidden><div class=\"sk-item\"><div class=\"sk-estimator sk-toggleable\"><input class=\"sk-toggleable__control sk-hidden--visually\" id=\"sk-estimator-id-2\" type=\"checkbox\" checked><label for=\"sk-estimator-id-2\" class=\"sk-toggleable__label sk-toggleable__label-arrow\">RandomForestClassifier</label><div class=\"sk-toggleable__content\"><pre>RandomForestClassifier()</pre></div></div></div></div></div>"
      ],
      "text/plain": [
       "RandomForestClassifier()"
      ]
     },
     "execution_count": 30,
     "metadata": {},
     "output_type": "execute_result"
    }
   ],
   "source": [
    "model = RandomForestClassifier()\n",
    "model.fit(X_train_imputed, y_train)"
   ]
  },
  {
   "cell_type": "code",
   "execution_count": 31,
   "id": "06cf0108",
   "metadata": {},
   "outputs": [
    {
     "name": "stdout",
     "output_type": "stream",
     "text": [
      "Accuracy: 0.9988635326713619\n"
     ]
    }
   ],
   "source": [
    "y_pred = model.predict(X_test_imputed)\n",
    "accuracy = accuracy_score(y_test, y_pred)\n",
    "print(\"Accuracy:\", accuracy)"
   ]
  },
  {
   "cell_type": "code",
   "execution_count": 32,
   "id": "540a17df",
   "metadata": {},
   "outputs": [],
   "source": [
    "# Assuming you have the predicted labels (y_pred) and actual labels (y_test)\n",
    "cm = confusion_matrix(y_test, y_pred)\n",
    "\n",
    "#print(cm)"
   ]
  },
  {
   "cell_type": "code",
   "execution_count": 33,
   "id": "281de07b",
   "metadata": {
    "scrolled": false
   },
   "outputs": [
    {
     "data": {
      "image/png": "[encoded data removed]",
      "text/plain": [
       "<Figure size 640x480 with 2 Axes>"
      ]
     },
     "metadata": {},
     "output_type": "display_data"
    }
   ],
   "source": [
    "# Define the class labels\n",
    "class_labels = np.sort(merged_df['Interaction'].unique())\n",
    "\n",
    "# Create the confusion matrix\n",
    "cm = np.array(cm)\n",
    "\n",
    "# Create a figure and axis\n",
    "fig, ax = plt.subplots()\n",
    "im = ax.imshow(cm, cmap='Blues')\n",
    "\n",
    "# Set axis labels\n",
    "ax.set_xticks(np.arange(len(class_labels)))\n",
    "ax.set_yticks(np.arange(len(class_labels)))\n",
    "ax.set_xticklabels(class_labels, rotation=45)\n",
    "ax.set_yticklabels(class_labels)\n",
    "\n",
    "# Add labels to each cell\n",
    "for i in range(len(class_labels)):\n",
    "    for j in range(len(class_labels)):\n",
    "        text = ax.text(j, i, cm[i, j], ha='center', va='center', color='orange')\n",
    "\n",
    "# Add colorbar\n",
    "cbar = ax.figure.colorbar(im, ax=ax)\n",
    "\n",
    "# Set title and labels\n",
    "ax.set_title('Confusion Matrix')\n",
    "ax.set_xlabel('Predicted Label')\n",
    "ax.set_ylabel('True Label')\n",
    "\n",
    "# Show the plot\n",
    "plt.show()"
   ]
  },
  {
   "cell_type": "markdown",
   "id": "33c5371f",
   "metadata": {},
   "source": [
    "## Now I want to test the independent data set"
   ]
  },
  {
   "cell_type": "code",
   "execution_count": 34,
   "id": "19afe10a",
   "metadata": {},
   "outputs": [
    {
     "name": "stderr",
     "output_type": "stream",
     "text": [
      "C:\\Users\\raulo\\AppData\\Local\\Temp\\ipykernel_21404\\33228674.py:1: DtypeWarning: Columns (0,1,2,3,4,5,6,7,8,9,10,11,12,13,14,15,16,17,18,19,20,21,22,23,24,25,26,27,28,29,30,31,32,33,34,35,36,37,38,39,40,41,42) have mixed types. Specify dtype option on import or set low_memory=False.\n",
      "  df_ind = pd.read_csv(r\"C:\\Users\\raulo\\Desktop\\LD10(T17)NR3_re-encDLC_dlcrnetms5_LD_YelFeb10shuffle1_75000_el_filtered.csv\", header = 2)\n"
     ]
    }
   ],
   "source": [
    "df_ind = pd.read_csv(r\"C:\\Users\\raulo\\Desktop\\LD10(T17)NR3_re-encDLC_dlcrnetms5_LD_YelFeb10shuffle1_75000_el_filtered.csv\", header = 2)\n",
    "df_ind = df_ind.drop(0)\n",
    "df_ind.index = df_ind.index -1    #Set the index rigth\n",
    "df_ind = df_ind.drop(columns='bodyparts')\n",
    "\n",
    "df_label_ind = pd.read_csv(r\"C:\\Users\\raulo\\Desktop\\LD10(T17)NR3_re-enc_labels.csv\")\n",
    "df_label_ind = df_label_ind.drop(columns='Unnamed: 0')\n",
    "#print(file_path)\n",
    "\n",
    "# Convert DataFrame into a single-column DataFrame\n",
    "single_column_df_ind = pd.DataFrame(df_label_ind.idxmax(axis=1), columns=['Interaction'])"
   ]
  },
  {
   "cell_type": "code",
   "execution_count": 35,
   "id": "6059a0b3",
   "metadata": {},
   "outputs": [],
   "source": [
    "labeled_df_ind = pd.concat([single_column_df_ind, df_ind], axis=1)\n",
    "\n",
    "merged_df_ind = labeled_df_ind\n",
    "\n",
    "X_ind = merged_df_ind.iloc[:, 1:43]  # Select columns 1 to 42 as features\n",
    "y_ind = merged_df_ind.iloc[:, 0]     # Select column 0 as the target variable\n",
    "\n",
    "X_ind_imputed = imputer.fit_transform(X_ind)\n",
    "\n",
    "X_ind_scaled = power_transformer.fit_transform(X_ind_imputed)"
   ]
  },
  {
   "cell_type": "code",
   "execution_count": 36,
   "id": "aa787ba2",
   "metadata": {},
   "outputs": [
    {
     "name": "stdout",
     "output_type": "stream",
     "text": [
      "Accuracy: 0.9992264416315049\n"
     ]
    }
   ],
   "source": [
    "# Prepare the dataset if needed (e.g., perform preprocessing steps)\n",
    "\n",
    "# Make predictions using the random forest model\n",
    "y_pred = model.predict(X_ind_scaled)\n",
    "\n",
    "# If you have the ground truth labels, compare them with the predicted labels\n",
    "y_true = y_ind  # Replace \"target_variable\" with the actual column name\n",
    "\n",
    "# Calculate accuracy\n",
    "accuracy = accuracy_score(y_true, y_pred)\n",
    "\n",
    "# Print the accuracy\n",
    "print(\"Accuracy:\", accuracy)"
   ]
  },
  {
   "cell_type": "code",
   "execution_count": 37,
   "id": "a80a2e95",
   "metadata": {
    "scrolled": true
   },
   "outputs": [
    {
     "data": {
      "text/plain": [
       "array([[    0,     0,    16],\n",
       "       [    0,     0,     0],\n",
       "       [    0,    17, 42627]], dtype=int64)"
      ]
     },
     "execution_count": 37,
     "metadata": {},
     "output_type": "execute_result"
    }
   ],
   "source": [
    "cm = confusion_matrix(y_true, y_pred)\n",
    "cm"
   ]
  },
  {
   "cell_type": "markdown",
   "id": "64137ae3",
   "metadata": {},
   "source": [
    "## MinMaxScaler"
   ]
  },
  {
   "cell_type": "code",
   "execution_count": 38,
   "id": "eb2aa351",
   "metadata": {},
   "outputs": [],
   "source": [
    "X = merged_df.iloc[:, 1:43]  # Select columns 1 to 42 as features\n",
    "y = merged_df.iloc[:, 0]     # Select column 0 as the target variable"
   ]
  },
  {
   "cell_type": "code",
   "execution_count": 40,
   "id": "149f0ca0",
   "metadata": {},
   "outputs": [],
   "source": [
    "from sklearn.preprocessing import MinMaxScaler\n",
    "\n",
    "# Create an instance of PowerTransformer\n",
    "power_transformer = MinMaxScaler()\n",
    "\n",
    "# Fit and transform the data\n",
    "Xtransformed = power_transformer.fit_transform(X)"
   ]
  },
  {
   "cell_type": "code",
   "execution_count": 41,
   "id": "26853af0",
   "metadata": {},
   "outputs": [],
   "source": [
    "X_train, X_test, y_train, y_test = train_test_split(Xtransformed, y, test_size=0.2, random_state=1999)"
   ]
  },
  {
   "cell_type": "code",
   "execution_count": 42,
   "id": "db3c4e78",
   "metadata": {},
   "outputs": [],
   "source": [
    "imputer = SimpleImputer(strategy='mean')\n",
    "\n",
    "X_train_imputed = imputer.fit_transform(X_train)\n",
    "X_test_imputed = imputer.transform(X_test)"
   ]
  },
  {
   "cell_type": "code",
   "execution_count": 43,
   "id": "6ab2e045",
   "metadata": {
    "scrolled": true
   },
   "outputs": [
    {
     "data": {
      "text/html": [
       "<style>#sk-container-id-3 {color: black;background-color: white;}#sk-container-id-3 pre{padding: 0;}#sk-container-id-3 div.sk-toggleable {background-color: white;}#sk-container-id-3 label.sk-toggleable__label {cursor: pointer;display: block;width: 100%;margin-bottom: 0;padding: 0.3em;box-sizing: border-box;text-align: center;}#sk-container-id-3 label.sk-toggleable__label-arrow:before {content: \"▸\";float: left;margin-right: 0.25em;color: #696969;}#sk-container-id-3 label.sk-toggleable__label-arrow:hover:before {color: black;}#sk-container-id-3 div.sk-estimator:hover label.sk-toggleable__label-arrow:before {color: black;}#sk-container-id-3 div.sk-toggleable__content {max-height: 0;max-width: 0;overflow: hidden;text-align: left;background-color: #f0f8ff;}#sk-container-id-3 div.sk-toggleable__content pre {margin: 0.2em;color: black;border-radius: 0.25em;background-color: #f0f8ff;}#sk-container-id-3 input.sk-toggleable__control:checked~div.sk-toggleable__content {max-height: 200px;max-width: 100%;overflow: auto;}#sk-container-id-3 input.sk-toggleable__control:checked~label.sk-toggleable__label-arrow:before {content: \"▾\";}#sk-container-id-3 div.sk-estimator input.sk-toggleable__control:checked~label.sk-toggleable__label {background-color: #d4ebff;}#sk-container-id-3 div.sk-label input.sk-toggleable__control:checked~label.sk-toggleable__label {background-color: #d4ebff;}#sk-container-id-3 input.sk-hidden--visually {border: 0;clip: rect(1px 1px 1px 1px);clip: rect(1px, 1px, 1px, 1px);height: 1px;margin: -1px;overflow: hidden;padding: 0;position: absolute;width: 1px;}#sk-container-id-3 div.sk-estimator {font-family: monospace;background-color: #f0f8ff;border: 1px dotted black;border-radius: 0.25em;box-sizing: border-box;margin-bottom: 0.5em;}#sk-container-id-3 div.sk-estimator:hover {background-color: #d4ebff;}#sk-container-id-3 div.sk-parallel-item::after {content: \"\";width: 100%;border-bottom: 1px solid gray;flex-grow: 1;}#sk-container-id-3 div.sk-label:hover label.sk-toggleable__label {background-color: #d4ebff;}#sk-container-id-3 div.sk-serial::before {content: \"\";position: absolute;border-left: 1px solid gray;box-sizing: border-box;top: 0;bottom: 0;left: 50%;z-index: 0;}#sk-container-id-3 div.sk-serial {display: flex;flex-direction: column;align-items: center;background-color: white;padding-right: 0.2em;padding-left: 0.2em;position: relative;}#sk-container-id-3 div.sk-item {position: relative;z-index: 1;}#sk-container-id-3 div.sk-parallel {display: flex;align-items: stretch;justify-content: center;background-color: white;position: relative;}#sk-container-id-3 div.sk-item::before, #sk-container-id-3 div.sk-parallel-item::before {content: \"\";position: absolute;border-left: 1px solid gray;box-sizing: border-box;top: 0;bottom: 0;left: 50%;z-index: -1;}#sk-container-id-3 div.sk-parallel-item {display: flex;flex-direction: column;z-index: 1;position: relative;background-color: white;}#sk-container-id-3 div.sk-parallel-item:first-child::after {align-self: flex-end;width: 50%;}#sk-container-id-3 div.sk-parallel-item:last-child::after {align-self: flex-start;width: 50%;}#sk-container-id-3 div.sk-parallel-item:only-child::after {width: 0;}#sk-container-id-3 div.sk-dashed-wrapped {border: 1px dashed gray;margin: 0 0.4em 0.5em 0.4em;box-sizing: border-box;padding-bottom: 0.4em;background-color: white;}#sk-container-id-3 div.sk-label label {font-family: monospace;font-weight: bold;display: inline-block;line-height: 1.2em;}#sk-container-id-3 div.sk-label-container {text-align: center;}#sk-container-id-3 div.sk-container {/* jupyter's `normalize.less` sets `[hidden] { display: none; }` but bootstrap.min.css set `[hidden] { display: none !important; }` so we also need the `!important` here to be able to override the default hidden behavior on the sphinx rendered scikit-learn.org. See: https://github.com/scikit-learn/scikit-learn/issues/21755 */display: inline-block !important;position: relative;}#sk-container-id-3 div.sk-text-repr-fallback {display: none;}</style><div id=\"sk-container-id-3\" class=\"sk-top-container\"><div class=\"sk-text-repr-fallback\"><pre>RandomForestClassifier()</pre><b>In a Jupyter environment, please rerun this cell to show the HTML representation or trust the notebook. <br />On GitHub, the HTML representation is unable to render, please try loading this page with nbviewer.org.</b></div><div class=\"sk-container\" hidden><div class=\"sk-item\"><div class=\"sk-estimator sk-toggleable\"><input class=\"sk-toggleable__control sk-hidden--visually\" id=\"sk-estimator-id-3\" type=\"checkbox\" checked><label for=\"sk-estimator-id-3\" class=\"sk-toggleable__label sk-toggleable__label-arrow\">RandomForestClassifier</label><div class=\"sk-toggleable__content\"><pre>RandomForestClassifier()</pre></div></div></div></div></div>"
      ],
      "text/plain": [
       "RandomForestClassifier()"
      ]
     },
     "execution_count": 43,
     "metadata": {},
     "output_type": "execute_result"
    }
   ],
   "source": [
    "model = RandomForestClassifier()\n",
    "model.fit(X_train_imputed, y_train)"
   ]
  },
  {
   "cell_type": "code",
   "execution_count": 44,
   "id": "fd610476",
   "metadata": {},
   "outputs": [
    {
     "name": "stdout",
     "output_type": "stream",
     "text": [
      "Accuracy: 0.9988386465254793\n"
     ]
    }
   ],
   "source": [
    "y_pred = model.predict(X_test_imputed)\n",
    "accuracy = accuracy_score(y_test, y_pred)\n",
    "print(\"Accuracy:\", accuracy)"
   ]
  },
  {
   "cell_type": "code",
   "execution_count": 45,
   "id": "555f1d8c",
   "metadata": {},
   "outputs": [],
   "source": [
    "# Assuming you have the predicted labels (y_pred) and actual labels (y_test)\n",
    "cm = confusion_matrix(y_test, y_pred)\n",
    "\n",
    "#print(cm)"
   ]
  },
  {
   "cell_type": "code",
   "execution_count": 46,
   "id": "afd2370d",
   "metadata": {
    "scrolled": false
   },
   "outputs": [
    {
     "data": {
      "image/png": "[encoded data removed]",
      "text/plain": [
       "<Figure size 640x480 with 2 Axes>"
      ]
     },
     "metadata": {},
     "output_type": "display_data"
    }
   ],
   "source": [
    "# Define the class labels\n",
    "class_labels = np.sort(merged_df['Interaction'].unique())\n",
    "\n",
    "# Create the confusion matrix\n",
    "cm = np.array(cm)\n",
    "\n",
    "# Create a figure and axis\n",
    "fig, ax = plt.subplots()\n",
    "im = ax.imshow(cm, cmap='Blues')\n",
    "\n",
    "# Set axis labels\n",
    "ax.set_xticks(np.arange(len(class_labels)))\n",
    "ax.set_yticks(np.arange(len(class_labels)))\n",
    "ax.set_xticklabels(class_labels, rotation=45)\n",
    "ax.set_yticklabels(class_labels)\n",
    "\n",
    "# Add labels to each cell\n",
    "for i in range(len(class_labels)):\n",
    "    for j in range(len(class_labels)):\n",
    "        text = ax.text(j, i, cm[i, j], ha='center', va='center', color='orange')\n",
    "\n",
    "# Add colorbar\n",
    "cbar = ax.figure.colorbar(im, ax=ax)\n",
    "\n",
    "# Set title and labels\n",
    "ax.set_title('Confusion Matrix')\n",
    "ax.set_xlabel('Predicted Label')\n",
    "ax.set_ylabel('True Label')\n",
    "\n",
    "# Show the plot\n",
    "plt.show()"
   ]
  },
  {
   "cell_type": "markdown",
   "id": "3483bee9",
   "metadata": {},
   "source": [
    "## Now I want to test the independent data set"
   ]
  },
  {
   "cell_type": "code",
   "execution_count": 47,
   "id": "b7a044e8",
   "metadata": {},
   "outputs": [
    {
     "name": "stderr",
     "output_type": "stream",
     "text": [
      "C:\\Users\\raulo\\AppData\\Local\\Temp\\ipykernel_21404\\33228674.py:1: DtypeWarning: Columns (0,1,2,3,4,5,6,7,8,9,10,11,12,13,14,15,16,17,18,19,20,21,22,23,24,25,26,27,28,29,30,31,32,33,34,35,36,37,38,39,40,41,42) have mixed types. Specify dtype option on import or set low_memory=False.\n",
      "  df_ind = pd.read_csv(r\"C:\\Users\\raulo\\Desktop\\LD10(T17)NR3_re-encDLC_dlcrnetms5_LD_YelFeb10shuffle1_75000_el_filtered.csv\", header = 2)\n"
     ]
    }
   ],
   "source": [
    "df_ind = pd.read_csv(r\"C:\\Users\\raulo\\Desktop\\LD10(T17)NR3_re-encDLC_dlcrnetms5_LD_YelFeb10shuffle1_75000_el_filtered.csv\", header = 2)\n",
    "df_ind = df_ind.drop(0)\n",
    "df_ind.index = df_ind.index -1    #Set the index rigth\n",
    "df_ind = df_ind.drop(columns='bodyparts')\n",
    "\n",
    "df_label_ind = pd.read_csv(r\"C:\\Users\\raulo\\Desktop\\LD10(T17)NR3_re-enc_labels.csv\")\n",
    "df_label_ind = df_label_ind.drop(columns='Unnamed: 0')\n",
    "#print(file_path)\n",
    "\n",
    "# Convert DataFrame into a single-column DataFrame\n",
    "single_column_df_ind = pd.DataFrame(df_label_ind.idxmax(axis=1), columns=['Interaction'])"
   ]
  },
  {
   "cell_type": "code",
   "execution_count": 48,
   "id": "c0ed7df7",
   "metadata": {},
   "outputs": [],
   "source": [
    "labeled_df_ind = pd.concat([single_column_df_ind, df_ind], axis=1)\n",
    "\n",
    "merged_df_ind = labeled_df_ind\n",
    "\n",
    "X_ind = merged_df_ind.iloc[:, 1:43]  # Select columns 1 to 42 as features\n",
    "y_ind = merged_df_ind.iloc[:, 0]     # Select column 0 as the target variable\n",
    "\n",
    "X_ind_imputed = imputer.fit_transform(X_ind)\n",
    "\n",
    "X_ind_scaled = power_transformer.fit_transform(X_ind_imputed)"
   ]
  },
  {
   "cell_type": "code",
   "execution_count": 49,
   "id": "bb5e50be",
   "metadata": {},
   "outputs": [
    {
     "name": "stdout",
     "output_type": "stream",
     "text": [
      "Accuracy: 0.9996249413970933\n"
     ]
    }
   ],
   "source": [
    "# Prepare the dataset if needed (e.g., perform preprocessing steps)\n",
    "\n",
    "# Make predictions using the random forest model\n",
    "y_pred = model.predict(X_ind_scaled)\n",
    "\n",
    "# If you have the ground truth labels, compare them with the predicted labels\n",
    "y_true = y_ind  # Replace \"target_variable\" with the actual column name\n",
    "\n",
    "# Calculate accuracy\n",
    "accuracy = accuracy_score(y_true, y_pred)\n",
    "\n",
    "# Print the accuracy\n",
    "print(\"Accuracy:\", accuracy)"
   ]
  },
  {
   "cell_type": "code",
   "execution_count": 50,
   "id": "de6c6534",
   "metadata": {
    "scrolled": true
   },
   "outputs": [
    {
     "data": {
      "text/plain": [
       "array([[    0,    16],\n",
       "       [    0, 42644]], dtype=int64)"
      ]
     },
     "execution_count": 50,
     "metadata": {},
     "output_type": "execute_result"
    }
   ],
   "source": [
    "cm = confusion_matrix(y_true, y_pred)\n",
    "cm"
   ]
  },
  {
   "cell_type": "markdown",
   "id": "1da096ee",
   "metadata": {},
   "source": [
    "---\n",
    "---\n",
    "---\n",
    "---"
   ]
  },
  {
   "cell_type": "markdown",
   "id": "b6c8de9a",
   "metadata": {},
   "source": [
    "# RandomForest (all Columns) with 5k backgrounds"
   ]
  },
  {
   "cell_type": "markdown",
   "id": "9c8eb754",
   "metadata": {},
   "source": [
    "## PowerTransformer"
   ]
  },
  {
   "cell_type": "code",
   "execution_count": 51,
   "id": "292f713f",
   "metadata": {},
   "outputs": [],
   "source": [
    "background_df = merged_df[merged_df['Interaction'] == 'background']\n",
    "other_df = merged_df[merged_df['Interaction'] != 'background']"
   ]
  },
  {
   "cell_type": "code",
   "execution_count": 52,
   "id": "51f17013",
   "metadata": {},
   "outputs": [],
   "source": [
    "desired_background_samples = 5000"
   ]
  },
  {
   "cell_type": "code",
   "execution_count": 53,
   "id": "a27b2cc9",
   "metadata": {},
   "outputs": [],
   "source": [
    "background_sample = background_df.sample(n=desired_background_samples, random_state=1999)"
   ]
  },
  {
   "cell_type": "code",
   "execution_count": 54,
   "id": "28e3e112",
   "metadata": {},
   "outputs": [],
   "source": [
    "undersampled_df = pd.concat([background_sample, other_df], ignore_index=True)"
   ]
  },
  {
   "cell_type": "code",
   "execution_count": 55,
   "id": "06ad7077",
   "metadata": {
    "scrolled": true
   },
   "outputs": [
    {
     "name": "stdout",
     "output_type": "stream",
     "text": [
      "Int_Client     5524\n",
      "background     5000\n",
      "TS             1474\n",
      "Int_Cleaner     955\n",
      "Jolt            490\n",
      "Run             145\n",
      "Name: Interaction, dtype: int64\n"
     ]
    }
   ],
   "source": [
    "interaction_counts_new = undersampled_df['Interaction'].value_counts()\n",
    "print(interaction_counts_new)"
   ]
  },
  {
   "cell_type": "code",
   "execution_count": 56,
   "id": "bafaa6e8",
   "metadata": {},
   "outputs": [],
   "source": [
    "X_new5000 = undersampled_df.iloc[:, 1:43]  # Select columns 1 to 42 as features\n",
    "y_new5000 = undersampled_df.iloc[:, 0]     # Select column 0 as the target variable"
   ]
  },
  {
   "cell_type": "code",
   "execution_count": 57,
   "id": "23a9e3c1",
   "metadata": {},
   "outputs": [],
   "source": [
    "imputer = SimpleImputer(strategy='mean')\n",
    "\n",
    "X_imputed_new5000 = imputer.fit_transform(X_new5000)"
   ]
  },
  {
   "cell_type": "code",
   "execution_count": 58,
   "id": "323b85c7",
   "metadata": {},
   "outputs": [],
   "source": [
    "from sklearn.preprocessing import PowerTransformer"
   ]
  },
  {
   "cell_type": "code",
   "execution_count": 59,
   "id": "800386e5",
   "metadata": {},
   "outputs": [],
   "source": [
    "# Create an instance of PowerTransformer\n",
    "power_transformer = PowerTransformer()\n",
    "\n",
    "# Fit and transform the data\n",
    "X_new5000_transformed = power_transformer.fit_transform(X_imputed_new5000)"
   ]
  },
  {
   "cell_type": "code",
   "execution_count": 60,
   "id": "44eb94d2",
   "metadata": {},
   "outputs": [],
   "source": [
    "X_train_new5000, X_test_new5000, y_train_new5000, y_test_new5000 = train_test_split(X_new5000_transformed, y_new5000, test_size=0.2, random_state=1999)"
   ]
  },
  {
   "cell_type": "code",
   "execution_count": 62,
   "id": "99273221",
   "metadata": {
    "scrolled": true
   },
   "outputs": [
    {
     "data": {
      "text/html": [
       "<style>#sk-container-id-4 {color: black;background-color: white;}#sk-container-id-4 pre{padding: 0;}#sk-container-id-4 div.sk-toggleable {background-color: white;}#sk-container-id-4 label.sk-toggleable__label {cursor: pointer;display: block;width: 100%;margin-bottom: 0;padding: 0.3em;box-sizing: border-box;text-align: center;}#sk-container-id-4 label.sk-toggleable__label-arrow:before {content: \"▸\";float: left;margin-right: 0.25em;color: #696969;}#sk-container-id-4 label.sk-toggleable__label-arrow:hover:before {color: black;}#sk-container-id-4 div.sk-estimator:hover label.sk-toggleable__label-arrow:before {color: black;}#sk-container-id-4 div.sk-toggleable__content {max-height: 0;max-width: 0;overflow: hidden;text-align: left;background-color: #f0f8ff;}#sk-container-id-4 div.sk-toggleable__content pre {margin: 0.2em;color: black;border-radius: 0.25em;background-color: #f0f8ff;}#sk-container-id-4 input.sk-toggleable__control:checked~div.sk-toggleable__content {max-height: 200px;max-width: 100%;overflow: auto;}#sk-container-id-4 input.sk-toggleable__control:checked~label.sk-toggleable__label-arrow:before {content: \"▾\";}#sk-container-id-4 div.sk-estimator input.sk-toggleable__control:checked~label.sk-toggleable__label {background-color: #d4ebff;}#sk-container-id-4 div.sk-label input.sk-toggleable__control:checked~label.sk-toggleable__label {background-color: #d4ebff;}#sk-container-id-4 input.sk-hidden--visually {border: 0;clip: rect(1px 1px 1px 1px);clip: rect(1px, 1px, 1px, 1px);height: 1px;margin: -1px;overflow: hidden;padding: 0;position: absolute;width: 1px;}#sk-container-id-4 div.sk-estimator {font-family: monospace;background-color: #f0f8ff;border: 1px dotted black;border-radius: 0.25em;box-sizing: border-box;margin-bottom: 0.5em;}#sk-container-id-4 div.sk-estimator:hover {background-color: #d4ebff;}#sk-container-id-4 div.sk-parallel-item::after {content: \"\";width: 100%;border-bottom: 1px solid gray;flex-grow: 1;}#sk-container-id-4 div.sk-label:hover label.sk-toggleable__label {background-color: #d4ebff;}#sk-container-id-4 div.sk-serial::before {content: \"\";position: absolute;border-left: 1px solid gray;box-sizing: border-box;top: 0;bottom: 0;left: 50%;z-index: 0;}#sk-container-id-4 div.sk-serial {display: flex;flex-direction: column;align-items: center;background-color: white;padding-right: 0.2em;padding-left: 0.2em;position: relative;}#sk-container-id-4 div.sk-item {position: relative;z-index: 1;}#sk-container-id-4 div.sk-parallel {display: flex;align-items: stretch;justify-content: center;background-color: white;position: relative;}#sk-container-id-4 div.sk-item::before, #sk-container-id-4 div.sk-parallel-item::before {content: \"\";position: absolute;border-left: 1px solid gray;box-sizing: border-box;top: 0;bottom: 0;left: 50%;z-index: -1;}#sk-container-id-4 div.sk-parallel-item {display: flex;flex-direction: column;z-index: 1;position: relative;background-color: white;}#sk-container-id-4 div.sk-parallel-item:first-child::after {align-self: flex-end;width: 50%;}#sk-container-id-4 div.sk-parallel-item:last-child::after {align-self: flex-start;width: 50%;}#sk-container-id-4 div.sk-parallel-item:only-child::after {width: 0;}#sk-container-id-4 div.sk-dashed-wrapped {border: 1px dashed gray;margin: 0 0.4em 0.5em 0.4em;box-sizing: border-box;padding-bottom: 0.4em;background-color: white;}#sk-container-id-4 div.sk-label label {font-family: monospace;font-weight: bold;display: inline-block;line-height: 1.2em;}#sk-container-id-4 div.sk-label-container {text-align: center;}#sk-container-id-4 div.sk-container {/* jupyter's `normalize.less` sets `[hidden] { display: none; }` but bootstrap.min.css set `[hidden] { display: none !important; }` so we also need the `!important` here to be able to override the default hidden behavior on the sphinx rendered scikit-learn.org. See: https://github.com/scikit-learn/scikit-learn/issues/21755 */display: inline-block !important;position: relative;}#sk-container-id-4 div.sk-text-repr-fallback {display: none;}</style><div id=\"sk-container-id-4\" class=\"sk-top-container\"><div class=\"sk-text-repr-fallback\"><pre>RandomForestClassifier()</pre><b>In a Jupyter environment, please rerun this cell to show the HTML representation or trust the notebook. <br />On GitHub, the HTML representation is unable to render, please try loading this page with nbviewer.org.</b></div><div class=\"sk-container\" hidden><div class=\"sk-item\"><div class=\"sk-estimator sk-toggleable\"><input class=\"sk-toggleable__control sk-hidden--visually\" id=\"sk-estimator-id-4\" type=\"checkbox\" checked><label for=\"sk-estimator-id-4\" class=\"sk-toggleable__label sk-toggleable__label-arrow\">RandomForestClassifier</label><div class=\"sk-toggleable__content\"><pre>RandomForestClassifier()</pre></div></div></div></div></div>"
      ],
      "text/plain": [
       "RandomForestClassifier()"
      ]
     },
     "execution_count": 62,
     "metadata": {},
     "output_type": "execute_result"
    }
   ],
   "source": [
    "model_new5000 = RandomForestClassifier()\n",
    "model_new5000.fit(X_train_new5000, y_train_new5000)"
   ]
  },
  {
   "cell_type": "code",
   "execution_count": 63,
   "id": "426f3eba",
   "metadata": {},
   "outputs": [
    {
     "name": "stdout",
     "output_type": "stream",
     "text": [
      "Accuracy: 0.9885945548197204\n"
     ]
    }
   ],
   "source": [
    "y_pred_new5000 = model_new5000.predict(X_test_new5000)\n",
    "accuracy_new5000 = accuracy_score(y_test_new5000, y_pred_new5000)\n",
    "print(\"Accuracy:\", accuracy_new5000)"
   ]
  },
  {
   "cell_type": "code",
   "execution_count": 64,
   "id": "048c1940",
   "metadata": {
    "scrolled": true
   },
   "outputs": [],
   "source": [
    "# Assuming you have the predicted labels (y_pred) and actual labels (y_test)\n",
    "cm_new5000 = confusion_matrix(y_test_new5000, y_pred_new5000)\n",
    "\n",
    "#print(cm_new5000)"
   ]
  },
  {
   "cell_type": "code",
   "execution_count": 65,
   "id": "14449716",
   "metadata": {},
   "outputs": [
    {
     "name": "stdout",
     "output_type": "stream",
     "text": [
      "Int_Cleaner: 168\n",
      "Int_Client: 1108\n",
      "Jolt: 107\n",
      "Run: 24\n",
      "TS: 305\n",
      "background: 1006\n"
     ]
    }
   ],
   "source": [
    "# Count the occurrences of each unique value\n",
    "unique_values, value_counts = np.unique(y_pred_new5000, return_counts=True)\n",
    "\n",
    "# Print the unique values and their counts\n",
    "for value, count in zip(unique_values, value_counts):\n",
    "    print(f\"{value}: {count}\")"
   ]
  },
  {
   "cell_type": "code",
   "execution_count": 66,
   "id": "a314a008",
   "metadata": {
    "scrolled": true
   },
   "outputs": [
    {
     "data": {
      "image/png": "[encoded data removed]",
      "text/plain": [
       "<Figure size 640x480 with 2 Axes>"
      ]
     },
     "metadata": {},
     "output_type": "display_data"
    }
   ],
   "source": [
    "# Define the class labels\n",
    "class_labels_new5000 = np.sort(merged_df['Interaction'].unique())\n",
    "\n",
    "# Create the confusion matrix\n",
    "cm_new5000 = np.array(cm_new5000)\n",
    "\n",
    "# Create a figure and axis\n",
    "fig, ax = plt.subplots()\n",
    "im = ax.imshow(cm_new5000, cmap='Blues')\n",
    "\n",
    "# Set axis labels\n",
    "ax.set_xticks(np.arange(len(class_labels_new5000)))\n",
    "ax.set_yticks(np.arange(len(class_labels_new5000)))\n",
    "ax.set_xticklabels(class_labels_new5000, rotation=45)\n",
    "ax.set_yticklabels(class_labels_new5000)\n",
    "\n",
    "\n",
    "# Add labels to each cell\n",
    "for i in range(len(class_labels_new5000)):\n",
    "    for j in range(len(class_labels_new5000)):\n",
    "        text = ax.text(j, i, cm_new5000[i, j], ha='center', va='center', color='orange')\n",
    "\n",
    "# Add colorbar\n",
    "cbar = ax.figure.colorbar(im, ax=ax)\n",
    "\n",
    "# Set title and labels\n",
    "ax.set_title('Confusion Matrix')\n",
    "ax.set_xlabel('Predicted Label')\n",
    "ax.set_ylabel('True Label')\n",
    "\n",
    "# Show the plot\n",
    "plt.show()"
   ]
  },
  {
   "cell_type": "markdown",
   "id": "084a5a60",
   "metadata": {},
   "source": [
    "## Now I want to test the independent data set"
   ]
  },
  {
   "cell_type": "code",
   "execution_count": 67,
   "id": "d6ef47e0",
   "metadata": {},
   "outputs": [
    {
     "name": "stderr",
     "output_type": "stream",
     "text": [
      "C:\\Users\\raulo\\AppData\\Local\\Temp\\ipykernel_21404\\33228674.py:1: DtypeWarning: Columns (0,1,2,3,4,5,6,7,8,9,10,11,12,13,14,15,16,17,18,19,20,21,22,23,24,25,26,27,28,29,30,31,32,33,34,35,36,37,38,39,40,41,42) have mixed types. Specify dtype option on import or set low_memory=False.\n",
      "  df_ind = pd.read_csv(r\"C:\\Users\\raulo\\Desktop\\LD10(T17)NR3_re-encDLC_dlcrnetms5_LD_YelFeb10shuffle1_75000_el_filtered.csv\", header = 2)\n"
     ]
    }
   ],
   "source": [
    "df_ind = pd.read_csv(r\"C:\\Users\\raulo\\Desktop\\LD10(T17)NR3_re-encDLC_dlcrnetms5_LD_YelFeb10shuffle1_75000_el_filtered.csv\", header = 2)\n",
    "df_ind = df_ind.drop(0)\n",
    "df_ind.index = df_ind.index -1    #Set the index rigth\n",
    "df_ind = df_ind.drop(columns='bodyparts')\n",
    "\n",
    "df_label_ind = pd.read_csv(r\"C:\\Users\\raulo\\Desktop\\LD10(T17)NR3_re-enc_labels.csv\")\n",
    "df_label_ind = df_label_ind.drop(columns='Unnamed: 0')\n",
    "#print(file_path)\n",
    "\n",
    "# Convert DataFrame into a single-column DataFrame\n",
    "single_column_df_ind = pd.DataFrame(df_label_ind.idxmax(axis=1), columns=['Interaction'])"
   ]
  },
  {
   "cell_type": "code",
   "execution_count": 68,
   "id": "84749cd4",
   "metadata": {},
   "outputs": [],
   "source": [
    "labeled_df_ind = pd.concat([single_column_df_ind, df_ind], axis=1)\n",
    "\n",
    "merged_df_ind = labeled_df_ind\n",
    "\n",
    "X_ind = merged_df_ind.iloc[:, 1:43]  # Select columns 1 to 42 as features\n",
    "y_ind = merged_df_ind.iloc[:, 0]     # Select column 0 as the target variable\n",
    "\n",
    "X_ind_imputed = imputer.fit_transform(X_ind)\n",
    "\n",
    "X_ind_scaled = power_transformer.fit_transform(X_ind_imputed)"
   ]
  },
  {
   "cell_type": "code",
   "execution_count": 69,
   "id": "b027889b",
   "metadata": {},
   "outputs": [
    {
     "name": "stdout",
     "output_type": "stream",
     "text": [
      "Accuracy: 0.9719643694327239\n"
     ]
    }
   ],
   "source": [
    "# Prepare the dataset if needed (e.g., perform preprocessing steps)\n",
    "\n",
    "# Make predictions using the random forest model\n",
    "y_pred = model_new5000.predict(X_ind_scaled)\n",
    "\n",
    "# If you have the ground truth labels, compare them with the predicted labels\n",
    "y_true = y_ind  # Replace \"target_variable\" with the actual column name\n",
    "\n",
    "# Calculate accuracy\n",
    "accuracy = accuracy_score(y_true, y_pred)\n",
    "\n",
    "# Print the accuracy\n",
    "print(\"Accuracy:\", accuracy)"
   ]
  },
  {
   "cell_type": "code",
   "execution_count": 70,
   "id": "2b88709c",
   "metadata": {
    "scrolled": true
   },
   "outputs": [
    {
     "data": {
      "text/plain": [
       "array([[    0,     0,     0,     0,     0,     0],\n",
       "       [    0,     0,     0,     0,     0,    16],\n",
       "       [    0,     0,     0,     0,     0,     0],\n",
       "       [    0,     0,     0,     0,     0,     0],\n",
       "       [    0,     0,     0,     0,     0,     0],\n",
       "       [   33,   742,   144,   239,    22, 41464]], dtype=int64)"
      ]
     },
     "execution_count": 70,
     "metadata": {},
     "output_type": "execute_result"
    }
   ],
   "source": [
    "cm = confusion_matrix(y_true, y_pred)\n",
    "cm"
   ]
  },
  {
   "cell_type": "code",
   "execution_count": null,
   "id": "b43538e7",
   "metadata": {},
   "outputs": [],
   "source": [
    "#import pickle"
   ]
  },
  {
   "cell_type": "code",
   "execution_count": null,
   "id": "47d325ce",
   "metadata": {},
   "outputs": [],
   "source": [
    "# with open('saved_random_forest_model_new5000.pkl', 'wb') as file:\n",
    "#     pickle.dump(model_new5000, file)"
   ]
  },
  {
   "cell_type": "markdown",
   "id": "1f4f6cda",
   "metadata": {},
   "source": [
    "## StandardScaler"
   ]
  },
  {
   "cell_type": "code",
   "execution_count": 71,
   "id": "89dec4a6",
   "metadata": {},
   "outputs": [],
   "source": [
    "background_df = merged_df[merged_df['Interaction'] == 'background']\n",
    "other_df = merged_df[merged_df['Interaction'] != 'background']"
   ]
  },
  {
   "cell_type": "code",
   "execution_count": 72,
   "id": "6acb8cf7",
   "metadata": {},
   "outputs": [],
   "source": [
    "desired_background_samples = 5000"
   ]
  },
  {
   "cell_type": "code",
   "execution_count": 73,
   "id": "10f24e57",
   "metadata": {},
   "outputs": [],
   "source": [
    "background_sample = background_df.sample(n=desired_background_samples, random_state=1999)"
   ]
  },
  {
   "cell_type": "code",
   "execution_count": 74,
   "id": "4ba567e4",
   "metadata": {},
   "outputs": [],
   "source": [
    "undersampled_df = pd.concat([background_sample, other_df], ignore_index=True)"
   ]
  },
  {
   "cell_type": "code",
   "execution_count": 75,
   "id": "5dbc70aa",
   "metadata": {
    "scrolled": true
   },
   "outputs": [
    {
     "name": "stdout",
     "output_type": "stream",
     "text": [
      "Int_Client     5524\n",
      "background     5000\n",
      "TS             1474\n",
      "Int_Cleaner     955\n",
      "Jolt            490\n",
      "Run             145\n",
      "Name: Interaction, dtype: int64\n"
     ]
    }
   ],
   "source": [
    "interaction_counts_new = undersampled_df['Interaction'].value_counts()\n",
    "print(interaction_counts_new)"
   ]
  },
  {
   "cell_type": "code",
   "execution_count": 76,
   "id": "76c15c0e",
   "metadata": {},
   "outputs": [],
   "source": [
    "X_new5000 = undersampled_df.iloc[:, 1:43]  # Select columns 1 to 42 as features\n",
    "y_new5000 = undersampled_df.iloc[:, 0]     # Select column 0 as the target variable"
   ]
  },
  {
   "cell_type": "code",
   "execution_count": 77,
   "id": "3e07d15e",
   "metadata": {},
   "outputs": [],
   "source": [
    "imputer = SimpleImputer(strategy='mean')\n",
    "\n",
    "X_imputed_new5000 = imputer.fit_transform(X_new5000)"
   ]
  },
  {
   "cell_type": "code",
   "execution_count": 78,
   "id": "e164fac7",
   "metadata": {},
   "outputs": [],
   "source": [
    "# Create an instance of PowerTransformer\n",
    "power_transformer = StandardScaler()\n",
    "\n",
    "# Fit and transform the data\n",
    "X_new5000_transformed = power_transformer.fit_transform(X_imputed_new5000)"
   ]
  },
  {
   "cell_type": "code",
   "execution_count": 79,
   "id": "a396f188",
   "metadata": {},
   "outputs": [],
   "source": [
    "X_train_new5000, X_test_new5000, y_train_new5000, y_test_new5000 = train_test_split(X_new5000_transformed, y_new5000, test_size=0.2, random_state=1999)"
   ]
  },
  {
   "cell_type": "code",
   "execution_count": 80,
   "id": "dddb095e",
   "metadata": {
    "scrolled": true
   },
   "outputs": [
    {
     "data": {
      "text/html": [
       "<style>#sk-container-id-5 {color: black;background-color: white;}#sk-container-id-5 pre{padding: 0;}#sk-container-id-5 div.sk-toggleable {background-color: white;}#sk-container-id-5 label.sk-toggleable__label {cursor: pointer;display: block;width: 100%;margin-bottom: 0;padding: 0.3em;box-sizing: border-box;text-align: center;}#sk-container-id-5 label.sk-toggleable__label-arrow:before {content: \"▸\";float: left;margin-right: 0.25em;color: #696969;}#sk-container-id-5 label.sk-toggleable__label-arrow:hover:before {color: black;}#sk-container-id-5 div.sk-estimator:hover label.sk-toggleable__label-arrow:before {color: black;}#sk-container-id-5 div.sk-toggleable__content {max-height: 0;max-width: 0;overflow: hidden;text-align: left;background-color: #f0f8ff;}#sk-container-id-5 div.sk-toggleable__content pre {margin: 0.2em;color: black;border-radius: 0.25em;background-color: #f0f8ff;}#sk-container-id-5 input.sk-toggleable__control:checked~div.sk-toggleable__content {max-height: 200px;max-width: 100%;overflow: auto;}#sk-container-id-5 input.sk-toggleable__control:checked~label.sk-toggleable__label-arrow:before {content: \"▾\";}#sk-container-id-5 div.sk-estimator input.sk-toggleable__control:checked~label.sk-toggleable__label {background-color: #d4ebff;}#sk-container-id-5 div.sk-label input.sk-toggleable__control:checked~label.sk-toggleable__label {background-color: #d4ebff;}#sk-container-id-5 input.sk-hidden--visually {border: 0;clip: rect(1px 1px 1px 1px);clip: rect(1px, 1px, 1px, 1px);height: 1px;margin: -1px;overflow: hidden;padding: 0;position: absolute;width: 1px;}#sk-container-id-5 div.sk-estimator {font-family: monospace;background-color: #f0f8ff;border: 1px dotted black;border-radius: 0.25em;box-sizing: border-box;margin-bottom: 0.5em;}#sk-container-id-5 div.sk-estimator:hover {background-color: #d4ebff;}#sk-container-id-5 div.sk-parallel-item::after {content: \"\";width: 100%;border-bottom: 1px solid gray;flex-grow: 1;}#sk-container-id-5 div.sk-label:hover label.sk-toggleable__label {background-color: #d4ebff;}#sk-container-id-5 div.sk-serial::before {content: \"\";position: absolute;border-left: 1px solid gray;box-sizing: border-box;top: 0;bottom: 0;left: 50%;z-index: 0;}#sk-container-id-5 div.sk-serial {display: flex;flex-direction: column;align-items: center;background-color: white;padding-right: 0.2em;padding-left: 0.2em;position: relative;}#sk-container-id-5 div.sk-item {position: relative;z-index: 1;}#sk-container-id-5 div.sk-parallel {display: flex;align-items: stretch;justify-content: center;background-color: white;position: relative;}#sk-container-id-5 div.sk-item::before, #sk-container-id-5 div.sk-parallel-item::before {content: \"\";position: absolute;border-left: 1px solid gray;box-sizing: border-box;top: 0;bottom: 0;left: 50%;z-index: -1;}#sk-container-id-5 div.sk-parallel-item {display: flex;flex-direction: column;z-index: 1;position: relative;background-color: white;}#sk-container-id-5 div.sk-parallel-item:first-child::after {align-self: flex-end;width: 50%;}#sk-container-id-5 div.sk-parallel-item:last-child::after {align-self: flex-start;width: 50%;}#sk-container-id-5 div.sk-parallel-item:only-child::after {width: 0;}#sk-container-id-5 div.sk-dashed-wrapped {border: 1px dashed gray;margin: 0 0.4em 0.5em 0.4em;box-sizing: border-box;padding-bottom: 0.4em;background-color: white;}#sk-container-id-5 div.sk-label label {font-family: monospace;font-weight: bold;display: inline-block;line-height: 1.2em;}#sk-container-id-5 div.sk-label-container {text-align: center;}#sk-container-id-5 div.sk-container {/* jupyter's `normalize.less` sets `[hidden] { display: none; }` but bootstrap.min.css set `[hidden] { display: none !important; }` so we also need the `!important` here to be able to override the default hidden behavior on the sphinx rendered scikit-learn.org. See: https://github.com/scikit-learn/scikit-learn/issues/21755 */display: inline-block !important;position: relative;}#sk-container-id-5 div.sk-text-repr-fallback {display: none;}</style><div id=\"sk-container-id-5\" class=\"sk-top-container\"><div class=\"sk-text-repr-fallback\"><pre>RandomForestClassifier()</pre><b>In a Jupyter environment, please rerun this cell to show the HTML representation or trust the notebook. <br />On GitHub, the HTML representation is unable to render, please try loading this page with nbviewer.org.</b></div><div class=\"sk-container\" hidden><div class=\"sk-item\"><div class=\"sk-estimator sk-toggleable\"><input class=\"sk-toggleable__control sk-hidden--visually\" id=\"sk-estimator-id-5\" type=\"checkbox\" checked><label for=\"sk-estimator-id-5\" class=\"sk-toggleable__label sk-toggleable__label-arrow\">RandomForestClassifier</label><div class=\"sk-toggleable__content\"><pre>RandomForestClassifier()</pre></div></div></div></div></div>"
      ],
      "text/plain": [
       "RandomForestClassifier()"
      ]
     },
     "execution_count": 80,
     "metadata": {},
     "output_type": "execute_result"
    }
   ],
   "source": [
    "model_new5000 = RandomForestClassifier()\n",
    "model_new5000.fit(X_train_new5000, y_train_new5000)"
   ]
  },
  {
   "cell_type": "code",
   "execution_count": 81,
   "id": "23473371",
   "metadata": {},
   "outputs": [
    {
     "name": "stdout",
     "output_type": "stream",
     "text": [
      "Accuracy: 0.9867549668874173\n"
     ]
    }
   ],
   "source": [
    "y_pred_new5000 = model_new5000.predict(X_test_new5000)\n",
    "accuracy_new5000 = accuracy_score(y_test_new5000, y_pred_new5000)\n",
    "print(\"Accuracy:\", accuracy_new5000)"
   ]
  },
  {
   "cell_type": "code",
   "execution_count": 82,
   "id": "df01127f",
   "metadata": {
    "scrolled": true
   },
   "outputs": [],
   "source": [
    "# Assuming you have the predicted labels (y_pred) and actual labels (y_test)\n",
    "cm_new5000 = confusion_matrix(y_test_new5000, y_pred_new5000)\n",
    "\n",
    "#print(cm_new5000)"
   ]
  },
  {
   "cell_type": "code",
   "execution_count": 83,
   "id": "21ab1cf6",
   "metadata": {},
   "outputs": [
    {
     "name": "stdout",
     "output_type": "stream",
     "text": [
      "Int_Cleaner: 168\n",
      "Int_Client: 1109\n",
      "Jolt: 104\n",
      "Run: 23\n",
      "TS: 306\n",
      "background: 1008\n"
     ]
    }
   ],
   "source": [
    "# Count the occurrences of each unique value\n",
    "unique_values, value_counts = np.unique(y_pred_new5000, return_counts=True)\n",
    "\n",
    "# Print the unique values and their counts\n",
    "for value, count in zip(unique_values, value_counts):\n",
    "    print(f\"{value}: {count}\")"
   ]
  },
  {
   "cell_type": "code",
   "execution_count": 84,
   "id": "cf654071",
   "metadata": {
    "scrolled": true
   },
   "outputs": [
    {
     "data": {
      "image/png": "[encoded data removed]",
      "text/plain": [
       "<Figure size 640x480 with 2 Axes>"
      ]
     },
     "metadata": {},
     "output_type": "display_data"
    }
   ],
   "source": [
    "# Define the class labels\n",
    "class_labels_new5000 = np.sort(merged_df['Interaction'].unique())\n",
    "\n",
    "# Create the confusion matrix\n",
    "cm_new5000 = np.array(cm_new5000)\n",
    "\n",
    "# Create a figure and axis\n",
    "fig, ax = plt.subplots()\n",
    "im = ax.imshow(cm_new5000, cmap='Blues')\n",
    "\n",
    "# Set axis labels\n",
    "ax.set_xticks(np.arange(len(class_labels_new5000)))\n",
    "ax.set_yticks(np.arange(len(class_labels_new5000)))\n",
    "ax.set_xticklabels(class_labels_new5000, rotation=45)\n",
    "ax.set_yticklabels(class_labels_new5000)\n",
    "\n",
    "\n",
    "# Add labels to each cell\n",
    "for i in range(len(class_labels_new5000)):\n",
    "    for j in range(len(class_labels_new5000)):\n",
    "        text = ax.text(j, i, cm_new5000[i, j], ha='center', va='center', color='orange')\n",
    "\n",
    "# Add colorbar\n",
    "cbar = ax.figure.colorbar(im, ax=ax)\n",
    "\n",
    "# Set title and labels\n",
    "ax.set_title('Confusion Matrix')\n",
    "ax.set_xlabel('Predicted Label')\n",
    "ax.set_ylabel('True Label')\n",
    "\n",
    "# Show the plot\n",
    "plt.show()"
   ]
  },
  {
   "cell_type": "markdown",
   "id": "a75559b3",
   "metadata": {},
   "source": [
    "## Now I want to test the independent data set"
   ]
  },
  {
   "cell_type": "code",
   "execution_count": 85,
   "id": "9f28216c",
   "metadata": {},
   "outputs": [
    {
     "name": "stderr",
     "output_type": "stream",
     "text": [
      "C:\\Users\\raulo\\AppData\\Local\\Temp\\ipykernel_21404\\33228674.py:1: DtypeWarning: Columns (0,1,2,3,4,5,6,7,8,9,10,11,12,13,14,15,16,17,18,19,20,21,22,23,24,25,26,27,28,29,30,31,32,33,34,35,36,37,38,39,40,41,42) have mixed types. Specify dtype option on import or set low_memory=False.\n",
      "  df_ind = pd.read_csv(r\"C:\\Users\\raulo\\Desktop\\LD10(T17)NR3_re-encDLC_dlcrnetms5_LD_YelFeb10shuffle1_75000_el_filtered.csv\", header = 2)\n"
     ]
    }
   ],
   "source": [
    "df_ind = pd.read_csv(r\"C:\\Users\\raulo\\Desktop\\LD10(T17)NR3_re-encDLC_dlcrnetms5_LD_YelFeb10shuffle1_75000_el_filtered.csv\", header = 2)\n",
    "df_ind = df_ind.drop(0)\n",
    "df_ind.index = df_ind.index -1    #Set the index rigth\n",
    "df_ind = df_ind.drop(columns='bodyparts')\n",
    "\n",
    "df_label_ind = pd.read_csv(r\"C:\\Users\\raulo\\Desktop\\LD10(T17)NR3_re-enc_labels.csv\")\n",
    "df_label_ind = df_label_ind.drop(columns='Unnamed: 0')\n",
    "#print(file_path)\n",
    "\n",
    "# Convert DataFrame into a single-column DataFrame\n",
    "single_column_df_ind = pd.DataFrame(df_label_ind.idxmax(axis=1), columns=['Interaction'])"
   ]
  },
  {
   "cell_type": "code",
   "execution_count": 86,
   "id": "1fafe391",
   "metadata": {},
   "outputs": [],
   "source": [
    "labeled_df_ind = pd.concat([single_column_df_ind, df_ind], axis=1)\n",
    "\n",
    "merged_df_ind = labeled_df_ind\n",
    "\n",
    "X_ind = merged_df_ind.iloc[:, 1:43]  # Select columns 1 to 42 as features\n",
    "y_ind = merged_df_ind.iloc[:, 0]     # Select column 0 as the target variable\n",
    "\n",
    "X_ind_imputed = imputer.fit_transform(X_ind)\n",
    "\n",
    "X_ind_scaled = power_transformer.fit_transform(X_ind_imputed)"
   ]
  },
  {
   "cell_type": "code",
   "execution_count": 87,
   "id": "2d4d5927",
   "metadata": {},
   "outputs": [
    {
     "name": "stdout",
     "output_type": "stream",
     "text": [
      "Accuracy: 0.984200656352555\n"
     ]
    }
   ],
   "source": [
    "# Prepare the dataset if needed (e.g., perform preprocessing steps)\n",
    "\n",
    "# Make predictions using the random forest model\n",
    "y_pred = model_new5000.predict(X_ind_scaled)\n",
    "\n",
    "# If you have the ground truth labels, compare them with the predicted labels\n",
    "y_true = y_ind  # Replace \"target_variable\" with the actual column name\n",
    "\n",
    "# Calculate accuracy\n",
    "accuracy = accuracy_score(y_true, y_pred)\n",
    "\n",
    "# Print the accuracy\n",
    "print(\"Accuracy:\", accuracy)"
   ]
  },
  {
   "cell_type": "code",
   "execution_count": 88,
   "id": "bcf84288",
   "metadata": {
    "scrolled": true
   },
   "outputs": [
    {
     "data": {
      "text/plain": [
       "array([[    0,     0,     0,     0,     0,     0],\n",
       "       [    0,     1,     0,     0,     0,    15],\n",
       "       [    0,     0,     0,     0,     0,     0],\n",
       "       [    0,     0,     0,     0,     0,     0],\n",
       "       [    0,     0,     0,     0,     0,     0],\n",
       "       [   19,   394,    66,   149,    31, 41985]], dtype=int64)"
      ]
     },
     "execution_count": 88,
     "metadata": {},
     "output_type": "execute_result"
    }
   ],
   "source": [
    "cm = confusion_matrix(y_true, y_pred)\n",
    "cm"
   ]
  },
  {
   "cell_type": "markdown",
   "id": "71f3693e",
   "metadata": {},
   "source": [
    "## MinMaxScaler"
   ]
  },
  {
   "cell_type": "code",
   "execution_count": 89,
   "id": "354d2dc8",
   "metadata": {},
   "outputs": [],
   "source": [
    "background_df = merged_df[merged_df['Interaction'] == 'background']\n",
    "other_df = merged_df[merged_df['Interaction'] != 'background']"
   ]
  },
  {
   "cell_type": "code",
   "execution_count": 90,
   "id": "463147ff",
   "metadata": {},
   "outputs": [],
   "source": [
    "desired_background_samples = 5000"
   ]
  },
  {
   "cell_type": "code",
   "execution_count": 91,
   "id": "8b5fa14e",
   "metadata": {},
   "outputs": [],
   "source": [
    "background_sample = background_df.sample(n=desired_background_samples, random_state=1999)"
   ]
  },
  {
   "cell_type": "code",
   "execution_count": 92,
   "id": "eb4390da",
   "metadata": {},
   "outputs": [],
   "source": [
    "undersampled_df = pd.concat([background_sample, other_df], ignore_index=True)"
   ]
  },
  {
   "cell_type": "code",
   "execution_count": 93,
   "id": "d29f0908",
   "metadata": {
    "scrolled": true
   },
   "outputs": [
    {
     "name": "stdout",
     "output_type": "stream",
     "text": [
      "Int_Client     5524\n",
      "background     5000\n",
      "TS             1474\n",
      "Int_Cleaner     955\n",
      "Jolt            490\n",
      "Run             145\n",
      "Name: Interaction, dtype: int64\n"
     ]
    }
   ],
   "source": [
    "interaction_counts_new = undersampled_df['Interaction'].value_counts()\n",
    "print(interaction_counts_new)"
   ]
  },
  {
   "cell_type": "code",
   "execution_count": 94,
   "id": "e4de83ad",
   "metadata": {},
   "outputs": [],
   "source": [
    "X_new5000 = undersampled_df.iloc[:, 1:43]  # Select columns 1 to 42 as features\n",
    "y_new5000 = undersampled_df.iloc[:, 0]     # Select column 0 as the target variable"
   ]
  },
  {
   "cell_type": "code",
   "execution_count": 95,
   "id": "58676590",
   "metadata": {},
   "outputs": [],
   "source": [
    "imputer = SimpleImputer(strategy='mean')\n",
    "\n",
    "X_imputed_new5000 = imputer.fit_transform(X_new5000)"
   ]
  },
  {
   "cell_type": "code",
   "execution_count": 96,
   "id": "0bf31e7e",
   "metadata": {},
   "outputs": [],
   "source": [
    "# Create an instance of PowerTransformer\n",
    "power_transformer = MinMaxScaler()\n",
    "\n",
    "# Fit and transform the data\n",
    "X_new5000_transformed = power_transformer.fit_transform(X_imputed_new5000)"
   ]
  },
  {
   "cell_type": "code",
   "execution_count": 97,
   "id": "d5aaa780",
   "metadata": {},
   "outputs": [],
   "source": [
    "X_train_new5000, X_test_new5000, y_train_new5000, y_test_new5000 = train_test_split(X_new5000_transformed, y_new5000, test_size=0.2, random_state=1999)"
   ]
  },
  {
   "cell_type": "code",
   "execution_count": 98,
   "id": "f70a27f1",
   "metadata": {
    "scrolled": true
   },
   "outputs": [
    {
     "data": {
      "text/html": [
       "<style>#sk-container-id-6 {color: black;background-color: white;}#sk-container-id-6 pre{padding: 0;}#sk-container-id-6 div.sk-toggleable {background-color: white;}#sk-container-id-6 label.sk-toggleable__label {cursor: pointer;display: block;width: 100%;margin-bottom: 0;padding: 0.3em;box-sizing: border-box;text-align: center;}#sk-container-id-6 label.sk-toggleable__label-arrow:before {content: \"▸\";float: left;margin-right: 0.25em;color: #696969;}#sk-container-id-6 label.sk-toggleable__label-arrow:hover:before {color: black;}#sk-container-id-6 div.sk-estimator:hover label.sk-toggleable__label-arrow:before {color: black;}#sk-container-id-6 div.sk-toggleable__content {max-height: 0;max-width: 0;overflow: hidden;text-align: left;background-color: #f0f8ff;}#sk-container-id-6 div.sk-toggleable__content pre {margin: 0.2em;color: black;border-radius: 0.25em;background-color: #f0f8ff;}#sk-container-id-6 input.sk-toggleable__control:checked~div.sk-toggleable__content {max-height: 200px;max-width: 100%;overflow: auto;}#sk-container-id-6 input.sk-toggleable__control:checked~label.sk-toggleable__label-arrow:before {content: \"▾\";}#sk-container-id-6 div.sk-estimator input.sk-toggleable__control:checked~label.sk-toggleable__label {background-color: #d4ebff;}#sk-container-id-6 div.sk-label input.sk-toggleable__control:checked~label.sk-toggleable__label {background-color: #d4ebff;}#sk-container-id-6 input.sk-hidden--visually {border: 0;clip: rect(1px 1px 1px 1px);clip: rect(1px, 1px, 1px, 1px);height: 1px;margin: -1px;overflow: hidden;padding: 0;position: absolute;width: 1px;}#sk-container-id-6 div.sk-estimator {font-family: monospace;background-color: #f0f8ff;border: 1px dotted black;border-radius: 0.25em;box-sizing: border-box;margin-bottom: 0.5em;}#sk-container-id-6 div.sk-estimator:hover {background-color: #d4ebff;}#sk-container-id-6 div.sk-parallel-item::after {content: \"\";width: 100%;border-bottom: 1px solid gray;flex-grow: 1;}#sk-container-id-6 div.sk-label:hover label.sk-toggleable__label {background-color: #d4ebff;}#sk-container-id-6 div.sk-serial::before {content: \"\";position: absolute;border-left: 1px solid gray;box-sizing: border-box;top: 0;bottom: 0;left: 50%;z-index: 0;}#sk-container-id-6 div.sk-serial {display: flex;flex-direction: column;align-items: center;background-color: white;padding-right: 0.2em;padding-left: 0.2em;position: relative;}#sk-container-id-6 div.sk-item {position: relative;z-index: 1;}#sk-container-id-6 div.sk-parallel {display: flex;align-items: stretch;justify-content: center;background-color: white;position: relative;}#sk-container-id-6 div.sk-item::before, #sk-container-id-6 div.sk-parallel-item::before {content: \"\";position: absolute;border-left: 1px solid gray;box-sizing: border-box;top: 0;bottom: 0;left: 50%;z-index: -1;}#sk-container-id-6 div.sk-parallel-item {display: flex;flex-direction: column;z-index: 1;position: relative;background-color: white;}#sk-container-id-6 div.sk-parallel-item:first-child::after {align-self: flex-end;width: 50%;}#sk-container-id-6 div.sk-parallel-item:last-child::after {align-self: flex-start;width: 50%;}#sk-container-id-6 div.sk-parallel-item:only-child::after {width: 0;}#sk-container-id-6 div.sk-dashed-wrapped {border: 1px dashed gray;margin: 0 0.4em 0.5em 0.4em;box-sizing: border-box;padding-bottom: 0.4em;background-color: white;}#sk-container-id-6 div.sk-label label {font-family: monospace;font-weight: bold;display: inline-block;line-height: 1.2em;}#sk-container-id-6 div.sk-label-container {text-align: center;}#sk-container-id-6 div.sk-container {/* jupyter's `normalize.less` sets `[hidden] { display: none; }` but bootstrap.min.css set `[hidden] { display: none !important; }` so we also need the `!important` here to be able to override the default hidden behavior on the sphinx rendered scikit-learn.org. See: https://github.com/scikit-learn/scikit-learn/issues/21755 */display: inline-block !important;position: relative;}#sk-container-id-6 div.sk-text-repr-fallback {display: none;}</style><div id=\"sk-container-id-6\" class=\"sk-top-container\"><div class=\"sk-text-repr-fallback\"><pre>RandomForestClassifier()</pre><b>In a Jupyter environment, please rerun this cell to show the HTML representation or trust the notebook. <br />On GitHub, the HTML representation is unable to render, please try loading this page with nbviewer.org.</b></div><div class=\"sk-container\" hidden><div class=\"sk-item\"><div class=\"sk-estimator sk-toggleable\"><input class=\"sk-toggleable__control sk-hidden--visually\" id=\"sk-estimator-id-6\" type=\"checkbox\" checked><label for=\"sk-estimator-id-6\" class=\"sk-toggleable__label sk-toggleable__label-arrow\">RandomForestClassifier</label><div class=\"sk-toggleable__content\"><pre>RandomForestClassifier()</pre></div></div></div></div></div>"
      ],
      "text/plain": [
       "RandomForestClassifier()"
      ]
     },
     "execution_count": 98,
     "metadata": {},
     "output_type": "execute_result"
    }
   ],
   "source": [
    "model_new5000 = RandomForestClassifier()\n",
    "model_new5000.fit(X_train_new5000, y_train_new5000)"
   ]
  },
  {
   "cell_type": "code",
   "execution_count": 99,
   "id": "99911b70",
   "metadata": {},
   "outputs": [
    {
     "name": "stdout",
     "output_type": "stream",
     "text": [
      "Accuracy: 0.9871228844738779\n"
     ]
    }
   ],
   "source": [
    "y_pred_new5000 = model_new5000.predict(X_test_new5000)\n",
    "accuracy_new5000 = accuracy_score(y_test_new5000, y_pred_new5000)\n",
    "print(\"Accuracy:\", accuracy_new5000)"
   ]
  },
  {
   "cell_type": "code",
   "execution_count": 100,
   "id": "6e54e2e7",
   "metadata": {
    "scrolled": true
   },
   "outputs": [],
   "source": [
    "# Assuming you have the predicted labels (y_pred) and actual labels (y_test)\n",
    "cm_new5000 = confusion_matrix(y_test_new5000, y_pred_new5000)\n",
    "\n",
    "#print(cm_new5000)"
   ]
  },
  {
   "cell_type": "code",
   "execution_count": 101,
   "id": "bdeec9fb",
   "metadata": {},
   "outputs": [
    {
     "name": "stdout",
     "output_type": "stream",
     "text": [
      "Int_Cleaner: 168\n",
      "Int_Client: 1111\n",
      "Jolt: 105\n",
      "Run: 24\n",
      "TS: 303\n",
      "background: 1007\n"
     ]
    }
   ],
   "source": [
    "# Count the occurrences of each unique value\n",
    "unique_values, value_counts = np.unique(y_pred_new5000, return_counts=True)\n",
    "\n",
    "# Print the unique values and their counts\n",
    "for value, count in zip(unique_values, value_counts):\n",
    "    print(f\"{value}: {count}\")"
   ]
  },
  {
   "cell_type": "code",
   "execution_count": 102,
   "id": "65b1a531",
   "metadata": {
    "scrolled": true
   },
   "outputs": [
    {
     "data": {
      "image/png": "[encoded data removed]",
      "text/plain": [
       "<Figure size 640x480 with 2 Axes>"
      ]
     },
     "metadata": {},
     "output_type": "display_data"
    }
   ],
   "source": [
    "# Define the class labels\n",
    "class_labels_new5000 = np.sort(merged_df['Interaction'].unique())\n",
    "\n",
    "# Create the confusion matrix\n",
    "cm_new5000 = np.array(cm_new5000)\n",
    "\n",
    "# Create a figure and axis\n",
    "fig, ax = plt.subplots()\n",
    "im = ax.imshow(cm_new5000, cmap='Blues')\n",
    "\n",
    "# Set axis labels\n",
    "ax.set_xticks(np.arange(len(class_labels_new5000)))\n",
    "ax.set_yticks(np.arange(len(class_labels_new5000)))\n",
    "ax.set_xticklabels(class_labels_new5000, rotation=45)\n",
    "ax.set_yticklabels(class_labels_new5000)\n",
    "\n",
    "\n",
    "# Add labels to each cell\n",
    "for i in range(len(class_labels_new5000)):\n",
    "    for j in range(len(class_labels_new5000)):\n",
    "        text = ax.text(j, i, cm_new5000[i, j], ha='center', va='center', color='orange')\n",
    "\n",
    "# Add colorbar\n",
    "cbar = ax.figure.colorbar(im, ax=ax)\n",
    "\n",
    "# Set title and labels\n",
    "ax.set_title('Confusion Matrix')\n",
    "ax.set_xlabel('Predicted Label')\n",
    "ax.set_ylabel('True Label')\n",
    "\n",
    "# Show the plot\n",
    "plt.show()"
   ]
  },
  {
   "cell_type": "markdown",
   "id": "63299a37",
   "metadata": {},
   "source": [
    "## Now I want to test the independent data set"
   ]
  },
  {
   "cell_type": "code",
   "execution_count": 103,
   "id": "654e2f7d",
   "metadata": {},
   "outputs": [
    {
     "name": "stderr",
     "output_type": "stream",
     "text": [
      "C:\\Users\\raulo\\AppData\\Local\\Temp\\ipykernel_21404\\33228674.py:1: DtypeWarning: Columns (0,1,2,3,4,5,6,7,8,9,10,11,12,13,14,15,16,17,18,19,20,21,22,23,24,25,26,27,28,29,30,31,32,33,34,35,36,37,38,39,40,41,42) have mixed types. Specify dtype option on import or set low_memory=False.\n",
      "  df_ind = pd.read_csv(r\"C:\\Users\\raulo\\Desktop\\LD10(T17)NR3_re-encDLC_dlcrnetms5_LD_YelFeb10shuffle1_75000_el_filtered.csv\", header = 2)\n"
     ]
    }
   ],
   "source": [
    "df_ind = pd.read_csv(r\"C:\\Users\\raulo\\Desktop\\LD10(T17)NR3_re-encDLC_dlcrnetms5_LD_YelFeb10shuffle1_75000_el_filtered.csv\", header = 2)\n",
    "df_ind = df_ind.drop(0)\n",
    "df_ind.index = df_ind.index -1    #Set the index rigth\n",
    "df_ind = df_ind.drop(columns='bodyparts')\n",
    "\n",
    "df_label_ind = pd.read_csv(r\"C:\\Users\\raulo\\Desktop\\LD10(T17)NR3_re-enc_labels.csv\")\n",
    "df_label_ind = df_label_ind.drop(columns='Unnamed: 0')\n",
    "#print(file_path)\n",
    "\n",
    "# Convert DataFrame into a single-column DataFrame\n",
    "single_column_df_ind = pd.DataFrame(df_label_ind.idxmax(axis=1), columns=['Interaction'])"
   ]
  },
  {
   "cell_type": "code",
   "execution_count": 104,
   "id": "902cfdd9",
   "metadata": {},
   "outputs": [],
   "source": [
    "labeled_df_ind = pd.concat([single_column_df_ind, df_ind], axis=1)\n",
    "\n",
    "merged_df_ind = labeled_df_ind\n",
    "\n",
    "X_ind = merged_df_ind.iloc[:, 1:43]  # Select columns 1 to 42 as features\n",
    "y_ind = merged_df_ind.iloc[:, 0]     # Select column 0 as the target variable\n",
    "\n",
    "X_ind_imputed = imputer.fit_transform(X_ind)\n",
    "\n",
    "X_ind_scaled = power_transformer.fit_transform(X_ind_imputed)"
   ]
  },
  {
   "cell_type": "code",
   "execution_count": 105,
   "id": "f23b97e5",
   "metadata": {},
   "outputs": [
    {
     "name": "stdout",
     "output_type": "stream",
     "text": [
      "Accuracy: 0.9994139709329583\n"
     ]
    }
   ],
   "source": [
    "# Prepare the dataset if needed (e.g., perform preprocessing steps)\n",
    "\n",
    "# Make predictions using the random forest model\n",
    "y_pred = model_new5000.predict(X_ind_scaled)\n",
    "\n",
    "# If you have the ground truth labels, compare them with the predicted labels\n",
    "y_true = y_ind  # Replace \"target_variable\" with the actual column name\n",
    "\n",
    "# Calculate accuracy\n",
    "accuracy = accuracy_score(y_true, y_pred)\n",
    "\n",
    "# Print the accuracy\n",
    "print(\"Accuracy:\", accuracy)"
   ]
  },
  {
   "cell_type": "code",
   "execution_count": 106,
   "id": "05dacaea",
   "metadata": {
    "scrolled": false
   },
   "outputs": [
    {
     "data": {
      "text/plain": [
       "array([[    0,    16],\n",
       "       [    9, 42635]], dtype=int64)"
      ]
     },
     "execution_count": 106,
     "metadata": {},
     "output_type": "execute_result"
    }
   ],
   "source": [
    "cm = confusion_matrix(y_true, y_pred)\n",
    "cm"
   ]
  },
  {
   "cell_type": "markdown",
   "id": "b2ce025e",
   "metadata": {},
   "source": [
    "---\n",
    "---\n",
    "---\n",
    "---"
   ]
  },
  {
   "cell_type": "markdown",
   "id": "64de9421",
   "metadata": {},
   "source": [
    "# RandomForest (Columns likelihood out) with 5k backgrounds\n",
    "+ Imputer = mean"
   ]
  },
  {
   "cell_type": "markdown",
   "id": "1edefe4a",
   "metadata": {},
   "source": [
    "## PowerTransformer"
   ]
  },
  {
   "cell_type": "code",
   "execution_count": 112,
   "id": "8b21afb0",
   "metadata": {},
   "outputs": [],
   "source": [
    "columns = [1,2,4,5,7,8,10,11,13,14,16,17,19,20,22,23,25,26,28,29,31,32,34,35,37,38,40,41]"
   ]
  },
  {
   "cell_type": "code",
   "execution_count": 113,
   "id": "0fe77116",
   "metadata": {},
   "outputs": [],
   "source": [
    "X_new5000_fs = undersampled_df.iloc[:, columns]  # Select columns 1 to 42 as features\n",
    "y_new5000_fs = undersampled_df.iloc[:, 0]     # Select column 0 as the target variable"
   ]
  },
  {
   "cell_type": "code",
   "execution_count": 114,
   "id": "e5256a5c",
   "metadata": {},
   "outputs": [],
   "source": [
    "imputer = SimpleImputer(strategy='mean')\n",
    "\n",
    "X_imputed_new5000_fs = imputer.fit_transform(X_new5000_fs)"
   ]
  },
  {
   "cell_type": "code",
   "execution_count": 115,
   "id": "5b420951",
   "metadata": {},
   "outputs": [],
   "source": [
    "# Create an instance of PowerTransformer\n",
    "power_transformer = PowerTransformer()\n",
    "\n",
    "# Fit and transform the data\n",
    "X_scaled_new5000_fs = power_transformer.fit_transform(X_imputed_new5000_fs)"
   ]
  },
  {
   "cell_type": "code",
   "execution_count": 116,
   "id": "6ca7dea2",
   "metadata": {},
   "outputs": [],
   "source": [
    "X_train_new5000_fs, X_test_new5000_fs, y_train_new5000_fs, y_test_new5000_fs = train_test_split(X_scaled_new5000_fs, y_new5000_fs, test_size=0.2, random_state=1999)"
   ]
  },
  {
   "cell_type": "code",
   "execution_count": 117,
   "id": "4db08dd5",
   "metadata": {
    "scrolled": false
   },
   "outputs": [
    {
     "data": {
      "text/html": [
       "<style>#sk-container-id-7 {color: black;background-color: white;}#sk-container-id-7 pre{padding: 0;}#sk-container-id-7 div.sk-toggleable {background-color: white;}#sk-container-id-7 label.sk-toggleable__label {cursor: pointer;display: block;width: 100%;margin-bottom: 0;padding: 0.3em;box-sizing: border-box;text-align: center;}#sk-container-id-7 label.sk-toggleable__label-arrow:before {content: \"▸\";float: left;margin-right: 0.25em;color: #696969;}#sk-container-id-7 label.sk-toggleable__label-arrow:hover:before {color: black;}#sk-container-id-7 div.sk-estimator:hover label.sk-toggleable__label-arrow:before {color: black;}#sk-container-id-7 div.sk-toggleable__content {max-height: 0;max-width: 0;overflow: hidden;text-align: left;background-color: #f0f8ff;}#sk-container-id-7 div.sk-toggleable__content pre {margin: 0.2em;color: black;border-radius: 0.25em;background-color: #f0f8ff;}#sk-container-id-7 input.sk-toggleable__control:checked~div.sk-toggleable__content {max-height: 200px;max-width: 100%;overflow: auto;}#sk-container-id-7 input.sk-toggleable__control:checked~label.sk-toggleable__label-arrow:before {content: \"▾\";}#sk-container-id-7 div.sk-estimator input.sk-toggleable__control:checked~label.sk-toggleable__label {background-color: #d4ebff;}#sk-container-id-7 div.sk-label input.sk-toggleable__control:checked~label.sk-toggleable__label {background-color: #d4ebff;}#sk-container-id-7 input.sk-hidden--visually {border: 0;clip: rect(1px 1px 1px 1px);clip: rect(1px, 1px, 1px, 1px);height: 1px;margin: -1px;overflow: hidden;padding: 0;position: absolute;width: 1px;}#sk-container-id-7 div.sk-estimator {font-family: monospace;background-color: #f0f8ff;border: 1px dotted black;border-radius: 0.25em;box-sizing: border-box;margin-bottom: 0.5em;}#sk-container-id-7 div.sk-estimator:hover {background-color: #d4ebff;}#sk-container-id-7 div.sk-parallel-item::after {content: \"\";width: 100%;border-bottom: 1px solid gray;flex-grow: 1;}#sk-container-id-7 div.sk-label:hover label.sk-toggleable__label {background-color: #d4ebff;}#sk-container-id-7 div.sk-serial::before {content: \"\";position: absolute;border-left: 1px solid gray;box-sizing: border-box;top: 0;bottom: 0;left: 50%;z-index: 0;}#sk-container-id-7 div.sk-serial {display: flex;flex-direction: column;align-items: center;background-color: white;padding-right: 0.2em;padding-left: 0.2em;position: relative;}#sk-container-id-7 div.sk-item {position: relative;z-index: 1;}#sk-container-id-7 div.sk-parallel {display: flex;align-items: stretch;justify-content: center;background-color: white;position: relative;}#sk-container-id-7 div.sk-item::before, #sk-container-id-7 div.sk-parallel-item::before {content: \"\";position: absolute;border-left: 1px solid gray;box-sizing: border-box;top: 0;bottom: 0;left: 50%;z-index: -1;}#sk-container-id-7 div.sk-parallel-item {display: flex;flex-direction: column;z-index: 1;position: relative;background-color: white;}#sk-container-id-7 div.sk-parallel-item:first-child::after {align-self: flex-end;width: 50%;}#sk-container-id-7 div.sk-parallel-item:last-child::after {align-self: flex-start;width: 50%;}#sk-container-id-7 div.sk-parallel-item:only-child::after {width: 0;}#sk-container-id-7 div.sk-dashed-wrapped {border: 1px dashed gray;margin: 0 0.4em 0.5em 0.4em;box-sizing: border-box;padding-bottom: 0.4em;background-color: white;}#sk-container-id-7 div.sk-label label {font-family: monospace;font-weight: bold;display: inline-block;line-height: 1.2em;}#sk-container-id-7 div.sk-label-container {text-align: center;}#sk-container-id-7 div.sk-container {/* jupyter's `normalize.less` sets `[hidden] { display: none; }` but bootstrap.min.css set `[hidden] { display: none !important; }` so we also need the `!important` here to be able to override the default hidden behavior on the sphinx rendered scikit-learn.org. See: https://github.com/scikit-learn/scikit-learn/issues/21755 */display: inline-block !important;position: relative;}#sk-container-id-7 div.sk-text-repr-fallback {display: none;}</style><div id=\"sk-container-id-7\" class=\"sk-top-container\"><div class=\"sk-text-repr-fallback\"><pre>RandomForestClassifier()</pre><b>In a Jupyter environment, please rerun this cell to show the HTML representation or trust the notebook. <br />On GitHub, the HTML representation is unable to render, please try loading this page with nbviewer.org.</b></div><div class=\"sk-container\" hidden><div class=\"sk-item\"><div class=\"sk-estimator sk-toggleable\"><input class=\"sk-toggleable__control sk-hidden--visually\" id=\"sk-estimator-id-7\" type=\"checkbox\" checked><label for=\"sk-estimator-id-7\" class=\"sk-toggleable__label sk-toggleable__label-arrow\">RandomForestClassifier</label><div class=\"sk-toggleable__content\"><pre>RandomForestClassifier()</pre></div></div></div></div></div>"
      ],
      "text/plain": [
       "RandomForestClassifier()"
      ]
     },
     "execution_count": 117,
     "metadata": {},
     "output_type": "execute_result"
    }
   ],
   "source": [
    "model_new5000_fs = RandomForestClassifier()\n",
    "model_new5000_fs.fit(X_train_new5000_fs, y_train_new5000_fs)"
   ]
  },
  {
   "cell_type": "code",
   "execution_count": 118,
   "id": "1b47eb89",
   "metadata": {},
   "outputs": [
    {
     "name": "stdout",
     "output_type": "stream",
     "text": [
      "Accuracy: 0.9882266372332598\n"
     ]
    }
   ],
   "source": [
    "y_pred_new5000_fs = model_new5000_fs.predict(X_test_new5000_fs)\n",
    "accuracy_new5000_fs = accuracy_score(y_test_new5000_fs, y_pred_new5000_fs)\n",
    "print(\"Accuracy:\", accuracy_new5000_fs)"
   ]
  },
  {
   "cell_type": "code",
   "execution_count": 119,
   "id": "cf2fb745",
   "metadata": {},
   "outputs": [],
   "source": [
    "# Assuming you have the predicted labels (y_pred) and actual labels (y_test)\n",
    "cm_new5000_fs = confusion_matrix(y_test_new5000_fs, y_pred_new5000_fs)\n",
    "\n",
    "#print(cm_new5000_featuresselection)"
   ]
  },
  {
   "cell_type": "code",
   "execution_count": 120,
   "id": "f814fd25",
   "metadata": {
    "scrolled": true
   },
   "outputs": [
    {
     "data": {
      "image/png": "[encoded data removed]",
      "text/plain": [
       "<Figure size 640x480 with 2 Axes>"
      ]
     },
     "metadata": {},
     "output_type": "display_data"
    }
   ],
   "source": [
    "# Define the class labels\n",
    "class_labels_new5000_fs = np.sort(merged_df['Interaction'].unique())\n",
    "\n",
    "# Create the confusion matrix\n",
    "cm_new5000_fs = np.array(cm_new5000_fs)\n",
    "\n",
    "# Create a figure and axis\n",
    "fig, ax = plt.subplots()\n",
    "im = ax.imshow(cm_new5000_fs, cmap='Blues')\n",
    "\n",
    "# Set axis labels\n",
    "ax.set_xticks(np.arange(len(class_labels_new5000_fs)))\n",
    "ax.set_yticks(np.arange(len(class_labels_new5000_fs)))\n",
    "ax.set_xticklabels(class_labels_new5000_fs, rotation=45)\n",
    "ax.set_yticklabels(class_labels_new5000_fs)\n",
    "\n",
    "\n",
    "# Add labels to each cell\n",
    "for i in range(len(class_labels_new5000_fs)):\n",
    "    for j in range(len(class_labels_new5000_fs)):\n",
    "        text = ax.text(j, i, cm_new5000_fs[i, j], ha='center', va='center', color='orange')\n",
    "\n",
    "# Add colorbar\n",
    "cbar = ax.figure.colorbar(im, ax=ax)\n",
    "\n",
    "# Set title and labels\n",
    "ax.set_title('Confusion Matrix')\n",
    "ax.set_xlabel('Predicted Label')\n",
    "ax.set_ylabel('True Label')\n",
    "\n",
    "# Show the plot\n",
    "plt.show()"
   ]
  },
  {
   "cell_type": "markdown",
   "id": "c8431363",
   "metadata": {},
   "source": [
    "## Now I want to test the independent data set"
   ]
  },
  {
   "cell_type": "code",
   "execution_count": 126,
   "id": "5bf5d000",
   "metadata": {},
   "outputs": [
    {
     "name": "stderr",
     "output_type": "stream",
     "text": [
      "C:\\Users\\raulo\\AppData\\Local\\Temp\\ipykernel_21404\\1365181221.py:1: DtypeWarning: Columns (0,1,2,3,4,5,6,7,8,9,10,11,12,13,14,15,16,17,18,19,20,21,22,23,24,25,26,27,28,29,30,31,32,33,34,35,36,37,38,39,40,41,42) have mixed types. Specify dtype option on import or set low_memory=False.\n",
      "  df_ind = pd.read_csv(r\"C:\\Users\\raulo\\Desktop\\LD10(T17)NR3_re-encDLC_dlcrnetms5_LD_YelFeb10shuffle1_75000_el_filtered.csv\", header = 2)\n"
     ]
    }
   ],
   "source": [
    "df_ind = pd.read_csv(r\"C:\\Users\\raulo\\Desktop\\LD10(T17)NR3_re-encDLC_dlcrnetms5_LD_YelFeb10shuffle1_75000_el_filtered.csv\", header = 2)\n",
    "df_ind = df_ind.drop(0)\n",
    "df_ind.index = df_ind.index -1    #Set the index rigth\n",
    "df_ind = df_ind.drop(columns='bodyparts')\n",
    "df_ind = df_ind.iloc[:, columns]\n",
    "\n",
    "df_label_ind = pd.read_csv(r\"C:\\Users\\raulo\\Desktop\\LD10(T17)NR3_re-enc_labels.csv\")\n",
    "df_label_ind = df_label_ind.drop(columns='Unnamed: 0')\n",
    "#print(file_path)\n",
    "\n",
    "# Convert DataFrame into a single-column DataFrame\n",
    "single_column_df_ind = pd.DataFrame(df_label_ind.idxmax(axis=1), columns=['Interaction'])"
   ]
  },
  {
   "cell_type": "code",
   "execution_count": 127,
   "id": "1a39f895",
   "metadata": {},
   "outputs": [],
   "source": [
    "labeled_df_ind = pd.concat([single_column_df_ind, df_ind], axis=1)\n",
    "\n",
    "merged_df_ind = labeled_df_ind\n",
    "\n",
    "X_ind = merged_df_ind.iloc[:, 1:43]  # Select columns 1 to 42 as features\n",
    "y_ind = merged_df_ind.iloc[:, 0]     # Select column 0 as the target variable\n",
    "\n",
    "X_ind_imputed = imputer.fit_transform(X_ind)\n",
    "\n",
    "X_ind_scaled = power_transformer.fit_transform(X_ind_imputed)"
   ]
  },
  {
   "cell_type": "code",
   "execution_count": 128,
   "id": "93f1c81f",
   "metadata": {},
   "outputs": [
    {
     "name": "stdout",
     "output_type": "stream",
     "text": [
      "Accuracy: 0.9907876230661041\n"
     ]
    }
   ],
   "source": [
    "# Prepare the dataset if needed (e.g., perform preprocessing steps)\n",
    "\n",
    "# Make predictions using the random forest model\n",
    "y_pred = model_new5000_fs.predict(X_ind_scaled)\n",
    "\n",
    "# If you have the ground truth labels, compare them with the predicted labels\n",
    "y_true = y_ind  # Replace \"target_variable\" with the actual column name\n",
    "\n",
    "# Calculate accuracy\n",
    "accuracy = accuracy_score(y_true, y_pred)\n",
    "\n",
    "# Print the accuracy\n",
    "print(\"Accuracy:\", accuracy)"
   ]
  },
  {
   "cell_type": "code",
   "execution_count": 129,
   "id": "de683895",
   "metadata": {
    "scrolled": false
   },
   "outputs": [
    {
     "data": {
      "text/plain": [
       "array([[    0,     0,     0,    16],\n",
       "       [    0,     0,     0,     0],\n",
       "       [    0,     0,     0,     0],\n",
       "       [  372,     3,     2, 42267]], dtype=int64)"
      ]
     },
     "execution_count": 129,
     "metadata": {},
     "output_type": "execute_result"
    }
   ],
   "source": [
    "cm = confusion_matrix(y_true, y_pred)\n",
    "cm"
   ]
  },
  {
   "cell_type": "markdown",
   "id": "20c4677b",
   "metadata": {},
   "source": [
    "## StandardScaler"
   ]
  },
  {
   "cell_type": "code",
   "execution_count": 131,
   "id": "9cf36614",
   "metadata": {},
   "outputs": [],
   "source": [
    "columns = [1,2,4,5,7,8,10,11,13,14,16,17,19,20,22,23,25,26,28,29,31,32,34,35,37,38,40,41]"
   ]
  },
  {
   "cell_type": "code",
   "execution_count": 132,
   "id": "cdb31da1",
   "metadata": {},
   "outputs": [],
   "source": [
    "X_new5000_fs = undersampled_df.iloc[:, columns]  # Select columns 1 to 42 as features\n",
    "y_new5000_fs = undersampled_df.iloc[:, 0]     # Select column 0 as the target variable"
   ]
  },
  {
   "cell_type": "code",
   "execution_count": 133,
   "id": "af95a54c",
   "metadata": {},
   "outputs": [],
   "source": [
    "imputer = SimpleImputer(strategy='mean')\n",
    "\n",
    "X_imputed_new5000_fs = imputer.fit_transform(X_new5000_fs)"
   ]
  },
  {
   "cell_type": "code",
   "execution_count": 134,
   "id": "57876890",
   "metadata": {},
   "outputs": [],
   "source": [
    "# Create an instance of PowerTransformer\n",
    "power_transformer = StandardScaler()\n",
    "\n",
    "# Fit and transform the data\n",
    "X_scaled_new5000_fs = power_transformer.fit_transform(X_imputed_new5000_fs)"
   ]
  },
  {
   "cell_type": "code",
   "execution_count": 135,
   "id": "822cec28",
   "metadata": {},
   "outputs": [],
   "source": [
    "X_train_new5000_fs, X_test_new5000_fs, y_train_new5000_fs, y_test_new5000_fs = train_test_split(X_scaled_new5000_fs, y_new5000_fs, test_size=0.2, random_state=1999)"
   ]
  },
  {
   "cell_type": "code",
   "execution_count": 136,
   "id": "3160376b",
   "metadata": {
    "scrolled": false
   },
   "outputs": [
    {
     "data": {
      "text/html": [
       "<style>#sk-container-id-8 {color: black;background-color: white;}#sk-container-id-8 pre{padding: 0;}#sk-container-id-8 div.sk-toggleable {background-color: white;}#sk-container-id-8 label.sk-toggleable__label {cursor: pointer;display: block;width: 100%;margin-bottom: 0;padding: 0.3em;box-sizing: border-box;text-align: center;}#sk-container-id-8 label.sk-toggleable__label-arrow:before {content: \"▸\";float: left;margin-right: 0.25em;color: #696969;}#sk-container-id-8 label.sk-toggleable__label-arrow:hover:before {color: black;}#sk-container-id-8 div.sk-estimator:hover label.sk-toggleable__label-arrow:before {color: black;}#sk-container-id-8 div.sk-toggleable__content {max-height: 0;max-width: 0;overflow: hidden;text-align: left;background-color: #f0f8ff;}#sk-container-id-8 div.sk-toggleable__content pre {margin: 0.2em;color: black;border-radius: 0.25em;background-color: #f0f8ff;}#sk-container-id-8 input.sk-toggleable__control:checked~div.sk-toggleable__content {max-height: 200px;max-width: 100%;overflow: auto;}#sk-container-id-8 input.sk-toggleable__control:checked~label.sk-toggleable__label-arrow:before {content: \"▾\";}#sk-container-id-8 div.sk-estimator input.sk-toggleable__control:checked~label.sk-toggleable__label {background-color: #d4ebff;}#sk-container-id-8 div.sk-label input.sk-toggleable__control:checked~label.sk-toggleable__label {background-color: #d4ebff;}#sk-container-id-8 input.sk-hidden--visually {border: 0;clip: rect(1px 1px 1px 1px);clip: rect(1px, 1px, 1px, 1px);height: 1px;margin: -1px;overflow: hidden;padding: 0;position: absolute;width: 1px;}#sk-container-id-8 div.sk-estimator {font-family: monospace;background-color: #f0f8ff;border: 1px dotted black;border-radius: 0.25em;box-sizing: border-box;margin-bottom: 0.5em;}#sk-container-id-8 div.sk-estimator:hover {background-color: #d4ebff;}#sk-container-id-8 div.sk-parallel-item::after {content: \"\";width: 100%;border-bottom: 1px solid gray;flex-grow: 1;}#sk-container-id-8 div.sk-label:hover label.sk-toggleable__label {background-color: #d4ebff;}#sk-container-id-8 div.sk-serial::before {content: \"\";position: absolute;border-left: 1px solid gray;box-sizing: border-box;top: 0;bottom: 0;left: 50%;z-index: 0;}#sk-container-id-8 div.sk-serial {display: flex;flex-direction: column;align-items: center;background-color: white;padding-right: 0.2em;padding-left: 0.2em;position: relative;}#sk-container-id-8 div.sk-item {position: relative;z-index: 1;}#sk-container-id-8 div.sk-parallel {display: flex;align-items: stretch;justify-content: center;background-color: white;position: relative;}#sk-container-id-8 div.sk-item::before, #sk-container-id-8 div.sk-parallel-item::before {content: \"\";position: absolute;border-left: 1px solid gray;box-sizing: border-box;top: 0;bottom: 0;left: 50%;z-index: -1;}#sk-container-id-8 div.sk-parallel-item {display: flex;flex-direction: column;z-index: 1;position: relative;background-color: white;}#sk-container-id-8 div.sk-parallel-item:first-child::after {align-self: flex-end;width: 50%;}#sk-container-id-8 div.sk-parallel-item:last-child::after {align-self: flex-start;width: 50%;}#sk-container-id-8 div.sk-parallel-item:only-child::after {width: 0;}#sk-container-id-8 div.sk-dashed-wrapped {border: 1px dashed gray;margin: 0 0.4em 0.5em 0.4em;box-sizing: border-box;padding-bottom: 0.4em;background-color: white;}#sk-container-id-8 div.sk-label label {font-family: monospace;font-weight: bold;display: inline-block;line-height: 1.2em;}#sk-container-id-8 div.sk-label-container {text-align: center;}#sk-container-id-8 div.sk-container {/* jupyter's `normalize.less` sets `[hidden] { display: none; }` but bootstrap.min.css set `[hidden] { display: none !important; }` so we also need the `!important` here to be able to override the default hidden behavior on the sphinx rendered scikit-learn.org. See: https://github.com/scikit-learn/scikit-learn/issues/21755 */display: inline-block !important;position: relative;}#sk-container-id-8 div.sk-text-repr-fallback {display: none;}</style><div id=\"sk-container-id-8\" class=\"sk-top-container\"><div class=\"sk-text-repr-fallback\"><pre>RandomForestClassifier()</pre><b>In a Jupyter environment, please rerun this cell to show the HTML representation or trust the notebook. <br />On GitHub, the HTML representation is unable to render, please try loading this page with nbviewer.org.</b></div><div class=\"sk-container\" hidden><div class=\"sk-item\"><div class=\"sk-estimator sk-toggleable\"><input class=\"sk-toggleable__control sk-hidden--visually\" id=\"sk-estimator-id-8\" type=\"checkbox\" checked><label for=\"sk-estimator-id-8\" class=\"sk-toggleable__label sk-toggleable__label-arrow\">RandomForestClassifier</label><div class=\"sk-toggleable__content\"><pre>RandomForestClassifier()</pre></div></div></div></div></div>"
      ],
      "text/plain": [
       "RandomForestClassifier()"
      ]
     },
     "execution_count": 136,
     "metadata": {},
     "output_type": "execute_result"
    }
   ],
   "source": [
    "model_new5000_fs = RandomForestClassifier()\n",
    "model_new5000_fs.fit(X_train_new5000_fs, y_train_new5000_fs)"
   ]
  },
  {
   "cell_type": "code",
   "execution_count": 137,
   "id": "5322016e",
   "metadata": {},
   "outputs": [
    {
     "name": "stdout",
     "output_type": "stream",
     "text": [
      "Accuracy: 0.9896983075791023\n"
     ]
    }
   ],
   "source": [
    "y_pred_new5000_fs = model_new5000_fs.predict(X_test_new5000_fs)\n",
    "accuracy_new5000_fs = accuracy_score(y_test_new5000_fs, y_pred_new5000_fs)\n",
    "print(\"Accuracy:\", accuracy_new5000_fs)"
   ]
  },
  {
   "cell_type": "code",
   "execution_count": 138,
   "id": "94674bf3",
   "metadata": {},
   "outputs": [],
   "source": [
    "# Assuming you have the predicted labels (y_pred) and actual labels (y_test)\n",
    "cm_new5000_fs = confusion_matrix(y_test_new5000_fs, y_pred_new5000_fs)\n",
    "\n",
    "#print(cm_new5000_featuresselection)"
   ]
  },
  {
   "cell_type": "code",
   "execution_count": 139,
   "id": "b2d74c44",
   "metadata": {
    "scrolled": true
   },
   "outputs": [
    {
     "data": {
      "image/png": "[encoded data removed]",
      "text/plain": [
       "<Figure size 640x480 with 2 Axes>"
      ]
     },
     "metadata": {},
     "output_type": "display_data"
    }
   ],
   "source": [
    "# Define the class labels\n",
    "class_labels_new5000_fs = np.sort(merged_df['Interaction'].unique())\n",
    "\n",
    "# Create the confusion matrix\n",
    "cm_new5000_fs = np.array(cm_new5000_fs)\n",
    "\n",
    "# Create a figure and axis\n",
    "fig, ax = plt.subplots()\n",
    "im = ax.imshow(cm_new5000_fs, cmap='Blues')\n",
    "\n",
    "# Set axis labels\n",
    "ax.set_xticks(np.arange(len(class_labels_new5000_fs)))\n",
    "ax.set_yticks(np.arange(len(class_labels_new5000_fs)))\n",
    "ax.set_xticklabels(class_labels_new5000_fs, rotation=45)\n",
    "ax.set_yticklabels(class_labels_new5000_fs)\n",
    "\n",
    "\n",
    "# Add labels to each cell\n",
    "for i in range(len(class_labels_new5000_fs)):\n",
    "    for j in range(len(class_labels_new5000_fs)):\n",
    "        text = ax.text(j, i, cm_new5000_fs[i, j], ha='center', va='center', color='orange')\n",
    "\n",
    "# Add colorbar\n",
    "cbar = ax.figure.colorbar(im, ax=ax)\n",
    "\n",
    "# Set title and labels\n",
    "ax.set_title('Confusion Matrix')\n",
    "ax.set_xlabel('Predicted Label')\n",
    "ax.set_ylabel('True Label')\n",
    "\n",
    "# Show the plot\n",
    "plt.show()"
   ]
  },
  {
   "cell_type": "markdown",
   "id": "504f6d5e",
   "metadata": {},
   "source": [
    "## Now I want to test the independent data set"
   ]
  },
  {
   "cell_type": "code",
   "execution_count": 140,
   "id": "ae097ad9",
   "metadata": {},
   "outputs": [
    {
     "name": "stderr",
     "output_type": "stream",
     "text": [
      "C:\\Users\\raulo\\AppData\\Local\\Temp\\ipykernel_21404\\1365181221.py:1: DtypeWarning: Columns (0,1,2,3,4,5,6,7,8,9,10,11,12,13,14,15,16,17,18,19,20,21,22,23,24,25,26,27,28,29,30,31,32,33,34,35,36,37,38,39,40,41,42) have mixed types. Specify dtype option on import or set low_memory=False.\n",
      "  df_ind = pd.read_csv(r\"C:\\Users\\raulo\\Desktop\\LD10(T17)NR3_re-encDLC_dlcrnetms5_LD_YelFeb10shuffle1_75000_el_filtered.csv\", header = 2)\n"
     ]
    }
   ],
   "source": [
    "df_ind = pd.read_csv(r\"C:\\Users\\raulo\\Desktop\\LD10(T17)NR3_re-encDLC_dlcrnetms5_LD_YelFeb10shuffle1_75000_el_filtered.csv\", header = 2)\n",
    "df_ind = df_ind.drop(0)\n",
    "df_ind.index = df_ind.index -1    #Set the index rigth\n",
    "df_ind = df_ind.drop(columns='bodyparts')\n",
    "df_ind = df_ind.iloc[:, columns]\n",
    "\n",
    "df_label_ind = pd.read_csv(r\"C:\\Users\\raulo\\Desktop\\LD10(T17)NR3_re-enc_labels.csv\")\n",
    "df_label_ind = df_label_ind.drop(columns='Unnamed: 0')\n",
    "#print(file_path)\n",
    "\n",
    "# Convert DataFrame into a single-column DataFrame\n",
    "single_column_df_ind = pd.DataFrame(df_label_ind.idxmax(axis=1), columns=['Interaction'])"
   ]
  },
  {
   "cell_type": "code",
   "execution_count": 141,
   "id": "f36d05af",
   "metadata": {},
   "outputs": [],
   "source": [
    "labeled_df_ind = pd.concat([single_column_df_ind, df_ind], axis=1)\n",
    "\n",
    "merged_df_ind = labeled_df_ind\n",
    "\n",
    "X_ind = merged_df_ind.iloc[:, 1:43]  # Select columns 1 to 42 as features\n",
    "y_ind = merged_df_ind.iloc[:, 0]     # Select column 0 as the target variable\n",
    "\n",
    "X_ind_imputed = imputer.fit_transform(X_ind)\n",
    "\n",
    "X_ind_scaled = power_transformer.fit_transform(X_ind_imputed)"
   ]
  },
  {
   "cell_type": "code",
   "execution_count": 142,
   "id": "bdde7b66",
   "metadata": {},
   "outputs": [
    {
     "name": "stdout",
     "output_type": "stream",
     "text": [
      "Accuracy: 0.9933661509610877\n"
     ]
    }
   ],
   "source": [
    "# Prepare the dataset if needed (e.g., perform preprocessing steps)\n",
    "\n",
    "# Make predictions using the random forest model\n",
    "y_pred = model_new5000_fs.predict(X_ind_scaled)\n",
    "\n",
    "# If you have the ground truth labels, compare them with the predicted labels\n",
    "y_true = y_ind  # Replace \"target_variable\" with the actual column name\n",
    "\n",
    "# Calculate accuracy\n",
    "accuracy = accuracy_score(y_true, y_pred)\n",
    "\n",
    "# Print the accuracy\n",
    "print(\"Accuracy:\", accuracy)"
   ]
  },
  {
   "cell_type": "code",
   "execution_count": 143,
   "id": "a93988c9",
   "metadata": {
    "scrolled": true
   },
   "outputs": [
    {
     "data": {
      "text/plain": [
       "array([[    0,     0,     0,     0,     0],\n",
       "       [    0,     0,     0,     0,    16],\n",
       "       [    0,     0,     0,     0,     0],\n",
       "       [    0,     0,     0,     0,     0],\n",
       "       [    8,     0,   255,     4, 42377]], dtype=int64)"
      ]
     },
     "execution_count": 143,
     "metadata": {},
     "output_type": "execute_result"
    }
   ],
   "source": [
    "cm = confusion_matrix(y_true, y_pred)\n",
    "cm"
   ]
  },
  {
   "cell_type": "markdown",
   "id": "cb1c2779",
   "metadata": {},
   "source": [
    "## MinMaxScaler"
   ]
  },
  {
   "cell_type": "code",
   "execution_count": 144,
   "id": "aeb8ca5e",
   "metadata": {},
   "outputs": [],
   "source": [
    "columns = [1,2,4,5,7,8,10,11,13,14,16,17,19,20,22,23,25,26,28,29,31,32,34,35,37,38,40,41]"
   ]
  },
  {
   "cell_type": "code",
   "execution_count": 145,
   "id": "2b734c19",
   "metadata": {},
   "outputs": [],
   "source": [
    "X_new5000_fs = undersampled_df.iloc[:, columns]  # Select columns 1 to 42 as features\n",
    "y_new5000_fs = undersampled_df.iloc[:, 0]     # Select column 0 as the target variable"
   ]
  },
  {
   "cell_type": "code",
   "execution_count": 146,
   "id": "6baca97d",
   "metadata": {},
   "outputs": [],
   "source": [
    "imputer = SimpleImputer(strategy='mean')\n",
    "\n",
    "X_imputed_new5000_fs = imputer.fit_transform(X_new5000_fs)"
   ]
  },
  {
   "cell_type": "code",
   "execution_count": 147,
   "id": "302709ff",
   "metadata": {},
   "outputs": [],
   "source": [
    "# Create an instance of PowerTransformer\n",
    "power_transformer = MinMaxScaler()\n",
    "\n",
    "# Fit and transform the data\n",
    "X_scaled_new5000_fs = power_transformer.fit_transform(X_imputed_new5000_fs)"
   ]
  },
  {
   "cell_type": "code",
   "execution_count": 148,
   "id": "1876dceb",
   "metadata": {},
   "outputs": [],
   "source": [
    "X_train_new5000_fs, X_test_new5000_fs, y_train_new5000_fs, y_test_new5000_fs = train_test_split(X_scaled_new5000_fs, y_new5000_fs, test_size=0.2, random_state=1999)"
   ]
  },
  {
   "cell_type": "code",
   "execution_count": 149,
   "id": "c469ed62",
   "metadata": {
    "scrolled": false
   },
   "outputs": [
    {
     "data": {
      "text/html": [
       "<style>#sk-container-id-9 {color: black;background-color: white;}#sk-container-id-9 pre{padding: 0;}#sk-container-id-9 div.sk-toggleable {background-color: white;}#sk-container-id-9 label.sk-toggleable__label {cursor: pointer;display: block;width: 100%;margin-bottom: 0;padding: 0.3em;box-sizing: border-box;text-align: center;}#sk-container-id-9 label.sk-toggleable__label-arrow:before {content: \"▸\";float: left;margin-right: 0.25em;color: #696969;}#sk-container-id-9 label.sk-toggleable__label-arrow:hover:before {color: black;}#sk-container-id-9 div.sk-estimator:hover label.sk-toggleable__label-arrow:before {color: black;}#sk-container-id-9 div.sk-toggleable__content {max-height: 0;max-width: 0;overflow: hidden;text-align: left;background-color: #f0f8ff;}#sk-container-id-9 div.sk-toggleable__content pre {margin: 0.2em;color: black;border-radius: 0.25em;background-color: #f0f8ff;}#sk-container-id-9 input.sk-toggleable__control:checked~div.sk-toggleable__content {max-height: 200px;max-width: 100%;overflow: auto;}#sk-container-id-9 input.sk-toggleable__control:checked~label.sk-toggleable__label-arrow:before {content: \"▾\";}#sk-container-id-9 div.sk-estimator input.sk-toggleable__control:checked~label.sk-toggleable__label {background-color: #d4ebff;}#sk-container-id-9 div.sk-label input.sk-toggleable__control:checked~label.sk-toggleable__label {background-color: #d4ebff;}#sk-container-id-9 input.sk-hidden--visually {border: 0;clip: rect(1px 1px 1px 1px);clip: rect(1px, 1px, 1px, 1px);height: 1px;margin: -1px;overflow: hidden;padding: 0;position: absolute;width: 1px;}#sk-container-id-9 div.sk-estimator {font-family: monospace;background-color: #f0f8ff;border: 1px dotted black;border-radius: 0.25em;box-sizing: border-box;margin-bottom: 0.5em;}#sk-container-id-9 div.sk-estimator:hover {background-color: #d4ebff;}#sk-container-id-9 div.sk-parallel-item::after {content: \"\";width: 100%;border-bottom: 1px solid gray;flex-grow: 1;}#sk-container-id-9 div.sk-label:hover label.sk-toggleable__label {background-color: #d4ebff;}#sk-container-id-9 div.sk-serial::before {content: \"\";position: absolute;border-left: 1px solid gray;box-sizing: border-box;top: 0;bottom: 0;left: 50%;z-index: 0;}#sk-container-id-9 div.sk-serial {display: flex;flex-direction: column;align-items: center;background-color: white;padding-right: 0.2em;padding-left: 0.2em;position: relative;}#sk-container-id-9 div.sk-item {position: relative;z-index: 1;}#sk-container-id-9 div.sk-parallel {display: flex;align-items: stretch;justify-content: center;background-color: white;position: relative;}#sk-container-id-9 div.sk-item::before, #sk-container-id-9 div.sk-parallel-item::before {content: \"\";position: absolute;border-left: 1px solid gray;box-sizing: border-box;top: 0;bottom: 0;left: 50%;z-index: -1;}#sk-container-id-9 div.sk-parallel-item {display: flex;flex-direction: column;z-index: 1;position: relative;background-color: white;}#sk-container-id-9 div.sk-parallel-item:first-child::after {align-self: flex-end;width: 50%;}#sk-container-id-9 div.sk-parallel-item:last-child::after {align-self: flex-start;width: 50%;}#sk-container-id-9 div.sk-parallel-item:only-child::after {width: 0;}#sk-container-id-9 div.sk-dashed-wrapped {border: 1px dashed gray;margin: 0 0.4em 0.5em 0.4em;box-sizing: border-box;padding-bottom: 0.4em;background-color: white;}#sk-container-id-9 div.sk-label label {font-family: monospace;font-weight: bold;display: inline-block;line-height: 1.2em;}#sk-container-id-9 div.sk-label-container {text-align: center;}#sk-container-id-9 div.sk-container {/* jupyter's `normalize.less` sets `[hidden] { display: none; }` but bootstrap.min.css set `[hidden] { display: none !important; }` so we also need the `!important` here to be able to override the default hidden behavior on the sphinx rendered scikit-learn.org. See: https://github.com/scikit-learn/scikit-learn/issues/21755 */display: inline-block !important;position: relative;}#sk-container-id-9 div.sk-text-repr-fallback {display: none;}</style><div id=\"sk-container-id-9\" class=\"sk-top-container\"><div class=\"sk-text-repr-fallback\"><pre>RandomForestClassifier()</pre><b>In a Jupyter environment, please rerun this cell to show the HTML representation or trust the notebook. <br />On GitHub, the HTML representation is unable to render, please try loading this page with nbviewer.org.</b></div><div class=\"sk-container\" hidden><div class=\"sk-item\"><div class=\"sk-estimator sk-toggleable\"><input class=\"sk-toggleable__control sk-hidden--visually\" id=\"sk-estimator-id-9\" type=\"checkbox\" checked><label for=\"sk-estimator-id-9\" class=\"sk-toggleable__label sk-toggleable__label-arrow\">RandomForestClassifier</label><div class=\"sk-toggleable__content\"><pre>RandomForestClassifier()</pre></div></div></div></div></div>"
      ],
      "text/plain": [
       "RandomForestClassifier()"
      ]
     },
     "execution_count": 149,
     "metadata": {},
     "output_type": "execute_result"
    }
   ],
   "source": [
    "model_new5000_fs = RandomForestClassifier()\n",
    "model_new5000_fs.fit(X_train_new5000_fs, y_train_new5000_fs)"
   ]
  },
  {
   "cell_type": "code",
   "execution_count": 150,
   "id": "f06ac262",
   "metadata": {},
   "outputs": [
    {
     "name": "stdout",
     "output_type": "stream",
     "text": [
      "Accuracy: 0.9882266372332598\n"
     ]
    }
   ],
   "source": [
    "y_pred_new5000_fs = model_new5000_fs.predict(X_test_new5000_fs)\n",
    "accuracy_new5000_fs = accuracy_score(y_test_new5000_fs, y_pred_new5000_fs)\n",
    "print(\"Accuracy:\", accuracy_new5000_fs)"
   ]
  },
  {
   "cell_type": "code",
   "execution_count": 151,
   "id": "02afee1c",
   "metadata": {},
   "outputs": [],
   "source": [
    "# Assuming you have the predicted labels (y_pred) and actual labels (y_test)\n",
    "cm_new5000_fs = confusion_matrix(y_test_new5000_fs, y_pred_new5000_fs)\n",
    "\n",
    "#print(cm_new5000_featuresselection)"
   ]
  },
  {
   "cell_type": "code",
   "execution_count": 152,
   "id": "0419c988",
   "metadata": {
    "scrolled": true
   },
   "outputs": [
    {
     "data": {
      "image/png": "[encoded data removed]",
      "text/plain": [
       "<Figure size 640x480 with 2 Axes>"
      ]
     },
     "metadata": {},
     "output_type": "display_data"
    }
   ],
   "source": [
    "# Define the class labels\n",
    "class_labels_new5000_fs = np.sort(merged_df['Interaction'].unique())\n",
    "\n",
    "# Create the confusion matrix\n",
    "cm_new5000_fs = np.array(cm_new5000_fs)\n",
    "\n",
    "# Create a figure and axis\n",
    "fig, ax = plt.subplots()\n",
    "im = ax.imshow(cm_new5000_fs, cmap='Blues')\n",
    "\n",
    "# Set axis labels\n",
    "ax.set_xticks(np.arange(len(class_labels_new5000_fs)))\n",
    "ax.set_yticks(np.arange(len(class_labels_new5000_fs)))\n",
    "ax.set_xticklabels(class_labels_new5000_fs, rotation=45)\n",
    "ax.set_yticklabels(class_labels_new5000_fs)\n",
    "\n",
    "\n",
    "# Add labels to each cell\n",
    "for i in range(len(class_labels_new5000_fs)):\n",
    "    for j in range(len(class_labels_new5000_fs)):\n",
    "        text = ax.text(j, i, cm_new5000_fs[i, j], ha='center', va='center', color='orange')\n",
    "\n",
    "# Add colorbar\n",
    "cbar = ax.figure.colorbar(im, ax=ax)\n",
    "\n",
    "# Set title and labels\n",
    "ax.set_title('Confusion Matrix')\n",
    "ax.set_xlabel('Predicted Label')\n",
    "ax.set_ylabel('True Label')\n",
    "\n",
    "# Show the plot\n",
    "plt.show()"
   ]
  },
  {
   "cell_type": "markdown",
   "id": "a58dfc72",
   "metadata": {},
   "source": [
    "## Now I want to test the independent data set"
   ]
  },
  {
   "cell_type": "code",
   "execution_count": 153,
   "id": "6bf029cf",
   "metadata": {},
   "outputs": [
    {
     "name": "stderr",
     "output_type": "stream",
     "text": [
      "C:\\Users\\raulo\\AppData\\Local\\Temp\\ipykernel_21404\\1365181221.py:1: DtypeWarning: Columns (0,1,2,3,4,5,6,7,8,9,10,11,12,13,14,15,16,17,18,19,20,21,22,23,24,25,26,27,28,29,30,31,32,33,34,35,36,37,38,39,40,41,42) have mixed types. Specify dtype option on import or set low_memory=False.\n",
      "  df_ind = pd.read_csv(r\"C:\\Users\\raulo\\Desktop\\LD10(T17)NR3_re-encDLC_dlcrnetms5_LD_YelFeb10shuffle1_75000_el_filtered.csv\", header = 2)\n"
     ]
    }
   ],
   "source": [
    "df_ind = pd.read_csv(r\"C:\\Users\\raulo\\Desktop\\LD10(T17)NR3_re-encDLC_dlcrnetms5_LD_YelFeb10shuffle1_75000_el_filtered.csv\", header = 2)\n",
    "df_ind = df_ind.drop(0)\n",
    "df_ind.index = df_ind.index -1    #Set the index rigth\n",
    "df_ind = df_ind.drop(columns='bodyparts')\n",
    "df_ind = df_ind.iloc[:, columns]\n",
    "\n",
    "df_label_ind = pd.read_csv(r\"C:\\Users\\raulo\\Desktop\\LD10(T17)NR3_re-enc_labels.csv\")\n",
    "df_label_ind = df_label_ind.drop(columns='Unnamed: 0')\n",
    "#print(file_path)\n",
    "\n",
    "# Convert DataFrame into a single-column DataFrame\n",
    "single_column_df_ind = pd.DataFrame(df_label_ind.idxmax(axis=1), columns=['Interaction'])"
   ]
  },
  {
   "cell_type": "code",
   "execution_count": 154,
   "id": "9844079c",
   "metadata": {},
   "outputs": [],
   "source": [
    "labeled_df_ind = pd.concat([single_column_df_ind, df_ind], axis=1)\n",
    "\n",
    "merged_df_ind = labeled_df_ind\n",
    "\n",
    "X_ind = merged_df_ind.iloc[:, 1:43]  # Select columns 1 to 42 as features\n",
    "y_ind = merged_df_ind.iloc[:, 0]     # Select column 0 as the target variable\n",
    "\n",
    "X_ind_imputed = imputer.fit_transform(X_ind)\n",
    "\n",
    "X_ind_scaled = power_transformer.fit_transform(X_ind_imputed)"
   ]
  },
  {
   "cell_type": "code",
   "execution_count": 155,
   "id": "82b9ef92",
   "metadata": {},
   "outputs": [
    {
     "name": "stdout",
     "output_type": "stream",
     "text": [
      "Accuracy: 0.9996249413970933\n"
     ]
    }
   ],
   "source": [
    "# Prepare the dataset if needed (e.g., perform preprocessing steps)\n",
    "\n",
    "# Make predictions using the random forest model\n",
    "y_pred = model_new5000_fs.predict(X_ind_scaled)\n",
    "\n",
    "# If you have the ground truth labels, compare them with the predicted labels\n",
    "y_true = y_ind  # Replace \"target_variable\" with the actual column name\n",
    "\n",
    "# Calculate accuracy\n",
    "accuracy = accuracy_score(y_true, y_pred)\n",
    "\n",
    "# Print the accuracy\n",
    "print(\"Accuracy:\", accuracy)"
   ]
  },
  {
   "cell_type": "code",
   "execution_count": 156,
   "id": "2f9d7e56",
   "metadata": {
    "scrolled": true
   },
   "outputs": [
    {
     "data": {
      "text/plain": [
       "array([[    0,    16],\n",
       "       [    0, 42644]], dtype=int64)"
      ]
     },
     "execution_count": 156,
     "metadata": {},
     "output_type": "execute_result"
    }
   ],
   "source": [
    "cm = confusion_matrix(y_true, y_pred)\n",
    "cm"
   ]
  },
  {
   "cell_type": "markdown",
   "id": "f267c5f1",
   "metadata": {},
   "source": [
    "---\n",
    "---\n",
    "---\n",
    "---"
   ]
  },
  {
   "cell_type": "markdown",
   "id": "9755bc12",
   "metadata": {},
   "source": [
    "# RandomForest (Columns likelihood out) with 5k backgrounds\n",
    "+ Imputer = KNNImputer"
   ]
  },
  {
   "cell_type": "markdown",
   "id": "ab769556",
   "metadata": {},
   "source": [
    "## PowerTransformer"
   ]
  },
  {
   "cell_type": "code",
   "execution_count": 212,
   "id": "780ebf9d",
   "metadata": {},
   "outputs": [],
   "source": [
    "columns = [1,2,4,5,7,8,10,11,13,14,16,17,19,20,22,23,25,26,28,29,31,32,34,35,37,38,40,41]"
   ]
  },
  {
   "cell_type": "code",
   "execution_count": 213,
   "id": "e6f492f7",
   "metadata": {},
   "outputs": [],
   "source": [
    "X_new5000_fs = undersampled_df.iloc[:, columns]  # Select columns 1 to 42 as features\n",
    "y_new5000_fs = undersampled_df.iloc[:, 0]     # Select column 0 as the target variable"
   ]
  },
  {
   "cell_type": "code",
   "execution_count": 214,
   "id": "fe64d5cf",
   "metadata": {},
   "outputs": [],
   "source": [
    "imputer = KNNImputer(n_neighbors=5, weights='uniform')\n",
    "\n",
    "X_imputed_new5000_fs = imputer.fit_transform(X_new5000_fs)"
   ]
  },
  {
   "cell_type": "code",
   "execution_count": 215,
   "id": "2926bd6e",
   "metadata": {},
   "outputs": [],
   "source": [
    "# Create an instance of PowerTransformer\n",
    "power_transformer = PowerTransformer()\n",
    "\n",
    "# Fit and transform the data\n",
    "X_scaled_new5000_fs = power_transformer.fit_transform(X_imputed_new5000_fs)"
   ]
  },
  {
   "cell_type": "code",
   "execution_count": 216,
   "id": "415054d4",
   "metadata": {},
   "outputs": [],
   "source": [
    "X_train_new5000_fs, X_test_new5000_fs, y_train_new5000_fs, y_test_new5000_fs = train_test_split(X_scaled_new5000_fs, y_new5000_fs, test_size=0.2, random_state=1999)"
   ]
  },
  {
   "cell_type": "code",
   "execution_count": 217,
   "id": "10414eb1",
   "metadata": {
    "scrolled": false
   },
   "outputs": [
    {
     "data": {
      "text/html": [
       "<style>#sk-container-id-13 {color: black;background-color: white;}#sk-container-id-13 pre{padding: 0;}#sk-container-id-13 div.sk-toggleable {background-color: white;}#sk-container-id-13 label.sk-toggleable__label {cursor: pointer;display: block;width: 100%;margin-bottom: 0;padding: 0.3em;box-sizing: border-box;text-align: center;}#sk-container-id-13 label.sk-toggleable__label-arrow:before {content: \"▸\";float: left;margin-right: 0.25em;color: #696969;}#sk-container-id-13 label.sk-toggleable__label-arrow:hover:before {color: black;}#sk-container-id-13 div.sk-estimator:hover label.sk-toggleable__label-arrow:before {color: black;}#sk-container-id-13 div.sk-toggleable__content {max-height: 0;max-width: 0;overflow: hidden;text-align: left;background-color: #f0f8ff;}#sk-container-id-13 div.sk-toggleable__content pre {margin: 0.2em;color: black;border-radius: 0.25em;background-color: #f0f8ff;}#sk-container-id-13 input.sk-toggleable__control:checked~div.sk-toggleable__content {max-height: 200px;max-width: 100%;overflow: auto;}#sk-container-id-13 input.sk-toggleable__control:checked~label.sk-toggleable__label-arrow:before {content: \"▾\";}#sk-container-id-13 div.sk-estimator input.sk-toggleable__control:checked~label.sk-toggleable__label {background-color: #d4ebff;}#sk-container-id-13 div.sk-label input.sk-toggleable__control:checked~label.sk-toggleable__label {background-color: #d4ebff;}#sk-container-id-13 input.sk-hidden--visually {border: 0;clip: rect(1px 1px 1px 1px);clip: rect(1px, 1px, 1px, 1px);height: 1px;margin: -1px;overflow: hidden;padding: 0;position: absolute;width: 1px;}#sk-container-id-13 div.sk-estimator {font-family: monospace;background-color: #f0f8ff;border: 1px dotted black;border-radius: 0.25em;box-sizing: border-box;margin-bottom: 0.5em;}#sk-container-id-13 div.sk-estimator:hover {background-color: #d4ebff;}#sk-container-id-13 div.sk-parallel-item::after {content: \"\";width: 100%;border-bottom: 1px solid gray;flex-grow: 1;}#sk-container-id-13 div.sk-label:hover label.sk-toggleable__label {background-color: #d4ebff;}#sk-container-id-13 div.sk-serial::before {content: \"\";position: absolute;border-left: 1px solid gray;box-sizing: border-box;top: 0;bottom: 0;left: 50%;z-index: 0;}#sk-container-id-13 div.sk-serial {display: flex;flex-direction: column;align-items: center;background-color: white;padding-right: 0.2em;padding-left: 0.2em;position: relative;}#sk-container-id-13 div.sk-item {position: relative;z-index: 1;}#sk-container-id-13 div.sk-parallel {display: flex;align-items: stretch;justify-content: center;background-color: white;position: relative;}#sk-container-id-13 div.sk-item::before, #sk-container-id-13 div.sk-parallel-item::before {content: \"\";position: absolute;border-left: 1px solid gray;box-sizing: border-box;top: 0;bottom: 0;left: 50%;z-index: -1;}#sk-container-id-13 div.sk-parallel-item {display: flex;flex-direction: column;z-index: 1;position: relative;background-color: white;}#sk-container-id-13 div.sk-parallel-item:first-child::after {align-self: flex-end;width: 50%;}#sk-container-id-13 div.sk-parallel-item:last-child::after {align-self: flex-start;width: 50%;}#sk-container-id-13 div.sk-parallel-item:only-child::after {width: 0;}#sk-container-id-13 div.sk-dashed-wrapped {border: 1px dashed gray;margin: 0 0.4em 0.5em 0.4em;box-sizing: border-box;padding-bottom: 0.4em;background-color: white;}#sk-container-id-13 div.sk-label label {font-family: monospace;font-weight: bold;display: inline-block;line-height: 1.2em;}#sk-container-id-13 div.sk-label-container {text-align: center;}#sk-container-id-13 div.sk-container {/* jupyter's `normalize.less` sets `[hidden] { display: none; }` but bootstrap.min.css set `[hidden] { display: none !important; }` so we also need the `!important` here to be able to override the default hidden behavior on the sphinx rendered scikit-learn.org. See: https://github.com/scikit-learn/scikit-learn/issues/21755 */display: inline-block !important;position: relative;}#sk-container-id-13 div.sk-text-repr-fallback {display: none;}</style><div id=\"sk-container-id-13\" class=\"sk-top-container\"><div class=\"sk-text-repr-fallback\"><pre>RandomForestClassifier()</pre><b>In a Jupyter environment, please rerun this cell to show the HTML representation or trust the notebook. <br />On GitHub, the HTML representation is unable to render, please try loading this page with nbviewer.org.</b></div><div class=\"sk-container\" hidden><div class=\"sk-item\"><div class=\"sk-estimator sk-toggleable\"><input class=\"sk-toggleable__control sk-hidden--visually\" id=\"sk-estimator-id-13\" type=\"checkbox\" checked><label for=\"sk-estimator-id-13\" class=\"sk-toggleable__label sk-toggleable__label-arrow\">RandomForestClassifier</label><div class=\"sk-toggleable__content\"><pre>RandomForestClassifier()</pre></div></div></div></div></div>"
      ],
      "text/plain": [
       "RandomForestClassifier()"
      ]
     },
     "execution_count": 217,
     "metadata": {},
     "output_type": "execute_result"
    }
   ],
   "source": [
    "model_new5000_fs = RandomForestClassifier()\n",
    "model_new5000_fs.fit(X_train_new5000_fs, y_train_new5000_fs)"
   ]
  },
  {
   "cell_type": "code",
   "execution_count": 218,
   "id": "a70d270e",
   "metadata": {},
   "outputs": [
    {
     "name": "stdout",
     "output_type": "stream",
     "text": [
      "Accuracy: 0.9882266372332598\n"
     ]
    }
   ],
   "source": [
    "y_pred_new5000_fs = model_new5000_fs.predict(X_test_new5000_fs)\n",
    "accuracy_new5000_fs = accuracy_score(y_test_new5000_fs, y_pred_new5000_fs)\n",
    "print(\"Accuracy:\", accuracy_new5000_fs)"
   ]
  },
  {
   "cell_type": "code",
   "execution_count": 219,
   "id": "47db6f06",
   "metadata": {},
   "outputs": [],
   "source": [
    "# Assuming you have the predicted labels (y_pred) and actual labels (y_test)\n",
    "cm_new5000_fs = confusion_matrix(y_test_new5000_fs, y_pred_new5000_fs)\n",
    "\n",
    "#print(cm_new5000_featuresselection)"
   ]
  },
  {
   "cell_type": "code",
   "execution_count": 220,
   "id": "ef6289b8",
   "metadata": {
    "scrolled": true
   },
   "outputs": [
    {
     "data": {
      "image/png": "[encoded data removed]",
      "text/plain": [
       "<Figure size 640x480 with 2 Axes>"
      ]
     },
     "metadata": {},
     "output_type": "display_data"
    }
   ],
   "source": [
    "# Define the class labels\n",
    "class_labels_new5000_fs = np.sort(merged_df['Interaction'].unique())\n",
    "\n",
    "# Create the confusion matrix\n",
    "cm_new5000_fs = np.array(cm_new5000_fs)\n",
    "\n",
    "# Create a figure and axis\n",
    "fig, ax = plt.subplots()\n",
    "im = ax.imshow(cm_new5000_fs, cmap='Blues')\n",
    "\n",
    "# Set axis labels\n",
    "ax.set_xticks(np.arange(len(class_labels_new5000_fs)))\n",
    "ax.set_yticks(np.arange(len(class_labels_new5000_fs)))\n",
    "ax.set_xticklabels(class_labels_new5000_fs, rotation=45)\n",
    "ax.set_yticklabels(class_labels_new5000_fs)\n",
    "\n",
    "\n",
    "# Add labels to each cell\n",
    "for i in range(len(class_labels_new5000_fs)):\n",
    "    for j in range(len(class_labels_new5000_fs)):\n",
    "        text = ax.text(j, i, cm_new5000_fs[i, j], ha='center', va='center', color='orange')\n",
    "\n",
    "# Add colorbar\n",
    "cbar = ax.figure.colorbar(im, ax=ax)\n",
    "\n",
    "# Set title and labels\n",
    "ax.set_title('Confusion Matrix')\n",
    "ax.set_xlabel('Predicted Label')\n",
    "ax.set_ylabel('True Label')\n",
    "\n",
    "# Show the plot\n",
    "plt.show()"
   ]
  },
  {
   "cell_type": "markdown",
   "id": "35d9af02",
   "metadata": {},
   "source": [
    "## Now I want to test the independent data set"
   ]
  },
  {
   "cell_type": "code",
   "execution_count": 221,
   "id": "2d8b7ff4",
   "metadata": {},
   "outputs": [
    {
     "name": "stderr",
     "output_type": "stream",
     "text": [
      "C:\\Users\\raulo\\AppData\\Local\\Temp\\ipykernel_21404\\1365181221.py:1: DtypeWarning: Columns (0,1,2,3,4,5,6,7,8,9,10,11,12,13,14,15,16,17,18,19,20,21,22,23,24,25,26,27,28,29,30,31,32,33,34,35,36,37,38,39,40,41,42) have mixed types. Specify dtype option on import or set low_memory=False.\n",
      "  df_ind = pd.read_csv(r\"C:\\Users\\raulo\\Desktop\\LD10(T17)NR3_re-encDLC_dlcrnetms5_LD_YelFeb10shuffle1_75000_el_filtered.csv\", header = 2)\n"
     ]
    }
   ],
   "source": [
    "df_ind = pd.read_csv(r\"C:\\Users\\raulo\\Desktop\\LD10(T17)NR3_re-encDLC_dlcrnetms5_LD_YelFeb10shuffle1_75000_el_filtered.csv\", header = 2)\n",
    "df_ind = df_ind.drop(0)\n",
    "df_ind.index = df_ind.index -1    #Set the index rigth\n",
    "df_ind = df_ind.drop(columns='bodyparts')\n",
    "df_ind = df_ind.iloc[:, columns]\n",
    "\n",
    "df_label_ind = pd.read_csv(r\"C:\\Users\\raulo\\Desktop\\LD10(T17)NR3_re-enc_labels.csv\")\n",
    "df_label_ind = df_label_ind.drop(columns='Unnamed: 0')\n",
    "#print(file_path)\n",
    "\n",
    "# Convert DataFrame into a single-column DataFrame\n",
    "single_column_df_ind = pd.DataFrame(df_label_ind.idxmax(axis=1), columns=['Interaction'])"
   ]
  },
  {
   "cell_type": "code",
   "execution_count": 222,
   "id": "790cb9f3",
   "metadata": {},
   "outputs": [],
   "source": [
    "labeled_df_ind = pd.concat([single_column_df_ind, df_ind], axis=1)\n",
    "\n",
    "merged_df_ind = labeled_df_ind\n",
    "\n",
    "X_ind = merged_df_ind.iloc[:, 1:43]  # Select columns 1 to 42 as features\n",
    "y_ind = merged_df_ind.iloc[:, 0]     # Select column 0 as the target variable\n",
    "\n",
    "X_ind_imputed = imputer.fit_transform(X_ind)\n",
    "\n",
    "X_ind_scaled = power_transformer.fit_transform(X_ind_imputed)"
   ]
  },
  {
   "cell_type": "code",
   "execution_count": 223,
   "id": "672abe42",
   "metadata": {},
   "outputs": [
    {
     "name": "stdout",
     "output_type": "stream",
     "text": [
      "Accuracy: 0.9826769807782466\n"
     ]
    }
   ],
   "source": [
    "# Prepare the dataset if needed (e.g., perform preprocessing steps)\n",
    "\n",
    "# Make predictions using the random forest model\n",
    "y_pred = model_new5000_fs.predict(X_ind_scaled)\n",
    "\n",
    "# If you have the ground truth labels, compare them with the predicted labels\n",
    "y_true = y_ind  # Replace \"target_variable\" with the actual column name\n",
    "\n",
    "# Calculate accuracy\n",
    "accuracy = accuracy_score(y_true, y_pred)\n",
    "\n",
    "# Print the accuracy\n",
    "print(\"Accuracy:\", accuracy)"
   ]
  },
  {
   "cell_type": "code",
   "execution_count": 224,
   "id": "42a7a8e0",
   "metadata": {
    "scrolled": false
   },
   "outputs": [
    {
     "data": {
      "text/plain": [
       "array([[    0,     0,     0,    16],\n",
       "       [    0,     0,     0,     0],\n",
       "       [    0,     0,     0,     0],\n",
       "       [  712,    10,     1, 41921]], dtype=int64)"
      ]
     },
     "execution_count": 224,
     "metadata": {},
     "output_type": "execute_result"
    }
   ],
   "source": [
    "cm = confusion_matrix(y_true, y_pred)\n",
    "cm"
   ]
  },
  {
   "cell_type": "markdown",
   "id": "fab23550",
   "metadata": {},
   "source": [
    "## StandardScaler"
   ]
  },
  {
   "cell_type": "code",
   "execution_count": 225,
   "id": "560205be",
   "metadata": {},
   "outputs": [],
   "source": [
    "columns = [1,2,4,5,7,8,10,11,13,14,16,17,19,20,22,23,25,26,28,29,31,32,34,35,37,38,40,41]"
   ]
  },
  {
   "cell_type": "code",
   "execution_count": 226,
   "id": "d66e9518",
   "metadata": {},
   "outputs": [],
   "source": [
    "X_new5000_fs = undersampled_df.iloc[:, columns]  # Select columns 1 to 42 as features\n",
    "y_new5000_fs = undersampled_df.iloc[:, 0]     # Select column 0 as the target variable"
   ]
  },
  {
   "cell_type": "code",
   "execution_count": 227,
   "id": "535ededa",
   "metadata": {},
   "outputs": [],
   "source": [
    "imputer = SimpleImputer(strategy='mean')\n",
    "\n",
    "X_imputed_new5000_fs = imputer.fit_transform(X_new5000_fs)"
   ]
  },
  {
   "cell_type": "code",
   "execution_count": 228,
   "id": "486ff571",
   "metadata": {},
   "outputs": [],
   "source": [
    "# Create an instance of PowerTransformer\n",
    "power_transformer = StandardScaler()\n",
    "\n",
    "# Fit and transform the data\n",
    "X_scaled_new5000_fs = power_transformer.fit_transform(X_imputed_new5000_fs)"
   ]
  },
  {
   "cell_type": "code",
   "execution_count": 229,
   "id": "7387349e",
   "metadata": {},
   "outputs": [],
   "source": [
    "X_train_new5000_fs, X_test_new5000_fs, y_train_new5000_fs, y_test_new5000_fs = train_test_split(X_scaled_new5000_fs, y_new5000_fs, test_size=0.2, random_state=1999)"
   ]
  },
  {
   "cell_type": "code",
   "execution_count": 230,
   "id": "a4b7c0fb",
   "metadata": {
    "scrolled": false
   },
   "outputs": [
    {
     "data": {
      "text/html": [
       "<style>#sk-container-id-14 {color: black;background-color: white;}#sk-container-id-14 pre{padding: 0;}#sk-container-id-14 div.sk-toggleable {background-color: white;}#sk-container-id-14 label.sk-toggleable__label {cursor: pointer;display: block;width: 100%;margin-bottom: 0;padding: 0.3em;box-sizing: border-box;text-align: center;}#sk-container-id-14 label.sk-toggleable__label-arrow:before {content: \"▸\";float: left;margin-right: 0.25em;color: #696969;}#sk-container-id-14 label.sk-toggleable__label-arrow:hover:before {color: black;}#sk-container-id-14 div.sk-estimator:hover label.sk-toggleable__label-arrow:before {color: black;}#sk-container-id-14 div.sk-toggleable__content {max-height: 0;max-width: 0;overflow: hidden;text-align: left;background-color: #f0f8ff;}#sk-container-id-14 div.sk-toggleable__content pre {margin: 0.2em;color: black;border-radius: 0.25em;background-color: #f0f8ff;}#sk-container-id-14 input.sk-toggleable__control:checked~div.sk-toggleable__content {max-height: 200px;max-width: 100%;overflow: auto;}#sk-container-id-14 input.sk-toggleable__control:checked~label.sk-toggleable__label-arrow:before {content: \"▾\";}#sk-container-id-14 div.sk-estimator input.sk-toggleable__control:checked~label.sk-toggleable__label {background-color: #d4ebff;}#sk-container-id-14 div.sk-label input.sk-toggleable__control:checked~label.sk-toggleable__label {background-color: #d4ebff;}#sk-container-id-14 input.sk-hidden--visually {border: 0;clip: rect(1px 1px 1px 1px);clip: rect(1px, 1px, 1px, 1px);height: 1px;margin: -1px;overflow: hidden;padding: 0;position: absolute;width: 1px;}#sk-container-id-14 div.sk-estimator {font-family: monospace;background-color: #f0f8ff;border: 1px dotted black;border-radius: 0.25em;box-sizing: border-box;margin-bottom: 0.5em;}#sk-container-id-14 div.sk-estimator:hover {background-color: #d4ebff;}#sk-container-id-14 div.sk-parallel-item::after {content: \"\";width: 100%;border-bottom: 1px solid gray;flex-grow: 1;}#sk-container-id-14 div.sk-label:hover label.sk-toggleable__label {background-color: #d4ebff;}#sk-container-id-14 div.sk-serial::before {content: \"\";position: absolute;border-left: 1px solid gray;box-sizing: border-box;top: 0;bottom: 0;left: 50%;z-index: 0;}#sk-container-id-14 div.sk-serial {display: flex;flex-direction: column;align-items: center;background-color: white;padding-right: 0.2em;padding-left: 0.2em;position: relative;}#sk-container-id-14 div.sk-item {position: relative;z-index: 1;}#sk-container-id-14 div.sk-parallel {display: flex;align-items: stretch;justify-content: center;background-color: white;position: relative;}#sk-container-id-14 div.sk-item::before, #sk-container-id-14 div.sk-parallel-item::before {content: \"\";position: absolute;border-left: 1px solid gray;box-sizing: border-box;top: 0;bottom: 0;left: 50%;z-index: -1;}#sk-container-id-14 div.sk-parallel-item {display: flex;flex-direction: column;z-index: 1;position: relative;background-color: white;}#sk-container-id-14 div.sk-parallel-item:first-child::after {align-self: flex-end;width: 50%;}#sk-container-id-14 div.sk-parallel-item:last-child::after {align-self: flex-start;width: 50%;}#sk-container-id-14 div.sk-parallel-item:only-child::after {width: 0;}#sk-container-id-14 div.sk-dashed-wrapped {border: 1px dashed gray;margin: 0 0.4em 0.5em 0.4em;box-sizing: border-box;padding-bottom: 0.4em;background-color: white;}#sk-container-id-14 div.sk-label label {font-family: monospace;font-weight: bold;display: inline-block;line-height: 1.2em;}#sk-container-id-14 div.sk-label-container {text-align: center;}#sk-container-id-14 div.sk-container {/* jupyter's `normalize.less` sets `[hidden] { display: none; }` but bootstrap.min.css set `[hidden] { display: none !important; }` so we also need the `!important` here to be able to override the default hidden behavior on the sphinx rendered scikit-learn.org. See: https://github.com/scikit-learn/scikit-learn/issues/21755 */display: inline-block !important;position: relative;}#sk-container-id-14 div.sk-text-repr-fallback {display: none;}</style><div id=\"sk-container-id-14\" class=\"sk-top-container\"><div class=\"sk-text-repr-fallback\"><pre>RandomForestClassifier()</pre><b>In a Jupyter environment, please rerun this cell to show the HTML representation or trust the notebook. <br />On GitHub, the HTML representation is unable to render, please try loading this page with nbviewer.org.</b></div><div class=\"sk-container\" hidden><div class=\"sk-item\"><div class=\"sk-estimator sk-toggleable\"><input class=\"sk-toggleable__control sk-hidden--visually\" id=\"sk-estimator-id-14\" type=\"checkbox\" checked><label for=\"sk-estimator-id-14\" class=\"sk-toggleable__label sk-toggleable__label-arrow\">RandomForestClassifier</label><div class=\"sk-toggleable__content\"><pre>RandomForestClassifier()</pre></div></div></div></div></div>"
      ],
      "text/plain": [
       "RandomForestClassifier()"
      ]
     },
     "execution_count": 230,
     "metadata": {},
     "output_type": "execute_result"
    }
   ],
   "source": [
    "model_new5000_fs = RandomForestClassifier()\n",
    "model_new5000_fs.fit(X_train_new5000_fs, y_train_new5000_fs)"
   ]
  },
  {
   "cell_type": "code",
   "execution_count": 231,
   "id": "4340a254",
   "metadata": {},
   "outputs": [
    {
     "name": "stdout",
     "output_type": "stream",
     "text": [
      "Accuracy: 0.9885945548197204\n"
     ]
    }
   ],
   "source": [
    "y_pred_new5000_fs = model_new5000_fs.predict(X_test_new5000_fs)\n",
    "accuracy_new5000_fs = accuracy_score(y_test_new5000_fs, y_pred_new5000_fs)\n",
    "print(\"Accuracy:\", accuracy_new5000_fs)"
   ]
  },
  {
   "cell_type": "code",
   "execution_count": 232,
   "id": "50723688",
   "metadata": {},
   "outputs": [],
   "source": [
    "# Assuming you have the predicted labels (y_pred) and actual labels (y_test)\n",
    "cm_new5000_fs = confusion_matrix(y_test_new5000_fs, y_pred_new5000_fs)\n",
    "\n",
    "#print(cm_new5000_featuresselection)"
   ]
  },
  {
   "cell_type": "code",
   "execution_count": 233,
   "id": "9b44fd45",
   "metadata": {
    "scrolled": true
   },
   "outputs": [
    {
     "data": {
      "image/png": "[encoded data removed]",
      "text/plain": [
       "<Figure size 640x480 with 2 Axes>"
      ]
     },
     "metadata": {},
     "output_type": "display_data"
    }
   ],
   "source": [
    "# Define the class labels\n",
    "class_labels_new5000_fs = np.sort(merged_df['Interaction'].unique())\n",
    "\n",
    "# Create the confusion matrix\n",
    "cm_new5000_fs = np.array(cm_new5000_fs)\n",
    "\n",
    "# Create a figure and axis\n",
    "fig, ax = plt.subplots()\n",
    "im = ax.imshow(cm_new5000_fs, cmap='Blues')\n",
    "\n",
    "# Set axis labels\n",
    "ax.set_xticks(np.arange(len(class_labels_new5000_fs)))\n",
    "ax.set_yticks(np.arange(len(class_labels_new5000_fs)))\n",
    "ax.set_xticklabels(class_labels_new5000_fs, rotation=45)\n",
    "ax.set_yticklabels(class_labels_new5000_fs)\n",
    "\n",
    "\n",
    "# Add labels to each cell\n",
    "for i in range(len(class_labels_new5000_fs)):\n",
    "    for j in range(len(class_labels_new5000_fs)):\n",
    "        text = ax.text(j, i, cm_new5000_fs[i, j], ha='center', va='center', color='orange')\n",
    "\n",
    "# Add colorbar\n",
    "cbar = ax.figure.colorbar(im, ax=ax)\n",
    "\n",
    "# Set title and labels\n",
    "ax.set_title('Confusion Matrix')\n",
    "ax.set_xlabel('Predicted Label')\n",
    "ax.set_ylabel('True Label')\n",
    "\n",
    "# Show the plot\n",
    "plt.show()"
   ]
  },
  {
   "cell_type": "markdown",
   "id": "58e6437d",
   "metadata": {},
   "source": [
    "## Now I want to test the independent data set"
   ]
  },
  {
   "cell_type": "code",
   "execution_count": 234,
   "id": "d6fb6b93",
   "metadata": {},
   "outputs": [
    {
     "name": "stderr",
     "output_type": "stream",
     "text": [
      "C:\\Users\\raulo\\AppData\\Local\\Temp\\ipykernel_21404\\1365181221.py:1: DtypeWarning: Columns (0,1,2,3,4,5,6,7,8,9,10,11,12,13,14,15,16,17,18,19,20,21,22,23,24,25,26,27,28,29,30,31,32,33,34,35,36,37,38,39,40,41,42) have mixed types. Specify dtype option on import or set low_memory=False.\n",
      "  df_ind = pd.read_csv(r\"C:\\Users\\raulo\\Desktop\\LD10(T17)NR3_re-encDLC_dlcrnetms5_LD_YelFeb10shuffle1_75000_el_filtered.csv\", header = 2)\n"
     ]
    }
   ],
   "source": [
    "df_ind = pd.read_csv(r\"C:\\Users\\raulo\\Desktop\\LD10(T17)NR3_re-encDLC_dlcrnetms5_LD_YelFeb10shuffle1_75000_el_filtered.csv\", header = 2)\n",
    "df_ind = df_ind.drop(0)\n",
    "df_ind.index = df_ind.index -1    #Set the index rigth\n",
    "df_ind = df_ind.drop(columns='bodyparts')\n",
    "df_ind = df_ind.iloc[:, columns]\n",
    "\n",
    "df_label_ind = pd.read_csv(r\"C:\\Users\\raulo\\Desktop\\LD10(T17)NR3_re-enc_labels.csv\")\n",
    "df_label_ind = df_label_ind.drop(columns='Unnamed: 0')\n",
    "#print(file_path)\n",
    "\n",
    "# Convert DataFrame into a single-column DataFrame\n",
    "single_column_df_ind = pd.DataFrame(df_label_ind.idxmax(axis=1), columns=['Interaction'])"
   ]
  },
  {
   "cell_type": "code",
   "execution_count": 235,
   "id": "e1e7ef13",
   "metadata": {},
   "outputs": [],
   "source": [
    "labeled_df_ind = pd.concat([single_column_df_ind, df_ind], axis=1)\n",
    "\n",
    "merged_df_ind = labeled_df_ind\n",
    "\n",
    "X_ind = merged_df_ind.iloc[:, 1:43]  # Select columns 1 to 42 as features\n",
    "y_ind = merged_df_ind.iloc[:, 0]     # Select column 0 as the target variable\n",
    "\n",
    "X_ind_imputed = imputer.fit_transform(X_ind)\n",
    "\n",
    "X_ind_scaled = power_transformer.fit_transform(X_ind_imputed)"
   ]
  },
  {
   "cell_type": "code",
   "execution_count": 236,
   "id": "537fdaad",
   "metadata": {},
   "outputs": [
    {
     "name": "stdout",
     "output_type": "stream",
     "text": [
      "Accuracy: 0.9982419127988749\n"
     ]
    }
   ],
   "source": [
    "# Prepare the dataset if needed (e.g., perform preprocessing steps)\n",
    "\n",
    "# Make predictions using the random forest model\n",
    "y_pred = model_new5000_fs.predict(X_ind_scaled)\n",
    "\n",
    "# If you have the ground truth labels, compare them with the predicted labels\n",
    "y_true = y_ind  # Replace \"target_variable\" with the actual column name\n",
    "\n",
    "# Calculate accuracy\n",
    "accuracy = accuracy_score(y_true, y_pred)\n",
    "\n",
    "# Print the accuracy\n",
    "print(\"Accuracy:\", accuracy)"
   ]
  },
  {
   "cell_type": "code",
   "execution_count": 237,
   "id": "e496edca",
   "metadata": {
    "scrolled": true
   },
   "outputs": [
    {
     "data": {
      "text/plain": [
       "array([[    0,     0,     0,     0,     0],\n",
       "       [    0,     0,     0,     0,    16],\n",
       "       [    0,     0,     0,     0,     0],\n",
       "       [    0,     0,     0,     0,     0],\n",
       "       [    7,     0,    51,     1, 42585]], dtype=int64)"
      ]
     },
     "execution_count": 237,
     "metadata": {},
     "output_type": "execute_result"
    }
   ],
   "source": [
    "cm = confusion_matrix(y_true, y_pred)\n",
    "cm"
   ]
  },
  {
   "cell_type": "markdown",
   "id": "ac43ceba",
   "metadata": {},
   "source": [
    "## MinMaxScaler"
   ]
  },
  {
   "cell_type": "code",
   "execution_count": 238,
   "id": "97f98ea5",
   "metadata": {},
   "outputs": [],
   "source": [
    "columns = [1,2,4,5,7,8,10,11,13,14,16,17,19,20,22,23,25,26,28,29,31,32,34,35,37,38,40,41]"
   ]
  },
  {
   "cell_type": "code",
   "execution_count": 239,
   "id": "92d52f76",
   "metadata": {},
   "outputs": [],
   "source": [
    "X_new5000_fs = undersampled_df.iloc[:, columns]  # Select columns 1 to 42 as features\n",
    "y_new5000_fs = undersampled_df.iloc[:, 0]     # Select column 0 as the target variable"
   ]
  },
  {
   "cell_type": "code",
   "execution_count": 240,
   "id": "04438f2c",
   "metadata": {},
   "outputs": [],
   "source": [
    "imputer = SimpleImputer(strategy='mean')\n",
    "\n",
    "X_imputed_new5000_fs = imputer.fit_transform(X_new5000_fs)"
   ]
  },
  {
   "cell_type": "code",
   "execution_count": 241,
   "id": "15d0ee35",
   "metadata": {},
   "outputs": [],
   "source": [
    "# Create an instance of PowerTransformer\n",
    "power_transformer = MinMaxScaler()\n",
    "\n",
    "# Fit and transform the data\n",
    "X_scaled_new5000_fs = power_transformer.fit_transform(X_imputed_new5000_fs)"
   ]
  },
  {
   "cell_type": "code",
   "execution_count": 242,
   "id": "9e85824f",
   "metadata": {},
   "outputs": [],
   "source": [
    "X_train_new5000_fs, X_test_new5000_fs, y_train_new5000_fs, y_test_new5000_fs = train_test_split(X_scaled_new5000_fs, y_new5000_fs, test_size=0.2, random_state=1999)"
   ]
  },
  {
   "cell_type": "code",
   "execution_count": 243,
   "id": "ea95e4a5",
   "metadata": {
    "scrolled": false
   },
   "outputs": [
    {
     "data": {
      "text/html": [
       "<style>#sk-container-id-15 {color: black;background-color: white;}#sk-container-id-15 pre{padding: 0;}#sk-container-id-15 div.sk-toggleable {background-color: white;}#sk-container-id-15 label.sk-toggleable__label {cursor: pointer;display: block;width: 100%;margin-bottom: 0;padding: 0.3em;box-sizing: border-box;text-align: center;}#sk-container-id-15 label.sk-toggleable__label-arrow:before {content: \"▸\";float: left;margin-right: 0.25em;color: #696969;}#sk-container-id-15 label.sk-toggleable__label-arrow:hover:before {color: black;}#sk-container-id-15 div.sk-estimator:hover label.sk-toggleable__label-arrow:before {color: black;}#sk-container-id-15 div.sk-toggleable__content {max-height: 0;max-width: 0;overflow: hidden;text-align: left;background-color: #f0f8ff;}#sk-container-id-15 div.sk-toggleable__content pre {margin: 0.2em;color: black;border-radius: 0.25em;background-color: #f0f8ff;}#sk-container-id-15 input.sk-toggleable__control:checked~div.sk-toggleable__content {max-height: 200px;max-width: 100%;overflow: auto;}#sk-container-id-15 input.sk-toggleable__control:checked~label.sk-toggleable__label-arrow:before {content: \"▾\";}#sk-container-id-15 div.sk-estimator input.sk-toggleable__control:checked~label.sk-toggleable__label {background-color: #d4ebff;}#sk-container-id-15 div.sk-label input.sk-toggleable__control:checked~label.sk-toggleable__label {background-color: #d4ebff;}#sk-container-id-15 input.sk-hidden--visually {border: 0;clip: rect(1px 1px 1px 1px);clip: rect(1px, 1px, 1px, 1px);height: 1px;margin: -1px;overflow: hidden;padding: 0;position: absolute;width: 1px;}#sk-container-id-15 div.sk-estimator {font-family: monospace;background-color: #f0f8ff;border: 1px dotted black;border-radius: 0.25em;box-sizing: border-box;margin-bottom: 0.5em;}#sk-container-id-15 div.sk-estimator:hover {background-color: #d4ebff;}#sk-container-id-15 div.sk-parallel-item::after {content: \"\";width: 100%;border-bottom: 1px solid gray;flex-grow: 1;}#sk-container-id-15 div.sk-label:hover label.sk-toggleable__label {background-color: #d4ebff;}#sk-container-id-15 div.sk-serial::before {content: \"\";position: absolute;border-left: 1px solid gray;box-sizing: border-box;top: 0;bottom: 0;left: 50%;z-index: 0;}#sk-container-id-15 div.sk-serial {display: flex;flex-direction: column;align-items: center;background-color: white;padding-right: 0.2em;padding-left: 0.2em;position: relative;}#sk-container-id-15 div.sk-item {position: relative;z-index: 1;}#sk-container-id-15 div.sk-parallel {display: flex;align-items: stretch;justify-content: center;background-color: white;position: relative;}#sk-container-id-15 div.sk-item::before, #sk-container-id-15 div.sk-parallel-item::before {content: \"\";position: absolute;border-left: 1px solid gray;box-sizing: border-box;top: 0;bottom: 0;left: 50%;z-index: -1;}#sk-container-id-15 div.sk-parallel-item {display: flex;flex-direction: column;z-index: 1;position: relative;background-color: white;}#sk-container-id-15 div.sk-parallel-item:first-child::after {align-self: flex-end;width: 50%;}#sk-container-id-15 div.sk-parallel-item:last-child::after {align-self: flex-start;width: 50%;}#sk-container-id-15 div.sk-parallel-item:only-child::after {width: 0;}#sk-container-id-15 div.sk-dashed-wrapped {border: 1px dashed gray;margin: 0 0.4em 0.5em 0.4em;box-sizing: border-box;padding-bottom: 0.4em;background-color: white;}#sk-container-id-15 div.sk-label label {font-family: monospace;font-weight: bold;display: inline-block;line-height: 1.2em;}#sk-container-id-15 div.sk-label-container {text-align: center;}#sk-container-id-15 div.sk-container {/* jupyter's `normalize.less` sets `[hidden] { display: none; }` but bootstrap.min.css set `[hidden] { display: none !important; }` so we also need the `!important` here to be able to override the default hidden behavior on the sphinx rendered scikit-learn.org. See: https://github.com/scikit-learn/scikit-learn/issues/21755 */display: inline-block !important;position: relative;}#sk-container-id-15 div.sk-text-repr-fallback {display: none;}</style><div id=\"sk-container-id-15\" class=\"sk-top-container\"><div class=\"sk-text-repr-fallback\"><pre>RandomForestClassifier()</pre><b>In a Jupyter environment, please rerun this cell to show the HTML representation or trust the notebook. <br />On GitHub, the HTML representation is unable to render, please try loading this page with nbviewer.org.</b></div><div class=\"sk-container\" hidden><div class=\"sk-item\"><div class=\"sk-estimator sk-toggleable\"><input class=\"sk-toggleable__control sk-hidden--visually\" id=\"sk-estimator-id-15\" type=\"checkbox\" checked><label for=\"sk-estimator-id-15\" class=\"sk-toggleable__label sk-toggleable__label-arrow\">RandomForestClassifier</label><div class=\"sk-toggleable__content\"><pre>RandomForestClassifier()</pre></div></div></div></div></div>"
      ],
      "text/plain": [
       "RandomForestClassifier()"
      ]
     },
     "execution_count": 243,
     "metadata": {},
     "output_type": "execute_result"
    }
   ],
   "source": [
    "model_new5000_fs = RandomForestClassifier()\n",
    "model_new5000_fs.fit(X_train_new5000_fs, y_train_new5000_fs)"
   ]
  },
  {
   "cell_type": "code",
   "execution_count": 244,
   "id": "3e89a6d3",
   "metadata": {},
   "outputs": [
    {
     "name": "stdout",
     "output_type": "stream",
     "text": [
      "Accuracy: 0.9896983075791023\n"
     ]
    }
   ],
   "source": [
    "y_pred_new5000_fs = model_new5000_fs.predict(X_test_new5000_fs)\n",
    "accuracy_new5000_fs = accuracy_score(y_test_new5000_fs, y_pred_new5000_fs)\n",
    "print(\"Accuracy:\", accuracy_new5000_fs)"
   ]
  },
  {
   "cell_type": "code",
   "execution_count": 245,
   "id": "815748d5",
   "metadata": {},
   "outputs": [],
   "source": [
    "# Assuming you have the predicted labels (y_pred) and actual labels (y_test)\n",
    "cm_new5000_fs = confusion_matrix(y_test_new5000_fs, y_pred_new5000_fs)\n",
    "\n",
    "#print(cm_new5000_featuresselection)"
   ]
  },
  {
   "cell_type": "code",
   "execution_count": 246,
   "id": "b2c3feb5",
   "metadata": {
    "scrolled": true
   },
   "outputs": [
    {
     "data": {
      "image/png": "[encoded data removed]",
      "text/plain": [
       "<Figure size 640x480 with 2 Axes>"
      ]
     },
     "metadata": {},
     "output_type": "display_data"
    }
   ],
   "source": [
    "# Define the class labels\n",
    "class_labels_new5000_fs = np.sort(merged_df['Interaction'].unique())\n",
    "\n",
    "# Create the confusion matrix\n",
    "cm_new5000_fs = np.array(cm_new5000_fs)\n",
    "\n",
    "# Create a figure and axis\n",
    "fig, ax = plt.subplots()\n",
    "im = ax.imshow(cm_new5000_fs, cmap='Blues')\n",
    "\n",
    "# Set axis labels\n",
    "ax.set_xticks(np.arange(len(class_labels_new5000_fs)))\n",
    "ax.set_yticks(np.arange(len(class_labels_new5000_fs)))\n",
    "ax.set_xticklabels(class_labels_new5000_fs, rotation=45)\n",
    "ax.set_yticklabels(class_labels_new5000_fs)\n",
    "\n",
    "\n",
    "# Add labels to each cell\n",
    "for i in range(len(class_labels_new5000_fs)):\n",
    "    for j in range(len(class_labels_new5000_fs)):\n",
    "        text = ax.text(j, i, cm_new5000_fs[i, j], ha='center', va='center', color='orange')\n",
    "\n",
    "# Add colorbar\n",
    "cbar = ax.figure.colorbar(im, ax=ax)\n",
    "\n",
    "# Set title and labels\n",
    "ax.set_title('Confusion Matrix')\n",
    "ax.set_xlabel('Predicted Label')\n",
    "ax.set_ylabel('True Label')\n",
    "\n",
    "# Show the plot\n",
    "plt.show()"
   ]
  },
  {
   "cell_type": "markdown",
   "id": "ae7eb98d",
   "metadata": {},
   "source": [
    "## Now I want to test the independent data set"
   ]
  },
  {
   "cell_type": "code",
   "execution_count": 247,
   "id": "dacf832c",
   "metadata": {},
   "outputs": [
    {
     "name": "stderr",
     "output_type": "stream",
     "text": [
      "C:\\Users\\raulo\\AppData\\Local\\Temp\\ipykernel_21404\\1365181221.py:1: DtypeWarning: Columns (0,1,2,3,4,5,6,7,8,9,10,11,12,13,14,15,16,17,18,19,20,21,22,23,24,25,26,27,28,29,30,31,32,33,34,35,36,37,38,39,40,41,42) have mixed types. Specify dtype option on import or set low_memory=False.\n",
      "  df_ind = pd.read_csv(r\"C:\\Users\\raulo\\Desktop\\LD10(T17)NR3_re-encDLC_dlcrnetms5_LD_YelFeb10shuffle1_75000_el_filtered.csv\", header = 2)\n"
     ]
    }
   ],
   "source": [
    "df_ind = pd.read_csv(r\"C:\\Users\\raulo\\Desktop\\LD10(T17)NR3_re-encDLC_dlcrnetms5_LD_YelFeb10shuffle1_75000_el_filtered.csv\", header = 2)\n",
    "df_ind = df_ind.drop(0)\n",
    "df_ind.index = df_ind.index -1    #Set the index rigth\n",
    "df_ind = df_ind.drop(columns='bodyparts')\n",
    "df_ind = df_ind.iloc[:, columns]\n",
    "\n",
    "df_label_ind = pd.read_csv(r\"C:\\Users\\raulo\\Desktop\\LD10(T17)NR3_re-enc_labels.csv\")\n",
    "df_label_ind = df_label_ind.drop(columns='Unnamed: 0')\n",
    "#print(file_path)\n",
    "\n",
    "# Convert DataFrame into a single-column DataFrame\n",
    "single_column_df_ind = pd.DataFrame(df_label_ind.idxmax(axis=1), columns=['Interaction'])"
   ]
  },
  {
   "cell_type": "code",
   "execution_count": 248,
   "id": "f0313b06",
   "metadata": {},
   "outputs": [],
   "source": [
    "labeled_df_ind = pd.concat([single_column_df_ind, df_ind], axis=1)\n",
    "\n",
    "merged_df_ind = labeled_df_ind\n",
    "\n",
    "X_ind = merged_df_ind.iloc[:, 1:43]  # Select columns 1 to 42 as features\n",
    "y_ind = merged_df_ind.iloc[:, 0]     # Select column 0 as the target variable\n",
    "\n",
    "X_ind_imputed = imputer.fit_transform(X_ind)\n",
    "\n",
    "X_ind_scaled = power_transformer.fit_transform(X_ind_imputed)"
   ]
  },
  {
   "cell_type": "code",
   "execution_count": 249,
   "id": "f5797582",
   "metadata": {},
   "outputs": [
    {
     "name": "stdout",
     "output_type": "stream",
     "text": [
      "Accuracy: 0.9996249413970933\n"
     ]
    }
   ],
   "source": [
    "# Prepare the dataset if needed (e.g., perform preprocessing steps)\n",
    "\n",
    "# Make predictions using the random forest model\n",
    "y_pred = model_new5000_fs.predict(X_ind_scaled)\n",
    "\n",
    "# If you have the ground truth labels, compare them with the predicted labels\n",
    "y_true = y_ind  # Replace \"target_variable\" with the actual column name\n",
    "\n",
    "# Calculate accuracy\n",
    "accuracy = accuracy_score(y_true, y_pred)\n",
    "\n",
    "# Print the accuracy\n",
    "print(\"Accuracy:\", accuracy)"
   ]
  },
  {
   "cell_type": "code",
   "execution_count": 250,
   "id": "eb28a52b",
   "metadata": {
    "scrolled": true
   },
   "outputs": [
    {
     "data": {
      "text/plain": [
       "array([[    0,    16],\n",
       "       [    0, 42644]], dtype=int64)"
      ]
     },
     "execution_count": 250,
     "metadata": {},
     "output_type": "execute_result"
    }
   ],
   "source": [
    "cm = confusion_matrix(y_true, y_pred)\n",
    "cm"
   ]
  },
  {
   "cell_type": "code",
   "execution_count": null,
   "id": "a6e6584b",
   "metadata": {},
   "outputs": [],
   "source": []
  }
 ],
 "metadata": {
  "kernelspec": {
   "display_name": "Python 3 (ipykernel)",
   "language": "python",
   "name": "python3"
  },
  "language_info": {
   "codemirror_mode": {
    "name": "ipython",
    "version": 3
   },
   "file_extension": ".py",
   "mimetype": "text/x-python",
   "name": "python",
   "nbconvert_exporter": "python",
   "pygments_lexer": "ipython3",
   "version": "3.10.9"
  }
 },
 "nbformat": 4,
 "nbformat_minor": 5
}
