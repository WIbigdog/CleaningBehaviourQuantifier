{
 "cells": [
  {
   "cell_type": "code",
   "execution_count": 1,
   "id": "59430a19",
   "metadata": {},
   "outputs": [],
   "source": [
    "import numpy as np\n",
    "import pandas as pd\n",
    "import os\n",
    "\n",
    "from sklearn.model_selection import train_test_split\n",
    "from sklearn.svm import SVC\n",
    "from sklearn.metrics import accuracy_score"
   ]
  },
  {
   "cell_type": "code",
   "execution_count": 2,
   "id": "cd793c6d",
   "metadata": {
    "collapsed": true
   },
   "outputs": [
    {
     "name": "stderr",
     "output_type": "stream",
     "text": [
      "C:\\Users\\raulo\\AppData\\Local\\Temp\\ipykernel_25436\\821610458.py:15: DtypeWarning: Columns (0,1,2,3,4,5,6,7,8,9,10,11,12,13,14,15,16,17,18,19,20,21,22,23,24,25,26,27,28,29,30,31,32,33,34,35,36,37,38,39,40,41,42) have mixed types. Specify dtype option on import or set low_memory=False.\n",
      "  df = pd.read_csv(file_path, header = 2)\n",
      "C:\\Users\\raulo\\AppData\\Local\\Temp\\ipykernel_25436\\821610458.py:15: DtypeWarning: Columns (0,1,2,3,4,5,6,7,8,9,10,11,12,13,14,15,16,17,18,19,20,21,22,23,24,25,26,27,28,29,30,31,32,33,34,35,36,37,38,39,40,41,42) have mixed types. Specify dtype option on import or set low_memory=False.\n",
      "  df = pd.read_csv(file_path, header = 2)\n",
      "C:\\Users\\raulo\\AppData\\Local\\Temp\\ipykernel_25436\\821610458.py:15: DtypeWarning: Columns (0,1,2,3,4,5,6,7,8,9,10,11,12,13,14,15,16,17,18,19,20,21,22,23,24,25,26,27,28,29,30,31,32,33,34,35,36,37,38,39,40,41,42) have mixed types. Specify dtype option on import or set low_memory=False.\n",
      "  df = pd.read_csv(file_path, header = 2)\n",
      "C:\\Users\\raulo\\AppData\\Local\\Temp\\ipykernel_25436\\821610458.py:15: DtypeWarning: Columns (0,1,2,3,4,5,6,7,8,9,10,11,12,13,14,15,16,17,18,19,20,21,22,23,24,25,26,27,28,29,30,31,32,33,34,35,36,37,38,39,40,41,42) have mixed types. Specify dtype option on import or set low_memory=False.\n",
      "  df = pd.read_csv(file_path, header = 2)\n",
      "C:\\Users\\raulo\\AppData\\Local\\Temp\\ipykernel_25436\\821610458.py:15: DtypeWarning: Columns (0,1,2,3,4,5,6,7,8,9,10,11,12,13,14,15,16,17,18,19,20,21,22,23,24,25,26,27,28,29,30,31,32,33,34,35,36,37,38,39,40,41,42) have mixed types. Specify dtype option on import or set low_memory=False.\n",
      "  df = pd.read_csv(file_path, header = 2)\n",
      "C:\\Users\\raulo\\AppData\\Local\\Temp\\ipykernel_25436\\821610458.py:15: DtypeWarning: Columns (0,1,2,3,4,5,6,7,8,9,10,11,12,13,14,15,16,17,18,19,20,21,22,23,24,25,26,27,28,29,30,31,32,33,34,35,36,37,38,39,40,41,42) have mixed types. Specify dtype option on import or set low_memory=False.\n",
      "  df = pd.read_csv(file_path, header = 2)\n",
      "C:\\Users\\raulo\\AppData\\Local\\Temp\\ipykernel_25436\\821610458.py:15: DtypeWarning: Columns (0,1,2,3,4,5,6,7,8,9,10,11,12,13,14,15,16,17,18,19,20,21,22,23,24,25,26,27,28,29,30,31,32,33,34,35,36,37,38,39,40,41,42) have mixed types. Specify dtype option on import or set low_memory=False.\n",
      "  df = pd.read_csv(file_path, header = 2)\n",
      "C:\\Users\\raulo\\AppData\\Local\\Temp\\ipykernel_25436\\821610458.py:15: DtypeWarning: Columns (0,1,2,3,4,5,6,7,8,9,10,11,12,13,14,15,16,17,18,19,20,21,22,23,24,25,26,27,28,29,30,31,32,33,34,35,36,37,38,39,40,41,42) have mixed types. Specify dtype option on import or set low_memory=False.\n",
      "  df = pd.read_csv(file_path, header = 2)\n",
      "C:\\Users\\raulo\\AppData\\Local\\Temp\\ipykernel_25436\\821610458.py:15: DtypeWarning: Columns (0,1,2,3,4,5,6,7,8,9,10,11,12,13,14,15,16,17,18,19,20,21,22,23,24,25,26,27,28,29,30,31,32,33,34,35,36,37,38,39,40,41,42) have mixed types. Specify dtype option on import or set low_memory=False.\n",
      "  df = pd.read_csv(file_path, header = 2)\n",
      "C:\\Users\\raulo\\AppData\\Local\\Temp\\ipykernel_25436\\821610458.py:15: DtypeWarning: Columns (0,1,2,3,4,5,6,7,8,9,10,11,12,13,14,15,16,17,18,19,20,21,22,23,24,25,26,27,28,29,30,31,32,33,34,35,36,37,38,39,40,41,42) have mixed types. Specify dtype option on import or set low_memory=False.\n",
      "  df = pd.read_csv(file_path, header = 2)\n",
      "C:\\Users\\raulo\\AppData\\Local\\Temp\\ipykernel_25436\\821610458.py:15: DtypeWarning: Columns (0,1,2,3,4,5,6,7,8,9,10,11,12,13,14,15,16,17,18,19,20,21,22,23,24,25,26,27,28,29,30,31,32,33,34,35,36,37,38,39,40,41,42) have mixed types. Specify dtype option on import or set low_memory=False.\n",
      "  df = pd.read_csv(file_path, header = 2)\n",
      "C:\\Users\\raulo\\AppData\\Local\\Temp\\ipykernel_25436\\821610458.py:15: DtypeWarning: Columns (0,1,2,3,4,5,6,7,8,9,10,11,12,13,14,15,16,17,18,19,20,21,22,23,24,25,26,27,28,29,30,31,32,33,34,35,36,37,38,39,40,41,42) have mixed types. Specify dtype option on import or set low_memory=False.\n",
      "  df = pd.read_csv(file_path, header = 2)\n",
      "C:\\Users\\raulo\\AppData\\Local\\Temp\\ipykernel_25436\\821610458.py:15: DtypeWarning: Columns (0,1,2,3,4,5,6,7,8,9,10,11,12,13,14,15,16,17,18,19,20,21,22,23,24,25,26,27,28,29,30,31,32,33,34,35,36,37,38,39,40,41,42) have mixed types. Specify dtype option on import or set low_memory=False.\n",
      "  df = pd.read_csv(file_path, header = 2)\n",
      "C:\\Users\\raulo\\AppData\\Local\\Temp\\ipykernel_25436\\821610458.py:15: DtypeWarning: Columns (0,1,2,3,4,5,6,7,8,9,10,11,12,13,14,15,16,17,18,19,20,21,22,23,24,25,26,27,28,29,30,31,32,33,34,35,36,37,38,39,40,41,42) have mixed types. Specify dtype option on import or set low_memory=False.\n",
      "  df = pd.read_csv(file_path, header = 2)\n",
      "C:\\Users\\raulo\\AppData\\Local\\Temp\\ipykernel_25436\\821610458.py:15: DtypeWarning: Columns (0,1,2,3,4,5,6,7,8,9,10,11,12,13,14,15,16,17,18,19,20,21,22,23,24,25,26,27,28,29,30,31,32,33,34,35,36,37,38,39,40,41,42) have mixed types. Specify dtype option on import or set low_memory=False.\n",
      "  df = pd.read_csv(file_path, header = 2)\n"
     ]
    }
   ],
   "source": [
    "# Directory path where the CSV files are located\n",
    "directory = r'C:\\Users\\raulo\\Desktop\\CódigoTese\\tracks'\n",
    "\n",
    "# List to store the individual DataFrames\n",
    "dfs = []\n",
    "\n",
    "# Get the list of file names in alphabetical order\n",
    "file_names = sorted(os.listdir(directory))\n",
    "\n",
    "# Iterate over the files in the directory\n",
    "for filename in file_names:\n",
    "    if filename.endswith('.csv'):\n",
    "        file_path = os.path.join(directory, filename)\n",
    "        #print(file_path)\n",
    "        df = pd.read_csv(file_path, header = 2)\n",
    "        df = df.drop(0)\n",
    "        df.index = df.index -1    #Set the index rigth\n",
    "        df = df.drop(columns='bodyparts')\n",
    "        dfs.append(df)\n"
   ]
  },
  {
   "cell_type": "code",
   "execution_count": 3,
   "id": "ca474361",
   "metadata": {
    "collapsed": true
   },
   "outputs": [
    {
     "data": {
      "text/html": [
       "<div>\n",
       "<style scoped>\n",
       "    .dataframe tbody tr th:only-of-type {\n",
       "        vertical-align: middle;\n",
       "    }\n",
       "\n",
       "    .dataframe tbody tr th {\n",
       "        vertical-align: top;\n",
       "    }\n",
       "\n",
       "    .dataframe thead th {\n",
       "        text-align: right;\n",
       "    }\n",
       "</style>\n",
       "<table border=\"1\" class=\"dataframe\">\n",
       "  <thead>\n",
       "    <tr style=\"text-align: right;\">\n",
       "      <th></th>\n",
       "      <th>Client_Mouth</th>\n",
       "      <th>Client_Mouth.1</th>\n",
       "      <th>Client_Mouth.2</th>\n",
       "      <th>Client_Spine_head</th>\n",
       "      <th>Client_Spine_head.1</th>\n",
       "      <th>Client_Spine_head.2</th>\n",
       "      <th>Client_Spine_tail</th>\n",
       "      <th>Client_Spine_tail.1</th>\n",
       "      <th>Client_Spine_tail.2</th>\n",
       "      <th>Client_Body_top1</th>\n",
       "      <th>...</th>\n",
       "      <th>Cleaner_Mouth.2</th>\n",
       "      <th>Cleaner_Spine1</th>\n",
       "      <th>Cleaner_Spine1.1</th>\n",
       "      <th>Cleaner_Spine1.2</th>\n",
       "      <th>Cleaner_Spine2</th>\n",
       "      <th>Cleaner_Spine2.1</th>\n",
       "      <th>Cleaner_Spine2.2</th>\n",
       "      <th>Cleaner_Tail</th>\n",
       "      <th>Cleaner_Tail.1</th>\n",
       "      <th>Cleaner_Tail.2</th>\n",
       "    </tr>\n",
       "  </thead>\n",
       "  <tbody>\n",
       "    <tr>\n",
       "      <th>0</th>\n",
       "      <td>844.539</td>\n",
       "      <td>805.387</td>\n",
       "      <td>1.0</td>\n",
       "      <td>797.075</td>\n",
       "      <td>778.293</td>\n",
       "      <td>1.0</td>\n",
       "      <td>758.091</td>\n",
       "      <td>754.712</td>\n",
       "      <td>1.0</td>\n",
       "      <td>827.585</td>\n",
       "      <td>...</td>\n",
       "      <td>0.9990000128746033</td>\n",
       "      <td>810.779</td>\n",
       "      <td>673.865</td>\n",
       "      <td>1.0</td>\n",
       "      <td>844.818</td>\n",
       "      <td>692.949</td>\n",
       "      <td>1.0</td>\n",
       "      <td>876.047</td>\n",
       "      <td>716.077</td>\n",
       "      <td>1.0</td>\n",
       "    </tr>\n",
       "    <tr>\n",
       "      <th>1</th>\n",
       "      <td>845.803</td>\n",
       "      <td>805.719</td>\n",
       "      <td>1.0</td>\n",
       "      <td>800.32</td>\n",
       "      <td>779.073</td>\n",
       "      <td>1.0</td>\n",
       "      <td>757.849</td>\n",
       "      <td>754.979</td>\n",
       "      <td>1.0</td>\n",
       "      <td>827.806</td>\n",
       "      <td>...</td>\n",
       "      <td>0.9990000128746033</td>\n",
       "      <td>806.825</td>\n",
       "      <td>673.286</td>\n",
       "      <td>1.0</td>\n",
       "      <td>844.826</td>\n",
       "      <td>692.062</td>\n",
       "      <td>1.0</td>\n",
       "      <td>871.086</td>\n",
       "      <td>716.534</td>\n",
       "      <td>1.0</td>\n",
       "    </tr>\n",
       "    <tr>\n",
       "      <th>2</th>\n",
       "      <td>846.058</td>\n",
       "      <td>805.602</td>\n",
       "      <td>1.0</td>\n",
       "      <td>800.39</td>\n",
       "      <td>778.699</td>\n",
       "      <td>1.0</td>\n",
       "      <td>757.99</td>\n",
       "      <td>755.165</td>\n",
       "      <td>1.0</td>\n",
       "      <td>828.126</td>\n",
       "      <td>...</td>\n",
       "      <td>0.9990000128746033</td>\n",
       "      <td>806.644</td>\n",
       "      <td>673.374</td>\n",
       "      <td>1.0</td>\n",
       "      <td>844.843</td>\n",
       "      <td>690.846</td>\n",
       "      <td>1.0</td>\n",
       "      <td>868.507</td>\n",
       "      <td>716.562</td>\n",
       "      <td>1.0</td>\n",
       "    </tr>\n",
       "    <tr>\n",
       "      <th>3</th>\n",
       "      <td>847.783</td>\n",
       "      <td>806.855</td>\n",
       "      <td>1.0</td>\n",
       "      <td>800.559</td>\n",
       "      <td>778.678</td>\n",
       "      <td>1.0</td>\n",
       "      <td>758.459</td>\n",
       "      <td>755.079</td>\n",
       "      <td>1.0</td>\n",
       "      <td>828.072</td>\n",
       "      <td>...</td>\n",
       "      <td>1.0</td>\n",
       "      <td>806.734</td>\n",
       "      <td>673.533</td>\n",
       "      <td>1.0</td>\n",
       "      <td>844.724</td>\n",
       "      <td>690.025</td>\n",
       "      <td>1.0</td>\n",
       "      <td>871.065</td>\n",
       "      <td>711.097</td>\n",
       "      <td>1.0</td>\n",
       "    </tr>\n",
       "    <tr>\n",
       "      <th>4</th>\n",
       "      <td>848.311</td>\n",
       "      <td>806.531</td>\n",
       "      <td>1.0</td>\n",
       "      <td>801.088</td>\n",
       "      <td>779.173</td>\n",
       "      <td>1.0</td>\n",
       "      <td>757.8</td>\n",
       "      <td>755.38</td>\n",
       "      <td>1.0</td>\n",
       "      <td>827.874</td>\n",
       "      <td>...</td>\n",
       "      <td>1.0</td>\n",
       "      <td>807.214</td>\n",
       "      <td>673.875</td>\n",
       "      <td>1.0</td>\n",
       "      <td>844.602</td>\n",
       "      <td>690.047</td>\n",
       "      <td>1.0</td>\n",
       "      <td>873.288</td>\n",
       "      <td>709.904</td>\n",
       "      <td>1.0</td>\n",
       "    </tr>\n",
       "    <tr>\n",
       "      <th>...</th>\n",
       "      <td>...</td>\n",
       "      <td>...</td>\n",
       "      <td>...</td>\n",
       "      <td>...</td>\n",
       "      <td>...</td>\n",
       "      <td>...</td>\n",
       "      <td>...</td>\n",
       "      <td>...</td>\n",
       "      <td>...</td>\n",
       "      <td>...</td>\n",
       "      <td>...</td>\n",
       "      <td>...</td>\n",
       "      <td>...</td>\n",
       "      <td>...</td>\n",
       "      <td>...</td>\n",
       "      <td>...</td>\n",
       "      <td>...</td>\n",
       "      <td>...</td>\n",
       "      <td>...</td>\n",
       "      <td>...</td>\n",
       "      <td>...</td>\n",
       "    </tr>\n",
       "    <tr>\n",
       "      <th>41236</th>\n",
       "      <td>1143.419</td>\n",
       "      <td>789.283</td>\n",
       "      <td>1.0</td>\n",
       "      <td>1145.7</td>\n",
       "      <td>754.729</td>\n",
       "      <td>0.997</td>\n",
       "      <td>1123.439</td>\n",
       "      <td>740.046</td>\n",
       "      <td>0.996</td>\n",
       "      <td>1141.296</td>\n",
       "      <td>...</td>\n",
       "      <td>1.0</td>\n",
       "      <td>859.429</td>\n",
       "      <td>595.47</td>\n",
       "      <td>0.999</td>\n",
       "      <td>908.98</td>\n",
       "      <td>619.672</td>\n",
       "      <td>1.0</td>\n",
       "      <td>946.458</td>\n",
       "      <td>624.609</td>\n",
       "      <td>1.0</td>\n",
       "    </tr>\n",
       "    <tr>\n",
       "      <th>41237</th>\n",
       "      <td>1141.712</td>\n",
       "      <td>789.298</td>\n",
       "      <td>1.0</td>\n",
       "      <td>1140.087</td>\n",
       "      <td>755.961</td>\n",
       "      <td>0.999</td>\n",
       "      <td>1121.677</td>\n",
       "      <td>740.501</td>\n",
       "      <td>0.995</td>\n",
       "      <td>1141.28</td>\n",
       "      <td>...</td>\n",
       "      <td>1.0</td>\n",
       "      <td>859.151</td>\n",
       "      <td>595.392</td>\n",
       "      <td>0.999</td>\n",
       "      <td>908.929</td>\n",
       "      <td>619.648</td>\n",
       "      <td>1.0</td>\n",
       "      <td>944.339</td>\n",
       "      <td>625.828</td>\n",
       "      <td>1.0</td>\n",
       "    </tr>\n",
       "    <tr>\n",
       "      <th>41238</th>\n",
       "      <td>1140.057</td>\n",
       "      <td>789.279</td>\n",
       "      <td>1.0</td>\n",
       "      <td>1145.344</td>\n",
       "      <td>754.574</td>\n",
       "      <td>0.999</td>\n",
       "      <td>1122.763</td>\n",
       "      <td>739.165</td>\n",
       "      <td>0.981</td>\n",
       "      <td>1140.475</td>\n",
       "      <td>...</td>\n",
       "      <td>0.999</td>\n",
       "      <td>858.87</td>\n",
       "      <td>595.681</td>\n",
       "      <td>0.999</td>\n",
       "      <td>908.743</td>\n",
       "      <td>619.191</td>\n",
       "      <td>1.0</td>\n",
       "      <td>940.471</td>\n",
       "      <td>627.088</td>\n",
       "      <td>1.0</td>\n",
       "    </tr>\n",
       "    <tr>\n",
       "      <th>41239</th>\n",
       "      <td>1136.638</td>\n",
       "      <td>787.924</td>\n",
       "      <td>1.0</td>\n",
       "      <td>1145.959</td>\n",
       "      <td>755.977</td>\n",
       "      <td>1.0</td>\n",
       "      <td>1123.462</td>\n",
       "      <td>738.854</td>\n",
       "      <td>0.976</td>\n",
       "      <td>1139.175</td>\n",
       "      <td>...</td>\n",
       "      <td>1.0</td>\n",
       "      <td>858.823</td>\n",
       "      <td>595.457</td>\n",
       "      <td>0.999</td>\n",
       "      <td>904.412</td>\n",
       "      <td>618.821</td>\n",
       "      <td>1.0</td>\n",
       "      <td>940.338</td>\n",
       "      <td>628.034</td>\n",
       "      <td>1.0</td>\n",
       "    </tr>\n",
       "    <tr>\n",
       "      <th>41240</th>\n",
       "      <td>1131.342</td>\n",
       "      <td>782.284</td>\n",
       "      <td>1.0</td>\n",
       "      <td>1146.187</td>\n",
       "      <td>756.932</td>\n",
       "      <td>1.0</td>\n",
       "      <td>1147.724</td>\n",
       "      <td>734.414</td>\n",
       "      <td>0.89</td>\n",
       "      <td>1131.497</td>\n",
       "      <td>...</td>\n",
       "      <td>1.0</td>\n",
       "      <td>858.473</td>\n",
       "      <td>595.435</td>\n",
       "      <td>1.0</td>\n",
       "      <td>902.141</td>\n",
       "      <td>618.811</td>\n",
       "      <td>1.0</td>\n",
       "      <td>940.098</td>\n",
       "      <td>628.909</td>\n",
       "      <td>1.0</td>\n",
       "    </tr>\n",
       "  </tbody>\n",
       "</table>\n",
       "<p>41241 rows × 42 columns</p>\n",
       "</div>"
      ],
      "text/plain": [
       "      Client_Mouth Client_Mouth.1 Client_Mouth.2 Client_Spine_head  \\\n",
       "0          844.539        805.387            1.0           797.075   \n",
       "1          845.803        805.719            1.0            800.32   \n",
       "2          846.058        805.602            1.0            800.39   \n",
       "3          847.783        806.855            1.0           800.559   \n",
       "4          848.311        806.531            1.0           801.088   \n",
       "...            ...            ...            ...               ...   \n",
       "41236     1143.419        789.283            1.0            1145.7   \n",
       "41237     1141.712        789.298            1.0          1140.087   \n",
       "41238     1140.057        789.279            1.0          1145.344   \n",
       "41239     1136.638        787.924            1.0          1145.959   \n",
       "41240     1131.342        782.284            1.0          1146.187   \n",
       "\n",
       "      Client_Spine_head.1 Client_Spine_head.2 Client_Spine_tail  \\\n",
       "0                 778.293                 1.0           758.091   \n",
       "1                 779.073                 1.0           757.849   \n",
       "2                 778.699                 1.0            757.99   \n",
       "3                 778.678                 1.0           758.459   \n",
       "4                 779.173                 1.0             757.8   \n",
       "...                   ...                 ...               ...   \n",
       "41236             754.729               0.997          1123.439   \n",
       "41237             755.961               0.999          1121.677   \n",
       "41238             754.574               0.999          1122.763   \n",
       "41239             755.977                 1.0          1123.462   \n",
       "41240             756.932                 1.0          1147.724   \n",
       "\n",
       "      Client_Spine_tail.1 Client_Spine_tail.2 Client_Body_top1  ...  \\\n",
       "0                 754.712                 1.0          827.585  ...   \n",
       "1                 754.979                 1.0          827.806  ...   \n",
       "2                 755.165                 1.0          828.126  ...   \n",
       "3                 755.079                 1.0          828.072  ...   \n",
       "4                  755.38                 1.0          827.874  ...   \n",
       "...                   ...                 ...              ...  ...   \n",
       "41236             740.046               0.996         1141.296  ...   \n",
       "41237             740.501               0.995          1141.28  ...   \n",
       "41238             739.165               0.981         1140.475  ...   \n",
       "41239             738.854               0.976         1139.175  ...   \n",
       "41240             734.414                0.89         1131.497  ...   \n",
       "\n",
       "          Cleaner_Mouth.2 Cleaner_Spine1 Cleaner_Spine1.1 Cleaner_Spine1.2  \\\n",
       "0      0.9990000128746033        810.779          673.865              1.0   \n",
       "1      0.9990000128746033        806.825          673.286              1.0   \n",
       "2      0.9990000128746033        806.644          673.374              1.0   \n",
       "3                     1.0        806.734          673.533              1.0   \n",
       "4                     1.0        807.214          673.875              1.0   \n",
       "...                   ...            ...              ...              ...   \n",
       "41236                 1.0        859.429           595.47            0.999   \n",
       "41237                 1.0        859.151          595.392            0.999   \n",
       "41238               0.999         858.87          595.681            0.999   \n",
       "41239                 1.0        858.823          595.457            0.999   \n",
       "41240                 1.0        858.473          595.435              1.0   \n",
       "\n",
       "      Cleaner_Spine2 Cleaner_Spine2.1 Cleaner_Spine2.2 Cleaner_Tail  \\\n",
       "0            844.818          692.949              1.0      876.047   \n",
       "1            844.826          692.062              1.0      871.086   \n",
       "2            844.843          690.846              1.0      868.507   \n",
       "3            844.724          690.025              1.0      871.065   \n",
       "4            844.602          690.047              1.0      873.288   \n",
       "...              ...              ...              ...          ...   \n",
       "41236         908.98          619.672              1.0      946.458   \n",
       "41237        908.929          619.648              1.0      944.339   \n",
       "41238        908.743          619.191              1.0      940.471   \n",
       "41239        904.412          618.821              1.0      940.338   \n",
       "41240        902.141          618.811              1.0      940.098   \n",
       "\n",
       "      Cleaner_Tail.1 Cleaner_Tail.2  \n",
       "0            716.077            1.0  \n",
       "1            716.534            1.0  \n",
       "2            716.562            1.0  \n",
       "3            711.097            1.0  \n",
       "4            709.904            1.0  \n",
       "...              ...            ...  \n",
       "41236        624.609            1.0  \n",
       "41237        625.828            1.0  \n",
       "41238        627.088            1.0  \n",
       "41239        628.034            1.0  \n",
       "41240        628.909            1.0  \n",
       "\n",
       "[41241 rows x 42 columns]"
      ]
     },
     "execution_count": 3,
     "metadata": {},
     "output_type": "execute_result"
    }
   ],
   "source": [
    "dfs[0]"
   ]
  },
  {
   "cell_type": "code",
   "execution_count": 4,
   "id": "ca9c7f84",
   "metadata": {},
   "outputs": [],
   "source": [
    "# Directory path where the CSV files are located\n",
    "directory = r'C:\\Users\\raulo\\Desktop\\CódigoTese\\Labels'\n",
    "\n",
    "# List to store the individual DataFrames\n",
    "dfs_labels = []\n",
    "\n",
    "# Get the list of file names in alphabetical order\n",
    "file_names = sorted(os.listdir(directory))\n",
    "\n",
    "# Iterate over the files in the directory\n",
    "for filename in file_names:\n",
    "    if filename.endswith('.csv'):\n",
    "        file_path = os.path.join(directory, filename)\n",
    "        df = pd.read_csv(file_path)\n",
    "        df = df.drop(columns='Unnamed: 0')\n",
    "        #print(file_path)\n",
    "        dfs_labels.append(df)"
   ]
  },
  {
   "cell_type": "code",
   "execution_count": 5,
   "id": "74f437d8",
   "metadata": {
    "collapsed": true
   },
   "outputs": [
    {
     "data": {
      "text/html": [
       "<div>\n",
       "<style scoped>\n",
       "    .dataframe tbody tr th:only-of-type {\n",
       "        vertical-align: middle;\n",
       "    }\n",
       "\n",
       "    .dataframe tbody tr th {\n",
       "        vertical-align: top;\n",
       "    }\n",
       "\n",
       "    .dataframe thead th {\n",
       "        text-align: right;\n",
       "    }\n",
       "</style>\n",
       "<table border=\"1\" class=\"dataframe\">\n",
       "  <thead>\n",
       "    <tr style=\"text-align: right;\">\n",
       "      <th></th>\n",
       "      <th>background</th>\n",
       "      <th>Int_Cleaner</th>\n",
       "      <th>Int_Client</th>\n",
       "      <th>Dance</th>\n",
       "      <th>TS</th>\n",
       "      <th>Pousing</th>\n",
       "      <th>Jolt</th>\n",
       "      <th>Run</th>\n",
       "    </tr>\n",
       "  </thead>\n",
       "  <tbody>\n",
       "    <tr>\n",
       "      <th>0</th>\n",
       "      <td>1</td>\n",
       "      <td>0</td>\n",
       "      <td>0</td>\n",
       "      <td>0</td>\n",
       "      <td>0</td>\n",
       "      <td>0</td>\n",
       "      <td>0</td>\n",
       "      <td>0</td>\n",
       "    </tr>\n",
       "    <tr>\n",
       "      <th>1</th>\n",
       "      <td>1</td>\n",
       "      <td>0</td>\n",
       "      <td>0</td>\n",
       "      <td>0</td>\n",
       "      <td>0</td>\n",
       "      <td>0</td>\n",
       "      <td>0</td>\n",
       "      <td>0</td>\n",
       "    </tr>\n",
       "    <tr>\n",
       "      <th>2</th>\n",
       "      <td>1</td>\n",
       "      <td>0</td>\n",
       "      <td>0</td>\n",
       "      <td>0</td>\n",
       "      <td>0</td>\n",
       "      <td>0</td>\n",
       "      <td>0</td>\n",
       "      <td>0</td>\n",
       "    </tr>\n",
       "    <tr>\n",
       "      <th>3</th>\n",
       "      <td>1</td>\n",
       "      <td>0</td>\n",
       "      <td>0</td>\n",
       "      <td>0</td>\n",
       "      <td>0</td>\n",
       "      <td>0</td>\n",
       "      <td>0</td>\n",
       "      <td>0</td>\n",
       "    </tr>\n",
       "    <tr>\n",
       "      <th>4</th>\n",
       "      <td>1</td>\n",
       "      <td>0</td>\n",
       "      <td>0</td>\n",
       "      <td>0</td>\n",
       "      <td>0</td>\n",
       "      <td>0</td>\n",
       "      <td>0</td>\n",
       "      <td>0</td>\n",
       "    </tr>\n",
       "    <tr>\n",
       "      <th>...</th>\n",
       "      <td>...</td>\n",
       "      <td>...</td>\n",
       "      <td>...</td>\n",
       "      <td>...</td>\n",
       "      <td>...</td>\n",
       "      <td>...</td>\n",
       "      <td>...</td>\n",
       "      <td>...</td>\n",
       "    </tr>\n",
       "    <tr>\n",
       "      <th>41236</th>\n",
       "      <td>1</td>\n",
       "      <td>0</td>\n",
       "      <td>0</td>\n",
       "      <td>0</td>\n",
       "      <td>0</td>\n",
       "      <td>0</td>\n",
       "      <td>0</td>\n",
       "      <td>0</td>\n",
       "    </tr>\n",
       "    <tr>\n",
       "      <th>41237</th>\n",
       "      <td>1</td>\n",
       "      <td>0</td>\n",
       "      <td>0</td>\n",
       "      <td>0</td>\n",
       "      <td>0</td>\n",
       "      <td>0</td>\n",
       "      <td>0</td>\n",
       "      <td>0</td>\n",
       "    </tr>\n",
       "    <tr>\n",
       "      <th>41238</th>\n",
       "      <td>1</td>\n",
       "      <td>0</td>\n",
       "      <td>0</td>\n",
       "      <td>0</td>\n",
       "      <td>0</td>\n",
       "      <td>0</td>\n",
       "      <td>0</td>\n",
       "      <td>0</td>\n",
       "    </tr>\n",
       "    <tr>\n",
       "      <th>41239</th>\n",
       "      <td>1</td>\n",
       "      <td>0</td>\n",
       "      <td>0</td>\n",
       "      <td>0</td>\n",
       "      <td>0</td>\n",
       "      <td>0</td>\n",
       "      <td>0</td>\n",
       "      <td>0</td>\n",
       "    </tr>\n",
       "    <tr>\n",
       "      <th>41240</th>\n",
       "      <td>1</td>\n",
       "      <td>0</td>\n",
       "      <td>0</td>\n",
       "      <td>0</td>\n",
       "      <td>0</td>\n",
       "      <td>0</td>\n",
       "      <td>0</td>\n",
       "      <td>0</td>\n",
       "    </tr>\n",
       "  </tbody>\n",
       "</table>\n",
       "<p>41241 rows × 8 columns</p>\n",
       "</div>"
      ],
      "text/plain": [
       "       background  Int_Cleaner  Int_Client  Dance  TS  Pousing  Jolt  Run\n",
       "0               1            0           0      0   0        0     0    0\n",
       "1               1            0           0      0   0        0     0    0\n",
       "2               1            0           0      0   0        0     0    0\n",
       "3               1            0           0      0   0        0     0    0\n",
       "4               1            0           0      0   0        0     0    0\n",
       "...           ...          ...         ...    ...  ..      ...   ...  ...\n",
       "41236           1            0           0      0   0        0     0    0\n",
       "41237           1            0           0      0   0        0     0    0\n",
       "41238           1            0           0      0   0        0     0    0\n",
       "41239           1            0           0      0   0        0     0    0\n",
       "41240           1            0           0      0   0        0     0    0\n",
       "\n",
       "[41241 rows x 8 columns]"
      ]
     },
     "execution_count": 5,
     "metadata": {},
     "output_type": "execute_result"
    }
   ],
   "source": [
    "dfs_labels[0]"
   ]
  },
  {
   "cell_type": "code",
   "execution_count": 6,
   "id": "eb3b431c",
   "metadata": {},
   "outputs": [],
   "source": [
    "dfs_labels_single = []\n",
    "for df in dfs_labels:\n",
    "    # Convert DataFrame into a single-column DataFrame\n",
    "    single_column_df = pd.DataFrame(df.idxmax(axis=1), columns=['Interaction'])\n",
    "    dfs_labels_single.append(single_column_df)"
   ]
  },
  {
   "cell_type": "code",
   "execution_count": 8,
   "id": "9d736d57",
   "metadata": {
    "collapsed": true
   },
   "outputs": [
    {
     "name": "stdout",
     "output_type": "stream",
     "text": [
      "       Interaction Client_Mouth Client_Mouth.1 Client_Mouth.2  \\\n",
      "0       background      844.539        805.387            1.0   \n",
      "1       background      845.803        805.719            1.0   \n",
      "2       background      846.058        805.602            1.0   \n",
      "3       background      847.783        806.855            1.0   \n",
      "4       background      848.311        806.531            1.0   \n",
      "...            ...          ...            ...            ...   \n",
      "602739  background     1263.867        974.489            1.0   \n",
      "602740  background     1263.782        974.429            1.0   \n",
      "602741  background     1263.192        975.049            1.0   \n",
      "602742  background     1262.779        975.279            1.0   \n",
      "602743  background     1262.617        975.332            1.0   \n",
      "\n",
      "       Client_Spine_head Client_Spine_head.1 Client_Spine_head.2  \\\n",
      "0                797.075             778.293                 1.0   \n",
      "1                 800.32             779.073                 1.0   \n",
      "2                 800.39             778.699                 1.0   \n",
      "3                800.559             778.678                 1.0   \n",
      "4                801.088             779.173                 1.0   \n",
      "...                  ...                 ...                 ...   \n",
      "602739          1222.146             955.246                 1.0   \n",
      "602740           1221.32             955.215                 1.0   \n",
      "602741          1221.697             955.118                 1.0   \n",
      "602742          1222.167             955.026                 1.0   \n",
      "602743          1222.376             955.054                 1.0   \n",
      "\n",
      "       Client_Spine_tail Client_Spine_tail.1 Client_Spine_tail.2  ...  \\\n",
      "0                758.091             754.712                 1.0  ...   \n",
      "1                757.849             754.979                 1.0  ...   \n",
      "2                 757.99             755.165                 1.0  ...   \n",
      "3                758.459             755.079                 1.0  ...   \n",
      "4                  757.8              755.38                 1.0  ...   \n",
      "...                  ...                 ...                 ...  ...   \n",
      "602739          1174.693             938.989                 1.0  ...   \n",
      "602740          1175.633             939.109                 1.0  ...   \n",
      "602741          1176.165             939.093                 1.0  ...   \n",
      "602742          1180.271             939.323                 1.0  ...   \n",
      "602743          1180.394             939.114                 1.0  ...   \n",
      "\n",
      "           Cleaner_Mouth.2 Cleaner_Spine1 Cleaner_Spine1.1 Cleaner_Spine1.2  \\\n",
      "0       0.9990000128746033        810.779          673.865              1.0   \n",
      "1       0.9990000128746033        806.825          673.286              1.0   \n",
      "2       0.9990000128746033        806.644          673.374              1.0   \n",
      "3                      1.0        806.734          673.533              1.0   \n",
      "4                      1.0        807.214          673.875              1.0   \n",
      "...                    ...            ...              ...              ...   \n",
      "602739               0.945        731.627          549.341            0.993   \n",
      "602740               0.998        732.121          555.723            0.997   \n",
      "602741                 1.0        732.213          555.825            0.998   \n",
      "602742                 1.0        732.091          555.704            0.997   \n",
      "602743                 1.0         731.66          562.789            0.999   \n",
      "\n",
      "       Cleaner_Spine2 Cleaner_Spine2.1 Cleaner_Spine2.2 Cleaner_Tail  \\\n",
      "0             844.818          692.949              1.0      876.047   \n",
      "1             844.826          692.062              1.0      871.086   \n",
      "2             844.843          690.846              1.0      868.507   \n",
      "3             844.724          690.025              1.0      871.065   \n",
      "4             844.602          690.047              1.0      873.288   \n",
      "...               ...              ...              ...          ...   \n",
      "602739        770.119          580.529            0.991      811.584   \n",
      "602740        770.471          580.947            0.995      811.741   \n",
      "602741        770.811          581.112            0.996      811.713   \n",
      "602742        771.701          581.695            0.997      811.827   \n",
      "602743        772.587          583.009            0.999      807.905   \n",
      "\n",
      "       Cleaner_Tail.1 Cleaner_Tail.2  \n",
      "0             716.077            1.0  \n",
      "1             716.534            1.0  \n",
      "2             716.562            1.0  \n",
      "3             711.097            1.0  \n",
      "4             709.904            1.0  \n",
      "...               ...            ...  \n",
      "602739        625.064            1.0  \n",
      "602740        624.951            1.0  \n",
      "602741        624.362            1.0  \n",
      "602742        620.278            1.0  \n",
      "602743        619.378            1.0  \n",
      "\n",
      "[602744 rows x 43 columns]\n"
     ]
    }
   ],
   "source": [
    "# Create a list to store the labeled DataFrames\n",
    "labeled_dfs = []\n",
    "\n",
    "# Iterate over the DataFrames\n",
    "for i in range(len(dfs)):\n",
    "    # Add the labels DataFrame in front of each DataFrame\n",
    "    labeled_df = pd.concat([dfs_labels_single[i], dfs[i]], axis=1)\n",
    "    labeled_dfs.append(labeled_df)\n",
    "\n",
    "# Concatenate the labeled DataFrames vertically\n",
    "merged_df = pd.concat(labeled_dfs, ignore_index=True)\n",
    "\n",
    "# Print the merged DataFrame\n",
    "print(merged_df)"
   ]
  },
  {
   "cell_type": "code",
   "execution_count": 9,
   "id": "62db6cc9",
   "metadata": {
    "scrolled": false
   },
   "outputs": [
    {
     "name": "stdout",
     "output_type": "stream",
     "text": [
      "background     594156\n",
      "Int_Client       5524\n",
      "TS               1474\n",
      "Int_Cleaner       955\n",
      "Jolt              490\n",
      "Run               145\n",
      "Name: Interaction, dtype: int64\n"
     ]
    }
   ],
   "source": [
    "interaction_counts = merged_df['Interaction'].value_counts()\n",
    "print(interaction_counts)"
   ]
  },
  {
   "cell_type": "code",
   "execution_count": 10,
   "id": "18360a4b",
   "metadata": {},
   "outputs": [],
   "source": [
    "X = merged_df.iloc[:, 1:43]  # Select columns 1 to 42 as features\n",
    "y = merged_df.iloc[:, 0]     # Select column 0 as the target variable"
   ]
  },
  {
   "cell_type": "code",
   "execution_count": 11,
   "id": "1d15f98b",
   "metadata": {},
   "outputs": [],
   "source": [
    "from sklearn.ensemble import RandomForestClassifier\n",
    "from sklearn.impute import SimpleImputer\n",
    "from sklearn.metrics import confusion_matrix\n",
    "from sklearn.model_selection import train_test_split\n",
    "import matplotlib.pyplot as plt\n",
    "import numpy as np\n"
   ]
  },
  {
   "cell_type": "code",
   "execution_count": 12,
   "id": "2519d3a1",
   "metadata": {},
   "outputs": [],
   "source": [
    "X_train, X_test, y_train, y_test = train_test_split(X, y, test_size=0.2, random_state=1999)"
   ]
  },
  {
   "cell_type": "code",
   "execution_count": 13,
   "id": "f0d0dc08",
   "metadata": {},
   "outputs": [],
   "source": [
    "imputer = SimpleImputer(strategy='mean')\n",
    "\n",
    "X_train_imputed = imputer.fit_transform(X_train)\n",
    "X_test_imputed = imputer.transform(X_test)"
   ]
  },
  {
   "cell_type": "code",
   "execution_count": 14,
   "id": "710639f2",
   "metadata": {
    "scrolled": true
   },
   "outputs": [
    {
     "data": {
      "text/html": [
       "<style>#sk-container-id-1 {color: black;background-color: white;}#sk-container-id-1 pre{padding: 0;}#sk-container-id-1 div.sk-toggleable {background-color: white;}#sk-container-id-1 label.sk-toggleable__label {cursor: pointer;display: block;width: 100%;margin-bottom: 0;padding: 0.3em;box-sizing: border-box;text-align: center;}#sk-container-id-1 label.sk-toggleable__label-arrow:before {content: \"▸\";float: left;margin-right: 0.25em;color: #696969;}#sk-container-id-1 label.sk-toggleable__label-arrow:hover:before {color: black;}#sk-container-id-1 div.sk-estimator:hover label.sk-toggleable__label-arrow:before {color: black;}#sk-container-id-1 div.sk-toggleable__content {max-height: 0;max-width: 0;overflow: hidden;text-align: left;background-color: #f0f8ff;}#sk-container-id-1 div.sk-toggleable__content pre {margin: 0.2em;color: black;border-radius: 0.25em;background-color: #f0f8ff;}#sk-container-id-1 input.sk-toggleable__control:checked~div.sk-toggleable__content {max-height: 200px;max-width: 100%;overflow: auto;}#sk-container-id-1 input.sk-toggleable__control:checked~label.sk-toggleable__label-arrow:before {content: \"▾\";}#sk-container-id-1 div.sk-estimator input.sk-toggleable__control:checked~label.sk-toggleable__label {background-color: #d4ebff;}#sk-container-id-1 div.sk-label input.sk-toggleable__control:checked~label.sk-toggleable__label {background-color: #d4ebff;}#sk-container-id-1 input.sk-hidden--visually {border: 0;clip: rect(1px 1px 1px 1px);clip: rect(1px, 1px, 1px, 1px);height: 1px;margin: -1px;overflow: hidden;padding: 0;position: absolute;width: 1px;}#sk-container-id-1 div.sk-estimator {font-family: monospace;background-color: #f0f8ff;border: 1px dotted black;border-radius: 0.25em;box-sizing: border-box;margin-bottom: 0.5em;}#sk-container-id-1 div.sk-estimator:hover {background-color: #d4ebff;}#sk-container-id-1 div.sk-parallel-item::after {content: \"\";width: 100%;border-bottom: 1px solid gray;flex-grow: 1;}#sk-container-id-1 div.sk-label:hover label.sk-toggleable__label {background-color: #d4ebff;}#sk-container-id-1 div.sk-serial::before {content: \"\";position: absolute;border-left: 1px solid gray;box-sizing: border-box;top: 0;bottom: 0;left: 50%;z-index: 0;}#sk-container-id-1 div.sk-serial {display: flex;flex-direction: column;align-items: center;background-color: white;padding-right: 0.2em;padding-left: 0.2em;position: relative;}#sk-container-id-1 div.sk-item {position: relative;z-index: 1;}#sk-container-id-1 div.sk-parallel {display: flex;align-items: stretch;justify-content: center;background-color: white;position: relative;}#sk-container-id-1 div.sk-item::before, #sk-container-id-1 div.sk-parallel-item::before {content: \"\";position: absolute;border-left: 1px solid gray;box-sizing: border-box;top: 0;bottom: 0;left: 50%;z-index: -1;}#sk-container-id-1 div.sk-parallel-item {display: flex;flex-direction: column;z-index: 1;position: relative;background-color: white;}#sk-container-id-1 div.sk-parallel-item:first-child::after {align-self: flex-end;width: 50%;}#sk-container-id-1 div.sk-parallel-item:last-child::after {align-self: flex-start;width: 50%;}#sk-container-id-1 div.sk-parallel-item:only-child::after {width: 0;}#sk-container-id-1 div.sk-dashed-wrapped {border: 1px dashed gray;margin: 0 0.4em 0.5em 0.4em;box-sizing: border-box;padding-bottom: 0.4em;background-color: white;}#sk-container-id-1 div.sk-label label {font-family: monospace;font-weight: bold;display: inline-block;line-height: 1.2em;}#sk-container-id-1 div.sk-label-container {text-align: center;}#sk-container-id-1 div.sk-container {/* jupyter's `normalize.less` sets `[hidden] { display: none; }` but bootstrap.min.css set `[hidden] { display: none !important; }` so we also need the `!important` here to be able to override the default hidden behavior on the sphinx rendered scikit-learn.org. See: https://github.com/scikit-learn/scikit-learn/issues/21755 */display: inline-block !important;position: relative;}#sk-container-id-1 div.sk-text-repr-fallback {display: none;}</style><div id=\"sk-container-id-1\" class=\"sk-top-container\"><div class=\"sk-text-repr-fallback\"><pre>RandomForestClassifier()</pre><b>In a Jupyter environment, please rerun this cell to show the HTML representation or trust the notebook. <br />On GitHub, the HTML representation is unable to render, please try loading this page with nbviewer.org.</b></div><div class=\"sk-container\" hidden><div class=\"sk-item\"><div class=\"sk-estimator sk-toggleable\"><input class=\"sk-toggleable__control sk-hidden--visually\" id=\"sk-estimator-id-1\" type=\"checkbox\" checked><label for=\"sk-estimator-id-1\" class=\"sk-toggleable__label sk-toggleable__label-arrow\">RandomForestClassifier</label><div class=\"sk-toggleable__content\"><pre>RandomForestClassifier()</pre></div></div></div></div></div>"
      ],
      "text/plain": [
       "RandomForestClassifier()"
      ]
     },
     "execution_count": 14,
     "metadata": {},
     "output_type": "execute_result"
    }
   ],
   "source": [
    "model = RandomForestClassifier()\n",
    "model.fit(X_train_imputed, y_train)"
   ]
  },
  {
   "cell_type": "code",
   "execution_count": 15,
   "id": "02d33244",
   "metadata": {},
   "outputs": [
    {
     "name": "stdout",
     "output_type": "stream",
     "text": [
      "Accuracy: 0.9988386465254793\n"
     ]
    }
   ],
   "source": [
    "y_pred = model.predict(X_test_imputed)\n",
    "accuracy = accuracy_score(y_test, y_pred)\n",
    "print(\"Accuracy:\", accuracy)"
   ]
  },
  {
   "cell_type": "code",
   "execution_count": 16,
   "id": "aa8d9569",
   "metadata": {},
   "outputs": [
    {
     "name": "stdout",
     "output_type": "stream",
     "text": [
      "[[   184      0      0      0      0      7]\n",
      " [     0   1123      2      0      1     24]\n",
      " [     0      3     42      0      0     63]\n",
      " [     0      0      0      6      0     26]\n",
      " [     0      0      0      0    314      8]\n",
      " [     0      5      0      0      1 118740]]\n"
     ]
    }
   ],
   "source": [
    "# Assuming you have the predicted labels (y_pred) and actual labels (y_test)\n",
    "cm = confusion_matrix(y_test, y_pred)\n",
    "\n",
    "print(cm)"
   ]
  },
  {
   "cell_type": "code",
   "execution_count": 30,
   "id": "cb0052c2",
   "metadata": {
    "scrolled": false
   },
   "outputs": [
    {
     "data": {
      "image/png": "[encoded data removed]",
      "text/plain": [
       "<Figure size 640x480 with 2 Axes>"
      ]
     },
     "metadata": {},
     "output_type": "display_data"
    }
   ],
   "source": [
    "# Define the class labels\n",
    "class_labels = np.sort(merged_df['Interaction'].unique())\n",
    "\n",
    "# Create the confusion matrix\n",
    "cm = np.array(cm)\n",
    "\n",
    "# Create a figure and axis\n",
    "fig, ax = plt.subplots()\n",
    "im = ax.imshow(cm, cmap='Blues')\n",
    "\n",
    "# Set axis labels\n",
    "ax.set_xticks(np.arange(len(class_labels)))\n",
    "ax.set_yticks(np.arange(len(class_labels)))\n",
    "ax.set_xticklabels(class_labels, rotation=45)\n",
    "ax.set_yticklabels(class_labels)\n",
    "\n",
    "# Add labels to each cell\n",
    "for i in range(len(class_labels)):\n",
    "    for j in range(len(class_labels)):\n",
    "        text = ax.text(j, i, cm[i, j], ha='center', va='center', color='orange')\n",
    "\n",
    "# Add colorbar\n",
    "cbar = ax.figure.colorbar(im, ax=ax)\n",
    "\n",
    "# Set title and labels\n",
    "ax.set_title('Confusion Matrix')\n",
    "ax.set_xlabel('Predicted Label')\n",
    "ax.set_ylabel('True Label')\n",
    "\n",
    "# Show the plot\n",
    "plt.show()"
   ]
  },
  {
   "cell_type": "markdown",
   "id": "1da096ee",
   "metadata": {},
   "source": [
    "---\n",
    "---\n",
    "---\n",
    "---"
   ]
  },
  {
   "cell_type": "code",
   "execution_count": 18,
   "id": "292f713f",
   "metadata": {},
   "outputs": [],
   "source": [
    "background_df = merged_df[merged_df['Interaction'] == 'background']\n",
    "other_df = merged_df[merged_df['Interaction'] != 'background']"
   ]
  },
  {
   "cell_type": "code",
   "execution_count": 19,
   "id": "51f17013",
   "metadata": {},
   "outputs": [],
   "source": [
    "desired_background_samples = 5000"
   ]
  },
  {
   "cell_type": "code",
   "execution_count": 20,
   "id": "a27b2cc9",
   "metadata": {},
   "outputs": [],
   "source": [
    "background_sample = background_df.sample(n=desired_background_samples, random_state=1999)"
   ]
  },
  {
   "cell_type": "code",
   "execution_count": 21,
   "id": "28e3e112",
   "metadata": {},
   "outputs": [],
   "source": [
    "undersampled_df = pd.concat([background_sample, other_df], ignore_index=True)"
   ]
  },
  {
   "cell_type": "code",
   "execution_count": 22,
   "id": "06ad7077",
   "metadata": {
    "scrolled": true
   },
   "outputs": [
    {
     "name": "stdout",
     "output_type": "stream",
     "text": [
      "Int_Client     5524\n",
      "background     5000\n",
      "TS             1474\n",
      "Int_Cleaner     955\n",
      "Jolt            490\n",
      "Run             145\n",
      "Name: Interaction, dtype: int64\n"
     ]
    }
   ],
   "source": [
    "interaction_counts_new = undersampled_df['Interaction'].value_counts()\n",
    "print(interaction_counts_new)"
   ]
  },
  {
   "cell_type": "code",
   "execution_count": 23,
   "id": "bafaa6e8",
   "metadata": {},
   "outputs": [],
   "source": [
    "X_new5000 = undersampled_df.iloc[:, 1:43]  # Select columns 1 to 42 as features\n",
    "y_new5000 = undersampled_df.iloc[:, 0]     # Select column 0 as the target variable"
   ]
  },
  {
   "cell_type": "code",
   "execution_count": 24,
   "id": "44eb94d2",
   "metadata": {},
   "outputs": [],
   "source": [
    "X_train_new5000, X_test_new5000, y_train_new5000, y_test_new5000 = train_test_split(X_new5000, y_new5000, test_size=0.2, random_state=1999)"
   ]
  },
  {
   "cell_type": "code",
   "execution_count": 25,
   "id": "2aadab5e",
   "metadata": {},
   "outputs": [],
   "source": [
    "imputer = SimpleImputer(strategy='mean')\n",
    "\n",
    "X_train_imputed_new5000 = imputer.fit_transform(X_train_new5000)\n",
    "X_test_imputed_new5000 = imputer.transform(X_test_new5000)"
   ]
  },
  {
   "cell_type": "code",
   "execution_count": 26,
   "id": "99273221",
   "metadata": {
    "scrolled": true
   },
   "outputs": [
    {
     "data": {
      "text/html": [
       "<style>#sk-container-id-2 {color: black;background-color: white;}#sk-container-id-2 pre{padding: 0;}#sk-container-id-2 div.sk-toggleable {background-color: white;}#sk-container-id-2 label.sk-toggleable__label {cursor: pointer;display: block;width: 100%;margin-bottom: 0;padding: 0.3em;box-sizing: border-box;text-align: center;}#sk-container-id-2 label.sk-toggleable__label-arrow:before {content: \"▸\";float: left;margin-right: 0.25em;color: #696969;}#sk-container-id-2 label.sk-toggleable__label-arrow:hover:before {color: black;}#sk-container-id-2 div.sk-estimator:hover label.sk-toggleable__label-arrow:before {color: black;}#sk-container-id-2 div.sk-toggleable__content {max-height: 0;max-width: 0;overflow: hidden;text-align: left;background-color: #f0f8ff;}#sk-container-id-2 div.sk-toggleable__content pre {margin: 0.2em;color: black;border-radius: 0.25em;background-color: #f0f8ff;}#sk-container-id-2 input.sk-toggleable__control:checked~div.sk-toggleable__content {max-height: 200px;max-width: 100%;overflow: auto;}#sk-container-id-2 input.sk-toggleable__control:checked~label.sk-toggleable__label-arrow:before {content: \"▾\";}#sk-container-id-2 div.sk-estimator input.sk-toggleable__control:checked~label.sk-toggleable__label {background-color: #d4ebff;}#sk-container-id-2 div.sk-label input.sk-toggleable__control:checked~label.sk-toggleable__label {background-color: #d4ebff;}#sk-container-id-2 input.sk-hidden--visually {border: 0;clip: rect(1px 1px 1px 1px);clip: rect(1px, 1px, 1px, 1px);height: 1px;margin: -1px;overflow: hidden;padding: 0;position: absolute;width: 1px;}#sk-container-id-2 div.sk-estimator {font-family: monospace;background-color: #f0f8ff;border: 1px dotted black;border-radius: 0.25em;box-sizing: border-box;margin-bottom: 0.5em;}#sk-container-id-2 div.sk-estimator:hover {background-color: #d4ebff;}#sk-container-id-2 div.sk-parallel-item::after {content: \"\";width: 100%;border-bottom: 1px solid gray;flex-grow: 1;}#sk-container-id-2 div.sk-label:hover label.sk-toggleable__label {background-color: #d4ebff;}#sk-container-id-2 div.sk-serial::before {content: \"\";position: absolute;border-left: 1px solid gray;box-sizing: border-box;top: 0;bottom: 0;left: 50%;z-index: 0;}#sk-container-id-2 div.sk-serial {display: flex;flex-direction: column;align-items: center;background-color: white;padding-right: 0.2em;padding-left: 0.2em;position: relative;}#sk-container-id-2 div.sk-item {position: relative;z-index: 1;}#sk-container-id-2 div.sk-parallel {display: flex;align-items: stretch;justify-content: center;background-color: white;position: relative;}#sk-container-id-2 div.sk-item::before, #sk-container-id-2 div.sk-parallel-item::before {content: \"\";position: absolute;border-left: 1px solid gray;box-sizing: border-box;top: 0;bottom: 0;left: 50%;z-index: -1;}#sk-container-id-2 div.sk-parallel-item {display: flex;flex-direction: column;z-index: 1;position: relative;background-color: white;}#sk-container-id-2 div.sk-parallel-item:first-child::after {align-self: flex-end;width: 50%;}#sk-container-id-2 div.sk-parallel-item:last-child::after {align-self: flex-start;width: 50%;}#sk-container-id-2 div.sk-parallel-item:only-child::after {width: 0;}#sk-container-id-2 div.sk-dashed-wrapped {border: 1px dashed gray;margin: 0 0.4em 0.5em 0.4em;box-sizing: border-box;padding-bottom: 0.4em;background-color: white;}#sk-container-id-2 div.sk-label label {font-family: monospace;font-weight: bold;display: inline-block;line-height: 1.2em;}#sk-container-id-2 div.sk-label-container {text-align: center;}#sk-container-id-2 div.sk-container {/* jupyter's `normalize.less` sets `[hidden] { display: none; }` but bootstrap.min.css set `[hidden] { display: none !important; }` so we also need the `!important` here to be able to override the default hidden behavior on the sphinx rendered scikit-learn.org. See: https://github.com/scikit-learn/scikit-learn/issues/21755 */display: inline-block !important;position: relative;}#sk-container-id-2 div.sk-text-repr-fallback {display: none;}</style><div id=\"sk-container-id-2\" class=\"sk-top-container\"><div class=\"sk-text-repr-fallback\"><pre>RandomForestClassifier()</pre><b>In a Jupyter environment, please rerun this cell to show the HTML representation or trust the notebook. <br />On GitHub, the HTML representation is unable to render, please try loading this page with nbviewer.org.</b></div><div class=\"sk-container\" hidden><div class=\"sk-item\"><div class=\"sk-estimator sk-toggleable\"><input class=\"sk-toggleable__control sk-hidden--visually\" id=\"sk-estimator-id-2\" type=\"checkbox\" checked><label for=\"sk-estimator-id-2\" class=\"sk-toggleable__label sk-toggleable__label-arrow\">RandomForestClassifier</label><div class=\"sk-toggleable__content\"><pre>RandomForestClassifier()</pre></div></div></div></div></div>"
      ],
      "text/plain": [
       "RandomForestClassifier()"
      ]
     },
     "execution_count": 26,
     "metadata": {},
     "output_type": "execute_result"
    }
   ],
   "source": [
    "model_new5000 = RandomForestClassifier()\n",
    "model.fit(X_train_imputed_new5000, y_train_new5000)"
   ]
  },
  {
   "cell_type": "code",
   "execution_count": 27,
   "id": "426f3eba",
   "metadata": {},
   "outputs": [
    {
     "name": "stdout",
     "output_type": "stream",
     "text": [
      "Accuracy: 0.9885945548197204\n"
     ]
    }
   ],
   "source": [
    "y_pred_new5000 = model.predict(X_test_imputed_new5000)\n",
    "accuracy_new5000 = accuracy_score(y_test_new5000, y_pred_new5000)\n",
    "print(\"Accuracy:\", accuracy_new5000)"
   ]
  },
  {
   "cell_type": "code",
   "execution_count": 28,
   "id": "048c1940",
   "metadata": {},
   "outputs": [
    {
     "name": "stdout",
     "output_type": "stream",
     "text": [
      "[[ 166    0    0    0    0    1]\n",
      " [   0 1089    1    0    0    0]\n",
      " [   2    5  105    0    0    1]\n",
      " [   0    1    0   24    0    3]\n",
      " [   0    0    0    0  301    0]\n",
      " [   0   13    1    0    3 1002]]\n"
     ]
    }
   ],
   "source": [
    "# Assuming you have the predicted labels (y_pred) and actual labels (y_test)\n",
    "cm_new5000 = confusion_matrix(y_test_new5000, y_pred_new5000)\n",
    "\n",
    "print(cm_new5000)"
   ]
  },
  {
   "cell_type": "code",
   "execution_count": 60,
   "id": "14449716",
   "metadata": {},
   "outputs": [
    {
     "name": "stdout",
     "output_type": "stream",
     "text": [
      "Int_Cleaner: 168\n",
      "Int_Client: 1108\n",
      "Jolt: 107\n",
      "Run: 24\n",
      "TS: 304\n",
      "background: 1007\n"
     ]
    }
   ],
   "source": [
    "# Count the occurrences of each unique value\n",
    "unique_values, value_counts = np.unique(y_pred_new5000, return_counts=True)\n",
    "\n",
    "# Print the unique values and their counts\n",
    "for value, count in zip(unique_values, value_counts):\n",
    "    print(f\"{value}: {count}\")"
   ]
  },
  {
   "cell_type": "code",
   "execution_count": 62,
   "id": "352b0cbf",
   "metadata": {},
   "outputs": [
    {
     "data": {
      "text/plain": [
       "['Int_Cleaner', 'Int_Client', 'Jolt', 'Run', 'TS', 'background']"
      ]
     },
     "execution_count": 62,
     "metadata": {},
     "output_type": "execute_result"
    }
   ],
   "source": [
    "sorted(class_labels)"
   ]
  },
  {
   "cell_type": "code",
   "execution_count": 65,
   "id": "63120b11",
   "metadata": {},
   "outputs": [
    {
     "data": {
      "text/plain": [
       "array(['background', 'Int_Client', 'TS', 'Jolt', 'Int_Cleaner', 'Run'],\n",
       "      dtype=object)"
      ]
     },
     "execution_count": 65,
     "metadata": {},
     "output_type": "execute_result"
    }
   ],
   "source": [
    "merged_df['Interaction'].unique()"
   ]
  },
  {
   "cell_type": "code",
   "execution_count": 66,
   "id": "a314a008",
   "metadata": {
    "scrolled": false
   },
   "outputs": [
    {
     "data": {
      "image/png": "[encoded data removed]",
      "text/plain": [
       "<Figure size 640x480 with 2 Axes>"
      ]
     },
     "metadata": {},
     "output_type": "display_data"
    }
   ],
   "source": [
    "# Define the class labels\n",
    "class_labels_new5000 = np.sort(merged_df['Interaction'].unique())\n",
    "\n",
    "# Create the confusion matrix\n",
    "cm_new5000 = np.array(cm_new5000)\n",
    "\n",
    "# Create a figure and axis\n",
    "fig, ax = plt.subplots()\n",
    "im = ax.imshow(cm_new5000, cmap='Blues')\n",
    "\n",
    "# Set axis labels\n",
    "ax.set_xticks(np.arange(len(class_labels_new5000)))\n",
    "ax.set_yticks(np.arange(len(class_labels_new5000)))\n",
    "ax.set_xticklabels(class_labels_new5000, rotation=45)\n",
    "ax.set_yticklabels(class_labels_new5000)\n",
    "\n",
    "\n",
    "# Add labels to each cell\n",
    "for i in range(len(class_labels_new5000)):\n",
    "    for j in range(len(class_labels_new5000)):\n",
    "        text = ax.text(j, i, cm_new5000[i, j], ha='center', va='center', color='orange')\n",
    "\n",
    "# Add colorbar\n",
    "cbar = ax.figure.colorbar(im, ax=ax)\n",
    "\n",
    "# Set title and labels\n",
    "ax.set_title('Confusion Matrix')\n",
    "ax.set_xlabel('Predicted Label')\n",
    "ax.set_ylabel('True Label')\n",
    "\n",
    "# Show the plot\n",
    "plt.show()"
   ]
  },
  {
   "cell_type": "markdown",
   "id": "b2ce025e",
   "metadata": {},
   "source": [
    "---\n",
    "---\n",
    "---\n",
    "---"
   ]
  },
  {
   "cell_type": "code",
   "execution_count": 73,
   "id": "2b18fab5",
   "metadata": {},
   "outputs": [
    {
     "name": "stdout",
     "output_type": "stream",
     "text": [
      "Selected Features:\n",
      "Client_Mouth\n",
      "Client_Mouth.1\n",
      "Client_Spine_head.1\n",
      "Client_Spine_tail\n",
      "Client_Spine_tail.1\n",
      "Client_Body_top1\n",
      "Client_Body_top1.1\n",
      "Client_Body_top2\n",
      "Client_Body_top2.1\n",
      "Client_Body_bot1\n",
      "Client_Body_bot1.1\n",
      "Client_Body_bot2\n",
      "Client_Body_bot2.1\n",
      "Client_Tail\n",
      "Client_Tail_Top\n",
      "Client_Tail_Top.1\n",
      "Client_Tail_Bot\n",
      "Client_Tail_Bot.1\n",
      "Cleaner_Mouth\n",
      "Cleaner_Mouth.1\n",
      "Cleaner_Spine1\n",
      "Cleaner_Spine1.1\n",
      "Cleaner_Spine2\n",
      "Cleaner_Spine2.1\n",
      "Cleaner_Tail\n",
      "Cleaner_Tail.1\n"
     ]
    }
   ],
   "source": [
    "# Create Lasso model for feature selection\n",
    "lasso = Lasso(alpha=0.1, max_iter=10000)  # Adjust the alpha parameter as needed\n",
    "\n",
    "# Perform feature selection\n",
    "sfm = SelectFromModel(lasso)\n",
    "X_train_selected = sfm.fit_transform(X_train_imputed_new5000, y_train_encoded)\n",
    "\n",
    "# Get the selected feature indices\n",
    "selected_feature_indices = sfm.get_support(indices=True)\n",
    "\n",
    "# Get the selected feature names\n",
    "selected_feature_names = X_train.columns[selected_feature_indices]\n",
    "\n",
    "# Print the selected feature names\n",
    "print(\"Selected Features:\")\n",
    "for feature_name in selected_feature_names:\n",
    "    print(feature_name)"
   ]
  },
  {
   "cell_type": "markdown",
   "id": "ce9f3e49",
   "metadata": {},
   "source": [
    "---\n",
    "---\n",
    "---"
   ]
  },
  {
   "cell_type": "code",
   "execution_count": 83,
   "id": "8b21afb0",
   "metadata": {},
   "outputs": [],
   "source": [
    "columns = [1,2,4,5,7,8,10,11,13,14,16,17,19,20,22,23,25,26,28,29,31,32,34,35,37,38,40,41]"
   ]
  },
  {
   "cell_type": "code",
   "execution_count": 84,
   "id": "0fe77116",
   "metadata": {},
   "outputs": [],
   "source": [
    "X_new5000_featuresselection = undersampled_df.iloc[:, columns]  # Select columns 1 to 42 as features\n",
    "y_new5000_featuresselection = undersampled_df.iloc[:, 0]     # Select column 0 as the target variable"
   ]
  },
  {
   "cell_type": "code",
   "execution_count": 86,
   "id": "6ca7dea2",
   "metadata": {},
   "outputs": [],
   "source": [
    "X_train_new5000_featuresselection, X_test_new5000_featuresselection, y_train_new5000_featuresselection, y_test_new5000_featuresselection = train_test_split(X_new5000_featuresselection, y_new5000_featuresselection, test_size=0.2, random_state=1999)"
   ]
  },
  {
   "cell_type": "code",
   "execution_count": 87,
   "id": "9ebf342c",
   "metadata": {},
   "outputs": [],
   "source": [
    "imputer = SimpleImputer(strategy='mean')\n",
    "\n",
    "X_train_imputed_new5000_featuresselection = imputer.fit_transform(X_train_new5000_featuresselection)\n",
    "X_test_imputed_new5000_featuresselection = imputer.transform(X_test_new5000_featuresselection)"
   ]
  },
  {
   "cell_type": "code",
   "execution_count": 88,
   "id": "4db08dd5",
   "metadata": {
    "scrolled": true
   },
   "outputs": [
    {
     "data": {
      "text/html": [
       "<style>#sk-container-id-3 {color: black;background-color: white;}#sk-container-id-3 pre{padding: 0;}#sk-container-id-3 div.sk-toggleable {background-color: white;}#sk-container-id-3 label.sk-toggleable__label {cursor: pointer;display: block;width: 100%;margin-bottom: 0;padding: 0.3em;box-sizing: border-box;text-align: center;}#sk-container-id-3 label.sk-toggleable__label-arrow:before {content: \"▸\";float: left;margin-right: 0.25em;color: #696969;}#sk-container-id-3 label.sk-toggleable__label-arrow:hover:before {color: black;}#sk-container-id-3 div.sk-estimator:hover label.sk-toggleable__label-arrow:before {color: black;}#sk-container-id-3 div.sk-toggleable__content {max-height: 0;max-width: 0;overflow: hidden;text-align: left;background-color: #f0f8ff;}#sk-container-id-3 div.sk-toggleable__content pre {margin: 0.2em;color: black;border-radius: 0.25em;background-color: #f0f8ff;}#sk-container-id-3 input.sk-toggleable__control:checked~div.sk-toggleable__content {max-height: 200px;max-width: 100%;overflow: auto;}#sk-container-id-3 input.sk-toggleable__control:checked~label.sk-toggleable__label-arrow:before {content: \"▾\";}#sk-container-id-3 div.sk-estimator input.sk-toggleable__control:checked~label.sk-toggleable__label {background-color: #d4ebff;}#sk-container-id-3 div.sk-label input.sk-toggleable__control:checked~label.sk-toggleable__label {background-color: #d4ebff;}#sk-container-id-3 input.sk-hidden--visually {border: 0;clip: rect(1px 1px 1px 1px);clip: rect(1px, 1px, 1px, 1px);height: 1px;margin: -1px;overflow: hidden;padding: 0;position: absolute;width: 1px;}#sk-container-id-3 div.sk-estimator {font-family: monospace;background-color: #f0f8ff;border: 1px dotted black;border-radius: 0.25em;box-sizing: border-box;margin-bottom: 0.5em;}#sk-container-id-3 div.sk-estimator:hover {background-color: #d4ebff;}#sk-container-id-3 div.sk-parallel-item::after {content: \"\";width: 100%;border-bottom: 1px solid gray;flex-grow: 1;}#sk-container-id-3 div.sk-label:hover label.sk-toggleable__label {background-color: #d4ebff;}#sk-container-id-3 div.sk-serial::before {content: \"\";position: absolute;border-left: 1px solid gray;box-sizing: border-box;top: 0;bottom: 0;left: 50%;z-index: 0;}#sk-container-id-3 div.sk-serial {display: flex;flex-direction: column;align-items: center;background-color: white;padding-right: 0.2em;padding-left: 0.2em;position: relative;}#sk-container-id-3 div.sk-item {position: relative;z-index: 1;}#sk-container-id-3 div.sk-parallel {display: flex;align-items: stretch;justify-content: center;background-color: white;position: relative;}#sk-container-id-3 div.sk-item::before, #sk-container-id-3 div.sk-parallel-item::before {content: \"\";position: absolute;border-left: 1px solid gray;box-sizing: border-box;top: 0;bottom: 0;left: 50%;z-index: -1;}#sk-container-id-3 div.sk-parallel-item {display: flex;flex-direction: column;z-index: 1;position: relative;background-color: white;}#sk-container-id-3 div.sk-parallel-item:first-child::after {align-self: flex-end;width: 50%;}#sk-container-id-3 div.sk-parallel-item:last-child::after {align-self: flex-start;width: 50%;}#sk-container-id-3 div.sk-parallel-item:only-child::after {width: 0;}#sk-container-id-3 div.sk-dashed-wrapped {border: 1px dashed gray;margin: 0 0.4em 0.5em 0.4em;box-sizing: border-box;padding-bottom: 0.4em;background-color: white;}#sk-container-id-3 div.sk-label label {font-family: monospace;font-weight: bold;display: inline-block;line-height: 1.2em;}#sk-container-id-3 div.sk-label-container {text-align: center;}#sk-container-id-3 div.sk-container {/* jupyter's `normalize.less` sets `[hidden] { display: none; }` but bootstrap.min.css set `[hidden] { display: none !important; }` so we also need the `!important` here to be able to override the default hidden behavior on the sphinx rendered scikit-learn.org. See: https://github.com/scikit-learn/scikit-learn/issues/21755 */display: inline-block !important;position: relative;}#sk-container-id-3 div.sk-text-repr-fallback {display: none;}</style><div id=\"sk-container-id-3\" class=\"sk-top-container\"><div class=\"sk-text-repr-fallback\"><pre>RandomForestClassifier()</pre><b>In a Jupyter environment, please rerun this cell to show the HTML representation or trust the notebook. <br />On GitHub, the HTML representation is unable to render, please try loading this page with nbviewer.org.</b></div><div class=\"sk-container\" hidden><div class=\"sk-item\"><div class=\"sk-estimator sk-toggleable\"><input class=\"sk-toggleable__control sk-hidden--visually\" id=\"sk-estimator-id-3\" type=\"checkbox\" checked><label for=\"sk-estimator-id-3\" class=\"sk-toggleable__label sk-toggleable__label-arrow\">RandomForestClassifier</label><div class=\"sk-toggleable__content\"><pre>RandomForestClassifier()</pre></div></div></div></div></div>"
      ],
      "text/plain": [
       "RandomForestClassifier()"
      ]
     },
     "execution_count": 88,
     "metadata": {},
     "output_type": "execute_result"
    }
   ],
   "source": [
    "model_new5000_featuresselection = RandomForestClassifier()\n",
    "model.fit(X_train_imputed_new5000_featuresselection, y_train_new5000_featuresselection)"
   ]
  },
  {
   "cell_type": "code",
   "execution_count": 89,
   "id": "1b47eb89",
   "metadata": {},
   "outputs": [
    {
     "name": "stdout",
     "output_type": "stream",
     "text": [
      "Accuracy: 0.9874908020603385\n"
     ]
    }
   ],
   "source": [
    "y_pred_new5000_featuresselection = model.predict(X_test_imputed_new5000_featuresselection)\n",
    "accuracy_new5000_featuresselection = accuracy_score(y_test_new5000_featuresselection, y_pred_new5000_featuresselection)\n",
    "print(\"Accuracy:\", accuracy_new5000_featuresselection)"
   ]
  },
  {
   "cell_type": "code",
   "execution_count": 90,
   "id": "cf2fb745",
   "metadata": {},
   "outputs": [
    {
     "name": "stdout",
     "output_type": "stream",
     "text": [
      "[[ 167    0    0    0    0    0]\n",
      " [   0 1088    1    0    0    1]\n",
      " [   2    5   99    0    1    6]\n",
      " [   0    1    0   26    0    1]\n",
      " [   0    0    0    0  301    0]\n",
      " [   0   12    4    0    0 1003]]\n"
     ]
    }
   ],
   "source": [
    "# Assuming you have the predicted labels (y_pred) and actual labels (y_test)\n",
    "cm_new5000_featuresselection = confusion_matrix(y_test_new5000_featuresselection, y_pred_new5000_featuresselection)\n",
    "\n",
    "print(cm_new5000_featuresselection)"
   ]
  },
  {
   "cell_type": "code",
   "execution_count": 91,
   "id": "f814fd25",
   "metadata": {
    "scrolled": false
   },
   "outputs": [
    {
     "data": {
      "image/png": "[encoded data removed]",
      "text/plain": [
       "<Figure size 640x480 with 2 Axes>"
      ]
     },
     "metadata": {},
     "output_type": "display_data"
    }
   ],
   "source": [
    "# Define the class labels\n",
    "class_labels_new5000_featuresselection = np.sort(merged_df['Interaction'].unique())\n",
    "\n",
    "# Create the confusion matrix\n",
    "cm_new5000_featuresselection = np.array(cm_new5000_featuresselection)\n",
    "\n",
    "# Create a figure and axis\n",
    "fig, ax = plt.subplots()\n",
    "im = ax.imshow(cm_new5000_featuresselection, cmap='Blues')\n",
    "\n",
    "# Set axis labels\n",
    "ax.set_xticks(np.arange(len(class_labels_new5000_featuresselection)))\n",
    "ax.set_yticks(np.arange(len(class_labels_new5000_featuresselection)))\n",
    "ax.set_xticklabels(class_labels_new5000_featuresselection, rotation=45)\n",
    "ax.set_yticklabels(class_labels_new5000_featuresselection)\n",
    "\n",
    "\n",
    "# Add labels to each cell\n",
    "for i in range(len(class_labels_new5000_featuresselection)):\n",
    "    for j in range(len(class_labels_new5000_featuresselection)):\n",
    "        text = ax.text(j, i, cm_new5000_featuresselection[i, j], ha='center', va='center', color='orange')\n",
    "\n",
    "# Add colorbar\n",
    "cbar = ax.figure.colorbar(im, ax=ax)\n",
    "\n",
    "# Set title and labels\n",
    "ax.set_title('Confusion Matrix')\n",
    "ax.set_xlabel('Predicted Label')\n",
    "ax.set_ylabel('True Label')\n",
    "\n",
    "# Show the plot\n",
    "plt.show()"
   ]
  },
  {
   "cell_type": "code",
   "execution_count": null,
   "id": "5ef600fe",
   "metadata": {},
   "outputs": [],
   "source": []
  },
  {
   "cell_type": "code",
   "execution_count": null,
   "id": "47cc1857",
   "metadata": {},
   "outputs": [],
   "source": []
  },
  {
   "cell_type": "code",
   "execution_count": null,
   "id": "3ef031c7",
   "metadata": {},
   "outputs": [],
   "source": []
  }
 ],
 "metadata": {
  "kernelspec": {
   "display_name": "Python 3 (ipykernel)",
   "language": "python",
   "name": "python3"
  },
  "language_info": {
   "codemirror_mode": {
    "name": "ipython",
    "version": 3
   },
   "file_extension": ".py",
   "mimetype": "text/x-python",
   "name": "python",
   "nbconvert_exporter": "python",
   "pygments_lexer": "ipython3",
   "version": "3.10.9"
  }
 },
 "nbformat": 4,
 "nbformat_minor": 5
}
